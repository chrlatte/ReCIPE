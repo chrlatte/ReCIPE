{
 "cells": [
  {
   "attachments": {},
   "cell_type": "markdown",
   "metadata": {},
   "source": [
    "d2_ic100_small"
   ]
  },
  {
   "attachments": {},
   "cell_type": "markdown",
   "metadata": {},
   "source": []
  },
  {
   "cell_type": "code",
   "execution_count": 1,
   "metadata": {},
   "outputs": [],
   "source": [
    "# imports:\n",
    "\n",
    "# standard libraries\n",
    "import numpy as np\n",
    "import pandas as pd\n",
    "import matplotlib.pyplot as plt\n",
    "# library used for functional enrichment analysis\n",
    "from func_e.FUNC_E import FUNC_E  # a method that can do funtional enrichment analysis!\n",
    "import func_e.vocabs.all as vocabs\n",
    "# following code is necessary as some functions used in the funcE class produce future warnings but i can't fix it as it is not my code\n",
    "import warnings\n",
    "warnings.simplefilter(action='ignore', category=FutureWarning)\n",
    "\n",
    "# importing the custom classes i built\n",
    "from matrix_class import ProteinMatrix # ppi matrix \n",
    "from cluster_class import AllClusters # dictionary to hold all clusters (in form number of cluster : list of proteins in that cluster)\n",
    "from degreelist_class import DegreeList # creates a list of all proteins in order of their degree\n",
    "\n",
    "# helper functions for setting up program\n",
    "from recipe_utils import initialize_matrix_clusters_degreelist\n",
    "from recipe_utils import find_clusters_and_proteins_together\n",
    "\n",
    "# helper functions for functional enrichment\n",
    "from recipe_utils import print_querylist_of_clusters_to_file\n",
    "from recipe_utils import print_protein_background_to_file\n",
    "from recipe_utils import create_term_mapping_list\n",
    "from recipe_utils import get_initialized_fe"
   ]
  },
  {
   "attachments": {},
   "cell_type": "markdown",
   "metadata": {},
   "source": [
    " **must change filenames:**"
   ]
  },
  {
   "cell_type": "code",
   "execution_count": 2,
   "metadata": {},
   "outputs": [],
   "source": [
    "interactions_file = \"data/interactions/2_ppi_inweb_v2.txt\"\n",
    "clusters_file = \"data/d2_ic100_small/d2_ic100_small.json\""
   ]
  },
  {
   "cell_type": "code",
   "execution_count": 3,
   "metadata": {},
   "outputs": [],
   "source": [
    "matrix, clusters, degreelist = initialize_matrix_clusters_degreelist(interactions_filepath=interactions_file, clusters_filepath=clusters_file)"
   ]
  },
  {
   "attachments": {},
   "cell_type": "markdown",
   "metadata": {},
   "source": [
    "*may want to change parameters below:*"
   ]
  },
  {
   "cell_type": "code",
   "execution_count": 4,
   "metadata": {},
   "outputs": [],
   "source": [
    "sqrt_qualifying_clusters, sqrt_qualifying_proteins = find_clusters_and_proteins_together(matrix, clusters, degreelist, cluster_ratio=0, cluster_constant=2, use_sqrt=True, protein_ratio=1, protein_constant=0)"
   ]
  },
  {
   "cell_type": "code",
   "execution_count": 5,
   "metadata": {},
   "outputs": [
    {
     "data": {
      "text/plain": [
       "{169: ['EP300']}"
      ]
     },
     "execution_count": 5,
     "metadata": {},
     "output_type": "execute_result"
    }
   ],
   "source": [
    "sqrt_qualifying_proteins"
   ]
  },
  {
   "cell_type": "code",
   "execution_count": 6,
   "metadata": {},
   "outputs": [],
   "source": [
    "# from recipe_utils import top_n_proteins\n",
    "\n",
    "# three_qualifying_proteins = top_n_proteins(sqrt_qualifying_proteins, n=3) \n",
    "# three_qualifying_proteins"
   ]
  },
  {
   "cell_type": "code",
   "execution_count": 7,
   "metadata": {},
   "outputs": [],
   "source": [
    "# from recipe_utils import get_cluster_connectivity\n",
    "\n",
    "# original_cluster_connectivity = get_cluster_connectivity(matrix, degreelist, clusters, {}, sort_it=False)\n",
    "# new_cluster_connectivity = get_cluster_connectivity(matrix, degreelist, clusters, added_proteins=sqrt_qualifying_proteins, sort_it=False)\n",
    "\n",
    "# from recipe_utils import calculate_connectivity_difference\n",
    "\n",
    "# difference = calculate_connectivity_difference(original_cluster_connectivity, new_cluster_connectivity, sort_it=True)\n",
    "# difference"
   ]
  },
  {
   "cell_type": "code",
   "execution_count": null,
   "metadata": {},
   "outputs": [],
   "source": []
  },
  {
   "attachments": {},
   "cell_type": "markdown",
   "metadata": {},
   "source": [
    "### Functional Enrichment Analysis"
   ]
  },
  {
   "cell_type": "code",
   "execution_count": 8,
   "metadata": {},
   "outputs": [],
   "source": [
    "# create_term_mapping_list(\"data/go_labels/dream3_go.tsv\", \"data/go_labels/d3_term_mapping.tsv\")"
   ]
  },
  {
   "attachments": {},
   "cell_type": "markdown",
   "metadata": {},
   "source": [
    "**will need to the directory below**"
   ]
  },
  {
   "cell_type": "code",
   "execution_count": 9,
   "metadata": {},
   "outputs": [],
   "source": [
    "directory = \"data/d2_ic100_small/\"\n",
    "term_mapping_filepath = \"data/go_labels/d2_term_mapping.tsv\""
   ]
  },
  {
   "cell_type": "code",
   "execution_count": 10,
   "metadata": {},
   "outputs": [],
   "source": [
    "background_proteins_filepath = directory + \"background_proteinlist.txt\"\n",
    "og_query_filepath = directory + \"original_clusters.txt\"\n",
    "sqrt_query_filepath = directory + \"sqrt_clusters.txt\"\n",
    "# three_query_filepath = directory + \"three_prot_clusters.txt\""
   ]
  },
  {
   "attachments": {},
   "cell_type": "markdown",
   "metadata": {},
   "source": [
    "*print to files*"
   ]
  },
  {
   "cell_type": "code",
   "execution_count": 11,
   "metadata": {},
   "outputs": [],
   "source": [
    "# use functions to print info to files: (annoying, but need to get info into format used for funcE package)\n",
    "# 1) a background protein list to be used for functional enrichment analysis\n",
    "print_protein_background_to_file(matrix, background_proteins_filepath) \n",
    "# 3) not a file, but need to establish a background of all GO terms! (to be used for functional enrichment analysis)\n",
    "background_go_terms = vocabs.getTerms(['GO'])\n",
    "\n",
    "# continue printing info to files to be used in functional enrichment analysis:\n",
    "# 4) print original clusters to a file\n",
    "print_querylist_of_clusters_to_file(clusters, clusters.get_all_cluster_labels(), og_query_filepath)\n",
    "# 5) print updated clusters to a file (just append the function to include the dictionary of qualifying proteins)\n",
    "print_querylist_of_clusters_to_file(clusters, clusters.get_all_cluster_labels(), sqrt_query_filepath, sqrt_qualifying_proteins)\n",
    "# print_querylist_of_clusters_to_file(clusters, clusters.get_all_cluster_labels(), three_query_filepath, three_qualifying_proteins)"
   ]
  },
  {
   "attachments": {},
   "cell_type": "markdown",
   "metadata": {},
   "source": [
    "*RUN Functional Enrichment:*"
   ]
  },
  {
   "cell_type": "code",
   "execution_count": 12,
   "metadata": {},
   "outputs": [],
   "source": [
    "original_fe = get_initialized_fe(background_proteins_filepath, term_mapping_filepath, termlist = background_go_terms)\n",
    "original_fe.importFiles({'query': og_query_filepath })\n",
    "original_fe.run(cluster=False)\n",
    "\n",
    "sqrt_fe = get_initialized_fe(background_proteins_filepath, term_mapping_filepath, termlist = background_go_terms)\n",
    "sqrt_fe.importFiles({'query': sqrt_query_filepath })\n",
    "sqrt_fe.run(cluster=False)\n",
    "\n",
    "# three_fe = get_initialized_fe(background_proteins_filepath, term_mapping_filepath, termlist = background_go_terms)\n",
    "# three_fe.importFiles({'query': three_query_filepath })\n",
    "# three_fe.run(cluster=False)"
   ]
  },
  {
   "attachments": {},
   "cell_type": "markdown",
   "metadata": {},
   "source": []
  },
  {
   "cell_type": "code",
   "execution_count": 13,
   "metadata": {},
   "outputs": [
    {
     "name": "stdout",
     "output_type": "stream",
     "text": [
      "::::::::::::::::::::::::::SQRT::::::::::::::::::::::::::\n",
      "\n",
      "number of clusters that were updated with proteins: 1\n",
      "\n",
      "number of functionally enriched clusters (modules) out of 379 original clusters: 339\n",
      "number of functionally enriched clusters after addition of all proteins: 339\n",
      "\n",
      "number of significant pvals in original clusters before updating: 1133\n",
      "number of significant pvals in clusters with all proteins added: 1134\n",
      "\n",
      "\n"
     ]
    }
   ],
   "source": [
    "print(f\"::::::::::::::::::::::::::SQRT::::::::::::::::::::::::::\\n\")\n",
    "# print data by the numbers!\n",
    "print(f\"number of clusters that were updated with proteins: {len(sqrt_qualifying_proteins.keys())}\\n\")\n",
    "\n",
    "# clusters that are functionally enriched\n",
    "print(f\"number of functionally enriched clusters (modules) out of {clusters.get_num_clusters()} original clusters: {original_fe.enrichment['Module'].nunique()}\")\n",
    "print(f\"number of functionally enriched clusters after addition of all proteins: {sqrt_fe.enrichment['Module'].nunique()}\")\n",
    "print(f\"\")\n",
    "\n",
    "\n",
    "#significant P-values!!!\n",
    "print(f\"number of significant pvals in original clusters before updating: {original_fe.enrichment['Fishers_pvalue'].count()}\")\n",
    "print(f\"number of significant pvals in clusters with all proteins added: {sqrt_fe.enrichment['Fishers_pvalue'].count()}\")\n",
    "\n",
    "\n",
    "print(f\"\")\n",
    "print(f\"\")"
   ]
  },
  {
   "cell_type": "code",
   "execution_count": 14,
   "metadata": {},
   "outputs": [
    {
     "name": "stdout",
     "output_type": "stream",
     "text": [
      "number of functionally enriched clusters after addition of 3 proteins: 339\n"
     ]
    }
   ],
   "source": [
    "from recipe_utils import top_n_proteins\n",
    "three_sqrt_qualifying_proteins = top_n_proteins(sqrt_qualifying_proteins, n=3)\n",
    "three_sqrt_query_filepath = directory + \"three_prot_clusters.txt\"\n",
    "print_querylist_of_clusters_to_file(clusters, clusters.get_all_cluster_labels(), three_sqrt_query_filepath, three_sqrt_qualifying_proteins)\n",
    "sqrt_three_fe = get_initialized_fe(background_proteins_filepath, term_mapping_filepath, termlist = background_go_terms)\n",
    "sqrt_three_fe.importFiles({'query': three_sqrt_query_filepath })\n",
    "sqrt_three_fe.run(cluster=False)\n",
    "print(f\"number of functionally enriched clusters after addition of 3 proteins: {sqrt_three_fe.enrichment['Module'].nunique()}\")\n"
   ]
  },
  {
   "cell_type": "code",
   "execution_count": 15,
   "metadata": {},
   "outputs": [],
   "source": [
    "half_qualifying_clusters, half_qualifying_proteins = find_clusters_and_proteins_together(matrix, clusters, degreelist, cluster_ratio=0, cluster_constant=2, use_sqrt=False, protein_ratio=.50, protein_constant=0)\n",
    "quarter_qualifying_clusters, quarter_qualifying_proteins = find_clusters_and_proteins_together(matrix, clusters, degreelist, cluster_ratio=0, cluster_constant=2, use_sqrt=False, protein_ratio=.25, protein_constant=0)\n",
    "tenth_qualifying_clusters, tenth_qualifying_proteins = find_clusters_and_proteins_together(matrix, clusters, degreelist, cluster_ratio=0, cluster_constant=2, use_sqrt=False, protein_ratio=.10, protein_constant=0)\n"
   ]
  },
  {
   "cell_type": "code",
   "execution_count": 16,
   "metadata": {},
   "outputs": [
    {
     "name": "stdout",
     "output_type": "stream",
     "text": [
      "number of functionally enriched clusters after addition of 1/2 proteins: 339\n",
      "number of functionally enriched clusters after addition of 1/4 proteins: 340\n",
      "number of functionally enriched clusters after addition of 1/10 proteins: 368\n",
      "{}\n",
      "{133: ['PRDX1', 'DBN1'], 169: ['EP300']}\n",
      "{0: ['PFKP'], 1: ['PML', 'ITGB1', 'TP53'], 2: ['ATP2C1', 'SUMO3', 'SUMO4', 'ATP6V0D1', 'PSMD8', 'CCT3', 'COPB2'], 3: ['PSMD13', 'HSP90AA2'], 5: ['KRT14', 'TNK2', 'MARK2', 'CSNK1A1', 'PRKAB1', 'MAP3K3', 'PTK2B'], 7: ['RPA2', 'APOA1', 'HNRNPL', 'ATR', 'DDB1', 'RPA1'], 9: ['RBL2', 'CAMK2A'], 10: ['DNM1L', 'ATXN1', 'DNAJB1', 'NCOR1', 'RBL2', 'ACTR2'], 12: ['NEDD4L'], 13: ['OSBP', 'MRPS2', 'PLD1', 'NIF3L1', 'PNMA1', 'CIAO1', 'IWS1', 'PRIM1', 'SAE1', 'SUPT4H1', 'CPT1B', 'PPP2R1B', 'CAMK1', 'STRN3', 'LIN7C', 'ZNF622', 'USP7', 'CHKB', 'PI4KA', 'CYFIP1', 'ETF1', 'LBR', 'NUP107', 'ATF2', 'SORCS2', 'PPP2CB', 'CTR9', 'CAMK2G', 'TPR', 'SORT1', 'MAP2', 'RANBP5', 'PRKCD', 'ARHGAP21', 'CDK4', 'AP2A2', 'SDC3', 'PPA1', 'HDAC6', 'PPP2CA', 'EIF5B', 'VPS35', 'SSB', 'BRD3', 'MAP2K2', 'MCM3', 'PDHA1', 'ATR', 'ARPC5L', 'POLR1E', 'MNAT1', 'LEO1', 'CLTB', 'ARRB2', 'ACTA1', 'LOC440926', 'H3F3B', 'TUFM', 'CDC2L5', 'MOBKL1B', 'EIF6', 'VCP', 'MAPK3', 'PFKP', 'PRDX2', 'RPS7P1', 'WEE1', 'PPP6C', 'PPP2R1A', 'CTPS', 'RPA1', 'PTK2B', 'YES1', 'HNRNPC', 'TOP1', 'SMARCA4'], 14: ['WDR68', 'TGFBR1', 'PRKCB1', 'PDPK1'], 15: ['ARIH2', 'RAE1', 'AP3B1', 'PAF1', 'MRPL4', 'PAK1', 'MRPL17', 'BUB3', 'C17orf39', 'PRIM1', 'SAC3D1', 'PFDN6', 'ING3', 'YEATS4', 'WDR5', 'SRCAP', 'ACTR6', 'ZNF622', 'ZNF593', 'STXBP2', 'PNO1', 'ING1', 'NOL14', 'NUP107', 'SMARCD3', 'NMD3', 'GNL2', 'CTR9', 'NSA2', 'RANBP5', 'BMS1', 'SEH1L', 'SMARCD1', 'GTPBP4', 'VDAC3', 'PDHA1', 'PES1', 'KRR1', 'PHB2', 'POLR1E', 'LEO1', 'NOC4L', 'XPO5', 'MAP3K1', 'ACTA1', 'MAP3K3', 'NHP2L1', 'RPL38', 'EIF6', 'GRWD1', 'RPLP1', 'OLA1', 'HDAC1', 'DDX18', 'RPA1'], 16: ['TCF3', 'RPL26L1', 'RAC1', 'MYC', 'RPL37A', 'EIF4A3', 'ACTG2', 'MYBBP1A'], 18: ['AXIN1', 'NGFR', 'APC', 'HDAC3', 'SEPT3', 'HSPA4', 'CFTR', 'SYN2', 'ITPR1', 'AKT1', 'ERBB2', 'RAB8B', 'NUP98', 'TRAF2', 'SMAD3', 'NUDC', 'SYT1', 'SORCS2', 'SORT1', 'CLASP2', 'TBL1XR1', 'ARR3', 'PPM1A', 'CTNNB1', 'ARRB2', 'ACTA1', 'ARRB1', 'HSP90AA2', 'YES1'], 19: ['PRKCD', 'PIK3R1', 'PRKCB1', 'CDK2', 'PPIAP22', 'PPIA'], 21: ['PRKAR2B'], 22: ['SF1', 'PIAS1', 'SUMO4', 'IKBKAP', 'EEF1A2', 'DNAJA3', 'SFPQ'], 25: ['CBX3', 'ACVR1', 'EPS15', 'MAX'], 26: ['FAM96B', 'WDR5', 'NUP107'], 27: ['FGFR1'], 28: ['RRAS', 'MRAS', 'CLK2', 'KDR', 'RRAS2', 'PDGFRB', 'PRKCZ', 'KRAS', 'IGF1R', 'INSR', 'HRAS', 'AKT1', 'TESK2', 'CLK1', 'NTRK1', 'IRS1', 'FER', 'HCK', 'TIAM1', 'TNK2', 'TYK2', 'JAK1', 'RAC1', 'TNK1', 'TP53', 'FRAP1', 'JAK2', 'PTK2', 'PCNA', 'DDB1', 'PDPK1', 'PPP1CB', 'SPDYA'], 29: ['PTPN11'], 30: ['SF3B4'], 31: ['UPF3B', 'NUP98'], 32: ['SMAD2', 'NME2'], 33: ['PTCH1', 'HBA2', 'HBA1', 'FGR', 'ELL2', 'MED9', 'C1QA', 'NDUFV2', 'NDUFA4', 'SNAP25', 'RANBP9', 'FGA', 'MYH7', 'GNAS', 'ENO1', 'VCL', 'CPSF2', 'TUBA8', 'SDHA', 'PTGES2', 'RAB1A', 'SFRS3', 'APLP1', 'VDAC4', 'MCC', 'SLC25A11', 'SETX', 'CPSF1', 'PAPOLA', 'GANAB', 'AFF4', 'SLC25A12', 'IDH3G', 'G3BP2', 'RFC5', 'ACTN2', 'HDGFRP2', 'G3BP1', 'TTLL3', 'SLC25A4', 'MYL12B', 'CPSF3', 'TUBA3D', 'TUBA3C', 'TUFM', 'ATP1A1', 'IKBKE', 'KPNA6', 'SLC25A5', 'HSP90AA2', 'PRDX1', 'PRDX2', 'HNRPD', 'IDH3A', 'OAT', 'CAPZB', 'DBN1', 'HADHB'], 35: ['MCM3', 'ATP1A1'], 36: ['CNTN1', 'FN1'], 38: ['RAD54L', 'SNX4', 'DERL1', 'CHD3', 'NUP214', 'TSC22D1', 'KIF5B', 'ATM', 'NFKB1', 'SFN', 'BCAR1', 'WDR68', 'STAT1', 'TIAM1', 'SAFB2', 'CREBBP', 'MLLT4', 'KRT7', 'MARK3', 'PSMD8', 'HSPA6', 'PSMD13', 'DCD', 'PSMB3', 'FASN', 'RANBP2', 'ACTR2', 'PPIAP22', 'PPIA', 'WEE1', 'PPP1R12A', 'TUBB3', 'ACTG2', 'RPA1', 'ACTC1', 'DBN1', 'TOP1'], 39: ['CCNB1', 'UBE2B', 'GCH1', 'RAD52', 'IKBKB', 'DHRS11', 'PLAA', 'BIN3', 'SOD1', 'UBE1', 'ING1', 'TAF9', 'CUL1', 'TARS', 'VDAC3', 'POLR2H', 'POLR2F', 'COPA', 'POLR2L'], 41: ['LUC7L2', 'TNPO1', 'PPP2CA', 'NHP2L1', 'RANP1', 'CCT5', 'CCT3', 'SLC25A5', 'POLR2C', 'PRDX1', 'HNRPD', 'CAPZB', 'HNRNPC', 'MYBBP1A'], 42: ['AKT1', 'MAP3K2', 'SLC25A6'], 44: ['APLP1', 'MAP3K14', 'CHUK', 'RPL28', 'RPLP1', 'CTPS'], 45: ['PPP2R1A', 'RPA1'], 46: ['INCENP', 'PATL1', 'NUP107', 'VHL', 'SNRPA', 'LSM1', 'PCNA', 'HSP90AA2', 'EIF4G3'], 47: ['ARHGAP15'], 48: ['CHTF18', 'RFC2', 'HIST1H2AH', 'HIST1H2AC'], 49: ['NDUFB9', 'ITGB3', 'CCNB2', 'NDUFV2', 'TPI1', 'RAD23B', 'ACTR8', 'MAD2L1', 'GLUL', 'CAP2', 'IPO13', 'CAP1', 'CAMK1D', 'DDX56', 'PSMD7', 'WDR1', 'POLD1', 'PRKAA2', 'SLC25A12', 'RBM28', 'RAB6C', 'SSRP1', 'PSMA5', 'MCM7', 'PSMB4', 'PLS3', 'RBL2', 'PSMB3', 'PSMB1', 'ABL1', 'PSMA2', 'TUFM', 'PSMB5', 'ATP1A1', 'PSMA1', 'PSMA3', 'PSMC1', 'CCT5', 'PSMC6', 'PRDX1', 'RPS26P8', 'RPS26P10', 'POLE', 'PRDX2', 'PSMD3', 'IPO9', 'CCT8', 'P4HB', 'MMS19', 'RPS26', 'HADHB'], 50: ['MED23', 'NUP107', 'EP300', 'TBP', 'SLC25A6', 'GTF3C3', 'GSK3B', 'RPS10', 'IPO9', 'TOP1', 'HIST1H2AH', 'HIST1H2AC'], 51: ['SEC13'], 52: ['TOP3B', 'ZNF131', 'SYMPK', 'SPG20', 'TCERG1', 'XYLB', 'ASH2L', 'MGA', 'BAT3', 'ARHGDIA', 'RNF2', 'PLSCR1', 'RELB', 'CDC123', 'EIF4H', 'GRINL1B', 'SEC31A', 'OGT', 'C17orf39', 'PNN', 'TJP1', 'TMLHE', 'HIST2H3PS2', 'HIST2H3C', 'UBQLN4', 'NCOR2', 'HCFC1', 'SUMO3', 'KIF5B', 'ATXN1', 'PBRM1', 'BRD4', 'NSFL1C', 'WDR33', 'PAK2', 'FIP1L1', 'U2AF2', 'WDR5', 'ACVR1B', 'WAS', 'CLP1', 'RPS15', 'CPSF2', 'MED10', 'EIF2S2P4', 'NCK2', 'DDX10', 'PCF11', 'PNO1', 'RBM39', 'ATXN2', 'SUMO4', 'ING1', 'ANP32A', 'MLLT1', 'MED7', 'TEC', 'GTF2B', 'EIF1B', 'TEX10', 'PABPC4', 'EIF3J', 'PSMD7', 'WDR68', 'EIF2S2', 'EIF2S1', 'SEC13', 'HDAC4', 'DHX30', 'SUPT3H', 'CCNC', 'RIPK2', 'GSTM3', 'MED6', 'SRP9', 'CDK8', 'SART1', 'CHD4', 'GTF2I', 'TNIK', 'RPAP2', 'CPSF1', 'PRKCD', 'MAP3K2', 'HLA-B', 'DIAPH1', 'DDX17', 'PAK4', 'KPNA4', 'CAPN1', 'MARK2', 'TAF9', 'RNPS1', 'PRPF3', 'ZNF281', 'ATP5J2', 'SMARCD1', 'NCBP2', 'MAX', 'EIF2S3', 'IMPDH2', 'MARK3', 'U2SURP', 'MDN1', 'PSMD8', 'ARAF', 'CSNK1A1', 'ARL1', 'HNRNPL', 'HTATSF1', 'SMARCC1', 'PPP1CA', 'PDHA1', 'KRT10', 'RCC2', 'TSR1', 'PSMD13', 'MYL12A', 'DCD', 'FGFR1', 'KIAA0368', 'MTHFD1', 'BRAF', 'PPM1B', 'CCNH', 'EIF3CL', 'PSMC5', 'CTNNB1', 'HIST1H3J', 'HIST1H3E', 'HIST1H3D', 'HIST1H3C', 'HIST1H3B', 'HIST1H3A', 'H3F3AP6', 'CPSF3', 'MNAT1', 'LEO1', 'NOC4L', 'UBR5', 'HIST2H3A', 'HIST1H3H', 'SSR4', 'TAF6', 'SMC4', 'PRPF8', 'HDLBP', 'MAPK14', 'EIF3A', 'RPN1', 'MAP3K3', 'RANBP2', 'RPL38', 'ARHGAP15', 'PSMD1', 'CDC2L5', 'PCNA', 'NDUFS1', 'SMARCA2', 'IKBKE', 'DDB1', 'DDX39B', 'BAT1', 'GSK3B', 'CDK2', 'RBBP7', 'PSMC1', 'KPNA2', 'CCT5', 'VCP', 'DDX20', 'EIF3C', 'MAT1A', 'RSL1D1', 'MAPK3', 'EIF3B', 'NEK9', 'NOP58', 'IMPDH1', 'SFPQ', 'POLR2C', 'HSP90AA2', 'CCT2', 'RPS10', 'RPLP1', 'TUBA1B', 'AP2M1', 'PPP1CB', 'HDAC1', 'PSMD3', 'TCOF1', 'CCT8', 'P4HB', 'EIF4G3', 'SPDYA', 'MMS19', 'NAT10', 'MYBBP1A', 'CCT4', 'HIST1H2AH', 'HIST1H2AC', 'SMARCA4'], 53: ['UBE2G2', 'PSMA6', 'PSMB3', 'PSMA1', 'PSMA3'], 55: ['HIST1H2AH', 'HIST1H2AC'], 56: ['BTAF1', 'EP300', 'RBL2'], 58: ['KIAA1409', 'TLE4', 'PIGK', 'ACTA2', 'HDAC7A', 'ARF1', 'TCEB2', 'HDAC4', 'PPP1R9B', 'TBL1XR1', 'EP300', 'SRP14', 'PRKACA', 'LUC7L2', 'MARK3', 'PCMT1', 'RPL9P7', 'RPL9', 'TUFM', 'LMO7', 'ABLIM1', 'HIST1H2BM', 'PRDX1', 'TUBA1B', 'HDAC1', 'ACTG2', 'CAPZB', 'DDX1'], 59: ['FOXK2', 'MPHOSPH10', 'PRKAA1', 'MAPKAP1', 'NDUFA5', 'NDUFS2', 'NDUFA8', 'NDUFS3', 'SUPT16H', 'ACTL6A', 'SEC61A1', 'FBXW7', 'MYC', 'SMARCC1', 'PPP1CA', 'RAB6B', 'CCNH', 'BCR', 'IRS4', 'MNAT1', 'HIST1H2BD', 'H2BFS', 'HIST2H2BA', 'HIST1H2BJ', 'HIST3H2BB', 'HIST1H2BB', 'RANBP2', 'ARHGAP15', 'NDUFS1', 'IKBKE', 'HIST1H2BM', 'NOL6', 'KPNA2', 'EIF3C', 'MAT1A', 'CAMK2A', 'HIST2H2BF', 'NEK9', 'PFKP', 'TOP2A', 'PPP1CB', 'HDAC1', 'IPO9', 'CCT8', 'SPDYA', 'TOP1', 'KIAA0664', 'CCT4'], 60: ['GRINL1B', 'SMURF1', 'P4HB'], 61: ['CASK', 'PDGFRB', 'EPHB3', 'RAB15', 'PTPRE', 'NIN', 'MAP6', 'SYN2', 'STRN3', 'SYN1', 'AP3B2', 'CAV1', 'SDHA', 'RAB3A', 'RAB1A', 'MARK1', 'ANP32A', 'CENPF', 'BCAR1', 'ATF2', 'STAT3', 'SERBP1', 'CBL', 'GAK', 'PIK3R2', 'CDK4', 'CHEK2', 'RAC1', 'PPP2CA', 'MARK3', 'SSB', 'MCM3', 'KRT18', 'FGFR1', 'ARPC5L', 'JAK2', 'CLTB', 'MAP3K1', 'ACTA1', 'DGKZ', 'CDC2L5', 'MOBKL1B', 'CDK2', 'CAMK2A', 'PFKP', 'PDPK1', 'PPP2R1A', 'RPA1', 'EIF4B', 'DDX1'], 63: ['EWSR1'], 64: ['KRT5', 'KRT1', 'KRT10'], 65: ['POLE3', 'EPS15', 'RPAP2', 'VDAC3', 'TSR1', 'RRP12', 'CCT5', 'CCT3'], 66: ['MDH2'], 68: ['NAT10'], 69: ['EPC1', 'UBE2D1', 'CCNB1', 'RB1', 'SMAD4', 'EP300', 'ACTN1', 'CTNNB1', 'PPP1CB', 'SPDYA'], 70: ['CDC73', 'LIMK1', 'MLLT1', 'VDAC3', 'BRAF', 'COPA'], 71: ['DGKZ', 'ARRB1'], 73: ['NOTCH1', 'HSPA6', 'CTNNB1', 'KPNA2', 'HDAC1'], 74: ['CD59'], 77: ['TRAF6'], 78: ['SKIL', 'EP300', 'SLC25A6'], 80: ['IMPDH1', 'HIST1H2AH', 'HIST1H2AC'], 81: ['HIST1H1E', 'LMNB1', 'EPHA2', 'SMAD2', 'ADK', 'IARS', 'ABL1', 'PSMD1', 'PFKP', 'PTK2B', 'YES1', 'SMARCA4'], 83: ['SEC13'], 84: ['GALK2', 'DMC1', 'SNIP1', 'CEBPB', 'PGBD3', 'TCF3', 'WASF2', 'BUD13', 'DCP1A', 'PML', 'OGT', 'XAB2', 'TCEA1P2', 'PAK1', 'SMEK2', 'SMEK1', 'GNA11', 'REL', 'EXOC4', 'ITGB1', 'RBX1', 'TMLHE', 'PLRG1', 'CDH1', 'SUPT4H1', 'UBTF', 'MED14', 'GLI3', 'RANBP9', 'LSM7', 'GTF2F1', 'THOC2', 'EIF2C2', 'CCAR1', 'SAPS1', 'PFDN2', 'MYOCD', 'TCEB2', 'C3orf26', 'HCLS1', 'POLR3F', 'PATL1', 'ERCC4', 'SMAD2', 'GEMIN4', 'TUBA8', 'SMAD3', 'CD3EAP', 'NCK2', 'RPA2', 'RAB1A', 'UBE1', 'PRPF19', 'MED7', 'DCP2', 'DMD', 'SFRS3', 'TADA2L', 'RGL3', 'TPR', 'SUPT3H', 'SNRPA', 'LSM1', 'PGD', 'SART1', 'GTF2I', 'TIAM1', 'PRPF4B', 'POLR2K', 'GTF2F2', 'DNAJA1', 'SQRDL', 'CREBBP', 'CDK4', 'CBS', 'AP2A2', 'CAPN1', 'SEC61A1', 'ARHGEF6', 'RNPS1', 'ZNF281', 'RELA', 'HDAC6', 'ATP5J2', 'SMARCD1', 'MRPS22', 'DICER1', 'ARR3', 'U2SURP', 'POLR2G', 'TP53', 'SMARCB1', 'POLR2J', 'SSRP1', 'HNRNPL', 'POLR2I', 'PCAF', 'HTATSF1', 'SMARCC1', 'PSMA5', 'HSPA6', 'SLC25A6', 'PSMB4', 'EIF5AP1', 'PCBP1', 'KIF3A', 'CCNH', 'IGF2BP2', 'POLR1E', 'PSMB3', 'PSMB1', 'UBR5', 'TUBA3D', 'TUBA3C', 'CHUK', 'PSMA2', 'TAF6', 'SMC4', 'PRPF8', 'ATP2A2', 'SAPS3', 'PSMB5', 'POLR2D', 'PSMA1', 'PTK2', 'NDUFS1', 'DDB1', 'DDX39B', 'BAT1', 'PSMA3', 'POLR2H', 'CDK2', 'KPNA2', 'VCP', 'POLR2F', 'DDX20', 'RPN2', 'CCT3', 'COPA', 'POLR2L', 'POLR2C', 'HSP90AA2', 'RPS7P1', 'TOP2A', 'WEE1', 'RPA1', 'TCOF1', 'OAT', 'SMARCC2', 'PRPF6', 'HNRNPC', 'HADHB', 'DDX1', 'MYBBP1A', 'HIST1H2AH', 'HIST1H2AC', 'SMARCA4'], 87: ['ERBB2', 'BTK'], 88: ['CEBPG', 'ATF4', 'FGFR3', 'FUS', 'ATF2', 'CBL', 'EP300', 'PIK3R1', 'ACTN1', 'NHP2L1', 'PTPN11'], 89: ['BUB1B', 'RAD51', 'ITPR1', 'NFKB2', 'TADA2L', 'TAF9', 'PRKACA', 'ITPR3', 'TAF12', 'PCAF', 'RPS27', 'TAF5', 'RPL13AP25', 'TAF6', 'HIST1H2BD', 'H2BFS', 'HIST2H2BA', 'HIST1H2BJ', 'HIST3H2BB', 'HIST1H2BB', 'EIF3A', 'RPL38', 'IKBKE', 'HIST1H2BM', 'EIF3C', 'HIST2H2BF', 'EIF3B', 'PFKP', 'KIAA0664'], 90: ['PIK3R1', 'MYL12B', 'ABL1', 'NHP2L1', 'CAMK2A', 'RPS7P1'], 91: ['INPP5D', 'MAP2K3', 'NDUFB4', 'NDUFA10', 'NDUFA9', 'PTPN6', 'GLI2', 'SLC9A3R1', 'IRS2', 'BAD', 'MAP2K1', 'MAPK10', 'DOK2', 'SFRS11', 'PARD3', 'BCAR1', 'CAMK2B', 'IRS1', 'CAMK2G', 'BTK', 'TNIK', 'PRKCD', 'SYK', 'MAP3K2', 'TYK2', 'PAK4', 'MARK2', 'JAK1', 'RAC1', 'RPS6KA3', 'SRRM1', 'MARK3', 'ARAF', 'CSNK1A1', 'PDHA1', 'BRAF', 'PRKCB1', 'JAK2', 'CBLB', 'TRAF6', 'GSK3B', 'MAPK3', 'PDPK1', 'PTPN11', 'PTK2B'], 92: ['PLCG1'], 93: ['PLCG1', 'CDK2', 'OLA1', 'SMARCA4'], 94: ['HMGB2', 'IRF7', 'RABGGTB', 'UBXN1', 'PEX5', 'TRADD', 'SURF6', 'PNMA1', 'CDC37', 'REL', 'AC004453.8', 'ARID4B', 'CASP8', 'NCOR2', 'RHOA', 'SEC24B', 'ABCF2', 'PRKCI', 'SNORA7A', 'TPM3P4', 'RPS15', 'NFKB2', 'NARS', 'DDX49', 'IKBKG', 'PRPF31', 'ESR1', 'PARD3', 'EIF3G', 'TNFRSF1A', 'EIF1B', 'WDR68', 'MYH14', 'KARS', 'CUL5', 'LRRFIP2', 'STIP1', 'TPM3', 'SVIL', 'DARS', 'CD59', 'MAP3K14', 'CDK4', 'ATAD3A', 'ARHGEF6', 'CUL1', 'SDC3', 'PRPF3', 'BYSL', 'RELA', 'FBXW7', 'SNRP70', 'PPP2CA', 'VPS35', 'MDN1', 'PRPF4', 'TP53', 'PCAF', 'NME2', 'RPL15P3', 'TGFBR1', 'MYL12A', 'RPL9P7', 'RPL9', 'EIF3CL', 'PLS3', 'CTNNB1', 'MNAT1', 'MAP3K1', 'HDLBP', 'EIF3A', 'MAP3K3', 'UPF1', 'IKBKE', 'CLTA', 'DDX39B', 'BAT1', 'RPL28', 'LARP2', 'POLR2H', 'EEF1A2', 'CDK2', 'RBBP7', 'GRWD1', 'EIF3C', 'MAT1A', 'EPRS', 'COPB2', 'COPA', 'POLR2L', 'RPLP1', 'PRDX2', 'PPIAP22', 'PPIA', 'COPG', 'PPP6C', 'PPP2R1A', 'PPP1R12A', 'TUBB3', 'PTPN11', 'HDAC1', 'CTPS', 'ACTG2', 'ACTC1', 'EIF4B', 'P4HB', 'PRPF6', 'DBN1', 'HNRNPC', 'EIF4E'], 95: ['KIAA0664'], 96: ['DDX21', 'PSMD12', 'CDC42', 'PRKACA', 'ATP5J2', 'PRKAR2A', 'HIST1H2BM', 'EIF4E'], 97: ['RPN1'], 98: ['SLC25A5'], 99: ['CCDC101', 'ERBB3', 'GH1', 'FES', 'PKP2', 'SFN', 'BCAR1', 'CBL', 'RACGAP1', 'CBLB'], 100: ['AFF3', 'NASP', 'ALAS2', 'EAF1', 'SRF', 'CCNA1', 'ADHFE1', 'LSM5', 'RP11-297B17.2', 'UPF3B', 'TRIP10', 'PABPN1', 'RBM5', 'SIP1', 'ELAVL1', 'NCBP1', 'SCYE1', 'PGM1', 'BIN3', 'RPS29', 'SRCAP', 'NAF1', 'MRPL27', 'ENO3', 'PATL1', 'C20orf4', 'GEMIN4', 'PCF11', 'PCBP2', 'PRPF19', 'NMD3', 'PPIF', 'WDR36', 'KARS', 'CUL5', 'DARS', 'LSM2', 'SF3B4', 'GTF2F2', 'PABPC3', 'ARD1A', 'RPL29', 'NOL1', 'PRPF3', 'HIST1H1C', 'CTNND1', 'TARS', 'EIF5B', 'PRPF4', 'TP53', 'HNRNPL', 'HTATSF1', 'NOLA3', 'RAB6B', 'PHB', 'BMP2K', 'H1FX', 'PRMT1', 'LEO1', 'EIF3A', 'NHP2L1', 'EIF4A3', 'PCNA', 'RANP1', 'RPL28', 'EEF1A2', 'CDK2', 'RSL1D1', 'RPN2', 'SFPQ', 'RPS26P8', 'RPS26P10', 'RPLP1', 'RBM10', 'HNRPD', 'WEE1', 'PPP2R1A', 'CTPS', 'DDX18', 'TCOF1', 'EIF4G3', 'PRPF6', 'HNRNPC', 'RPS26', 'TOP1', 'NAT10', 'HIST1H2AH', 'HIST1H2AC', 'EIF4E'], 102: ['LASP1', 'FREQ', 'RGL3', 'LSM1', 'LSM2', 'PPA1', 'MAP2K2', 'EIF5AP1', 'UPF1', 'PPP6C'], 103: ['LARP2'], 104: ['RNF11', 'TRAPPC11', 'SPNS1', 'LDB3', 'BRCA1', 'MAD2L1', 'CNOT1'], 106: ['SNAP25', 'BUB1B', 'SMAD3', 'CHKB', 'VHL'], 107: ['PSAT1', 'KARS', 'DARS', 'RPL26L1', 'PGK1', 'PRKACA', 'EIF5B', 'NME2', 'PPP1CA', 'PRKAR2A', 'KIF3A', 'MTHFD1', 'HIST1H3J', 'HIST1H3E', 'HIST1H3D', 'HIST1H3C', 'HIST1H3B', 'HIST1H3A', 'H3F3AP6', 'HIST2H3A', 'HIST1H3H', 'HDLBP', 'LOC440926', 'H3F3B', 'RRP12', 'IKBKE', 'EIF6', 'EEF1A2', 'CDK2', 'GRWD1', 'RPS28', 'HIST2H2BF', 'RPS10', 'RPLP1', 'RPS7P1', 'CTPS', 'DDX18', 'DDX1'], 108: ['RPS12', 'PRKACA', 'HDAC6', 'NOP58'], 109: ['LRP1', 'TP53', 'SFPQ'], 110: ['RBL2', 'PRMT1'], 111: ['TP53'], 112: ['MCC', 'PPP2R1A'], 113: ['APP', 'VDAC2', 'ERCC3', 'PSMB3', 'KIAA0664'], 116: ['SF3B4', 'PRPF6'], 117: ['ACTA1'], 119: ['AP1G1', 'CCDC85B', 'RBBP6', 'TPM3P4', 'IMMT', 'NUP98', 'IKBKG', 'SYNE1', 'CTR9', 'KRT14', 'TPM3', 'ATP6V0D1', 'HIST1H1A', 'ARHGAP21', 'PABPC3', 'PGK1', 'G3BP2', 'MAP3K7IP1', 'MCM3', 'KRT10', 'MTHFD1', 'CHUK', 'HDLBP', 'ACTA1', 'LOC440926', 'H3F3B', 'PSMD1', 'RPL28', 'EEF1A2', 'HSP90AA2', 'RPLP1', 'RBM10', 'PPP2R1A', 'CTPS', 'ACTG2', 'P4HB', 'HNRNPC'], 120: ['KRAS', 'TAF12', 'TBP', 'PTK2'], 121: ['CLU', 'CCNB2', 'DYRK1A', 'MCC', 'HLA-B', 'TRAF6', 'IKBKE', 'PPP1CB', 'SPDYA', 'SMARCC2'], 122: ['ACSF3', 'FAM62C', 'SNORD23', 'ZWILCH', 'KNTC1', 'CNBP', 'MAPT', 'PABPN1L', 'GHR', 'PC', 'CSTF1', 'NFS1', 'ATIC', 'RP11-297B17.2', 'GRAMD1B', 'POLR3H', 'SYNJ2', 'TRIP10', 'WASL', 'CHN1', 'UBE2M', 'GPI', 'SV2B', 'SGK', 'SAE1', 'PGAM2', 'RPL34', 'AARS', 'ASNS', 'SUPT4H1', 'HIST2H3PS2', 'HIST2H3C', 'UBTF', 'SH3YL1', 'HMGCLL1', 'GMPS', 'CORO6', 'ROCK2', 'FXR2', 'MAF1', 'RFC1', 'FZR1', 'IHPK1', 'SHMT1', 'BIN3', 'NUMA1', 'NFX1', 'DUSP4', 'RPS29', 'C3orf26', 'WAS', 'DXO', 'DOM3Z', 'CSTF2', 'PRKD2', 'NET1', 'CLP1', 'MAPK10', 'NARS', 'NOB1', 'PRKAB2', 'TXNL4A', 'GRAP', 'SMAD2', 'NUP98', 'CPSF2', 'STXBP2', 'MED10', 'MAD2L1', 'KIF2C', 'SRPK2', 'PCF11', 'PCBP2', 'FTSJ3', 'DLAT', 'CAP2', 'ATXN2', 'SMC1A', 'CAP1', 'ARHGAP32', 'LARS', 'DDX50', 'MED7', 'SFRS3', 'NTRK1', 'PRKAA1', 'HNRPA3', 'ADK', 'IRS1', 'EIF3J', 'RGL3', 'TAOK1', 'SEC13', 'PRKCE', 'MAPRE1', 'ADCK1', 'SNRPA1', 'ASS1', 'EPS15', 'CSTF3', 'SEC23A', 'KARS', 'HRNR', 'CCNC', 'ALDOA', 'MED6', 'MCC', 'ARFGEF2', 'PGD', 'CDK8', 'STIP1', 'SNRPD3', 'SLIT2', 'PHLPPL', 'DARS', 'RPAP2', 'LSM2', 'PRPF4B', 'POLR2K', 'GTF2F2', 'WDR46', 'PAPOLA', 'GRAMD1A', 'UBE2G2', 'SF3A3', 'RPL29', 'RPL26L1', 'NUP153', 'SF3A2', 'ATAD3B', 'PAK4', 'RPS12', 'AFF4', 'ULK3', 'CUL1', 'RNPS1', 'AURKB', 'SDC3', 'RAC1', 'TNK1', 'LARP7', 'ZNF281', 'PRKAA2', 'ANAPC5', 'PPA1', 'HIST2H2AB', 'HDAC6', 'NCBP2', 'NUP133', 'SRRM1', 'DLSTP', 'SNRP70', 'PPP2CA', 'MARK3', 'U2SURP', 'EIF5B', 'POLR2G', 'PRPF4', 'ARAF', 'POLR2J', 'RPL37A', 'MAP2K2', 'HNRNPL', 'POLR2I', 'PCAF', 'KRI1', 'CSNK1A1L', 'AURKA', 'SF3A1', 'PDHA1', 'ACACB', 'PRKAB1', 'PRKAR2A', 'FRAP1', 'TSR1', 'RPS27', 'SUCLG1', 'PCBP1', 'KIF3A', 'MTHFD1', 'BRAF', 'CCNH', 'BMP2K', 'ATR', 'G3BP1', 'DLD', 'HIST1H3J', 'HIST1H3E', 'HIST1H3D', 'HIST1H3C', 'HIST1H3B', 'HIST1H3A', 'H3F3AP6', 'PIK3C2A', 'MARS', 'CPSF3', 'RPL13AP25', 'MNAT1', 'NOC4L', 'UBR5', 'HIST2H3A', 'HIST1H3H', 'SMC4', 'PRPF8', 'HIST1H2BD', 'H2BFS', 'HIST2H2BA', 'HIST1H2BJ', 'HIST3H2BB', 'HIST1H2BB', 'LOC440926', 'H3F3B', 'POLR2D', 'UPF1', 'RANBP2', 'NHP2L1', 'RPL38', 'DDB1', 'DDX39B', 'BAT1', 'RANP1', 'PSMA3', 'POLR2H', 'HIST1H2BM', 'KPNA2', 'VCP', 'GRWD1', 'POLR2F', 'DDX20', 'BOP1', 'RSL1D1', 'HIST2H2BF', 'EPRS', 'NEK9', 'NOP58', 'POLR2L', 'IMPDH1', 'POLR2C', 'HSP90AA2', 'MPRIP', 'PFKP', 'PDPK1', 'PRDX2', 'RPS7P1', 'HNRPD', 'WEE1', 'PPP6C', 'PPP2R1A', 'CTPS', 'TCOF1', 'CCT8', 'P4HB', 'EIF4G3', 'PRPF6', 'YES1', 'MMS19', 'HNRNPC', 'MYBBP1A', 'CCT4', 'EIF4E'], 123: ['RRAS', 'MRAS', 'RRAS2', 'KRAS', 'HRAS', 'MLLT4'], 124: ['VAMP2', 'ATP2C1', 'CASP3', 'NSF', 'RAB6B', 'PPP2R1A'], 125: ['THOC1', 'METTL1', 'UBE2V1', 'LTA4H', 'HINT1', 'PCBP3', 'TTC4', 'METTL2B', 'ACLY', 'UBXD7', 'RNF11', 'PYCRL', 'SNORD23', 'ZC3H14', 'NUP155', 'EIF1AX', 'AKR1B1', 'TLE1', 'WDR43', 'ARMC3', 'PPP1R7', 'EXOC3', 'ING4', 'ATG9A', 'RAB7A', 'TKT', 'PRDM1', 'HSD17B12', 'RAP1A', 'EIF3H', 'NEDD8', 'GSPT1', 'GRTP1', 'MRPL13', 'NARG1L', 'ATIC', 'NARG1', 'UTP3', 'CAB39', 'CUL4B', 'SFRS2', 'CDKN2A', 'SLC36A1', 'RAB11A', 'EIF3K', 'UBE2M', 'TBCA', 'PSAT1', 'GCH1', 'CYCS', 'CUL3', 'TXN', 'TMED2', 'PIP5K1A', 'EXOSC2', 'RBX1', 'AARS', 'NLE1', 'MCM10', 'BRD2', 'USP15', 'PPP2R2C', 'ABCE1', 'SCYE1', 'CUL2', 'EIF2B5', 'DHRS11', 'PPP2R1B', 'CORO6', 'THOC2', 'GNAS', 'FRY', 'PI4KB', 'PRDX5', 'EIF2B4', 'IHPK1', 'HIPK3', 'DCTPP1', 'STRN3', 'NUDT21', 'C20orf191', 'RBM19', 'ING3', 'FKBP1A', 'WDR33', 'RPS29', 'MOBKL3', 'SUPT6H', 'FIP1L1', 'SF3B6', 'DDR1', 'AKT1', 'NET1', 'MAP2K1', 'HNRPUL1', 'RPS15', 'MRPL27', 'ENO3', 'GRAP', 'SMAD2', 'NSUN2', 'STXBP2', 'PWP2', 'TRAF2', 'SOD1', 'NUDC', 'GNL1', 'VAC14', 'UTP15', 'FTSJ3', 'DLAT', 'CNOT1', 'MPHOSPH10', 'MKI67IP', 'UBE1', 'ING1', 'CIRH1A', 'STK16', 'NOL14', 'GNAI2', 'CAMK1D', 'EIF2A', 'WDR74', 'AHCY', 'PELO', 'ADK', 'VARS', 'UACA', 'NOS1', 'APLP1', 'EIF3J', 'PPP2CB', 'IARS', 'TPR', 'DHX37', 'PRKCE', 'EMG1', 'RBBP4', 'WDR36', 'ADCK1', 'WDR26', 'SNRPA1', 'SUPT16H', 'EPS15', 'CSTF3', 'KARS', 'RRP1B', 'CUL5', 'ALDOA', 'WDR12', 'FSCN1', 'SUPT5H', 'PGD', 'STAT1', 'ABCF3', 'PWP1', 'CPSF1', 'BMS1', 'SRP14', 'WDR46', 'GRAMD1A', 'CBS', 'RPL29', 'SF3A2', 'PSMA6', 'NCOR1', 'RPS12', 'CUL1', 'LARP7', 'PRKAA2', 'PPA1', 'BYSL', 'SMARCD1', 'EIF2S3', 'TARS', 'SRRM1', 'IMPDH2', 'SNRP70', 'PPP2CA', 'GTPBP4', 'PCMT1', 'VPS35', 'VDAC3', 'SSB', 'RNGTT', 'POLR2G', 'MDN1', 'BRD3', 'TP53', 'RPL37A', 'MAP2K2', 'CSNK1A1L', 'AURKA', 'SF3A1', 'PDHA1', 'PES1', 'ACACB', 'RCC2', 'PRKAR2A', 'SLC25A6', 'TGFBR1', 'RPS27', 'PSMD13', 'MYL12A', 'PCBP1', 'KIAA0368', 'KIF3A', 'BXDC2', 'BMP2K', 'ATR', 'EIF3CL', 'ARPC5L', 'PLS3', 'POLR1E', 'HIST1H3J', 'HIST1H3E', 'HIST1H3D', 'HIST1H3C', 'HIST1H3B', 'HIST1H3A', 'H3F3AP6', 'PIK3C2A', 'PSMB3', 'CPSF3', 'RPL13AP25', 'PSMB1', 'LEO1', 'UBR5', 'HEATR1', 'HIST2H3A', 'HIST1H3H', 'CLTB', 'CHUK', 'KPNA5', 'PSMA2', 'HIST1H2BD', 'H2BFS', 'HIST2H2BA', 'HIST1H2BJ', 'HIST3H2BB', 'HIST1H2BB', 'TUFM', 'RRP12', 'PSMB5', 'EIF3A', 'UPF1', 'UTP20', 'PSMA1', 'NHP2L1', 'EIF4A3', 'PTK2', 'ACTR3', 'IKBKE', 'DDB1', 'MOBKL1B', 'KPNA6', 'PSMA3', 'ABLIM1', 'LARP2', 'HIST1H2BM', 'EIF6', 'NOL6', 'CDK2', 'RBBP7', 'PSMC1', 'VCP', 'BOP1', 'EIF3C', 'CAMK2A', 'RSL1D1', 'RPS28', 'HIST2H2BF', 'CCT3', 'EIF3B', 'NOP58', 'IMPDH1', 'SLC25A5', 'PSMC6', 'HSP90AA2', 'CCT2', 'RPS10', 'POLE', 'PFKP', 'PDPK1', 'PRDX2', 'TUBA1B', 'RPS7P1', 'AP2M1', 'TOP2A', 'WEE1', 'PPP1CB', 'OLA1', 'HDAC1', 'DDX18', 'IPO9', 'SLC25A3', 'PTK2B', 'OAT', 'EIF4B', 'P4HB', 'EIF4G3', 'SPDYA', 'PRPF6', 'YES1', 'MMS19', 'RPS26', 'KIAA0664', 'NAT10', 'CCT4', 'EIF4E'], 126: ['UBE2B', 'UBE2A', 'CTR9', 'LSM1', 'PSMD11', 'MAT1A', 'OLA1'], 127: ['CANX', 'MED31'], 128: ['EPB41', 'ADK', 'LCK', 'VHL', 'MARK2', 'ULK3', 'CSNK1A1', 'HNRNPL', 'TAF12', 'PRKAB1', 'PHB2', 'EIF5AP1', 'PHB', 'MTHFD1', 'TUFM', 'MAPK14', 'NEDD4L', 'IKBKE', 'MAPK3', 'HSP90AA2', 'PDPK1', 'PTK2B'], 130: ['TARDBP', 'NCK1', 'DICER1', 'CTNNB1', 'IKBKE', 'GSK3B', 'PDPK1', 'PPP2R1A', 'HNRNPC'], 131: ['SNCA', 'EXOSC9', 'MAP2K3', 'KIAA0372', 'PIK3CA', 'SKIV2L', 'DUSP4', 'MAP2K1', 'GARS', 'MAPK8', 'TAOK2', 'SUPT16H', 'EPS15', 'UBE2G2', 'MAPK9', 'PHGDH', 'SUMO1P3', 'PSMD11', 'SSRP1', 'ACTN2', 'PRKAR2A', 'MYO1B', 'HEATR1', 'HIST1H2BD', 'H2BFS', 'HIST2H2BA', 'HIST1H2BJ', 'HIST3H2BB', 'HDLBP', 'HIST1H2BB', 'UTP20', 'HIST1H2BM', 'NOL6', 'HIST2H2BF', 'CCT3', 'MAPK3', 'PTPN11', 'HIST1H2AH', 'HIST1H2AC'], 132: ['CDC42', 'PRKCG', 'CUL1', 'PRKCB1', 'PRMT1', 'PCNA'], 133: ['NDN', 'MAGED1', 'LEPRE1', 'TIMM50', 'BRF2', 'GSTK1', 'NFKBIB', 'PTP4A3', 'FTSJ1', 'CANX', 'CCAR1', 'GART', 'DNM2', 'VHL', 'MYO6', 'MCC', 'ATP6V0D1', 'UBE2G2', 'MYL12A', 'TTLL3', 'SLC25A4', 'MYL12B', 'ARPC3', 'SMC4', 'ARPC2', 'TRAF6', 'DDB1', 'DDX39B', 'BAT1', 'ABLIM1', 'POLR2H', 'KPNA2', 'POLR2L', 'SLC25A5', 'PRDX1', 'PRDX2', 'PPP1CB', 'CAPZB', 'SPDYA', 'DBN1'], 135: ['TRMU', 'UBE2M', 'DDX47', 'WIPF1', 'THOC2', 'BIN3', 'ERCC4', 'GRAP', 'HTATIP', 'PPP2CB', 'VHL', 'EPS15', 'SEC23A', 'CCNC', 'HLA-B', 'RPS12', 'SUMO1P3', 'CUL1', 'TARS', 'EIF5B', 'MDN1', 'SSRP1', 'PRKAR2A', 'SLC25A6', 'PHB', 'HIST1H2BD', 'H2BFS', 'HIST2H2BA', 'HIST1H2BJ', 'HIST3H2BB', 'HIST1H2BB', 'UPF1', 'PCNA', 'HIST1H2BM', 'ACTR2', 'RSL1D1', 'HIST2H2BF', 'EPRS', 'COPA', 'IMPDH1', 'RPS10', 'RPLP1', 'PPP6C', 'CTPS', 'DDX18', 'HNRNPC', 'NAT10', 'CCT4', 'HIST1H2AH', 'HIST1H2AC'], 137: ['GNA11', 'RBM10'], 139: ['ADRM1', 'PARP1', 'SRP9', 'RACGAP1', 'MYL12A', 'CBLB', 'PTPN11'], 142: ['BLM', 'TP53BP1', 'ING4', 'RBBP5', 'WDR5', 'USP7', 'SOD1', 'ING1', 'SORCS2', 'MAPRE1', 'SORT1', 'EP300', 'PRKAA2', 'RELA', 'PSMD11', 'MAX', 'FBXW7', 'AURKA', 'PHB', 'BCR', 'MSH2', 'CHUK', 'CCT5', 'CCT3', 'COPA', 'PRDX1', 'HDAC1', 'MMS19', 'TOP1'], 144: ['KPNA5', 'KPNA6'], 145: ['SF3A3', 'IKBKE'], 147: ['NCK1', 'MAPRE1', 'LEO1', 'ABL1', 'TOP1'], 148: ['RPS7P1'], 149: ['ACACB', 'MAPK14', 'RPS7P1', 'CTPS'], 150: ['CHEK2', 'SUMO1P3', 'DGKZ', 'PTK2'], 152: ['PHB2', 'RANP1', 'SLC25A5', 'CAPZB'], 158: ['TBC1D19', 'SCAF1', 'IGLV3-21', 'ITGB5', 'TGM4', 'ELN', 'PAPPA', 'SERPIND1', 'IGLV2-14', 'IGLC2', 'KLK3', 'ADRA1B', 'TNS3', 'CP', 'IGKC', 'CLU', 'OR8D2', 'KRT16', 'QTRTD1', 'FGA', 'IGHV4-31', 'TTR', 'KRT9', 'KRT6A', 'APOC1', 'APOA1', 'ALB', 'CTR9', 'KRT14', 'FN1', 'POLD1', 'KRT1', 'FBXW7', 'KRT10', 'KPNA5', 'KPNA6', 'CCT5', 'PSMC6', 'CCT2', 'PPP6C', 'OAT', 'EIF4E'], 159: ['ZNF24'], 160: ['NCK1', 'SART1', 'SETX', 'CREBBP', 'SSRP1', 'KRT10', 'PHB2', 'FASN', 'NEDD4L'], 161: ['MCM8', 'OTC', 'ORC3L', 'CASP2', 'ORC6L', 'TERF1', 'ORC1L', 'CASP10', 'CASP6', 'CASP9', 'THUMPD1', 'BMPR2', 'CASP4', 'RAD21', 'TOP3A', 'MAP3K8', 'CTBP1', 'TMEM87B', 'NDE1', 'CDKN1A', 'DSCC1', 'CCND2', 'BIRC5', 'ORC5L', 'MLH1', 'ING4', 'RECQL', 'ATAD2', 'RELB', 'NUP37', 'ORC4L', 'NUP43', 'VAMP8', 'NUP160', 'PPP2R4', 'NDEL1', 'EXO1', 'POLA1', 'USO1', 'KHDRBS1', 'NF2', 'NUP85', 'PPIG', 'CHAF1B', 'CASP7', 'SFRS4', 'CCNB2', 'GH1', 'ORC2L', 'CDKN2A', 'CHEK1', 'CDC20', 'SYNJ2', 'ITGB3BP', 'TBCK', 'NAPB', 'PPP2R5C', 'HOOK3', 'BUB3', 'CDC6', 'PGAM2', 'PLRG1', 'MCM10', 'DCLK1', 'MCM4', 'PKP2', 'SAC3D1', 'UBE2V2', 'ANAPC2', 'FZR1', 'BUB1B', 'KRT5', 'MED15', 'KRT6A', 'DDX21', 'C20orf191', 'ANAPC1', 'AHCTF1P', 'NUMA1', 'YEATS4', 'INCENP', 'SUPT6H', 'CDC23', 'SMN2', 'MORF4L1', 'DDX31', 'NUP98', 'DNAJB1', 'NUDC', 'MAD2L1', 'KIF2C', 'VAC14', 'RPA2', 'DLAT', 'RAB1A', 'DNM2', 'NUP107', 'SFRS3', 'CENPF', 'EIF1B', 'TAOK1', 'ADCK1', 'CCNC', 'MCC', 'WDR12', 'KRT8', 'CLASP2', 'PRPF4B', 'ATP6V0D1', 'DNAJA1', 'MAP3K14', 'IRAK1', 'CDK4', 'HLA-B', 'GRAMD1A', 'CHEK2', 'SF3A2', 'DIAPH1', 'NCOR1', 'KRT1', 'AFF4', 'RNPS1', 'AURKB', 'ZNF281', 'ANAPC5', 'PPA1', 'HDAC6', 'SEH1L', 'NUP133', 'TARS', 'U2SURP', 'RFC3', 'POLR2G', 'CHTF18', 'MAP3K7IP1', 'POLR2J', 'MAP2K2', 'POLR2I', 'MCM3', 'AURKA', 'IKBKAP', 'RCC2', 'MCM7', 'KRT18', 'PSMB4', 'RAB6B', 'DYNLL1', 'SUCLG1', 'KIF3A', 'BMP2K', 'ARPC5L', 'PLS3', 'CTNNB1', 'CPSF3', 'UBR5', 'SMC4', 'XPO5', 'MAPK14', 'POLR2D', 'UPF1', 'RANBP2', 'PCNA', 'TRAF6', 'NEDD4L', 'ACTR3', 'IKBKE', 'DDB1', 'DDX39B', 'BAT1', 'POLR2H', 'CDK2', 'KPNA2', 'POLR2F', 'DDX20', 'BOP1', 'COPB2', 'NOP58', 'POLR2L', 'POLR2C', 'PDPK1', 'PRDX2', 'RPA1', 'TCOF1', 'MMS19', 'MYBBP1A'], 162: ['PARP1', 'WDR33', 'HRAS', 'SART1', 'TOP1'], 163: ['AGGF1', 'TRAP1', 'FOXK2', 'GCN5L2', 'CCND1', 'GLYR1', 'HIBCH', 'FOLH1', 'ENY2', 'NARG1L', 'KIAA0409', 'DMAP1', 'PML', 'NDC80', 'NARG1', 'SMEK2', 'SMEK1', 'CHEK1', 'HDAC3', 'SP1', 'SNW1', 'RCC1', 'LSM7', 'TPT1', 'SAC3D1', 'IDE', 'RFC1', 'POLE2', 'MRPS16', 'VPS72', 'HIPK3', 'PLAA', 'MRPL12', 'ING3', 'YEATS4', 'SRCAP', 'HMGB1', 'VCL', 'MORF4L1', 'ERCC4', 'SNRPG', 'EIF2S2P4', 'SFRS11', 'PCF11', 'DDX27', 'RBM39', 'ING1', 'NIP7', 'POLR3B', 'GTF3C2', 'EIF2A', 'TBL3', 'POLR3A', 'PPAN-P2RY11', 'TADA2L', 'TAF1', 'NSA2', 'EIF2S2', 'BTAF1', 'DDX54', 'BXDC1', 'RRP1B', 'WDR12', 'PWP1', 'MSH3', 'LSM2', 'RANBP5', 'AHSA1', 'WDR46', 'CHEK2', 'KPNA4', 'TAF9', 'NOL1', 'NOC2L', 'LARP7', 'RBM28', 'HDAC6', 'ATP5J2', 'PSME4', 'KIAA0020', 'TNPO1', 'GTPBP4', 'MYC', 'EIF5B', 'RNGTT', 'TP53', 'SMARCB1', 'ARL1', 'TAF12', 'PCAF', 'UBR2', 'TBP', 'KRI1', 'AURKA', 'PPP1CA', 'SF3A1', 'PES1', 'MCM7', 'RBM34', 'PRKAR2A', 'KRR1', 'TSR1', 'KIF3A', 'BXDC2', 'MTHFD1', 'GTF3C1', 'TAF5', 'EIF3CL', 'GTF3C3', 'POLR1E', 'MSH2', 'HEATR1', 'SSR4', 'TAF6', 'MAP3K1', 'HDLBP', 'LOC440926', 'H3F3B', 'RRP12', 'EIF3A', 'DGKZ', 'UTP20', 'ARHGAP15', 'NDUFS1', 'SMARCA2', 'POLR2H', 'EIF6', 'NOL6', 'POLR2F', 'BOP1', 'EIF3C', 'CCT3', 'EIF3B', 'COPB2', 'COPA', 'POLR2L', 'IMPDH1', 'CCT2', 'RPS10', 'POLE', 'RBM10', 'PPIAP22', 'PPIA', 'TOP2A', 'OLA1', 'IDH3A', 'HDAC1', 'DDX18', 'IPO9', 'OAT', 'EIF4G3', 'SMARCC2', 'TOP1', 'KIAA0664', 'NAT10', 'HIST1H2AH', 'HIST1H2AC', 'SMARCA4', 'EIF4E'], 166: ['HD', 'SETX', 'CRKRS', 'SFPQ'], 168: ['CBL', 'LSM2', 'TUBG1', 'HADHB'], 169: ['ECSIT', 'HNF4A', 'TELO2', 'RPS6KA5', 'BRF2', 'VPS33A', 'HNRPAB', 'PTMA', 'GSTK1', 'WDR76', 'PTP4A3', 'FANCM', 'FGFR2', 'TSC22D1', 'SCYE1', 'NPEPPS', 'MYH7', 'PDLIM5', 'PFDN6', 'RFC1', 'POLE2', 'STRN3', 'RRM2', 'MOBKL3', 'CDC23', 'RAD51', 'ERCC4', 'RAD50', 'BRCA1', 'PI4KA', 'TNFRSF1A', 'RAB1A', 'SMC1A', 'DCP2', 'NUP107', 'BCAR1', 'AHCY', 'PELO', 'FANCD2', 'PPIF', 'VARS', 'APLP1', 'PPP2CB', 'HDAC4', 'VDAC4', 'ASS1', 'MCC', 'SUPT5H', 'CLASP2', 'SLC25A11', 'MDH2', 'EP300', 'ATP6V0D1', 'POLR2K', 'CREBBP', 'POLD1', 'PRKACA', 'PHGDH', 'PRPF3', 'SLC25A12', 'HDAC6', 'PSMD11', 'SMARCD1', 'PSME4', 'PPP2CA', 'MYC', 'RNGTT', 'PSMD8', 'IQGAP1', 'TBP', 'ACTN2', 'MCM7', 'HUWE1', 'ACTN1', 'SLC25A6', 'PSMD13', 'FGFR1', 'PHB2', 'PHB', 'KIAA0368', 'BCR', 'ATR', 'ACO2', 'TTLL3', 'RBL2', 'PSMC5', 'IGF2BP2', 'GTF3C3', 'CTNNB1', 'SLC25A4', 'MSH2', 'MARS', 'MYL12B', 'RFC2', 'NOC4L', 'ARPC3', 'KPNA5', 'XPO5', 'TUFM', 'LMO7', 'POLR2D', 'ATP1A1', 'ARPC2', 'PCNA', 'NDUFS1', 'DDX39B', 'BAT1', 'KPNA6', 'ABLIM1', 'EIF6', 'RBBP7', 'PSMC1', 'CAMK2A', 'RSL1D1', 'NOP58', 'DNAJA3', 'SLC25A5', 'PRDX1', 'POLE', 'PFKP', 'PRDX2', 'HNRPD', 'TOP2A', 'COPG', 'PPP6C', 'PPP1CB', 'OLA1', 'IDH3A', 'HDAC1', 'PSMD3', 'RPA1', 'TCOF1', 'IPO9', 'CCT8', 'ACTC1', 'OAT', 'CAPZB', 'P4HB', 'SPDYA', 'SMARCC2', 'PRPF6', 'DBN1', 'YES1', 'MMS19', 'TOP1', 'HADHB', 'CCT4', 'HIST1H2AH', 'HIST1H2AC'], 170: ['HD', 'TKT', 'ARF6', 'MAP3K7IP2', 'OGDH', 'ERCC4', 'MAD2L1', 'SUPT16H', 'PRPF40A', 'PMM2', 'TPM3', 'CBS', 'EIF2S3', 'RPL15P3', 'ACO2', 'RBL2', 'TAF6', 'ACTA1', 'MAPK14', 'IMPDH1', 'DDX18'], 171: ['PKMYT1', 'HTATIP', 'RPL15P3', 'RPL13AP25', 'MAP3K3'], 174: ['NOC4L', 'MAT1A', 'IMPDH1'], 176: ['BRMS1', 'HSPE1', 'BUD13', 'ST13', 'UTP14A', 'ASL', 'SNW1', 'CRNKL1', 'IGHV4-31', 'SNORA7A', 'DIS3', 'C20orf191', 'AATF', 'RAD51', 'MYO5B', 'ETF1', 'CIRH1A', 'ANP32A', 'RPS6KA1', 'ATF2', 'TPR', 'DHX37', 'PMM2', 'SART1', 'ABCF3', 'PAWR', 'SETX', 'DUT', 'RANBP5', 'WDR46', 'CHEK2', 'CSK', 'NCOR1', 'SUMO1P3', 'PRPF3', 'BYSL', 'DLSTP', 'AURKA', 'PDHA1', 'ACACB', 'ACTN1', 'TSR1', 'TGFBR1', 'CCNH', 'DLD', 'HEATR1', 'TAF6', 'SAPS3', 'TUFM', 'RRP12', 'MAPK14', 'UTP20', 'TRAF6', 'NOL6', 'RBBP7', 'ACTR2', 'MAPK3', 'EPRS', 'EIF3B', 'COPB2', 'NOP58', 'IMPDH1', 'CCT2', 'TUBA1B', 'AP2M1', 'OLA1'], 177: ['GNAI3', 'CTNNB1', 'CAMK2A'], 178: ['HGS'], 180: ['TPM3P4', 'TPM3'], 182: ['DDB1'], 184: ['UBE2H', 'CBLC', 'DNTTIP2', 'INPP5D', 'UNC119', 'EXO1', 'FTSJ1', 'DMAP1', 'PTPN6', 'SGK', 'MME', 'FRY', 'NOLA1', 'VPS72', 'RRP9', 'INOC1', 'ATM', 'ING3', 'YEATS4', 'UTP18', 'ESF1', 'AATF', 'SRCAP', 'ACTR6', 'ACTR8', 'MORF4L1', 'PWP2', 'UTP15', 'MPHOSPH10', 'MKI67IP', 'CIRH1A', 'WDSOF1', 'MLLT1', 'NOL10', 'WDR74', 'TBL3', 'HTATIP', 'CBL', 'WDR36', 'EP300', 'BMS1', 'WDR46', 'CDK5', 'CREBBP', 'CDK4', 'CSK', 'TYK2', 'JAK1', 'ULK3', 'BYSL', 'RBM28', 'GTPBP4', 'BRD3', 'CCNH', 'BMP2K', 'ATR', 'MNAT1', 'HEATR1', 'JAK2', 'PRPF8', 'NHP2L1', 'TRAF6', 'IKBKE', 'NOL6', 'CDK2', 'BOP1', 'NOP58', 'HDAC1', 'DDX18'], 185: ['BGN', 'LONRF2', 'DCN', 'GADD45G', 'THBS1', 'ITGAV', 'CANX', 'GNB1', 'APP', 'SUMO4', 'WDR74', 'MOGS', 'DPM1', 'ARD1A', 'GANAB', 'SUMO1P3', 'GTF3C4', 'GTF3C1', 'RPL9P7', 'RPL9', 'RBL2', 'IRS4', 'RPN1', 'MAT1A', 'RPN2', 'RPS10', 'POLE', 'HDAC1', 'CCT8', 'OAT', 'P4HB', 'TOP1', 'DDX1', 'MYBBP1A'], 188: ['VASP', 'CPSF6', 'LCK', 'VHL', 'CCNC', 'CUL5', 'CAMKK2', 'PRPF3', 'VDAC3', 'CSNK1G3', 'SLC25A6', 'PSMB4', 'KPNA5', 'IKBKE', 'DDB1', 'KPNA6'], 189: ['HLA-B'], 191: ['TP53BP1', 'LSM7', 'BUB1B', 'RAD23B', 'MORF4L1', 'USP14', 'NUP107', 'MAPRE1', 'FBXW7', 'RAB6C', 'RPS27', 'LARP2', 'IPO9', 'SLC25A3'], 192: ['TPT1', 'DDOST', 'MED1', 'RPS21', 'DCP2', 'SETX', 'MDH2', 'CBS', 'LARP7', 'DICER1', 'EIF5AP1', 'RBL2', 'NOC4L', 'HEATR1', 'HDLBP', 'RRP12', 'EIF3A', 'UPF1', 'UTP20', 'ARHGAP15', 'PTK2', 'DDB1', 'POLR2H', 'NOL6', 'POLR2F', 'RSL1D1', 'CCT3', 'MAPK3', 'EIF3B', 'NOP58', 'POLR2L', 'PPP6C', 'OLA1', 'IPO9', 'OAT', 'EIF4G3', 'NAT10'], 193: ['SLC25A3'], 194: ['RNF19A', 'CD36', 'CD47', 'COL1A2', 'COL2A1', 'MATK', 'THBS1', 'PARK2', 'ITGB3', 'TLN1', 'TGM2', 'PFAS', 'MRPL13', 'UBQLN1', 'NARS', 'PPIF', 'FN1', 'PWP1', 'MDH2', 'CSK', 'FGFR1', 'EIF5AP1', 'KIAA0368', 'KIAA0664'], 197: ['WDR5', 'CNOT1', 'APOA1', 'DNAJA3', 'PSMD3', 'IPO9', 'MMS19'], 198: ['RPAP3', 'MAD2L1', 'ALB', 'DIAPH1', 'PSMD11', 'TGFBR1', 'POLR2D', 'POLR2C'], 199: ['NCBP1', 'RAB8B', 'BRCA1', 'NSF', 'MAP3K14', 'SUMO1P3', 'PRKAA2', 'RELA', 'ACTN2', 'CTNNB1', 'DDB1', 'PFKP', 'COPG', 'SMARCA4'], 203: ['RBBP7'], 205: ['PLAU', 'FOXO1', 'CKAP2', 'BLM', 'MCOLN3', 'SIN3B', 'MLH1', 'RECQL', 'PLG', 'RABEP1', 'CDC45L', 'PTPN5', 'LRP1', 'FOXO3', 'CHEK1', 'RBBP5', 'LRP1B', 'HSPA4', 'PRIM1', 'LDHB', 'SMAD1', 'FGA', 'ASF1B', 'ATP1A3', 'SKIV2L2', 'ATM', 'CKAP4', 'SMAD4', 'CASP3', 'MAPK10', 'EHMT2', 'GNB1', 'ERCC4', 'PAK7', 'GRIN1', 'POLR3B', 'ALB', 'PRKCE', 'SUPT5H', 'TIAM1', 'CDK4', 'CHEK2', 'ARD1A', 'CUL1', 'VPS35', 'RFC3', 'CHTF18', 'KRT10', 'MSH6', 'SLC25A6', 'ATR', 'ACO2', 'MSH2', 'HIST1H2BD', 'H2BFS', 'HIST2H2BA', 'HIST1H2BJ', 'HIST3H2BB', 'ACTA1', 'HIST1H2BB', 'EIF3A', 'EIF4A3', 'PSMD1', 'PCNA', 'DDB1', 'HIST1H2BM', 'RBBP7', 'HIST2H2BF', 'MAPK3', 'PRDX1', 'PRDX2', 'RBM10', 'OLA1', 'HDAC1', 'ACTG2', 'RPA1', 'IPO9', 'ACTC1', 'SMARCC2'], 206: ['CDKN2A', 'NCK1', 'KPNA2', 'HSP90AA2', 'MYBBP1A'], 208: ['AURKB', 'CSNK1A1', 'CSNK1G3', 'RPS27', 'ATR', 'IRS4', 'ABL1', 'SSR4', 'MAPK14', 'PTK2', 'TRAF6', 'NEK9', 'IPO9'], 209: ['SSB', 'TAF6', 'RPA1'], 210: ['RGS20', 'SHQ1', 'SMAD9', 'SMAD1', 'ESF1', 'MAPK10', 'ALB', 'SUPT16H', 'TNPO1', 'CHTF18', 'NME2', 'PPP1CA', 'KRT10', 'GTF3C4', 'KIAA0368', 'KIF3A', 'GTF3C1', 'MARS', 'ATP2A2', 'PSMB5', 'RPN1', 'PSMD1', 'PSMC1', 'CCT5', 'MAT1A', 'CCT3', 'MAPK3', 'EPRS', 'NOP58', 'DNAJA3', 'CCT2', 'POLE', 'TOP2A', 'COPG', 'PPP6C', 'TOP1', 'KIAA0664', 'MYBBP1A'], 211: ['CTNNB1'], 213: ['BLMH', 'COPZ1', 'IPO8', 'RQCD1', 'ARCN1', 'SEC22A', 'SAR1B', 'SEC24B', 'ATP1A3', 'GNAS', 'FUS', 'POLR3F', 'ERCC4', 'COPB1', 'SFN', 'AASS', 'PABPC4', 'KIAA1967', 'CLNS1A', 'SPIN3', 'SPIN2B', 'TTC27', 'KRT14', 'BOLA2B', 'PRPF40A', 'CPNE1', 'SLIT2', 'HIST1H1A', 'ARHGAP21', 'ERH', 'CAPN1', 'TAF9', 'ARHGEF6', 'KRT17', 'SLC25A13', 'EIF4ENIF1', 'PRKAA2', 'HIST2H2AB', 'SLC25A12', 'RAB11FIP5', 'SPIN1', 'XPOT', 'SNRP70', 'G3BP2', 'VPS35', 'RNGTT', 'RFC3', 'MAP3K7IP1', 'TUBB2A', 'TAF12', 'HTATSF1', 'CSNK1A1L', 'STK38', 'HDGFRP2', 'SAG', 'HSPA6', 'MCM7', 'HUWE1', 'DGKE', 'PTPN14', 'NOLA3', 'SLC25A6', 'ZRANB2', 'RAB6B', 'SUCLG1', 'PHB', 'PCBP1', 'CTNNA1', 'PPM1B', 'PPM1A', 'H1FX', 'TAF5', 'TTLL3', 'TUBA1C', 'SLC25A4', 'SCYL2', 'IRS4', 'MYL12B', 'PRMT1', 'LEO1', 'TUBA3D', 'TUBA3C', 'CLTB', 'CHUK', 'SSR4', 'ARPC3', 'TAF6', 'SMC4', 'XPO5', 'ATP2A2', 'ARRB2', 'TUFM', 'DGKZ', 'CBLB', 'ATP1A1', 'ARPC2', 'RPL38', 'PTK2', 'CDC2L5', 'ACTR3', 'CLTA', 'DDX39B', 'BAT1', 'MOBKL1B', 'RANP1', 'ABLIM1', 'GSK3B', 'ARRB1', 'EEF1A2', 'RBBP7', 'PSMC1', 'VCP', 'GRWD1', 'RPN2', 'COPB2', 'COPA', 'DNAJA3', 'SLC25A5', 'SFPQ', 'PSMC6', 'PRDX1', 'RPLP1', 'RBM10', 'PPIAP22', 'PPIA', 'HNRPD', 'TOP2A', 'COPG', 'PPP6C', 'PPP2R1A', 'PPP1R12A', 'TUBB3', 'IDH3A', 'CTPS', 'PSMD3', 'ACTG2', 'TCOF1', 'IPO9', 'CCT8', 'ACTC1', 'SLC25A3', 'PTK2B', 'OAT', 'EIF4B', 'CAPZB', 'PRPF6', 'DBN1', 'MMS19', 'HNRNPC', 'HADHB', 'DDX1', 'CCT4'], 215: ['GSPT1', 'DLAT', 'FN1', 'ATR', 'PLS3', 'CPSF3', 'TUFM', 'ACTR3', 'DDX20', 'RPS28', 'PFKP', 'CAPZB'], 216: ['SORT1', 'CREBBP', 'PIK3R1', 'HDLBP', 'RPN2', 'PPP2R1A', 'OLA1', 'PTPN11', 'CTPS', 'KIAA0664'], 217: ['MAP2K4', 'TCEB2', 'POLR2H', 'POLR2F'], 219: ['STRAP', 'CSTB', 'UBE2D3', 'AP1M1', 'OGDH', 'PDHB', 'GSTM3', 'FN1', 'WEE1'], 220: ['MAGI1', 'AIFM3', 'WNK4', 'SLC9A3R2', 'CACNA1A', 'TRADD', 'FEN1', 'ATP2B4', 'PRKAR1B', 'DISC1', 'RAP1A', 'AKAP9', 'PRKAR1A', 'RAB11A', 'RALA', 'PPP2R5C', 'NR3C1', 'SYNGR1', 'ARID1A', 'GLI3', 'SLC9A3R1', 'KIF5B', 'GAP43', 'SHFM1', 'DUSP4', 'BAD', 'FIP1L1', 'PSMD12', 'ITPR1', 'GRIN2A', 'GRIN2B', 'EHMT2', 'MYH11', 'DLG1', 'USP14', 'GRIN1', 'PRKAR2B', 'STX1A', 'PSMD14', 'WDR68', 'HDAC4', 'DLG3', 'STIP1', 'MAP2', 'CPSF1', 'DLG4', 'PPP2CA', 'PSMD8', 'ACTN2', 'PRKAR2A', 'PSMD13', 'KIF3A', 'CTNNB1', 'MYL12B', 'CPSF3', 'UPF1', 'PCNA', 'RANP1', 'ABLIM1', 'GSK3B', 'PSMC1', 'CAMK2A', 'MAPK3', 'PSMC6', 'HSP90AA2', 'PDPK1', 'PPP2R1A', 'OLA1', 'P4HB'], 221: ['SPHK2', 'ERO1LB', 'PRKCE', 'DNAJA1', 'XPOT', 'PPP1CA', 'PIK3R1', 'FGFR1', 'TRAF6', 'DDB1', 'CCT3', 'DNAJA3', 'PTK2B'], 222: ['MAP3K14', 'ARHGAP21', 'SLC25A6', 'HDLBP', 'PSMA3', 'CCT5', 'CCT2', 'COPG', 'CTPS', 'CCT8', 'OAT', 'DDX1', 'CCT4'], 224: ['GOLGA2', 'BMX', 'EXOSC5', 'SAPS1', 'AKT1', 'LCK', 'MAPK9', 'PSMD11', 'PIK3R1', 'SAPS3', 'PRDX2'], 225: ['PHB2', 'HNRNPC'], 226: ['MAGI2', 'EXOC5', 'RALA', 'KRAS', 'UBE2D3', 'DIS3', 'RRM2', 'UTP18', 'PRPF19', 'NOL10', 'TAF1', 'DLG3', 'SUPT16H', 'UBE2G2', 'DLG4', 'NOL1', 'RBM28', 'KIAA0020', 'SMARCB1', 'SSRP1', 'TAF12', 'TBP', 'KRI1', 'NME2', 'RBM34', 'TSR1', 'BXDC2', 'TAF5', 'HIST1H2BD', 'H2BFS', 'HIST2H2BA', 'HIST1H2BJ', 'HIST3H2BB', 'HIST1H2BB', 'LOC440926', 'H3F3B', 'POLR2D', 'NHP2L1', 'SMARCA2', 'HIST1H2BM', 'EIF6', 'NOL6', 'POLR2F', 'BOP1', 'HIST2H2BF', 'NOP58', 'POLR2L', 'DDX18', 'RPA1', 'SMARCC2', 'NAT10', 'HIST1H2AH', 'HIST1H2AC', 'SMARCA4'], 228: ['DTX1', 'ARF1', 'DDX49', 'CAP1', 'DDX24', 'KRI1', 'MAT1A', 'COPB2', 'RPS10', 'EIF4G3'], 231: ['TRAF2', 'G3BP2', 'TGFBR1', 'MAP3K3', 'WEE1'], 232: ['VDAC4'], 234: ['SMARCA4'], 235: ['SHBG', 'ACTA2', 'PTN', 'TRAF1', 'HIST1H1D', 'VEGFA', 'PACS1', 'DDX39', 'ZNF326', 'PRKCI', 'EIF2C1', 'EIF2C2', 'ANAPC2', 'SART3', 'SYNCRIP', 'AR', 'DHX36', 'SH3GL2', 'NUMA1', 'PIP4K2C', 'C3orf26', 'IMMT', 'RAD51', 'LYAR', 'MAPK10', 'NFKB2', 'PKMYT1', 'DDX31', 'PKN1', 'MED10', 'GEMIN4', 'USP7', 'RPL7P9', 'ILF2', 'CYFIP1', 'MARK4', 'SYNE1', 'ABCB7', 'UBE1', 'STK16', 'ANP32A', 'PRPF19', 'DNM2', 'MED7', 'DDX56', 'PPAN-P2RY11', 'CAMK2B', 'GCDH', 'TEX10', 'EIF3J', 'PPP2CB', 'MAPKAP1', 'CAMK2G', 'DHX30', 'ADCK1', 'TIAF1', 'HRNR', 'CCNC', 'RIPK2', 'DYRK1A', 'ALDOA', 'MED6', 'CDK8', 'SLC25A11', 'RPAP2', 'TBK1', 'PRPF4B', 'EBNA1BP2', 'SRP14', 'MAP3K14', 'SYK', 'PABPC3', 'GRAMD1A', 'RPL29', 'ATAD3B', 'POLD1', 'MARK2', 'CAMKK2', 'AFF4', 'ULK3', 'RPS6KA3', 'ANAPC5', 'SLC25A12', 'RBM28', 'LUC7L2', 'PSME4', 'MRPS22', 'IDH3G', 'RFC5', 'SSB', 'RFC3', 'CHTF18', 'MAP3K7IP1', 'BRD3', 'RPL37A', 'MAP2K2', 'HNRNPL', 'LYN', 'IKBKAP', 'CSNK1G3', 'PDHA1', 'PSMA5', 'HUWE1', 'LRPPRC', 'PSMB4', 'PHB2', 'SUCLG1', 'PHB', 'BXDC2', 'CCNH', 'BMP2K', 'BCR', 'H1FX', 'IGF2BP2', 'SCYL2', 'PRKCB1', 'MARS', 'PSMB3', 'PSMB1', 'MNAT1', 'RFC2', 'NOC4L', 'UBR5', 'JAK2', 'PSMA2', 'SMC4', 'EIF3E', 'XPO5', 'TUFM', 'PSMB5', 'POLR2D', 'MAP3K3', 'ATP1A1', 'UPF1', 'PSMA1', 'NHP2L1', 'EIF4A3', 'CDC2L5', 'PCNA', 'CLTA', 'DDB1', 'DDX39B', 'BAT1', 'PSMA3', 'RPL28', 'GSK3B', 'HIST1H2BM', 'ARRB1', 'RBBP7', 'PSMC1', 'KPNA2', 'CCT5', 'DDX20', 'RSL1D1', 'RPN2', 'MAPK3', 'EPRS', 'NEK9', 'NOP58', 'COPA', 'SLC25A5', 'PSMC6', 'POLR2C', 'CCT2', 'RPS26P8', 'RPS26P10', 'POLE', 'PDPK1', 'RPLP1', 'TUBA1B', 'AP2M1', 'TOP2A', 'COPG', 'WEE1', 'PPP6C', 'PPP2R1A', 'IDH3A', 'PSMD3', 'DDX18', 'ACTG2', 'TCOF1', 'IPO9', 'CCT8', 'SLC25A3', 'PTK2B', 'OAT', 'CAPZB', 'PRPF6', 'MMS19', 'HNRNPC', 'RPS26', 'TOP1', 'NAT10', 'HADHB', 'DDX1', 'CCT4', 'SMARCA4'], 238: ['SYK', 'SF3A2'], 239: ['PTRF', 'RDX', 'PLCB2', 'TP53BP1', 'PLCB1', 'VEGFA', 'PABPN1', 'PIK3CA', 'TCEB1', 'LMNB1', 'FUS', 'CDC42', 'SFRS11', 'RBM39', 'PLCG1', 'MARK1', 'VDAC2', 'IRS1', 'IMPDH2', 'ITPR3', 'PCMT1', 'HNRNPL', 'POLR2I', 'RACGAP1', 'KRT18', 'ACTN1', 'MYO1B', 'DYNLL1', 'TTLL3', 'RBL2', 'CTNNB1', 'SLC25A4', 'MYL12B', 'ARPC3', 'LMO7', 'ARPC2', 'ABLIM1', 'MAPK3', 'PRDX1', 'PDPK1', 'PPIAP22', 'PPIA', 'PTPN11', 'HDAC1', 'ACTC1', 'CAPZB', 'DBN1'], 240: ['PRPF8'], 241: ['TJP1', 'TIA1', 'EPHA7', 'GNB4', 'MBP', 'EHMT2', 'ATXN2', 'EIF2S1', 'RBBP4', 'SUPT3H', 'TBL1XR1', 'NSF', 'RAC1', 'VPS35', 'RAB6C', 'MAP3K7IP1', 'CSNK1A1L', 'HSPA6', 'CCNH', 'ATR', 'PRKCB1', 'PIK3C2A', 'MNAT1', 'TAF6', 'PRPF8', 'CDC2L5', 'ABLIM1', 'SLC25A5', 'RBM10', 'PTK2B', 'EIF4B', 'PRPF6'], 242: ['TP53', 'SSR4', 'ATP1A1', 'PCNA'], 244: ['USO1', 'EIF1B', 'VDAC4', 'STXBP1', 'PRPF40A', 'MAP2', 'HLA-B', 'RAC1', 'ACTN2', 'RBL2', 'RANP1', 'VCP', 'CAMK2A', 'MAPK3', 'COPB2', 'RPLP1', 'PRDX2', 'HNRPD', 'IDH3A', 'HADHB', 'EIF4E'], 246: ['A2M', 'DES', 'AKAP9', 'GRM1', 'ATIC', 'PTPN1', 'TSC1', 'GNAI1', 'SYN1', 'HRAS', 'CASP3', 'PLCG1', 'DLG3', 'DLG4', 'ANXA6', 'RPL37A', 'PIK3R1', 'BCR', 'ABL1', 'RANP1', 'RPL28', 'PTK2B'], 247: ['BMPR1B', 'WDR33', 'SORCS2', 'SORT1', 'FGFR1', 'P4HB'], 248: ['F2', 'NLK', 'HTATIP'], 249: ['KRT10', 'TRAF6'], 250: ['CYB5R1', 'GUF1', 'CASP6', 'RDX', 'HLA-C', 'TUBB1', 'EXO1', 'PRKAG2', 'B2M', 'FARSB', 'PEMT', 'NDC80', 'ATP6V1D', 'MED9', 'XAB1', 'CD4', 'SCYE1', 'BAG2', 'PELP1', 'THOC2', 'EXOSC10', 'PRDX5', 'BUB1B', 'AHCTF1P', 'RRM2', 'FKBP1A', 'PAK2', 'MORF4L1', 'GART', 'RAD50', 'KIF2C', 'GLUL', 'UBE3C', 'RAB1A', 'AKAP8', 'CENPF', 'AHCY', 'CTR9', 'IQGAP3', 'LCK', 'BTAF1', 'RBBP4', 'MCC', 'PMM2', 'PGD', 'RPAP2', 'TBL1XR1', 'ARHGAP21', 'HLA-B', 'AP2A2', 'ATAD3A', 'MLLT4', 'AP3D1', 'RNPS1', 'ARPC1A', 'PSME4', 'NUP133', 'EIF2S3', 'TARS', 'IDH3G', 'RFC5', 'VDAC3', 'RAB6C', 'HNRNPL', 'SMARCC1', 'ACTN2', 'PSMA5', 'RCC2', 'MCM7', 'RPS27', 'PSMB4', 'RAB6B', 'EIF5AP1', 'SUCLG1', 'PCBP1', 'ACO2', 'ARPC5L', 'TTLL3', 'MARS', 'PSMB3', 'PSMB1', 'ARPC3', 'PSMA2', 'HDLBP', 'PSMB5', 'RANBP2', 'ARPC2', 'PSMA1', 'NHP2L1', 'TRAF6', 'ACTR3', 'IKBKE', 'RANP1', 'PSMA3', 'EIF6', 'PSMC1', 'CCT5', 'ACTR2', 'CCT3', 'EPRS', 'COPB2', 'COPA', 'PSMC6', 'POLR2C', 'CCT2', 'PRDX2', 'RPS7P1', 'HNRPD', 'COPG', 'OLA1', 'IDH3A', 'CTPS', 'PSMD3', 'DDX18', 'CCT8', 'SLC25A3', 'OAT', 'SMARCC2', 'MMS19', 'KIAA0664', 'CCT4', 'EIF4E'], 252: ['GNAI2', 'G3BP2', 'ACTN2', 'TUBB3'], 253: ['HLA-B', 'JAK1', 'PIK3R1'], 256: ['SH3GL3', 'TEX10', 'BTK', 'AP2A2', 'FGFR1', 'BXDC2', 'BCR', 'ABL1', 'RANBP2', 'PTK2', 'DDX18', 'NAT10'], 257: ['SUMO1P3', 'CAMK2A', 'PPP2R1A'], 258: ['PPID', 'SMC1A', 'TBL1XR1', 'UBE2G2', 'CRKRS', 'PIK3R1', 'CTNNB1', 'PRPF8', 'PCNA', 'PRDX2'], 259: ['PLAUR', 'THBS1', 'BAT3', 'PLG', 'FN1'], 260: ['GIT2', 'ZNF768', 'BMPR1B', 'CCDC85B', 'AKT1', 'ERBB2', 'CDC42', 'TNFRSF1A', 'BCAR1', 'ARHGEF2', 'PXN', 'HLA-B', 'PPP1CA', 'RBL2', 'MAP3K3'], 262: ['EXOSC10', 'RGS3', 'DIAPH1', 'CUL1', 'TARS', 'RANBP2', 'GSK3B', 'TOP2A'], 264: ['TERF1', 'CHKB', 'EIF2S2', 'HDAC4', 'VDAC4', 'PGD', 'TIAM1', 'NCOR1', 'PPA1', 'ACTN2', 'PHB', 'UPF1', 'RANP1', 'ABLIM1', 'PRDX2', 'RPS26'], 265: ['TAF5'], 266: ['SCAMP2', 'RALB', 'ADSSL1', 'SMC5', 'NR5A2', 'MPG', 'BCAP31', 'KIAA0174', 'KRT19', 'FAS', 'HSF1', 'PYGM', 'PPM1G', 'PYCRL', 'HD', 'RECQL', 'TGM2', 'PLSCR1', 'EXOSC3', 'VAMP8', 'EIF3F', 'TKT', 'PC', 'FGF20', 'ACSL4', 'EIF3H', 'CALR', 'KLC1', 'PEMT', 'BCAR3', 'GH1', 'SC5DL', 'PPP5C', 'ARF6', 'RALA', 'PTPN1', 'NFKBIA', 'NIN', 'PGAM2', 'AARS', 'HIST2H3PS2', 'HIST2H3C', 'PAICS', 'PGM1', 'GAP43', 'AR', 'GNB4', 'PIN1', 'PFDN2', 'TPI1', 'EEF1B2', 'RBM19', 'NACAP1', 'EIF2B3', 'LYAR', 'GARS', 'MAPK10', 'VCL', 'NARS', 'MYO1E', 'ATP6V1E1', 'NUP98', 'MYO5B', 'SOD1', 'ESR1', 'PSMD6', 'TNFRSF1A', 'UBE1', 'LARS', 'TNFRSF14', 'PSMD14', 'PPIF', 'NF1', 'EIF1B', 'APLP1', 'EIF3J', 'IARS', 'VHL', 'ARFGEF2', 'NSF', 'MDH2', 'HLA-B', 'GRAMD1A', 'CHEK2', 'RPS12', 'GANAB', 'CDK9', 'PGK1', 'MAPK9', 'PPA1', 'PSMD11', 'XPOT', 'G3BP2', 'RAB6C', 'TP53', 'ACTN2', 'NME2', 'ACACB', 'PRKAB1', 'PRKAR2A', 'SLC25A6', 'TSR1', 'FGFR1', 'MTHFD1', 'DLD', 'IGF2BP2', 'POLR1E', 'HIST1H3J', 'HIST1H3E', 'HIST1H3D', 'HIST1H3C', 'HIST1H3B', 'HIST1H3A', 'H3F3AP6', 'HIST2H3A', 'HIST1H3H', 'KPNA5', 'MAPK14', 'EIF3A', 'EIF4A3', 'TRAF6', 'NEDD4L', 'IKBKE', 'KPNA6', 'RPL28', 'VCP', 'MAT1A', 'HIST2H2BF', 'CCT3', 'MAPK3', 'EPRS', 'COPB2', 'IMPDH1', 'POLR2C', 'CCT2', 'RPLP1', 'CTPS', 'RPA1', 'CCT8', 'EIF4B', 'CAPZB', 'SMARCC2', 'MMS19', 'CCT4', 'SMARCA4'], 267: ['PLCG1', 'PPP2CB', 'ALDOA', 'TNIK', 'PRKACA', 'RAC1', 'FBXW7', 'PPP2CA', 'PRKCB1', 'MAPK3', 'SLC25A5', 'RPS10', 'PDPK1', 'OAT'], 268: ['GTPBP2', 'HSPG2', 'DNA2L', 'PSMB8', 'EPS8', 'VPS8', 'PHLDA3', 'EXO1', 'WASL', 'VEGFA', 'SH3GL1', 'PAICS', 'NCKAP1', 'MED24', 'SAPS1', 'SHFM1', 'LDHA', 'DNM1', 'USP14', 'MED1', 'GLUL', 'RPA2', 'CNOT1', 'CAMK1D', 'PRPF19', 'STX1A', 'LSM1', 'FN1', 'CLASP2', 'NSF', 'CREBBP', 'POLD1', 'SLC25A13', 'ZNF281', 'SLC25A12', 'DICER1', 'U2SURP', 'RFC5', 'RFC3', 'CHTF18', 'ACO2', 'MSH2', 'RFC2', 'SMC4', 'SAPS3', 'ACTA1', 'EIF3A', 'ATP1A1', 'TRAF6', 'KPNA2', 'DDX20', 'MAT1A', 'CCT3', 'POLE', 'PRDX2', 'RPA1', 'DBN1', 'MYBBP1A'], 269: ['ATXN1', 'DYRK1A', 'JAK1', 'RPL9P7', 'RPL9', 'POLR2H', 'POLR2F', 'POLR2L', 'PDPK1', 'HNRNPC'], 270: ['RAB6C', 'RAB6B'], 272: ['UBE1C', 'EXOC8', 'CAPRIN1', 'LSM7', 'CCAR1', 'PBRM1', 'SMN2', 'SFRS11', 'MED1', 'EP400', 'RGL3', 'CCNC', 'MED6', 'CLASP2', 'RPAP2', 'MSH3', 'ATP6V0D1', 'POLR2K', 'GTF2F2', 'DIAPH1', 'DDX17', 'KPNA4', 'RNPS1', 'SRRM1', 'TNPO1', 'U2SURP', 'POLR2G', 'PRPF4', 'SMARCB1', 'POLR2J', 'ERCC3', 'POLR2I', 'HUWE1', 'PTPN14', 'PSMD13', 'PCBP1', 'ATR', 'MSH2', 'XPO5', 'PRPF8', 'POLR2D', 'SMARCA2', 'POLR2H', 'CCT5', 'POLR2F', 'DDX20', 'CAMK2A', 'CCT3', 'POLR2L', 'SFPQ', 'PSMC6', 'POLR2C', 'CCT2', 'PFKP', 'COPG', 'PPP6C', 'OLA1', 'IDH3A', 'PSMD3', 'RPA1', 'CCT8', 'SMARCC2', 'PRPF6', 'MMS19', 'TOP1', 'CCT4', 'HIST1H2AH', 'HIST1H2AC', 'SMARCA4'], 273: ['ATP6V0D1'], 274: ['TJP3', 'ATXN2L', 'DDB2', 'KIF2A', 'VPS8', 'KSR1', 'GRAP2', 'GTF2E2', 'EXOC5', 'EIF4E2', 'EIF3M', 'BAIAP2', 'GTF2H2C', 'EIF3H', 'TIAL1', 'KIF23', 'XAB2', 'TCEA1P2', 'FOXO3', 'SGOL2', 'PSAT1', 'PSMB7', 'EIF3D', 'TSC1', 'AC004453.8', 'APOA2', 'CLASP1', 'PSMB6', 'LUC7L', 'TJP1', 'GTF2H2', 'SUPT4H1', 'BRD2', 'PHKB', 'PKP2', 'LSM7', 'TIA1', 'MME', 'ATXN1', 'MIOS', 'BUB1B', 'SNORA7A', 'TCEB1', 'SHMT1', 'WDR37', 'OGDH', 'TCEB2', 'INOC1', 'EEF1B2', 'LIN7C', 'NFX1', 'EIF2AK1', 'RICTOR', 'PDHB', 'PSMD12', 'NFKB1', 'HRAS', 'ERCC2', 'ENO1', 'MAP2K1', 'MRPL27', 'VCL', 'SEC16A', 'NFKB2', 'CPSF6', 'USP14', 'PATL1', 'C20orf4', 'NSUN2', 'PRPF31', 'PSMB2', 'NUDC', 'MAD2L1', 'KIF2C', 'TANK', 'PARD3', 'FHL2', 'PSMD6', 'DEPDC5', 'LIMK1', 'CNOT1', 'COPB1', 'SUMO4', 'ARHGAP32', 'H2AFZ', 'GNAI2', 'SFN', 'DDX24', 'DGKG', 'NUP107', 'DMD', 'SMARCD3', 'DHRS2', 'BCAR1', 'VDAC2', 'PSMD14', 'TAOK1', 'PSMD7', 'PXN', 'SEC13', 'LCK', 'VDAC4', 'PRKCE', 'MAPRE1', 'WDR36', 'SNRPA1', 'SUPT3H', 'KARS', 'RIPK2', 'PRPF40A', 'ALDOA', 'LSM1', 'ARFGEF2', 'STIP1', 'SNRPD3', 'SART1', 'STAT1', 'PHLPPL', 'CLASP2', 'SETX', 'TBK1', 'TIAM1', 'GTF2F2', 'PRKCD', 'MAP3K14', 'EPHB4', 'MAP3K2', 'TNK2', 'SF3A2', 'PSMA6', 'PAK4', 'MARK2', 'MLLT4', 'TAF9', 'CDK9', 'PGK1', 'MAPK9', 'KRT1', 'SUMO1P3', 'AURKB', 'TNK1', 'RELA', 'RBM28', 'PSMD11', 'SMARCD1', 'NCBP2', 'TNPO1', 'SNRP70', 'MARK3', 'SSB', 'PSMD8', 'BRD3', 'TP53', 'ARAF', 'CSNK1A1', 'MAP2K2', 'PCAF', 'AURKA', 'PIK3R1', 'KRT10', 'RACGAP1', 'PSMA5', 'RBM34', 'FRAP1', 'SLC25A6', 'TSR1', 'RPS27', 'PSMD13', 'PSMB4', 'FGFR1', 'RAB6B', 'PHB', 'KIF3A', 'BXDC2', 'MTHFD1', 'BRAF', 'BMP2K', 'G3BP1', 'TAF5', 'ARPC5L', 'PSMC5', 'POLR1E', 'PRKCB1', 'PSMB3', 'PSMB1', 'LEO1', 'CLTB', 'PSMA2', 'TAF6', 'PRPF8', 'HDLBP', 'LMO7', 'RRP12', 'MAPK14', 'PSMB5', 'MAP3K3', 'UPF1', 'UTP20', 'PSMA1', 'ARHGAP15', 'PTK2', 'PSMD1', 'PCNA', 'SMARCA2', 'DDB1', 'MOBKL1B', 'PSMA3', 'RPL28', 'LARP2', 'EIF6', 'EEF1A2', 'PSMC1', 'VCP', 'MAPK3', 'IMPDH1', 'SLC25A5', 'PSMC6', 'POLR2C', 'HSP90AA2', 'MPRIP', 'RPS10', 'PFKP', 'RPLP1', 'TUBA1B', 'RPS7P1', 'AP2M1', 'HNRPD', 'WEE1', 'PPP1R12A', 'IDH3A', 'CTPS', 'PSMD3', 'RPA1', 'PTK2B', 'EIF4B', 'EIF4G3', 'SMARCC2', 'YES1', 'NAT10', 'HIST1H2AH', 'HIST1H2AC', 'SMARCA4', 'EIF4E'], 275: ['C20orf24', 'BRF2', 'PTP4A3', 'SMAD1', 'SMAD4', 'HMGB1', 'SMAD3', 'MAPK9', 'COPB2'], 276: ['TRAF6'], 277: ['NFKB1', 'TNK2', 'RELA', 'DLSTP', 'PCMT1', 'AP2M1'], 278: ['MPRIP', 'PPP1CB', 'SPDYA'], 282: ['SMAD9', 'AKT1', 'USP7', 'SMAD3', 'SART1', 'ARRB1', 'VCP', 'RPA1', 'TOP1'], 283: ['EP300', 'RAB6C', 'TBP', 'ARHGAP15', 'POLE', 'TOP1'], 284: ['STK38L'], 286: ['PFKP'], 288: ['MMS19'], 289: ['IFT88', 'TSR2', 'LONRF2', 'TTK', 'RIBC2', 'DGCR14', 'NINL', 'EAF1', 'SIN3B', 'ERCC1', 'PUS7', 'PAK1IP1', 'FZR1', 'TARDBP', 'NET1', 'STXBP2', 'MED10', 'DNAJB1', 'DLAT', 'PNO1', 'TADA2L', 'MAPRE1', 'PRPF40A', 'STIP1', 'PHLPPL', 'RANBP5', 'TAF9', 'PRKAA2', 'TAF12', 'PCAF', 'ACACB', 'RPL15P3', 'RPS27', 'MTHFD1', 'RPL9P7', 'RPL9', 'TAF5', 'CPSF3', 'RPL13AP25', 'TAF6', 'UPF1', 'SMARCA2', 'NEDD4L', 'LARP2', 'BOP1', 'PRDX2', 'CTPS', 'SMARCA4'], 291: ['CD2AP', 'NUF2', 'SH3KBP1', 'NUP98', 'NUDC', 'KIF2C', 'SRPK2', 'KCNAB1', 'STAT1', 'PDHA1', 'RPS27', 'FASN', 'HDLBP', 'ARRB2', 'TRAF6', 'ARRB1', 'EEF1A2', 'RPLP1', 'CTPS'], 292: ['TOP1'], 293: ['METTL7A', 'DXO', 'DOM3Z', 'NAF1', 'RGL3', 'SNRP70', 'NEDD4L'], 295: ['CTR9', 'KARS', 'KRI1', 'RAB6B', 'RANP1', 'NAT10'], 296: ['BRCA1', 'ATP2A2'], 297: ['BAT3', 'RBM19', 'INCENP', 'CYR61', 'HNRPA3', 'TEX10', 'SEC13', 'PFKFB3', 'DPM1', 'SPTLC1', 'ACTBL2', 'POTEKP', 'AP3D1', 'SDC3', 'MAP1B', 'HIST2H2AB', 'ATP5J2', 'SEH1L', 'RAB11FIP5', 'NUP133', 'MRPS22', 'ARR3', 'G3BP2', 'MYC', 'VPS35', 'TUBB2A', 'SMARCC1', 'STK38', 'HDGFRP2', 'SAG', 'DGKE', 'GTF3C4', 'NOLA3', 'ZRANB2', 'PCBP1', 'PPM1B', 'PPM1A', 'GTF3C1', 'TUBA1C', 'POLR1E', 'SCYL2', 'TUBA3D', 'TUBA3C', 'ABL1', 'FASN', 'TAF6', 'ARRB2', 'RPN1', 'DGKZ', 'RANBP2', 'CLTA', 'DDB1', 'ARRB1', 'EEF1A2', 'DDX20', 'RPN2', 'DNAJA3', 'RBM10', 'HNRPD', 'TCOF1', 'EIF4B', 'P4HB', 'PRPF6', 'DDX1', 'MYBBP1A'], 298: ['CREB3', 'CCR5', 'GORASP2', 'SORBS2', 'EXOSC4', 'RTN1', 'HIP1R', 'PNN', 'ARID4B', 'CASP8', 'UTP18', 'C3orf26', 'LDHA', 'MED31', 'CAV1', 'NFKB2', 'DLG1', 'C20orf4', 'MED10', 'MAPK8', 'DDX50', 'PRPF19', 'NCK1', 'MED7', 'SFRS3', 'EIF2S1', 'SEC13', 'VDAC4', 'DLG3', 'CCNC', 'MED6', 'CDK8', 'SHMT2', 'PABPC3', 'ARD1A', 'CAPN1', 'TAF9', 'PRPF3', 'MAP1B', 'HDAC6', 'NCBP2', 'DICER1', 'TPM1', 'SNRP70', 'VPS35', 'POLR2I', 'PPP1CA', 'DYNLL1', 'ARPC5L', 'NOC4L', 'UBR5', 'ABL1', 'ATP1A1', 'CLTA', 'DDB1', 'DDX39B', 'BAT1', 'RPL28', 'ARRB1', 'EEF1A2', 'RBBP7', 'CCT5', 'DDX20', 'RSL1D1', 'NOP58', 'POLR2L', 'PFKP', 'RPLP1', 'TUBA1B', 'RBM10', 'PPP1R12A', 'TUBB3', 'HDAC1', 'CTPS', 'ACTG2', 'TCOF1', 'CCT8', 'EIF4B', 'EIF4G3', 'DBN1', 'HNRNPC', 'MYBBP1A', 'EIF4E'], 299: ['FGFR1', 'PCNA'], 300: ['CHD2', 'PSMB8', 'LEPR', 'ATF7IP', 'PFDN6', 'PRKD2', 'ATXN2', 'UBE2G2', 'AP2A2', 'TSR1', 'RBL2', 'PRMT1', 'AP2M1'], 302: ['EPHB4', 'CSNK1A1', 'KPNA5', 'SMC4', 'MAPK14', 'PTK2', 'KPNA6', 'MAT1A', 'PTK2B', 'YES1'], 303: ['RAC1'], 304: ['LSM5', 'COPB1', 'PRPF40A', 'ARL1', 'CSNK1G3', 'RRP12', 'PCNA', 'COPG'], 305: ['DGCR14', 'PNMA1', 'TFDP1', 'TXN', 'CAV1', 'RAB6C', 'EIF4G3'], 308: ['PFDN4', 'VBP1', 'PBRM1', 'PFDN2', 'STAT3', 'CBL', 'TNPO1', 'PCAF', 'SLC25A6', 'KIAA0368', 'PSMB1', 'ARHGAP15', 'ACTR2', 'CAMK2A', 'EPRS', 'CTPS', 'SMARCC2', 'MMS19', 'KIAA0664'], 311: ['PRPF3', 'NME2', 'HDLBP', 'KPNA6', 'RANP1'], 312: ['PPP6C'], 314: ['TPO', 'SOCS4', 'SOCS2', 'SOCS6', 'SOCS3', 'SOCS5', 'SOCS1', 'JAK3', 'TYK2', 'JAK1', 'CUL1', 'FRAP1', 'JAK2', 'CBLB', 'GSK3B'], 315: ['AP1M1'], 316: ['ULK3', 'CDK2'], 318: ['ATP5O', 'KRT5', 'ACTN2', 'KRT10', 'CDK2', 'DNAJA3'], 319: ['RBBP6', 'ESR1', 'UBE2G2', 'RAC1', 'ACTN2', 'PTK2B'], 320: ['GOLGA2', 'PDHB', 'EIF2S1', 'VHL', 'TBL1XR1', 'RANBP5', 'HLA-B', 'VDAC3', 'IQGAP1', 'RPL37A', 'LRPPRC', 'PSMD13', 'RPL9P7', 'RPL9', 'EIF3E', 'PSMD1', 'EIF3C', 'RPS28', 'EIF3B', 'CCT2', 'RPS10', 'RPLP1', 'OLA1', 'IDH3A', 'CCT8', 'CAPZB', 'RPS26', 'HADHB'], 322: ['MMS19'], 323: ['TNFRSF1A', 'RPL37A', 'HIST1H3J', 'HIST1H3E', 'HIST1H3D', 'HIST1H3C', 'HIST1H3B', 'HIST1H3A', 'H3F3AP6', 'HIST2H3A', 'HIST1H3H', 'NEDD4L', 'RBBP7', 'SMARCC2', 'SMARCA4'], 325: ['MNAT1'], 326: ['MED18', 'AHCTF1P', 'DDX50', 'VHL', 'TNIK', 'SMARCD1', 'MYC', 'ARAF', 'FRAP1', 'H1FX', 'TUBA1C', 'TUBA3D', 'TUBA3C', 'ATP2A2', 'RANBP2', 'ARRB1', 'RSL1D1', 'COPA', 'MPRIP', 'RBM10', 'WEE1', 'TCOF1', 'EIF4B', 'HNRNPC', 'MYBBP1A'], 327: ['CAV1', 'KPNA2'], 328: ['RABGEF1', 'MAP3K5', 'VCL', 'ATP6V1E1', 'STXBP2', 'DLAT', 'CAP2', 'CAP1', 'PRKAA2', 'TGFBR1', 'BMP2K', 'IKBKE', 'EIF6', 'BOP1', 'SLC25A5', 'HSP90AA2'], 329: ['CUL1'], 331: ['DCP1A', 'AKT1', 'GART', 'CAMK1D', 'CHEK2', 'CRKRS', 'TP53', 'ACACB', 'SLC25A6', 'KPNA5', 'UPF1', 'NEDD4L', 'KPNA6', 'GSK3B', 'PDPK1'], 332: ['USP7', 'SMAD3', 'SMARCC1', 'KRT10', 'TOP2A', 'MYBBP1A', 'SMARCA4'], 333: ['RGL3'], 334: ['EIF3A'], 336: ['EXOC4', 'GMPS', 'RCC1', 'RPS21', 'STAT3', 'MCC', 'NSF', 'EP300', 'RELA', 'PCAF', 'TBP', 'TUFM', 'RBBP7', 'MAPK3', 'SLC25A5', 'PRDX1', 'HDAC1', 'SLC25A3', 'PTK2B'], 337: ['ING1', 'EP300', 'CCNH'], 338: ['PSMA1', 'NEDD4L', 'OAT'], 340: ['NOLA1', 'TFIP11', 'RELA', 'ABL1'], 341: ['CCR5', 'IL4R', 'EPOR', 'SF4', 'NOTCH1', 'RAB5A', 'HMGCLL1', 'PPP2R2C', 'PIN1', 'SHMT1', 'SF3B6', 'HNRPUL1', 'MYO1E', 'PHF5A', 'GEMIN4', 'SFRS11', 'DEPDC5', 'GNL2', 'PSMD7', 'SORT1', 'KARS', 'SNRPD3', 'RANBP5', 'PGK1', 'SLC25A13', 'LARP7', 'ATP5J2', 'PSMD11', 'NCBP2', 'MRPS22', 'MDN1', 'PSMD8', 'ARL1', 'PRKAR2A', 'RPS27', 'PSMD13', 'PCBP1', 'KIF3A', 'MTHFD1', 'PSMC5', 'CPSF3', 'SSR4', 'ATP1A1', 'PSMD1', 'PSMC1', 'DDX20', 'BOP1', 'MAT1A', 'POLR2C', 'RPS26P8', 'RPS26P10', 'RPS10', 'RPS7P1', 'PSMD3', 'IPO9', 'CCT8', 'EIF4G3', 'PRPF6', 'RPS26', 'CCT4'], 342: ['PRKAA2', 'ATR'], 343: ['CDK5RAP3', 'DDX47', 'TRPV4'], 344: ['BTK'], 346: ['PIN1', 'TP53', 'MYL12B', 'ABL1'], 348: ['CBLB'], 349: ['PFKP'], 351: ['CTNNB1', 'CHUK', 'PRDX2'], 352: ['GTF2B', 'HTATIP', 'DLG4', 'GTF3C4', 'KIAA0368', 'CCNH', 'MARS', 'ABL1', 'RPN1', 'UPF1', 'RBBP7', 'BOP1', 'MAT1A', 'NEK9', 'HIST1H2AH', 'HIST1H2AC'], 353: ['DNM1', 'DLAT', 'ARD1A', 'DDB1', 'RPLP1'], 354: ['AATF', 'TBL1XR1', 'CBS', 'CSNK1G3', 'PSMA5', 'SLC25A6', 'KRR1', 'PSMB4', 'EIF5AP1', 'ACO2', 'PSMB3', 'PSMB1', 'KPNA5', 'PSMA2', 'PSMB5', 'PSMA1', 'KPNA6', 'PSMA3', 'PSMC1', 'RPS7P1', 'PPP6C', 'PPP2R1A', 'OAT'], 355: ['FA2H', 'LDB3', 'HMGB1', 'POLR3F', 'POLR1D', 'CREBBP', 'RAB6C', 'PCAF', 'UBR2', 'RAB6B', 'POLR1E', 'ACTA1', 'DDB1', 'CCT2', 'PPP6C', 'PTPN11', 'HDAC1', 'CCT8'], 357: ['ALK', 'RAD21', 'SH3GL3', 'SPTLC2', 'DNALI1', 'TPD52L2', 'TPD52', 'EPB41L2', 'RAP1GAP', 'DNM1L', 'PPID', 'SMC3', 'USP22', 'NUP98', 'MED23', 'COPB1', 'UBE1', 'SMC1A', 'TADA2L', 'SUPT3H', 'MED6', 'RPAP2', 'NSF', 'TAF9', 'HDAC6', 'POLR2G', 'POLR2J', 'TAF12', 'POLR2I', 'PCAF', 'MTHFD1', 'TAF5', 'ARPC5L', 'NOC4L', 'TAF6', 'SMC4', 'PSMB5', 'POLR2D', 'PSMD1', 'DDX39B', 'BAT1', 'POLR2H', 'POLR2F', 'RSL1D1', 'COPB2', 'NOP58', 'COPA', 'POLR2L', 'POLR2C', 'PFKP', 'RPS7P1', 'TOP2A', 'COPG', 'OLA1', 'CCT4', 'SMARCA4'], 359: ['SSRP1', 'PCNA', 'NEDD4L', 'IKBKE', 'DDB1', 'RPS10'], 360: ['OCLN', 'CDC25B', 'GORASP2', 'COIL', 'CDC25C', 'RRN3', 'CDKN1A', 'CBX2', 'CCNA1', 'EXOC7', 'POLA1', 'FGF20', 'GH1', 'UTP14A', 'BMPR1B', 'TFDP1', 'GLI2', 'MRE11A', 'PSMB7', 'PSMB6', 'AARS', 'UBQLN1', 'PIN1', 'SMAD4', 'PSMD12', 'CLP1', 'BRCA1', 'PSMB2', 'RPA2', 'PSMD6', 'SFN', 'SMARCD3', 'PSMD14', 'PPP2CB', 'PSMD7', 'ACVR1', 'DYRK1A', 'CDK5', 'PSMA6', 'TUBG1', 'RNPS1', 'PSMD11', 'PSME4', 'XPOT', 'PSMD8', 'SMARCB1', 'PSMA5', 'PSMD13', 'PSMB4', 'FGFR1', 'CTNNA1', 'RBL2', 'PSMC5', 'PSMB3', 'PSMB1', 'PSMA2', 'MAPK14', 'PSMB5', 'EIF3A', 'PSMA1', 'PSMD1', 'SMARCA2', 'TRAF6', 'PSMA3', 'GSK3B', 'CDK2', 'PSMC1', 'PSMC6', 'RBM10', 'HNRPD', 'PSMD3', 'SMARCC2', 'CCT4', 'SMARCA4'], 361: ['TRAF6'], 362: ['THG1L', 'PPTC7', 'SDHB', 'DUSP14', 'GPI', 'PFDN5', 'WDR82', 'ATP5O', 'HIST2H3PS2', 'HIST2H3C', 'CFDP1', 'VPS72', 'TPM3P4', 'YEATS4', 'DUSP4', 'PSMD12', 'SRCAP', 'ERCC2', 'DNM1', 'RAD50', 'IKBKG', 'SOD1', 'ESR1', 'FHL2', 'PSMD6', 'H2AFV', 'LARS', 'H2AFZ', 'NUP107', 'ETFA', 'PSMD14', 'PSMD7', 'BTK', 'PFKFB3', 'WDR26', 'SUPT3H', 'MCC', 'PMM2', 'PGD', 'TPM3', 'DARS', 'TBL1XR1', 'MDH2', 'ACTBL2', 'POTEKP', 'PGK1', 'AP3D1', 'SDC3', 'MAP1B', 'CTNND1', 'PPA1', 'HIST2H2AB', 'PSMD11', 'RAB11FIP5', 'MAX', 'TARS', 'ARR3', 'TPM1', 'RAB6C', 'TUBB2A', 'TP53', 'STK38', 'HDGFRP2', 'SAG', 'PSMA5', 'DGKE', 'NOLA3', 'ZRANB2', 'PSMD13', 'PSMB4', 'RAB6B', 'KIAA0368', 'CTNNA1', 'PPM1B', 'PPM1A', 'ARPC5L', 'PSMC5', 'TUBA1C', 'POLR1E', 'SCYL2', 'PSMB3', 'PSMB1', 'LEO1', 'TUBA3D', 'TUBA3C', 'HIST2H3A', 'HIST1H3H', 'KPNA5', 'PSMA2', 'FASN', 'ATP2A2', 'ARRB2', 'ACTA1', 'LOC440926', 'H3F3B', 'PSMB5', 'DGKZ', 'PSMA1', 'PSMD1', 'IKBKE', 'CLTA', 'KPNA6', 'PSMA3', 'RPL28', 'LARP2', 'EIF6', 'ARRB1', 'EEF1A2', 'PSMC1', 'MAT1A', 'RPN2', 'COPA', 'DNAJA3', 'PSMC6', 'PRDX1', 'PRDX2', 'TUBA1B', 'RBM10', 'HNRPD', 'PPP6C', 'OLA1', 'CTPS', 'PSMD3', 'ACTG2', 'TCOF1', 'EIF4B', 'P4HB', 'DDX1'], 363: ['NSF'], 366: ['ATXN1', 'HDAC1'], 367: ['MEF2A', 'KIAA0776', 'SYNJ1', 'CYFIP2', 'SRGAP3', 'USP9X', 'HSP90B1', 'CBX5', 'CHAF1A', 'ENAH', 'WASF2', 'CCNE1', 'HSD17B12', 'CDC37', 'HDAC3', 'SMAD1', 'EXOSC10', 'INOC1', 'ACTR8', 'NCK2', 'CYFIP1', 'MARK4', 'ABL2', 'CENPF', 'SMARCD3', 'HTATIP', 'PPIF', 'CCNC', 'MCC', 'SUMO1P3', 'RELA', 'SMARCD1', 'MYC', 'TP53', 'PRKAB1', 'FRAP1', 'CTNNB1', 'ABL1', 'LOC440926', 'H3F3B', 'TRAF6', 'IKBKE', 'MAT1A', 'CAMK2A', 'TUBA1B', 'HDAC1', 'RPA1', 'TOP1'], 369: ['CRNKL1', 'CDK9'], 371: ['SYNCRIP', 'TNK2', 'PPP2CA', 'POLR2I', 'RBL2', 'RANBP2', 'PSMD1'], 372: ['POLR1D', 'ATP5J2', 'SF3A1', 'MCM7', 'POLR2H', 'POLR2L'], 373: ['CPSF6', 'SMARCC1', 'RANBP2', 'NEK9'], 374: ['GSTK1', 'EPB41', 'VHL', 'MCC', 'HLA-B', 'HNRNPL', 'POLR2L', 'SLC25A5', 'ACTG2', 'HNRNPC', 'MYBBP1A'], 376: ['NCK1', 'DNM2', 'CLNS1A', 'RNPS1', 'MYO1B', 'TGFBR1', 'PRKCB1', 'ABL1', 'ARRB2', 'ARRB1', 'CCT3', 'RBM10', 'PPIAP22', 'PPIA', 'HNRPD', 'TCOF1', 'EIF4B', 'P4HB', 'EIF4G3', 'CCT4', 'EIF4E'], 378: ['MDH2']}\n"
     ]
    }
   ],
   "source": [
    "half_query_filepath = directory + \"half_clusters.txt\"\n",
    "print_querylist_of_clusters_to_file(clusters, clusters.get_all_cluster_labels(), half_query_filepath, half_qualifying_proteins)\n",
    "half_fe = get_initialized_fe(background_proteins_filepath, term_mapping_filepath, termlist = background_go_terms)\n",
    "half_fe.importFiles({'query': half_query_filepath })\n",
    "half_fe.run(cluster=False)\n",
    "\n",
    "print(f\"number of functionally enriched clusters after addition of 1/2 proteins: {half_fe.enrichment['Module'].nunique()}\")\n",
    "\n",
    "\n",
    "quarter_query_filepath = directory + \"quarter_clusters.txt\"\n",
    "print_querylist_of_clusters_to_file(clusters, clusters.get_all_cluster_labels(), quarter_query_filepath, quarter_qualifying_proteins)\n",
    "quarter_fe = get_initialized_fe(background_proteins_filepath, term_mapping_filepath, termlist = background_go_terms)\n",
    "quarter_fe.importFiles({'query': quarter_query_filepath })\n",
    "quarter_fe.run(cluster=False)\n",
    "\n",
    "print(f\"number of functionally enriched clusters after addition of 1/4 proteins: {quarter_fe.enrichment['Module'].nunique()}\")\n",
    "\n",
    "\n",
    "tenth_query_filepath = directory + \"tenth_clusters.txt\"\n",
    "print_querylist_of_clusters_to_file(clusters, clusters.get_all_cluster_labels(), tenth_query_filepath, tenth_qualifying_proteins)\n",
    "tenth_fe = get_initialized_fe(background_proteins_filepath, term_mapping_filepath, termlist = background_go_terms)\n",
    "tenth_fe.importFiles({'query': tenth_query_filepath })\n",
    "tenth_fe.run(cluster=False)\n",
    "\n",
    "print(f\"number of functionally enriched clusters after addition of 1/10 proteins: {tenth_fe.enrichment['Module'].nunique()}\")\n",
    "\n",
    "\n",
    "print(half_qualifying_proteins)\n",
    "print(quarter_qualifying_proteins)  \n",
    "print(tenth_qualifying_proteins)\n"
   ]
  },
  {
   "cell_type": "code",
   "execution_count": 17,
   "metadata": {},
   "outputs": [
    {
     "name": "stdout",
     "output_type": "stream",
     "text": [
      "number of functionally enriched clusters after addition of 3 1/10 proteins: 355\n"
     ]
    }
   ],
   "source": [
    "from recipe_utils import top_n_proteins\n",
    "\n",
    "three_tenth_qualifying_proteins = top_n_proteins(tenth_qualifying_proteins, n=3)\n",
    "three_tenth_query_filepath = directory + \"three_tenth_clusters.txt\"\n",
    "print_querylist_of_clusters_to_file(clusters, clusters.get_all_cluster_labels(), three_tenth_query_filepath, three_tenth_qualifying_proteins)\n",
    "half_tenth_fe = get_initialized_fe(background_proteins_filepath, term_mapping_filepath, termlist = background_go_terms) \n",
    "half_tenth_fe.importFiles({'query': three_tenth_query_filepath })\n",
    "half_tenth_fe.run(cluster=False)\n",
    "print(f\"number of functionally enriched clusters after addition of 3 1/10 proteins: {half_tenth_fe.enrichment['Module'].nunique()}\")\n"
   ]
  },
  {
   "cell_type": "code",
   "execution_count": null,
   "metadata": {},
   "outputs": [],
   "source": []
  }
 ],
 "metadata": {
  "kernelspec": {
   "display_name": "recipe",
   "language": "python",
   "name": "python3"
  },
  "language_info": {
   "codemirror_mode": {
    "name": "ipython",
    "version": 3
   },
   "file_extension": ".py",
   "mimetype": "text/x-python",
   "name": "python",
   "nbconvert_exporter": "python",
   "pygments_lexer": "ipython3",
   "version": "3.10.6"
  },
  "orig_nbformat": 4,
  "vscode": {
   "interpreter": {
    "hash": "62f9e904ff1d4fa6e27f2984f15409dfffcff7468a54928ca0992224464fe58b"
   }
  }
 },
 "nbformat": 4,
 "nbformat_minor": 2
}
