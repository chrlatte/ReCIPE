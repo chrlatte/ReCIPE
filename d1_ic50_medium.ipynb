{
 "cells": [
  {
   "attachments": {},
   "cell_type": "markdown",
   "metadata": {},
   "source": [
    "d1_ic50_medium"
   ]
  },
  {
   "attachments": {},
   "cell_type": "markdown",
   "metadata": {},
   "source": []
  },
  {
   "cell_type": "code",
   "execution_count": 1,
   "metadata": {},
   "outputs": [],
   "source": [
    "# imports:\n",
    "\n",
    "# standard libraries\n",
    "import numpy as np\n",
    "import pandas as pd\n",
    "import matplotlib.pyplot as plt\n",
    "# library used for functional enrichment analysis\n",
    "from func_e.FUNC_E import FUNC_E  # a method that can do funtional enrichment analysis!\n",
    "import func_e.vocabs.all as vocabs\n",
    "# following code is necessary as some functions used in the funcE class produce future warnings but i can't fix it as it is not my code\n",
    "import warnings\n",
    "warnings.simplefilter(action='ignore', category=FutureWarning)\n",
    "\n",
    "# importing the custom classes i built\n",
    "from matrix_class import ProteinMatrix # ppi matrix \n",
    "from cluster_class import AllClusters # dictionary to hold all clusters (in form number of cluster : list of proteins in that cluster)\n",
    "from degreelist_class import DegreeList # creates a list of all proteins in order of their degree\n",
    "\n",
    "# helper functions for setting up program\n",
    "from recipe_utils import initialize_matrix_clusters_degreelist\n",
    "from recipe_utils import find_clusters_and_proteins_together\n",
    "\n",
    "# helper functions for functional enrichment\n",
    "from recipe_utils import print_querylist_of_clusters_to_file\n",
    "from recipe_utils import print_protein_background_to_file\n",
    "from recipe_utils import create_term_mapping_list\n",
    "from recipe_utils import get_initialized_fe"
   ]
  },
  {
   "attachments": {},
   "cell_type": "markdown",
   "metadata": {},
   "source": [
    " **must change filenames:**"
   ]
  },
  {
   "cell_type": "code",
   "execution_count": 2,
   "metadata": {},
   "outputs": [],
   "source": [
    "interactions_file = \"data/interactions/1_ppi_string_v2.txt\"\n",
    "clusters_file = \"data/d1_ic50_medium/d1_ic50_medium.json\""
   ]
  },
  {
   "cell_type": "code",
   "execution_count": 3,
   "metadata": {},
   "outputs": [],
   "source": [
    "matrix, clusters, degreelist = initialize_matrix_clusters_degreelist(interactions_filepath=interactions_file, clusters_filepath=clusters_file)"
   ]
  },
  {
   "attachments": {},
   "cell_type": "markdown",
   "metadata": {},
   "source": [
    "*may want to change parameters below:*"
   ]
  },
  {
   "cell_type": "code",
   "execution_count": 4,
   "metadata": {},
   "outputs": [],
   "source": [
    "sqrt_qualifying_clusters, sqrt_qualifying_proteins = find_clusters_and_proteins_together(matrix, clusters, degreelist, cluster_ratio=0, cluster_constant=2, use_sqrt=True, protein_ratio=1, protein_constant=0)"
   ]
  },
  {
   "cell_type": "code",
   "execution_count": 5,
   "metadata": {},
   "outputs": [
    {
     "data": {
      "text/plain": [
       "{22: ['DHFRL1', 'DHFR'], 41: ['NDUFB10']}"
      ]
     },
     "execution_count": 5,
     "metadata": {},
     "output_type": "execute_result"
    }
   ],
   "source": [
    "sqrt_qualifying_proteins"
   ]
  },
  {
   "cell_type": "code",
   "execution_count": 6,
   "metadata": {},
   "outputs": [],
   "source": [
    "# from recipe_utils import top_n_proteins\n",
    "\n",
    "# three_qualifying_proteins = top_n_proteins(sqrt_qualifying_proteins, n=3) \n",
    "# three_qualifying_proteins"
   ]
  },
  {
   "cell_type": "code",
   "execution_count": 7,
   "metadata": {},
   "outputs": [],
   "source": [
    "# from recipe_utils import get_cluster_connectivity\n",
    "\n",
    "# original_cluster_connectivity = get_cluster_connectivity(matrix, degreelist, clusters, {}, sort_it=False)\n",
    "# new_cluster_connectivity = get_cluster_connectivity(matrix, degreelist, clusters, added_proteins=sqrt_qualifying_proteins, sort_it=False)\n",
    "\n",
    "# from recipe_utils import calculate_connectivity_difference\n",
    "\n",
    "# difference = calculate_connectivity_difference(original_cluster_connectivity, new_cluster_connectivity, sort_it=True)\n",
    "# difference"
   ]
  },
  {
   "cell_type": "code",
   "execution_count": null,
   "metadata": {},
   "outputs": [],
   "source": []
  },
  {
   "attachments": {},
   "cell_type": "markdown",
   "metadata": {},
   "source": [
    "### Functional Enrichment Analysis"
   ]
  },
  {
   "cell_type": "code",
   "execution_count": 8,
   "metadata": {},
   "outputs": [],
   "source": [
    "# create_term_mapping_list(\"data/go_labels/dream3_go.tsv\", \"data/go_labels/d3_term_mapping.tsv\")"
   ]
  },
  {
   "attachments": {},
   "cell_type": "markdown",
   "metadata": {},
   "source": [
    "**will need to the directory below**"
   ]
  },
  {
   "cell_type": "code",
   "execution_count": 9,
   "metadata": {},
   "outputs": [],
   "source": [
    "directory = \"data/d1_ic50_medium/\"\n",
    "term_mapping_filepath = \"data/go_labels/d1_term_mapping.tsv\""
   ]
  },
  {
   "cell_type": "code",
   "execution_count": 10,
   "metadata": {},
   "outputs": [],
   "source": [
    "background_proteins_filepath = directory + \"background_proteinlist.txt\"\n",
    "og_query_filepath = directory + \"original_clusters.txt\"\n",
    "sqrt_query_filepath = directory + \"sqrt_clusters.txt\"\n",
    "# three_query_filepath = directory + \"three_prot_clusters.txt\""
   ]
  },
  {
   "attachments": {},
   "cell_type": "markdown",
   "metadata": {},
   "source": [
    "*print to files*"
   ]
  },
  {
   "cell_type": "code",
   "execution_count": 11,
   "metadata": {},
   "outputs": [],
   "source": [
    "# use functions to print info to files: (annoying, but need to get info into format used for funcE package)\n",
    "# 1) a background protein list to be used for functional enrichment analysis\n",
    "print_protein_background_to_file(matrix, background_proteins_filepath) \n",
    "# 3) not a file, but need to establish a background of all GO terms! (to be used for functional enrichment analysis)\n",
    "background_go_terms = vocabs.getTerms(['GO'])\n",
    "\n",
    "# continue printing info to files to be used in functional enrichment analysis:\n",
    "# 4) print original clusters to a file\n",
    "print_querylist_of_clusters_to_file(clusters, clusters.get_all_cluster_labels(), og_query_filepath)\n",
    "# 5) print updated clusters to a file (just append the function to include the dictionary of qualifying proteins)\n",
    "print_querylist_of_clusters_to_file(clusters, clusters.get_all_cluster_labels(), sqrt_query_filepath, sqrt_qualifying_proteins)\n",
    "# print_querylist_of_clusters_to_file(clusters, clusters.get_all_cluster_labels(), three_query_filepath, three_qualifying_proteins)"
   ]
  },
  {
   "attachments": {},
   "cell_type": "markdown",
   "metadata": {},
   "source": [
    "*RUN Functional Enrichment:*"
   ]
  },
  {
   "cell_type": "code",
   "execution_count": 12,
   "metadata": {},
   "outputs": [],
   "source": [
    "original_fe = get_initialized_fe(background_proteins_filepath, term_mapping_filepath, termlist = background_go_terms)\n",
    "original_fe.importFiles({'query': og_query_filepath })\n",
    "original_fe.run(cluster=False)\n",
    "\n",
    "sqrt_fe = get_initialized_fe(background_proteins_filepath, term_mapping_filepath, termlist = background_go_terms)\n",
    "sqrt_fe.importFiles({'query': sqrt_query_filepath })\n",
    "sqrt_fe.run(cluster=False)\n",
    "\n",
    "# three_fe = get_initialized_fe(background_proteins_filepath, term_mapping_filepath, termlist = background_go_terms)\n",
    "# three_fe.importFiles({'query': three_query_filepath })\n",
    "# three_fe.run(cluster=False)"
   ]
  },
  {
   "attachments": {},
   "cell_type": "markdown",
   "metadata": {},
   "source": []
  },
  {
   "cell_type": "code",
   "execution_count": 13,
   "metadata": {},
   "outputs": [
    {
     "name": "stdout",
     "output_type": "stream",
     "text": [
      "::::::::::::::::::::::::::SQRT::::::::::::::::::::::::::\n",
      "\n",
      "number of clusters that were updated with proteins: 2\n",
      "\n",
      "number of functionally enriched clusters (modules) out of 304 original clusters: 292\n",
      "number of functionally enriched clusters after addition of all proteins: 292\n",
      "\n",
      "number of significant pvals in original clusters before updating: 1327\n",
      "number of significant pvals in clusters with all proteins added: 1330\n",
      "\n",
      "\n"
     ]
    }
   ],
   "source": [
    "print(f\"::::::::::::::::::::::::::SQRT::::::::::::::::::::::::::\\n\")\n",
    "# print data by the numbers!\n",
    "print(f\"number of clusters that were updated with proteins: {len(sqrt_qualifying_proteins.keys())}\\n\")\n",
    "\n",
    "# clusters that are functionally enriched\n",
    "print(f\"number of functionally enriched clusters (modules) out of {clusters.get_num_clusters()} original clusters: {original_fe.enrichment['Module'].nunique()}\")\n",
    "print(f\"number of functionally enriched clusters after addition of all proteins: {sqrt_fe.enrichment['Module'].nunique()}\")\n",
    "print(f\"\")\n",
    "\n",
    "\n",
    "#significant P-values!!!\n",
    "print(f\"number of significant pvals in original clusters before updating: {original_fe.enrichment['Fishers_pvalue'].count()}\")\n",
    "print(f\"number of significant pvals in clusters with all proteins added: {sqrt_fe.enrichment['Fishers_pvalue'].count()}\")\n",
    "\n",
    "\n",
    "print(f\"\")\n",
    "print(f\"\")"
   ]
  },
  {
   "cell_type": "code",
   "execution_count": 14,
   "metadata": {},
   "outputs": [
    {
     "name": "stdout",
     "output_type": "stream",
     "text": [
      "number of functionally enriched clusters after addition of 3 proteins: 292\n"
     ]
    }
   ],
   "source": [
    "from recipe_utils import top_n_proteins\n",
    "three_sqrt_qualifying_proteins = top_n_proteins(sqrt_qualifying_proteins, n=3)\n",
    "three_sqrt_query_filepath = directory + \"three_prot_clusters.txt\"\n",
    "print_querylist_of_clusters_to_file(clusters, clusters.get_all_cluster_labels(), three_sqrt_query_filepath, three_sqrt_qualifying_proteins)\n",
    "sqrt_three_fe = get_initialized_fe(background_proteins_filepath, term_mapping_filepath, termlist = background_go_terms)\n",
    "sqrt_three_fe.importFiles({'query': three_sqrt_query_filepath })\n",
    "sqrt_three_fe.run(cluster=False)\n",
    "print(f\"number of functionally enriched clusters after addition of 3 proteins: {sqrt_three_fe.enrichment['Module'].nunique()}\")\n"
   ]
  },
  {
   "cell_type": "code",
   "execution_count": 15,
   "metadata": {},
   "outputs": [],
   "source": [
    "half_qualifying_clusters, half_qualifying_proteins = find_clusters_and_proteins_together(matrix, clusters, degreelist, cluster_ratio=0, cluster_constant=2, use_sqrt=False, protein_ratio=.50, protein_constant=0)\n",
    "quarter_qualifying_clusters, quarter_qualifying_proteins = find_clusters_and_proteins_together(matrix, clusters, degreelist, cluster_ratio=0, cluster_constant=2, use_sqrt=False, protein_ratio=.25, protein_constant=0)\n",
    "tenth_qualifying_clusters, tenth_qualifying_proteins = find_clusters_and_proteins_together(matrix, clusters, degreelist, cluster_ratio=0, cluster_constant=2, use_sqrt=False, protein_ratio=.10, protein_constant=0)\n"
   ]
  },
  {
   "cell_type": "code",
   "execution_count": 16,
   "metadata": {},
   "outputs": [
    {
     "name": "stdout",
     "output_type": "stream",
     "text": [
      "number of functionally enriched clusters after addition of 1/2 proteins: 292\n",
      "number of functionally enriched clusters after addition of 1/4 proteins: 292\n",
      "number of functionally enriched clusters after addition of 1/10 proteins: 302\n",
      "{}\n",
      "{22: ['DHFRL1', 'DHFR'], 41: ['NDUFB10']}\n",
      "{2: ['TCEANC'], 3: ['CABIN1', 'GOLGA7', 'RAPGEF6', 'CNKSR2', 'DGKZ', 'SLC9A3R2', 'RAPGEF2', 'RBM15', 'NR1I2', 'PRPF38A', 'ELL', 'TTC1', 'KIAA1109', 'ITGA6', 'IL2RG', 'BCAR1', 'CYFIP1', 'MEAF6', 'TJP1', 'DHCR24', 'UBR2', 'BICC1', 'NR1H3', 'UBR1', 'ITGB4', 'TIA1', 'FZD7', 'PTPN3', 'DDX46', 'ERH', 'DDX42', 'FZD4', 'VDR', 'USP9Y', 'GRIN2B', 'PTPRB', 'PDLIM2', 'SNIP1', 'USP24', 'RANBP9', 'VASP', 'PDLIM3', 'F2', 'PTK2B', 'TSC1', 'ITGB2', 'MBTPS1', 'PDLIM1', 'COPE', 'RARA', 'ARVCF', 'PDLIM4', 'CCDC94', 'EPS15L1', 'RPN1', 'CALR', 'GALE', 'FLNB', 'ERCC3', 'PKP4', 'WDR69', 'STAT5B', 'AP4B1', 'RPN2', 'NR3C1', 'ILF2', 'FLNC', 'USP9X', 'PPARA', 'VCL', 'BRAF', 'ALG1L', 'ARAF', 'LDB3', 'ECT2', 'RBL2', 'TGFB1I1', 'CRKL', 'VPS35', 'LPXN', 'PPARG', 'STAT5A', 'BCL2', 'CAMK2A', 'ALG1', 'HIP1', 'DDOST', 'ARF6', 'SHC1', 'AKTIP', 'HIP1R', 'CCDC88B', 'PTK2', 'RBL1', 'CTNND1', 'GLTSCR2', 'PDPK1', 'POLR2D', 'AP1B1', 'CCDC130', 'CPSF2', 'CCND1', 'KLHDC10', 'ITGB1', 'POLDIP3', 'LARP1B', 'WASL', 'PTPN6', 'GUCA1B', 'EXOSC2', 'GUCA1C', 'AP2B1', 'RPL21', 'ERCC2', 'CFL2', 'RPL22', 'EPS15', 'NCS1', 'GUCA1A', 'RPTOR', 'CCNH', 'EIF3E', 'UBE2J1', 'LARP1', 'USP7', 'RPS27', 'MAPK9', 'RCVRN', 'RPL38', 'ACTN4'], 5: ['USF2', 'GJB1', 'NUCB1', 'WDTC1', 'HRG', 'RABIF', 'DHCR24', 'SERPINF2', 'SOX9', 'NSMCE2', 'ANP32E', 'ANP32B', 'ATAD5', 'BCAT1', 'XPC', 'BCAT2', 'ALB', 'SNCA', 'GCH1', 'FLAD1', 'TBCD', 'ADRB2', 'GRIN2B', 'IL4', 'PFDN6', 'NXF3', 'POT1', 'GRIN1', 'ANP32A', 'CCND3', 'PCID2', 'ILF3', 'SAC3D1', 'LSM7', 'ZMIZ1', 'E2F1', 'WDHD1', 'VBP1', 'MCM3AP', 'MUS81', 'DHPS', 'STXBP2', 'CHTF18', 'CAMK2G', 'CDC23', 'CAMK2D', 'PIAS3', 'FN1', 'STXBP1', 'CAMK2B', 'CAMKK1', 'CAMK2A', 'CKS1B', 'PFDN4', 'DDB2', 'PML', 'KLHDC3', 'KDM5B', 'TCEANC', 'TGFB1', 'BRCA1', 'TCEANC2', 'ERCC4', 'ANAPC11', 'MAD1L1', 'CCNE1', 'TOX3', 'SEC22C', 'PIAS4', 'PARK2', 'PIAS2', 'PLCG1', 'SEC22A', 'ALDOA', 'YEATS2', 'TOX', 'POLR3K', 'ZRANB3', 'PLAA', 'SHPRH', 'HMG20B', 'NOS1', 'TCEA3', 'PIAS1', 'SMARCAL1', 'YBX1', 'UBE2J1', 'NOS3', 'IQGAP1', 'NOS2', 'YEATS4', 'MLLT3', 'ACTN4', 'FANCM'], 6: ['PPP6R1'], 11: ['NTHL1', 'MBTPS1', 'NARS', 'IDH2', 'IDH1', 'FIGN', 'BUD31', 'FIGNL1', 'SPAST'], 12: ['PTBP3', 'PSME4', 'PSMA3', 'USP7'], 13: ['IDH3A'], 14: ['ANLN', 'ROCK2', 'SPRY2', 'INPP5B', 'OCRL', 'SHC1', 'CBL', 'CDC45', 'SPTA1', 'AP2M1', 'PARK2', 'MPP5', 'MPP2', 'MPP6', 'WASL', 'PPCDC', 'MPP3', 'SACM1L', 'SPTAN1', 'BMI1'], 16: ['CD63', 'BRK1', 'DMP1', 'CD53', 'STAG3L3', 'DCHS2', 'FAT4', 'LDB1', 'IBSP', 'PPIP5K2', 'STAG3', 'PPIP5K1', 'NEMF', 'NUMB', 'ERMN', 'QTRT1', 'QTRTD1', 'ENY2', 'POLR3E', 'PSME2', 'ARHGEF35', 'ARHGEF19', 'PSME1', 'NUDT12', 'RRN3', 'ARHGEF15', 'NCK2', 'MAF1', 'ARHGEF26', 'STAG1', 'ARHGEF5', 'STAG2', 'POLR3D', 'TERT', 'POLR3C', 'BECN1', 'PAPOLB', 'PAPOLG', 'TSC1', 'AK7', 'BRIP1', 'PRICKLE1', 'AK3', 'FLNA', 'MAP1LC3B2', 'TSPO', 'AK8', 'UTP20', 'AKD1', 'AK4', 'SEC61G', 'NGEF', 'ANKRD32', 'RPS27L', 'PSME3', 'ARHGEF16', 'GABARAPL3', 'DHPS', 'ARHGDIA', 'MDN1', 'LMO4', 'UBE2C', 'OR4D6', 'RIOK1', 'CRKL', 'AK2', 'MAP1LC3C', 'PAPOLA', 'EIF3H', 'POLR3F', 'EIF4G3', 'BTF3L4', 'BRCA1', 'FBXO18', 'POLR3H', 'GUF1', 'PEPD', 'MON2', 'RPA2', 'GABARAP', 'PABPC4L', 'CORO2B', 'RPS4XP21', 'PRPSAP2', 'MIB2', 'PABPC5', 'CORO1B', 'TWISTNB', 'SRPR', 'CORO1C', 'ERCC5', 'DAZ3', 'DAZ2', 'CASKIN1', 'RBM3', 'LTV1', 'MORF4L2', 'USP7', 'PSMA7', 'RPS4Y2', 'PSMD7', 'EXO1', 'SLMAP', 'RPL36', 'FANCM', 'MYL6B', 'DAZ4'], 20: ['PLCG1'], 22: ['ZBP1', 'NOMO1', 'MAVS', 'CYLD', 'RBCK1', 'PCMTD1', 'PCMTD2', 'USP4', 'SPSB4', 'SPSB1', 'PCMT1', 'PHF15', 'CDH2', 'NBR1', 'ATG5', 'TRAF3', 'PTPLB', 'SPOPL', 'WRNIP1', 'ASMTL', 'NLK', 'HELB', 'TMEM189-UBE2V1', 'ERH', 'NUBPL', 'SLC30A2', 'GTF2H3', 'SLC30A3', 'TMEM189', 'AP1G2', 'AP5M1', 'AP4M1', 'PMM1', 'SLC30A8', 'SRPRB', 'AP1G1', 'TATDN3', 'TATDN2', 'MED21', 'REV1', 'SPOP', 'UNG', 'ASNS', 'POLK', 'PDF', 'USP21', 'AP1M2', 'TATDN1', 'UBE3B', 'PIF1', 'GGA3', 'GGA2', 'GGA1', 'MTHFD2L', 'STAT2', 'C12orf65', 'MTFMT', 'MAGI1', 'YARS2', 'AP1M1', 'MTRF1L', 'MTRF1', 'MTHFD2', 'AP4B1', 'CASP3', 'TRAF2', 'SQSTM1', 'B3GNTL1', 'POLH', 'AHCYL2', 'UBE2V2', 'HECTD3', 'HECTD1', 'POLG2', 'TAF5L', 'LARS2', 'ALG5', 'DNAJB12', 'KIAA0317', 'TAP2', 'POLI', 'CFDP1', 'UBE2V1', 'DHFRL1', 'ABCB10', 'PARS2', 'ABCB9', 'ALG2', 'ABCB8', 'DNAJB11', 'TAP1', 'GARS', 'CBL', 'BCS1L', 'PIGA', 'COPB2', 'AP1B1', 'FBXO18', 'AP2M1', 'TAF5', 'GUF1', 'TRAF6', 'MAGI3', 'THNSL1', 'TOP3B', 'GNAL', 'REV3L', 'YME1L1', 'DNAJB6', 'AARS2', 'HECTD2', 'IARS2', 'ITPA', 'TTK', 'VARS2', 'RPE', 'TOP3A', 'PUS1', 'AP2B1', 'ABCB5', 'LSM1', 'EPS15', 'CBS', 'SIRT6', 'IKBKG', 'ABCB4', 'AHCY', 'STAT1', 'ABCB11', 'SLC25A3', 'SSBP1', 'DHFR', 'ABCB1', 'STAT3', 'CMPK2'], 23: ['UTRN', 'SPTBN1', 'NCOR1', 'PIP5KL1', 'PIP4K2C'], 27: ['SCD5'], 29: ['CASP3'], 30: ['ELOVL7', 'SPDL1', 'APITD1', 'ELOVL1', 'ELOVL2', 'ELOVL4', 'ELOVL5', 'HOGA1', 'NPL', 'SPHK1', 'AGXT', 'AP1G2', 'AP1G1', 'IFFO2', 'ALAS2', 'ECI2', 'ALDH5A1', 'GGA3', 'GGA2', 'GGA1', 'GOT1', 'ALDH4A1', 'GTF2F2', 'GOT2', 'AP4B1', 'ALDH16A1', 'STXBP2', 'GTF2F1', 'PDHX', 'ALDH1L2', 'ALDH1L1', 'ALDH7A1', 'ALDH8A1', 'ALDH3B2', 'DLAT', 'STXBP1', 'BCL2', 'AP3B2', 'ALDH3A1', 'EHHADH', 'ALDH1A2', 'ALDH9A1', 'AP3B1', 'ALDH3A2', 'ALDH2', 'ALDH1A3', 'POLR2D', 'AP1B1', 'GPD1', 'ALDH1B1', 'ALDH1A1', 'HADHA', 'TALDO1', 'AP2B1', 'HINT1', 'MLH1', 'VAPA', 'SUCLG2', 'CYCS'], 31: ['NIF3L1', 'MED8', 'MED6', 'CYB5A', 'ALDOA', 'PPIH'], 32: ['ECH1', 'NR4A1', 'CYP19A1', 'CASP3', 'ILF2', 'PABPN1', 'CDC45', 'ALDH1A1', 'REV3L', 'RPA2', 'PLAA', 'PSMB7', 'POTEB', 'NKPD1', 'POTEG', 'ANKRD35', 'POTEM', 'CASKIN1', 'POTEC', 'ATAD1', 'DDB1', 'ANKRD24', 'ABTB1', 'KANK3', 'FPGT-TNNI3K'], 34: ['NUP62CL', 'WWC1', 'NUP62', 'NCK1', 'SMAD2', 'NPM1'], 36: ['DGAT2L7P', 'KBTBD7', 'TAF15', 'HNRPDL', 'TH1L', 'MATR3', 'DGCR8', 'NTPCR', 'MOCS1', 'ENTPD2', 'OIP5', 'PLSCR5', 'CKAP2L', 'RAD51AP1', 'TIMM17B', 'URI1', 'TRADD', 'POP5', 'PLSCR2', 'BRD7', 'PLSCR4', 'DNAJC8', 'HNRNPH3', 'CNN2', 'KRT75', 'GTSE1', 'PPP1R8', 'MRPL18', 'PLSCR3', 'POLN', 'COX4I2', 'SLC25A10', 'HNRNPA0', 'TIMM17A', 'ENTPD8', 'CASC5', 'HNRNPL', 'SFPQ', 'ENTPD3', 'ENTPD1', 'TPX2', 'CDK11A', 'EWSR1', 'RBM12B', 'RBM12', 'NUSAP1', 'HNRNPUL1', 'POLR3E', 'MEPCE', 'LIPT1', 'ROCK2', 'NCAPG', 'KRT1', 'SNCA', 'KRT5', 'TXNL4A', 'GCH1', 'CLSPN', 'USP9Y', 'PTBP1', 'ADRB2', 'CAV1', 'SRSF7', 'CDCA8', 'NXF3', 'TOMM20', 'HNRNPR', 'POT1', 'POLR3D', 'NCL', 'ROCK1', 'NUDT2', 'SNRPC', 'DDX23', 'HSPB1', 'RPA4', 'PLSCR1', 'UBE3B', 'UBE3C', 'SAP18', 'ILF3', 'NOP16', 'COX4I1', 'NCAPD2', 'AK3', 'TARDBP', 'TRIP6', 'ASH2L', 'PRIM1', 'POLA2', 'HNRNPK', 'RECQL5', 'HNRNPF', 'NUF2', 'DDX19B', 'HNRNPH1', 'CHAF1A', 'SQSTM1', 'ILF2', 'USP9X', 'CCNE2', 'ARFGAP3', 'NAE1', 'HNRNPU', 'ARHGAP11B', 'HECTD1', 'VDAC3', 'ARHGAP11A', 'CKS1B', 'FCF1', 'PFN4', 'CPSF3', 'AKTIP', 'SEPT1', 'POLR3F', 'CKS2', 'NUP85', 'IQGAP3', 'CDC45', 'VDAC2', 'FUS', 'PRC1', 'ERCC4', 'SEPT4', 'POLR3H', 'CPSF2', 'SLC25A6', 'PCBP2', 'KLHDC10', 'IQCA1', 'CCNE1', 'PFN2', 'SLC25A4', 'SEPT5', 'SOX2', 'CORO6', 'HECTD2', 'WDR48', 'CORO2B', 'ITPA', 'TTK', 'PCBP1', 'LDHAL6A', 'FIGN', 'POLR3K', 'MIB2', 'VDAC1', 'RACGAP1', 'SF3A2', 'HECW1', 'ERCC2', 'LDHC', 'CORO2A', 'CORO1B', 'NDUFAB1', 'PFN1', 'UQCRFS1', 'SNRNP200', 'CORO1C', 'FIGNL1', 'PARP1', 'ERCC5', 'NPM1', 'SF3A1', 'CDC25C', 'SEPT7', 'XRCC5', 'MCM8', 'IQGAP1', 'EXO1', 'SPAST'], 37: ['RSPO3'], 39: ['NTRK2', 'HMBS', 'VPS4A', 'VPS4B', 'VPS26A', 'PDSS2', 'TMEM189', 'DDX41', 'GLDC', 'AMT', 'NPEPPS', 'TMED10', 'SRRM2', 'NUDC', 'VPS35', 'ACAA1', 'CNNM3', 'CTNNA1', 'CTNND1', 'CNNM2', 'VAMP4', 'SH3PXD2B', 'TRAF6', 'SH3PXD2A', 'UBR5', 'VAMP3', 'CLHC1', 'VSNL1', 'SEPT7', 'CDC7', 'STX16-NPEPL1', 'STX16', 'MYL6B'], 40: ['SIAH1'], 41: ['SH3RF2', 'FBXO43', 'FBXL3', 'CFC1B', 'NRG2', 'SCUBE2', 'SCUBE3', 'HIF3A', 'CACNG6', 'FBLN7', 'CACNA2D4', 'WASF3', 'CACNA2D2', 'EGFL7', 'CLOCK', 'CACNA2D1', 'NPAS2', 'CFC1', 'HELT', 'HES2', 'CACNB2', 'CACNB3', 'HES4', 'YPEL3', 'CACNB4', 'CACNB1', 'RBCK1', 'DLL3', 'HES6', 'EPB41L2', 'FAM136A', 'MRPS21', 'WASF1', 'TNFAIP3', 'ARNTL', 'HEYL', 'BHLHE41', 'HDDC3', 'SREBF1', 'CRB2', 'CEP63', 'CACNG7', 'STX10', 'CACNG1', 'MPPE1', 'CACNG4', 'PREB', 'CACNG3', 'LGALS3BP', 'CACNG8', 'CACNG2', 'CPT1B', 'STX6', 'DAB1', 'TIPRL', 'HEY2', 'EPB41L1', 'STX8', 'DLL4', 'DISC1', 'NDUFA11', 'HEY1', 'BOLA1', 'TOMM7', 'NUDCD2', 'SCN2A', 'USP1', 'MRPL55', 'TDGF1', 'AKR1CL1', 'COQ5', 'MYOD1', 'MIS12', 'SREBF2', 'NFU1', 'ARNT', 'SMAD6', 'CEP76', 'CPEB1', 'ACSF2', 'BHLHE40', 'JAG2', 'DLK1', 'GTPBP6', 'MRPL18', 'EPB41L3', 'BDH2', 'SEC31B', 'DAB2', 'YOD1', 'TFRC', 'SAMM50', 'ACSF3', 'DHRS4L2', 'HES1', 'STAG3', 'MRPS35', 'TJP1', 'WDR64', 'DHCR24', 'AKR1B15', 'SMAD9', 'SEC31A', 'CHML', 'TIMELESS', 'CENPF', 'PRTFDC1', 'PECR', 'NDUFS4', 'HSD17B14', 'BANF1', 'SLC9B1P1', 'OTUD6A', 'RNMTL1', 'MRM1', 'AKR1C4', 'MRPL47', 'AKR1C2', 'TIMM8A', 'APOB', 'AKR1E2', 'AKR1C1', 'SLC9B1', 'SMAD5', 'CEP55', 'AKR1C3', 'SLC9B2', 'PARD3', 'SPAG5', 'DECR2', 'QTRTD1', 'EPAS1', 'SMAD7', 'DHRS4', 'SLC9A5', 'QRSL1', 'GINS2', 'CYB5R2', 'NOTCH2NL', 'SLC9A4', 'OTUD6B', 'KDM1A', 'GMPPA', 'DPYSL5', 'TIMM23', 'SGOL1', 'JAG1', 'FANCD2', 'VPS29', 'CYB5R1', 'AKR1D1', 'HSDL2', 'CHM', 'NUDT12', 'ANAPC4', 'DPYSL4', 'CYP51A1', 'SLC9A2', 'TIMM8B', 'LNX1', 'DLL1', 'CYB5R3', 'ZNF259', 'GRIN2B', 'TCF4', 'MAX', 'AKR1B10', 'DPYS', 'AKR1A1', 'ETFDH', 'CSNK2B', 'USP41', 'TSTA3', 'SDR42E2', 'MRRFP1', 'UXS1', 'OXSM', 'STAG1', 'STAG2', 'CACNA1A', 'IFFO2', 'AKR1B1', 'TARBP1', 'TERT', 'GPN3', 'REV1', 'SLC9A3', 'SLC9A6', 'EFNB1', 'SNX2', 'SNX1', 'SDR42E1', 'UNG', 'TIPIN', 'DSCC1', 'CRMP1', 'GDI1', 'SLC9A7', 'DPYSL2', 'SLC9A9', 'DPYSL3', 'NSDHL', 'ESCO1', 'AP1M2', 'TOPBP1', 'SLC9C1', 'RTEL1-TNFRSF6B', 'SLC9A8', 'NDUFS2', 'DAP3', 'MRRF', 'HSD3B7', 'CDS2', 'ANAPC2', 'ALDH5A1', 'ANAPC1', 'NDUFV1', 'GMPPB', 'FXC1', 'SLC9A1', 'CACNA1D', 'RTEL1', 'HIF1A', 'G6PD', 'HSD3B2', 'CACNA1C', 'SLC9C2', 'HSD3B1', 'HSD17B4', 'USP18', 'CACNA1S', 'ATP6V0B', 'MTFMT', 'RABL6', 'SEC23B', 'IL8', 'MCAT', 'GTPBP10', 'ALDH4A1', 'TSPO', 'CDS1', 'CARNS1', 'RAB19', 'RAB43', 'RAB5C', 'MRPL43', 'RAB24', 'CHAF1A', 'CDIPT', 'NEDD8-MDP1', 'ALDH16A1', 'CDT1', 'TRAF2', 'PPIL2', 'EIF2B5', 'DECR1', 'TIMM9', 'RAB33A', 'DMGDH', 'ADSL', 'CWC27', 'COPG2', 'CCNE2', 'CHTF18', 'RAB33B', 'ALDH1L2', 'TIMM13', 'POLH', 'CYC1', 'CDC23', 'WARS2', 'PPIL6', 'SEC23A', 'RBL2', 'ALDH1L1', 'ALDH7A1', 'ALDH8A1', 'ALDH3B2', 'ATP6V0C', 'PPCS', 'ACAT2', 'COX18', 'UPF3B', 'MSL3', 'MARS2', 'ZCCHC13', 'SEC63', 'ACAA1', 'CRY2', 'ANAPC5', 'MRPL20', 'CKS1B', 'CRY1', 'PFDN4', 'DHFRL1', 'PIN4', 'NDUFB10', 'GPD1L', 'ALDH3A1', 'ACAA2', 'DNAJB9', 'COPG1', 'ALDH1A2', 'ATP5G3', 'PPIL1', 'ALDH9A1', 'RBL1', 'RAB1B', 'APRT', 'ADSSL1', 'RAB9B', 'ATP5G1', 'ALDH3A2', 'ALDH2', 'USO1', 'ALDH1A3', 'SPO11', 'FBXW11', 'BRCA1', 'BCS1L', 'HADHB', 'CANX', 'GPD1', 'ALDH1B1', 'FBXO18', 'OXA1L', 'ATP5G2', 'ANAPC11', 'GDI2', 'NACAD', 'GUF1', 'CCNE1', 'DNA2', 'SEC13', 'RAB44', 'ALDH1A1', 'THNSL1', 'SKP2', 'RAB9A', 'RASEF', 'NACA2', 'MRPL27', 'ICT1', 'EXOSC6', 'REV3L', 'PPIL3', 'BLM', 'RAB40C', 'RAB40A', 'PGD', 'RAB1A', 'TSFM', 'PPCDC', 'DALRD3', 'ADSS', 'YEATS2', 'RAB40B', 'RAB12', 'ITPA', 'TTK', 'CDC25B', 'SMAD4', 'RAB40AL', 'PRPSAP2', 'VARS2', 'RPE', 'NACA', 'TCF7L2', 'RAB15', 'PUS1', 'ACAT1', 'CDC16', 'RAB28', 'MRPL12', 'RACGAP1', 'RAB8B', 'LSM1', 'NDUFAB1', 'RAB13', 'DARS', 'SMAD2', 'PPID', 'UQCRFS1', 'SRPR', 'RARS2', 'PPIL4', 'MRPS16', 'NKTR', 'ERCC5', 'MYO16', 'PPIH', 'ABCC1', 'GRPEL2', 'RGPD2', 'RAB10', 'MORF4L2', 'FARSA', 'CDC25C', 'PPIG', 'EXOSC5', 'DHFR', 'EXO1', 'EXOSC4', 'EIF1AY'], 42: ['ITGB1'], 44: ['F2', 'ITGB2'], 45: ['TFAP2A', 'WIPI1', 'ARID5A', 'CYTH2', 'BTF3', 'PTGES3L-AARSD1', 'USO1', 'PTGES3L', 'SMAD2', 'PPID', 'IKBKG', 'STX16-NPEPL1', 'STX16'], 46: ['ACE', 'FIP1L1', 'ROBO1', 'C19orf40', 'PLSCR4', 'ITGB6', 'HNRNPL', 'CPSF6', 'ITGB7', 'ATP6V0D2', 'SENP7', 'ITGB5', 'SP100', 'ITGB3', 'SENP6', 'ITGB2', 'CCS', 'BRIP1', 'PPARG', 'SOD3', 'PTGES3L-AARSD1', 'PML', 'SIRT4', 'ATP5G2', 'ITGB1', 'DDX11', 'CDC37', 'REV3L', 'MIB2', 'PIAS1', 'PARP1', 'XRCC5'], 47: ['DAB2', 'ACSBG2', 'SNX7', 'LIN28A', 'PGR', 'RANBP9', 'LAP3', 'ESR2', 'ASH2L', 'TCEB1', 'PPARA', 'TIMM50', 'NOA1', 'NAE1', 'NUDC', 'CTSD', 'PPARG', 'BCL2', 'HIP1', 'TFIP11', 'COPS2', 'SPG7', 'APRT', 'SAT1', 'BRCA1', 'SLC25A6', 'SLC25A4', 'MRPS14', 'NACA', 'SMAD2', 'PIAS1', 'PSMD14', 'GRPEL2', 'MAPRE2', 'MAPRE3', 'MRPS11', 'RPL36'], 49: ['EHD3', 'SRL', 'SLX4', 'SIAH2', 'PPARGC1A', 'TCEB2', 'FBXO25', 'VHL', 'IPO11', 'HAO2', 'GANAB', 'RFWD2', 'EIF2B2', 'MED1', 'IPO9', 'HSPB1', 'EIF2B1', 'CWC22', 'RARA', 'STAU1', 'UBA5', 'TCEB1', 'CHAF1A', 'HTT', 'CYC1', 'NAE1', 'AHCYL2', 'RAD1', 'BTF3', 'TRIM23', 'CNOT8', 'PSMA6', 'RAB1B', 'BTF3L4', 'HELQ', 'FBXO18', 'ATG7', 'DDX11', 'PIAS4', 'UBA3', 'APC', 'YME1L1', 'AARS2', 'TRMT6', 'IARS2', 'WRN', 'CSE1L', 'ACAT1', 'ERCC2', 'CFL2', 'AHCYL1', 'ATP6V1B2', 'PSMB4', 'PSMB7', 'PSMB10', 'PIAS1', 'CAPZA1', 'IKBKG', 'AHCY', 'EIF3E', 'UTP14A', 'BMI1', 'UBA6', 'NOS2', 'EXO1', 'FANCM'], 50: ['DPH5', 'PCBP1'], 51: ['MRPL17'], 54: ['TOP3A'], 55: ['SLC39A13', 'C9orf41', 'BABAM1', 'FAT1', 'NLN', 'KRT18', 'ENPP5', 'THOP1', 'SOX15', 'CYP39A1', 'DIP2C', 'DIP2B', 'CYP7B1', 'CYP8B1', 'SLX4', 'PTGIS', 'MCEE', 'DIP2A', 'NPHS2', 'GRINA', 'ALG3', 'HMBS', 'CYP7A1', 'SOAT2', 'STOML3', 'FAIM2', 'AGPAT5', 'TMBIM1', 'STOML1', 'TOMM22', 'STT3A', 'ENPP2', 'DERL3', 'ANP32B', 'STT3B', 'TMBIM4', 'SNX8', 'NUP62CL', 'PIGG', 'DERL2', 'KDELR1', 'SOAT1', 'DHRS2', 'DGAT1', 'LBR', 'SLC2A2', 'CYP51A1', 'SORD', 'STOML2', 'MEIS1', 'STOM', 'TOMM20', 'DNAJC4', 'UFD1L', 'IFFO2', 'ANP32A', 'TMEM30B', 'DERL1', 'SNX2', 'DNAJC5G', 'SEC14L2', 'TTPAL', 'DNAJC11', 'KRT8', 'ALDH5A1', 'RLBP1', 'DNAJC5B', 'DNAJC7', 'RNFT1', 'GFPT2', 'SPTLC1', 'DNAJC30', 'ALDH4A1', 'RPN1', 'CDYL', 'HNRNPF', 'DNAJC24', 'UBXN2A', 'DNAJC16', 'NUP62', 'DNAJC22', 'ALX4', 'ALDH16A1', 'RPN2', 'MOSPD3', 'DNAJC3', 'BAP1', 'GFPT1', 'ATP7A', 'TNPO2', 'EIF2B5', 'DNAJC5', 'ATP7B', 'MDN1', 'DNAJB8', 'UBXN2B', 'CHAF1B', 'AFG3L2', 'ALDH1L2', 'ALG1L', 'PLD6', 'DNAJC18', 'DNAJB14', 'ALDH1L1', 'UBXN11', 'ALDH7A1', 'ALDH8A1', 'ALDH3B2', 'RRP15', 'LMO2', 'DNAJB7', 'DNAJC25', 'ALG5', 'ALG11', 'DNAJB12', 'KIAA0317', 'ALG1', 'DNAJB2', 'SPG7', 'ALDH3A1', 'DNAJC25-GNG10', 'ALG2', 'ABCB8', 'DNAJB9', 'HIP1R', 'ALDH1A2', 'DNAJB11', 'PTK2', 'TOMM40', 'ALDH9A1', 'CTNNA1', 'STX3', 'EIF4G3', 'ALDH3A2', 'NSFL1C', 'ALDH2', 'ALDH1A3', 'TOX2', 'PGS1', 'BCS1L', 'PIGA', 'GINS1', 'ALDH1B1', 'DNAJA3', 'DNA2', 'DDX11', 'UCHL5', 'SEC13', 'ALDH1A1', 'SOX2', 'DNAJB13', 'SCD5', 'VAPB', 'DNAJB5', 'DNAJB6', 'DNAJB4', 'SMAD4', 'ABCC3', 'UTP14C', 'PRPF4', 'MCM9', 'ERCC2', 'ABCB5', 'HMG20B', 'VAPA', 'SMAD2', 'ABCB4', 'MAPRE2', 'ABCB11', 'UTP14A', 'DDX52', 'MAPRE3', 'LEF1', 'RPS18', 'ABCB1'], 59: ['CYP19A1', 'FBXW11', 'SLC25A6', 'SLC25A4', 'MAGI3', 'SYVN1'], 60: ['SNRPC', 'PDZD2', 'CTNND1', 'DDX3Y', 'DDX4', 'SLC25A3'], 61: ['ALX1', 'ALX4', 'WNT10A', 'WNT6', 'CLASP1', 'WNT8A', 'WNT8B', 'LHX5', 'WNT9B', 'WNT9A', 'WNT16', 'EXOSC1', 'LHX1', 'WNT5B', 'WNT11', 'WNT7A', 'WNT10B', 'WNT2B', 'WNT3', 'WNT7B', 'WNT2', 'WNT4', 'WNT5A'], 63: ['APOB', 'SERPINC1', 'SERPINA1', 'ALDOB', 'FUS', 'GABARAP', 'ALDOA'], 67: ['TCF3', 'HNRNPH1', 'TBC1D2', 'UBE2H', 'MPP4', 'PLAA', 'STAT1', 'MORF4L2'], 68: ['CWC22'], 71: ['NID1', 'CNDP2', 'CCNK', 'EIF4E2', 'GPD1L', 'DCP2', 'GPD1', 'EIF4E1B', 'CCNT1', 'DMD', 'ATG7', 'REV3L', 'EXOSC2', 'MLH1'], 72: ['RABEPK', 'EIF4G3', 'HADHA', 'LDHAL6B', 'APC', 'LDHC'], 76: ['PPIH'], 77: ['EAF1', 'DDC', 'GRAP', 'PAXIP1', 'UNG', 'GRAP2', 'CLTA', 'DYNLL1', 'PYGB', 'PYGL', 'DNAJC25', 'PYGM', 'ERCC6L2', 'DNAJC25-GNG10', 'BTAF1', 'TGFB1', 'ATG7', 'UCHL5', 'SLC25A3', 'ERCC6'], 78: ['RETSAT', 'ABCD4', 'AMT', 'PHF20L1', 'KDM5C', 'MDC1', 'KDM5A', 'CYB5A', 'STX11', 'KDM5B', 'MPP5'], 79: ['KCNAB1', 'KCNAB2', 'MED31', 'TERF2', 'DDX19A', 'DDX25', 'GFPT2', 'DDX19B', 'RBBP5', 'GFPT1', 'HAS3', 'B3GNTL1', 'POLH', 'HAS2', 'ALG5', 'ADAL', 'HAS1', 'GNPNAT1', 'WNT16', 'RNASEH2A', 'GINS1', 'CCDC130', 'WNT5B', 'WNT11', 'ATG7', 'CCNE1', 'WNT7A', 'DPM1', 'UCHL5', 'CDC37', 'WNT10B', 'WNT2B', 'WNT3', 'ORC5', 'WNT7B', 'WNT2', 'SMAD2', 'PRPF6', 'WNT4', 'UBFD1', 'PGM3', 'WNT5A', 'UBA6', 'CDC7'], 80: ['SLC2A2', 'CAMK2D', 'SHC1'], 81: ['SOX2'], 82: ['NOTCH2NL', 'TRAF2'], 83: ['MRPL32'], 84: ['CDKN1A', 'SLC25A6', 'DHFR'], 86: ['PLCG1', 'NCK1'], 87: ['STX19', 'STX11', 'STX3', 'STX4', 'STX2', 'STX1B', 'STX1A', 'SSBP1'], 89: ['SF3A1'], 90: ['ECT2', 'MLST8'], 91: ['KCNG2', 'KCNC2', 'KCNS3', 'SCN4A', 'SCN1A', 'KCNB1', 'KCNA4', 'AKAP9', 'KCNQ1', 'KCNA5', 'ATP6V1D', 'TBL1Y', 'VPS13D', 'VPS13C', 'VPS13B', 'VPS13A', 'AQP9', 'MBTPS1', 'GAD2', 'CDK20', 'RSPO4', 'EZR', 'SLC25A31', 'PPIL2', 'TBL1X', 'RSPO3', 'CAMK2G', 'RSPO1', 'HECTD3', 'CAMK2D', 'VDAC3', 'KIAA0317', 'RBL1', 'VDAC2', 'TGFB1', 'SLC25A6', 'KNG1', 'SLC25A4', 'MAPRE2', 'XRCC5', 'MAPRE3', 'YEATS4', 'AIMP1'], 93: ['PAX3', 'CKS1B', 'VDAC2', 'RBPJ', 'PTPN6', 'SUZ12', 'VDAC1'], 95: ['TRAF6'], 96: ['ACVRL1', 'SLC16A12', 'SLC16A8', 'SLC16A1', 'SMAD7', 'BMPR1A', 'DHH', 'SPNS3', 'SPNS2', 'TRMU', 'IHH', 'BIRC6', 'SPNS1', 'SHH', 'TCF7L1', 'CNNM3', 'TGFBR1', 'CNNM4', 'WNT16', 'CNNM2', 'CNNM1', 'WNT5B', 'TCF7', 'WNT7A', 'WNT2B', 'WNT3', 'SMAD4', 'WNT7B', 'WNT2', 'TCF7L2', 'SMAD2', 'WNT4', 'WNT5A', 'PSMA7', 'RPL31', 'LEF1'], 98: ['PRL', 'NUDT8', 'PTPRN', 'LIN28A', 'ZFP36L2', 'CYB5R3', 'PTPRN2', 'NUDT2', 'DDX19A', 'DDX25', 'GOT1', 'ASH2L', 'TSPO', 'PARP2', 'DDX19B', 'GALE', 'GOT2', 'HTT', 'PDHX', 'ADRM1', 'DLAT', 'ZCCHC13', 'DNAJB11', 'ZCCHC9', 'DCP2', 'PCBP2', 'PTPRF', 'GBE1', 'POLDIP3', 'MON2', 'PABPC4L', 'CDC25B', 'TALDO1', 'PABPC5', 'NDUFAB1', 'RARS2', 'YBX1', 'ZCCHC14', 'BMI1', 'PSMD7', 'RSRC1', 'FANCM'], 101: ['TERF1', 'PPARG'], 102: ['CDK20', 'NCOR2', 'CDKN1A', 'CDK7', 'FPGT-TNNI3K'], 105: ['WASF3', 'WASF1', 'CRLS1', 'CDIPT', 'ADSL', 'HIP1', 'PPCDC', 'ERCC5', 'XRCC5'], 106: ['FAS', 'MSTN', 'MST1R', 'SMS', 'ZFP36', 'SGPL1', 'CNDP2', 'GAD2', 'GAD1', 'RECQL5', 'MUS81', 'DECR1', 'RAE1', 'RAD1', 'DHX57', 'CTNNA1', 'RECQL', 'ERCC4', 'RPIA', 'MAD1L1', 'IDH1', 'SEC13', 'TOP3B', 'BLM', 'ANXA1', 'WRN', 'TALDO1', 'CSE1L', 'TOP3A', 'NPM1', 'PSMA3', 'MCM8', 'EXO1', 'FANCM'], 107: ['NCOR1'], 108: ['MRPL10', 'IRF9', 'PLCE1', 'TERF2', 'DPM1', 'ACAT1', 'IKBKAP'], 109: ['EHHADH'], 110: ['IFT27', 'URI1', 'SH3GL2', 'MICALL1', 'MICAL3', 'MICALL2', 'RDH11', 'PITRM1', 'PLS3', 'PLS1', 'OSBP', 'EHBP1L1', 'LCP1', 'ALDH1L2', 'UTRN', 'ACAT2', 'USO1', 'SPTA1', 'GDI2', 'DMD', 'BCCIP', 'AHCYL1', 'RAD21L1', 'DHX36'], 113: ['CYP4V2', 'CTSB', 'CLVS1', 'ITGB2', 'TNNT1', 'MAP1LC3B2', 'GRK5', 'CDIPT', 'GABARAPL3', 'MOSPD3', 'SQSTM1', 'ARAF', 'MAP1LC3C', 'CHUK', 'ARF6', 'IKBKB', 'USO1', 'GDI2', 'SCD5', 'VAPB', 'GABARAP', 'VAPA', 'SUCLG2', 'PSMD7'], 114: ['FDFT1'], 116: ['STAT4', 'CTSD', 'STAT5A', 'CTNNA1', 'STAT1', 'STAT3'], 117: ['STAT1'], 119: ['SLC25A3'], 120: ['ADCK2', 'COA3', 'QPRT', 'RANGRF', 'FES', 'DES', 'TDO2', 'CMC1', 'SERGEF', 'RCCD1', 'ARRDC4', 'ITGA7', 'TGIF2LY', 'WNK1', 'WDTC1', 'EPB41L1', 'SLC9A3R1', 'RNASEH1', 'KCND2', 'TACO1', 'UPB1', 'POLRMT', 'PRODH2', 'CHCHD1', 'JAZF1', 'CNN3', 'ARHGEF2', 'ITGA6', 'CNN2', 'CNN1', 'PRODH', 'TAGLN3', 'MRPS33', 'SORL1', 'KY', 'MAPT', 'MRPL14', 'FAM173A', 'VAV3', 'ENAH', 'STK35', 'PRMT7', 'PFKFB2', 'MRPL54', 'WDR1', 'NDUFAF5', 'LMNA', 'NADK', 'ITGB4', 'SARDH', 'ENY2', 'TAGLN2', 'LUC7L2', 'GCAT', 'NUTF2', 'OBFC1', 'SRM', 'SLC2A2', 'AGXT', 'SMS', 'TAGLN', 'MAP4K4', 'DPYS', 'CTNNA3', 'SPCS1', 'REV1', 'VAV2', 'PDLIM3', 'ALAS2', 'NTHL1', 'METTL21C', 'MRPL36', 'CTNNA2', 'GLDC', 'USP8', 'RPA4', 'COX6A1P2', 'PDLIM1', 'KIAA1456', 'FXC1', 'SPTLC3', 'PIF1', 'VAV1', 'GTPBP5', 'SMAP1', 'ASAP1', 'COX5A', 'ADAP2', 'PDLIM4', 'SPTLC2', 'SPTLC1', 'STAU1', 'DBNL', 'SMAP2', 'HNRNPK', 'MCAT', 'GTPBP10', 'AGFG1', 'INPPL1', 'SPTB', 'PTBP3', 'ALAS1', 'OAT', 'ADAP1', 'COX6A1', 'RAB31', 'MRPS18A', 'RPN2', 'ZC3H14', 'TIMM9', 'DMGDH', 'SLC2A4', 'PDHX', 'VCL', 'RAE1', 'MRPS18C', 'LDB3', 'HNRNPU', 'HECTD1', 'TGFB1I1', 'ALDH8A1', 'POLG2', 'CLPP', 'EIF1B', 'DLAT', 'LPXN', 'LARS2', 'ZCCHC13', 'CAMK2A', 'ARHGEF12', 'ECHS1', 'PFN4', 'ALKBH8', 'EIF2C3', 'TIMM10', 'SEL1L', 'PTGES3L-AARSD1', 'SETX', 'PSMA6', 'EIF2C4', 'MPP1', 'CTNNA1', 'PABPN1', 'GARS', 'EIF1', 'MPP4', 'ZCCHC9', 'TOP1MT', 'MPP7', 'BCS1L', 'NUP133', 'SPTA1', 'ATIC', 'GDI2', 'PTGES3L', 'PSMA2', 'MAD1L1', 'ISG20L2', 'PFN2', 'HADHA', 'MPP5', 'MRPL27', 'MPP2', 'ICT1', 'PLCG1', 'LARP1B', 'EXOSC6', 'NCK1', 'RPA2', 'MPP6', 'WASL', 'HECTD2', 'MPP3', 'DALRD3', 'PABPC4L', 'SARS2', 'RGPD3', 'ITPA', 'METAP1D', 'RGPD8', 'RGPD1', 'RGPD5', 'PABPC5', 'RPL21', 'CFL2', 'ABCB5', 'RGPD6', 'CBS', 'SIRT6', 'RAB5A', 'PFN1', 'UQCRFS1', 'SRPR', 'RARS2', 'EIF5', 'PPIL4', 'DAZ3', 'YBX1', 'NPM1', 'MYO16', 'METAP1', 'ABCB4', 'ZCCHC14', 'DAZ2', 'AHCY', 'RBM3', 'RGPD2', 'PSMA3', 'MAPRE2', 'WBSCR27', 'ABCB11', 'LARP1', 'PSMD12', 'PSMD3', 'EXOSC5', 'MRPS11', 'EXO1', 'EXOSC4', 'ABCB1', 'STAT3', 'DAZ4', 'CMPK2'], 121: ['TFAP2C', 'LRPPRC', 'SLC9B1P1', 'STOML1', 'SLC9B1', 'SLC9B2', 'RBMX2', 'SLC9A5', 'SLC9A4', 'PABPN1L', 'SLC9A2', 'CSNK2B', 'SLC9A3', 'SLC9A6', 'SLC9A7', 'SLC9A9', 'SLC9C1', 'SLC9A8', 'ANAPC2', 'SUPT3H', 'SLC9A1', 'SLC9C2', 'BCL2L2', 'PRIM1', 'DDX19B', 'MCM3AP', 'GALE', 'MDC1', 'SRRM2', 'SUB1', 'AHCYL2', 'BCL2L2-PABPN1', 'POLI', 'CFDP1', 'PIN4', 'WDR82', 'SETX', 'PPIL1', 'PABPN1', 'ADSSL1', 'TCEANC', 'FBXW11', 'PFDN2', 'TCEANC2', 'FBXO18', 'ANAPC11', 'SKP2', 'ICT1', 'PPCDC', 'ADSS', 'CAPZA2', 'AHCYL1', 'KIF6', 'BUD31', 'TCEA3', 'PARP1', 'ERCC5', 'AHCY', 'EXO1'], 122: ['MORN5', 'PLCZ1', 'PLCD4', 'PLCD3', 'PLCD1', 'CTU1', 'DCUN1D1', 'PLCE1', 'TK2', 'MYEF2', 'NASP', 'STX19', 'MARS2', 'PSME4', 'PLCB4', 'PLCB2', 'PLCB3', 'PLCB1', 'RPIA', 'STX2', 'PIAS4', 'RGPD3', 'RGPD8', 'RGPD1', 'RGPD5', 'RGPD6', 'RGPD2', 'RNF40', 'STX16-NPEPL1', 'STX16'], 125: ['SAP25', 'LAMA3', 'MGLL', 'KHDC3L', 'UBR2', 'TNIK', 'PEX5L', 'UBR1', 'ABCG2', 'SENP2', 'NCK2', 'TSG101', 'USP24', 'PEX5', 'HMGCR', 'MRGBP', 'BIRC6', 'SAP18', 'ILF3', 'HSD17B4', 'PTPRE', 'CDYL', 'KDM5D', 'KDM5C', 'PTPRZ1', 'PTPRA', 'WDR20', 'MOSPD3', 'PYGB', 'TERF1', 'DMWD', 'RAB5B', 'KDM5A', 'PTPRS', 'SUB1', 'PYGL', 'UTRN', 'PSMD8', 'PYGM', 'TBC1D2', 'PSMD11', 'MRPL20', 'CFDP1', 'TBC1D2B', 'PTPRD', 'KDM5B', 'VPS72', 'PPP2R5B', 'ZNHIT1', 'PPP2R5C', 'DMD', 'PTPRF', 'TRAF6', 'PIAS4', 'GBE1', 'UBA3', 'SOX2', 'PARK2', 'MRPL27', 'PIAS2', 'VAPB', 'NCK1', 'COPS6', 'PTPRG', 'YEATS2', 'METAP1D', 'ACTR6', 'PLAA', 'HECW1', 'ERCC2', 'UQCRC2', 'MPHOSPH10', 'VAPA', 'UBFD1', 'PIAS1', 'METAP1', 'PSMD14', 'PIP5KL1', 'RNF40', 'PSMD12', 'DDB1', 'YEATS4', 'MLLT3', 'EXO1', 'CYCS', 'PIP4K2C'], 126: ['IKBKG'], 127: ['TET2', 'MCFD2', 'IBA57', 'IFRD1', 'NR1D2', 'NARF', 'CHRD', 'GORASP1', 'SURF4', 'SERP1', 'SLC30A6', 'NR0B2', 'SLC30A7', 'ISCU', 'HM13', 'SLC30A5', 'COL1A2', 'ITGB4', 'GORASP2', 'ENPP1', 'SDHD', 'SLC30A4', 'VHL', 'GLRX3', 'SLC30A2', 'SAR1A', 'SAR1B', 'IMMP1L', 'SLC30A3', 'SLC30A1', 'SLC30A10', 'SLC30A8', 'ITGB5', 'NWD1', 'SCLY', 'EML6', 'IFT80', 'NFS1', 'KIAA1239', 'HDLBP', 'BRWD3', 'EML4', 'COPE', 'IFT122', 'PDK1', 'HPRT1', 'GNB1L', 'MTRR', 'WDFY1', 'WDR20', 'DMWD', 'C12orf10', 'PDHX', 'ZC3H15', 'ELP2', 'AHCYL2', 'HNRNPU', 'CCT8L2', 'FN1', 'WDR33', 'CKS1B', 'ARFGAP1', 'DDB2', 'DHX57', 'RAB9B', 'TBL2', 'PFDN2', 'TRMT61A', 'CCNT1', 'VAMP8', 'PAPD7', 'SEC13', 'AATF', 'RAB9A', 'VAPB', 'MRPS14', 'UTP23', 'MYBBP1A', 'METAP1D', 'BCCIP', 'VDAC1', 'UTP11L', 'AHCYL1', 'NOL6', 'DARS', 'VAMP7', 'DDX4', 'SRPR', 'EIF5', 'CCNH', 'METAP1', 'AHCY', 'GRPEL2', 'PAK1IP1', 'LTV1', 'WBSCR27', 'DNAJC2', 'PSMD7', 'WDFY2', 'ACTN4', 'UTP6', 'EIF1AY'], 128: ['TCIRG1', 'ATP6V0A2', 'ATP6V0A4', 'ATP6V0A1', 'MON2', 'SACM1L'], 129: ['SQSTM1', 'PTPN6'], 130: ['ECHDC1', 'ASNS', 'HIBCH', 'DHTKD1', 'ALDH7A1', 'ACAT2', 'ECHS1', 'FH', 'FUS', 'PGAM1', 'ATP6V1B1', 'RPS4Y2', 'DHFR'], 131: ['PSAPL1', 'BANK1', 'DAPP1', 'SFTPB', 'CD79A', 'CD79B', 'PSAP', 'CLU', 'EGF', 'SENP5', 'CBLB', 'PLCG2', 'SENP1', 'MEOX2', 'SENP2', 'SNCA', 'PLG', 'SENP3', 'SUPT3H', 'HCFC1', 'ASH2L', 'MOK', 'RBBP5', 'ING4', 'STXBP1', 'ING2', 'ING3', 'ING5', 'ING1', 'TAP2', 'PFN4', 'ABCB10', 'ABCB9', 'ABCB8', 'TAP1', 'CBL', 'ATIC', 'ABCC10', 'PFN2', 'ABCC9', 'PLCG1', 'NCK1', 'ITPA', 'ABCC12', 'ABCC11', 'ABCC6', 'ABCC3', 'ABCC4', 'ABCB5', 'ABCC5', 'ABCC8', 'MLH1', 'PFN1', 'BAZ1B', 'ABCC1', 'ABCB4', 'BAZ2B', 'ABCC2', 'ABCB11', 'BMI1', 'ABCB1'], 133: ['VPS16', 'TCF3', 'GTPBP10', 'HNRNPF', 'HNRNPH1', 'PML', 'POLR2D', 'DNAJA3', 'ABTB1'], 135: ['DRAP1', 'STAT4', 'PLD6', 'PIN4', 'PGS1', 'NCK1', 'SACM1L', 'STAT1', 'WDFY2', 'STAT3'], 136: ['PGD'], 137: ['ARVCF'], 138: ['PSMB7'], 140: ['TRAF6'], 142: ['BRCA1'], 143: ['SLC30A8', 'GSC', 'POLH', 'POLI', 'UBFD1', 'BAZ1B'], 145: ['PSMB7', 'PSMB10'], 146: ['YBX1'], 147: ['WBP2NL', 'PCDH10', 'C4A', 'OCLN', 'LPHN1', 'TAF1A', 'CPQ', 'KLHL8', 'ARRDC5', 'DTX4', 'ARRDC1', 'DOPEY2', 'FAM136A', 'ARRDC4', 'DOPEY1', 'AGXT2L2', 'CTNNAL1', 'ARRDC2', 'CRYAB', 'HABP2', 'DTX2', 'AGXT2L1', 'UBE2J2', 'KLHL17', 'THUMPD1', 'SPRYD3', 'KIAA1109', 'DTX1', 'PTRH2', 'KLHL18', 'CAPNS1', 'ARRDC3', 'SART3', 'NDFIP1', 'STAM', 'NDFIP2', 'RNMT', 'SLC11A2', 'KLHL20', 'MGMT', 'GSS', 'TAF13', 'TXNIP', 'GTF2E2', 'SLC11A1', 'ZNF598', 'ABAT', 'UBR2', 'SYNCRIP', 'GRINA', 'MRPL46', 'FAIM2', 'TMBIM1', 'PRKCI', 'NMT1', 'STAM2', 'MTAP', 'USP40', 'UBR1', 'STT3A', 'DYNLL2', 'TMBIM4', 'USP48', 'WIPF2', 'TCEB2', 'EFNA4', 'CCNL2', 'ARPC3', 'UBOX5', 'TMEM189-UBE2V1', 'EFNA3', 'UBE4A', 'NR4A1', 'MRPL33', 'ERH', 'EFNA5', 'EFNA2', 'WIPF1', 'FAM58A', 'CCNL1', 'EFNB3', 'ANAPC4', 'USP9Y', 'TMEM189', 'PITRM1', 'DLL1', 'RRN3', 'MAGOHB', 'RANBP10', 'EFNA1', 'USP47', 'PGR', 'AKR1A1', 'VPS13B', 'EIF2B2', 'SELRC1', 'USP41', 'RHOT1', 'ARPC5', 'USP34', 'PRKCZ', 'USP24', 'MSN', 'CACNA1A', 'PSMB9', 'SH3KBP1', 'USP28', 'RANBP9', 'MRGBP', 'EFNB1', 'ALAS2', 'USP25', 'ROCK1', 'CRLS1', 'PARD6A', 'LAP3', 'ASNS', 'CTDP1', 'CWC22', 'RTEL1-TNFRSF6B', 'EFNB2', 'RHOT2', 'PKP2', 'LNPEP', 'COPE', 'ILF3', 'DLK2', 'RTEL1', 'TRNT1', 'UBE4B', 'USP18', 'NASP', 'MRPL19', 'SPRTN', 'NPEPPS', 'CCNT2', 'MTG1', 'ACO1', 'EPS15L1', 'RPN1', 'INCENP', 'MDC1', 'MRPL43', 'CDIPT', 'SEL1L3', 'RPN2', 'TOMM40L', 'SLC25A31', 'NAA50', 'CCNK', 'PYGB', 'HTT', 'PMPCA', 'LRP2BP', 'USP9X', 'VCL', 'TIMM13', 'NOA1', 'PYGL', 'SEL1L2', 'ODC1', 'NUDC', 'CDKN1A', 'LARS2', 'COX18', 'PYGM', 'STUB1', 'XPNPEP2', 'HIP1', 'ANAPC5', 'COPS2', 'PIN4', 'AKTIP', 'PSMB3', 'SEL1L', 'HIP1R', 'UBE2H', 'EXOSC1', 'TOMM40', 'APRT', 'CBL', 'KIAA0141', 'BRCC3', 'ANAPC10', 'EXOSC3', 'PSMD1', 'CCNT1', 'OXA1L', 'PTGES3L', 'SLC25A6', 'NACAD', 'CSNK1G3', 'DPM1', 'RPS10', 'SLC25A4', 'CSNK1G1', 'POLDIP3', 'SOX2', 'XPNPEP1', 'NACA2', 'CCNC', 'PARK2', 'MRPL17', 'ICT1', 'PLCG1', 'EXOSC6', 'NCK1', 'RPA2', 'CORO6', 'PGD', 'WASL', 'CSNK1G2', 'MRPL24', 'CORO2B', 'PRPSAP1', 'PRPSAP2', 'TALDO1', 'EXOSC2', 'RPE', 'METAP1D', 'NACA', 'CSE1L', 'TENC1', 'CORO2A', 'CORO1B', 'ATP6V1B2', 'RPL22', 'EPS15', 'UQCRC2', 'NOL6', 'SUCLA2', 'SYVN1', 'SMAD2', 'TTC27', 'UBFD1', 'EIF5', 'CAPZA1', 'CCNH', 'MRPS16', 'CORO1C', 'SUCLG2', 'PARP1', 'IKBKG', 'AHCY', 'IKBKAP', 'UBE2J1', 'DNAJC2', 'USP7', 'KIF13A', 'PSMD12', 'DDB1', 'RPS4Y2', 'GNL1', 'EXOSC5', 'AIMP1', 'EXOSC4', 'UTP6', 'SLMAP', 'RPL36', 'CMPK2'], 148: ['UBAP2', 'HCCS', 'CHCHD4', 'ADCK1', 'HOXA7', 'RDH10', 'NIPBL', 'DHRS3', 'CCDC101', 'HOXA5', 'TOMM70A', 'CTDNEP1', 'DHRS4', 'SMEK2', 'PSME2', 'PSME1', 'TIMM44', 'MED6', 'VPS45', 'BAK1', 'SH3KBP1', 'MRGBP', 'CYTH3', 'CTDP1', 'NFS1', 'WWC1', 'OSBP', 'CYTH2', 'CNPPD1', 'CYTH1', 'MAGI1', 'HIRA', 'LSM4', 'DNAJC24', 'MUS81', 'DNAJC16', 'DNAH1', 'PSME3', 'ATAD3B', 'CCNE2', 'AFG3L2', 'TIMM50', 'TIMM13', 'UBE2V2', 'TADA3', 'UBE2V1', 'SPG7', 'VPS72', 'USO1', 'HELQ', 'BCS1L', 'PFDN2', 'TCEANC2', 'ERCC4', 'SMARCD2', 'RTF1', 'CCND1', 'DNAJA3', 'TOX3', 'PARK2', 'YME1L1', 'UBR5', 'IARS2', 'RPS4XP21', 'GUCA1B', 'FTSJ2', 'TOX4', 'GUCA1A', 'PPID', 'PAF1', 'DHX36', 'SF3A1', 'TSNARE1', 'FARSA', 'BMI1', 'RPS4Y2', 'STX16-NPEPL1', 'MLST8', 'YEATS4', 'STX17', 'MLLT3', 'EXOSC4', 'FANCM', 'CYCS', 'STX16', 'STIP1', 'CMPK2'], 150: ['COX5B', 'TBL2', 'ZNHIT1', 'DHX29', 'CDC37', 'ATP5D', 'UBR5', 'ACTR6', 'KIF26B', 'KIF26A', 'WDFY2'], 151: ['MRPS17', 'SAP30BP', 'ELL', 'FUBP1', 'CHCHD1', 'HNRNPH3', 'MRPL9', 'RPA3', 'SNX7', 'RPA4', 'DNMT1', 'HSD3B1', 'CYB5B', 'MMS19', 'TGFBR1', 'RPA2', 'PSMA7'], 152: ['DEDD', 'NDUFA11', 'CTTN', 'NDUFB8', 'NDUFS8', 'MT-ATP6', 'NDUFS3', 'DLG5', 'PSEN1', 'CYC1', 'DLST', 'PTK2', 'SOX2', 'CMPK2'], 154: ['TIMM9', 'ICT1'], 156: ['ACP1', 'CUX2', 'DR1', 'CUX1', 'PDCD2', 'PUS7L', 'PUS7', 'COPS2', 'COPS6', 'TRMT6', 'WASL', 'PPCDC', 'AEN', 'RPS24'], 157: ['SMAD7', 'FN1', 'SMAD2'], 158: ['ATXN3', 'ELOVL7', 'ELOVL1', 'ELOVL2', 'ELOVL4', 'ELOVL5', 'RGN', 'CASP8', 'CYB5R3', 'TRMU', 'EIF2B2', 'OXSM', 'UNG', 'EIF2B1', 'TRIM21', 'PKP2', 'STAU1', 'MCAT', 'WARS2', 'PLD6', 'GRTP1', 'NDUFB10', 'PML', 'PGS1', 'ZNHIT1', 'GUF1', 'SCD5', 'MPP6', 'MPP3', 'CIRH1A', 'FTSJ2', 'ACAT1', 'AGT', 'NDUFAB1', 'PGM3', 'TRMT1', 'FARSA', 'DHFR'], 159: ['CBR3', 'LGSN', 'ECI2', 'OGDH', 'TRIT1', 'SOD3', 'GLUL', 'ARRB1', 'POLR3H', 'DDX11', 'HADHA'], 161: ['NR3C1'], 162: ['ABCF2', 'PLCG1', 'PAF1'], 164: ['MPP4', 'MPP7', 'MPP5', 'MPP3'], 166: ['SLC16A8', 'SLC16A1', 'SLC2A4', 'SACM1L', 'RAB5A', 'ABCC2', 'MYL6B'], 167: ['ACBD3', 'ITFG1', 'OAZ1', 'ALG6', 'YIF1B', 'IMPACT', 'YIF1A', 'THOC3', 'WDR67', 'NR4A2', 'METTL17', 'APEH', 'TRAPPC8', 'FAN1', 'MON1B', 'MON1A', 'SPCS3', 'DCLRE1B', 'SMG6', 'DCLRE1A', 'BCR', 'RABGGTB', 'SEPT12', 'MICALL2', 'EID3', 'NSMCE4A', 'NSMCE2', 'EIF3J', 'DCLRE1C', 'SPCS2', 'SMN2', 'SEPT3', 'GORASP2', 'SRP9', 'ABI3', 'NCAPG2', 'AP2A2', 'SEPT9', 'TMEM189-UBE2V1', 'ATAD5', 'XPC', 'CLNS1A', 'VHL', 'RPUSD2', 'PPP6R2', 'TOM1', 'SAR1A', 'CYTH4', 'SAR1B', 'VPS33A', 'TMEM189', 'SEC24A', 'PFDN6', 'EIF2B2', 'GTF2E1', 'TFDP2', 'UPF3A', 'VPS45', 'VPS33B', 'TOMM20', 'XPA', 'AP2A1', 'UFD1L', 'POT1', 'GPN3', 'REV1', 'CYTH3', 'ABI2', 'SCFD1', 'PLS3', 'EXOC1', 'POLK', 'RAD18', 'PLS1', 'ESCO1', 'CYTH2', 'ANAPC2', 'C9orf69', 'ANAPC1', 'SEPT7L', 'ZWILCH', 'HIF1A', 'RQCD1', 'SAC3D1', 'PRICKLE1', 'NASP', 'CYTH1', 'WDR61', 'TMED10', 'SEC61B', 'IGHMBP2', 'PTBP3', 'VBP1', 'TAF10', 'SMN1', 'SEC61G', 'MUS81', 'MDC1', 'LCP1', 'PSMB6', 'GPN1', 'STXBP3', 'PSME3', 'CHAF1A', 'STXBP2', 'SEPT14', 'EIF3M', 'NOP10', 'TIMM13', 'SEPT10', 'SUB1', 'UBE2V2', 'SEC23A', 'RBL2', 'HECTD3', 'SEPT8', 'HECTD1', 'UPF3B', 'STXBP1', 'STUB1', 'PSMD11', 'ABCF1', 'UBE2V1', 'COPS2', 'PFDN4', 'SEPT11', 'EIF3H', 'SEPT1', 'TRMT11', 'SEPT6', 'RBL1', 'GARS', 'EIF1', 'RNASEH2A', 'ABCF3', 'EXOSC3', 'BRCA1', 'ZNHIT1', 'ERCC4', 'SEPT4', 'RTF1', 'CPSF2', 'CCND1', 'ATG7', 'CIB3', 'SEPT5', 'SEC13', 'UBA3', 'SKP2', 'PARK2', 'PIAS2', 'REV3L', 'PGD', 'COPS6', 'UBR5', 'CIB2', 'WRN', 'GUCA1B', 'EXOSC2', 'GUCA1C', 'EFCAB1', 'CDC16', 'RPL21', 'KCNIP1', 'HECW1', 'AHCYL1', 'NCS1', 'PSMB4', 'MLH1', 'GUCA1A', 'KCNIP2', 'UBFD1', 'PIAS1', 'EIF5', 'HPCAL4', 'MYO16', 'KPNA6', 'IKBKG', 'KCNIP4', 'STAT1', 'KCNIP3', 'EIF3E', 'RGPD2', 'PSMA3', 'MAPRE2', 'UBE2J1', 'VSNL1', 'CDC25C', 'UBA6', 'SEPT7', 'RCVRN', 'XRCC5', 'MAPRE3', 'EXOSC4', 'ACTN4', 'FANCM', 'STIP1', 'STAT3', 'MYL6B'], 168: ['TFAP2B', 'TRIP4', 'ZDHHC24', 'ZDHHC11B', 'ZDHHC1', 'ZDHHC19', 'ZDHHC12', 'ZDHHC11', 'ZDHHC21', 'ZDHHC8', 'ZDHHC22', 'ZDHHC18', 'ZDHHC5', 'ZDHHC23', 'MED30', 'ZDHHC14', 'ZDHHC9', 'TFAP2C', 'MFSD1', 'LDB2', 'ELL', 'MED18', 'KCNAB3', 'LDB1', 'STRAP', 'KCNAB1', 'KCNAB2', 'ENPP6', 'ZDHHC7', 'MED17', 'TFAP2A', 'ZDHHC3', 'POLN', 'MON1B', 'CDK10', 'RDH12', 'STK16', 'CDK11A', 'ANP32E', 'MECR', 'ENPP2', 'NPS', 'ADRBK1', 'AVP', 'SNCA', 'GCGR', 'GNAS', 'PISD', 'GCG', 'TGS1', 'ANP32A', 'ATP2B3', 'PAXIP1', 'RANBP9', 'POMC', 'LIG3', 'GPCPD1', 'ATP2B2', 'DOT1L', 'ATP2B4', 'ATP2B1', 'PROP1', 'LIG4', 'ASH2L', 'CDK20', 'PTBP3', 'MDC1', 'RBBP5', 'DYNLL1', 'NCOR2', 'SLC2A4', 'LMO3', 'PTPRS', 'ERCC6L2', 'CFDP1', 'DHFRL1', 'SAA1', 'PTPRD', 'ADRBK2', 'CKS2', 'SUPT4H1', 'PLCB4', 'PLCB2', 'TCEANC', 'ZCCHC9', 'PLCB3', 'CDK7', 'TCEANC2', 'PLCB1', 'RTF1', 'CSNK1G3', 'PTPRF', 'CSNK1G1', 'PTPRG', 'CSNK1G2', 'NCOR1', 'TCEA3', 'GNG2', 'CNOT1', 'ZCCHC14', 'BAZ2B', 'RNF40', 'SMARCD3', 'DHFR', 'MLLT3'], 171: ['HSD3B2', 'RGPD2'], 172: ['ZFR2', 'DNAJC14', 'LCP2', 'WDTC1', 'YOD1', 'VCAM1', 'CTSS', 'OTUD6A', 'USP40', 'NPLOC4', 'BCL2L14', 'ATP6V1C1', 'BOK', 'ABI3', 'USP48', 'UNC45B', 'PTPN3', 'OTUD6B', 'UNC45A', 'PTPRT', 'CEBPA', 'SPHK1', 'FAF2', 'ATP6V1F', 'PTPRM', 'NXF5', 'AQP10', 'ZFP36', 'VPS13C', 'NXF2B', 'ZYX', 'GOLPH3', 'USP41', 'PTPRU', 'NXF3', 'NXF2', 'NUP155', 'CPVL', 'VPS13A', 'BAK1', 'AQP7', 'USP28', 'BCL2A1', 'AQP9', 'USP25', 'ABI2', 'MCL1', 'VIM', 'PTPRK', 'PTPRJ', 'PDLIM1', 'DNAJC7', 'USP18', 'PDLIM4', 'PTPRE', 'YARS2', 'HNRNPK', 'AQP3', 'ACO1', 'IREB2', 'PDZD2', 'CDYL', 'ESCO2', 'PTPN18', 'BCL2L1', 'UBXN2A', 'DNAJC16', 'DLG5', 'PTPRZ1', 'STXBP3', 'PTPRA', 'MYD88', 'USP9X', 'UBXN2B', 'RAE1', 'PTPRS', 'POLH', 'UBXN11', 'HECTD1', 'NXF1', 'ATP6V0C', 'PTPRQ', 'VPS35', 'BCL2', 'HIP1', 'ARFGEF1', 'PRPF40A', 'PTPRD', 'HIP1R', 'INADL', 'CTNNA1', 'NUP85', 'SAT1', 'NSFL1C', 'PTPN12', 'SPTA1', 'ATG7', 'IQCA1', 'DNAJA3', 'PEX1', 'ISG20L2', 'PTPRF', 'MAGI3', 'ESF1', 'LARP1B', 'HECTD2', 'PTPN6', 'TTK', 'FIGN', 'PLAA', 'SF3A2', 'HECW1', 'NCOR1', 'PSMB4', 'FIGNL1', 'PSMD9', 'PSMA3', 'LARP1', 'USP7', 'UBA6', 'ATAD1', 'DDB1', 'SPAST'], 175: ['SMAP1', 'ADAP2', 'CYTH1', 'TBC1D22A', 'ARHGEF28', 'SPRTN', 'STAU1', 'SMAP2', 'TBC1D22B', 'ADAP1', 'MUS81', 'NR3C1', 'DENR', 'PLD6', 'SEPT8', 'PGM2L1', 'AKAP13', 'ARFGEF1', 'PUS7', 'SEPT11', 'TRMT11', 'SEPT6', 'VAMP4', 'PGS1', 'VAMP8', 'ERCC4', 'SEPT4', 'NET1', 'DDX11', 'ARHGEF3', 'ARFGEF2', 'SEPT5', 'VAMP1', 'DHX40', 'POLR3K', 'VAMP3', 'MPHOSPH10', 'VAMP7', 'WDR43', 'SMARCAL1', 'SEPT7'], 176: ['SHH', 'CAMK2B', 'TGFB1', 'SPAG6', 'MAD1L1', 'SOX2', 'NCK1', 'KPNA5', 'KPNA7', 'KPNA6', 'MAPRE2'], 177: ['ARNT', 'CTSA'], 178: ['PLA2G4A', 'NCK1'], 179: ['TOMM22', 'PTBP3', 'CYC1', 'TENC1', 'VAMP7', 'XRCC5', 'STX16'], 181: ['GCA', 'PEF1', 'SRI', 'CPT2', 'CLIC5', 'CAPNS1', 'ABCD4', 'CPT1C', 'CPT1A', 'CTNNBL1', 'EGF', 'HAT1', 'AKD1', 'AK4', 'UBE2H', 'KDM5B', 'BRCA1', 'HADHB', 'SLC25A6', 'GUF1', 'LDHC'], 182: ['DPAGT1', 'LEFTY2', 'ARHGAP35', 'MON1B', 'MON1A', 'SLC25A10', 'MPDZ', 'TGFB3', 'TGFB2', 'NCAM1', 'BMP2', 'BMP4', 'PDZD2', 'DLG5', 'DYNC2H1', 'OGDH', 'ARHGEF12', 'GLUL', 'WNT16', 'INADL', 'TGFB1', 'WNT5B', 'WNT7A', 'WNT2B', 'WNT3', 'TSFM', 'TTK', 'WNT7B', 'WNT2', 'RAB5A', 'WNT4', 'WNT5A', 'TXNRD2'], 185: ['INTS3', 'DOCK6', 'GK5', 'SHPK', 'GK2', 'LDHD', 'DOCK7', 'GK', 'D2HGDH', 'AQP6', 'TJP1', 'DHCR24', 'AQP8', 'MIP', 'AQP5', 'AQP4', 'GMPPA', 'AQP2', 'PPP2R4', 'HACL1', 'AQP1', 'AQP10', 'CDH1', 'EIF2B3', 'AQP7', 'AQP9', 'TTN', 'GPCPD1', 'GMPPB', 'HSD17B4', 'ARHGEF28', 'AQP3', 'KDM5D', 'MTHFD2', 'KDM5C', 'EIF2B5', 'DECR1', 'DMGDH', 'KDM5A', 'ALDH1L1', 'PIN4', 'ALDH3A2', 'PGAM2', 'NCK1', 'IQGAP1', 'SLMAP'], 186: ['NUP214', 'ODF2', 'NUP37', 'LIPT1', 'CLNS1A', 'RCC2', 'NUP160', 'NUP43', 'VASP', 'EXOSC9', 'UBE2C', 'CDC23', 'ARRB1', 'NUP85', 'ANAPC10', 'EXOSC3', 'NUP133', 'UCHL5', 'ANXA1', 'EXOSC2', 'TXNRD2', 'EXOSC5'], 188: ['TTN', 'ITGB1'], 189: ['CSE1L'], 190: ['SLC9B1P1', 'SLC9B1', 'SLC9B2', 'SLC9A5', 'SLC9A4', 'CACNA1B', 'ANGEL2', 'NUDT12', 'SLC9A2', 'CACNA1A', 'SLC9A3', 'SLC9A6', 'SLC9A7', 'SLC9A9', 'SLC9C1', 'SLC9A8', 'ATXN1', 'SLC9A1', 'CACNA1D', 'SLC9C2', 'CACNA1S', 'VBP1', 'GALE', 'RBL2', 'CDKN1A', 'LMO2', 'MSL3', 'WNT10B', 'KCNIP3', 'PSMA3', 'MORF4L2', 'SEPT7'], 191: ['CAMK2D', 'PIAS4', 'PPIL4'], 194: ['SLC2A9', 'AK7', 'AK8', 'AKD1', 'PDLIM7', 'UBE2H', 'PTK2', 'USO1', 'CANX', 'SPTA1', 'GUF1', 'UBR5', 'RPE', 'NPM1'], 196: ['OSGEP', 'TRIT1', 'RAB9B', 'RAB9A', 'RAB12', 'PPIL4', 'NKTR', 'PPIH', 'RAB10', 'PPIG'], 197: ['STAT5B', 'POLG2'], 198: ['PTRH2', 'SEC24B', 'SEC24D', 'SEC24A', 'SEC24C', 'GAD1', 'SEC23B', 'CAMK2D', 'RPS21', 'POLE3', 'ALG1', 'PSMA8', 'PARS2', 'PSMB3', 'PFN2', 'UCHL5', 'PPIL3', 'PSMB4', 'PSMA3', 'PSMA7'], 200: ['HNF4A', 'HAO1', 'ILF2', 'NUDC', 'MRPS14', 'DDB1'], 201: ['TRAPPC5', 'DPP8', 'DPP9', 'SLC12A5', 'SLC12A6', 'COG8', 'SLC12A8', 'SLC7A13', 'SLC7A10', 'SLC12A7', 'SLC7A6', 'SLC7A9', 'SLC12A4', 'SLC7A8', 'FAP', 'SLC12A1', 'DPP10', 'SLC7A7', 'SLC7A11', 'SLC12A9', 'SLC12A3', 'SLC7A5', 'SLC12A2', 'OXT', 'TBXAS1', 'SLC7A3', 'SLC7A2', 'NTS', 'TAC1', 'SLC7A14', 'SLC7A4', 'SLC7A1', 'CCK', 'DNPEP', 'DPP4', 'ITPR1', 'COG6', 'FDX1L', 'EDNRA', 'SQRDL', 'FHIT', 'NPS', 'FDX1', 'AVP', 'EDN1', 'DRD3', 'CREB1', 'GCGR', 'NAA11', 'ADRB2', 'GCG', 'DRD2', 'DNAJC4', 'POT1', 'SCLY', 'MRGBP', 'MFSD3', 'CRLS1', 'NFS1', 'DNAJC5G', 'SLC33A1', 'DNAJC11', 'DNAJC5B', 'DNAJC7', 'NMS', 'MTRNR2L2', 'MCHR2', 'GPR17', 'NMUR1', 'NMU', 'CYB5B', 'FPR2', 'NMUR2', 'MCHR1', 'DNAJC30', 'BDKRB1', 'HTRA3', 'HTRA4', 'LPAR5', 'DNAJC24', 'TYSND1', 'BDKRB2', 'HINT2', 'DNAJC16', 'CDIPT', 'DNAJC22', 'AIFM1', 'DNAJC3', 'NAA50', 'LPAR3', 'DNAJC5', 'CASR', 'LPAR2', 'PMCH', 'CCNE2', 'DNAJB8', 'LPAR1', 'HTRA1', 'CAMK2G', 'DNAJC18', 'DNAJB14', 'CAMK2D', 'TRMT2A', 'DNAJB7', 'LARS2', 'CAMK2B', 'DNAJC25', 'DNAJB12', 'CAMK2A', 'DNAJB2', 'CYB5A', 'HTRA2', 'CNNM3', 'SAA1', 'DNAJC25-GNG10', 'DNAJB9', 'DNAJB11', 'CNNM4', 'CNNM2', 'ALDH1A3', 'GINS1', 'CNNM1', 'DNAJA3', 'KNG1', 'DNAJB13', 'DNAJB5', 'DNAJB6', 'RAB1A', 'DNAJB4', 'DALRD3', 'WDR48', 'ANXA1', 'CDC16', 'HINT1', 'AHCYL1', 'AGT', 'RARS2', 'GNG2', 'NOS2'], 202: ['FBXW11'], 205: ['SRSF3', 'SRRM1', 'RPS27'], 207: ['MTF2', 'CHMP3', 'USP7'], 208: ['SMAD2'], 209: ['AK4', 'CAPZA1'], 210: ['PCBD1', 'ULK1', 'CLVS2', 'IFFO2', 'VPS39', 'HMGCS2', 'ALDH4A1', 'ALDH16A1', 'ALDH1L2', 'ALDH1L1', 'ALDH7A1', 'ALDH8A1', 'COPA', 'ALDH1A2', 'ALDH9A1', 'ALDH3A2', 'ALDH2', 'ALDH1A3', 'ALDH1B1', 'ALDH1A1', 'ATP6V1B2', 'ATP6V1B1', 'PI4KB'], 212: ['USP36'], 214: ['PIH1D1', 'SNIP1', 'BCL2L1', 'POLG2', 'BCL2', 'SEC63', 'GARS', 'CCDC130', 'WDR48', 'SARS2', 'LSM10', 'WBSCR27', 'CMPK2'], 215: ['C1QBP', 'GABARAPL3'], 218: ['TCEB2', 'CDKN1A', 'EHHADH', 'HADHA', 'BMI1'], 219: ['HECTD4', 'IBTK', 'SERGEF', 'RCCD1', 'RCBTB2', 'WBSCR16', 'PREB', 'RPGR', 'RCBTB1', 'KLK3', 'NEK9', 'HSD17B8', 'CBR4', 'TAF9B', 'PABPN1L', 'KLHDC4', 'RCC2', 'NXF5', 'NXF2B', 'MTPAP', 'SENP7', 'NXF3', 'NXF2', 'TERF2', 'MRGBP', 'SENP6', 'DDX25', 'ALS2', 'HELZ', 'PHF12', 'CDYL2', 'BCL2L2', 'SAC3D1', 'ADC', 'CDY1B', 'CDY2B', 'CDY2A', 'CDY1', 'TAF9', 'PRIM1', 'CDYL', 'CSTF2T', 'MCM3AP', 'EXOSC9', 'RAE1', 'EXOSC7', 'NXF1', 'BCL2L2-PABPN1', 'ING1', 'USP6', 'ARFGEF1', 'EARS2', 'EIF2C3', 'SETX', 'EIF2C4', 'PABPN1', 'EIF1', 'DCP2', 'CDK7', 'EIF2A', 'CSTF2', 'CPSF2', 'PAPD7', 'CDC37', 'ARFGEF2', 'ESF1', 'SKIV2L', 'DDX55', 'MON2', 'DHX34', 'RCC1', 'RRP8', 'ORC5', 'DHX40', 'DHX33', 'PRPSAP1', 'PRPSAP2', 'FTSJ1', 'FTSJ2', 'DDX60', 'EIF5', 'DAZ3', 'DAZ2', 'RBM3', 'DDX49', 'HBS1L', 'DDX28', 'SKIV2L2', 'DDX47', 'DAZ4'], 220: ['TRAF6', 'CSE1L'], 222: ['OTUD6A', 'USP2', 'PSMB8', 'CAMK2G', 'CAMK2D', 'CAMK2B', 'CAMK2A', 'PSMD11', 'COPS2', 'DDB2', 'VPS72', 'EIF2A', 'RNF7', 'ATIC', 'RTF1', 'PSMB7', 'SYVN1', 'PSMB10', 'LARP1', 'PSMA7', 'DDB1'], 225: ['AAR2', 'RPUSD1', 'USP13', 'DHDDS', 'TRMT10B', 'TRMT10C', 'TRMT10A', 'BIRC6', 'BIRC3', 'XIAP', 'UBA5', 'TCF3', 'SEC61G', 'EIF3K', 'DENR', 'NAE1', 'AHCYL2', 'ODC1', 'RPL39', 'RPS21', 'DDOST', 'COPS2', 'BTF3', 'TRMT61B', 'FARSB', 'ADSSL1', 'BTF3L4', 'RPL37', 'TRMT61A', 'ATG7', 'RPL36A', 'UBA3', 'PARK2', 'RPL36AL', 'TRMT6', 'RPS26', 'ADSS', 'EIF3G', 'UTP14C', 'RPLP1', 'RPL21', 'AHCYL1', 'DARS', 'VAPA', 'EIF5', 'KRI1', 'IKBKG', 'AHCY', 'WBSCR27', 'UTP14A', 'UBA6', 'TXNRD2', 'RPS28', 'YEATS4', 'AIMP1', 'EIF1AY'], 229: ['HBQ1', 'HBM', 'CYGB', 'HBG1', 'NGB', 'IL20RB', 'IL20RA', 'IL28RA', 'IL22RA2', 'CRLF2', 'IL9R', 'HBZ', 'OSMR', 'IL22RA1', 'HBE1', 'IL21R', 'IL13RA1', 'HBG2', 'LIFR', 'IL5RA', 'IFNGR2', 'HBA2', 'IL15RA', 'CNTFR', 'IFNAR2', 'IL10RA', 'HBA1', 'GMFB', 'IL23R', 'GMFG', 'CSF3R', 'IL7R', 'IFNGR1', 'MPL', 'LEPR', 'IL6R', 'IL12RB2', 'IFNAR1', 'CSF2RA', 'IL4R', 'PRLR', 'IL3RA', 'HBD', 'IL12RB1', 'CSF2RB', 'HBB', 'IL6ST', 'RPGR', 'GHR', 'EPOR', 'MB', 'DISC1', 'USP11', 'IL2RB', 'IL2RA', 'STRN4', 'PNP', 'IL2RG', 'ARL13B', 'LSM14B', 'SENP5', 'MOGS', 'TMBIM4', 'LIPT1', 'NMRK1', 'TUSC3', 'MAGT1', 'SENP1', 'ROCK2', 'NMRK2', 'ANGEL2', 'SENP2', 'SFI1', 'TBC1D25', 'NXF2B', 'NXF2', 'SNX4', 'ROCK1', 'CTDP1', 'SENP3', 'TBC1D15', 'UBE3B', 'UBE3C', 'AZIN1', 'SUGT1P3', 'ADC', 'TTC12', 'STAU1', 'SEC61B', 'UBA5', 'WDFY1', 'SEC61G', 'TTC31', 'RAB3IL1', 'RAB24', 'DNAH6', 'SEL1L3', 'MOSPD3', 'EIF2B5', 'HTT', 'HAS3', 'LRP2BP', 'ILF2', 'RAE1', 'TIMM50', 'NAE1', 'SEL1L2', 'HAS2', 'ODC1', 'NXF1', 'CAMKK1', 'SEC63', 'HAS1', 'ALG1', 'STUB1', 'TBC1D2B', 'PFN4', 'ALKBH8', 'CAMKK2', 'SEL1L', 'TRMT61B', 'NUP85', 'CTNND1', 'RAB9B', 'KIAA0141', 'BRCC3', 'PPP2R5B', 'PDPK1', 'VDAC2', 'USO1', 'PPP2R5E', 'HADHB', 'TRMT61A', 'ALDH1B1', 'PPP2R5C', 'EIF4E1B', 'SH3PXD2B', 'ATG7', 'NACAD', 'KLHDC10', 'IQCA1', 'PEX1', 'ABCC10', 'PFN2', 'SEC22C', 'SH3PXD2A', 'SEC13', 'RAB44', 'UBA3', 'RAB9A', 'RASEF', 'PPP2R5A', 'NACA2', 'ABCC9', 'PIAS2', 'VAPB', 'SEC22A', 'RAB40C', 'RAB40A', 'RPS26', 'WASL', 'RAB40B', 'RAB12', 'ABCC12', 'PPP2R5D', 'RAB40AL', 'FTSJ1', 'ABCC11', 'ABCC6', 'ABCC3', 'FIGN', 'UTP14C', 'POLR3K', 'ABCC4', 'NACA', 'FTSJ2', 'RAB15', 'RAB28', 'RACGAP1', 'SACM1L', 'RAB8B', 'ABCC5', 'RPL22', 'RAB13', 'ABCC8', 'VAPA', 'PFN1', 'FIGNL1', 'BAZ1B', 'ABCC1', 'EIF3E', 'RPS24', 'RAB10', 'CLHC1', 'ABCC2', 'HBS1L', 'CDC25C', 'UBA6', 'ATAD1', 'MAPK9', 'RPL31', 'WDFY2', 'SPAST', 'STIP1'], 230: ['CERS2', 'MEPCE'], 231: ['PARP2', 'COPA', 'RBL1'], 232: ['PFDN4', 'OXA1L'], 233: ['FBLN1', 'TP53BP2', 'RCAN2', 'RCAN3', 'RCAN1', 'DAB1', 'RBPMS', 'DOCK1', 'SCN11A', 'CLSTN1', 'WDR83', 'NGFR', 'EID3', 'NSMCE4A', 'HCFC2', 'SCN5A', 'PARD3', 'COL1A2', 'UNC45B', 'EFNA4', 'RFX5', 'EFNA3', 'EFNA5', 'EFNA2', 'UNC45A', 'SERPINE1', 'EFNB3', 'SFI1', 'LNX1', 'TNNT2', 'EFNA1', 'VPS13D', 'VPS13C', 'VPS13B', 'PDLIM2', 'VPS13A', 'ATP2B3', 'PDLIM3', 'EFNB1', 'PARD6A', 'PCID2', 'TNNI2', 'TNNI1', 'EFNB2', 'ATP2B2', 'RPA4', 'ATP2B4', 'TNNI3', 'ATP2B1', 'PDLIM1', 'CACNA1D', 'KHDRBS1', 'STAT6', 'SAC3D1', 'HCFC1', 'CACNA1S', 'PDLIM4', 'ASH2L', 'MCM3AP', 'PDLIM7', 'ARPC2', 'LDB3', 'TGFB1I1', 'FN1', 'LPXN', 'PDLIM5', 'CFDP1', 'TBC1D2B', 'IQGAP2', 'SHC1', 'WDR82', 'SUPT4H1', 'IQGAP3', 'TCEANC', 'MPP4', 'TGFB1', 'TCEANC2', 'ITGB1', 'DHX34', 'DHX40', 'DHX33', 'TTK', 'FIGN', 'KIF12', 'KIF24', 'KIF6', 'MAPK10', 'TCEA3', 'KIF26B', 'MYO16', 'STARD9', 'KIF9', 'KIF16B', 'KIF13A', 'MAPK9', 'KIF26A', 'IQGAP1', 'PI4KB', 'EXO1', 'ACTN4', 'KIF13B'], 235: ['BRAF'], 236: ['PLA2G4C', 'GRIP1', 'MICALL1', 'GRIN2A', 'GRIN2B', 'PISD', 'AKR1B10', 'GRIN1', 'AKR1B1', 'PARD6A', 'COPE', 'PDZD2', 'DLG5', 'ALDH3B2', 'SEPT11', 'GLUL', 'ALDH3A1', 'INADL', 'ALDH3A2', 'USO1'], 239: ['NUP62', 'PPIG'], 241: ['MRPL27'], 242: ['NDUFS4', 'NDUFB10'], 243: ['TRAF2', 'VCL', 'CTNNA1', 'ALDH1B1', 'STAT3'], 244: ['POP7', 'CEP57', 'CASP7', 'TCEB2', 'CHM', 'IGBP1', 'CASP3', 'EIF3M', 'ELP2', 'PLCG1', 'PSMB7'], 245: ['SLC30A1', 'SLC30A10', 'BMI1'], 246: ['SNTG1', 'HOXC5', 'HOXA6', 'HOXC6', 'MEOX1', 'HOXB5', 'P2RY6', 'HOXA7', 'HOXC8', 'PDX1', 'HOXA5', 'RGS2', 'SAR1A', 'SAG', 'RGS19', 'CNNM3', 'CNNM4', 'CCDC88B', 'CNNM2', 'CANX', 'CNNM1', 'APC', 'TCF7L2', 'AMFR', 'GNG2', 'LEF1'], 247: ['ARHGEF15', 'DCTN1', 'CLIP1', 'CLASP1', 'AKAP13'], 250: ['BIRC6', 'PSMA8', 'KLHDC1', 'KLHDC10', 'PPIL4', 'PSMA3', 'PSMA7'], 251: ['NCAPH', 'KLHDC10', 'WDR48'], 252: ['GHR', 'HNRNPH3', 'ABCG2', 'CNDP1', 'ISYNA1', 'CNDP2', 'CRMP1', 'SPTLC1', 'HNRNPF', 'HNRNPH1', 'DECR1', 'LPXN', 'CBL', 'CORO6', 'COPS6', 'ADSS', 'CORO2B', 'PCBP1', 'CSE1L', 'CORO2A', 'CORO1B', 'EPS15', 'CORO1C', 'PSMD9'], 255: ['HDGF', 'TTN', 'CARNS1', 'NAE1', 'CDC23', 'VDAC3', 'CTSD', 'VDAC2', 'DNAJA3', 'SEPT5', 'DNAJB13', 'DNAJB5', 'DNAJB4', 'SUZ12', 'VDAC1', 'RAB8B', 'PIAS1', 'AHCY', 'RAB10', 'SEPT7', 'NOP14'], 257: ['SAP30BP', 'SERBP1', 'FLAD1', 'NDOR1', 'MTRR', 'EZR', 'POR', 'HIP1', 'HIP1R', 'RGPD3', 'RGPD8', 'RGPD1', 'TENC1', 'RGPD5', 'RGPD6', 'NOS1', 'RGPD2', 'RAB10', 'USP7', 'NOS3', 'NOS2'], 258: ['SQSTM1', 'SMAD4'], 259: ['LNX1', 'PARP4', 'WASL', 'ERCC6'], 261: ['MOSPD2', 'PPP6R2', 'PPP6R1', 'SEC14L6', 'CLVS2', 'SEC14L3', 'SEC14L4', 'CLVS1', 'PPP6R3', 'TTPA', 'SEC14L2', 'TTPAL', 'RLBP1', 'SEC14L5', 'CARNS1', 'SEC14L1', 'ATAD3B', 'CCDC88B', 'CTNNA1', 'NET1', 'ARHGEF3', 'MRPL17', 'SACM1L', 'PPIL4'], 262: ['CNN3', 'CNN2', 'CNN1', 'TAGLN3', 'FHIT', 'TAGLN2', 'INPP5E', 'AJUBA', 'DNAJC9', 'TAGLN', 'TRMU', 'GTF2E1', 'SMAP1', 'SPATA13', 'ADAP2', 'AHSA1', 'SMAP2', 'INPPL1', 'ADAP1', 'HINT2', 'GRK5', 'SLC2A4', 'CNNM3', 'ARFGAP1', 'PTGES3L-AARSD1', 'CNNM4', 'CNNM2', 'CNNM1', 'PTGES3L', 'SCD5', 'CORO6', 'CORO2B', 'FTSJ1', 'ERCC2', 'HINT1', 'CORO2A', 'CORO1B', 'PFN1', 'CORO1C', 'ERCC5', 'MYO16', 'PPIH', 'DDX49', 'SLC25A3', 'ERCC6', 'PPIG', 'DDX28', 'EXO1', 'DDX47', 'STIP1'], 264: ['PROC', 'PLG', 'RABGAP1', 'SATL1', 'DNAH11', 'AANAT', 'TFIP11', 'MFAP1', 'GNPNAT1', 'SAT1', 'RASGEF1B', 'PAF1', 'CNOT1', 'SF3A1', 'ANKRD24'], 267: ['TNPO1', 'MDH1B'], 269: ['TFDP1', 'CSE1L'], 270: ['ENDOG', 'INSIG2', 'PGR', 'INSIG1', 'XPA', 'PKP2', 'CASP3', 'CTNND1', 'SPO11', 'UCHL5', 'MON2', 'PSMD13', 'CDC7'], 272: ['LDHD', 'BANF1', 'UQCRH', 'GFPT2', 'ETFA', 'GFPT1', 'CWC27', 'WARS2', 'DLAT', 'GPD1L', 'DLST', 'ATP5G3', 'ATP5G1', 'PDHA1', 'GPD1', 'ATP5G2', 'IDH3A', 'PDHB', 'ATP5D', 'ALDOA', 'ABCC12', 'ABCC11', 'TALDO1', 'NACA', 'ACAT1', 'ABCC5', 'NDUFAB1', 'SUCLG2', 'GRPEL2', 'ABCC2', 'EXOSC4', 'MAK16'], 274: ['SEC13', 'HADHA', 'MRPL24'], 275: ['CANX'], 276: ['HAUS1', 'CATSPER1', 'SUN1', 'SUN2', 'EPAS1', 'LIN28A', 'MAX', 'TNNT1', 'BIRC2', 'XIAP', 'CDKN1A', 'EIF2C4', 'PARK2', 'PPIL3', 'CDC25B', 'TCF7L2', 'SMARCD1', 'YBX1', 'IKBKG', 'PSMD9', 'CDC25C', 'YEATS4', 'ACTN4'], 278: ['PSMA8', 'PSMA2', 'PSMB7', 'PSMB10', 'PSMA7'], 279: ['SEC13'], 280: ['SPEF1', 'BEND7', 'S100A1', 'HSPB7', 'L3MBTL3', 'KIAA1161', 'USE1', 'AIMP2', 'SI', 'DNAJC13', 'TRAPPC3', 'PGA4', 'PGA5', 'PGA3', 'GAA', 'COX17', 'ISCA2', 'NFU1', 'ATXN3', 'PHC2', 'SEC31B', 'MGAM', 'GET4', 'FXN', 'GANC', 'TIMM17A', 'FDX1L', 'BUD13', 'COQ6', 'ISCU', 'SEC31A', 'MT-CYB', 'NAPSA', 'RTDR1', 'ARMC4', 'ACADVL', 'CTSE', 'ILVBL', 'MT-CO1', 'TMED2', 'GADL1', 'FDX1', 'TIMM23', 'HACL1', 'ACADM', 'CSAD', 'AKR1D1', 'GANAB', 'ATP6V0D2', 'ATP6V0D1', 'VPS33A', 'SGPL1', 'VPS33B', 'BET1L', 'MLH3', 'BET1', 'BACE1', 'SCFD1', 'LAP3', 'UQCR10', 'PGM5', 'VPS39', 'GAD2', 'SLC9A1', 'REN', 'PMS2', 'PMS1', 'RHOXF2', 'MMS19', 'PINX1', 'STX5', 'CCNT2', 'GAD1', 'NAA38', 'SEC23B', 'ACO1', 'IREB2', 'OAT', 'HINT2', 'ACSS2', 'AIFM1', 'SLC25A31', 'DNAJC5', 'AFG3L2', 'TIMM50', 'CDC23', 'SEC23A', 'CLPP', 'PGM1', 'ACAT2', 'SDHC', 'CTSD', 'GLUD2', 'MRPL20', 'CYB5A', 'NDUFB10', 'IDH2', 'STX11', 'GLUL', 'DLST', 'RNF139', 'COPA', 'ACAA2', 'TOMM40', 'PIGA', 'HADHB', 'CCNT1', 'ANAPC11', 'SLC25A6', 'ATG7', 'IQCA1', 'PEX1', 'SEC22C', 'IDH1', 'SLC25A4', 'GBE1', 'UBA3', 'PGAM2', 'PEPD', 'TOP3B', 'LARP1B', 'YME1L1', 'SEC22A', 'GABARAP', 'GLUD1', 'PRPSAP1', 'FIGN', 'METAP1D', 'PGAM1', 'TOP3A', 'ACAT1', 'MIB2', 'HINT1', 'MLH1', 'TKTL1', 'UQCRFS1', 'PSMB10', 'TKTL2', 'FIGNL1', 'CNOT1', 'IKBKG', 'GRPEL2', 'CLHC1', 'LARP1', 'BMI1', 'ERCC6', 'ATAD1', 'DDB1', 'LEF1', 'SPAST', 'CYCS'], 281: ['NF2', 'POLR3D', 'NDUFV2', 'MT-CO2', 'PGS1', 'MPP5', 'PLCG1', 'COPS6', 'CYCS'], 283: ['SPHK2', 'SPHK1', 'PRPF40A', 'TALDO1'], 286: ['VAPB', 'NCOR1', 'VAPA'], 288: ['NTRK1', 'VAV2', 'SRRM1', 'CDC23', 'SHC1', 'KALRN', 'ITGB1', 'PTPRF', 'PLCG1'], 289: ['KRTAP10-3', 'ATXN1', 'AP2M1'], 290: ['MOSPD3', 'CAMK2B', 'VAPB', 'VAPA'], 291: ['TBC1D4', 'SNX3', 'ALKBH8', 'RAB9B', 'RAB9A', 'RAB5A'], 292: ['USP7'], 293: ['LY6D', 'MPG', 'CTSH', 'CTSZ', 'CTSL2', 'CTSK', 'CTSC', 'IYD', 'PRSS1', 'PRSS3', 'GTF3C5', 'ITGB3BP', 'CPT2', 'CTSL1', 'PPP1R8', 'KHDC3L', 'HDHD1', 'CTSS', 'PDS5B', 'CPT1A', 'CYP7A1', 'POMP', 'ACOX1', 'APOA1', 'PDS5A', 'CTSB', 'NCAPG', 'ACADM', 'CYP1A1', 'CYP4A11', 'MED6', 'SNIP1', 'CENPI', 'UXS1', 'STAG1', 'STAG2', 'WWC1', 'CWC22', 'AK7', 'HMGCS2', 'AMT', 'HMGCS1', 'GFPT2', 'AK3', 'HAT1', 'CARM1', 'AK8', 'ALAS1', 'AKD1', 'KDM5D', 'AK4', 'KDM5C', 'CLASP2', 'DDX51', 'GFPT1', 'KDM5A', 'AK2', 'ING5', 'POLR3F', 'ZNF622', 'KDM5B', 'SIRT4', 'GUF1', 'GBE1', 'CCNC', 'GNAL', 'RPE', 'SIRT6', 'TWISTNB', 'MAPK10', 'WBSCR27', 'CDC25C', 'RPS27', 'GNL1', 'STAT3'], 294: ['ALG11', 'DDOST', 'CANX', 'TRAF6', 'VAMP3'], 297: ['NFE2L2', 'HSD17B4', 'BIRC2', 'CAMK2D', 'BCL2', 'MT-CO2', 'SLC25A6', 'DDB1'], 300: ['AP3B1', 'SUZ12'], 301: ['ATF6B'], 303: ['PTMS', 'HMOX2', 'PDE3A', 'NT5C1B-RDH14', 'NT5C1A', 'NT5M', 'NT5C3', 'NT5C', 'CNIH', 'ZDHHC11', 'PDE1C', 'YIF1B', 'PDE1B', 'DYNC1LI2', 'CNIH4', 'ZDHHC14', 'LEMD3', 'PDE1A', 'GSTK1', 'NT5E', 'NT5C2', 'YIF1A', 'DIAPH2', 'TRAPPC3', 'CNIH2', 'SKA3', 'MTA3', 'CNIH3', 'ERG', 'DIAPH3', 'JMJD6', 'UBR4', 'ZDHHC7', 'TRAPPC8', 'SUGP1', 'DIAPH1', 'KRTAP10-3', 'ZDHHC3', 'LMAN1', 'AMPD2', 'AMPD3', 'PPIC', 'ENTPD8', 'SFPQ', 'RABGGTB', 'ENTPD3', 'ENTPD1', 'SCAF8', 'LMNA', 'SPCS2', 'SCAF4', 'AMPD1', 'NUSAP1', 'NUP62CL', 'LMNB1', 'BCAT1', 'GMPPA', 'BCAT2', 'NCAPG', 'QKI', 'RABAC1', 'SF1', 'ACSM4', 'PARP4', 'AP5M1', 'C10orf129', 'ARHGDIG', 'ACSM2B', 'EIF2B2', 'ARPC5', 'ACSM2A', 'GOSR2', 'PAPSS2', 'MCF2', 'HNRNPR', 'BET1L', 'ANP32A', 'ACSM5', 'NTHL1', 'BET1', 'SCFD1', 'ARHGDIB', 'ACSM3', 'PATL1', 'FIG4', 'AP1M2', 'ACSS3', 'CWC25', 'TPP2', 'HTATSF1', 'PLSCR1', 'MBTPS1', 'SYF2', 'BCKDHA', 'CBX3', 'SLC9C2', 'PSMB11', 'HPRT1', 'AACS', 'STX5', 'CARM1', 'MPND', 'TMED10', 'SEC61B', 'RABL6', 'CCDC94', 'AP1M1', 'ACSS1', 'ACSM1', 'LSM4', 'AK8', 'RAB19', 'PTBP3', 'RSPO4', 'RBM22', 'RAB43', 'GALE', 'SF3B4', 'ACSS2', 'RAB31', 'NGEF', 'PSMB8', 'NUP62', 'ARHGEF16', 'ARHGEF11', 'ADA', 'ISY1-RAB43', 'SRSF2', 'RAB33A', 'ARHGDIA', 'GTF2F1', 'USP9X', 'KDM5A', 'ATP7B', 'ISY1', 'RAB33B', 'RSPO3', 'RSPO1', 'ECT2', 'HNRNPU', 'PRPF39', 'VPS35', 'OGDH', 'AKAP13', 'STUB1', 'ARHGEF12', 'USP6', 'ARFGEF1', 'MAPKAP1', 'TFIP11', 'MFAP1', 'COPS2', 'IQGAP2', 'DLST', 'CPSF3', 'TGFBR1', 'SEPT6', 'SEL1L', 'VAMP5', 'RAB1B', 'APRT', 'RBM25', 'IQGAP3', 'VAMP4', 'KIAA0141', 'BRCC3', 'NSFL1C', 'CRNKL1', 'PSMB5', 'PGS1', 'HELQ', 'COPB2', 'CANX', 'EIF2A', 'TNPO1', 'CCDC130', 'EIF4E1B', 'VAMP8', 'PRC1', 'ATIC', 'GDI2', 'AP2M1', 'ATG7', 'KALRN', 'YKT6', 'XAB2', 'PFN2', 'SEC22C', 'NET1', 'IDH1', 'PDHB', 'ARHGEF3', 'CIB3', 'ARFGEF2', 'VAMP1', 'SKP2', 'DNAJB13', 'MON2', 'DNAJB5', 'SEC22A', 'RPA2', 'DNAJB6', 'COPS6', 'RAB1A', 'DNAJB4', 'ADSS', 'CIB2', 'CDC25B', 'ANXA1', 'WRN', 'TALDO1', 'GUCA1B', 'SART1', 'GUCA1C', 'EFCAB1', 'VAMP3', 'ACAT1', 'RACGAP1', 'SF3A2', 'KCNIP1', 'CFL2', 'NCOR1', 'LSM2', 'NCS1', 'PSMB4', 'GUCA1A', 'PSMB7', 'SMAD2', 'PPID', 'PFN1', 'PRPF6', 'KCNIP2', 'BUD31', 'VAMP7', 'PSMB10', 'CORO1C', 'HPCAL4', 'PARP1', 'LSM10', 'PSMD14', 'PSMD13', 'SF3A1', 'KCNIP4', 'KCNIP3', 'EIF3E', 'VSNL1', 'SNRPB2', 'CDC25C', 'PSMD2', 'PSMD12', 'RCVRN', 'PSMD7', 'IQGAP1', 'LSM6', 'EXO1', 'MYL6B']}\n"
     ]
    }
   ],
   "source": [
    "half_query_filepath = directory + \"half_clusters.txt\"\n",
    "print_querylist_of_clusters_to_file(clusters, clusters.get_all_cluster_labels(), half_query_filepath, half_qualifying_proteins)\n",
    "half_fe = get_initialized_fe(background_proteins_filepath, term_mapping_filepath, termlist = background_go_terms)\n",
    "half_fe.importFiles({'query': half_query_filepath })\n",
    "half_fe.run(cluster=False)\n",
    "\n",
    "print(f\"number of functionally enriched clusters after addition of 1/2 proteins: {half_fe.enrichment['Module'].nunique()}\")\n",
    "\n",
    "\n",
    "quarter_query_filepath = directory + \"quarter_clusters.txt\"\n",
    "print_querylist_of_clusters_to_file(clusters, clusters.get_all_cluster_labels(), quarter_query_filepath, quarter_qualifying_proteins)\n",
    "quarter_fe = get_initialized_fe(background_proteins_filepath, term_mapping_filepath, termlist = background_go_terms)\n",
    "quarter_fe.importFiles({'query': quarter_query_filepath })\n",
    "quarter_fe.run(cluster=False)\n",
    "\n",
    "print(f\"number of functionally enriched clusters after addition of 1/4 proteins: {quarter_fe.enrichment['Module'].nunique()}\")\n",
    "\n",
    "\n",
    "tenth_query_filepath = directory + \"tenth_clusters.txt\"\n",
    "print_querylist_of_clusters_to_file(clusters, clusters.get_all_cluster_labels(), tenth_query_filepath, tenth_qualifying_proteins)\n",
    "tenth_fe = get_initialized_fe(background_proteins_filepath, term_mapping_filepath, termlist = background_go_terms)\n",
    "tenth_fe.importFiles({'query': tenth_query_filepath })\n",
    "tenth_fe.run(cluster=False)\n",
    "\n",
    "print(f\"number of functionally enriched clusters after addition of 1/10 proteins: {tenth_fe.enrichment['Module'].nunique()}\")\n",
    "\n",
    "\n",
    "print(half_qualifying_proteins)\n",
    "print(quarter_qualifying_proteins)  \n",
    "print(tenth_qualifying_proteins)\n"
   ]
  },
  {
   "cell_type": "code",
   "execution_count": null,
   "metadata": {},
   "outputs": [],
   "source": []
  }
 ],
 "metadata": {
  "kernelspec": {
   "display_name": "recipe",
   "language": "python",
   "name": "python3"
  },
  "language_info": {
   "codemirror_mode": {
    "name": "ipython",
    "version": 3
   },
   "file_extension": ".py",
   "mimetype": "text/x-python",
   "name": "python",
   "nbconvert_exporter": "python",
   "pygments_lexer": "ipython3",
   "version": "3.10.6"
  },
  "orig_nbformat": 4,
  "vscode": {
   "interpreter": {
    "hash": "62f9e904ff1d4fa6e27f2984f15409dfffcff7468a54928ca0992224464fe58b"
   }
  }
 },
 "nbformat": 4,
 "nbformat_minor": 2
}
