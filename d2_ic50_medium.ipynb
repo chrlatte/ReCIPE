{
 "cells": [
  {
   "attachments": {},
   "cell_type": "markdown",
   "metadata": {},
   "source": [
    "d2_ic50_medium"
   ]
  },
  {
   "attachments": {},
   "cell_type": "markdown",
   "metadata": {},
   "source": []
  },
  {
   "cell_type": "code",
   "execution_count": 1,
   "metadata": {},
   "outputs": [],
   "source": [
    "# imports:\n",
    "\n",
    "# standard libraries\n",
    "import numpy as np\n",
    "import pandas as pd\n",
    "import matplotlib.pyplot as plt\n",
    "# library used for functional enrichment analysis\n",
    "from func_e.FUNC_E import FUNC_E  # a method that can do funtional enrichment analysis!\n",
    "import func_e.vocabs.all as vocabs\n",
    "# following code is necessary as some functions used in the funcE class produce future warnings but i can't fix it as it is not my code\n",
    "import warnings\n",
    "warnings.simplefilter(action='ignore', category=FutureWarning)\n",
    "\n",
    "# importing the custom classes i built\n",
    "from matrix_class import ProteinMatrix # ppi matrix \n",
    "from cluster_class import AllClusters # dictionary to hold all clusters (in form number of cluster : list of proteins in that cluster)\n",
    "from degreelist_class import DegreeList # creates a list of all proteins in order of their degree\n",
    "\n",
    "# helper functions for setting up program\n",
    "from recipe_utils import initialize_matrix_clusters_degreelist\n",
    "from recipe_utils import find_clusters_and_proteins_together\n",
    "\n",
    "# helper functions for functional enrichment\n",
    "from recipe_utils import print_querylist_of_clusters_to_file\n",
    "from recipe_utils import print_protein_background_to_file\n",
    "from recipe_utils import create_term_mapping_list\n",
    "from recipe_utils import get_initialized_fe"
   ]
  },
  {
   "attachments": {},
   "cell_type": "markdown",
   "metadata": {},
   "source": [
    " **must change filenames:**"
   ]
  },
  {
   "cell_type": "code",
   "execution_count": 2,
   "metadata": {},
   "outputs": [],
   "source": [
    "interactions_file = \"data/interactions/2_ppi_inweb_v2.txt\"\n",
    "clusters_file = \"data/d2_ic50_medium/d2_ic50_medium.json\""
   ]
  },
  {
   "cell_type": "code",
   "execution_count": 3,
   "metadata": {},
   "outputs": [],
   "source": [
    "matrix, clusters, degreelist = initialize_matrix_clusters_degreelist(interactions_filepath=interactions_file, clusters_filepath=clusters_file)"
   ]
  },
  {
   "attachments": {},
   "cell_type": "markdown",
   "metadata": {},
   "source": [
    "*may want to change parameters below:*"
   ]
  },
  {
   "cell_type": "code",
   "execution_count": 4,
   "metadata": {},
   "outputs": [],
   "source": [
    "sqrt_qualifying_clusters, sqrt_qualifying_proteins = find_clusters_and_proteins_together(matrix, clusters, degreelist, cluster_ratio=0, cluster_constant=2, use_sqrt=True, protein_ratio=1, protein_constant=0)"
   ]
  },
  {
   "cell_type": "code",
   "execution_count": 5,
   "metadata": {},
   "outputs": [
    {
     "data": {
      "text/plain": [
       "{}"
      ]
     },
     "execution_count": 5,
     "metadata": {},
     "output_type": "execute_result"
    }
   ],
   "source": [
    "sqrt_qualifying_proteins"
   ]
  },
  {
   "cell_type": "code",
   "execution_count": null,
   "metadata": {},
   "outputs": [],
   "source": []
  },
  {
   "cell_type": "code",
   "execution_count": 6,
   "metadata": {},
   "outputs": [],
   "source": [
    "# from recipe_utils import top_n_proteins\n",
    "\n",
    "# three_qualifying_proteins = top_n_proteins(sqrt_qualifying_proteins, n=3) \n",
    "# three_qualifying_proteins"
   ]
  },
  {
   "cell_type": "code",
   "execution_count": 7,
   "metadata": {},
   "outputs": [],
   "source": [
    "# from recipe_utils import get_cluster_connectivity\n",
    "\n",
    "# original_cluster_connectivity = get_cluster_connectivity(matrix, degreelist, clusters, {}, sort_it=False)\n",
    "# new_cluster_connectivity = get_cluster_connectivity(matrix, degreelist, clusters, added_proteins=sqrt_qualifying_proteins, sort_it=False)\n",
    "\n",
    "# from recipe_utils import calculate_connectivity_difference\n",
    "\n",
    "# difference = calculate_connectivity_difference(original_cluster_connectivity, new_cluster_connectivity, sort_it=True)\n",
    "# difference"
   ]
  },
  {
   "cell_type": "code",
   "execution_count": null,
   "metadata": {},
   "outputs": [],
   "source": []
  },
  {
   "attachments": {},
   "cell_type": "markdown",
   "metadata": {},
   "source": [
    "### Functional Enrichment Analysis"
   ]
  },
  {
   "cell_type": "code",
   "execution_count": 8,
   "metadata": {},
   "outputs": [],
   "source": [
    "# create_term_mapping_list(\"data/go_labels/dream3_go.tsv\", \"data/go_labels/d3_term_mapping.tsv\")"
   ]
  },
  {
   "attachments": {},
   "cell_type": "markdown",
   "metadata": {},
   "source": [
    "**will need to the directory below**"
   ]
  },
  {
   "cell_type": "code",
   "execution_count": 9,
   "metadata": {},
   "outputs": [],
   "source": [
    "directory = \"data/d2_ic50_medium/\"\n",
    "term_mapping_filepath = \"data/go_labels/d2_term_mapping.tsv\""
   ]
  },
  {
   "cell_type": "code",
   "execution_count": 10,
   "metadata": {},
   "outputs": [],
   "source": [
    "background_proteins_filepath = directory + \"background_proteinlist.txt\"\n",
    "og_query_filepath = directory + \"original_clusters.txt\"\n",
    "sqrt_query_filepath = directory + \"sqrt_clusters.txt\"\n",
    "# three_query_filepath = directory + \"three_prot_clusters.txt\""
   ]
  },
  {
   "attachments": {},
   "cell_type": "markdown",
   "metadata": {},
   "source": [
    "*print to files*"
   ]
  },
  {
   "cell_type": "code",
   "execution_count": 11,
   "metadata": {},
   "outputs": [],
   "source": [
    "# use functions to print info to files: (annoying, but need to get info into format used for funcE package)\n",
    "# 1) a background protein list to be used for functional enrichment analysis\n",
    "print_protein_background_to_file(matrix, background_proteins_filepath) \n",
    "# 3) not a file, but need to establish a background of all GO terms! (to be used for functional enrichment analysis)\n",
    "background_go_terms = vocabs.getTerms(['GO'])\n",
    "\n",
    "# continue printing info to files to be used in functional enrichment analysis:\n",
    "# 4) print original clusters to a file\n",
    "print_querylist_of_clusters_to_file(clusters, clusters.get_all_cluster_labels(), og_query_filepath)\n",
    "# 5) print updated clusters to a file (just append the function to include the dictionary of qualifying proteins)\n",
    "print_querylist_of_clusters_to_file(clusters, clusters.get_all_cluster_labels(), sqrt_query_filepath, sqrt_qualifying_proteins)\n",
    "# print_querylist_of_clusters_to_file(clusters, clusters.get_all_cluster_labels(), three_query_filepath, three_qualifying_proteins)"
   ]
  },
  {
   "attachments": {},
   "cell_type": "markdown",
   "metadata": {},
   "source": [
    "*RUN Functional Enrichment:*"
   ]
  },
  {
   "cell_type": "code",
   "execution_count": 12,
   "metadata": {},
   "outputs": [],
   "source": [
    "original_fe = get_initialized_fe(background_proteins_filepath, term_mapping_filepath, termlist = background_go_terms)\n",
    "original_fe.importFiles({'query': og_query_filepath })\n",
    "original_fe.run(cluster=False)\n",
    "\n",
    "sqrt_fe = get_initialized_fe(background_proteins_filepath, term_mapping_filepath, termlist = background_go_terms)\n",
    "sqrt_fe.importFiles({'query': sqrt_query_filepath })\n",
    "sqrt_fe.run(cluster=False)\n",
    "\n",
    "# three_fe = get_initialized_fe(background_proteins_filepath, term_mapping_filepath, termlist = background_go_terms)\n",
    "# three_fe.importFiles({'query': three_query_filepath })\n",
    "# three_fe.run(cluster=False)"
   ]
  },
  {
   "attachments": {},
   "cell_type": "markdown",
   "metadata": {},
   "source": []
  },
  {
   "cell_type": "code",
   "execution_count": 13,
   "metadata": {},
   "outputs": [
    {
     "name": "stdout",
     "output_type": "stream",
     "text": [
      "::::::::::::::::::::::::::SQRT::::::::::::::::::::::::::\n",
      "\n",
      "number of clusters that were updated with proteins: 0\n",
      "\n",
      "number of functionally enriched clusters (modules) out of 219 original clusters: 211\n",
      "number of functionally enriched clusters after addition of all proteins: 211\n",
      "\n",
      "number of significant pvals in original clusters before updating: 886\n",
      "number of significant pvals in clusters with all proteins added: 886\n",
      "\n",
      "\n"
     ]
    }
   ],
   "source": [
    "print(f\"::::::::::::::::::::::::::SQRT::::::::::::::::::::::::::\\n\")\n",
    "# print data by the numbers!\n",
    "print(f\"number of clusters that were updated with proteins: {len(sqrt_qualifying_proteins.keys())}\\n\")\n",
    "\n",
    "# clusters that are functionally enriched\n",
    "print(f\"number of functionally enriched clusters (modules) out of {clusters.get_num_clusters()} original clusters: {original_fe.enrichment['Module'].nunique()}\")\n",
    "print(f\"number of functionally enriched clusters after addition of all proteins: {sqrt_fe.enrichment['Module'].nunique()}\")\n",
    "print(f\"\")\n",
    "\n",
    "\n",
    "#significant P-values!!!\n",
    "print(f\"number of significant pvals in original clusters before updating: {original_fe.enrichment['Fishers_pvalue'].count()}\")\n",
    "print(f\"number of significant pvals in clusters with all proteins added: {sqrt_fe.enrichment['Fishers_pvalue'].count()}\")\n",
    "\n",
    "\n",
    "print(f\"\")\n",
    "print(f\"\")"
   ]
  },
  {
   "cell_type": "code",
   "execution_count": 14,
   "metadata": {},
   "outputs": [],
   "source": [
    "half_qualifying_clusters, half_qualifying_proteins = find_clusters_and_proteins_together(matrix, clusters, degreelist, cluster_ratio=0, cluster_constant=2, use_sqrt=False, protein_ratio=.50, protein_constant=0)\n",
    "quarter_qualifying_clusters, quarter_qualifying_proteins = find_clusters_and_proteins_together(matrix, clusters, degreelist, cluster_ratio=0, cluster_constant=2, use_sqrt=False, protein_ratio=.25, protein_constant=0)\n",
    "tenth_qualifying_clusters, tenth_qualifying_proteins = find_clusters_and_proteins_together(matrix, clusters, degreelist, cluster_ratio=0, cluster_constant=2, use_sqrt=False, protein_ratio=.10, protein_constant=0)\n",
    "\n"
   ]
  },
  {
   "cell_type": "code",
   "execution_count": 15,
   "metadata": {},
   "outputs": [
    {
     "name": "stdout",
     "output_type": "stream",
     "text": [
      "number of functionally enriched clusters after addition of 1/2 proteins: 211\n",
      "number of functionally enriched clusters after addition of 1/4 proteins: 211\n",
      "number of functionally enriched clusters after addition of 1/10 proteins: 216\n",
      "{}\n",
      "{}\n",
      "{0: ['STIP1'], 7: ['ARID4B', 'CASP8', 'SMARCA4'], 11: ['MAX'], 12: ['RPA1'], 13: ['IMPDH1', 'EIF4G3', 'EIF4E'], 16: ['RBM10'], 22: ['CD4', 'PBRM1', 'HDAC4', 'CREBBP', 'PRKACA', 'NOC2L', 'SMARCD1', 'VDAC3', 'SMARCB1', 'BXDC2', 'SMARCA2', 'RSL1D1', 'RPS28', 'NOP58', 'OLA1', 'SMARCC2'], 23: ['CD4', 'RBL2', 'EPRS'], 26: ['NOC3L', 'NMD3', 'PPAN-P2RY11', 'DDX54', 'AP2A2', 'NME2', 'RBM34', 'HDLBP', 'EIF6', 'CCT5', 'POLE', 'RPA1', 'EIF4G3', 'KIAA0664', 'NAT10', 'HIST1H2AH', 'HIST1H2AC', 'SMARCA4', 'EIF4E'], 28: ['PBRM1', 'INOC1', 'SMARCD3', 'SPTLC1', 'SMARCD1', 'DICER1', 'SMARCB1', 'ACTN1', 'SMARCA2', 'CCT3', 'NOP58', 'P4HB', 'SMARCC2', 'MYBBP1A', 'HIST1H2AH', 'HIST1H2AC'], 29: ['TAF1', 'EIF3C'], 32: ['FRAP1', 'ACO2', 'PRDX2'], 33: ['DLG4', 'RPS6KA3', 'CAMK2A', 'MAPK3', 'PDPK1', 'PTPN11'], 35: ['ERCC4', 'DNAJA1', 'PCNA'], 37: ['ACTR6', 'VHL', 'TNIK', 'IKBKE', 'POLR2C', 'PRDX1'], 39: ['NSF', 'CREBBP', 'DCD', 'LEO1', 'RANP1', 'EIF6', 'COPA', 'P4HB', 'SMARCC2'], 40: ['MAP2K1', 'CSNK1G3', 'CTNNB1', 'POLR2L', 'RPS10', 'SMARCA4'], 42: ['EPHA7', 'ATM', 'ACVR1', 'SQSTM1', 'TGFBR1', 'EIF5AP1', 'ATR', 'CDK2', 'AP2M1'], 44: ['CDH1'], 49: ['TP53'], 51: ['FN1'], 56: ['MAX'], 57: ['DDB1'], 64: ['HDAC6', 'PCNA', 'TRAF6'], 65: ['NAF1', 'MDN1', 'COPB2'], 68: ['TRAF6'], 69: ['VHL'], 73: ['GNAI2'], 79: ['CHD3', 'PPP2R5C', 'UBQLN1', 'FRY', 'HRAS', 'RPS15', 'ATXN2', 'PRKCG', 'PRKACA', 'KIAA0020', 'PPP2CA', 'SLC25A6', 'PHB', 'RPL9P7', 'RPL9', 'PRKCB1', 'KPNA5', 'UPF1', 'RPL38', 'KPNA6', 'RPS10', 'PRDX2', 'SMARCC2', 'RPS26', 'KIAA0664'], 82: ['SNRPB2', 'SUMO1P3', 'HDAC6', 'SMARCD1', 'PRPF4', 'HIST1H2BD', 'H2BFS', 'HIST2H2BA', 'HIST1H2BJ', 'HIST3H2BB', 'HIST1H2BB', 'HIST1H2BM', 'HIST2H2BF'], 84: ['TSC22D1', 'SFRS3', 'GTF2B', 'SUPT16H', 'SUPT5H', 'POLR2K', 'XPOT', 'POLR2G', 'POLR2J', 'SSRP1', 'POLR2I', 'TBP', 'SMC4', 'HDLBP', 'TUFM', 'POLR2D', 'NHP2L1', 'DDB1', 'POLR2H', 'KPNA2', 'POLR2F', 'DDX20', 'POLR2L', 'POLR2C', 'POLE', 'IDH3A', 'RPA1', 'OAT', 'PRPF6', 'KIAA0664'], 85: ['UBR5'], 91: ['HSPE1', 'VAMP2', 'TKT', 'HGS', 'SMAD4', 'ESR1', 'FHL2', 'CBL', 'CREBBP', 'SMARCD1', 'RAB6C', 'TP53', 'SSRP1', 'MAPK14', 'DDX39B', 'BAT1', 'CDK2'], 92: ['POLR2C'], 93: ['SPEN', 'CDK2'], 94: ['RPS7P1'], 101: ['BCL2', 'SET', 'ATP6V1D', 'RHOA', 'GRIN1', 'PRKCE', 'CCNC', 'NCOR1', 'FRAP1', 'RPL15P3', 'LOC440926', 'H3F3B', 'SMARCA2', 'CDK2', 'CAMK2A', 'RPS7P1', 'HDAC1', 'HIST1H2AH', 'HIST1H2AC', 'SMARCA4'], 102: ['MAPK8', 'TRAF6', 'HSP90AA2'], 103: ['PPP2R1A'], 106: ['MAP3K7IP2', 'CREBBP', 'NCOR1', 'KIF3A', 'COPA', 'HNRNPC'], 108: ['ATP6V0D1', 'FRAP1', 'BMP2K', 'ACO2'], 112: ['AURKA'], 113: ['CDK5RAP3', 'RTN4', 'KPNA6'], 117: ['PIAS1', 'MAPK10', 'MAPK8', 'LCK', 'STAT1', 'MAPK9', 'TBP', 'LYN', 'MAPK14', 'CBLB', 'NEDD4L', 'DDB1', 'MYBBP1A'], 121: ['RAB11A', 'GFAP', 'CTNNB1'], 128: ['TP53'], 131: ['NEDD4', 'RBX1', 'MNAT1', 'PPP1CB', 'SPDYA'], 142: ['POLR3A', 'MAPRE1', 'PHLPPL', 'ARHGAP15', 'LARP2', 'POLR2L', 'MMS19'], 144: ['IRAK1'], 146: ['ARID4B', 'CASP8', 'TUBG1', 'IRS4', 'KIAA0664'], 148: ['ANXA1', 'REL'], 149: ['KRT18'], 150: ['MED1', 'KPNA5', 'KPNA6', 'HIST1H2AH', 'HIST1H2AC'], 153: ['TFAP2A', 'PLCG1', 'AP2A2', 'TUFM', 'CDC2L5', 'CLTA', 'AP2M1', 'CAPZB', 'P4HB'], 156: ['AURKA', 'CTNNB1', 'MAPK3', 'HSP90AA2', 'PTK2B'], 157: ['RPL15P3', 'IKBKE', 'DDB1', 'CCT2'], 160: ['MYO1E', 'ACACB', 'KIAA0368', 'PSMC6', 'PFKP', 'IDH3A', 'CCT8', 'MMS19', 'CCT4'], 162: ['ASNA1', 'ITGB1', 'DNM2', 'CAMK2B', 'FER', 'HCK', 'SUMO1P3', 'AURKB', 'TNK1', 'PPP2CA', 'AURKA', 'PRKAB1', 'FRAP1', 'JAK2', 'PTK2', 'RPS10', 'PTK2B'], 163: ['NME2', 'MCM3', 'PRMT1', 'P4HB'], 165: ['SMARCD1'], 173: ['SIRT1', 'TAF13', 'SAC3D1', 'TCEB1', 'ACTR8', 'GRIN2B', 'PI4KA', 'STX1A', 'DLG3', 'MAP2', 'HIST1H1C', 'TPM1', 'RAB6C', 'SMARCB1', 'ARL1', 'ERCC3', 'MYO1B', 'PHB2', 'PHB', 'PPM1A', 'CTNNB1', 'SLC25A4', 'HIST1H3J', 'HIST1H3E', 'HIST1H3D', 'HIST1H3C', 'HIST1H3B', 'HIST1H3A', 'H3F3AP6', 'MSH2', 'PIK3C2A', 'MYL12B', 'HIST2H3A', 'HIST1H3H', 'SSR4', 'SAPS3', 'RANP1', 'ARRB1', 'CDK2', 'CAMK2A', 'SLC25A5', 'RBM10', 'PPIAP22', 'PPIA', 'PPP2R1A', 'HDAC1', 'IPO9', 'EIF4B', 'CAPZB', 'SMARCC2', 'TOP1'], 177: ['SH3KBP1', 'SMARCC1', 'ABL1'], 180: ['RAB1A'], 183: ['UGP2', 'SEC24B', 'LDB3', 'SNRPG', 'ETF1', 'PPAN-P2RY11', 'PRPF40A', 'SNRPD3', 'TIAM1', 'EBNA1BP2', 'SNRP70', 'SLC25A6', 'IKBKE', 'ARRB1', 'VCP', 'RSL1D1', 'RPLP1', 'RPA1', 'KIAA0664'], 188: ['HLA-C', 'EIF3E', 'MAPK14', 'TUBA1B'], 189: ['FGFR1', 'MAPK14'], 191: ['RBL2'], 193: ['TBC1D17', 'SOD1', 'CTNNB1', 'PFKP', 'RPLP1', 'PTPN11'], 200: ['MARK2', 'PTPN14', 'PTK2'], 204: ['PRDX1', 'PRDX2'], 206: ['YES1'], 207: ['HDAC1']}\n"
     ]
    }
   ],
   "source": [
    "half_query_filepath = directory + \"half_clusters.txt\"\n",
    "print_querylist_of_clusters_to_file(clusters, clusters.get_all_cluster_labels(), half_query_filepath, half_qualifying_proteins)\n",
    "half_fe = get_initialized_fe(background_proteins_filepath, term_mapping_filepath, termlist = background_go_terms)\n",
    "half_fe.importFiles({'query': half_query_filepath })\n",
    "half_fe.run(cluster=False)\n",
    "\n",
    "print(f\"number of functionally enriched clusters after addition of 1/2 proteins: {half_fe.enrichment['Module'].nunique()}\")\n",
    "\n",
    "\n",
    "quarter_query_filepath = directory + \"quarter_clusters.txt\"\n",
    "print_querylist_of_clusters_to_file(clusters, clusters.get_all_cluster_labels(), quarter_query_filepath, quarter_qualifying_proteins)\n",
    "quarter_fe = get_initialized_fe(background_proteins_filepath, term_mapping_filepath, termlist = background_go_terms)\n",
    "quarter_fe.importFiles({'query': quarter_query_filepath })\n",
    "quarter_fe.run(cluster=False)\n",
    "\n",
    "print(f\"number of functionally enriched clusters after addition of 1/4 proteins: {quarter_fe.enrichment['Module'].nunique()}\")\n",
    "\n",
    "\n",
    "tenth_query_filepath = directory + \"tenth_clusters.txt\"\n",
    "print_querylist_of_clusters_to_file(clusters, clusters.get_all_cluster_labels(), tenth_query_filepath, tenth_qualifying_proteins)\n",
    "tenth_fe = get_initialized_fe(background_proteins_filepath, term_mapping_filepath, termlist = background_go_terms)\n",
    "tenth_fe.importFiles({'query': tenth_query_filepath })\n",
    "tenth_fe.run(cluster=False)\n",
    "\n",
    "print(f\"number of functionally enriched clusters after addition of 1/10 proteins: {tenth_fe.enrichment['Module'].nunique()}\")\n",
    "\n",
    "\n",
    "print(half_qualifying_proteins)\n",
    "print(quarter_qualifying_proteins)  \n",
    "print(tenth_qualifying_proteins)\n"
   ]
  },
  {
   "cell_type": "code",
   "execution_count": 17,
   "metadata": {},
   "outputs": [
    {
     "name": "stdout",
     "output_type": "stream",
     "text": [
      "number of functionally enriched clusters after addition of 3 1/10 proteins: 215\n"
     ]
    }
   ],
   "source": [
    "from recipe_utils import top_n_proteins\n",
    "\n",
    "three_tenth_qualifying_proteins = top_n_proteins(tenth_qualifying_proteins, n=3)\n",
    "three_tenth_query_filepath = directory + \"three_tenth_clusters.txt\"\n",
    "print_querylist_of_clusters_to_file(clusters, clusters.get_all_cluster_labels(), three_tenth_query_filepath, three_tenth_qualifying_proteins)\n",
    "half_tenth_fe = get_initialized_fe(background_proteins_filepath, term_mapping_filepath, termlist = background_go_terms) \n",
    "half_tenth_fe.importFiles({'query': three_tenth_query_filepath })\n",
    "half_tenth_fe.run(cluster=False)\n",
    "print(f\"number of functionally enriched clusters after addition of 3 1/10 proteins: {half_tenth_fe.enrichment['Module'].nunique()}\")\n",
    "\n",
    "# three_quarter_qualifying_proteins = top_n_proteins(half_qualifying_proteins, n=3)\n",
    "# three_quarter_query_filepath = directory + \"three_quarter_clusters.txt\"\n",
    "# print_querylist_of_clusters_to_file(clusters, clusters.get_all_cluster_labels(), three_quarter_query_filepath, three_quarter_qualifying_proteins)\n",
    "# three_quarter_fe = get_initialized_fe(background_proteins_filepath, term_mapping_filepath, termlist = background_go_terms)\n",
    "# three_quarter_fe.importFiles({'query': three_quarter_query_filepath })\n",
    "# three_quarter_fe.run(cluster=False)\n",
    "# print(f\"number of functionally enriched clusters after addition of 3 1/4 proteins: {three_quarter_fe.enrichment['Module'].nunique()}\")\n",
    "\n",
    "\n",
    "# three_half_qualifying_proteins = top_n_proteins(half_qualifying_proteins, n=3)\n",
    "# three_half_query_filepath = directory + \"three_half_clusters.txt\"\n",
    "# print_querylist_of_clusters_to_file(clusters, clusters.get_all_cluster_labels(), three_half_query_filepath, three_half_qualifying_proteins)\n",
    "# half_three_fe = get_initialized_fe(background_proteins_filepath, term_mapping_filepath, termlist = background_go_terms) \n",
    "# half_three_fe.importFiles({'query': three_half_query_filepath })\n",
    "# half_three_fe.run(cluster=False)\n",
    "# print(f\"number of functionally enriched clusters after addition of 3 1/2 proteins: {half_three_fe.enrichment['Module'].nunique()}\")\n"
   ]
  },
  {
   "cell_type": "code",
   "execution_count": null,
   "metadata": {},
   "outputs": [],
   "source": []
  },
  {
   "cell_type": "code",
   "execution_count": null,
   "metadata": {},
   "outputs": [],
   "source": []
  },
  {
   "cell_type": "code",
   "execution_count": null,
   "metadata": {},
   "outputs": [],
   "source": []
  }
 ],
 "metadata": {
  "kernelspec": {
   "display_name": "recipe",
   "language": "python",
   "name": "python3"
  },
  "language_info": {
   "codemirror_mode": {
    "name": "ipython",
    "version": 3
   },
   "file_extension": ".py",
   "mimetype": "text/x-python",
   "name": "python",
   "nbconvert_exporter": "python",
   "pygments_lexer": "ipython3",
   "version": "3.10.6"
  },
  "orig_nbformat": 4,
  "vscode": {
   "interpreter": {
    "hash": "62f9e904ff1d4fa6e27f2984f15409dfffcff7468a54928ca0992224464fe58b"
   }
  }
 },
 "nbformat": 4,
 "nbformat_minor": 2
}
