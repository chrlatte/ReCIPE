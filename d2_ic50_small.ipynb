{
 "cells": [
  {
   "attachments": {},
   "cell_type": "markdown",
   "metadata": {},
   "source": [
    "d2_ic50_small"
   ]
  },
  {
   "attachments": {},
   "cell_type": "markdown",
   "metadata": {},
   "source": []
  },
  {
   "cell_type": "code",
   "execution_count": 1,
   "metadata": {},
   "outputs": [],
   "source": [
    "# imports:\n",
    "\n",
    "# standard libraries\n",
    "import numpy as np\n",
    "import pandas as pd\n",
    "import matplotlib.pyplot as plt\n",
    "# library used for functional enrichment analysis\n",
    "from func_e.FUNC_E import FUNC_E  # a method that can do funtional enrichment analysis!\n",
    "import func_e.vocabs.all as vocabs\n",
    "# following code is necessary as some functions used in the funcE class produce future warnings but i can't fix it as it is not my code\n",
    "import warnings\n",
    "warnings.simplefilter(action='ignore', category=FutureWarning)\n",
    "\n",
    "# importing the custom classes i built\n",
    "from matrix_class import ProteinMatrix # ppi matrix \n",
    "from cluster_class import AllClusters # dictionary to hold all clusters (in form number of cluster : list of proteins in that cluster)\n",
    "from degreelist_class import DegreeList # creates a list of all proteins in order of their degree\n",
    "\n",
    "# helper functions for setting up program\n",
    "from recipe_utils import initialize_matrix_clusters_degreelist\n",
    "from recipe_utils import find_clusters_and_proteins_together\n",
    "\n",
    "# helper functions for functional enrichment\n",
    "from recipe_utils import print_querylist_of_clusters_to_file\n",
    "from recipe_utils import print_protein_background_to_file\n",
    "from recipe_utils import create_term_mapping_list\n",
    "from recipe_utils import get_initialized_fe"
   ]
  },
  {
   "attachments": {},
   "cell_type": "markdown",
   "metadata": {},
   "source": [
    " **must change filenames:**"
   ]
  },
  {
   "cell_type": "code",
   "execution_count": 2,
   "metadata": {},
   "outputs": [],
   "source": [
    "interactions_file = \"data/interactions/2_ppi_inweb_v2.txt\"\n",
    "clusters_file = \"data/d2_ic50_small/d2_ic50_small.json\""
   ]
  },
  {
   "cell_type": "code",
   "execution_count": 3,
   "metadata": {},
   "outputs": [],
   "source": [
    "matrix, clusters, degreelist = initialize_matrix_clusters_degreelist(interactions_filepath=interactions_file, clusters_filepath=clusters_file)"
   ]
  },
  {
   "attachments": {},
   "cell_type": "markdown",
   "metadata": {},
   "source": [
    "*may want to change parameters below:*"
   ]
  },
  {
   "cell_type": "code",
   "execution_count": 4,
   "metadata": {},
   "outputs": [],
   "source": [
    "sqrt_qualifying_clusters, sqrt_qualifying_proteins = find_clusters_and_proteins_together(matrix, clusters, degreelist, cluster_ratio=0, cluster_constant=2, use_sqrt=True, protein_ratio=1, protein_constant=0)"
   ]
  },
  {
   "cell_type": "code",
   "execution_count": 5,
   "metadata": {},
   "outputs": [
    {
     "data": {
      "text/plain": [
       "{55: ['TUBB2A'], 63: ['LARP7'], 268: ['DLG3'], 329: ['PSMD13']}"
      ]
     },
     "execution_count": 5,
     "metadata": {},
     "output_type": "execute_result"
    }
   ],
   "source": [
    "sqrt_qualifying_proteins"
   ]
  },
  {
   "cell_type": "code",
   "execution_count": 6,
   "metadata": {},
   "outputs": [],
   "source": [
    "# from recipe_utils import top_n_proteins\n",
    "\n",
    "# three_qualifying_proteins = top_n_proteins(sqrt_qualifying_proteins, n=3) \n",
    "# three_qualifying_proteins"
   ]
  },
  {
   "cell_type": "code",
   "execution_count": 7,
   "metadata": {},
   "outputs": [],
   "source": [
    "# from recipe_utils import get_cluster_connectivity\n",
    "\n",
    "# original_cluster_connectivity = get_cluster_connectivity(matrix, degreelist, clusters, {}, sort_it=False)\n",
    "# new_cluster_connectivity = get_cluster_connectivity(matrix, degreelist, clusters, added_proteins=sqrt_qualifying_proteins, sort_it=False)\n",
    "\n",
    "# from recipe_utils import calculate_connectivity_difference\n",
    "\n",
    "# difference = calculate_connectivity_difference(original_cluster_connectivity, new_cluster_connectivity, sort_it=True)\n",
    "# difference"
   ]
  },
  {
   "cell_type": "code",
   "execution_count": null,
   "metadata": {},
   "outputs": [],
   "source": []
  },
  {
   "attachments": {},
   "cell_type": "markdown",
   "metadata": {},
   "source": [
    "### Functional Enrichment Analysis"
   ]
  },
  {
   "cell_type": "code",
   "execution_count": 8,
   "metadata": {},
   "outputs": [],
   "source": [
    "# create_term_mapping_list(\"data/go_labels/dream3_go.tsv\", \"data/go_labels/d3_term_mapping.tsv\")"
   ]
  },
  {
   "attachments": {},
   "cell_type": "markdown",
   "metadata": {},
   "source": [
    "**will need to the directory below**"
   ]
  },
  {
   "cell_type": "code",
   "execution_count": 9,
   "metadata": {},
   "outputs": [],
   "source": [
    "directory = \"data/d2_ic50_small/\"\n",
    "term_mapping_filepath = \"data/go_labels/d2_term_mapping.tsv\""
   ]
  },
  {
   "cell_type": "code",
   "execution_count": 10,
   "metadata": {},
   "outputs": [],
   "source": [
    "background_proteins_filepath = directory + \"background_proteinlist.txt\"\n",
    "og_query_filepath = directory + \"original_clusters.txt\"\n",
    "sqrt_query_filepath = directory + \"sqrt_clusters.txt\"\n",
    "# three_query_filepath = directory + \"three_prot_clusters.txt\""
   ]
  },
  {
   "attachments": {},
   "cell_type": "markdown",
   "metadata": {},
   "source": [
    "*print to files*"
   ]
  },
  {
   "cell_type": "code",
   "execution_count": 11,
   "metadata": {},
   "outputs": [],
   "source": [
    "# use functions to print info to files: (annoying, but need to get info into format used for funcE package)\n",
    "# 1) a background protein list to be used for functional enrichment analysis\n",
    "print_protein_background_to_file(matrix, background_proteins_filepath) \n",
    "# 3) not a file, but need to establish a background of all GO terms! (to be used for functional enrichment analysis)\n",
    "background_go_terms = vocabs.getTerms(['GO'])\n",
    "\n",
    "# continue printing info to files to be used in functional enrichment analysis:\n",
    "# 4) print original clusters to a file\n",
    "print_querylist_of_clusters_to_file(clusters, clusters.get_all_cluster_labels(), og_query_filepath)\n",
    "# 5) print updated clusters to a file (just append the function to include the dictionary of qualifying proteins)\n",
    "print_querylist_of_clusters_to_file(clusters, clusters.get_all_cluster_labels(), sqrt_query_filepath, sqrt_qualifying_proteins)\n",
    "# print_querylist_of_clusters_to_file(clusters, clusters.get_all_cluster_labels(), three_query_filepath, three_qualifying_proteins)"
   ]
  },
  {
   "attachments": {},
   "cell_type": "markdown",
   "metadata": {},
   "source": [
    "*RUN Functional Enrichment:*"
   ]
  },
  {
   "cell_type": "code",
   "execution_count": 12,
   "metadata": {},
   "outputs": [],
   "source": [
    "original_fe = get_initialized_fe(background_proteins_filepath, term_mapping_filepath, termlist = background_go_terms)\n",
    "original_fe.importFiles({'query': og_query_filepath })\n",
    "original_fe.run(cluster=False)\n",
    "\n",
    "sqrt_fe = get_initialized_fe(background_proteins_filepath, term_mapping_filepath, termlist = background_go_terms)\n",
    "sqrt_fe.importFiles({'query': sqrt_query_filepath })\n",
    "sqrt_fe.run(cluster=False)\n",
    "\n",
    "# three_fe = get_initialized_fe(background_proteins_filepath, term_mapping_filepath, termlist = background_go_terms)\n",
    "# three_fe.importFiles({'query': three_query_filepath })\n",
    "# three_fe.run(cluster=False)"
   ]
  },
  {
   "attachments": {},
   "cell_type": "markdown",
   "metadata": {},
   "source": []
  },
  {
   "cell_type": "code",
   "execution_count": 13,
   "metadata": {},
   "outputs": [
    {
     "name": "stdout",
     "output_type": "stream",
     "text": [
      "::::::::::::::::::::::::::SQRT::::::::::::::::::::::::::\n",
      "\n",
      "number of clusters that were updated with proteins: 4\n",
      "\n",
      "number of functionally enriched clusters (modules) out of 376 original clusters: 338\n",
      "number of functionally enriched clusters after addition of all proteins: 338\n",
      "\n",
      "number of significant pvals in original clusters before updating: 1074\n",
      "number of significant pvals in clusters with all proteins added: 1076\n",
      "\n",
      "\n"
     ]
    }
   ],
   "source": [
    "print(f\"::::::::::::::::::::::::::SQRT::::::::::::::::::::::::::\\n\")\n",
    "# print data by the numbers!\n",
    "print(f\"number of clusters that were updated with proteins: {len(sqrt_qualifying_proteins.keys())}\\n\")\n",
    "\n",
    "# clusters that are functionally enriched\n",
    "print(f\"number of functionally enriched clusters (modules) out of {clusters.get_num_clusters()} original clusters: {original_fe.enrichment['Module'].nunique()}\")\n",
    "print(f\"number of functionally enriched clusters after addition of all proteins: {sqrt_fe.enrichment['Module'].nunique()}\")\n",
    "print(f\"\")\n",
    "\n",
    "\n",
    "#significant P-values!!!\n",
    "print(f\"number of significant pvals in original clusters before updating: {original_fe.enrichment['Fishers_pvalue'].count()}\")\n",
    "print(f\"number of significant pvals in clusters with all proteins added: {sqrt_fe.enrichment['Fishers_pvalue'].count()}\")\n",
    "\n",
    "\n",
    "print(f\"\")\n",
    "print(f\"\")"
   ]
  },
  {
   "cell_type": "code",
   "execution_count": 14,
   "metadata": {},
   "outputs": [
    {
     "name": "stdout",
     "output_type": "stream",
     "text": [
      "number of functionally enriched clusters after addition of 3 proteins: 338\n"
     ]
    }
   ],
   "source": [
    "from recipe_utils import top_n_proteins\n",
    "three_sqrt_qualifying_proteins = top_n_proteins(sqrt_qualifying_proteins, n=3)\n",
    "three_sqrt_query_filepath = directory + \"three_prot_clusters.txt\"\n",
    "print_querylist_of_clusters_to_file(clusters, clusters.get_all_cluster_labels(), three_sqrt_query_filepath, three_sqrt_qualifying_proteins)\n",
    "sqrt_three_fe = get_initialized_fe(background_proteins_filepath, term_mapping_filepath, termlist = background_go_terms)\n",
    "sqrt_three_fe.importFiles({'query': three_sqrt_query_filepath })\n",
    "sqrt_three_fe.run(cluster=False)\n",
    "print(f\"number of functionally enriched clusters after addition of 3 proteins: {sqrt_three_fe.enrichment['Module'].nunique()}\")\n"
   ]
  },
  {
   "cell_type": "code",
   "execution_count": 15,
   "metadata": {},
   "outputs": [],
   "source": [
    "half_qualifying_clusters, half_qualifying_proteins = find_clusters_and_proteins_together(matrix, clusters, degreelist, cluster_ratio=0, cluster_constant=2, use_sqrt=False, protein_ratio=.50, protein_constant=0)\n",
    "quarter_qualifying_clusters, quarter_qualifying_proteins = find_clusters_and_proteins_together(matrix, clusters, degreelist, cluster_ratio=0, cluster_constant=2, use_sqrt=False, protein_ratio=.25, protein_constant=0)\n",
    "tenth_qualifying_clusters, tenth_qualifying_proteins = find_clusters_and_proteins_together(matrix, clusters, degreelist, cluster_ratio=0, cluster_constant=2, use_sqrt=False, protein_ratio=.10, protein_constant=0)\n",
    "\n"
   ]
  },
  {
   "cell_type": "code",
   "execution_count": 16,
   "metadata": {},
   "outputs": [
    {
     "name": "stdout",
     "output_type": "stream",
     "text": [
      "number of functionally enriched clusters after addition of 1/2 proteins: 338\n",
      "number of functionally enriched clusters after addition of 1/4 proteins: 338\n",
      "number of functionally enriched clusters after addition of 1/10 proteins: 363\n",
      "{}\n",
      "{55: ['TUBB2A'], 63: ['LARP7'], 268: ['DLG3'], 329: ['PSMD13']}\n",
      "{0: ['NOTCH2', 'MED12', 'ROCK1', 'POLR3B', 'SMARCD3', 'CTR9', 'BXDC1', 'FLNB', 'TAF9', 'RNPS1', 'ARR3', 'EIF5B', 'TAF12', 'PPM1A', 'CTNNB1', 'IRS4', 'CPSF3', 'TAF6', 'ARRB2', 'LOC440926', 'H3F3B', 'DGKZ', 'POLR2H', 'ARRB1', 'NOL6', 'BOP1', 'IMPDH1', 'RPS10', 'EIF4B', 'EIF4G3', 'KIAA0664', 'HIST1H2AH', 'HIST1H2AC', 'EIF4E'], 1: ['CLK4', 'EEF1B2', 'PSMB2', 'PPIF', 'DLG3', 'WDR12', 'PGD', 'PWP1', 'MSH3', 'TBL1XR1', 'CHEK2', 'UBE2G2', 'RPS6KA3', 'RBM34', 'PRKAR2A', 'PSMD13', 'KIAA0368', 'MSH2', 'RANP1', 'MAPK3', 'OLA1', 'PSMD3', 'IPO9', 'PTK2B', 'OAT', 'P4HB'], 3: ['SNRPD3', 'RAB6C', 'RAB6B', 'CPSF3', 'LEO1'], 4: ['EP300', 'ACTA1', 'ACTC1'], 6: ['SMAD2'], 7: ['MAPK8', 'CUL5', 'PIK3R2', 'EIF4ENIF1', 'TP53', 'CSNK1A1L', 'HSPA6', 'PIK3C2A', 'ABL1', 'MAPK14', 'CBLB', 'PTK2', 'PCNA', 'BOP1', 'MAPK3', 'YES1', 'EIF4E'], 8: ['MAPKAPK2', 'HRAS', 'MCC', 'PPM1B', 'PLS3', 'RBL2', 'PRMT1', 'FASN', 'RPS7P1', 'COPG', 'PPP2R1A', 'CCT8', 'ACTC1', 'PTK2B'], 13: ['APP', 'SLC25A5', 'IDH3A'], 14: ['TNIK', 'MLLT4', 'RAC1', 'IKBKE'], 15: ['RPS10'], 16: ['KCNMA1', 'GCH1', 'PRDX5', 'SKIV2L', 'RICTOR', 'GARS', 'MYO5B', 'DEPDC5', 'UBE1', 'ROCK1', 'RPS21', 'DHRS2', 'PPIF', 'SORCS2', 'RGL3', 'KRT14', 'SORT1', 'SUPT16H', 'PGD', 'PHLPPL', 'RANBP5', 'WDR46', 'CBS', 'PRKAA2', 'PPA1', 'TARS', 'PRPF4', 'UBR2', 'CSNK1G3', 'PTPN14', 'FRAP1', 'RPL15P3', 'PHB', 'ACO2', 'RPL9P7', 'RPL9', 'PLS3', 'RPL13AP25', 'KPNA5', 'XPO5', 'HIST1H2BD', 'H2BFS', 'HIST2H2BA', 'HIST1H2BJ', 'MAP3K1', 'SAPS3', 'HIST3H2BB', 'HIST1H2BB', 'UTP20', 'NHP2L1', 'RPL38', 'ARHGAP15', 'KPNA6', 'RANP1', 'LARP2', 'HIST1H2BM', 'ARRB1', 'NOL6', 'ACTR2', 'MAT1A', 'RPS28', 'HIST2H2BF', 'EPRS', 'DNAJA3', 'IMPDH1', 'POLR2C', 'RBM10', 'TOP2A', 'PPP6C', 'CTPS', 'PSMD3', 'IPO9', 'OAT', 'EIF4B', 'EIF4G3', 'HNRNPC', 'RPS26', 'NAT10', 'EIF4E'], 18: ['PLCG1'], 19: ['DDX17'], 21: ['OGFOD1', 'SH3KBP1', 'YSK4', 'SEC31A', 'SMAD9', 'SMC3', 'PFDN2', 'BIN3', 'MRPL12', 'ESF1', 'WAS', 'MYO1E', 'TRAF2', 'EIF3G', 'SUMO4', 'WDSOF1', 'ANP32A', 'TNFRSF14', 'SLC25A1', 'EIF2S1', 'ASS1', 'RIPK2', 'ABCF3', 'RPAP2', 'PWP1', 'TBK1', 'WDR46', 'CDK4', 'AP2A2', 'TYK2', 'RPS12', 'JAK1', 'GANAB', 'MAPK9', 'EIF2S3', 'NME2', 'CSNK1G3', 'PDHA1', 'ACACB', 'RCC2', 'PRKAB1', 'BXDC2', 'CCNH', 'DLD', 'PSMC5', 'MNAT1', 'HEATR1', 'JAK2', 'PSMA2', 'SAPS3', 'RRP12', 'MAPK14', 'MAP3K3', 'ARHGAP15', 'PSMD1', 'CDC2L5', 'NEDD4L', 'CLTA', 'GSK3B', 'NOL6', 'VCP', 'ACTR2', 'MAT1A', 'EPRS', 'COPB2', 'NEK9', 'SFPQ', 'TUBA1B', 'AP2M1', 'TOP2A', 'COPG', 'WEE1', 'OLA1', 'IDH3A', 'DDX18', 'RPA1', 'CCT8', 'OAT', 'EIF4G3', 'KIAA0664', 'NAT10', 'HADHB', 'CCT4'], 22: ['PSMB5', 'PCNA'], 23: ['ABL1', 'ATP1A1', 'TOP2A', 'PSMD3'], 24: ['CCDC90B', 'UBR1', 'C22orf9', 'EGF', 'ERBB3', 'RAB5A', 'SETDB1', 'SHMT1', 'MAPK8', 'NMD3', 'PGK1', 'ULK3', 'TNK1', 'PRKAA2', 'VDAC3', 'TP53', 'UBR2', 'PRKAR2A', 'EIF5AP1', 'BRAF', 'PSMA1', 'EIF6', 'COPB2', 'KIAA0664', 'EIF4E'], 25: ['ARHGDIA', 'GH1', 'IKBKE'], 26: ['ABL1'], 27: ['EIF1B', 'TRAF6', 'HSP90AA2', 'SMARCC2'], 28: ['HDAC1', 'SMARCA4'], 30: ['GATA1', 'ICAM1', 'SLMAP', 'CDC7', 'PA2G4', 'CSF3R', 'LEPR', 'TRADD', 'RPS27L', 'EIF3M', 'TKT', 'RAB2A', 'FABP5', 'SLC3A2', 'DNAJC8', 'CLPB', 'MAGOH', 'HGS', 'CAB39', 'ALDOC', 'CCDC85B', 'MRE11A', 'CYCS', 'FDPS', 'UBE2D3', 'LSM4', 'ADD1', 'RBX1', 'TJP1', 'KIFC1', 'CPT1B', 'ARID1A', 'GLI3', 'TNFRSF1B', 'RHOA', 'CUL2', 'DHRS11', 'UBE2V2', 'EIF2C1', 'RFC1', 'SART3', 'FZR1', 'IHPK1', 'MBP', 'TPI1', 'EEF1B2', 'DDX21', 'RRM2', 'SH3GL2', 'FKBP1A', 'PAK2', 'LDHA', 'INA', 'U2AF2', 'MED31', 'PSMD12', 'AKT1', 'DDOST', 'CAV1', 'HNRPUL1', 'ARHGEF11', 'MCM2', 'FUS', 'DNM1', 'RAB8B', 'GRAP', 'MED10', 'CDC42', 'BSN', 'MED23', 'MED1', 'GLUL', 'VAC14', 'RPL7P9', 'CHKB', 'FBXW8', 'DLAT', 'TNFRSF1A', 'RAB1A', 'CAP2', 'MYO9B', 'RAB37', 'DPYSL2', 'DNAJB6', 'CAP1', 'GNAI2', 'SFN', 'VDAC2', 'STAT3', 'POLR3A', 'NF1', 'SYT1', 'SERBP1', 'PPP2CB', 'SEC13', 'VDAC4', 'STXBP1', 'VHL', 'MAPRE1', 'EPS15', 'SUPT3H', 'SNRPA', 'KARS', 'CCNC', 'GSTM3', 'PMM2', 'FSCN1', 'CDK8', 'SQSTM1', 'ABCF3', 'DUT', 'MAP2', 'ACTL6A', 'EP300', 'SF3B4', 'ATP6V0D1', 'IRAK1', 'SQRDL', 'CREBBP', 'S100A9', 'DDX17', 'AP2A2', 'TUBG1', 'RPS12', 'PGK1', 'LARP7', 'PRKAA2', 'PPA1', 'SEH1L', 'FBXW7', 'MRPS22', 'DICER1', 'TARS', 'XPOT', 'IDH3G', 'U2SURP', 'MYC', 'RAB6C', 'TP53', 'IQGAP1', 'RPL37A', 'PCAF', 'SMARCC1', 'ACTN2', 'NME2', 'PSMA5', 'PRKAB1', 'MCM7', 'HUWE1', 'LRPPRC', 'GTF3C4', 'MSH6', 'SLC25A6', 'MYO1B', 'RPS27', 'PSMD13', 'PSMB4', 'RAB6B', 'PHB2', 'SUCLG1', 'PCBP1', 'KIF3A', 'MTHFD1', 'BMP2K', 'BCR', 'ACO2', 'GTF3C1', 'TAF5', 'ARPC5L', 'PLS3', 'TTLL3', 'IGF2BP2', 'GTF3C3', 'SLC25A4', 'MARS', 'PSMB3', 'MYL12B', 'CPSF3', 'PSMB1', 'CLTB', 'ARPC3', 'PSMA2', 'SMC4', 'EIF3E', 'HIST1H2BD', 'H2BFS', 'ATP2A2', 'HIST2H2BA', 'HIST1H2BJ', 'HIST3H2BB', 'ACTA1', 'HIST1H2BB', 'PSMB5', 'RPN1', 'UPF1', 'ARPC2', 'PSMA1', 'RPL38', 'NDUFS1', 'SMARCA2', 'TRAF6', 'NEDD4L', 'ACTR3', 'CLTA', 'MOBKL1B', 'RANP1', 'PSMA3', 'ABLIM1', 'HIST1H2BM', 'PSMC1', 'KPNA2', 'CCT5', 'GRWD1', 'DDX20', 'BOP1', 'CAMK2A', 'RPN2', 'HIST2H2BF', 'CCT3', 'MAPK3', 'EIF3B', 'DNAJA3', 'SLC25A5', 'PSMC6', 'CCT2', 'PRDX1', 'POLE', 'PFKP', 'PDPK1', 'PRDX2', 'RPS7P1', 'TOP2A', 'PPP6C', 'PPP2R1A', 'TUBB3', 'PPP1CB', 'OLA1', 'IDH3A', 'HDAC1', 'PSMD3', 'RPA1', 'IPO9', 'CCT8', 'SLC25A3', 'OAT', 'CAPZB', 'SPDYA', 'PRPF6', 'DBN1', 'MMS19', 'HNRNPC', 'TOP1', 'HADHB', 'DDX1', 'MYBBP1A', 'CCT4', 'HIST1H2AH', 'HIST1H2AC', 'SMARCA4', 'EIF4E'], 32: ['VCP'], 34: ['EDNRA', 'ANKS1B', 'IL8RB', 'CCR5', 'KPNA3', 'BAT3', 'TLN1', 'ILK', 'MAD1L1', 'RTF1', 'PIP5K3', 'NEDD8', 'FGR', 'ITGB3BP', 'UBE2M', 'NFKBIA', 'PABPN1', 'ITGB1', 'PIAS1', 'SEC22A', 'S100A11', 'UBQLN4', 'SIP1', 'ELAVL1', 'MME', 'CHD1', 'WIPF1', 'PFDN6', 'FXR2', 'ATXN1', 'SART3', 'PDE4A', 'AHCTF1P', 'ING3', 'UTP18', 'C3orf26', 'LRRC59', 'SF3B6', 'CKAP4', 'SMN2', 'USP22', 'EIF2B3', 'ENO1', 'VCL', 'NFKB2', 'PHF5A', 'GRAP', 'IKBKG', 'MAD2L1', 'KIF2C', 'FHL2', 'PCBP2', 'H2AFV', 'TNFRSF1A', 'CLK1', 'SNRPB', 'ING1', 'DNAJB6', 'H2AFZ', 'ROCK1', 'DDX50', 'NCK1', 'DNM2', 'SMARCD3', 'PELO', 'HNRPA3', 'TADA2L', 'TAOK1', 'PXN', 'LCK', 'VDAC4', 'ASS1', 'SUPT3H', 'HRNR', 'RIPK2', 'SUPT5H', 'STAT1', 'HCK', 'PIK3R2', 'RPAP2', 'TBK1', 'CPSF1', 'PRPF4B', 'GTF2F2', 'DNAJA1', 'CSK', 'S100A6', 'ATAD3B', 'KPNA4', 'CAPN1', 'FLNB', 'JAK1', 'TAF9', 'SRSF10', 'AFF4', 'KRT17', 'AURKB', 'CTNND1', 'ZNF281', 'PRKAA2', 'ANXA6', 'ANAPC5', 'BYSL', 'SMARCD1', 'NCBP2', 'NUP133', 'MRPS22', 'DICER1', 'SRRM1', 'CRKRS', 'XPOT', 'SNRP70', 'U2SURP', 'MYC', 'RNGTT', 'BRD3', 'TP53', 'HNRNPL', 'TAF12', 'POLR2I', 'PCAF', 'SMARCC1', 'ACTN2', 'CSNK1A1L', 'IKBKAP', 'RCC2', 'ACTN1', 'LRPPRC', 'GTF3C4', 'MSH6', 'RPS27', 'MYL12A', 'DCD', 'PCBP1', 'CTNNA1', 'ARPC5', 'CCNH', 'BCR', 'ATR', 'G3BP1', 'GTF3C1', 'TTLL3', 'IGF2BP2', 'POLR1E', 'HIST1H3J', 'HIST1H3E', 'HIST1H3D', 'HIST1H3C', 'HIST1H3B', 'HIST1H3A', 'H3F3AP6', 'PIK3C2A', 'MYL12B', 'CPSF3', 'RPL13AP25', 'PRMT1', 'MNAT1', 'RFC2', 'NOC4L', 'UBR5', 'HIST2H3A', 'HIST1H3H', 'CHUK', 'TAF6', 'SMC4', 'EIF3E', 'XPO5', 'ATP2A2', 'MAP3K1', 'SAPS3', 'LOC440926', 'H3F3B', 'TUFM', 'EIF3A', 'RPN1', 'MAP3K3', 'CBLB', 'RANBP2', 'PSMA1', 'NHP2L1', 'EIF4A3', 'ARHGAP15', 'CDC2L5', 'NDUFS1', 'SMARCA2', 'NEDD4L', 'DDB1', 'DDX39B', 'BAT1', 'CDK2', 'PSMC1', 'KPNA2', 'CCT5', 'GRWD1', 'DDX20', 'RSL1D1', 'RPS28', 'RPN2', 'CCT3', 'MAPK3', 'NEK9', 'NOP58', 'POLR2L', 'DNAJA3', 'SLC25A5', 'PSMC6', 'POLR2C', 'CCT2', 'MPRIP', 'RPS26P8', 'RPS26P10', 'POLE', 'TUBA1B', 'AP2M1', 'PPIAP22', 'PPIA', 'HNRPD', 'TOP2A', 'WEE1', 'PPP6C', 'PPP1R12A', 'TUBB3', 'PPP1CB', 'PTPN11', 'ACTG2', 'TCOF1', 'CCT8', 'ACTC1', 'SLC25A3', 'P4HB', 'SPDYA', 'SMARCC2', 'PRPF6', 'DBN1', 'YES1', 'MMS19', 'HNRNPC', 'RPS26', 'TOP1', 'DDX1', 'MYBBP1A', 'CCT4', 'HIST1H2AH', 'HIST1H2AC', 'EIF4E'], 36: ['PAPD5', 'GLI2', 'RB1', 'RPL37A', 'PPP1CA', 'KRT18', 'GTF3C1', 'IRS4', 'PRPF8', 'DDB1', 'POLR2H', 'KPNA2', 'POLR2L', 'HNRPD', 'WEE1', 'EIF4G3', 'EIF4E'], 38: ['FRS3', 'CD40', 'TRAF1', 'SMURF1', 'ARID4B', 'CASP8', 'PDE4D', 'SMAD4', 'SMAD2', 'TRAF2', 'LCK', 'LYN', 'ABL1', 'VCP'], 39: ['CCDC22', 'SMAD5', 'NEK2', 'ATG16L1', 'ICK', 'HSF1', 'HMGA1', 'RBM17', 'SMAD7', 'EXOC8', 'SMO', 'SRF', 'RBMX2', 'DHX8', 'ATF7', 'CAPRIN1', 'SMURF2', 'SF3B5', 'HGS', 'MRPL4', 'SMAD9', 'SP1', 'SNRPB2', 'BUB3', 'SEPT6', 'SEPT4', 'ASL', 'FUBP1', 'SH3GL1', 'SNAP25', 'SMAD1', 'RB1', 'SFRS1', 'SNRPE', 'TCEB2', 'NUDT21', 'LIN7C', 'SF3B6', 'SMAD4', 'NFKB1', 'ITPR1', 'NET1', 'MRPL27', 'HCLS1', 'RAB8B', 'PHF5A', 'PATL1', 'SNRPG', 'SMAD3', 'MED23', 'VAC14', 'CYFIP1', 'SNRPB', 'COPB1', 'PRPF19', 'STX1A', 'TPR', 'SNRPA1', 'LSM1', 'SNRPD3', 'TPM3', 'SF3B4', 'CDK4', 'SF3A2', 'DDX17', 'ARHGEF6', 'SEH1L', 'SF3A1', 'HSPA6', 'RAB6B', 'BCR', 'ARPC5L', 'CLTB', 'KPNA5', 'MOBKL1B', 'KPNA6', 'LARP2', 'GSK3B', 'CAMK2A', 'PPP2R1A', 'PPP1R12A', 'PPP1CB', 'SPDYA', 'HIST1H2AH', 'HIST1H2AC'], 42: ['CREBBP', 'DDX17', 'ITPR3', 'PRKAB1', 'TGFBR1', 'PRKCB1', 'ABL1'], 43: ['ACO2'], 44: ['JAK2'], 45: ['FGFR3', 'USP7', 'PIK3R1'], 47: ['E2F1', 'CCNH', 'MNAT1', 'ACTR3'], 48: ['PEMT', 'RAB5A', 'L1CAM', 'SOD1', 'GANAB', 'IQGAP1', 'LYN', 'RAB6B', 'RPN1', 'PRDX2', 'PPP1R12A', 'PTPN11', 'PTK2B'], 49: ['EIF5AP1'], 50: ['MAP3K8', 'REL', 'MAPK8', 'MAP3K2', 'RELA', 'LMO7'], 51: ['NF2', 'TOP1'], 53: ['KYNU', 'LGALS9C', 'LGALS9B', 'LGALS9', 'CORO6', 'ACTR8', 'PRKCD', 'PLS3', 'PRKCB1', 'PFKP', 'OLA1'], 54: ['MAP3K3', 'PSMA3'], 55: ['CCDC88A', 'KIFAP3', 'PEBP1', 'DCTN1', 'HSPE1', 'SRGAP2', 'AOF2', 'RABEP1', 'POLA2', 'RIF1', 'ATF7IP', 'RAB2A', 'MAPK8IP1', 'CDH2', 'AKAP9', 'FABP5', 'C1orf103', 'CALR', 'PPP5C', 'TSC1', 'S100A11', 'TXN', 'AKT2', 'MYH1', 'CDH1', 'TP53BP2', 'PKP2', 'RANBP9', 'MYH7', 'PRKCI', 'FRYL', 'TPI1', 'FKBP1A', 'BAD', 'LRRC59', 'MAP2K1', 'MAPK10', 'GNB1', 'DNM1', 'DLG1', 'CDC42', 'SMAD3', 'PARD3', 'SYNE1', 'DPYSL2', 'PRKCG', 'MLLT1', 'DMD', 'BCAR1', 'VARS', 'APLP1', 'WDR68', 'HDAC4', 'RBBP4', 'TNIK', 'CSN2', 'PRKCD', 'CDK5', 'CDK4', 'MAP3K2', 'S100A9', 'ERH', 'DLG4', 'AP2A2', 'PAK4', 'MARK2', 'MLLT4', 'PGK1', 'RAC1', 'HIST1H1C', 'RPS6KA3', 'HIST2H2AB', 'PSMD11', 'RAB11FIP5', 'SPIN1', 'PPP2CA', 'MARK3', 'MAP3K7IP1', 'BRD3', 'TUBB2A', 'ARAF', 'CSNK1A1', 'ACTN2', 'CSNK1A1L', 'STK38', 'HDGFRP2', 'SAG', 'HSPA6', 'DGKE', 'NOLA3', 'ZRANB2', 'PHB2', 'KIF3A', 'CTNNA1', 'BRAF', 'PPM1B', 'PPM1A', 'CCNH', 'ATR', 'ACO2', 'H1FX', 'IGF2BP2', 'CTNNB1', 'TUBA1C', 'SCYL2', 'PRKCB1', 'PIK3C2A', 'MYL12B', 'MNAT1', 'TUBA3D', 'TUBA3C', 'CHUK', 'MAP3K1', 'ARRB2', 'ACTA1', 'LOC440926', 'H3F3B', 'EIF3A', 'DGKZ', 'CDC2L5', 'PCNA', 'CLTA', 'ABLIM1', 'GSK3B', 'ARRB1', 'EEF1A2', 'CDK2', 'RBBP7', 'CAMK2A', 'MAPK3', 'SLC25A5', 'HSP90AA2', 'PDPK1', 'PRDX2', 'RBM10', 'PPIAP22', 'PPIA', 'WEE1', 'HDAC1', 'TCOF1', 'PTK2B', 'EIF4B'], 56: ['RAB6C', 'SMARCC2', 'SMARCA4'], 58: ['NOTCH1', 'TP53', 'RANP1', 'PTK2B'], 59: ['CTBP1', 'RAD51', 'NFKB2', 'USP7', 'VHL', 'IRAK1', 'MAX', 'BXDC2', 'POLR2D', 'PSMA3', 'HIST2H2BF', 'RPLP1'], 60: ['PXN'], 61: ['ACTN2'], 62: ['NIF3L1', 'PHKB', 'EIF3J', 'PRKACA', 'SUMO1P3', 'ULK3', 'ACTN1', 'PRKAR2A', 'FRAP1', 'BMP2K', 'ATR', 'MNAT1', 'HDAC1'], 63: ['ZC3H15', 'ELP4', 'PABPN1L', 'CCNA1', 'CEP70', 'CCNE1', 'SDCCAG1', 'ELP2', 'TCP11L2', 'KIAA0409', 'GLI2', 'IDE', 'MAF1', 'FZR1', 'SAPS1', 'SKIV2L', 'DXO', 'DOM3Z', 'NET1', 'MRPL27', 'RAD50', 'MED23', 'DDX10', 'PNO1', 'DDX27', 'POLR1D', 'STK16', 'NOL14', 'DNM2', 'RPS21', 'EIF2A', 'DCP2', 'NUP107', 'WDR74', 'SMARCD3', 'HTATIP', 'RGL3', 'MCC', 'PHLPPL', 'SETX', 'RPAP2', 'MDH2', 'BMS1', 'CBS', 'CSK', 'RPL26L1', 'CAMKK2', 'CDK9', 'AFF4', 'ULK3', 'LARP7', 'ANAPC5', 'PPA1', 'HDAC6', 'SMARCD1', 'TARS', 'SNRP70', 'POLR2G', 'POLR2J', 'KRI1', 'CSNK1G3', 'RPL15P3', 'KRR1', 'EIF5AP1', 'KIF3A', 'TAF5', 'PSMC5', 'NOC4L', 'HEATR1', 'HIST1H2BD', 'H2BFS', 'HIST2H2BA', 'HIST1H2BJ', 'SAPS3', 'HIST3H2BB', 'HDLBP', 'HIST1H2BB', 'RRP12', 'POLR2D', 'UPF1', 'UTP20', 'ARHGAP15', 'SMARCA2', 'DDB1', 'LARP2', 'POLR2H', 'HIST1H2BM', 'NOL6', 'CDK2', 'POLR2F', 'BOP1', 'MAT1A', 'RSL1D1', 'HIST2H2BF', 'NOP58', 'POLR2L', 'POLR2C', 'PFKP', 'RPS7P1', 'WEE1', 'EIF4G3', 'SMARCC2', 'KIAA0664', 'NAT10', 'HIST1H2AH', 'HIST1H2AC', 'SMARCA4', 'EIF4E'], 64: ['EP300', 'CDK2'], 65: ['SMAD4', 'SMAD3'], 67: ['PPP6C', 'OAT'], 68: ['IKBKE'], 69: ['REPS2', 'RERE', 'MTDH', 'FOS', 'ING4', 'SOX6', 'PIAS4', 'CDK5RAP3', 'ADHFE1', 'CPOX', 'PML', 'NFKBIA', 'NR3C1', 'PIAS1', 'SAE1', 'JUN', 'NCOR2', 'EGR1', 'TP53BP2', 'PPP2R1B', 'MAF1', 'RFC1', 'EPHA7', 'MRPL12', 'OGDH', 'ATM', 'PIP4K2C', 'AATF', 'MLTK', 'ACVR1B', 'HMGB1', 'ENO1', 'SEC16A', 'EPHA2', 'SMAD2', 'BMPR1A', 'ACVR2B', 'CD3EAP', 'GNL1', 'MCM5', 'ATXN2', 'POLR1D', 'STK16', 'ABL2', 'TEC', 'EPHB2', 'PRKAA1', 'STAT3', 'TAF1', 'SORCS2', 'PPP2CB', 'ACVR1', 'GAK', 'BTK', 'SORT1', 'EMG1', 'FER', 'SNRPA', 'KARS', 'RIPK2', 'ALDOA', 'STIP1', 'SART1', 'STAT1', 'TBK1', 'MDH2', 'SF3B4', 'DNAJA1', 'EPHB4', 'CREBBP', 'PAPOLA', 'HLA-B', 'CSK', 'CDK9', 'PGK1', 'MAPK9', 'PRKACA', 'ULK3', 'CUL1', 'PRPF3', 'HIST1H1C', 'TNK1', 'PPA1', 'TARS', 'IMPDH2', 'PPP2CA', 'BRD3', 'SMARCB1', 'SSRP1', 'MAP2K2', 'PCAF', 'TBP', 'LYN', 'AURKA', 'FRAP1', 'TGFBR1', 'PHB', 'MTHFD1', 'BRAF', 'G3BP1', 'ACO2', 'RPL9P7', 'RPL9', 'TUBA1C', 'POLR1E', 'PIK3C2A', 'TUBA3D', 'TUBA3C', 'ABL1', 'TAF6', 'MAP3K1', 'ACTA1', 'MAPK14', 'PCNA', 'IKBKE', 'KPNA6', 'POLR2H', 'EEF1A2', 'POLR2L', 'TOP2A', 'IDH3A', 'SMARCC2', 'YES1', 'RPS26', 'SMARCA4', 'EIF4E'], 73: ['HRAS', 'RAC1', 'SSB', 'PRKCB1', 'CAMK2A', 'MAPK3', 'PDPK1', 'PTK2B'], 74: ['NOL1', 'NOC2L', 'BYSL', 'PSMD8', 'KRI1', 'TSR1', 'RAB6B', 'EIF3CL', 'PSMB5', 'EIF3A', 'UTP20', 'RANP1', 'PSMA3', 'LARP2', 'EIF6', 'BOP1', 'EIF3C', 'MAT1A', 'COPB2', 'COPA', 'PSMC6', 'POLE', 'PRDX2', 'EIF4G3', 'NAT10'], 76: ['TSSC1', 'IGHV', 'SDHB', 'ATXN10', 'EXOSC4', 'HIST1H1E', 'SMURF2', 'HDAC3', 'TFDP1', 'PHC3', 'C1QA', 'IGHV4-31', 'AP1M1', 'PIK3CA', 'SETDB1', 'STK38L', 'PYGL', 'SH3GL2', 'FIP1L1', 'DDR1', 'CKAP4', 'PSMD12', 'NACAP1', 'EIF2B3', 'DDOST', 'CAV1', 'IMP3', 'FHL2', 'CHKB', 'C17orf79', 'ARHGAP32', 'MLLT1', 'PABPC4', 'RGL3', 'CTR9', 'SEC13', 'ACVR1', 'VHL', 'RBBP4', 'PFKFB3', 'SNRPA1', 'DST', 'MCC', 'MAP3K7', 'PHLPPL', 'PIK3R2', 'TBL1XR1', 'CSN2', 'HIST1H1A', 'EPHB4', 'ARD1A', 'S100A9', 'TNK2', 'AP2A2', 'POLD1', 'MLLT4', 'KRT7', 'ACTBL2', 'POTEKP', 'AP3D1', 'KRT17', 'SDC3', 'MAP1B', 'HIST1H1C', 'CTNND1', 'HIST2H2AB', 'RAB11FIP5', 'SPIN1', 'CRKRS', 'ARR3', 'VDAC3', 'SSB', 'BRD3', 'TUBB2A', 'MAP2K2', 'TAF12', 'MCM3', 'STK38', 'PDHA1', 'HDGFRP2', 'SAG', 'RACGAP1', 'HSPA6', 'PRKAB1', 'KRT18', 'DGKE', 'FRAP1', 'NOLA3', 'ZRANB2', 'DCD', 'FGFR1', 'DYNLL1', 'CTNNA1', 'PPM1B', 'PPM1A', 'BMP2K', 'G3BP1', 'H1FX', 'GTF3C3', 'TUBA1C', 'SCYL2', 'PIK3C2A', 'PRMT1', 'LEO1', 'TUBA3D', 'TUBA3C', 'JAK2', 'FASN', 'XPO5', 'MAP3K1', 'HDLBP', 'ARRB2', 'TUFM', 'MAPK14', 'MAP3K3', 'DGKZ', 'CBLB', 'PTK2', 'CDC2L5', 'TRAF6', 'IKBKE', 'CLTA', 'ARRB1', 'EEF1A2', 'RBBP7', 'VCP', 'RPN2', 'COPB2', 'DNAJA3', 'SLC25A5', 'SFPQ', 'PFKP', 'PDPK1', 'RPLP1', 'TUBA1B', 'RBM10', 'AP2M1', 'PPIAP22', 'PPIA', 'HNRPD', 'WEE1', 'PPP1R12A', 'TUBB3', 'PPP1CB', 'PTPN11', 'IDH3A', 'HDAC1', 'CTPS', 'ACTG2', 'RPA1', 'TCOF1', 'ACTC1', 'SLC25A3', 'PTK2B', 'EIF4B', 'P4HB', 'SPDYA', 'DBN1', 'YES1'], 78: ['NF2', 'SUMO4', 'TGFBR1'], 79: ['ACTA1', 'SFPQ', 'HNRNPC'], 80: ['TFE3', 'RAD51L1', 'IGKV2-40', 'STX16', 'NPEPL1', 'EPB41', 'SGK', 'KRT9', 'APOA1', 'NOL14', 'NUP107', 'PPP2CB', 'CTR9', 'TPR', 'VHL', 'TIAF1', 'MCC', 'FN1', 'PAWR', 'TIAM1', 'TBL1XR1', 'BMS1', 'HLA-B', 'KRT1', 'NOC2L', 'PPP2CA', 'KRR1', 'NOC4L', 'UTP20', 'TRAF6', 'CCT5', 'GRWD1', 'PPP2R1A', 'OLA1', 'DDX18'], 82: ['ATP2A2', 'CCT8', 'HIST1H2AH', 'HIST1H2AC'], 86: ['ERBB3', 'MAP3K5', 'PLCG1', 'G3BP1', 'MAP3K3', 'HSP90AA2', 'PPIAP22', 'PPIA'], 87: ['TRAF6'], 89: ['COPB2'], 90: ['BTG2', 'RGS2', 'PPARA', 'DVL2', 'ITGB1', 'PFDN5', 'LDB3', 'TCEB1', 'ANAPC7', 'DMD', 'RGL3', 'CORO1B', 'UGDH', 'GMFB', 'PDLIM7', 'PMM2', 'FSCN1', 'TIAM1', 'CBS', 'AURKB', 'ANAPC5', 'ITPR3', 'AURKA', 'KRT18', 'RAB6B', 'KPNA5', 'KPNA6', 'CDK2', 'PFKP', 'TUBA1B', 'AP2M1', 'PPP1CB', 'PTPN11', 'SPDYA', 'KIAA0664', 'EIF4E'], 92: ['DLGAP3', 'RALBP1', 'DYNLL2', 'RNF11', 'SORBS2', 'DAB2', 'ITGB3', 'PEX19', 'NDUFB4', 'CRKL', 'NDUFA10', 'NDUFA9', 'FGR', 'TP53BP2', 'CRK', 'SMAD4', 'GRIN2A', 'DOK2', 'DLG1', 'DOK1', 'SFRS11', 'RBM39', 'KIT', 'PLCG1', 'MARK1', 'SFN', 'EP400', 'BCAR1', 'IRS1', 'DLG3', 'PRPF40A', 'PLEC1', 'SLIT2', 'HCK', 'PRKCD', 'DLG4', 'TYK2', 'PRKACA', 'KRT17', 'TNK1', 'ANXA6', 'ATP5J2', 'SRRM1', 'IMPDH2', 'XPOT', 'MARK3', 'U2SURP', 'ARAF', 'ARL1', 'LYN', 'PIK3R1', 'PDHA1', 'RACGAP1', 'PTPN14', 'MYO1B', 'DYNLL1', 'BRAF', 'BCR', 'CTNNB1', 'HIST1H3J', 'HIST1H3E', 'HIST1H3D', 'HIST1H3C', 'HIST1H3B', 'HIST1H3A', 'H3F3AP6', 'IRS4', 'ABL1', 'JAK2', 'HIST2H3A', 'HIST1H3H', 'SSR4', 'PSMA2', 'ATP2A2', 'ACTA1', 'LMO7', 'RPN1', 'MAP3K3', 'CBLB', 'PSMA1', 'RBBP7', 'PSMC1', 'NEK9', 'DNAJA3', 'MPRIP', 'TUBA1B', 'AP2M1', 'WEE1', 'PTPN11', 'ACTC1', 'SLC25A3', 'HADHB'], 93: ['MCC', 'PRKAB1', 'JAK2'], 94: ['ATF2', 'GSK3B'], 96: ['RAB6C'], 97: ['HSP90AA2', 'HIST1H2AC'], 98: ['FGA', 'TTR', 'KRT9', 'APOC1', 'APOA1', 'FN1', 'KRT1', 'RAB6C', 'PCNA'], 100: ['LSM2', 'SF3A3', 'LYN', 'HIST1H2BD', 'H2BFS', 'HIST2H2BA', 'HIST1H2BJ', 'HIST3H2BB', 'HIST1H2BB', 'HIST1H2BM', 'HIST2H2BF', 'PRPF6'], 102: ['ASH2L', 'AARS', 'CHEK2', 'TNPO1', 'RAB6B'], 103: ['PRKACA', 'RBL2', 'PTK2B'], 105: ['SUCLG1', 'BMP2K', 'GSK3B', 'MMS19', 'HIST1H2AH', 'HIST1H2AC'], 106: ['ARF1', 'PFDN2', 'STAT3', 'EP300', 'UBE2G2', 'DIAPH1', 'SUMO1P3', 'RAB6C', 'RAB6B', 'PSMC5', 'IRS4', 'JAK2', 'BOP1', 'HDAC1', 'TOP1', 'KIAA0664', 'MYBBP1A'], 107: ['CDK2'], 109: ['APP'], 110: ['RBM4B', 'SORBS2', 'CD2AP', 'PRODH2', 'SH3KBP1', 'APOE', 'QTRTD1', 'C20orf191', 'APOC1', 'MYO1E', 'APOA1', 'ALB', 'CTR9', 'RANBP5', 'NCOR1', 'KRT1', 'PRKAA2', 'PPA1', 'TNPO1', 'MDN1', 'KRT10', 'FGFR1', 'RPL9P7', 'RPL9', 'RPL13AP25', 'KPNA5', 'EIF3A', 'RPL38', 'NEDD4L', 'KPNA6', 'RANP1', 'EIF3C', 'EIF3B', 'CCT2', 'PDPK1', 'RPS7P1', 'CCT8', 'CCT4', 'EIF4E'], 111: ['UBE2I', 'MCM5', 'CUL1', 'MCM3', 'MCM7', 'COPB2'], 112: ['EXOSC10', 'PPP2CB', 'WDR36', 'SUMO1P3', 'BRD3', 'SF3A1', 'TAF5', 'PRPF8', 'POLR2H', 'POLR2L', 'PFKP', 'PRPF6'], 113: ['PRSS23', 'GADD45A', 'NUTF2', 'CLK4', 'TGM2', 'EXOC7', 'WASL', 'TBC1D4', 'RBBP6', 'CRNKL1', 'WIPF1', 'PDLIM5', 'CORO6', 'PDE4D', 'SF3B6', 'WAS', 'CAV1', 'ERBB2', 'HCLS1', 'PHF5A', 'GRAP', 'CAP2', 'SYNE1', 'CAP1', 'EIF2B1', 'TAOK2', 'KRT14', 'WDR1', 'MAP3K7', 'VAV3', 'VAV2', 'SF3B4', 'TNK2', 'SF3A2', 'RNPS1', 'ARPC1A', 'G3BP2', 'VPS35', 'LYN', 'NME2', 'PRKAR2A', 'FRAP1', 'PPM1A', 'PLS3', 'IRS4', 'PTK2', 'RBBP7', 'ACTR2', 'PDPK1', 'PTPN11', 'PTK2B', 'CAPZB'], 115: ['CRK', 'PRKCE', 'MAP2K2', 'PIK3R1', 'ACO2'], 116: ['HCK', 'UBE2G2', 'PRKACA', 'SOS1', 'NOC4L', 'ABL1', 'HDLBP', 'CLTA', 'POLR2F', 'PRDX1', 'EIF4B'], 117: ['ELN', 'COL1A1', 'WDR68', 'FN1', 'BMP2K', 'PDPK1'], 118: ['DSCC1', 'POLR3G', 'NDEL1', 'SSU72', 'OGT', 'UBE2D2', 'RBBP6', 'PPP2R5C', 'ATP6V1D', 'UBE2D3', 'WDR82', 'SLC9A3R1', 'BUB1B', 'GTF2H1', 'PIN1', 'INCENP', 'AATF', 'INA', 'CASP3', 'EPB41L3', 'PKN1', 'MAD2L1', 'KIF2C', 'NUP107', 'CBL', 'PPP2CB', 'MAPRE1', 'SEH1L', 'PPP2CA', 'CHTF18', 'IQGAP1', 'ERCC3', 'RCC2', 'KIF3A', 'GTF3C3', 'RFC2', 'PCNA', 'IKBKE', 'RPL28', 'ACTR2', 'PTPN11'], 119: ['CCT4'], 121: ['KRTAP4-12', 'HSPA2', 'SMAD4', 'ACVR1', 'FBXW7', 'ACTR2'], 125: ['EIF3F', 'PARP1', 'LSM7', 'IGF1R', 'DDX21', 'SMAD2', 'VARS', 'GTF2F2', 'NCOR1', 'HNRNPL', 'POLR2I', 'ABL1', 'POLR2D', 'LARP2', 'POLR2H', 'POLR2F', 'HIST1H2AH', 'HIST1H2AC'], 126: ['MCM4', 'IKBKG', 'RPA2', 'STIP1', 'SEH1L', 'TNPO1', 'MTHFD1', 'PRMT1', 'EIF4A3', 'SMARCA2', 'IKBKE', 'EEF1A2', 'GRWD1', 'RPS26P8', 'RPS26P10', 'OLA1', 'RPS26', 'SMARCA4', 'EIF4E'], 129: ['PSMA6'], 130: ['RHOB', 'GTPBP3', 'RANBP1', 'ATG5', 'RBMX2', 'SH3GL3', 'GOT1', 'ADHFE1', 'SMURF1', 'NEFL', 'GNB2', 'PIAS1', 'FDPS', 'MAP3K5', 'SNAP25', 'MED19', 'SCYE1', 'PGM1', 'RHOA', 'MED4', 'IRS2', 'SART3', 'GNB4', 'PYGL', 'MBP', 'CRK', 'RIOK2', 'RICTOR', 'LMNB1', 'LDHA', 'MED31', 'SMAD4', 'ERCC2', 'MRTO4', 'GNB1', 'SOD1', 'PARD3', 'RPL7P9', 'GRIN1', 'PI4KA', 'MKI67IP', 'UBE1', 'SUMO4', 'PLCG1', 'MARK1', 'PRPF19', 'DNM2', 'EIF2A', 'IRS1', 'SEC13', 'STXBP1', 'DLG3', 'EMG1', 'WDR36', 'SUPT16H', 'EPS15', 'MED6', 'SUPT5H', 'SETX', 'PIK3R2', 'DARS', 'NSF', 'MDH2', 'SF3B4', 'EBNA1BP2', 'GTF2F2', 'DNAJA1', 'CDK5', 'SPTLC1', 'RPL29', 'NOC2L', 'MAP1B', 'BYSL', 'SLC25A12', 'NCBP2', 'TARS', 'TNPO1', 'GTPBP4', 'POLR2G', 'ARAF', 'POLR2J', 'SSRP1', 'ERCC3', 'POLR2I', 'NME2', 'PPP1CA', 'PIK3R1', 'MCM7', 'KRT18', 'TSR1', 'TGFBR1', 'PHB2', 'EIF5AP1', 'SUCLG1', 'KIAA0368', 'BXDC2', 'CCNH', 'ATR', 'TTLL3', 'IGF2BP2', 'MYL12B', 'MNAT1', 'RFC2', 'HDLBP', 'ACTA1', 'RRP12', 'POLR2D', 'DGKZ', 'ATP1A1', 'UPF1', 'RANP1', 'LARP2', 'POLR2H', 'EEF1A2', 'PSMC1', 'POLR2F', 'MAT1A', 'EPRS', 'POLR2L', 'SLC25A5', 'POLR2C', 'HSP90AA2', 'CCT2', 'PRDX1', 'MPRIP', 'RPS26P8', 'RPS26P10', 'RPS10', 'PFKP', 'PRDX2', 'RPS7P1', 'PPP6C', 'OLA1', 'IDH3A', 'PSMD3', 'DDX18', 'CCT8', 'OAT', 'EIF4B', 'EIF4G3', 'SMARCC2', 'PRPF6', 'MMS19', 'RPS26', 'TOP1', 'KIAA0664', 'CCT4', 'HIST1H2AH', 'HIST1H2AC', 'EIF4E'], 131: ['PIK3R1', 'RBL2'], 132: ['SMAD9', 'PPIAP22', 'PPIA'], 133: ['EBF1', 'DISC1', 'HGS', 'BAD', 'ENO1', 'NARS', 'ARHGAP32', 'SFN', 'IRS1', 'SERBP1', 'RBBP4', 'MLLT4', 'HDLBP', 'MAPK3', 'MPRIP', 'WEE1', 'OLA1', 'PTPN11'], 135: ['ATXN2L', 'TSC22D1', 'FECH', 'COPB1', 'SUMO4', 'ADK', 'SERBP1', 'TAOK1', 'TBK1', 'SQRDL', 'RPS12', 'ACTBL2', 'POTEKP', 'AURKB', 'MAP1B', 'ATP5J2', 'SEH1L', 'SPIN1', 'NUP133', 'ARR3', 'ARL1', 'CSNK1G3', 'STK38', 'PDHA1', 'HDGFRP2', 'SAG', 'HSPA6', 'DGKE', 'NOLA3', 'ZRANB2', 'KIF3A', 'MTHFD1', 'PPM1B', 'PPM1A', 'G3BP1', 'H1FX', 'CTNNB1', 'TUBA1C', 'SCYL2', 'TUBA3D', 'TUBA3C', 'SSR4', 'FASN', 'MAP3K1', 'ARRB2', 'MAP3K3', 'DGKZ', 'RANBP2', 'NDUFS1', 'CLTA', 'ARRB1', 'EEF1A2', 'NEK9', 'CCT2', 'PFKP', 'TUBA1B', 'RBM10', 'PPIAP22', 'PPIA', 'TCOF1', 'EIF4B', 'YES1', 'DDX1', 'SMARCA4'], 136: ['MED1', 'H2AFV', 'H2AFZ', 'CAMKK2', 'SUMO1P3', 'SLC25A6', 'BRAF', 'BMP2K', 'RPL13AP25', 'SSR4', 'ATP1A1', 'RPL38', 'SLC25A5', 'RPS7P1', 'PPP6C', 'HDAC1', 'IPO9', 'SLC25A3', 'SMARCC2'], 137: ['HSP90AA2'], 138: ['RHOB', 'ACLY', 'PDCD6IP', 'SORBS2', 'CD2AP', 'WNK4', 'E2F3', 'GDI2', 'PARP12', 'SH3KBP1', 'OGT', 'SMAD4', 'LYAR', 'SNRPB', 'NLK', 'MLLT1', 'WDR68', 'DHX30', 'SNRPA', 'GSTM3', 'FSCN1', 'UBE2G2', 'JAK1', 'SRSF10', 'RAC1', 'SOS1', 'IQGAP1', 'PHB2', 'DYNLL1', 'BRAF', 'CCNH', 'PRKCB1', 'CPSF3', 'EIF4A3', 'RPL38', 'CDK2', 'RBBP7', 'MAPK3', 'RPS26P8', 'RPS26P10', 'TUBB3', 'SLC25A3', 'HNRNPC', 'RPS26'], 140: ['CDK6', 'TPT1', 'FUS', 'CHEK2', 'RNPS1', 'NCBP2', 'VDAC3', 'PCNA', 'CDK2', 'EIF3C', 'EIF4G3'], 144: ['KIAA0664'], 145: ['ATXN1', 'CAMKK2', 'CTNNB1', 'SLC25A5'], 146: ['WEE1', 'P4HB'], 147: ['SNRPB', 'RAB1A', 'PRPF40A', 'SLC25A13', 'ARL1', 'IPO9'], 149: ['LIMS1', 'AKT3', 'RBX1', 'UBE2I', 'MED4', 'AKT1', 'DYRK1A', 'PIK3R2', 'HLA-B', 'CDK9', 'SRRM1', 'G3BP2', 'FRAP1', 'G3BP1', 'PRKCB1', 'PTK2', 'CDC2L5', 'TRAF6', 'IKBKE', 'DDB1', 'PPP1R12A', 'PTK2B'], 150: ['UBE2R2', 'PARK2', 'CD2AP', 'SNORD23', 'CNOT3', 'PTCH1', 'ATIC', 'GLI2', 'SV2B', 'CDC40', 'FZR1', 'PRKD2', 'PRKAB2', 'GART', 'DLAT', 'RAB1A', 'ARHGAP32', 'NLK', 'NTRK1', 'ADCK1', 'GRAMD1A', 'UBE2G2', 'NCOR1', 'ULK3', 'SDC3', 'TNK1', 'MARK3', 'ARAF', 'MAP2K2', 'AURKA', 'PDHA1', 'ACACB', 'FGFR1', 'KIF3A', 'BRAF', 'ARPC5', 'BMP2K', 'G3BP1', 'POLR1E', 'MYL12B', 'PRMT1', 'MAPK3', 'EPRS', 'MPRIP', 'PDPK1', 'TUBA1B', 'AP2M1', 'PPIAP22', 'PPIA', 'WEE1', 'PPP1R12A', 'TUBB3', 'CTPS', 'ACTG2', 'CCT8', 'P4HB', 'DBN1', 'YES1'], 151: ['MAP3K7IP2', 'ACTN2', 'NHP2L1', 'RANP1', 'OLA1'], 152: ['MAGEB2', 'GATAD2B', 'NCOA6', 'CNBP', 'UBE2B', 'UBE2A', 'RBBP5', 'MYH1', 'SIP1', 'HCFC1', 'RCC1', 'MED24', 'ATP1A3', 'PLAA', 'MRPL12', 'NSFL1C', 'PIP4K2C', 'INA', 'MLTK', 'RPS15', 'EPB41L3', 'POLR3F', 'ACVR2B', 'SLK', 'BSN', 'MAP4K2', 'MED1', 'FHL2', 'MELK', 'EPHB1', 'MAP3K11', 'STK16', 'NLK', 'RPS6KA1', 'ABL2', 'TEC', 'DDX56', 'EPHB2', 'PRKAA1', 'CAMK2B', 'ACVR1', 'GAK', 'DLG3', 'FER', 'RBBP4', 'RIPK2', 'MCC', 'HCK', 'TBK1', 'WDR46', 'CDK5', 'EPHB4', 'MAP3K2', 'HLA-B', 'CSK', 'RPL29', 'TNK2', 'ATAD3B', 'TYK2', 'PAK4', 'CAMKK2', 'RPS12', 'CDK9', 'MAPK9', 'AFF4', 'ULK3', 'AURKB', 'TNK1', 'RPS6KA3', 'LARP7', 'ANAPC5', 'CRKRS', 'EIF5B', 'VPS35', 'CSNK1A1', 'RPL37A', 'HNRNPL', 'LYN', 'KRI1', 'AURKA', 'CSNK1G3', 'SF3A1', 'PRKAR2A', 'MYO1B', 'TSR1', 'TGFBR1', 'RPS27', 'BRAF', 'G3BP1', 'RPL9P7', 'RPL9', 'TAF5', 'RBL2', 'JAK2', 'SMC4', 'SAPS3', 'MAPK14', 'PTK2', 'SMARCA2', 'RPL28', 'GSK3B', 'EIF6', 'CDK2', 'RBBP7', 'GRWD1', 'CAMK2A', 'RPS28', 'MAPK3', 'NEK9', 'NOP58', 'IMPDH1', 'RPS10', 'RPLP1', 'TUBA1B', 'AP2M1', 'WEE1', 'PPP2R1A', 'PTPN11', 'HDAC1', 'CTPS', 'PTK2B', 'EIF4G3', 'YES1', 'RPS26', 'CCT4', 'SMARCA4', 'EIF4E'], 153: ['SMARCA4'], 154: ['TRAF6'], 156: ['CUL1'], 159: ['MCC', 'PRDX2'], 160: ['IGHV7-81', 'IGHV1-69', 'C1S', 'C1QB', 'FCGR3A', 'FCGR2C', 'C1orf149', 'C1QC', 'SKIL', 'IGHV', 'GSTK1', 'PTN', 'ATF7IP', 'RTN4', 'NDC80', 'NEFL', 'C1QA', 'UBQLN4', 'IGHV4-31', 'SETDB1', 'WDR5', 'SMAD3', 'SMARCD3', 'CCNC', 'MED6', 'CDK8', 'TBL1XR1', 'HDAC6', 'SMARCD1', 'RAB6C', 'SMARCB1', 'PHB2', 'RBBP7', 'KPNA2', 'RSL1D1', 'EPRS', 'POLR2C', 'SMARCC2', 'HIST1H2AH', 'HIST1H2AC'], 162: ['CREBBP'], 163: ['NTRK1', 'LSM1', 'TNIK', 'GTF2F2', 'PRKCD', 'PRKACA', 'SSB', 'BRD3', 'RAB6B', 'BMP2K', 'MAPK14', 'HIST1H2AH', 'HIST1H2AC'], 166: ['GNA11', 'MARK4', 'CREBBP', 'PAK4'], 169: ['VBP1', 'PFDN6', 'BUB1B', 'PCNA', 'RANP1'], 170: ['FGFR4', 'LRP2', 'FGFR3', 'PLCG2', 'PIK3R3', 'PTCH1', 'FGFR2', 'FES', 'SEC22A', 'RAD52', 'IGF1R', 'INSR', 'EPHA2', 'DOK1', 'PLCG1', 'EPHB2', 'ACVR1', 'WDR26', 'PIK3R2', 'ARD1A', 'JAK1', 'CDK9', 'CSNK1A1L', 'PIK3R1', 'FGFR1', 'CCNH', 'PSMC5', 'MNAT1', 'LEO1', 'MAPK14', 'PTK2', 'CDC2L5', 'GSK3B', 'VCP'], 171: ['DEPDC5', 'VDAC4', 'PRKACA', 'IKBKAP', 'KIAA0368', 'SLC25A5', 'IDH3A', 'PSMD3'], 172: ['EIF3A', 'HDAC1'], 174: ['EPS15', 'PRPF8', 'TOP2A'], 178: ['ZNF655', 'XPA', 'ZAP70', 'MAPK8', 'LCK', 'SYK', 'MAPK9', 'PSMD8', 'BRD3', 'PIK3R1', 'MSH6', 'PSMD13', 'KIAA0368', 'PSMC5', 'MSH2', 'MAPK14', 'EIF6', 'PSMC1', 'VCP', 'MAPK3', 'PTK2B', 'TOP1', 'EIF4E'], 179: ['PML', 'RBL2'], 180: ['PIN1', 'POLR2G', 'POLR2I', 'POLR2D', 'POLR2H', 'POLR2F', 'POLR2L', 'POLR2C'], 181: ['TRAF6', 'PRDX1'], 183: ['CASK', 'NUDT21', 'MOBKL3', 'PPP1CA', 'MAP3K3'], 184: ['UPF1', 'HIST2H2BF'], 187: ['GLI2', 'CRNKL1', 'UBE2I', 'SYNE1', 'HELLS', 'TUBGCP2', 'FANCD2', 'SLIT2', 'TUBG1', 'MAX', 'FBXW7', 'CHTF18', 'PTPN14', 'GTF3C4', 'MSH6', 'GTF3C1', 'GTF3C3', 'MSH2', 'IRS4', 'RFC2', 'RPN1', 'RBBP7', 'MMS19', 'TOP1', 'MYBBP1A'], 188: ['MAP2K4', 'CDC37', 'RRP12', 'SMARCA2', 'VCP', 'CAMK2A', 'MAPK3', 'IMPDH1', 'SMARCA4'], 189: ['CDH1', 'PRKCE', 'PPP1CA', 'KIF3A', 'CTNNB1', 'PDPK1', 'MMS19'], 192: ['CCNB3', 'DTNB', 'CASK', 'RARA', 'XPNPEP3', 'MAST2', 'TSC1', 'MAP3K5', 'TBKBP1', 'AZI2', 'MAP4K5', 'TAOK3', 'SMAD4', 'CAV1', 'MAP3K4', 'PKN1', 'MAP4K2', 'TANK', 'MAPK8', 'KIT', 'ANP32A', 'TNFRSF14', 'RIPK2', 'DYRK1A', 'TNIK', 'TBK1', 'PRKCD', 'MAP3K2', 'PAK4', 'MARK2', 'CDK9', 'MAPK9', 'PRKACA', 'AFF4', 'ULK3', 'MARK3', 'ARAF', 'CSNK1A1', 'LYN', 'PDHA1', 'FRAP1', 'TGFBR1', 'BRAF', 'BMP2K', 'IKBKE', 'ABLIM1'], 193: ['ZBTB16', 'NCOR1', 'HSP90AA2'], 194: ['RPS6KB1', 'VIL2', 'CDK6', 'IGF1R', 'IRS2', 'BCAR1', 'MAP3K2', 'CSK', 'PAK4', 'AURKB', 'CSNK1A1', 'AURKA', 'FRAP1', 'MAPK14'], 196: ['MCM7'], 197: ['AKT1'], 198: ['GHR', 'UBQLN4', 'SMARCB1'], 199: ['CTBP1', 'RTF1', 'SNAP25', 'MED4', 'MED7', 'STX1A', 'RBBP4', 'MED6', 'RPAP2', 'RANBP5', 'POLR2G', 'POLR2J', 'POLR2I', 'POLR2D', 'RANP1', 'POLR2H', 'POLR2F', 'NOP58', 'POLR2L', 'POLR2C', 'TOP1', 'HIST1H2AH', 'HIST1H2AC'], 200: ['IGF1R', 'FER', 'HCK', 'TNK1', 'LOC440926', 'H3F3B', 'MAPK3'], 201: ['GTF2H1', 'ESR1'], 202: ['PRKACA', 'IMPDH1'], 204: ['FGA', 'KRT5'], 205: ['CHMP6', 'QARS', 'EIF2AK2', 'BLM', 'TRAF3', 'SNRPN', 'AKT3', 'SNURF', 'MYD88', 'DAXX', 'CDKN1A', 'TRAF3IP3', 'STK24', 'MYLK', 'SARS2', 'BCL2', 'TRAF1', 'CDC27', 'ATIC', 'PRSS1', 'MAPK8IP3', 'HDAC3', 'GFAP', 'PSAT1', 'TXN', 'AKT2', 'AARS', 'PGM1', 'TNFRSF1B', 'RB1', 'BIN3', 'TPM3P4', 'PAK2', 'LMNB1', 'NFKB1', 'AKT1', 'ENO1', 'NARS', 'ERCC4', 'C20orf4', 'BRCA1', 'GEMIN4', 'SOD1', 'SLK', 'PRPF31', 'APP', 'PSMD6', 'TNFRSF1A', 'UBE1', 'AKAP8', 'PLCG1', 'ALB', 'PSMD7', 'IARS', 'EIF2S1', 'ASS1', 'PMM2', 'SART1', 'TPM3', 'MAP3K7', 'NSF', 'MDH2', 'IRAK1', 'RPL29', 'PGK1', 'KRT1', 'RELA', 'TARS', 'PSMD8', 'ARL1', 'PIK3R1', 'CSNK1G3', 'KRT10', 'PSMA5', 'KRT18', 'PSMD13', 'PSMB4', 'KIAA0368', 'MTHFD1', 'PLS3', 'RBL2', 'MARS', 'IRS4', 'PSMB3', 'PSMB1', 'PSMA2', 'ATP2A2', 'MAP3K1', 'ACTA1', 'PSMB5', 'MAP3K3', 'UPF1', 'RANBP2', 'PSMA1', 'PSMD1', 'NDUFS1', 'PSMA3', 'EEF1A2', 'PSMC1', 'VCP', 'MAT1A', 'EPRS', 'DNAJA3', 'PSMC6', 'HSP90AA2', 'RPS26P8', 'RPS26P10', 'PPP6C', 'OLA1', 'PSMD3', 'EIF4B', 'PRPF6', 'MMS19', 'RPS26', 'TOP1', 'KIAA0664'], 206: ['FGFR3', 'UBE2I', 'STAT3', 'APLP1', 'PRPF3'], 208: ['TTK', 'SNX30', 'SDCBP', 'MECR', 'LRPAP1', 'ASH2L', 'MDM2', 'ZAP70', 'RELB', 'DISC1', 'AP1G1', 'SOD2', 'CCDC85B', 'RBBP5', 'PUS7', 'SNW1', 'PLRG1', 'CRNKL1', 'SUMO3', 'UBE2I', 'SEC24B', 'POLR3F', 'MYO5B', 'DLAT', 'ATXN2', 'SUMO4', 'SMC1A', 'CAMK1D', 'STAT3', 'HTATIP', 'PXN', 'DST', 'SNRPA', 'SUPT5H', 'SART1', 'SF3A3', 'SF3A2', 'SDC3', 'SOS1', 'SMARCD1', 'GTPBP4', 'TP53', 'SMARCB1', 'TSR1', 'PRPF8', 'SMARCA2', 'P4HB', 'SMARCC2', 'SMARCA4'], 210: ['RBL2'], 211: ['HFM1', 'BCKDK', 'HDAC3', 'KIFC1', 'GLI3', 'PI4KB', 'SUPT6H', 'DXO', 'DOM3Z', 'EPHA2', 'IRS1', 'PFKFB3', 'MAP3K7', 'CSN2', 'MAP3K14', 'ARD1A', 'S100A9', 'NCOR1', 'ACTBL2', 'POTEKP', 'AP3D1', 'PHGDH', 'SDC3', 'MAP1B', 'HIST1H1C', 'CTNND1', 'TNK1', 'HIST2H2AB', 'RAB11FIP5', 'SPIN1', 'ARR3', 'TUBB2A', 'AURKA', 'STK38', 'HDGFRP2', 'SAG', 'HSPA6', 'DGKE', 'FRAP1', 'NOLA3', 'ZRANB2', 'RAB6B', 'KIF3A', 'PPM1B', 'PPM1A', 'ATR', 'H1FX', 'CTNNB1', 'TUBA1C', 'SCYL2', 'PIK3C2A', 'PRMT1', 'TUBA3D', 'TUBA3C', 'HIST2H3A', 'HIST1H3H', 'FASN', 'MAP3K1', 'ARRB2', 'LOC440926', 'H3F3B', 'DGKZ', 'UPF1', 'NDUFS1', 'NEDD4L', 'ACTR3', 'CLTA', 'RPL28', 'ARRB1', 'EEF1A2', 'GRWD1', 'RPN2', 'RBM10', 'PPIAP22', 'PPIA', 'WEE1', 'PPP2R1A', 'PPP1R12A', 'TUBB3', 'HDAC1', 'ACTG2', 'TCOF1', 'ACTC1', 'EIF4B', 'P4HB', 'DBN1', 'YES1'], 212: ['NCOR1'], 213: ['WNK1', 'PIB5PA', 'IRF2BP1', 'RDBP', 'NELFE', 'DTX1', 'TNFRSF10B', 'TH1L', 'CCNB1', 'MAP3K7IP2', 'RALA', 'NCBP1', 'ATP1A3', 'GNAS', 'ARF1', 'EWSR1', 'DNM1', 'IKBKG', 'TNFRSF1A', 'MAP3K14', 'AP2A2', 'SDC3', 'RAC1', 'ARAF', 'SSRP1', 'PIK3R1', 'PHB2', 'PHB', 'BRAF', 'PRMT1', 'MAP3K1', 'MAP3K3', 'HSP90AA2', 'RBM10', 'CTPS', 'HNRNPC'], 214: ['WDR92', 'CDKN2A', 'GFAP', 'PRKACB', 'PRPF31', 'SMARCD3', 'FN1', 'RPS12', 'PRKACA', 'PRPF3', 'MAX', 'SSB', 'PRKAR2A', 'ACTA1', 'MAPK14', 'PFKP', 'OLA1', 'PRPF6'], 215: ['UBE2G2', 'KPNA4', 'MSH6', 'FGFR1', 'PCBP1', 'BRAF', 'CCNH', 'MNAT1', 'NEDD4L', 'OLA1', 'OAT', 'HNRNPC'], 218: ['BCL2L2', 'BCL2', 'CDKN2A', 'HSPA12A', 'ATP5O', 'RAP1GAP', 'DLG4', 'ACTN1', 'DYNLL1', 'HIST1H3J', 'HIST1H3E', 'HIST1H3D', 'HIST1H3C', 'HIST1H3B', 'HIST1H3A', 'H3F3AP6', 'HIST2H3A', 'HIST1H3H'], 219: ['POLR2K', 'POLR2H', 'POLR2F', 'POLR2L'], 221: ['PTPN1', 'PTK2B'], 222: ['RBM19', 'MAT1A', 'CCT4'], 226: ['TRAF6', 'SPDYA'], 227: ['PSME2', 'HSPA2', 'CPNE8', 'L1CAM', 'RHOA', 'TCEB1', 'TCEB2', 'AKT1', 'RAD50', 'PABPC4', 'SLIT2', 'MAP3K7', 'AHSA1', 'MAP3K14', 'IRAK1', 'SQRDL', 'CDK4', 'SPTLC1', 'SEC61A1', 'EIF4ENIF1', 'TP53', 'PTPN14', 'KIF3A', 'PPM1B', 'BCR', 'IRS4', 'ATP2A2', 'NDUFS1', 'CCT5', 'VCP', 'PDPK1', 'PPP2R1A', 'PSMD3', 'PTK2B'], 228: ['IRS4'], 229: ['USP7', 'TGFBR1', 'GSK3B'], 231: ['ARNT', 'SP1', 'NCOR2', 'RB1', 'CAP2', 'CAP1', 'MSH3', 'MYC', 'PSMD8', 'PRKAR2A', 'TSR1', 'ATR', 'MSH2', 'MAPK14', 'OLA1', 'EIF4G3', 'EIF4E'], 232: ['SORCS2', 'PXN', 'SORT1', 'TPM3', 'HLA-B', 'CSNK1A1', 'ACTA1', 'HSP90AA2', 'PPP1CB', 'SPDYA', 'YES1'], 233: ['HNRNPL', 'POLR2F'], 234: ['PIK3R1', 'RPL28', 'ACTC1', 'DBN1'], 236: ['RPA1'], 237: ['MED16', 'MED13', 'MED14', 'MED24', 'MED1', 'LCK', 'ACTL6A', 'SMARCC1', 'PPP1CA', 'MSH6'], 239: ['F2', 'APOA2', 'TFIP11', 'TIAM1', 'PRKAB1'], 240: ['ESR1', 'MCC', 'TRAF6', 'IKBKE', 'PFKP'], 241: ['ZNF703', 'GNG2', 'CDK5RAP2', 'STX12', 'HDAC9', 'HDAC5', 'NCOR2', 'GNB1', 'SYT1', 'HDAC4', 'STXBP1', 'PRKCE', 'LSM1', 'TBL1XR1', 'RBL2', 'CTNNB1', 'CAMK2A'], 242: ['ABL1', 'PCNA'], 245: ['C7orf20', 'GNAS', 'VARS', 'GANAB', 'TAF12', 'PSMD13', 'DYNLL1', 'MSH2', 'EIF3E', 'TRAF6', 'OLA1', 'IPO9', 'OAT', 'SMARCC2'], 246: ['SNRPA', 'DDX18', 'EIF4G3'], 247: ['GNG10', 'PFN2', 'FTSJ1', 'DCLK1', 'SYN1', 'VHL', 'SRSF10', 'CUL1', 'ATP5J2', 'ARL1', 'SSR4', 'EIF4A3', 'IKBKE', 'ACTR2', 'RPS26P8', 'RPS26P10', 'PPP1CB', 'SLC25A3', 'SPDYA', 'RPS26'], 251: ['COPS5', 'SLC25A22', 'VEGFA', 'TNFRSF1B', 'SEC24B', 'SHFM1', 'PRPF31', 'STX1A', 'BXDC1', 'NOL1', 'PHGDH', 'PCMT1', 'SF3A1', 'RACGAP1', 'ACO2', 'LMO7', 'CBLB', 'PSMC1', 'ACTR2', 'CAMK2A', 'MPRIP', 'RPS7P1', 'WEE1', 'PPP1CB', 'IDH3A', 'RPA1', 'EIF4G3', 'SPDYA', 'HIST1H2AH', 'HIST1H2AC', 'EIF4E'], 252: ['VPS72'], 253: ['DYNLT1', 'PTK2'], 254: ['MAPRE1', 'DNAJA1'], 255: ['TNFRSF14', 'BTK', 'GANAB', 'CRKRS', 'PRKAB1', 'MCM7', 'GTF3C4', 'TGFBR1', 'GTF3C1', 'PRKCB1', 'MARS', 'IRS4', 'RPN1', 'CDK2', 'NEK9', 'COPA', 'OAT', 'MYBBP1A'], 258: ['PPP1R7', 'FIP1L1', 'DDX10', 'EIF2S2', 'EIF2S1', 'HLA-B', 'SF3A3', 'SF3A1', 'KPNA5', 'PRPF8', 'EIF3A', 'KPNA6', 'IMPDH1', 'RPS10', 'EIF4G3', 'PRPF6', 'HIST1H2AH', 'HIST1H2AC', 'EIF4E'], 260: ['GDI2', 'EWSR1', 'HNRPUL1', 'TIAM1', 'SF3A1', 'SLC25A5'], 261: ['LYAR', 'SOD1', 'DLAT', 'BRSK1', 'ARFGEF2', 'PWP1', 'ATP5J2', 'PES1', 'PLS3', 'RPL13AP25', 'SSR4', 'TUFM', 'RPN1', 'UTP20', 'NEDD4L', 'DDB1', 'KPNA6', 'LARP2', 'GRWD1', 'BOP1', 'RPS7P1', 'OAT', 'CAPZB', 'EIF4G3', 'TOP1', 'MYBBP1A', 'CCT4'], 262: ['MAGED1', 'HSP90AA2'], 264: ['SMARCD1'], 265: ['PLCG1'], 266: ['TGFBR2', 'PACS1', 'RAB10', 'SH3GL2', 'TPR', 'DDX17', 'G3BP2', 'MCM3', 'KIF3A', 'ARPC5L', 'CLTB', 'IKBKE', 'CLTA', 'MOBKL1B', 'ARRB1', 'SFPQ'], 268: ['MAPK8IP1', 'FES', 'CDC37', 'RALA', 'TJP1', 'IKBKB', 'IGF1R', 'KLC2', 'INSR', 'SNF1LK2', 'DDR1', 'GRIN2A', 'AKT1', 'MAP2K1', 'ERBB2', 'GRIN2B', 'PRKCQ', 'EPHA2', 'MYH11', 'DLG1', 'IKBKG', 'PARD3', 'GRIN1', 'PRKCG', 'NTRK1', 'NOS1', 'DLG3', 'FER', 'TNIK', 'TBK1', 'NSF', 'PRKCD', 'DLG4', 'TYK2', 'JAK1', 'MAPK9', 'RAC1', 'TNK1', 'RPS6KA3', 'MARK3', 'RFC3', 'ARAF', 'ACTN2', 'FRAP1', 'MYO1B', 'TGFBR1', 'PHB', 'BRAF', 'BCR', 'PRKCB1', 'IRS4', 'JAK2', 'CHUK', 'ATP2A2', 'PSMB5', 'ATP1A1', 'PTK2', 'GSK3B', 'CDK2', 'CAMK2A', 'RPN2', 'MAPK3', 'NEK9', 'HSP90AA2', 'PDPK1', 'WEE1', 'PPP2R1A', 'IPO9', 'PTK2B'], 269: ['SF3B4', 'GTF2F2', 'PTPN11'], 272: ['PRKAA2', 'BMP2K', 'H1FX', 'SCYL2', 'PIK3C2A', 'NOC4L', 'PSMD1', 'DDB1', 'RBM10', 'TCOF1', 'P4HB'], 273: ['RRAGB', 'TCEB1', 'STRN3', 'MED23', 'SF3B4', 'SF3A3', 'SF3A2', 'SNRP70', 'PPP2CA', 'SF3A1', 'MARS', 'SMARCA2', 'PPP2R1A', 'HDAC1', 'PRPF6', 'SMARCA4'], 274: ['RBBP7', 'EIF3C', 'EIF3B', 'SMARCA4', 'EIF4E'], 275: ['TAF6', 'CTPS', 'OAT', 'HIST1H2AH', 'HIST1H2AC'], 276: ['PPP1R9A', 'GRM5', 'RPTOR', 'GYS1', 'CCND1', 'CENPK', 'AKT3', 'BIRC5', 'CCNA1', 'SSU72', 'GRM1', 'CDC14A', 'MTHFD1L', 'CDC6', 'MCM10', 'SH3YL1', 'PHKB', 'ACTR3B', 'ACTR6', 'AKT1', 'MAP2K1', 'HCLS1', 'ENO3', 'NUDC', 'PRKAR2B', 'NF1', 'VARS', 'NOS1', 'BTAF1', 'PPP1R9B', 'CLASP2', 'MAP2', 'NSF', 'CDK4', 'GRAMD1A', 'DLG4', 'PSMA6', 'PGK1', 'RAC1', 'PPA1', 'PPP2CA', 'PES1', 'RPS27', 'PSMD13', 'EIF5AP1', 'KIAA0368', 'BMP2K', 'RPL13AP25', 'HIST1H2BD', 'H2BFS', 'HIST2H2BA', 'HIST1H2BJ', 'HIST3H2BB', 'HIST1H2BB', 'ACTR3', 'HIST1H2BM', 'CDK2', 'HIST2H2BF', 'EIF3B', 'POLE', 'PDPK1', 'PRDX2', 'RPS7P1', 'COPG', 'OLA1', 'PTPN11', 'IDH3A', 'OAT', 'MMS19', 'HIST1H2AH', 'HIST1H2AC'], 277: ['CREBBP'], 278: ['PDE4B', 'CLTCL1', 'COL1A1', 'IGKV2-40', 'CTSL1', 'GLI2', 'GCH1', 'SNW1', 'UBQLN4', 'FGA', 'IGHV4-31', 'CANX', 'TTR', 'KRT9', 'OGDH', 'APOC1', 'TPM3P4', 'HCLS1', 'NUP98', 'APP', 'APOA1', 'NCK1', 'SEC13', 'DHX30', 'RRP1B', 'PRPF40A', 'FN1', 'SART1', 'TPM3', 'SETX', 'SQRDL', 'SEC61A1', 'GANAB', 'KRT1', 'LYN', 'KRT10', 'TSR1', 'RBL2', 'ABL1', 'ATP2A2', 'ATP1A1', 'PSMA1', 'IKBKE', 'DDB1', 'MAT1A', 'OAT', 'CAPZB'], 279: ['HIP1R', 'SORCS2', 'SORT1', 'RAB6C', 'FRAP1', 'CTNNB1', 'IKBKE', 'COPB2'], 280: ['ENO1', 'RPL7P9', 'EPS15', 'STIP1', 'ABCF3', 'MDN1', 'PCAF', 'RCC2', 'EIF5AP1', 'ARRB2', 'UTP20', 'PSMD1', 'IKBKE', 'LARP2', 'ARRB1', 'MAT1A', 'COPA', 'SLC25A5', 'HSP90AA2', 'RPS10', 'RPLP1', 'SMARCA4'], 284: ['ASL', 'CASP3', 'ETF1', 'CTR9', 'CDK5', 'AURKB', 'MAP2K2', 'PDHA1', 'BMP2K', 'PRKCB1', 'PDPK1'], 285: ['C18orf37', 'SHBG', 'RAB35', 'ITK', 'HNRPAB', 'MYLK', 'EMD', 'EXOC5', 'TIAL1', 'OPA1', 'MTA1', 'WASL', 'EPB41', 'MAP3K5', 'SH3GL1', 'AMPH', 'MYH7', 'MME', 'PDLIM5', 'SH3GL2', 'WDR33', 'LMNB1', 'PDHB', 'EWSR1', 'ENO1', 'CASP3', 'VCL', 'DNM1', 'SMAD3', 'APP', 'PLCG1', 'MARK1', 'PRKCG', 'CENPF', 'VDAC2', 'CBL', 'MYH14', 'VDAC4', 'GAK', 'PRKCE', 'MED6', 'PIK3R2', 'SUMO1P3', 'RELA', 'TPM1', 'TNPO1', 'ACTN2', 'AURKA', 'KRT10', 'SLC25A4', 'PRKCB1', 'JAK2', 'MAP3K1', 'ACTA1', 'DGKZ', 'CDC2L5', 'PCNA', 'MAPK3', 'SLC25A5', 'RPS10', 'HNRPD', 'PPP1R12A', 'IDH3A', 'EIF4B', 'CAPZB', 'SPDYA', 'SMARCA4'], 286: ['TRAF2', 'PSMD13', 'OLA1'], 287: ['MYBBP1A'], 288: ['WASF2', 'UBQLN4', 'NCK1', 'RAC1', 'SOS1', 'TGFBR1', 'TRAF6'], 289: ['HNF4A', 'PRKG1', 'ATP13A3', 'ESR2', 'SAT1', 'ITPKB', 'EXOSC1', 'USP12', 'LTBP4', 'SH3GL3', 'PEMT', 'SFRS4', 'SFRS2', 'ELL2', 'PUS7', 'LUC7L', 'TMLHE', 'IKBKB', 'SFRS1', 'AR', 'TARDBP', 'NFX1', 'U2AF2', 'PHF5A', 'TXNL4A', 'MED10', 'IKBKG', 'ESR1', 'MED23', 'PI4KA', 'PCF11', 'SFN', 'SFRS3', 'HNRPA3', 'ALB', 'CTR9', 'SNRPA1', 'SNRPA', 'DYRK1A', 'SNRPD3', 'LSM2', 'TBK1', 'CPSF1', 'EP300', 'SF3B4', 'CREBBP', 'HLA-B', 'UBE2G2', 'SF3A3', 'SF3A2', 'AP2A2', 'GANAB', 'AFF4', 'ULK3', 'PPA1', 'NCBP2', 'SNRP70', 'PRPF4', 'SF3A1', 'BMP2K', 'NOC4L', 'FASN', 'PRPF8', 'RRP12', 'MAPK14', 'POLR2D', 'POLR2H', 'POLR2F', 'POLR2L', 'POLR2C', 'HSP90AA2', 'PDPK1', 'HNRPD', 'PRPF6', 'HNRNPC'], 290: ['RPA2', 'NSF', 'CHTF18'], 292: ['APOE', 'SMURF2', 'TLN2', 'APOC1', 'CPSF6', 'APOA1', 'ALB', 'KRT14', 'TIAM1', 'DIAPH1', 'KRT1', 'KRT10', 'POLR2C'], 293: ['GTF2B', 'CREBBP', 'KPNA4', 'TP53', 'TAF12', 'FGFR1', 'PDPK1'], 294: ['LCK', 'RPS12', 'DLD', 'TAF6'], 295: ['PYGM', 'PRKAR1B', 'RAP1A', 'CAV1', 'RAC1', 'PTK2B'], 296: ['SMN2', 'EP300', 'CREBBP', 'TRAF6', 'DDX20', 'PDPK1', 'PTK2B', 'MYBBP1A'], 297: ['PIK3R1', 'MCM7', 'RBL2'], 298: ['PRMT1'], 299: ['PTN', 'MAP3K7IP1', 'AURKA', 'ACTN1', 'BRAF', 'RBL2', 'CHUK', 'CDK2', 'RSL1D1', 'SLC25A5', 'TCOF1', 'IPO9', 'SLC25A3', 'MYBBP1A'], 300: ['HMGB2', 'PGRMC1', 'ORC5L', 'GDI2', 'ORC4L', 'SEPT9', 'EIF3M', 'FABP5', 'SET', 'CALR', 'PAPD5', 'CASP7', 'ORC2L', 'EIF3K', 'GNAI3', 'MAP3K7IP2', 'EIF3D', 'TXN', 'EIF5', 'ASL', 'ATP5O', 'HAT1', 'SYNGR1', 'ABCE1', 'PSMD10', 'EIF2B2', 'RCC1', 'TPT1', 'GAP43', 'EIF2B4', 'GNB4', 'MRPL12', 'EEF1B2', 'TPM3P4', 'PAK2', 'LDHA', 'LRRC59', 'USP22', 'GRIN2A', 'EIF2B3', 'CAV1', 'CASP3', 'MAPK10', 'GRIN2B', 'GNB1', 'NOB1', 'MYH11', 'ZNF593', 'NOC3L', 'EIF2S2P4', 'PSMB2', 'APP', 'PARD3', 'GNL1', 'GRIN1', 'EIF3G', 'MAPK8', 'DDX27', 'EIF2B1', 'GNAI2', 'NIP7', 'NCK1', 'EIF2A', 'DDX56', 'SMARCD3', 'AHCY', 'NMD3', 'VDAC2', 'STX1A', 'STAT3', 'HTATIP', 'PPIF', 'PPAN-P2RY11', 'TADA2L', 'NOS1', 'NSA2', 'EIF2S2', 'EIF2S1', 'BTAF1', 'VDAC4', 'DLG3', 'DDX54', 'CBR1', 'BXDC1', 'SUPT3H', 'RRP1B', 'WDR12', 'FSCN1', 'AP2S1', 'SUPT5H', 'TPM3', 'VAV3', 'SHMT2', 'VAV2', 'MAP2', 'RANBP5', 'MDH2', 'ATP6V0D1', 'SRP14', 'AHSA1', 'WDR46', 'S100A6', 'DLG4', 'RPS12', 'TAF9', 'NOL1', 'MAPK9', 'NOC2L', 'KRT17', 'LARP7', 'ANXA6', 'RBM28', 'SMARCD1', 'KIAA0020', 'EIF2S3', 'DLSTP', 'TPM1', 'GTPBP4', 'PCMT1', 'EIF5B', 'VDAC3', 'PSMD8', 'SMARCB1', 'IQGAP1', 'TAF12', 'PCAF', 'ACTN2', 'KRI1', 'PES1', 'RCC2', 'RBM34', 'PRKAR2A', 'MYO1B', 'KRR1', 'TSR1', 'PSMD13', 'MYL12A', 'PHB2', 'DYNLL1', 'PHB', 'BXDC2', 'ARPC5', 'RPL9P7', 'RPL9', 'TAF5', 'EIF3CL', 'PLS3', 'DLD', 'TTLL3', 'RBL2', 'SLC25A4', 'HIST1H3J', 'HIST1H3E', 'HIST1H3D', 'HIST1H3C', 'HIST1H3B', 'HIST1H3A', 'H3F3AP6', 'MYL12B', 'PRMT1', 'HEATR1', 'HIST2H3A', 'HIST1H3H', 'ARPC3', 'TAF6', 'EIF3E', 'ATP2A2', 'HDLBP', 'ACTA1', 'RRP12', 'EIF3A', 'CBLB', 'ARPC2', 'UTP20', 'ARHGAP15', 'SMARCA2', 'TRAF6', 'ACTR3', 'RANP1', 'ABLIM1', 'RPL28', 'POLR2H', 'EIF6', 'NOL6', 'GRWD1', 'BOP1', 'EIF3C', 'ACTR2', 'CAMK2A', 'RPS28', 'EIF3B', 'NOP58', 'DNAJA3', 'IMPDH1', 'SLC25A5', 'PRDX1', 'RPS26P8', 'RPS26P10', 'RPS10', 'PRDX2', 'PPP2R1A', 'TUBB3', 'PPP1CB', 'PTPN11', 'DDX18', 'ACTG2', 'ACTC1', 'SLC25A3', 'PTK2B', 'OAT', 'CAPZB', 'EIF4G3', 'SPDYA', 'SMARCC2', 'DBN1', 'RPS26', 'KIAA0664', 'NAT10', 'HIST1H2AH', 'HIST1H2AC', 'SMARCA4', 'EIF4E'], 301: ['SMAD9'], 302: ['LIN52', 'LIN54', 'LIN9', 'LIN37', 'NCOA6', 'CAMKK1', 'NCOA1', 'TFDP2', 'RXRA', 'E2F4', 'TFDP1', 'ARF6', 'TNFRSF1B', 'TPM3P4', 'LIN7C', 'RAD23B', 'C20orf4', 'ESR1', 'SRPK2', 'KCNAB1', 'RBBP4', 'GSTM3', 'ARFGEF2', 'TPM3', 'CAMKK2', 'SDC3', 'DLSTP', 'TPM1', 'EIF3CL', 'ARPC5L', 'RBL2', 'CLTB', 'ATP2A2', 'ARRB2', 'ACTA1', 'MOBKL1B', 'ARRB1', 'CDK2', 'VCP', 'EIF3C', 'PRDX1', 'RPS26P8', 'RPS26P10', 'RPLP1', 'PPP6C', 'PPP1CB', 'ACTG2', 'ACTC1', 'EIF4G3', 'SPDYA', 'HNRNPC', 'RPS26'], 304: ['ACTA1'], 305: ['PLXNB2', 'PLXNB3', 'PLXNB1', 'ISCU', 'SIX1', 'EDG4', 'CACNA1A', 'UCHL5IP', 'TREX2', 'SMURF1', 'UTP3', 'PPAT', 'ELL2', 'SAE1', 'BAG2', 'PYGL', 'PLAA', 'RIOK2', 'NFX1', 'ITPR1', 'MED23', 'WDSOF1', 'PRPF19', 'SMARCD3', 'BRSK1', 'SPIN3', 'SPIN2B', 'CAPZA1', 'BOLA2B', 'SEC23A', 'CCNC', 'PRPF40A', 'MED6', 'CPNE1', 'HIST1H1A', 'ARHGAP21', 'HLA-B', 'ERH', 'CAPN1', 'ARHGEF6', 'MAP1B', 'HIST2H2AB', 'BYSL', 'RAB11FIP5', 'SPIN1', 'VPS35', 'MAP3K7IP1', 'TUBB2A', 'HTATSF1', 'CSNK1A1L', 'STK38', 'HDGFRP2', 'SAG', 'DGKE', 'PRKAR2A', 'NOLA3', 'ZRANB2', 'TSR1', 'DCD', 'EIF5AP1', 'CTNNA1', 'PPM1B', 'PPM1A', 'H1FX', 'RBL2', 'TUBA1C', 'SCYL2', 'LEO1', 'TUBA3D', 'TUBA3C', 'CLTB', 'CHUK', 'ARRB2', 'DGKZ', 'CDC2L5', 'CLTA', 'MOBKL1B', 'ARRB1', 'EEF1A2', 'KPNA2', 'NOP58', 'POLR2L', 'SFPQ', 'RPLP1', 'RBM10', 'HNRPD', 'PPP2R1A', 'PPP1R12A', 'TUBB3', 'TCOF1', 'OAT', 'EIF4B', 'P4HB'], 307: ['WNT4', 'POLR2J3', 'CTSL1', 'ELAVL1', 'SKIV2L2', 'C3orf26', 'IMMT', 'DDOST', 'DDX31', 'MED12', 'ILF2', 'DDX24', 'DDX50', 'PPAN-P2RY11', 'TEX10', 'KRT14', 'SUPT5H', 'SLIT2', 'PHLPPL', 'RPAP2', 'EBNA1BP2', 'NOL1', 'EIF4ENIF1', 'ZNF281', 'RBM28', 'HDAC6', 'MRPS22', 'IDH3G', 'U2SURP', 'RNGTT', 'POLR2G', 'POLR2J', 'RPL37A', 'HNRNPL', 'ERCC3', 'POLR2I', 'IKBKAP', 'PTPN14', 'GTF3C4', 'SUCLG1', 'BXDC2', 'GTF3C1', 'IRS4', 'NOC4L', 'SMC4', 'EIF3E', 'POLR2D', 'EIF3A', 'RPN1', 'UPF1', 'NHP2L1', 'NEDD4L', 'POLR2H', 'HIST1H2BM', 'KPNA2', 'POLR2F', 'DDX20', 'BOP1', 'EIF3C', 'RSL1D1', 'EIF3B', 'POLR2L', 'SLC25A5', 'POLR2C', 'POLE', 'PDPK1', 'TOP2A', 'DDX18', 'IPO9', 'MMS19', 'HNRNPC', 'TOP1', 'NAT10', 'MYBBP1A', 'EIF4E'], 308: ['MEF2C', 'TTF1', 'HOXB7', 'AXIN1', 'IGBP1', 'PIK3CB', 'RIPK3', 'PEX19', 'GNAI3', 'JUN', 'HAT1', 'PPP2R2C', 'RANBP9', 'DIS3', 'NAF1', 'LARS', 'ROCK1', 'SORCS2', 'PPP2CB', 'SORT1', 'RBBP4', 'CUL5', 'MED6', 'MAP3K7', 'PIK3R2', 'EP300', 'CDK4', 'PAPOLA', 'CHEK2', 'PSMA6', 'MLLT4', 'ARHGEF6', 'PSMD11', 'SMARCD1', 'PPP2CA', 'PSMD8', 'MAP3K7IP1', 'TP53', 'KRI1', 'NME2', 'PIK3R1', 'SF3A1', 'RPL15P3', 'KIAA0368', 'PSMC5', 'TUBA1C', 'PSMB1', 'PRMT1', 'NOC4L', 'CHUK', 'RRP12', 'EIF3A', 'UTP20', 'ARHGAP15', 'NDUFS1', 'SMARCA2', 'LARP2', 'MAT1A', 'RSL1D1', 'EPRS', 'EIF3B', 'SFPQ', 'HSP90AA2', 'RPS7P1', 'COPG', 'PPP2R1A', 'DDX18', 'RPA1', 'HNRNPC', 'NAT10', 'HIST1H2AH', 'HIST1H2AC', 'SMARCA4'], 309: ['CAMK1D', 'ABLIM1'], 310: ['LIN7B', 'ABCE1', 'TRAF2', 'PNO1', 'APOA1', 'NOL14', 'GNL2', 'CTR9', 'SEC13', 'DHX37', 'MAPRE1', 'TIAM1', 'PRKACA', 'KRT1', 'NOC2L', 'GTPBP4', 'PES1', 'RPL15P3', 'KRR1', 'NOC4L', 'HEATR1', 'RRP12', 'UPF1', 'PCNA', 'NOL6', 'MAT1A', 'DNAJA3', 'DDX18'], 311: ['POLR3K', 'FOLH1', 'EXOC7', 'ELP2', 'SET', 'CLEC4M', 'SC5DL', 'EGR1', 'CPT1B', 'GLI3', 'SCYE1', 'PGM1', 'LSM7', 'METTL7A', 'MAF1', 'TFIP11', 'SUPT6H', 'CSTF2', 'CLP1', 'TXNL4A', 'CPSF2', 'SFRS11', 'CHKB', 'PCF11', 'DDX23', 'RAB1A', 'CENPF', 'HNRPA3', 'BRSK1', 'EIF2S1', 'SNRPA1', 'CSTF3', 'SUPT3H', 'SNRPA', 'SNRPD3', 'ABCF3', 'PIK3R2', 'LSM2', 'CPSF1', 'SF3B4', 'GTF2F2', 'PAPOLA', 'CHEK2', 'ARD1A', 'SF3A3', 'SF3A2', 'AP3D1', 'PPA1', 'NCBP2', 'SNRP70', 'RAB6C', 'PRPF4', 'SMARCB1', 'POLR2J', 'ARL1', 'SF3A1', 'ZRANB2', 'RAB6B', 'KIF3A', 'ACO2', 'TAF5', 'POLR1E', 'CPSF3', 'RFC2', 'NOC4L', 'SSR4', 'PRPF8', 'MAP3K1', 'DGKZ', 'UPF1', 'NHP2L1', 'CDC2L5', 'POLR2H', 'POLR2F', 'BOP1', 'EIF3B', 'POLR2L', 'HNRPD', 'EIF4B', 'SMARCC2', 'PRPF6', 'MMS19', 'HNRNPC'], 312: ['RBL2', 'PFKP'], 313: ['TCEB2', 'GTF2B', 'EIF1B', 'TPM3', 'CUL1', 'TBP', 'UBR5', 'CHUK', 'IKBKE'], 314: ['EEF1B2', 'RAD50'], 317: ['ERCC4', 'EP300', 'TP53', 'TGFBR1', 'DDB1', 'GSK3B', 'CDK2'], 318: ['PHB2'], 320: ['GPAA1', 'VPS39', 'SNX8', 'PPP2R2A', 'CCND2', 'MAPT', 'GPSN2', 'TGM2', 'PLSCR1', 'POLR2J3', 'CDC16', 'CPOX', 'CDC27', 'TKT', 'MDFI', 'TALDO1', 'KIAA0372', 'EIF3D', 'TXN', 'TMED2', 'SUPT4H1', 'HMGCLL1', 'ABCF2', 'SKIV2L', 'NVL', 'FKBP1A', 'SUPT6H', 'ENO1', 'DXO', 'DOM3Z', 'CAV1', 'GART', 'TRAF2', 'SFRS11', 'IPO13', 'DDX24', 'GTF2B', 'PPIF', 'EIF1B', 'PABPC4', 'ALDH18A1', 'RGL3', 'PPP2CB', 'EIF2S1', 'SUPT16H', 'MED6', 'SUPT5H', 'SHMT2', 'GTF2F2', 'CREBBP', 'PRKACA', 'SUMO1P3', 'SDC3', 'LARP7', 'PPA1', 'EIF5B', 'POLR2G', 'MDN1', 'POLR2J', 'RPL37A', 'POLR2I', 'PCAF', 'PSMA5', 'HUWE1', 'PRKAR2A', 'G3BP1', 'PRPF8', 'HDLBP', 'POLR2D', 'MAP3K3', 'RANBP2', 'ARHGAP15', 'PTK2', 'PSMD1', 'TRAF6', 'NEDD4L', 'DDB1', 'PSMA3', 'POLR2H', 'NOL6', 'CDK2', 'CCT5', 'POLR2F', 'ACTR2', 'POLR2L', 'SFPQ', 'POLR2C', 'CCT2', 'RPS10', 'RPS7P1', 'HNRPD', 'TOP2A', 'PPP6C', 'PPP2R1A', 'CCT8', 'OAT', 'CAPZB', 'EIF4G3', 'HNRNPC'], 321: ['EXOC7', 'FHL2', 'SMARCD1', 'NME2'], 322: ['APP', 'GANAB', 'MAPK14'], 324: ['FAM109A', 'CHD3', 'HSD17B12', 'CHEK1', 'CLASP1', 'SIRT2', 'TXNDC1', 'NAF1', 'PLK4', 'RPS6KA1', 'NF1', 'WDR68', 'HDAC4', 'STXBP1', 'ADCK1', 'CLASP2', 'EP300', 'CDK5', 'MAP3K2', 'GRAMD1A', 'UBE2G2', 'PAK4', 'MARK2', 'MARK3', 'MYC', 'ARAF', 'CSNK1A1', 'MAP2K2', 'LYN', 'BRAF', 'CCNH', 'BMP2K', 'MAP3K3', 'CDK2', 'PDPK1'], 325: ['MAP3K5', 'AURKA', 'ACTN1'], 326: ['MCC', 'VDAC3', 'HDAC1'], 327: ['RANP1', 'KIAA0664'], 329: ['PIN1', 'PSMD6', 'MKI67IP', 'PSMD11', 'PSME4', 'KIAA0020', 'PCAF', 'PSMD13', 'PSMB4', 'PSMC5', 'MARS', 'PSMB3', 'PSMB1', 'HEATR1', 'PSMA2', 'TAF6', 'PSMB5', 'PSMA1', 'PSMA3', 'PSMC1', 'CCT5', 'DDX20', 'HIST2H2BF', 'COPB2', 'PSMC6', 'CCT2', 'RPS10', 'COPG', 'PSMD3', 'IPO9', 'KIAA0664', 'HIST1H2AH', 'HIST1H2AC'], 330: ['IKBKE'], 331: ['ROCK2', 'SETX'], 332: ['TRAF6'], 333: ['PTGES3', 'HSBP1', 'TSG101', 'C12orf4', 'WDR37', 'SYN1', 'CYFIP1', 'DDX17', 'CAMK2A', 'HSP90AA2', 'PPP1CB'], 334: ['AOF2', 'EBF1', 'MAPK8IP3', 'HLA-B', 'OLA1'], 335: ['LCK', 'PIK3R1'], 336: ['MYH11', 'STX1A', 'TPM3'], 337: ['EBF2', 'EBF3', 'ZFP36L2', 'EBF1', 'SSU72', 'NSFL1C', 'DYNLL1', 'EIF3E', 'DDB1'], 338: ['HCLS1'], 339: ['IQGAP1', 'TUBA3D', 'TUBA3C', 'SFPQ', 'PFKP'], 340: ['CUL2', 'DIS3', 'TUBG1', 'RNPS1', 'MARK3', 'POLR2G', 'DCD', 'UBR5', 'POLR2D', 'DDB1', 'POLR2F', 'POLR2C', 'PDPK1', 'ACTG2', 'TCOF1', 'P4HB', 'TOP1', 'MYBBP1A'], 341: ['RBL2'], 342: ['HIST3H2BB'], 344: ['MAGI2', 'TADA3L', 'ITPKA', 'SGTA', 'CASK', 'COL3A1', 'CACNG2', 'ATP2B4', 'COL1A1', 'PARP1', 'ACSL4', 'CDH2', 'MAPK7', 'PML', 'ALDOC', 'SP1', 'ATP2B1', 'RALA', 'ATP13A1', 'TJP1', 'LDHB', 'DCLK1', 'UBQLN4', 'SNAP25', 'PHKB', 'MAP6', 'PRKACB', 'SYN2', 'MBP', 'SYN1', 'LDHA', 'ITPR1', 'MAP2K1', 'EHMT2', 'GNB1', 'FUS', 'SMAD2', 'RAB3A', 'PRKAR2B', 'RAB37', 'DPYSL2', 'PRKCG', 'NF1', 'CAMK2B', 'SYT1', 'NOS1', 'CAMK2G', 'STXBP1', 'PRKCE', 'STIP1', 'MAP2', 'DPM1', 'ATP6V0D1', 'CREBBP', 'SPTLC1', 'TUBG1', 'PRKACA', 'SLC25A12', 'RELA', 'TPM1', 'ITPR3', 'IDH3G', 'RAB6C', 'TBP', 'PPP1CA', 'IKBKAP', 'ACTN1', 'MYO1B', 'PHB2', 'DYNLL1', 'SUCLG1', 'ACO2', 'PLS3', 'TTLL3', 'CTNNB1', 'SLC25A4', 'PRKCB1', 'PSMB3', 'MYL12B', 'ARPC3', 'ATP2A2', 'RPN1', 'ATP1A1', 'ARPC2', 'ABLIM1', 'GSK3B', 'CAMK2A', 'CCT3', 'MAPK3', 'EPRS', 'DNAJA3', 'PRDX1', 'PFKP', 'TUBA1B', 'PPP6C', 'PPP1CB', 'PTPN11', 'ACTG2', 'ACTC1', 'CAPZB', 'SPDYA', 'DBN1', 'HADHB', 'DDX1'], 345: ['DNM1', 'AP2A2', 'GSK3B', 'MAPK3'], 347: ['CDC42', 'RAC1'], 348: ['C7orf20', 'SPATA13', 'MIF', 'LCAT', 'ARFGAP1', 'SNX9', 'ASNA1', 'AMHR2', 'MECR', 'HSPBP1', 'TIMM50', 'SDF4', 'LGALS4', 'FARSA', 'PFKL', 'FOS', 'WWP2', 'NUPL1', 'PARP1', 'ST13', 'HIST1H1D', 'CDC37', 'HDAC3', 'CENPC1', 'GFAP', 'FLOT2', 'CFTR', 'AIFM1', 'EPB41L2', 'RAP1GAP', 'CDH1', 'SAR1B', 'AMPH', 'RB1', 'PDLIM5', 'TCEB1', 'PFDN2', 'DDX21', 'TARDBP', 'TPM3P4', 'PAK2', 'TRIP12', 'NFKB1', 'ENO1', 'HCLS1', 'PKMYT1', 'EPB41L3', 'MED12', 'BMPR1A', 'DNAJB1', 'TRAF2', 'NUDC', 'MAD2L1', 'KIF2C', 'MAPK8', 'RAB1A', 'SYNE1', 'APOA1', 'DPYSL2', 'H2AFZ', 'MED7', 'HTATIP', 'CAMK2B', 'TAOK1', 'CAMK2G', 'HDAC4', 'TPR', 'STXBP1', 'KRT14', 'HTRA1', 'SUPT16H', 'ALDOA', 'LRRFIP2', 'CDK8', 'TPM3', 'SLIT2', 'MAP3K7', 'CLASP2', 'DUT', 'SVIL', 'DPM1', 'RANBP5', 'PRPF4B', 'CD59', 'DNAJA1', 'PRKCD', 'MAP3K14', 'S100A9', 'CSK', 'DDX17', 'POLD1', 'ATAD3A', 'MAPK9', 'AFF4', 'AURKB', 'ANAPC5', 'SEH1L', 'FBXW7', 'TNPO1', 'SSB', 'POLR2G', 'MAP3K7IP1', 'POLR2J', 'HNRNPL', 'ERCC3', 'POLR2I', 'TBP', 'HSPA6', 'ACTN1', 'PTPN14', 'FRAP1', 'NOLA3', 'RPL15P3', 'TGFBR1', 'DCD', 'PSMB4', 'FGFR1', 'CTNNA1', 'BRAF', 'ARPC5', 'BCR', 'G3BP1', 'TAF5', 'ARPC5L', 'IGF2BP2', 'CTNNB1', 'POLR1E', 'IRS4', 'MYL12B', 'PSMB1', 'TUBA3D', 'TUBA3C', 'CLTB', 'SSR4', 'SMC4', 'EIF3E', 'HDLBP', 'ACTA1', 'LOC440926', 'H3F3B', 'MAPK14', 'POLR2D', 'RPN1', 'CBLB', 'NDUFS1', 'CLTA', 'DDB1', 'MOBKL1B', 'PSMA3', 'EEF1A2', 'RBBP7', 'VCP', 'NEK9', 'NOP58', 'IMPDH1', 'POLR2C', 'HSP90AA2', 'MPRIP', 'PFKP', 'PDPK1', 'TUBA1B', 'AP2M1', 'PPIAP22', 'PPIA', 'HNRPD', 'TOP2A', 'WEE1', 'PPP2R1A', 'PPP1R12A', 'TUBB3', 'PPP1CB', 'RPA1', 'TCOF1', 'IPO9', 'CCT8', 'ACTC1', 'PTK2B', 'OAT', 'P4HB', 'SPDYA', 'YES1', 'TOP1', 'NAT10'], 350: ['MLLT4'], 352: ['NOTCH1', 'CCDC85B', 'ATXN1', 'RAB6C', 'RAB6B', 'CTNNB1'], 353: ['FN1', 'KRT10'], 355: ['LGALS3', 'C1QA', 'TTR', 'PRKCE', 'KRT1', 'RPL37A', 'RPS27', 'UTP20', 'RPL38', 'RPS28'], 356: ['TF', 'ITGB5', 'AP1M1', 'VCL', 'DDB1'], 357: ['PPP2R2B', 'PPP2CB', 'P4HB'], 359: ['AURKA'], 363: ['RNF11', 'GPSN2', 'VARS2', 'GTF2H4', 'SACM1L', 'SBF1', 'PRIM1', 'TMED2', 'RFC1', 'RICTOR', 'ARHGAP32', 'HDAC4', 'FLII', 'DDX17', 'CRKRS', 'RACGAP1', 'RAB6B', 'G3BP1', 'CLTB', 'PRPF8', 'MOBKL1B', 'EIF6', 'SFPQ', 'MPRIP', 'PFKP', 'WEE1', 'PPP1CB', 'SPDYA'], 364: ['SEL1L', 'EPN2', 'UBXD8', 'UBR1', 'UBXN1', 'RBL1', 'PTCH1', 'UBE4B', 'CTBP2', 'E2F4', 'PNMA1', 'PAK1', 'REL', 'NFKBIA', 'UBE2D3', 'IKBKB', 'CUL2', 'NSFL1C', 'RICTOR', 'ACSS2', 'SEC16A', 'NFKB2', 'PKMYT1', 'SMAD2', 'USP7', 'IKBKG', 'SMAD3', 'MLLT1', 'IQGAP2', 'ARHGEF2', 'CHD4', 'GTF2I', 'TBK1', 'RANBP5', 'ATP6V0D1', 'CDK5', 'CUL1', 'RELA', 'MAX', 'FBXW7', 'MDN1', 'PSMD8', 'CSNK1A1', 'AURKA', 'IKBKAP', 'CSNK1G3', 'KRT18', 'ACTN1', 'LRPPRC', 'PSMD13', 'CCNH', 'PSMC5', 'CTNNB1', 'PSMB1', 'EIF3A', 'RPN1', 'PSMD1', 'GSK3B', 'CDK2', 'PSMC1', 'KPNA2', 'MAT1A', 'EIF3B', 'COPB2', 'NEK9', 'COPA', 'WEE1', 'PPP6C', 'HDAC1', 'PSMD3', 'PRPF6', 'MYBBP1A', 'SMARCA4'], 368: ['LSM4', 'TFIP11', 'PATL1', 'LSM1', 'SART1', 'SF3A3', 'PCNA', 'PPIAP22', 'PPIA'], 370: ['CLEC4M', 'RAB3B', 'MED15', 'SOD1', 'ADK', 'ACVR1', 'SF3B4', 'PRKAA2', 'PCAF', 'AURKA', 'TGFBR1', 'RAB6B', 'MTHFD1', 'LOC440926', 'H3F3B', 'RRP12', 'NEDD4L', 'RANP1', 'GSK3B'], 371: ['RP11-423H2.1', 'THOC3', 'PUF60', 'RPL37', 'CD2BP2', 'EIF4A2', 'LUC7L', 'CUL2', 'THOC2', 'UTP18', 'WDR3', 'PWP2', 'TBL3', 'WDR36', 'PRPF40A', 'SNRPD3', 'SETX', 'ARD1A', 'NCBP2', 'SNRP70', 'RAB6C', 'KIF3A', 'PRPF8', 'HDLBP', 'PCNA', 'LARP2', 'ARRB1', 'CTPS', 'RPA1', 'CAPZB', 'EIF4G3', 'HIST1H2AH', 'HIST1H2AC', 'EIF4E'], 373: ['S100A6', 'FGFR1', 'PRKCB1', 'PTPN11', 'PTK2B'], 374: ['EFNA5', 'EFNA1', 'EFNB2', 'GALT', 'TEX261', 'CDK6', 'ENO3', 'PSMD6', 'SEC23A', 'STIP1', 'NSF', 'MAP3K2', 'CHEK2', 'AP2A2', 'PAK4', 'MARK2', 'MLLT4', 'NCBP2', 'MARK3', 'ARAF', 'CSNK1A1', 'CSNK1A1L', 'PDHA1', 'NOLA3', 'BRAF', 'ATR', 'G3BP1', 'TUBA1C', 'PIK3C2A', 'MARS', 'KPNA5', 'MAP3K1', 'MAP3K3', 'TRAF6', 'KPNA6', 'PSMA3', 'LARP2', 'HSP90AA2', 'WEE1', 'DDX18', 'OAT', 'YES1', 'HNRNPC', 'EIF4E'], 375: ['ACO2', 'KPNA5', 'KPNA6']}\n"
     ]
    }
   ],
   "source": [
    "half_query_filepath = directory + \"half_clusters.txt\"\n",
    "print_querylist_of_clusters_to_file(clusters, clusters.get_all_cluster_labels(), half_query_filepath, half_qualifying_proteins)\n",
    "half_fe = get_initialized_fe(background_proteins_filepath, term_mapping_filepath, termlist = background_go_terms)\n",
    "half_fe.importFiles({'query': half_query_filepath })\n",
    "half_fe.run(cluster=False)\n",
    "\n",
    "print(f\"number of functionally enriched clusters after addition of 1/2 proteins: {half_fe.enrichment['Module'].nunique()}\")\n",
    "\n",
    "\n",
    "quarter_query_filepath = directory + \"quarter_clusters.txt\"\n",
    "print_querylist_of_clusters_to_file(clusters, clusters.get_all_cluster_labels(), quarter_query_filepath, quarter_qualifying_proteins)\n",
    "quarter_fe = get_initialized_fe(background_proteins_filepath, term_mapping_filepath, termlist = background_go_terms)\n",
    "quarter_fe.importFiles({'query': quarter_query_filepath })\n",
    "quarter_fe.run(cluster=False)\n",
    "\n",
    "print(f\"number of functionally enriched clusters after addition of 1/4 proteins: {quarter_fe.enrichment['Module'].nunique()}\")\n",
    "\n",
    "\n",
    "tenth_query_filepath = directory + \"tenth_clusters.txt\"\n",
    "print_querylist_of_clusters_to_file(clusters, clusters.get_all_cluster_labels(), tenth_query_filepath, tenth_qualifying_proteins)\n",
    "tenth_fe = get_initialized_fe(background_proteins_filepath, term_mapping_filepath, termlist = background_go_terms)\n",
    "tenth_fe.importFiles({'query': tenth_query_filepath })\n",
    "tenth_fe.run(cluster=False)\n",
    "\n",
    "print(f\"number of functionally enriched clusters after addition of 1/10 proteins: {tenth_fe.enrichment['Module'].nunique()}\")\n",
    "\n",
    "\n",
    "print(half_qualifying_proteins)\n",
    "print(quarter_qualifying_proteins)  \n",
    "print(tenth_qualifying_proteins)\n"
   ]
  },
  {
   "cell_type": "code",
   "execution_count": 17,
   "metadata": {},
   "outputs": [
    {
     "name": "stdout",
     "output_type": "stream",
     "text": [
      "number of functionally enriched clusters after addition of 3 1/10 proteins: 361\n"
     ]
    }
   ],
   "source": [
    "three_tenth_qualifying_proteins = top_n_proteins(tenth_qualifying_proteins, n=3)\n",
    "three_tenth_query_filepath = directory + \"three_tenth_clusters.txt\"\n",
    "print_querylist_of_clusters_to_file(clusters, clusters.get_all_cluster_labels(), three_tenth_query_filepath, three_tenth_qualifying_proteins)\n",
    "half_tenth_fe = get_initialized_fe(background_proteins_filepath, term_mapping_filepath, termlist = background_go_terms) \n",
    "half_tenth_fe.importFiles({'query': three_tenth_query_filepath })\n",
    "half_tenth_fe.run(cluster=False)\n",
    "print(f\"number of functionally enriched clusters after addition of 3 1/10 proteins: {half_tenth_fe.enrichment['Module'].nunique()}\")\n",
    "\n",
    "# three_quarter_qualifying_proteins = top_n_proteins(half_qualifying_proteins, n=3)\n",
    "# three_quarter_query_filepath = directory + \"three_quarter_clusters.txt\"\n",
    "# print_querylist_of_clusters_to_file(clusters, clusters.get_all_cluster_labels(), three_quarter_query_filepath, three_quarter_qualifying_proteins)\n",
    "# three_quarter_fe = get_initialized_fe(background_proteins_filepath, term_mapping_filepath, termlist = background_go_terms)\n",
    "# three_quarter_fe.importFiles({'query': three_quarter_query_filepath })\n",
    "# three_quarter_fe.run(cluster=False)\n",
    "# print(f\"number of functionally enriched clusters after addition of 3 1/4 proteins: {three_quarter_fe.enrichment['Module'].nunique()}\")\n",
    "\n",
    "\n",
    "# three_half_qualifying_proteins = top_n_proteins(half_qualifying_proteins, n=3)\n",
    "# three_half_query_filepath = directory + \"three_half_clusters.txt\"\n",
    "# print_querylist_of_clusters_to_file(clusters, clusters.get_all_cluster_labels(), three_half_query_filepath, three_half_qualifying_proteins)\n",
    "# half_three_fe = get_initialized_fe(background_proteins_filepath, term_mapping_filepath, termlist = background_go_terms) \n",
    "# half_three_fe.importFiles({'query': three_half_query_filepath })\n",
    "# half_three_fe.run(cluster=False)\n",
    "# print(f\"number of functionally enriched clusters after addition of 3 1/2 proteins: {half_three_fe.enrichment['Module'].nunique()}\")\n"
   ]
  },
  {
   "cell_type": "code",
   "execution_count": null,
   "metadata": {},
   "outputs": [],
   "source": []
  },
  {
   "cell_type": "code",
   "execution_count": null,
   "metadata": {},
   "outputs": [],
   "source": []
  }
 ],
 "metadata": {
  "kernelspec": {
   "display_name": "recipe",
   "language": "python",
   "name": "python3"
  },
  "language_info": {
   "codemirror_mode": {
    "name": "ipython",
    "version": 3
   },
   "file_extension": ".py",
   "mimetype": "text/x-python",
   "name": "python",
   "nbconvert_exporter": "python",
   "pygments_lexer": "ipython3",
   "version": "3.10.6"
  },
  "orig_nbformat": 4,
  "vscode": {
   "interpreter": {
    "hash": "62f9e904ff1d4fa6e27f2984f15409dfffcff7468a54928ca0992224464fe58b"
   }
  }
 },
 "nbformat": 4,
 "nbformat_minor": 2
}
