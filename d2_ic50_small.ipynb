{
 "cells": [
  {
   "attachments": {},
   "cell_type": "markdown",
   "metadata": {},
   "source": [
    "\n",
    "# d2_ic50_small\n",
    "- this file is for dream2 data, with small clusters generated using the ic_50 parameter (spectral clustering)\n",
    "- we consider two different cuttoffs for adding proteins back:\n",
    "1. Squareroot method: a protein must connect at least sqrt(num components) components to qualify for addition to a cluster\n",
    "2. linear method: a protein must connect at least 0.5 * num components componetns to qualify for addition to a cluster\n"
   ]
  },
  {
   "cell_type": "code",
   "execution_count": 1,
   "metadata": {},
   "outputs": [],
   "source": [
    "# imports:\n",
    "\n",
    "# standard libraries\n",
    "import numpy as np\n",
    "import pandas as pd\n",
    "import matplotlib.pyplot as plt\n",
    "# library used for functional enrichment analysis\n",
    "from func_e.FUNC_E import FUNC_E  # a method that can do funtional enrichment analysis!\n",
    "import func_e.vocabs.all as vocabs\n",
    "# following code is necessary as some functions used in the funcE class produce future warnings but i can't fix it as it is not my code\n",
    "import warnings\n",
    "warnings.simplefilter(action='ignore', category=FutureWarning)\n",
    "\n",
    "# importing the custom classes i built\n",
    "from matrix_class import ProteinMatrix # ppi matrix \n",
    "from cluster_class import AllClusters # dictionary to hold all clusters (in form number of cluster : list of proteins in that cluster)\n",
    "from degreelist_class import DegreeList # creates a list of all proteins in order of their degree\n",
    "\n",
    "# helper functions for setting up program\n",
    "from recipe_utils import initialize_matrix_clusters_degreelist\n",
    "from recipe_utils import find_clusters_and_proteins_together\n",
    "\n",
    "# helper functions for functional enrichment\n",
    "from recipe_utils import print_querylist_of_clusters_to_file\n",
    "from recipe_utils import print_protein_background_to_file\n",
    "from recipe_utils import create_term_mapping_list\n",
    "from recipe_utils import get_initialized_fe"
   ]
  },
  {
   "attachments": {},
   "cell_type": "markdown",
   "metadata": {},
   "source": [
    " **must change filenames:**"
   ]
  },
  {
   "cell_type": "code",
   "execution_count": 2,
   "metadata": {},
   "outputs": [],
   "source": [
    "interactions_file = \"data/interactions/2_ppi_inweb_v2.txt\"\n",
    "clusters_file = \"data/d2_ic50_small/dream2_small-cluster.json\""
   ]
  },
  {
   "cell_type": "code",
   "execution_count": 3,
   "metadata": {},
   "outputs": [],
   "source": [
    "matrix, clusters, degreelist = initialize_matrix_clusters_degreelist(interactions_filepath=interactions_file, clusters_filepath=clusters_file)"
   ]
  },
  {
   "attachments": {},
   "cell_type": "markdown",
   "metadata": {},
   "source": [
    "*may want to change parameters below:*"
   ]
  },
  {
   "cell_type": "code",
   "execution_count": 4,
   "metadata": {},
   "outputs": [],
   "source": [
    "linear_qualifying_clusters, linear_qualifying_proteins = find_clusters_and_proteins_together(matrix, clusters, degreelist, cluster_ratio=0, cluster_constant=2,use_sqrt=False, protein_ratio=.5, protein_constant=0)"
   ]
  },
  {
   "cell_type": "code",
   "execution_count": 5,
   "metadata": {},
   "outputs": [],
   "source": [
    "sqrt_qualifying_clusters, sqrt_qualifying_proteins = find_clusters_and_proteins_together(matrix, clusters, degreelist, cluster_ratio=0, cluster_constant=2,use_sqrt=True, protein_ratio=1, protein_constant=0)"
   ]
  },
  {
   "cell_type": "code",
   "execution_count": null,
   "metadata": {},
   "outputs": [],
   "source": []
  },
  {
   "cell_type": "code",
   "execution_count": null,
   "metadata": {},
   "outputs": [],
   "source": []
  },
  {
   "cell_type": "code",
   "execution_count": null,
   "metadata": {},
   "outputs": [],
   "source": []
  },
  {
   "cell_type": "code",
   "execution_count": null,
   "metadata": {},
   "outputs": [],
   "source": []
  },
  {
   "cell_type": "code",
   "execution_count": 6,
   "metadata": {},
   "outputs": [
    {
     "data": {
      "text/plain": [
       "{9: ['MCM6'],\n",
       " 26: ['ACTN2'],\n",
       " 28: ['TP53'],\n",
       " 44: ['CREBBP'],\n",
       " 58: ['WDR74',\n",
       "  'RRP1B',\n",
       "  'PWP1',\n",
       "  'MDH2',\n",
       "  'NOC2L',\n",
       "  'GTPBP4',\n",
       "  'PES1',\n",
       "  'PSMC5',\n",
       "  'HIST1H2BD',\n",
       "  'H2BFS',\n",
       "  'HIST2H2BA',\n",
       "  'HIST1H2BJ',\n",
       "  'HIST3H2BB',\n",
       "  'HIST1H2BB',\n",
       "  'SMARCA2',\n",
       "  'HIST1H2BM',\n",
       "  'NOL6',\n",
       "  'HIST2H2BF',\n",
       "  'PSMC6',\n",
       "  'DDX18',\n",
       "  'EIF4G3',\n",
       "  'HIST1H2AH',\n",
       "  'HIST1H2AC',\n",
       "  'SMARCA4'],\n",
       " 59: ['OTC',\n",
       "  'PUS7',\n",
       "  'POLE2',\n",
       "  'RIOK2',\n",
       "  'MRPL27',\n",
       "  'C20orf4',\n",
       "  'DDX10',\n",
       "  'CAP2',\n",
       "  'CAP1',\n",
       "  'LARP7',\n",
       "  'SNRP70',\n",
       "  'EIF5B',\n",
       "  'PRPF8',\n",
       "  'HDLBP',\n",
       "  'SMARCA2',\n",
       "  'LARP2',\n",
       "  'NOL6',\n",
       "  'IMPDH1',\n",
       "  'RPS10',\n",
       "  'POLE',\n",
       "  'P4HB',\n",
       "  'EIF4G3',\n",
       "  'KIAA0664',\n",
       "  'HIST1H2AH',\n",
       "  'HIST1H2AC',\n",
       "  'SMARCA4',\n",
       "  'EIF4E'],\n",
       " 100: ['ACSL4', 'EPRS', 'KIAA0664'],\n",
       " 133: ['FEN1', 'RAD52'],\n",
       " 140: ['AL356585.3',\n",
       "  'ATP13A1',\n",
       "  'TAF13',\n",
       "  'TAF1',\n",
       "  'SUPT3H',\n",
       "  'NSF',\n",
       "  'TAF12',\n",
       "  'TAF6',\n",
       "  'PCNA'],\n",
       " 142: ['RPL37A', 'RPL28', 'RPS26'],\n",
       " 146: ['MAPK13', 'MAPK12', 'MAPK11', 'MAPK8', 'MAPK9', 'MAPK14', 'MAPK3'],\n",
       " 150: ['MAT1A', 'EPRS'],\n",
       " 161: ['UBQLN4'],\n",
       " 163: ['ATXN1'],\n",
       " 164: ['RBL2'],\n",
       " 165: ['IGHV7-81',\n",
       "  'IGHV1-69',\n",
       "  'C1S',\n",
       "  'C1QB',\n",
       "  'FCGR3A',\n",
       "  'FCGR2C',\n",
       "  'C1QC',\n",
       "  'IGHV',\n",
       "  'C1QA',\n",
       "  'IGHV4-31'],\n",
       " 167: ['SMAD9'],\n",
       " 169: ['MDFI'],\n",
       " 172: ['ABL1'],\n",
       " 208: ['ABL1', 'PTK2B'],\n",
       " 212: ['UBQLN4'],\n",
       " 217: ['IGLV2-23', 'IGLV1-40', 'IGLV2-14', 'IGLC2']}"
      ]
     },
     "execution_count": 6,
     "metadata": {},
     "output_type": "execute_result"
    }
   ],
   "source": [
    "sqrt_qualifying_proteins"
   ]
  },
  {
   "cell_type": "code",
   "execution_count": 7,
   "metadata": {},
   "outputs": [
    {
     "data": {
      "text/plain": [
       "{58: ['HIST1H2BD',\n",
       "  'H2BFS',\n",
       "  'HIST2H2BA',\n",
       "  'HIST1H2BJ',\n",
       "  'HIST3H2BB',\n",
       "  'HIST1H2BB',\n",
       "  'SMARCA2',\n",
       "  'HIST1H2BM',\n",
       "  'HIST2H2BF',\n",
       "  'DDX18',\n",
       "  'EIF4G3',\n",
       "  'HIST1H2AH',\n",
       "  'HIST1H2AC',\n",
       "  'SMARCA4'],\n",
       " 59: ['OTC',\n",
       "  'PUS7',\n",
       "  'POLE2',\n",
       "  'RIOK2',\n",
       "  'MRPL27',\n",
       "  'C20orf4',\n",
       "  'DDX10',\n",
       "  'CAP2',\n",
       "  'CAP1',\n",
       "  'LARP7',\n",
       "  'SNRP70',\n",
       "  'EIF5B',\n",
       "  'PRPF8',\n",
       "  'HDLBP',\n",
       "  'SMARCA2',\n",
       "  'LARP2',\n",
       "  'NOL6',\n",
       "  'IMPDH1',\n",
       "  'RPS10',\n",
       "  'POLE',\n",
       "  'P4HB',\n",
       "  'EIF4G3',\n",
       "  'KIAA0664',\n",
       "  'HIST1H2AH',\n",
       "  'HIST1H2AC',\n",
       "  'SMARCA4',\n",
       "  'EIF4E'],\n",
       " 142: ['RPL37A', 'RPL28', 'RPS26'],\n",
       " 146: ['MAPK11', 'MAPK14'],\n",
       " 150: ['EPRS'],\n",
       " 161: ['UBQLN4'],\n",
       " 163: ['ATXN1'],\n",
       " 164: ['RBL2'],\n",
       " 165: ['IGHV7-81',\n",
       "  'IGHV1-69',\n",
       "  'C1S',\n",
       "  'C1QB',\n",
       "  'FCGR3A',\n",
       "  'FCGR2C',\n",
       "  'C1QC',\n",
       "  'IGHV',\n",
       "  'C1QA',\n",
       "  'IGHV4-31'],\n",
       " 167: ['SMAD9'],\n",
       " 169: ['MDFI']}"
      ]
     },
     "execution_count": 7,
     "metadata": {},
     "output_type": "execute_result"
    }
   ],
   "source": [
    "linear_qualifying_proteins"
   ]
  }
 ],
 "metadata": {
  "kernelspec": {
   "display_name": "recipe",
   "language": "python",
   "name": "python3"
  },
  "language_info": {
   "codemirror_mode": {
    "name": "ipython",
    "version": 3
   },
   "file_extension": ".py",
   "mimetype": "text/x-python",
   "name": "python",
   "nbconvert_exporter": "python",
   "pygments_lexer": "ipython3",
   "version": "3.10.6"
  },
  "orig_nbformat": 4,
  "vscode": {
   "interpreter": {
    "hash": "62f9e904ff1d4fa6e27f2984f15409dfffcff7468a54928ca0992224464fe58b"
   }
  }
 },
 "nbformat": 4,
 "nbformat_minor": 2
}
