{
 "cells": [
  {
   "attachments": {},
   "cell_type": "markdown",
   "metadata": {},
   "source": [
    "d3_ic100_small"
   ]
  },
  {
   "attachments": {},
   "cell_type": "markdown",
   "metadata": {},
   "source": []
  },
  {
   "cell_type": "code",
   "execution_count": 1,
   "metadata": {},
   "outputs": [],
   "source": [
    "# imports:\n",
    "\n",
    "# standard libraries\n",
    "import numpy as np\n",
    "import pandas as pd\n",
    "import matplotlib.pyplot as plt\n",
    "# library used for functional enrichment analysis\n",
    "from func_e.FUNC_E import FUNC_E  # a method that can do funtional enrichment analysis!\n",
    "import func_e.vocabs.all as vocabs\n",
    "# following code is necessary as some functions used in the funcE class produce future warnings but i can't fix it as it is not my code\n",
    "import warnings\n",
    "warnings.simplefilter(action='ignore', category=FutureWarning)\n",
    "\n",
    "# importing the custom classes i built\n",
    "from matrix_class import ProteinMatrix # ppi matrix \n",
    "from cluster_class import AllClusters # dictionary to hold all clusters (in form number of cluster : list of proteins in that cluster)\n",
    "from degreelist_class import DegreeList # creates a list of all proteins in order of their degree\n",
    "\n",
    "# helper functions for setting up program\n",
    "from recipe_utils import initialize_matrix_clusters_degreelist\n",
    "from recipe_utils import find_clusters_and_proteins_together\n",
    "\n",
    "# helper functions for functional enrichment\n",
    "from recipe_utils import print_querylist_of_clusters_to_file\n",
    "from recipe_utils import print_protein_background_to_file\n",
    "from recipe_utils import create_term_mapping_list\n",
    "from recipe_utils import get_initialized_fe"
   ]
  },
  {
   "attachments": {},
   "cell_type": "markdown",
   "metadata": {},
   "source": [
    " **must change filenames:**"
   ]
  },
  {
   "cell_type": "code",
   "execution_count": 2,
   "metadata": {},
   "outputs": [],
   "source": [
    "interactions_file = \"data/interactions/3_signal_omnipath_directed_v3.txt\"\n",
    "clusters_file = \"data/d3_ic100_small/d3_ic100_small.json\""
   ]
  },
  {
   "cell_type": "code",
   "execution_count": 3,
   "metadata": {},
   "outputs": [],
   "source": [
    "matrix, clusters, degreelist = initialize_matrix_clusters_degreelist(interactions_filepath=interactions_file, clusters_filepath=clusters_file)"
   ]
  },
  {
   "attachments": {},
   "cell_type": "markdown",
   "metadata": {},
   "source": [
    "*may want to change parameters below:*"
   ]
  },
  {
   "cell_type": "code",
   "execution_count": 4,
   "metadata": {},
   "outputs": [],
   "source": [
    "sqrt_qualifying_clusters, sqrt_qualifying_proteins = find_clusters_and_proteins_together(matrix, clusters, degreelist, cluster_ratio=0, cluster_constant=2, use_sqrt=True, protein_ratio=1, protein_constant=0)"
   ]
  },
  {
   "cell_type": "code",
   "execution_count": 5,
   "metadata": {},
   "outputs": [
    {
     "data": {
      "text/plain": [
       "{4: ['PRKACA'],\n",
       " 9: ['PRKACA'],\n",
       " 47: ['AKT1'],\n",
       " 57: ['SRC'],\n",
       " 65: ['PRKCA'],\n",
       " 67: ['CDK1'],\n",
       " 82: ['SRC'],\n",
       " 90: ['PRKACA'],\n",
       " 104: ['MAPK1'],\n",
       " 107: ['SRC'],\n",
       " 128: ['MAPK1']}"
      ]
     },
     "execution_count": 5,
     "metadata": {},
     "output_type": "execute_result"
    }
   ],
   "source": [
    "sqrt_qualifying_proteins"
   ]
  },
  {
   "cell_type": "code",
   "execution_count": 6,
   "metadata": {},
   "outputs": [],
   "source": [
    "# from recipe_utils import top_n_proteins\n",
    "\n",
    "# three_qualifying_proteins = top_n_proteins(sqrt_qualifying_proteins, n=3) \n",
    "# three_qualifying_proteins"
   ]
  },
  {
   "cell_type": "code",
   "execution_count": 7,
   "metadata": {},
   "outputs": [],
   "source": [
    "# from recipe_utils import get_cluster_connectivity\n",
    "\n",
    "# original_cluster_connectivity = get_cluster_connectivity(matrix, degreelist, clusters, {}, sort_it=False)\n",
    "# new_cluster_connectivity = get_cluster_connectivity(matrix, degreelist, clusters, added_proteins=sqrt_qualifying_proteins, sort_it=False)\n",
    "\n",
    "# from recipe_utils import calculate_connectivity_difference\n",
    "\n",
    "# difference = calculate_connectivity_difference(original_cluster_connectivity, new_cluster_connectivity, sort_it=True)\n",
    "# difference"
   ]
  },
  {
   "cell_type": "code",
   "execution_count": null,
   "metadata": {},
   "outputs": [],
   "source": []
  },
  {
   "attachments": {},
   "cell_type": "markdown",
   "metadata": {},
   "source": [
    "### Functional Enrichment Analysis"
   ]
  },
  {
   "cell_type": "code",
   "execution_count": 8,
   "metadata": {},
   "outputs": [],
   "source": [
    "create_term_mapping_list(\"data/go_labels/dream3_go.tsv\", \"data/go_labels/d3_term_mapping.tsv\")"
   ]
  },
  {
   "attachments": {},
   "cell_type": "markdown",
   "metadata": {},
   "source": [
    "**will need to the directory below**"
   ]
  },
  {
   "cell_type": "code",
   "execution_count": 9,
   "metadata": {},
   "outputs": [],
   "source": [
    "directory = \"data/d3_ic100_small/\"\n",
    "term_mapping_filepath = \"data/go_labels/d3_term_mapping.tsv\""
   ]
  },
  {
   "cell_type": "code",
   "execution_count": 10,
   "metadata": {},
   "outputs": [],
   "source": [
    "background_proteins_filepath = directory + \"background_proteinlist.txt\"\n",
    "og_query_filepath = directory + \"original_clusters.txt\"\n",
    "sqrt_query_filepath = directory + \"sqrt_clusters.txt\"\n",
    "# three_query_filepath = directory + \"three_prot_clusters.txt\""
   ]
  },
  {
   "attachments": {},
   "cell_type": "markdown",
   "metadata": {},
   "source": [
    "*print to files*"
   ]
  },
  {
   "cell_type": "code",
   "execution_count": 11,
   "metadata": {},
   "outputs": [],
   "source": [
    "# use functions to print info to files: (annoying, but need to get info into format used for funcE package)\n",
    "# 1) a background protein list to be used for functional enrichment analysis\n",
    "print_protein_background_to_file(matrix, background_proteins_filepath) \n",
    "# 3) not a file, but need to establish a background of all GO terms! (to be used for functional enrichment analysis)\n",
    "background_go_terms = vocabs.getTerms(['GO'])\n",
    "\n",
    "# continue printing info to files to be used in functional enrichment analysis:\n",
    "# 4) print original clusters to a file\n",
    "print_querylist_of_clusters_to_file(clusters, clusters.get_all_cluster_labels(), og_query_filepath)\n",
    "# 5) print updated clusters to a file (just append the function to include the dictionary of qualifying proteins)\n",
    "print_querylist_of_clusters_to_file(clusters, clusters.get_all_cluster_labels(), sqrt_query_filepath, sqrt_qualifying_proteins)\n",
    "# print_querylist_of_clusters_to_file(clusters, clusters.get_all_cluster_labels(), three_query_filepath, three_qualifying_proteins)"
   ]
  },
  {
   "attachments": {},
   "cell_type": "markdown",
   "metadata": {},
   "source": [
    "*RUN Functional Enrichment:*"
   ]
  },
  {
   "cell_type": "code",
   "execution_count": 12,
   "metadata": {},
   "outputs": [],
   "source": [
    "original_fe = get_initialized_fe(background_proteins_filepath, term_mapping_filepath, termlist = background_go_terms)\n",
    "original_fe.importFiles({'query': og_query_filepath })\n",
    "original_fe.run(cluster=False)\n",
    "\n",
    "sqrt_fe = get_initialized_fe(background_proteins_filepath, term_mapping_filepath, termlist = background_go_terms)\n",
    "sqrt_fe.importFiles({'query': sqrt_query_filepath })\n",
    "sqrt_fe.run(cluster=False)\n",
    "\n",
    "# three_fe = get_initialized_fe(background_proteins_filepath, term_mapping_filepath, termlist = background_go_terms)\n",
    "# three_fe.importFiles({'query': three_query_filepath })\n",
    "# three_fe.run(cluster=False)"
   ]
  },
  {
   "attachments": {},
   "cell_type": "markdown",
   "metadata": {},
   "source": []
  },
  {
   "cell_type": "code",
   "execution_count": 13,
   "metadata": {},
   "outputs": [
    {
     "name": "stdout",
     "output_type": "stream",
     "text": [
      "::::::::::::::::::::::::::SQRT::::::::::::::::::::::::::\n",
      "\n",
      "number of clusters that were updated with proteins: 11\n",
      "\n",
      "number of functionally enriched clusters (modules) out of 153 original clusters: 139\n",
      "number of functionally enriched clusters after addition of all proteins: 139\n",
      "\n",
      "number of significant pvals in original clusters before updating: 500\n",
      "number of significant pvals in clusters with all proteins added: 507\n",
      "\n",
      "\n"
     ]
    }
   ],
   "source": [
    "print(f\"::::::::::::::::::::::::::SQRT::::::::::::::::::::::::::\\n\")\n",
    "# print data by the numbers!\n",
    "print(f\"number of clusters that were updated with proteins: {len(sqrt_qualifying_proteins.keys())}\\n\")\n",
    "\n",
    "# clusters that are functionally enriched\n",
    "print(f\"number of functionally enriched clusters (modules) out of {clusters.get_num_clusters()} original clusters: {original_fe.enrichment['Module'].nunique()}\")\n",
    "print(f\"number of functionally enriched clusters after addition of all proteins: {sqrt_fe.enrichment['Module'].nunique()}\")\n",
    "print(f\"\")\n",
    "\n",
    "\n",
    "#significant P-values!!!\n",
    "print(f\"number of significant pvals in original clusters before updating: {original_fe.enrichment['Fishers_pvalue'].count()}\")\n",
    "print(f\"number of significant pvals in clusters with all proteins added: {sqrt_fe.enrichment['Fishers_pvalue'].count()}\")\n",
    "\n",
    "\n",
    "print(f\"\")\n",
    "print(f\"\")"
   ]
  },
  {
   "cell_type": "code",
   "execution_count": null,
   "metadata": {},
   "outputs": [],
   "source": []
  },
  {
   "cell_type": "code",
   "execution_count": 14,
   "metadata": {},
   "outputs": [
    {
     "name": "stdout",
     "output_type": "stream",
     "text": [
      "number of functionally enriched clusters after addition of 3 proteins: 139\n"
     ]
    }
   ],
   "source": [
    "from recipe_utils import top_n_proteins\n",
    "three_sqrt_qualifying_proteins = top_n_proteins(sqrt_qualifying_proteins, n=3)\n",
    "three_sqrt_query_filepath = directory + \"three_prot_clusters.txt\"\n",
    "print_querylist_of_clusters_to_file(clusters, clusters.get_all_cluster_labels(), three_sqrt_query_filepath, three_sqrt_qualifying_proteins)\n",
    "sqrt_three_fe = get_initialized_fe(background_proteins_filepath, term_mapping_filepath, termlist = background_go_terms)\n",
    "sqrt_three_fe.importFiles({'query': three_sqrt_query_filepath })\n",
    "sqrt_three_fe.run(cluster=False)\n",
    "print(f\"number of functionally enriched clusters after addition of 3 proteins: {sqrt_three_fe.enrichment['Module'].nunique()}\")\n"
   ]
  },
  {
   "cell_type": "code",
   "execution_count": 15,
   "metadata": {},
   "outputs": [],
   "source": [
    "half_qualifying_clusters, half_qualifying_proteins = find_clusters_and_proteins_together(matrix, clusters, degreelist, cluster_ratio=0, cluster_constant=2, use_sqrt=False, protein_ratio=.50, protein_constant=0)\n",
    "quarter_qualifying_clusters, quarter_qualifying_proteins = find_clusters_and_proteins_together(matrix, clusters, degreelist, cluster_ratio=0, cluster_constant=2, use_sqrt=False, protein_ratio=.25, protein_constant=0)\n",
    "tenth_qualifying_clusters, tenth_qualifying_proteins = find_clusters_and_proteins_together(matrix, clusters, degreelist, cluster_ratio=0, cluster_constant=2, use_sqrt=False, protein_ratio=.10, protein_constant=0)\n",
    "\n"
   ]
  },
  {
   "cell_type": "code",
   "execution_count": 16,
   "metadata": {},
   "outputs": [
    {
     "name": "stdout",
     "output_type": "stream",
     "text": [
      "number of functionally enriched clusters after addition of 1/2 proteins: 139\n",
      "number of functionally enriched clusters after addition of 1/4 proteins: 139\n",
      "number of functionally enriched clusters after addition of 1/10 proteins: 148\n",
      "{}\n",
      "{82: ['SRC']}\n",
      "{4: ['GSK3B', 'PRKACA', 'SRC'], 5: ['TP53'], 6: ['NFATC2', 'SMAD4', 'RELA', 'SMAD3', 'EP300', 'MAPK14', 'CSNK2A1'], 8: ['NFE2L2', 'SMAD4', 'SMAD3', 'ATM', 'PRKCA'], 9: ['GSK3B', 'MAPK3', 'AKT1', 'MAPK1', 'PRKACA'], 10: ['BLM'], 11: ['ATR', 'CASP3', 'TP53', 'MAPK1', 'PRKACA', 'PRKCA', 'SRC'], 13: ['CASP3', 'CDK2', 'MAPK14', 'CSNK2A1', 'CDK1', 'SRC'], 14: ['CSNK2A1'], 15: ['PPP2CA'], 16: ['ABL1', 'SRC'], 19: ['MMP9', 'SKP2', 'CBL', 'SP1', 'EGFR', 'MAPK3', 'MAPK1', 'CDK1'], 21: ['SYK', 'CSNK2A1', 'PRKACA', 'PRKCA'], 22: ['NRAS', 'CAMK2A', 'PRKCA'], 24: ['STK4', 'AURKB', 'CAMK2A', 'CDK2', 'TP53', 'AKT1', 'CSNK2A1', 'PRKCA', 'SRC'], 26: ['PRKCA'], 27: ['LYN', 'CDK1', 'SRC'], 28: ['MAPK3', 'MAPK1', 'SRC'], 29: ['CTNNB1', 'TP53', 'PRKACA', 'PRKCA', 'SRC'], 30: ['CDK1'], 31: ['SSTR1', 'CNR2', 'CNR1', 'DRD3', 'ADRA2A', 'SSTR2', 'PTAFR', 'OPRL1', 'DRD2', 'CHRM2', 'OPRK1', 'ADCY1', 'OPRM1', 'OPRD1', 'GRM7', 'ADAM17', 'LATS1', 'ARHGEF2', 'LIMK1', 'LATS2', 'ARHGEF7', 'ARRB2', 'SUMO1', 'SMAD7', 'CSNK1E', 'STK11', 'ERBB2', 'RAC1', 'ATR', 'MYC', 'PRKCZ', 'SMAD2', 'HIST1H3B', 'PPP2CB', 'SMAD3', 'PPP2CA', 'EP300', 'CTNNB1', 'MAPK8', 'ABL1', 'CDK2', 'EGFR', 'GSK3B', 'MAPK3', 'AKT1', 'MAPK1', 'CDK1', 'SRC'], 32: ['CASP3', 'MAPK3', 'AKT1', 'MAPK1', 'CDK1'], 33: ['CSNK2A1', 'CDK1'], 34: ['MAPK3', 'CDK1', 'PRKACA'], 36: ['PRKCA'], 37: ['MAPK1', 'SRC'], 39: ['DAPK2', 'EPOR', 'BAD', 'TGFBR1', 'MAPK3', 'PRKACA', 'PRKCA', 'SRC'], 40: ['CSNK2A1'], 41: ['AKT1', 'CSNK2A1', 'PRKACA', 'PRKCA'], 42: ['AKT3', 'MAPKAPK2', 'PRKCB', 'CAMK2A', 'MAPK8', 'MAPK14', 'AKT1', 'CDK1', 'PRKACA', 'PRKCA', 'SRC'], 44: ['GSK3B', 'PRKCA'], 45: ['AR', 'MAPK14', 'TP53', 'MAPK3', 'CSNK2A1', 'PRKCA'], 46: ['PRKCI', 'CDK4', 'PPP1CA', 'E2F1', 'SP1', 'HIST1H3B', 'CDK5', 'PPP2CA', 'ATM', 'AR', 'CDK2', 'CDK1', 'PRKACA', 'PRKCA'], 47: ['MAP3K7', 'PPP2CA', 'CASP3', 'AKT1', 'MAPK1', 'PRKACA'], 49: ['EGFR'], 50: ['PDGFRB', 'PRKACA', 'PRKCA', 'SRC'], 51: ['AKT1'], 52: ['FGF1', 'FGF2', 'GZMB', 'STAT1', 'CHUK', 'ATM', 'CSNK2A1', 'MAPK1'], 54: ['PRKCD', 'TP53', 'AKT1', 'SRC'], 55: ['PRKCA', 'SRC'], 56: ['PRKACA'], 57: ['LCK', 'FYN', 'SRC'], 58: ['PRKCA'], 59: ['CSNK2A1', 'MAPK1', 'CDK1', 'SRC'], 60: ['MAPK3', 'AKT1', 'SRC'], 61: ['CSNK2A1', 'CDK1'], 62: ['E2F1', 'RELA', 'CTNNB1', 'CDK2', 'CSNK2A1', 'CDK1'], 63: ['FYN', 'CDK1'], 64: ['CAMK2A', 'CHUK', 'SMAD3', 'CDK2', 'MAPK3', 'MAPK1', 'CDK1', 'PRKACA', 'PRKCA'], 65: ['PRKACA', 'PRKCA'], 66: ['AKT1', 'PRKCA'], 67: ['CDK1', 'PRKACA'], 68: ['PRKCA'], 69: ['SRC'], 71: ['MAP4K1', 'MAPT', 'CREBBP', 'SMAD4', 'EP300', 'MAPK14', 'AKT1', 'CSNK2A1', 'MAPK1', 'PRKACA'], 75: ['PRKD1', 'PRKCZ', 'ATM'], 76: ['CDK1'], 77: ['SRC'], 78: ['MAPK3', 'MAPK1'], 80: ['EP300'], 81: ['ABL1', 'AR', 'SRC'], 82: ['SRC'], 84: ['CDK1', 'SRC'], 85: ['COL17A1', 'VIM', 'CDC25C', 'STK11', 'SHC1', 'GRB2', 'PIK3R1', 'CTNNB1', 'PRKACA'], 86: ['FOXO1', 'MAVS', 'MAPK9', 'MAP3K7', 'NOTCH1', 'IKBKB', 'TRAF6', 'MAPK8'], 87: ['EP300'], 88: ['EGFR', 'CSNK2A1'], 89: ['PRKCA'], 90: ['CSNK2A1', 'PRKACA'], 92: ['MCL1', 'TRIM28', 'BAD', 'NFKB1', 'MTOR', 'SMAD4', 'RELA', 'STAT3', 'PPP2CA', 'CDK2', 'GSK3B', 'TP53'], 93: ['SOCS1', 'CDKN1A', 'CHEK1', 'PLK1', 'TRAF6', 'CDK2', 'AKT1', 'CDK1', 'PRKCA'], 94: ['PRKACA'], 95: ['TNK2'], 96: ['BAD', 'GSK3B'], 97: ['HSPB1', 'CDH1', 'CASP7', 'PTK2', 'JAK1', 'STAT1', 'NOTCH1', 'CDK5', 'EP300', 'CASP3', 'CTNNB1', 'MAPK14', 'GSK3B', 'MAPK1', 'CDK1'], 99: ['MAPK8', 'CDK1'], 100: ['CTNNB1', 'CDK1'], 101: ['SMAD3', 'CDK2', 'CDK1', 'PRKACA'], 102: ['TP53', 'CDK1', 'PRKCA'], 103: ['EGFR', 'MAPK1'], 104: ['GAB1', 'CDKN1A', 'PPP2CB', 'PIK3R1', 'PAK1', 'PPP2CA', 'MAPK14', 'MAPK3', 'CSNK2A1', 'MAPK1'], 105: ['CDK1'], 106: ['TRPV6', 'AR'], 107: ['AKT1', 'CSNK2A1', 'SRC'], 108: ['TYROBP', 'SH3BP2', 'CD3E', 'ITGB3', 'LCP2', 'PIK3R1', 'TRAF6', 'EGFR', 'PRKCA', 'SRC'], 109: ['MAPK14', 'AKT1'], 110: ['MAPK3', 'CSNK2A1'], 113: ['LCK', 'ABL1', 'CDK1', 'SRC'], 114: ['ABL1'], 115: ['TP53', 'MAPK3', 'AKT1', 'CSNK2A1', 'MAPK1'], 116: ['MAP3K7'], 117: ['AKT1', 'SRC'], 118: ['CDK2', 'MAPK14', 'MAPK1', 'CDK1', 'SRC'], 119: ['RELA', 'PLK1', 'IKBKB', 'CSNK2A1', 'CDK1', 'PRKACA', 'SRC'], 120: ['MAPK1', 'PRKACA', 'PRKCA', 'SRC'], 121: ['PRKACA'], 122: ['PRKCA'], 123: ['ATM', 'TP53', 'PRKACA'], 124: ['MAPK10', 'STAT1', 'MAPK8', 'PRKACA'], 125: ['MAPK3', 'MAPK1', 'PRKACA', 'PRKCA'], 126: ['EGFR'], 127: ['MAPK1'], 128: ['MAPK3', 'MAPK1', 'CDK1'], 130: ['GSK3B', 'AKT1', 'PRKCA'], 132: ['ABL1', 'CDK1', 'SRC'], 133: ['NTRK2', 'PTK2', 'ATR', 'PRKCD', 'MAPK1'], 134: ['PRKACA'], 136: ['PRKACA', 'SRC'], 137: ['MAPK1', 'PRKACA'], 138: ['CDK1'], 139: ['RPS6KA5', 'MAP2K6', 'RPTOR', 'MAP2K4', 'ROCK1', 'AXIN1', 'SMAD2', 'CASP3', 'EGFR', 'MAPK14', 'GSK3B', 'TP53', 'CSNK2A1', 'CDK1'], 141: ['IKBKG', 'NFKBIA', 'HIST1H3B', 'CHUK', 'RELA', 'IKBKB', 'TRAF6', 'MAPK8', 'ABL1', 'MAPK14', 'TP53', 'CSNK2A1', 'PRKCA'], 142: ['ABL1', 'AR', 'MAPK14'], 143: ['CSNK2A1'], 144: ['SRC'], 146: ['CTNNB1', 'PRKACA', 'PRKCA'], 147: ['EGFR', 'CSNK2A1', 'SRC'], 148: ['CSNK2A1'], 149: ['ABL1', 'MAPK14', 'PRKCA'], 150: ['ATM', 'MAPK1', 'PRKCA'], 151: ['AKT1', 'CSNK2A1'], 152: ['CHUK', 'MAPK3']}\n"
     ]
    }
   ],
   "source": [
    "half_query_filepath = directory + \"half_clusters.txt\"\n",
    "print_querylist_of_clusters_to_file(clusters, clusters.get_all_cluster_labels(), half_query_filepath, half_qualifying_proteins)\n",
    "half_fe = get_initialized_fe(background_proteins_filepath, term_mapping_filepath, termlist = background_go_terms)\n",
    "half_fe.importFiles({'query': half_query_filepath })\n",
    "half_fe.run(cluster=False)\n",
    "\n",
    "print(f\"number of functionally enriched clusters after addition of 1/2 proteins: {half_fe.enrichment['Module'].nunique()}\")\n",
    "\n",
    "\n",
    "quarter_query_filepath = directory + \"quarter_clusters.txt\"\n",
    "print_querylist_of_clusters_to_file(clusters, clusters.get_all_cluster_labels(), quarter_query_filepath, quarter_qualifying_proteins)\n",
    "quarter_fe = get_initialized_fe(background_proteins_filepath, term_mapping_filepath, termlist = background_go_terms)\n",
    "quarter_fe.importFiles({'query': quarter_query_filepath })\n",
    "quarter_fe.run(cluster=False)\n",
    "\n",
    "print(f\"number of functionally enriched clusters after addition of 1/4 proteins: {quarter_fe.enrichment['Module'].nunique()}\")\n",
    "\n",
    "\n",
    "tenth_query_filepath = directory + \"tenth_clusters.txt\"\n",
    "print_querylist_of_clusters_to_file(clusters, clusters.get_all_cluster_labels(), tenth_query_filepath, tenth_qualifying_proteins)\n",
    "tenth_fe = get_initialized_fe(background_proteins_filepath, term_mapping_filepath, termlist = background_go_terms)\n",
    "tenth_fe.importFiles({'query': tenth_query_filepath })\n",
    "tenth_fe.run(cluster=False)\n",
    "\n",
    "print(f\"number of functionally enriched clusters after addition of 1/10 proteins: {tenth_fe.enrichment['Module'].nunique()}\")\n",
    "\n",
    "\n",
    "print(half_qualifying_proteins)\n",
    "print(quarter_qualifying_proteins)  \n",
    "print(tenth_qualifying_proteins)\n"
   ]
  },
  {
   "cell_type": "code",
   "execution_count": 17,
   "metadata": {},
   "outputs": [
    {
     "name": "stdout",
     "output_type": "stream",
     "text": [
      "number of functionally enriched clusters after addition of 3 1/10 proteins: 147\n"
     ]
    }
   ],
   "source": [
    "three_tenth_qualifying_proteins = top_n_proteins(tenth_qualifying_proteins, n=3)\n",
    "three_tenth_query_filepath = directory + \"three_tenth_clusters.txt\"\n",
    "print_querylist_of_clusters_to_file(clusters, clusters.get_all_cluster_labels(), three_tenth_query_filepath, three_tenth_qualifying_proteins)\n",
    "half_tenth_fe = get_initialized_fe(background_proteins_filepath, term_mapping_filepath, termlist = background_go_terms) \n",
    "half_tenth_fe.importFiles({'query': three_tenth_query_filepath })\n",
    "half_tenth_fe.run(cluster=False)\n",
    "print(f\"number of functionally enriched clusters after addition of 3 1/10 proteins: {half_tenth_fe.enrichment['Module'].nunique()}\")\n",
    "\n",
    "\n",
    "# three_half_qualifying_proteins = top_n_proteins(half_qualifying_proteins, n=3)\n",
    "# three_half_query_filepath = directory + \"three_half_clusters.txt\"\n",
    "# print_querylist_of_clusters_to_file(clusters, clusters.get_all_cluster_labels(), three_half_query_filepath, three_half_qualifying_proteins)\n",
    "# half_three_fe = get_initialized_fe(background_proteins_filepath, term_mapping_filepath, termlist = background_go_terms) \n",
    "# half_three_fe.importFiles({'query': three_half_query_filepath })\n",
    "# half_three_fe.run(cluster=False)\n",
    "# print(f\"number of functionally enriched clusters after addition of 3 1/2 proteins: {half_three_fe.enrichment['Module'].nunique()}\")\n",
    "\n"
   ]
  },
  {
   "cell_type": "code",
   "execution_count": null,
   "metadata": {},
   "outputs": [],
   "source": []
  }
 ],
 "metadata": {
  "kernelspec": {
   "display_name": "recipe",
   "language": "python",
   "name": "python3"
  },
  "language_info": {
   "codemirror_mode": {
    "name": "ipython",
    "version": 3
   },
   "file_extension": ".py",
   "mimetype": "text/x-python",
   "name": "python",
   "nbconvert_exporter": "python",
   "pygments_lexer": "ipython3",
   "version": "3.10.6"
  },
  "orig_nbformat": 4,
  "vscode": {
   "interpreter": {
    "hash": "62f9e904ff1d4fa6e27f2984f15409dfffcff7468a54928ca0992224464fe58b"
   }
  }
 },
 "nbformat": 4,
 "nbformat_minor": 2
}
