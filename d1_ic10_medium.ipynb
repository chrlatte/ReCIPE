{
 "cells": [
  {
   "attachments": {},
   "cell_type": "markdown",
   "metadata": {},
   "source": [
    "d1_ic10_medium"
   ]
  },
  {
   "attachments": {},
   "cell_type": "markdown",
   "metadata": {},
   "source": []
  },
  {
   "cell_type": "code",
   "execution_count": 1,
   "metadata": {},
   "outputs": [],
   "source": [
    "# imports:\n",
    "\n",
    "# standard libraries\n",
    "import numpy as np\n",
    "import pandas as pd\n",
    "import matplotlib.pyplot as plt\n",
    "# library used for functional enrichment analysis\n",
    "from func_e.FUNC_E import FUNC_E  # a method that can do funtional enrichment analysis!\n",
    "import func_e.vocabs.all as vocabs\n",
    "# following code is necessary as some functions used in the funcE class produce future warnings but i can't fix it as it is not my code\n",
    "import warnings\n",
    "warnings.simplefilter(action='ignore', category=FutureWarning)\n",
    "\n",
    "# importing the custom classes i built\n",
    "from matrix_class import ProteinMatrix # ppi matrix \n",
    "from cluster_class import AllClusters # dictionary to hold all clusters (in form number of cluster : list of proteins in that cluster)\n",
    "from degreelist_class import DegreeList # creates a list of all proteins in order of their degree\n",
    "\n",
    "# helper functions for setting up program\n",
    "from recipe_utils import initialize_matrix_clusters_degreelist\n",
    "from recipe_utils import find_clusters_and_proteins_together\n",
    "\n",
    "# helper functions for functional enrichment\n",
    "from recipe_utils import print_querylist_of_clusters_to_file\n",
    "from recipe_utils import print_protein_background_to_file\n",
    "from recipe_utils import create_term_mapping_list\n",
    "from recipe_utils import get_initialized_fe"
   ]
  },
  {
   "attachments": {},
   "cell_type": "markdown",
   "metadata": {},
   "source": [
    " **must change filenames:**"
   ]
  },
  {
   "cell_type": "code",
   "execution_count": 2,
   "metadata": {},
   "outputs": [],
   "source": [
    "interactions_file = \"data/interactions/1_ppi_string_v2.txt\"\n",
    "clusters_file = \"data/d1_ic10_medium/d1_ic10_medium.json\""
   ]
  },
  {
   "cell_type": "code",
   "execution_count": 3,
   "metadata": {},
   "outputs": [],
   "source": [
    "matrix, clusters, degreelist = initialize_matrix_clusters_degreelist(interactions_filepath=interactions_file, clusters_filepath=clusters_file)"
   ]
  },
  {
   "attachments": {},
   "cell_type": "markdown",
   "metadata": {},
   "source": [
    "*may want to change parameters below:*"
   ]
  },
  {
   "cell_type": "code",
   "execution_count": 4,
   "metadata": {},
   "outputs": [],
   "source": [
    "sqrt_qualifying_clusters, sqrt_qualifying_proteins = find_clusters_and_proteins_together(matrix, clusters, degreelist, cluster_ratio=0, cluster_constant=2, use_sqrt=True, protein_ratio=1, protein_constant=0)"
   ]
  },
  {
   "cell_type": "code",
   "execution_count": 5,
   "metadata": {},
   "outputs": [
    {
     "data": {
      "text/plain": [
       "{}"
      ]
     },
     "execution_count": 5,
     "metadata": {},
     "output_type": "execute_result"
    }
   ],
   "source": [
    "sqrt_qualifying_proteins"
   ]
  },
  {
   "cell_type": "code",
   "execution_count": 6,
   "metadata": {},
   "outputs": [],
   "source": [
    "# from recipe_utils import top_n_proteins\n",
    "\n",
    "# three_qualifying_proteins = top_n_proteins(sqrt_qualifying_proteins, n=3) \n",
    "# three_qualifying_proteins"
   ]
  },
  {
   "cell_type": "code",
   "execution_count": 7,
   "metadata": {},
   "outputs": [],
   "source": [
    "# from recipe_utils import get_cluster_connectivity\n",
    "\n",
    "# original_cluster_connectivity = get_cluster_connectivity(matrix, degreelist, clusters, {}, sort_it=False)\n",
    "# new_cluster_connectivity = get_cluster_connectivity(matrix, degreelist, clusters, added_proteins=sqrt_qualifying_proteins, sort_it=False)\n",
    "\n",
    "# from recipe_utils import calculate_connectivity_difference\n",
    "\n",
    "# difference = calculate_connectivity_difference(original_cluster_connectivity, new_cluster_connectivity, sort_it=True)\n",
    "# difference"
   ]
  },
  {
   "cell_type": "code",
   "execution_count": null,
   "metadata": {},
   "outputs": [],
   "source": []
  },
  {
   "attachments": {},
   "cell_type": "markdown",
   "metadata": {},
   "source": [
    "### Functional Enrichment Analysis"
   ]
  },
  {
   "cell_type": "code",
   "execution_count": 8,
   "metadata": {},
   "outputs": [],
   "source": [
    "# create_term_mapping_list(\"data/go_labels/dream3_go.tsv\", \"data/go_labels/d3_term_mapping.tsv\")"
   ]
  },
  {
   "attachments": {},
   "cell_type": "markdown",
   "metadata": {},
   "source": [
    "**will need to the directory below**"
   ]
  },
  {
   "cell_type": "code",
   "execution_count": 9,
   "metadata": {},
   "outputs": [],
   "source": [
    "directory = \"data/d1_ic10_medium/\"\n",
    "term_mapping_filepath = \"data/go_labels/d1_term_mapping.tsv\""
   ]
  },
  {
   "cell_type": "code",
   "execution_count": 10,
   "metadata": {},
   "outputs": [],
   "source": [
    "background_proteins_filepath = directory + \"background_proteinlist.txt\"\n",
    "og_query_filepath = directory + \"original_clusters.txt\"\n",
    "sqrt_query_filepath = directory + \"sqrt_clusters.txt\"\n",
    "# three_query_filepath = directory + \"three_prot_clusters.txt\""
   ]
  },
  {
   "attachments": {},
   "cell_type": "markdown",
   "metadata": {},
   "source": [
    "*print to files*"
   ]
  },
  {
   "cell_type": "code",
   "execution_count": 11,
   "metadata": {},
   "outputs": [],
   "source": [
    "# use functions to print info to files: (annoying, but need to get info into format used for funcE package)\n",
    "# 1) a background protein list to be used for functional enrichment analysis\n",
    "print_protein_background_to_file(matrix, background_proteins_filepath) \n",
    "# 3) not a file, but need to establish a background of all GO terms! (to be used for functional enrichment analysis)\n",
    "background_go_terms = vocabs.getTerms(['GO'])\n",
    "\n",
    "# continue printing info to files to be used in functional enrichment analysis:\n",
    "# 4) print original clusters to a file\n",
    "print_querylist_of_clusters_to_file(clusters, clusters.get_all_cluster_labels(), og_query_filepath)\n",
    "# 5) print updated clusters to a file (just append the function to include the dictionary of qualifying proteins)\n",
    "print_querylist_of_clusters_to_file(clusters, clusters.get_all_cluster_labels(), sqrt_query_filepath, sqrt_qualifying_proteins)\n",
    "# print_querylist_of_clusters_to_file(clusters, clusters.get_all_cluster_labels(), three_query_filepath, three_qualifying_proteins)"
   ]
  },
  {
   "attachments": {},
   "cell_type": "markdown",
   "metadata": {},
   "source": [
    "*RUN Functional Enrichment:*"
   ]
  },
  {
   "cell_type": "code",
   "execution_count": 12,
   "metadata": {},
   "outputs": [],
   "source": [
    "original_fe = get_initialized_fe(background_proteins_filepath, term_mapping_filepath, termlist = background_go_terms)\n",
    "original_fe.importFiles({'query': og_query_filepath })\n",
    "original_fe.run(cluster=False)\n",
    "\n",
    "sqrt_fe = get_initialized_fe(background_proteins_filepath, term_mapping_filepath, termlist = background_go_terms)\n",
    "sqrt_fe.importFiles({'query': sqrt_query_filepath })\n",
    "sqrt_fe.run(cluster=False)\n",
    "\n",
    "# three_fe = get_initialized_fe(background_proteins_filepath, term_mapping_filepath, termlist = background_go_terms)\n",
    "# three_fe.importFiles({'query': three_query_filepath })\n",
    "# three_fe.run(cluster=False)"
   ]
  },
  {
   "attachments": {},
   "cell_type": "markdown",
   "metadata": {},
   "source": []
  },
  {
   "cell_type": "code",
   "execution_count": 13,
   "metadata": {},
   "outputs": [
    {
     "name": "stdout",
     "output_type": "stream",
     "text": [
      "::::::::::::::::::::::::::SQRT::::::::::::::::::::::::::\n",
      "\n",
      "number of clusters that were updated with proteins: 0\n",
      "\n",
      "number of functionally enriched clusters (modules) out of 309 original clusters: 288\n",
      "number of functionally enriched clusters after addition of all proteins: 288\n",
      "\n",
      "number of significant pvals in original clusters before updating: 1286\n",
      "number of significant pvals in clusters with all proteins added: 1286\n",
      "\n",
      "\n"
     ]
    }
   ],
   "source": [
    "print(f\"::::::::::::::::::::::::::SQRT::::::::::::::::::::::::::\\n\")\n",
    "# print data by the numbers!\n",
    "print(f\"number of clusters that were updated with proteins: {len(sqrt_qualifying_proteins.keys())}\\n\")\n",
    "\n",
    "# clusters that are functionally enriched\n",
    "print(f\"number of functionally enriched clusters (modules) out of {clusters.get_num_clusters()} original clusters: {original_fe.enrichment['Module'].nunique()}\")\n",
    "print(f\"number of functionally enriched clusters after addition of all proteins: {sqrt_fe.enrichment['Module'].nunique()}\")\n",
    "print(f\"\")\n",
    "\n",
    "\n",
    "#significant P-values!!!\n",
    "print(f\"number of significant pvals in original clusters before updating: {original_fe.enrichment['Fishers_pvalue'].count()}\")\n",
    "print(f\"number of significant pvals in clusters with all proteins added: {sqrt_fe.enrichment['Fishers_pvalue'].count()}\")\n",
    "\n",
    "\n",
    "print(f\"\")\n",
    "print(f\"\")"
   ]
  },
  {
   "cell_type": "code",
   "execution_count": 14,
   "metadata": {},
   "outputs": [],
   "source": [
    "half_qualifying_clusters, half_qualifying_proteins = find_clusters_and_proteins_together(matrix, clusters, degreelist, cluster_ratio=0, cluster_constant=2, use_sqrt=False, protein_ratio=.50, protein_constant=0)\n",
    "quarter_qualifying_clusters, quarter_qualifying_proteins = find_clusters_and_proteins_together(matrix, clusters, degreelist, cluster_ratio=0, cluster_constant=2, use_sqrt=False, protein_ratio=.25, protein_constant=0)\n",
    "tenth_qualifying_clusters, tenth_qualifying_proteins = find_clusters_and_proteins_together(matrix, clusters, degreelist, cluster_ratio=0, cluster_constant=2, use_sqrt=False, protein_ratio=.10, protein_constant=0)\n",
    "\n"
   ]
  },
  {
   "cell_type": "code",
   "execution_count": 15,
   "metadata": {},
   "outputs": [
    {
     "name": "stdout",
     "output_type": "stream",
     "text": [
      "number of functionally enriched clusters after addition of 1/2 proteins: 288\n",
      "number of functionally enriched clusters after addition of 1/4 proteins: 288\n",
      "number of functionally enriched clusters after addition of 1/10 proteins: 303\n",
      "{}\n",
      "{}\n",
      "{0: ['TUBGCP3', 'DDX3Y', 'DDX4'], 4: ['FES', 'AZI1', 'PSPH', 'PCM1', 'GAB2', 'DYNC1I2', 'GFPT2', 'OAT', 'DYNLL1', 'GFPT1', 'IDH3G', 'PGM1', 'PTPN22', 'TRIT1', 'IDH3B', 'SHC1', 'CCDC88B', 'RNASEH2A', 'UBA3', 'PLCG1', 'PTPN6', 'TENC1', 'AHCY'], 5: ['RBPJL', 'RBPJ'], 7: ['OXCT1', 'COPS2'], 8: ['SLC25A16', 'HIF1AN', 'NPPA', 'ACE2', 'TH', 'ACCS', 'ERGIC1', 'CALCA', 'COQ3', 'IAPP', 'SPRYD3', 'RNF103', 'MARCH11', 'GSS', 'MARCH9', 'MARCH10', 'MARCH8', 'MARCH4', 'MARCH1', 'LTN1', 'PTPLAD2', 'PTPLA', 'MARCH6', 'PLA2G15', 'NDUFAF6', 'POLN', 'NDUFB6', 'DMXL2', 'MARCH7', 'GCDH', 'PTPLB', 'COPZ2', 'HSD17B12', 'GPT', 'LCAT', 'CCBL2', 'TMBIM1', 'PTPN4', 'GPX7', 'PTPLAD1', 'MT-CO1', 'ADH7', 'TUSC3', 'MAGT1', 'LCLAT1', 'COPZ1', 'ADH6', 'ADH1A', 'ADH1B', 'ADH4', 'PTPRN', 'ADH5', 'HSPG2', 'GCH1', 'FAF2', 'SEC24D', 'PTPN14', 'GNAS', 'RANBP10', 'PTPRO', 'CYP2E1', 'USP47', 'MARCH3', 'PTPRB', 'PTPRN2', 'MARCH2', 'RANBP9', 'SNX1', 'MFSD3', 'NUDT2', 'LGSN', 'LAP3', 'BECN1', 'SLC33A1', 'PTK2B', 'TBC1D15', 'ANPEP', 'BCKDHA', 'SUGT1P3', 'ADAP2', 'TTC12', 'ATP6V0B', 'PTPRE', 'DHTKD1', 'TTC31', 'PYCR1', 'AP4B1', 'OGDHL', 'PSEN1', 'PTPRR', 'ILF2', 'USP9X', 'CYC1', 'WARS2', 'AHCYL2', 'ALDH1L1', 'ATP6V0C', 'ACAT2', 'OGDH', 'ACAA1', 'HIP1', 'ABCF1', 'MRPL20', 'FBXO42', 'PIN4', 'GLUL', 'PARS2', 'PTPRD', 'COPA', 'ALG2', 'ACAA2', 'HIP1R', 'ALDH1A2', 'ATP5G3', 'ATP5G1', 'ABCF3', 'ALDH2', 'VDAC2', 'PFDN2', 'PTPN12', 'AP1B1', 'HADHB', 'ATP5G2', 'RPIA', 'PTPRF', 'VAMP1', 'ALDH1A1', 'XPNPEP1', 'MRPL17', 'ICT1', 'TSFM', 'HECTD2', 'ABCC3', 'ABCC4', 'ACAT1', 'VDAC1', 'AP2B1', 'SACM1L', 'AHCYL1', 'ABCC5', 'EPS15', 'ABCC8', 'TWISTNB', 'RAB5A', 'PSMB4', 'GUCA1A', 'SUCLA2', 'UQCRFS1', 'MRPS16', 'SUCLG2', 'ABCC1', 'ABCB4', 'AHCY', 'ABCC2', 'ABCB11', 'UBA6', 'RPS4Y2', 'MRPS11', 'AIMP1', 'EIF1AY', 'ABCB1', 'STIP1'], 9: ['AFG3L2', 'SPG7', 'YME1L1'], 11: ['CP', 'STAT5B', 'STAT5A', 'PARK2', 'PLAA', 'STAT1'], 12: ['PDE6H', 'PDE6G', 'LCP1', 'CAMK2G', 'UTRN', 'TCF7L1', 'ARF6', 'ACAA2', 'CCDC88B', 'WNT5B', 'TCF7', 'TCF7L2', 'ATAD1', 'PSMD7', 'LEF1', 'SKIV2L2'], 13: ['RPA4', 'WDFY1', 'COPS2', 'RPS10', 'RPA2'], 16: ['SUZ12'], 17: ['ABCF1', 'ABCF3', 'ABCF2', 'SOX2'], 19: ['SUV420H1', 'ZMYM4', 'LIPE', 'MIER1', 'SCYL3', 'KANSL1', 'ANXA5', 'NR1H4', 'ATRIP', 'BRD9', 'FUBP3', 'PCBD1', 'GIT2', 'CD247', 'VAT1', 'ACADL', 'NNT', 'TIPRL', 'CPT2', 'ECH1', 'ETNK1', 'IRF3', 'TRIM26', 'BRD7', 'METTL17', 'FUBP1', 'RBM5', 'PCM1', 'KHSRP', 'ABCD3', 'ACAD9', 'HSD17B10', 'ACAD8', 'MRPS35', 'YIPF7', 'SQRDL', 'SYNCRIP', 'CPT1A', 'MT-CYB', 'YIPF5', 'MCCC2', 'XCR1', 'HM13', 'ATP6V1H', 'CPSF7', 'ACADSB', 'ACADVL', 'YIPF6', 'TCIRG1', 'PCCB', 'RPAP2', 'ASL', 'ACADS', 'ATP6V0A2', 'ADH7', 'MEPCE', 'NARS2', 'CCND2', 'ATP6V0A4', 'ADH6', 'HADH', 'ADH1A', 'STAT4', 'ERH', 'ADH1B', 'DHRS2', 'ADH4', 'NUBPL', 'NUBP1', 'MTNR1A', 'ACADM', 'ADH5', 'OBFC1', 'ATP6V0A1', 'UBE2G2', 'VDR', 'RFWD2', 'PARP4', 'PGR', 'MAX', 'KIAA1432', 'ETFB', 'TUBGCP2', 'ETFDH', 'SLBP', 'NUBP2', 'HNRNPR', 'POT1', 'ASS1', 'PKP3', 'PKP1', 'CXCL12', 'ECI1', 'LGSN', 'PATL1', 'PDK3', 'CWC22', 'SENP3', 'PHF5A', 'UROD', 'DAP3', 'MCM10', 'PDK4', 'PDK2', 'PKP2', 'ZMPSTE24', 'ATXN1', 'BCKDK', 'NMS', 'ARVCF', 'SPATA13', 'MTRNR2L2', 'MCHR2', 'GPR17', 'NMUR1', 'NMU', 'MMS19', 'FPR2', 'NASP', 'PDK1', 'NMUR2', 'MCHR1', 'BDKRB1', 'MNAT1', 'HNRNPK', 'ACO1', 'CDK20', 'IREB2', 'LPAR5', 'RBM22', 'CTNND2', 'CSTF2T', 'BDKRB2', 'SEC61G', 'PKP4', 'ETFA', 'CHAF1A', 'RBBP5', 'AIFM1', 'NR3C1', 'NAA50', 'LPAR3', 'CASR', 'GTF2F1', 'LPAR2', 'PMCH', 'PDHX', 'B3GNTL1', 'RAB3IP', 'LPAR1', 'CAMK2G', 'POLH', 'ALG1L', 'RBL2', 'EIF4E2', 'CAMK2D', 'NARS', 'ALDH7A1', 'RAD1', 'POLG2', 'AANAT', 'DLAT', 'ACAT2', 'LARS2', 'UPF3B', 'CAMK2B', 'ALG5', 'ALG11', 'GLUD2', 'CAMK2A', 'ALG1', 'ACAA1', 'CTBP1', 'CKS1B', 'CFDP1', 'IDH2', 'SAA1', 'GLUL', 'CPSF3', 'PRPF40A', 'PARS2', 'GNPNAT1', 'EHHADH', 'ALG2', 'ACAA2', 'CKS2', 'ZNF622', 'PPIL1', 'RBL1', 'APRT', 'PABPN1', 'CTNND1', 'GARS', 'USO1', 'PIGA', 'FUS', 'HADHB', 'CCDC130', 'CCNT1', 'CSTF2', 'CCND1', 'ABCC10', 'DPM1', 'IDH1', 'KNG1', 'THNSL1', 'SOX2', 'HADHA', 'TOP3B', 'ABCC9', 'RPA2', 'DNAJB6', 'COPS6', 'CHD5', 'GLUD1', 'DALRD3', 'SUZ12', 'ABCC12', 'BRWD1', 'CHFR', 'ABCC11', 'ANXA1', 'ABCC6', 'ABCC3', 'VARS2', 'ABCC4', 'ZRANB3', 'TOP3A', 'TRMT1L', 'ACAT1', 'SF3A2', 'AGT', 'ABCC5', 'ABCC8', 'DARS', 'RPTOR', 'PRPF6', 'RARS2', 'GNG2', 'POTEB', 'NKPD1', 'CCNH', 'SNRNP200', 'SMARCAL1', 'MRPS16', 'POTEG', 'BAZ1B', 'YBX1', 'ANKRD35', 'SF3A1', 'ABCC1', 'POTEM', 'CASKIN1', 'POTEC', 'TRMT1', 'CLHC1', 'BAZ2B', 'ABCC2', 'SNRPB2', 'ANKRD24', 'CDC7', 'MRPS11', 'ABTB1', 'KANK3', 'FANCM'], 21: ['IL1B', 'CCR5', 'NAA38', 'NEDD8-MDP1', 'TRMT2B', 'CCT8L2', 'TRMT2A', 'SOD3', 'TAP1', 'MPP1', 'MPP4', 'MPP7', 'ZNHIT1', 'AP2M1', 'MPP5', 'MRPL27', 'MPP2', 'LARP1B', 'MPP6', 'MPP3', 'DARS', 'LYAR', 'LARP1'], 22: ['ADH1A', 'ADH1B', 'HIP1', 'HIP1R'], 23: ['GPRASP1', 'SLC25A28', 'ASCL1', 'EYA4', 'SLC27A1', 'ZDHHC9', 'ELP4', 'STAG3', 'INPP5F', 'TNIK', 'RNPC3', 'NUP210', 'ENPP2', 'RPA3', 'TSC2', 'CTSB', 'AGAP8', 'AGAP7', 'AGAP6', 'PIGG', 'AGAP9', 'AGAP5', 'ABCG2', 'PDCD2', 'NOXRED1', 'AGAP4', 'GGPS1', 'ACAP3', 'ASAP3', 'PDSS2', 'ACAP2', 'UGP2', 'INSIG2', 'ACAP1', 'ZFP36', 'EIF2B2', 'INSIG1', 'PDSS1', 'RHOT1', 'DDC', 'RUSC1', 'ARAP2', 'PYCR2', 'STAG1', 'TERF2', 'STAG2', 'HMGCR', 'FA2H', 'ASAP2', 'ARAP3', 'BET1', 'PDF', 'PYCRL', 'ARAP1', 'PGAM4', 'SMAP1', 'ASAP1', 'MTHFD2L', 'FDPS', 'ADAP2', 'ZMIZ1', 'SMAP2', 'ARFGAP2', 'AGFG1', 'ACSS1', 'ACSM1', 'HIBCH', 'CARNS1', 'OAT', 'ADAP1', 'KDM5D', 'BPGM', 'MTHFD2', 'KDM5C', 'PYCR1', 'RAB31', 'TBL1X', 'KDM5A', 'RAB20', 'ARFGAP3', 'CCT8L2', 'ALDH7A1', 'PIAS3', 'PGM2L1', 'WNT8A', 'PPCS', 'DLAT', 'CAMK2B', 'CAMKK1', 'MARS2', 'TBC1D2', 'CFDP1', 'TBC1D2B', 'PFN4', 'IQGAP2', 'SEPT11', 'ARFGAP1', 'DLST', 'TRMT61B', 'PGM2', 'WNT16', 'ALDH9A1', 'IQGAP3', 'KDM5B', 'VAMP4', 'RPL37', 'TOP1MT', 'BRCA1', 'CANX', 'TRMT61A', 'CCNT1', 'IQCA1', 'PFN2', 'PIAS4', 'PGAM2', 'PIAS2', 'AARS2', 'SUZ12', 'RGPD3', 'VARS2', 'PGAM1', 'RGPD8', 'VAMP3', 'RGPD1', 'RGPD5', 'PLAA', 'RGPD6', 'RAB5A', 'MAPK10', 'PFN1', 'RPTOR', 'PIAS1', 'PPIL4', 'PGM3', 'DHX36', 'MYO16', 'PPIH', 'EIF3E', 'RGPD2', 'SNRPB2', 'BMI1', 'SMARCD3', 'PPIG', 'MAPK9', 'MAPRE3', 'IQGAP1', 'AIMP1', 'EXOSC4', 'KANK3'], 24: ['SLC12A6', 'SLC7A3', 'SLC7A2', 'SLC7A14', 'SLC7A4', 'SLC7A1', 'TRMT10A', 'CRY2', 'CRY1', 'UTP11L', 'AHCYL1', 'DARS', 'LYAR', 'DDX49', 'XRCC5', 'EXOSC5', 'DDX28', 'RSRC1', 'DDX47'], 26: ['A2M', 'ACTR6', 'UBE2J1', 'STX16-NPEPL1', 'STX16'], 28: ['SLC22A1'], 29: ['USP21', 'USP8', 'CASP3'], 30: ['POLR2D', 'POLR3H'], 32: ['GADL1', 'HDC', 'CSAD', 'SEPSECS', 'SGPL1', 'DDC', 'GAD2', 'GAD1', 'PGD'], 33: ['ANKRD13B', 'ANKRD13D', 'ANKRD13A', 'SLC44A5', 'SLC44A4', 'SLC44A2', 'VEGFB', 'TCF19', 'VEGFC', 'FIGF', 'STON1-GTF2A1L', 'CEP135', 'PNPLA8', 'PPP2R3A', 'HRG', 'PPP2R3B', 'CENPJ', 'NEDD1', 'IGF1', 'COX17', 'TRIM61', 'AMBP', 'NDFIP1', 'NDFIP2', 'TRIM39-RPP21', 'SASS6', 'TRIM7', 'TFAP2A', 'VEGFA', 'RASGRF2', 'SLC22A1', 'SKA1', 'ABAT', 'PDS5B', 'PPP2R3C', 'ATP6V1E1', 'EGF', 'NDE1', 'SNX30', 'FRAS1', 'APOB', 'APOA1', 'PDS5A', 'NPY1R', 'SNX8', 'NUSAP1', 'OSBPL10', 'SNX7', 'NCAPG', 'ALB', 'VPS4B', 'PLG', 'PPBP', 'AGXT', 'ARHGDIG', 'GTF2E1', 'IMMT', 'SNX4', 'CACNA1A', 'HMGCR', 'F2', 'SNX2', 'SNX1', 'ARHGDIB', 'IPO9', 'PGAM4', 'KNTC1', 'FBP2', 'NCAPD2', 'FBP1', 'RSPO4', 'NUF2', 'BPGM', 'OGDHL', 'NCAPH', 'ARHGDIA', 'PMCH', 'RSPO3', 'RSPO1', 'ECT2', 'SEPT8', 'VDAC3', 'OGDH', 'AKAP13', 'MSL3', 'PFDN4', 'SAA1', 'RAB1B', 'SAT1', 'ATP5G1', 'PRC1', 'RTF1', 'NET1', 'KNG1', 'ARHGEF3', 'SLC25A4', 'GBE1', 'PGAM2', 'RAB1A', 'PGAM1', 'KIF12', 'KIF24', 'PLAA', 'SACM1L', 'LSM1', 'ATP6V1B2', 'KIF6', 'MLH1', 'UQCRFS1', 'ATP6V1B1', 'KIF26B', 'STARD9', 'KIF9', 'DNAJC2', 'MORF4L2', 'KIF16B', 'KIF13A', 'SMARCD3', 'KIF26A', 'CYCS', 'KIF13B'], 35: ['EHHADH', 'ALDH3A2', 'SOX2', 'HADHA'], 36: ['SEC63', 'DDOST', 'CANX'], 37: ['HECTD1', 'MAD1L1', 'MAGI3', 'HECTD2', 'TCF7L2', 'LEF1'], 38: ['FN1', 'DCP2', 'UCHL5', 'SUZ12'], 40: ['SMAD4'], 41: ['MDFI'], 42: ['TRAF2', 'PAPOLA', 'USO1', 'RPA2', 'SACM1L'], 44: ['IKBKG'], 45: ['CTSA', 'SOX2', 'IKBKAP', 'PSMD2'], 50: ['TERF1', 'UBE2H'], 53: ['CTNNAL1', 'UBOX5', 'UBE4A', 'VHL', 'CTNNA3', 'CTNNA2', 'ALDH5A1', 'FBP2', 'UBE4B', 'FBP1', 'CASP3', 'ALDH16A1', 'VCL', 'ALDH1L2', 'ALDH1L1', 'ALDH8A1', 'GLUD2', 'ALDH1A2', 'ALDH9A1', 'CTNNA1', 'ALDH2', 'ALDH1A3', 'ALDH1B1', 'PSMA2', 'ALDH1A1', 'UBA3', 'WDR48', 'PSMB7', 'PSMB10', 'ERCC5', 'UBA6', 'PSMA7', 'EXO1', 'STIP1'], 55: ['PSEN1', 'POR', 'ITGB1', 'SMARCD3', 'NOS3', 'LEF1'], 58: ['RCAN2', 'RCAN3', 'RCAN1', 'RNF103-CHMP3', 'TNPO2', 'CDC23', 'HIP1', 'HIP1R', 'TNPO1', 'PLCG1'], 59: ['CPSF2'], 60: ['CAMK2D'], 61: ['HIF1A'], 62: ['FBXW11'], 63: ['HIBADH', 'ETFA', 'CYB5A', 'DLST', 'NDUFAB1'], 64: ['DNA2'], 66: ['PISD', 'TPP2', 'CDIPT', 'DHPS', 'ADSL', 'TKTL1', 'TKTL2'], 68: ['RSAD2', 'SLC25A11', 'HOXA7', 'IRF7', 'ATP5I', 'IRF1', 'TMEM189-UBE2V1', 'XPOT', 'TMEM189', 'IL4', 'SNIP1', 'TTN', 'STAT2', 'RPN1', 'TIMM9', 'UBE2V2', 'UBE2V1', 'TIMM10', 'UBE2H', 'BRCC3', 'FBXW11', 'EXOSC3', 'BRCA1', 'ANAPC11', 'RPS10', 'POLDIP3', 'RPL29', 'RPS26', 'ALDOA', 'RPLP1', 'RPS17', 'SIRT6', 'PIAS1', 'PSMD14', 'STAT1', 'RPS24', 'UBE2J1', 'DNAJC2', 'USP7', 'PSMD2', 'PSMD12', 'DDB1', 'MAPK9', 'RPL31', 'IQGAP1', 'RPL36', 'STAT3'], 70: ['AHSA2', 'AHSA1', 'EIF3M', 'EIF3H', 'EIF3G', 'NACA', 'PSMD2'], 71: ['PTGES3L-AARSD1', 'PTGES3L', 'CDC37', 'YME1L1', 'PPID', 'MRPS11'], 73: ['FBXW11'], 74: ['MRPL12'], 75: ['PEF1', 'PYROXD2', 'RETSAT', 'ABCD4', 'NANOS1', 'ABCG2', 'DNAJC17', 'DNAJC15', 'CYP2E1', 'DNAJC19', 'IL8', 'AKD1', 'KDM5D', 'KDM5C', 'KDM5A', 'ALKBH8', 'EHHADH', 'ACAA2', 'KDM5B', 'HADHB', 'GUF1', 'HADHA', 'SCD5', 'AARS2', 'MAPK10', 'ZCCHC14', 'AIMP1'], 76: ['MRI1', 'NNT', 'YOD1', 'ITGB6', 'OTUD6A', 'APOA1', 'HNF4A', 'OTUD6B', 'SERPINE1', 'USP42', 'ACSL1', 'PLG', 'NCOA1', 'AGXT', 'VDR', 'SNIP1', 'GPN3', 'MED7', 'ESR2', 'CDYL2', 'MRPL19', 'CDY1B', 'CDY2B', 'CDY2A', 'CDY1', 'ACSM1', 'CDYL', 'MRPS18A', 'NR3C1', 'SQSTM1', 'NCOR2', 'PPARA', 'CCNE2', 'MRPS18C', 'FN1', 'ALDOB', 'PPARG', 'EHHADH', 'RBL1', 'RNASEH2A', 'FBXO18', 'WDR4', 'CCNE1', 'ITGB1', 'IDH3A', 'CHFR', 'MIB2', 'TENC1', 'UTP11L', 'NCOR1', 'DARS', 'BUD31', 'SSBP1', 'GNL1', 'EXOSC5'], 77: ['SNX4', 'BMI1'], 78: ['CACNA1S'], 81: ['SEC31B', 'AP1S1', 'SEC31A', 'RPA3', 'NUTF2', 'EIF4EBP1', 'HAO1', 'PFDN6', 'MED31', 'TBK1', 'F2', 'VIM', 'POMC', 'CNPPD1', 'PHF20L1', 'TSR2', 'SMN1', 'PSEN1', 'MOSPD3', 'ZC3H14', 'NOP10', 'HTRA1', 'RRP7A', 'RRP15', 'PSME4', 'CAMK2A', 'PSMD11', 'PSMA8', 'CHUK', 'HTRA2', 'IKBKB', 'EIF2C3', 'EIF2C4', 'EIF4G3', 'ABCF3', 'TBL2', 'REL', 'SPAG6', 'LHX1', 'DCP2', 'RPL34', 'PSMD1', 'POLR3H', 'CSNK1G3', 'UCHL5', 'CSNK1G1', 'POLDIP3', 'VAPB', 'EXOSC6', 'CSNK1G2', 'WDR48', 'CIRH1A', 'PUS1', 'UTP11L', 'NOL6', 'PSMB4', 'MPHOSPH10', 'KPNA5', 'PSMB7', 'VAPA', 'PSMB10', 'WDR43', 'UBFD1', 'LYAR', 'EIF5', 'KPNA7', 'KPNA6', 'PSMD13', 'PSMD9', 'LTV1', 'WBSCR27', 'PSMA7', 'DDB1', 'PSMD3', 'MLST8', 'EXOSC5', 'DDX52', 'NOS2', 'EXOSC4'], 83: ['MLH1'], 85: ['NWD1', 'EML6', 'IFT80', 'KIAA1239', 'BRWD3', 'EML4', 'IFT122', 'GNB1L', 'WDFY1', 'WDR20', 'SQSTM1', 'ARHGDIA', 'DMWD', 'WDR33', 'DDB2', 'TBL2', 'ACTR6', 'PARP1', 'WDFY2', 'ACTN4'], 90: ['TMOD4', 'TXLNB', 'RASGRP1', 'NRG2', 'F11R', 'LLGL2', 'CACNB3', 'ARHGAP17', 'ITGAM', 'LLGL1', 'USH1C', 'PIH1D1', 'CACNG1', 'GRID2IP', 'TRIP10', 'ITGA4', 'SOX8', 'CAV3', 'ARHGAP5', 'TAGLN3', 'TLN1', 'ARHGAP35', 'TJP1', 'MPDZ', 'F2RL2', 'SMTNL1', 'DYNLL2', 'PARD3', 'EPPK1', 'UNC45B', 'SH2D1B', 'INPP5E', 'ROCK2', 'INPP5J', 'ARID3C', 'PRPF40B', 'TNNT2', 'TAGLN', 'ARHGAP36', 'INPP5K', 'AQP10', 'ARID5A', 'CDH1', 'SYNE1', 'PRKCZ', 'CAPZB', 'ARHGAP6', 'TNNT3', 'AQP7', 'ARID3B', 'AQP9', 'ROCK1', 'PLS3', 'METTL21C', 'DCTN2', 'FIG4', 'TNNI1', 'PLS1', 'DNAJC5G', 'ARID3A', 'ITGB2', 'EHBP1L1', 'EHBP1', 'C9orf69', 'DUS4L', 'SEPT7L', 'KIAA1456', 'HMHA1', 'CACNA1D', 'TRNT1', 'GTPBP5', 'MACF1', 'DNAJC5B', 'INPP5B', 'ARHGAP29', 'SEC14L5', 'MAGI1', 'FLNA', 'CHN2', 'AQP3', 'INPPL1', 'SPTB', 'SPTBN5', 'RSPO4', 'OCRL', 'CHN1', 'WDFY1', 'FLNB', 'LCP1', 'SEC14L1', 'PPP2R1B', 'INPP5D', 'PDLIM7', 'SEL1L3', 'ABT1', 'TOMM40L', 'SPTBN4', 'SEPT14', 'RRP36', 'EIF2B5', 'DNAJC5', 'HAS3', 'ARHGDIA', 'LRP2BP', 'FLNC', 'VCL', 'RSPO3', 'CAMK2G', 'SEPT10', 'RSPO1', 'SEL1L2', 'LDB3', 'HAS2', 'ARHGAP11B', 'CAMK2D', 'SEPT8', 'RRP15', 'UTRN', 'SPTBN2', 'LPXN', 'CDK5RAP1', 'CAMK2B', 'BCL2', 'HAS1', 'ARHGAP11A', 'CAMK2A', 'PDLIM5', 'FCF1', 'PFN4', 'SEPT11', 'ALKBH8', 'PRPF40A', 'TRIM23', 'SEPT1', 'TRMT11', 'SEPT6', 'SEL1L', 'PTGES3L-AARSD1', 'CTNNA1', 'RAB9B', 'RNASEH2A', 'KIAA0141', 'REXO4', 'ANAPC10', 'TGFB1', 'SPTA1', 'DIEXF', 'SEPT4', 'CDKAL1', 'SH3PXD2B', 'PTGES3L', 'DMD', 'SPTBN1', 'ITGB1', 'ISG20L2', 'PFN2', 'SH3PXD2A', 'SEPT5', 'DDX31', 'AATF', 'RAB9A', 'SKIV2L', 'ABCC9', 'UTP23', 'TRMT6', 'RRP8', 'GABARAP', 'CHD5', 'WASL', 'SARS2', 'PRPSAP1', 'PRPSAP2', 'FTSJ1', 'UTP14C', 'BCCIP', 'TRMT1L', 'NGDN', 'KIF12', 'KIF24', 'UTP11L', 'RACGAP1', 'SACM1L', 'KIF6', 'RBM28', 'ISG20', 'MPHOSPH10', 'AEN', 'PFN1', 'TTC27', 'PPIL4', 'KRI1', 'KIF26B', 'PSMD13', 'PSMD9', 'PIP5KL1', 'TRMT1', 'STARD9', 'KIF9', 'SPTAN1', 'DDX49', 'UTP14A', 'KIF16B', 'KIF13A', 'HBS1L', 'PSMD12', 'ATAD1', 'SEPT7', 'RBM19', 'NOP14', 'KIF26A', 'DDX52', 'MAPRE3', 'WDFY2', 'DDX28', 'SKIV2L2', 'DDX47', 'ACTN4', 'UTP6', 'MYL6B', 'KIF13B', 'PIP4K2C', 'MAK16'], 91: ['PAPSS2', 'PAPSS1', 'SPTLC1', 'BCKDHB', 'HAS3', 'HAS2', 'HAS1', 'CBL', 'PDHA1', 'ABCC10', 'PDHB', 'TRAF6', 'ABCC9', 'ABCC12', 'ABCC11', 'ABCC6', 'ABCC3', 'ABCC4', 'ACAT1', 'ABCB5', 'ABCC5', 'ABCC8', 'ABCC1', 'ABCB4', 'ABCC2', 'ABCB11', 'STX16-NPEPL1', 'ABCB1', 'STX16'], 92: ['UCK2', 'PDZD2', 'DLG5', 'ADSL', 'HECTD3', 'KIAA0317', 'INADL', 'MAGI3', 'MPP2', 'PGD'], 93: ['GRIN1', 'UROD', 'C12orf65', 'MTRF1L', 'MTRF1', 'WNT11', 'LSM1', 'GRPEL2', 'PSMA3', 'NOS3', 'LSM6'], 94: ['RFNG', 'LFNG', 'MFNG', 'WRB', 'ETV6', 'KSR1', 'AK8', 'WNT8B', 'WNT11', 'BLM', 'WNT3', 'SMAD4', 'WNT7B', 'WNT4', 'POTEB', 'NKPD1', 'KPNA7', 'POTEG', 'ANKRD35', 'POTEM', 'CASKIN1', 'POTEC', 'WNT5A', 'ANKRD24', 'ABTB1', 'LEF1', 'KANK3', 'FPGT-TNNI3K'], 95: ['TWIST2', 'GDF15', 'BMP10', 'GDF11', 'BMP6', 'MSTN', 'BMP7', 'MEOX2', 'TGFB3', 'TGFB2', 'BMP2', 'IFT80', 'BMP4', 'TREH', 'PSMA8', 'TGFB1', 'PSMB4', 'ATAD1', 'PSMA7'], 98: ['ZCCHC14'], 99: ['EXOC5', 'RAB9B', 'MAD1L1', 'RAB9A', 'TTK', 'RAB5A'], 100: ['WNT9B', 'WNT11', 'WNT3', 'WNT7B', 'WNT4'], 101: ['UCHL1', 'KDM1A', 'CPOX', 'VIM', 'LNPEP', 'INPP5B', 'NPEPPS', 'RPN1', 'OCRL', 'PSME3', 'CHAF1A', 'SQSTM1', 'PABPN1', 'UCHL5', 'DNAJB13', 'MYBBP1A', 'MRPL24', 'MRPL12', 'YBX1', 'EIF3E'], 102: ['MUC7', 'MUC5B', 'MPDZ', 'LNX1', 'ESR2', 'CTBP2', 'TIMM9', 'PPARG', 'CTBP1', 'WDR48', 'PSMD9', 'RPS18'], 104: ['UBA5', 'SEL1L'], 106: ['SLC9A3R1', 'KMO', 'UBR2', 'EWSR1', 'IGDCC3', 'CH25H', 'VHL', 'PLA2G4A', 'RUSC1', 'ALAS2', 'GAD1', 'ALAS1', 'PYCR1', 'NR3C1', 'HNRNPU', 'TADA3', 'ZCCHC13', 'PML', 'CNNM4', 'ZCCHC9', 'RTF1', 'NACAD', 'TRAF6', 'NACA2', 'BRWD1', 'EIF3G', 'NACA', 'SMARCD1', 'AHCYL1', 'PSMB4', 'PSMB7', 'BAZ1B', 'PSMD14', 'UBE2J1', 'DNAJC2', 'BAZ2B', 'SMARCD3'], 107: ['GPD1'], 109: ['MMP2', 'LSM7', 'PARK2', 'CFL2', 'RPS24'], 112: ['SYNE1', 'TARDBP', 'HNRNPH1', 'POLR2D', 'PCBP2', 'TRAF6', 'BMI1'], 113: ['PARP1'], 115: ['RAD1'], 116: ['USP9X', 'CTNND1'], 117: ['NOX5', 'ODAM', 'WDR44', 'PELI1', 'N4BP2', 'USP38', 'MRPL37', 'CYBB', 'TICAM1', 'LIN7A', 'FYB', 'ZBP1', 'RNF41', 'TANK', 'ABCB6', 'LETM2', 'PTGR2', 'SLC27A3', 'MBP', 'CDC42BPG', 'CISH', 'SLC27A4', 'UBASH3B', 'SLC27A6', 'CALCOCO2', 'PRL', 'PTGR1', 'SLC7A6OS', 'GH1', 'RNF215', 'LETM1', 'SLC27A2', 'SLC27A1', 'GTF3C5', 'PNPLA8', 'RNF32', 'RNF24', 'SDC1', 'CIAPIN1', 'CD2AP', 'PIK3AP1', 'RNF149', 'RCAN1', 'BLMH', 'RNF165', 'RNF122', 'IL1B', 'HMMR', 'ZSWIM2', 'NR2C2', 'RNF150', 'CEP57', 'ZNRF3', 'IRF5', 'GRN', 'RNF43', 'RNF38', 'RNF44', 'RNF6', 'RNF181', 'SDC4', 'RNF130', 'RNF103', 'ITIH3', 'AKR1CL1', 'SLC2A11', 'PJA2', 'CTDSPL2', 'CUX2', 'TTC37', 'PJA1', 'RLIM', 'NBR1', 'RNF115', 'SP140', 'SLC11A2', 'PIK3R2', 'GCLM', 'APEH', 'SLC27A5', 'RNF126', 'NONO', 'CBR1', 'SLC11A1', 'ACSF3', 'CTDSP2', 'SLC2A9', 'DPP4', 'TRAF3', 'CTDSPL', 'HSD17B7', 'CD40', 'SLC2A5', 'FAM173A', 'AKR1B15', 'CTDSP1', 'RNF111', 'ITIH4', 'CBR3', 'PRMT7', 'CUX1', 'SOAT2', 'TOMM70A', 'IRF7', 'AKR1C4', 'SMEK1', 'CTDNEP1', 'AKR1C2', 'NR1H3', 'NDUFAF5', 'MECR', 'AKR1E2', 'AKR1C1', 'ENPP2', 'CTSE', 'AKR1C3', 'IRF1', 'RPAP2', 'GORASP2', 'ACSL3', 'QTRT1', 'ASL', 'USP48', 'RNF11', 'GPC1', 'NARS2', 'LIPT1', 'BCAT1', 'PDCD2', 'TOM1L2', 'SMEK2', 'DPH1', 'SOAT1', 'CLNS1A', 'BCAT2', 'DGAT1', 'ATXN2L', 'NUBPL', 'NUBP1', 'PPP6R2', 'TUBGCP6', 'TOM1', 'VPS29', 'ACSL1', 'GRAPL', 'AKR1D1', 'SAR1B', 'GCH1', 'SLC2A2', 'NUDT12', 'PPP6R1', 'PTBP1', 'AKR1B10', 'AKR1A1', 'MTPAP', 'TOM1L1', 'SELRC1', 'GTF2E1', 'PTPRB', 'NUBP2', 'GRAP', 'POLR3D', 'AKR1B1', 'SCLY', 'POLR3C', 'MFSD3', 'EXOC2', 'METTL21C', 'NFS1', 'GLDC', 'SLC33A1', 'STAMBPL1', 'TRMT10A', 'CMSS1', 'KRT8', 'KIAA1456', 'SURF6', 'SPTLC3', 'GRAP2', 'IFIH1', 'GGA3', 'GGA2', 'GGA1', 'REN', 'DNTTIP2', 'STAT6', 'BIRC2', 'CYB5B', 'TEX10', 'SPTLC2', 'SPTLC1', 'TRIP6', 'RNF103-CHMP3', 'XIAP', 'GNB1L', 'TUBGCP3', 'TSR2', 'DDX58', 'DDX19B', 'CTSA', 'CLASP2', 'INPP5D', 'NOP9', 'ANKRD32', 'CECR1', 'STAT5B', 'GPN1', 'RBBP5', 'ALDH16A1', 'ABT1', 'MYD88', 'BAP1', 'TRAF2', 'SQSTM1', 'ADA', 'GTF2F1', 'PPARA', 'PMCH', 'EXOSC9', 'BRAF', 'RAE1', 'ALDH1L2', 'RRP7A', 'EXOSC7', 'ALDH1L1', 'TGFB1I1', 'ALDH8A1', 'ALDH3B2', 'CLASP1', 'VPS35', 'DLAT', 'OGDH', 'CTSD', 'STAT5A', 'ADAL', 'KIAA0317', 'ACAA1', 'XPNPEP2', 'FCF1', 'CRY1', 'CYB5A', 'CNNM3', 'STX11', 'SHC1', 'SAA1', 'ALKBH8', 'ALDH3A1', 'IKBKB', 'PARS2', 'ABCB9', 'SEPT1', 'POLR3F', 'EHHADH', 'COPA', 'TRMT61B', 'ALDH1A2', 'PML', 'DNAJB11', 'ZNF622', 'UBE2H', 'DOHH', 'ALDH9A1', 'CTNND1', 'CBL', 'ALDH3A2', 'REXO4', 'ALDH2', 'ALDH1A3', 'EXOSC3', 'TRMT61A', 'ALDH1B1', 'WDR4', 'RIOK2', 'SLC25A6', 'ISG20L2', 'IDH3A', 'UCHL5', 'CDC37', 'TRAF6', 'SLC25A4', 'ALDH1A1', 'SKP2', 'XPNPEP1', 'TOP3B', 'SCD5', 'NCK1', 'UTP23', 'TRMT6', 'GABARAP', 'CHD5', 'UBR5', 'ITPA', 'CIRH1A', 'PRPSAP1', 'PRPSAP2', 'ABCC3', 'CSE1L', 'BCCIP', 'NGDN', 'MIB2', 'MDH1B', 'UTP11L', 'ERCC2', 'NDUFAB1', 'HMG20B', 'EPS15', 'ISG20', 'TWISTNB', 'MAPK10', 'RPL32', 'AEN', 'TCEA3', 'DHX36', 'POTEM', 'STAT1', 'RPS24', 'LTV1', 'WBSCR27', 'UTP14A', 'SLC25A3', 'MAPK9', 'EXOSC5', 'DDX52', 'LEF1', 'RSRC1', 'LSM6', 'UTP6', 'MAK16'], 118: ['KATNA1', 'MARCH3', 'MARCH2', 'PGM2L1', 'CTSD', 'PGM2', 'CCDC88B', 'SPO11', 'ITGB1', 'PLAA', 'PGM3'], 119: ['VPS33A'], 120: ['RASAL1', 'FDXR', 'VHL', 'PLG', 'BCKDHB', 'GPD1L', 'STX3', 'STX4', 'TGFB1', 'GPD1', 'STX2', 'LDHAL6B', 'LDHAL6A', 'ABCB5', 'LDHC', 'HINT1', 'UQCRC2', 'MAPK10', 'ABCB4', 'ABCB11', 'ABCB1'], 123: ['ITFG1', 'C20orf72', 'PGC', 'PGA4', 'PGA5', 'PGA3', 'BACE2', 'PLCH1', 'TRAF3', 'SIAH2', 'HRSP12', 'NAPSA', 'CTSE', 'CLK1', 'PLCD1', 'ARHGEF35', 'ARHGEF19', 'SEC24A', 'ARHGEF15', 'AQP10', 'PTPRB', 'ARHGEF26', 'TOMM20', 'ARHGEF5', 'AQP7', 'AQP9', 'BACE1', 'REN', 'RASA1', 'CYB5B', 'ARHGEF28', 'TRIP6', 'AQP3', 'NGEF', 'ARHGEF16', 'NEDD8-MDP1', 'EIF2B5', 'ARHGEF11', 'HAS3', 'ARHGEF1', 'ALG1L', 'HAS2', 'PIAS3', 'CTSD', 'AKAP13', 'C9orf114', 'RICTOR', 'ALG11', 'SEC63', 'HAS1', 'ALG1', 'STUB1', 'ARHGEF12', 'SOD3', 'CYB5A', 'ALG2', 'PDPK1', 'RASGEF1B', 'PIGA', 'PPP2R2D', 'CSNK1G3', 'NET1', 'ARHGEF3', 'CSNK1G1', 'PARK2', 'PIAS2', 'COPS6', 'CSNK1G2', 'PLAA', 'PIAS1', 'PPP2R2C', 'KPNA6', 'IKBKG', 'IQGAP1', 'STIP1'], 126: ['PPP2R1B', 'GDI2', 'MYL6B'], 127: ['TRIM42', 'NFX1', 'GORASP2', 'ZFP36L1', 'CDC37L1', 'TUBGCP6', 'SFI1', 'ZFP36L2', 'PITRM1', 'TSG101', 'AP2A1', 'DCTN1', 'TUBGCP3', 'ERCC3', 'DNAH3', 'DNAH1', 'DNAH6', 'DNAH5', 'DMWD', 'REXO1L1', 'DYNC2H1', 'CLASP1', 'KIAA0317', 'ARRB1', 'CCDC88B', 'NUP85', 'KDM5B', 'REXO4', 'AP2M1', 'DPM1', 'RPS10', 'CDC37', 'HECW1', 'KPNA5', 'RPL32', 'KPNA7', 'CORO1C', 'KPNA6', 'UBE2J1', 'RNF40', 'MLST8', 'KIF26A', 'IQGAP1', 'SLMAP', 'FANCM'], 129: ['RPL31'], 131: ['ITGB5', 'CARM1', 'IKBKB', 'TGFBR1', 'BRCA1', 'THNSL1'], 132: ['ZWILCH', 'INADL', 'UBE2J1'], 133: ['ACOX1', 'ADRB2', 'IDH2', 'SPTA1', 'IDH1', 'KNG1', 'TALDO1', 'AGT', 'UQCRFS1', 'SPTAN1', 'ACTN4'], 134: ['AIFM2', 'GPX4', 'ALDH1A2', 'ALDH2', 'ALDH1A3', 'FUS', 'ALDH1B1', 'ALDH1A1', 'GLUD1'], 135: ['HDC', 'PLCG1'], 137: ['ADSS'], 138: ['PPP2R5B', 'SOX2', 'NPM1'], 139: ['HSD17B11', 'AP3D1', 'RABAC1', 'ARHGEF16', 'NEK6', 'MRPL23', 'SHH', 'TFDP1', 'ARFGAP1', 'TSNARE1', 'CLHC1', 'STX16-NPEPL1', 'STX17', 'STX16'], 140: ['DHFR'], 141: ['SPRTN', 'ARHGAP11B', 'ARHGAP11A'], 142: ['BMI1'], 143: ['SIAH3', 'CENPT', 'SMU1', 'SIAH2', 'WDR1', 'TRIM28', 'SIAH1', 'CENPI', 'STAG1', 'STAG2', 'ZNFX1', 'IFIH1', 'NUF2', 'DDX58', 'CLASP2', 'CLASP1', 'ING2', 'ING3', 'FBXW11', 'GINS1', 'FBXO18', 'MAD1L1', 'CDC37', 'TTK', 'BUD31', 'MORF4L2', 'EXO1'], 144: ['TIMP2', 'MNT', 'MASTL', 'SKA3', 'TCIRG1', 'SPAG5', 'MED10', 'ATP6V0A1', 'SMS', 'RAD18', 'PHF20L1', 'HINT2', 'CNOT2', 'UBXN2B', 'NUDC', 'CDKN1A', 'AANAT', 'CTBP1', 'TFIP11', 'GNPNAT1', 'NSFL1C', 'CAPZA3', 'RASGEF1B', 'HELQ', 'GINS1', 'PRC1', 'ERCC4', 'RPL36A', 'VAPB', 'MRPS14', 'CAPZA2', 'SMAD4', 'POLR3K', 'SART1', 'MIB2', 'SMAD2', 'PAF1', 'BUD31', 'UQCRFS1', 'DDX4', 'CAPZA1', 'DHX36', 'SF3A1', 'MAPRE2', 'MAPRE3', 'FANCM'], 146: ['GAB1', 'SH3KBP1', 'SHC1', 'CBL', 'DMD', 'AHCYL1', 'BAZ2B'], 147: ['ABI1', 'ZYX', 'TGFB1', 'UCHL5', 'NCK1', 'PGAM1', 'RBM19'], 149: ['VPS52', 'IRF7', 'TBK1', 'USP25', 'HTRA2', 'MPP1', 'MPP2', 'MPP6', 'MPP3', 'SRPR', 'PARP1', 'STAT3'], 150: ['KRT1', 'WNT10A', 'WNT6', 'WNT8A', 'WNT8B', 'WNT9B', 'WNT9A', 'WNT16', 'WNT5B', 'WNT11', 'WNT7A', 'WNT10B', 'WNT2B', 'NCK1', 'WNT3', 'SMAD4', 'WNT7B', 'WNT2', 'WNT4', 'WNT5A'], 152: ['TERF1', 'AP3B2', 'HADHA'], 154: ['CNTN2', 'SPHK2', 'NOTCH2NL', 'SPHK1', 'EXOC1', 'CYB5B', 'CYB5A', 'TRAF6', 'SACM1L', 'FPGT-TNNI3K'], 156: ['RBM42', 'RBM7', 'GIT1', 'CACNB2', 'CACNB3', 'CACNB4', 'CACNB1', 'GIT2', 'TDRD3', 'AASS', 'BDH2', 'MYLK', 'HSD17B8', 'DHRS4L2', 'DHRS1', 'CBR4', 'PECR', 'HSD17B14', 'DECR2', 'DHRS4', 'DHRS2', 'HSDL2', 'GOT1', 'ALDH4A1', 'PTBP3', 'OAT', 'PYCR1', 'GOT2', 'DECR1', 'RAB3IP', 'IDH3G', 'CYB5A', 'ADSSL1', 'PPP2R5C', 'OXA1L', 'ANAPC11', 'SOX2', 'GLUD1', 'ADSS', 'PPP2R5D', 'PPP2R2C', 'NPM1', 'EXOSC4'], 158: ['COASY', 'CPSF3'], 159: ['MICALL2', 'CAB39', 'UGCG', 'AKTIP', 'RASGEF1B', 'PI4KB', 'ACTN4'], 160: ['FBXW11', 'CPSF2', 'WDFY2'], 161: ['ZP2', 'SLC25A13', 'ETV7', 'NANOG', 'AGPAT9', 'ITGB7', 'SEC24B', 'GRAPL', 'SEC24D', 'SEC24A', 'SEC24C', 'MED1', 'CTU2', 'GRAP', 'PTPRN2', 'GPN3', 'BCL2A1', 'GSC2', 'ISX', 'RHOXF1', 'PDK3', 'ESX1', 'SEBOX', 'RHOXF2B', 'DRGX', 'DPRX', 'ITGB2', 'EFNB2', 'PDK4', 'PAAF1', 'NOBOX', 'ALX1', 'ALX3', 'RAX2', 'PDK2', 'SHOX', 'PRRX2', 'DMBX1', 'SHOX2', 'OTP', 'GRAP2', 'BCKDK', 'PROP1', 'RAX', 'PRRX1', 'LHX6', 'RHOXF2', 'UNCX', 'PDK1', 'ISL2', 'HESX1', 'ARX', 'LHX8', 'HOPX', 'UBA5', 'LMX1B', 'GSC', 'LMX1A', 'MOK', 'ALX4', 'LMO1', 'EIF2B5', 'TBL1X', 'LHX9', 'PPARA', 'LMO4', 'LMO3', 'BRAF', 'NAE1', 'ARAF', 'ISL1', 'LHX2', 'LMO2', 'COX18', 'AP3B2', 'LHX5', 'AP3B1', 'TBL2', 'LHX1', 'OXA1L', 'SLC25A6', 'ATG7', 'MAGI3', 'UBA3', 'RRP8', 'PTPRG', 'MYBBP1A', 'UBR5', 'RPS4XP21', 'RPL22', 'CBS', 'RPTOR', 'LTV1', 'WBSCR27', 'UBA6', 'SMARCD3', 'RPS4Y2', 'PSMD7', 'RPS28', 'MLST8', 'RSRC1'], 162: ['NEK6', 'CNNM3'], 164: ['CASP6', 'GTF3C5', 'PRELID1', 'CFLAR', 'TACO1', 'CASP7', 'STT3A', 'STT3B', 'TIMM13', 'ACAT2', 'TIMM10', 'ATIC', 'PEPD', 'CCNC', 'VAPB', 'HINT1', 'UQCRC2', 'CCNH'], 165: ['RBMX2', 'TBK1', 'SH3KBP1', 'VAV1', 'SQSTM1', 'RAE1', 'MFAP1', 'TRAF6', 'ESF1', 'PTPN6', 'MRPS16', 'PSMA7', 'SSBP1'], 166: ['PDZD2', 'INADL', 'ANKRD24', 'PI4KB', 'FPGT-TNNI3K'], 167: ['CBL', 'TAF5', 'VAPB', 'AMFR', 'ATP6V1B2', 'KPNA5', 'VAPA', 'NOS1', 'KPNA7', 'ATP6V1B1', 'KPNA6'], 168: ['ATP6V0C', 'AANAT', 'ATP5G3', 'ATP5G1', 'ATP5G2', 'ICT1', 'ATP5D'], 169: ['TRMU', 'MAF1', 'TRIT1', 'DPM1', 'DHX35'], 172: ['TP63', 'PRDX5', 'CALR', 'CCDC130', 'CBS', 'NKTR', 'PPIG', 'DHFR'], 173: ['SELE', 'PCYT1B', 'PCYT1A', 'PCYT2', 'GTF2H1', 'DAP3', 'C1QBP', 'RPN2', 'CRKL', 'DDOST', 'NUP85', 'SLC25A6', 'COPS6', 'NACA', 'DARS', 'RPL38'], 174: ['TNK2', 'CAV1', 'CCDC130'], 175: ['XAB2'], 176: ['TGFB1'], 177: ['BMI1'], 179: ['CDH18', 'CDH3', 'CDH15', 'ANO2', 'ANO1', 'ANO6', 'TTYH3', 'TTYH2', 'GABRR2', 'GABRA5', 'GABRD', 'GABRR1', 'GABRB2', 'GABRB1', 'GABRB3', 'GABRG2', 'CLCN2', 'COL4A3BP', 'SLC26A6', 'EVI5L', 'MEN1', 'NIT1', 'BTD', 'EVI5', 'DCHS1', 'SLC12A6', 'COG4', 'TBC1D1', 'SLC7A13', 'SLC7A10', 'SLC12A7', 'SLC7A6', 'DCAKD', 'SLC7A9', 'SLC12A4', 'SLC7A8', 'SLC12A1', 'SLC7A7', 'SLC7A11', 'SLC12A9', 'SLC12A3', 'NIT2', 'SLC7A5', 'SH3YL1', 'CLIC4', 'SLC12A2', 'CDH2', 'SLC7A3', 'TBC1D4', 'SLC7A2', 'SLC7A14', 'GDPD4', 'GDPD2', 'PCYT2', 'SLC7A4', 'SLC7A1', 'SORL1', 'GDPD5', 'GDPD3', 'GDPD1', 'HMGCL', 'GDE1', 'GPX8', 'GPHN', 'OSBPL5', 'OSBPL11', 'CCL19', 'OSBPL9', 'OSBPL8', 'GPX2', 'SLC9B2', 'OSBPL10', 'GPX3', 'ABCG2', 'SLC9A4', 'COASY', 'GPX4', 'PHGDH', 'SLC9A2', 'PLA2G4A', 'CYB5R3', 'SEC14L6', 'CLVS2', 'ARHGDIG', 'CDH1', 'SEC14L3', 'SEC14L4', 'DNAJC4', 'CLVS1', 'EXOC6B', 'CACNA1A', 'SLC9A3', 'SLC9A6', 'ARHGDIB', 'EXOC6', 'SLC9A7', 'DNAJC5G', 'TTPA', 'SEC14L2', 'TTPAL', 'SLC9C1', 'GPCPD1', 'DNAJC11', 'RLBP1', 'DNAH12', 'SLC9A1', 'DNAJC5B', 'DNAJC7', 'ARVCF', 'SPATA13', 'RAB17', 'SEC14L5', 'RAB22A', 'DNAJC30', 'ASH2L', 'DNAH2', 'DNAJC24', 'DNAH10', 'CTNND2', 'RAB5C', 'GALE', 'DNAH3', 'SEC14L1', 'RAB31', 'DNAJC16', 'DNAH1', 'RAB24', 'DNAH7', 'DNAH6', 'DNAH5', 'RBBP5', 'DNAJC22', 'AIFM1', 'DNAJC3', 'DNAH17', 'DNAJC5', 'ARHGDIA', 'DNAH9', 'RAB5B', 'DNAJB8', 'DNAH11', 'RAB3IP', 'RAB20', 'EXOC5', 'DYNC2H1', 'RSPO1', 'DNAJC18', 'DNAJB14', 'DNAJB7', 'DNAJC25', 'DNAJB12', 'CTBP1', 'DNAJB2', 'CNNM3', 'DNAJC25-GNG10', 'DNAJB9', 'DNAJB11', 'ARRB1', 'CNNM4', 'CCDC88B', 'CTNNA1', 'CTNND1', 'CNNM2', 'RAB9B', 'TOP1MT', 'BCS1L', 'PLCB3', 'CNNM1', 'PPP2R2D', 'MAD1L1', 'DNAJA3', 'SEC22C', 'IDH3A', 'RAB44', 'RAB9A', 'RASEF', 'DNAJB13', 'MRPL27', 'APC', 'DNAJB5', 'SEC22A', 'MRPS14', 'RAB40C', 'RAB40A', 'DNAJB6', 'DNAJB4', 'RAB40B', 'RAB12', 'TTK', 'RAB40AL', 'TCF7L2', 'RAB15', 'RAB28', 'RAB8B', 'RAB13', 'RAB5A', 'PPP2R2C', 'RAB10', 'SLC25A3', 'SSBP1', 'LEF1'], 181: ['HIP1'], 182: ['CCR6', 'GTF2H3', 'DNAJC9', 'HAS3', 'HAS2', 'HAS1', 'SLC25A6'], 184: ['VEGFA', 'ACSM1', 'FN1', 'BCL2L2-PABPN1', 'CNNM3', 'ARRB1', 'CNNM4', 'PABPN1', 'CNNM2', 'CNNM1', 'TNPO1', 'GDI2', 'KALRN', 'SF3A2', 'MAPRE2', 'MAPRE3'], 185: ['LBR', 'TERF1', 'VDAC3', 'GLTSCR2'], 186: ['MPND', 'BRCC3', 'PIAS1', 'PSMD14', 'PSMD7'], 188: ['CUX2', 'RABIF', 'DNAJC19', 'HDLBP', 'TPP2', 'PSME3', 'EIF4E1B', 'DNAJB6', 'PLAA', 'LSM1', 'SYVN1', 'CNOT1', 'CDC7'], 190: ['ACTN4'], 191: ['GSX1', 'AIFM2', 'MRPL9', 'COL4A1', 'NMT1', 'SMAD5', 'NUP62CL', 'SLC9A5', 'SLC9A4', 'COX10', 'SLC9A2', 'PRPF40B', 'PTBP1', 'NUP160', 'SLC9A3', 'SMAD1', 'NAF1', 'SLC9A1', 'TARDBP', 'CCNT2', 'HNRNPF', 'HNRNPH1', 'NUP62', 'NCAPH', 'LHX9', 'RAE1', 'NXF1', 'NDUFB10', 'PRPF40A', 'PABPN1', 'NUP85', 'FUS', 'NUP133', 'CCNT1', 'CCNC', 'PCBP1', 'SMAD2', 'CCNH', 'ATP6V1B1', 'SLC25A3'], 192: ['ANAPC11'], 194: ['APBA1', 'KIAA1383', 'YPEL4', 'YPEL1', 'ARL8A', 'YPEL5', 'YPEL3', 'ARL8B', 'PI3', 'YPEL2', 'E2F8', 'PLOD2', 'KRT82', 'MAEA', 'LSM14A', 'NLK', 'MAGIX', 'SOAT1', 'TUBGCP6', 'NEK7', 'WWC2', 'SLC30A3', 'RPTN', 'UGP2', 'SLC30A8', 'ZYX', 'MEGF10', 'RANBP9', 'CTDP1', 'WWC1', 'AMT', 'SMAP1', 'ADAP2', 'FBP1', 'MAGI1', 'FHL3', 'DBNL', 'SMAP2', 'TUBGCP3', 'ALAS1', 'ESCO2', 'ADAP1', 'GALE', 'PKP4', 'PYCR1', 'NEK6', 'ATP7A', 'DMWD', 'CHAF1B', 'HECTD3', 'HECTD1', 'LPXN', 'CAMK2B', 'ARHGAP11A', 'CKS1B', 'CKS2', 'ARRB1', 'CCDC88B', 'UBE2H', 'RBL1', 'PTPN12', 'PRC1', 'ARFGEF2', 'MAGI3', 'PEPD', 'CCNC', 'GABARAP', 'CHD5', 'TTK', 'RACGAP1', 'HECW1', 'HINT1', 'AGT', 'HMG20B', 'UQCRFS1'], 195: ['PARS2', 'RBM25'], 196: ['KIF9', 'CLHC1'], 198: ['DCPS', 'MRPL14', 'MCTS1', 'NDUFA5', 'ENY2', 'NDUFB9', 'NDUFA6', 'NUDT12', 'SMS', 'UBL5', 'NDUFS8', 'UPF3A', 'CACNA1A', 'LSM7', 'MRPL32', 'STX5', 'COX6A1', 'MRPL43', 'NEDD8-MDP1', 'DNAJC3', 'UPF3B', 'PFN4', 'PFDN4', 'NDUFB10', 'PSMB3', 'PML', 'EXOSC1', 'BRCC3', 'RPS17L', 'ATIC', 'RTF1', 'PFN2', 'POLDIP3', 'RPL29', 'RPS17', 'NDUFAB1', 'PSMB4', 'PFN1', 'MRPS16', 'NKTR', 'PPIH', 'PPIG', 'SSBP1', 'RPS18', 'RPL38', 'LSM6', 'SPAST'], 199: ['PIGW', 'NIT1', 'TBC1D20', 'MED9', 'LPL', 'MED11', 'ISCA2', 'TACO1', 'REEP6', 'REEP5', 'GTPBP6', 'IQSEC3', 'IQSEC2', 'PSD3', 'PSD4', 'PSD2', 'IQSEC1', 'PPARGC1A', 'WIPF2', 'SFRP2', 'PSD', 'NMRK2', 'CTU1', 'CYTH4', 'OTC', 'VDR', 'MAP4K4', 'UBL5', 'TRMU', 'DNAJC19', 'VPS45', 'PAPSS2', 'PRICKLE2', 'CYTH3', 'LGSN', 'NDUFS3', 'FBXO8', 'UROD', 'CYTH2', 'CDS2', 'GBF1', 'NDUFV2', 'NCAPD2', 'GTPBP5', 'RASA1', 'C12orf65', 'MTO1', 'CYB5B', 'CYTH1', 'CARM1', 'MTG1', 'GTPBP10', 'AGFG1', 'LSM4', 'CDS1', 'PYCR1', 'CNOT2', 'SLC2A4', 'ARFGAP3', 'NOA1', 'MRPS18C', 'CRKL', 'CDK5RAP1', 'MARS2', 'BCL2', 'ARFGEF1', 'CYB5A', 'BTF3', 'PTPN2', 'ALDH2', 'CRNKL1', 'FUS', 'ANAPC11', 'CDKAL1', 'GUF1', 'PIAS4', 'ARFGEF2', 'LARP1B', 'YME1L1', 'TSFM', 'ORC5', 'DALRD3', 'CSE1L', 'PUS1', 'ACAT1', 'RACGAP1', 'NCOR1', 'PPID', 'RARS2', 'PIAS1', 'ANKRD35', 'CLHC1', 'LARP1', 'RCVRN', 'GNL1', 'EIF1AY'], 200: ['BCR', 'HIP1', 'ABCB8', 'HIP1R', 'ATP6V1B2', 'SMAD2', 'ATP6V1B1', 'USP7'], 204: ['USP7'], 205: ['GK', 'RERE', 'COPS4', 'VTI1A', 'VTI1B', 'RTDR1', 'ARMC4', 'USP40', 'USP48', 'TCEB2', 'CLNS1A', 'PRICKLE4', 'FLAD1', 'USP9Y', 'EFNA1', 'USP47', 'PMM2', 'KIAA1432', 'USP41', 'USP34', 'PDLIM2', 'FHL5', 'USP24', 'ZNF185', 'USP28', 'PRICKLE3', 'PRICKLE2', 'PDLIM3', 'LMO7', 'USP25', 'PDLIM1', 'AMT', 'PTPN13', 'USP18', 'PDLIM4', 'PRICKLE1', 'FHL3', 'PDLIM7', 'ZC3H14', 'USP9X', 'VCL', 'LDB3', 'TGFB1I1', 'LPXN', 'HAS1', 'PDLIM5', 'CNOT7', 'MPP4', 'PFDN2', 'CSNK1G3', 'XAB2', 'UCHL5', 'CSNK1G1', 'CSNK1G2', 'SMAD4', 'IKBKAP', 'TSNARE1', 'USP7', 'STX16-NPEPL1', 'STX17', 'STX16'], 206: ['MLH1'], 207: ['AK8', 'SPG7', 'VARS2'], 208: ['HSDL1', 'DIP2C', 'DIP2B', 'ACSF3', 'DIP2A', 'WDR48'], 210: ['B2M', 'GDPD3', 'GDPD1', 'AKR1B15', 'AKR1C4', 'AKR1C2', 'AKR1E2', 'AKR1C1', 'AKR1C3', 'AKR1D1', 'SEC24A', 'UGP2', 'AKR1B10', 'AKR1A1', 'AKR1B1', 'WDFY1', 'TREH', 'VPS35', 'PIN4', 'DHX29', 'PSMA2', 'SCD5', 'ANXA1', 'ISG20', 'TCEA3', 'DHX36', 'DAZ3', 'DAZ2', 'RBM3', 'STARD9', 'KIF16B', 'KIF13A', 'WDFY2', 'KIF13B', 'DAZ4'], 212: ['SREBF2', 'SURF4', 'VPS13C', 'LAS1L', 'REN', 'SUGT1P3', 'TTC12', 'MUS81', 'TTC31', 'DNAJC22', 'SPTBN4', 'DNAJB8', 'DNAJC18', 'DNAJB14', 'ALDOB', 'DNAJB7', 'CTSD', 'C9orf114', 'AP3B2', 'DNAJB12', 'DNAJB2', 'DNAJB9', 'MT-CO2', 'AP3B1', 'KIAA0141', 'CANX', 'SPTA1', 'ERCC4', 'MAGI3', 'DNAJB13', 'DNAJB5', 'DNAJB6', 'DNAJB4', 'NDUFAB1', 'STAT1', 'SPTAN1', 'CLHC1', 'FANCM', 'STIP1', 'STAT3'], 213: ['GLRX3', 'HAO1', 'HADHA', 'PLAA', 'TKTL1', 'TKTL2'], 214: ['TP63', 'DNAJC17', 'GTF2A2', 'RANBP10', 'ZFP36', 'RANBP9', 'PARP2', 'STXBP2', 'UBXN11', 'CDKN1A', 'EIF1B', 'HIP1', 'HIP1R', 'ALDH1A2', 'EIF2C4', 'EIF1', 'RPS10', 'ALDH1A1', 'UBA3', 'CDC25B', 'TKTL1', 'SF3A1', 'CDC25C'], 215: ['KCNAB3', 'KCNAB2', 'TCEB2', 'NTHL1', 'USP21', 'TCEB1', 'SEL1L3', 'OGDHL', 'BAP1', 'LRP2BP', 'SEL1L2', 'PARS2', 'SEL1L', 'FARSB', 'KIAA0141', 'UCHL5', 'PLAA', 'FARSA', 'ERCC6', 'EIF1AY', 'CYCS'], 216: ['GDPD5', 'GDE1', 'GPCPD1', 'CORO6', 'CORO2B', 'CORO2A', 'CORO1B', 'CORO1C'], 217: ['MAF1', 'PPIL2', 'UBE2V2', 'DNAJC2'], 218: ['PROC', 'SEC24A', 'NEURL', 'NEURL1B', 'GSC2', 'ISX', 'RHOXF1', 'ESX1', 'SEBOX', 'RHOXF2B', 'DRGX', 'DPRX', 'NOBOX', 'ALX1', 'ALX3', 'RAX2', 'SHOX', 'PRRX2', 'DMBX1', 'SHOX2', 'OTP', 'PROP1', 'RAX', 'PRRX1', 'MAK', 'LHX6', 'RHOXF2', 'UNCX', 'ISL2', 'HESX1', 'ARX', 'LHX8', 'HOPX', 'LMX1B', 'HTRA3', 'HTRA4', 'GSC', 'TYSND1', 'LMX1A', 'MOK', 'SRPK3', 'ALX4', 'LMO1', 'LHX9', 'LMO4', 'LMO3', 'RBPJL', 'HTRA1', 'ISL1', 'LHX2', 'LMO2', 'RICTOR', 'PSME4', 'LHX5', 'MAPKAP1', 'HTRA2', 'REL', 'LHX1', 'CSNK1G3', 'CSNK1G1', 'SOX2', 'RBPJ', 'CSNK1G2', 'WDR48', 'NOS1', 'UBFD1', 'PSMD13', 'PSMD9', 'LTV1', 'WBSCR27', 'MORF4L2', 'BMI1', 'PSMD3', 'NOS3', 'MLST8', 'NOS2'], 219: ['KPNA5', 'KPNA6'], 220: ['SETX', 'THNSL1'], 221: ['SERPINA3', 'HSPB1', 'SRSF2', 'TERF1', 'USP9X', 'PSMB7'], 223: ['GBA', 'EIF4EBP1', 'TRMT10B', 'TRMT10C', 'TRMT10A', 'NDOR1', 'MTRR', 'DUS3L', 'OSGEP', 'POR', 'RICTOR', 'MAPKAP1', 'CHUK', 'IKBKB', 'TBL2', 'PFN2', 'TRMT1L', 'PFN1', 'NOS1', 'TRMT1', 'WBSCR27', 'NOS3', 'MLST8', 'NOS2'], 224: ['CXCR2', 'STAT2', 'TCF3', 'NARS', 'EIF2C4', 'PLCB3', 'PLCB1', 'SPTBN1', 'TCF7L2', 'TENC1', 'NKPD1', 'ZCCHC14', 'STAT1', 'LEF1'], 226: ['KCTD3', 'SHKBP1', 'LEMD2', 'CP', 'VCAM1', 'ENPP2', 'CTSB', 'C3', 'CARM1', 'HESX1', 'HNRNPK', 'LMX1A', 'FN1', 'LHX5', 'PTGES3L-AARSD1', 'LHX1', 'PTGES3L', 'SEC13', 'WNT2', 'CDC16', 'RACGAP1', 'RAB5A', 'DDX4', 'LTV1'], 228: ['SLC5A8', 'SLC5A6', 'SLC5A12', 'ERG', 'SLC5A5', 'STOM', 'TCF3', 'DMWD', 'SRRM2', 'IDH3B', 'FUS', 'SUZ12', 'DHX30', 'WDFY2'], 229: ['EPOR'], 231: ['APOA2', 'FABP1', 'LPL', 'CORIN', 'APOA1', 'SMO', 'FZD6', 'HSPG2', 'ME1', 'ZMPSTE24', 'RBBP5', 'ALDOB', 'MT-CO2', 'WNT10B', 'PPIL3', 'WNT2', 'SYVN1', 'TCEA3'], 233: ['HMBS', 'GOPC', 'DUS4L', 'DUS1L', 'ALG11', 'AKTIP', 'MPP5', 'MPP6', 'LDHC', 'CORO1B'], 235: ['TERF2IP', 'GRIN2B', 'GRIN1', 'DNA2', 'UQCRC2', 'SMAD2', 'UQCRFS1', 'MAPRE2', 'MAPRE3', 'CYCS'], 238: ['STAT3'], 240: ['WDR82', 'SEC13', 'UQCRFS1', 'CYCS'], 241: ['PHC2', 'TTC31', 'WDFY2'], 243: ['ATP2B1', 'KHDRBS1', 'ATP7A', 'STUB1', 'VAPB'], 244: ['ALG3', 'IMMP1L', 'GPD1', 'UBA3', 'SRPR'], 245: ['IQGAP2', 'IQGAP3', 'CAPZA3', 'CAPZA2', 'SMAD4', 'CFL2', 'SMAD2', 'CAPZA1', 'NOB1', 'MAPRE2', 'PSMD12', 'MAPRE3', 'IQGAP1', 'UTP6'], 248: ['GPD1', 'RGPD3', 'RGPD8', 'RGPD1', 'RGPD5', 'DDX60', 'RGPD6', 'RGPD2'], 249: ['CRKL'], 250: ['TMEM173', 'NUDT14', 'NUDT7', 'NUDT1', 'NUDT5', 'NUDT8', 'EWSR1', 'NUDT10', 'NUDT11', 'MEOX2', 'NUDT2', 'IFIH1', 'DDX58', 'ERCC3', 'OGDHL', 'CRY2', 'CRY1', 'TOP1MT', 'DCP2', 'SLC25A6', 'PCBP2', 'SOX2', 'ERCC2', 'ERCC6'], 251: ['ATXN1'], 252: ['TCF7L2'], 253: ['SPTB', 'FLNC', 'BTF3', 'BTF3L4', 'SPTA1', 'SPTAN1'], 254: ['TLE2', 'TLE1', 'LHX2', 'MAPKAP1', 'NUP85', 'PLAA', 'MLH1'], 255: ['ALKBH8', 'ITGB1', 'MRPL17', 'MRPL27'], 256: ['ATG5', 'AP2A1', 'SNX2', 'SAP18', 'PPP2R1B', 'TRMT112', 'STXBP1', 'ATP6V1B2', 'ATP6V1B1', 'YEATS4', 'SLMAP'], 257: ['CSTF2', 'TOP3A'], 258: ['GTF2E2', 'POLN', 'TGFBR2', 'CEP55', 'SMN2', 'GTF2H3', 'POLD2', 'SF1', 'SF3B5', 'NUP160', 'HNRNPR', 'POLR3D', 'TK1', 'SAP18', 'BIRC3', 'HNRNPK', 'SMN1', 'NR3C1', 'ADSL', 'RAD1', 'ACAT2', 'POLE3', 'ACAA1', 'STUB1', 'WDR82', 'ACAA2', 'POLR2D', 'NUP133', 'HADHB', 'KLHDC10', 'DDX11', 'RPA2', 'PPIL3', 'WDR48', 'UBR5', 'ITPA', 'POLR3K', 'ACAT1', 'PPID', 'BUD31', 'PPIL4', 'SNRNP200', 'ERCC5', 'DAZ3', 'SF3A1', 'DAZ2', 'RBM3', 'SEPT7', 'YEATS4', 'EXO1', 'DAZ4'], 260: ['FXC1', 'PIF1', 'TIMM9', 'DNAJB11', 'POLR3H'], 267: ['FAF2', 'HECTD1', 'CAMK2B', 'RACGAP1', 'ERCC2', 'STIP1'], 268: ['ATXN1'], 270: ['TSC22D4', 'PEA15', 'LAMB3', 'ENDOG', 'CASP1', 'CHRM1', 'NCAM1', 'CPOX', 'CKS1B', 'HTRA2', 'CKS2', 'PLCB1', 'CSNK1G3', 'DNAJA3', 'ARFGEF2', 'CSNK1G1', 'PLCG1', 'CSNK1G2', 'TTK', 'AGT', 'PSMA3', 'DHFR', 'STIP1', 'STAT3'], 272: ['EPS15'], 274: ['MTCH1', 'SARNP', 'TCEB3', 'SAP130', 'ATXN7L2', 'EMC8', 'BDP1', 'GZMA', 'F9', 'PRSS3', 'GK5', 'GTF3C5', 'SHPK', 'F7', 'RPP30', 'GK2', 'ARL14EPL', 'F10', 'CTSG', 'ARL14EP', 'ATXN7L1', 'GTF3C3', 'DRAP1', 'GK', 'TAF13', 'ATP6V1D', 'GTF2E2', 'ELP4', 'ATXN7', 'PROC', 'CTDSPL', 'NGFR', 'TIMM17A', 'PHF1', 'CTDSP1', 'HMBS', 'STT3B', 'H1FOO', 'POLR3E', 'NDUFA9', 'HIST1H1C', 'CASP8', 'NR4A1', 'EDF1', 'USP30', 'UBL5', 'USP44', 'USP51', 'ZFP36', 'TIMM44', 'MED6', 'GTF2E1', 'MAF1', 'CDH1', 'PRKCZ', 'TATDN3', 'TAF12', 'CIAO1', 'CBX6', 'TATDN2', 'POLR3D', 'MED21', 'CPOX', 'ARID3B', 'F2', 'CTDP1', 'USP3', 'EXOSC8', 'RFX1', 'USP49', 'TPP2', 'TATDN1', 'SUPT3H', 'TAF6L', 'RTEL1', 'LAS1L', 'CBX3', 'BIRC3', 'USP22', 'HCFC1', 'BRIP1', 'BIRC2', 'LSM7', 'MMS19', 'TEX10', 'CARM1', 'FLNA', 'XIAP', 'NDOR1', 'CDK20', 'MTRR', 'GTF2F2', 'BCL2L1', 'TAF10', 'TCEB1', 'RBBP5', 'TAF6', 'GTF2F1', 'FLNC', 'POR', 'TIMM13', 'ELP2', 'RBL2', 'TADA3', 'TAF5L', 'MSL3', 'BCL2', 'ERCC6L2', 'CTBP1', 'FCF1', 'POLR3F', 'TRMT61B', 'RBL1', 'BTAF1', 'REL', 'DCP2', 'CDK7', 'TRMT61A', 'CCNT1', 'ERCC4', 'POLR3H', 'TAF5', 'DNAJA3', 'SKP2', 'ICT1', 'YME1L1', 'MCMDC2', 'MYBBP1A', 'YEATS2', 'RGPD3', 'BRWD1', 'POLR3K', 'RGPD8', 'RGPD1', 'SMARCD1', 'TENC1', 'RGPD5', 'RPL21', 'SF3A2', 'ERCC2', 'HINT1', 'RGPD6', 'NCOR1', 'KPNA5', 'NOS1', 'TCEA3', 'NOB1', 'KPNA7', 'BAZ1B', 'KPNA6', 'POTEM', 'IKBKAP', 'RGPD2', 'LTV1', 'MORF4L2', 'BAZ2B', 'ERCC6', 'NOS3', 'MCM8', 'NOS2', 'DDX28', 'YEATS4', 'MLLT3', 'RPL36', 'CMPK2'], 276: ['IGF2BP1', 'KDM1B', 'GJA1', 'RBM14', 'MT-ND1', 'LRPPRC', 'GPKOW', 'STRAP', 'AMPD2', 'TBL1Y', 'AMPD3', 'RBMX', 'HNRNPL', 'SFPQ', 'RNPC3', 'SGSM1', 'AMPD1', 'XPOT', 'PPP1R11', 'PHGDH', 'TBC1D9', 'PTBP1', 'HNRNPR', 'RBM39', 'SLU7', 'SATL1', 'ILF3', 'CTBP2', 'GNB1L', 'BCKDHB', 'HNRNPF', 'GOT2', 'RPN2', 'ADA', 'ILF2', 'TBC1D30', 'NUDC', 'CAMK2D', 'PRPF39', 'AANAT', 'TAF5L', 'GRTP1', 'MARS2', 'TBC1D2', 'CTBP1', 'PSMA8', 'TBC1D2B', 'GNPNAT1', 'RBM25', 'SAT1', 'TBL2', 'FBXW11', 'TAF5', 'PDHB', 'POLDIP3', 'GLUD1', 'SUZ12', 'DHX30', 'TOX', 'UQCRC2', 'KPNA5', 'PPIL4', 'POTEB', 'NKPD1', 'SNRNP200', 'POTEG', 'PARP1', 'DHX36', 'ANKRD35', 'SF3A1', 'POTEM', 'CASKIN1', 'POTEC', 'IKBKAP', 'PSMA3', 'SNRPB2', 'LARP1', 'PSMA7', 'DDB1', 'ANKRD24', 'ABTB1', 'DDX47', 'KANK3', 'STAT3', 'FPGT-TNNI3K'], 277: ['PSMD14'], 281: ['FXR2', 'CENPJ', 'EPHX1', 'NCKAP1', 'VCAM1', 'HNF4A', 'SMAD7', 'ADH4', 'SIAH1', 'SLC2A2', 'TSTA3', 'SDR42E2', 'UXS1', 'HMGCR', 'PEBP1', 'F2', 'SDR42E1', 'NSDHL', 'TPP2', 'HSD3B7', 'ATXN1', 'TLE1', 'HSD3B2', 'HSD3B1', 'DMGDH', 'FLNC', 'ARAF', 'HECTD1', 'CLASP1', 'ALDH3A1', 'ALDH1A2', 'PTK2', 'ALDH3A2', 'ALDH2', 'ALDH1B1', 'CCND1', 'ALDH1A1', 'APC', 'NCK1', 'PRPSAP1', 'SMAD4', 'CBS', 'ABCB11'], 282: ['SUZ12'], 284: ['GADL1', 'HDC', 'CSAD', 'SRPRB', 'DDC', 'GAD2', 'GAD1', 'SEC23B', 'NEDD8-MDP1', 'PSMB3', 'NOS1'], 288: ['MLF1', 'MLF2', 'TLN1', 'WDR1', 'SMO', 'ARHGDIB', 'EHBP1L1', 'SPNS1', 'EHBP1', 'TRIP6', 'SPTB', 'SPTBN5', 'SPTBN4', 'VCL', 'TGFB1I1', 'SPTBN2', 'LPXN', 'HIP1', 'HIP1R', 'CTNNA1', 'CANX', 'SPTA1', 'SPTBN1', 'ITGB1', 'CFL2', 'MAPK10', 'MAPRE2', 'SPTAN1', 'PSMD2', 'ACTN4', 'SLMAP'], 290: ['PABPN1', 'RAB5A'], 291: ['HLA-DRB1', 'TBC1D15', 'DHX35'], 292: ['UTP6'], 294: ['NR4A1', 'CDKN1B', 'PRKCZ', 'KDM5A', 'CDKN1A', 'LHX5', 'LHX1', 'SOX2', 'LARP1'], 295: ['HTT', 'CHUK', 'IKBKB', 'RNF7', 'PLCG1', 'MPP6'], 297: ['CAPZA3', 'CAPZA2', 'CAPZA1'], 298: ['GLMN', 'ARRDC2', 'ARRDC3', 'DGCR14', 'TXNIP', 'UBR2', 'SMG6', 'GRINA', 'FAIM2', 'TMBIM1', 'UBR1', 'TMBIM4', 'CLINT1', 'CBX5', 'AHSA2', 'SLBP', 'MRGBP', 'AK5', 'USP25', 'SNRPC', 'CCS', 'SUGT1P3', 'TTC12', 'AHSA1', 'CDK20', 'PUS3', 'STAMBP', 'TTC31', 'NEDD8-MDP1', 'PPIL2', 'TNPO2', 'DENR', 'CWC27', 'EXOSC9', 'PPIL6', 'EXOSC7', 'UBXN11', 'TADA3', 'RPS21', 'PSMD8', 'PSMD11', 'SOD3', 'BTF3', 'PTGES3L-AARSD1', 'PPIL1', 'BTF3L4', 'RECQL', 'KIAA0141', 'CDK7', 'RPS17L', 'TNPO1', 'PTGES3L', 'NACAD', 'DDX11', 'POLDIP3', 'DQX1', 'DHX32', 'NACA2', 'DHX34', 'EXOSC6', 'PPIL3', 'MCMDC2', 'DHX40', 'SNRNP35', 'PABPC4L', 'DHX33', 'RGPD3', 'NACA', 'CSE1L', 'RGPD8', 'RGPD1', 'DHX35', 'RGPD5', 'PABPC5', 'AMFR', 'RGPD6', 'PSMB4', 'DARS', 'PPID', 'EIF5', 'PPIL4', 'NKTR', 'DAZ3', 'PSMD14', 'PSMD13', 'PPIH', 'DHX16', 'DAZ2', 'RBM3', 'RGPD2', 'PSMA3', 'DNAJC2', 'RNF40', 'HBS1L', 'PPIG', 'PSMD7', 'MCM8', 'EXOSC4', 'STIP1', 'DAZ4'], 299: ['GPCPD1', 'AQP3'], 300: ['MAP2', 'SNAP23', 'F2R', 'DDX46', 'TBCD', 'ULK1', 'LSM3', 'ZMAT2', 'CHMP3', 'HTATSF1', 'HIF1A', 'LSM7', 'TAF9', 'NAA38', 'LSM4', 'VBP1', 'ERCC3', 'RAB3IL1', 'DYNLL1', 'TAF6', 'RAB3IP', 'SRRM2', 'TADA3', 'EIF3H', 'RECQL', 'CRNKL1', 'PRC1', 'XAB2', 'NCK1', 'BLM', 'RAB40AL', 'WRN', 'SART1', 'RAB15', 'TENC1', 'MCM9', 'RAB28', 'LSM1', 'LSM2', 'PRPF6', 'LSM10', 'SF3A1', 'LSM6', 'FANCM'], 302: ['MED27', 'MED29', 'NGLY1', 'GRIP1', 'OSBP', 'BIRC6', 'STAT6', 'ILF2', 'LMO3', 'LMO2', 'HIP1', 'HIP1R', 'CTNNA1', 'CTNND1', 'PPP2R2D', 'CSNK1G3', 'SEC13', 'CSNK1G1', 'CCNC', 'ORC5', 'CSNK1G2', 'SUZ12', 'ANXA1', 'ACTR6', 'SUCLA2', 'SUCLG2', 'PARP1', 'PPP2R2C', 'PIP5KL1', 'WBSCR27', 'BMI1', 'PIP4K2C'], 306: ['COX6A2', 'TIMM50', 'EIF4G3', 'CCNH'], 307: ['TENC1']}\n"
     ]
    }
   ],
   "source": [
    "half_query_filepath = directory + \"half_clusters.txt\"\n",
    "print_querylist_of_clusters_to_file(clusters, clusters.get_all_cluster_labels(), half_query_filepath, half_qualifying_proteins)\n",
    "half_fe = get_initialized_fe(background_proteins_filepath, term_mapping_filepath, termlist = background_go_terms)\n",
    "half_fe.importFiles({'query': half_query_filepath })\n",
    "half_fe.run(cluster=False)\n",
    "\n",
    "print(f\"number of functionally enriched clusters after addition of 1/2 proteins: {half_fe.enrichment['Module'].nunique()}\")\n",
    "\n",
    "\n",
    "quarter_query_filepath = directory + \"quarter_clusters.txt\"\n",
    "print_querylist_of_clusters_to_file(clusters, clusters.get_all_cluster_labels(), quarter_query_filepath, quarter_qualifying_proteins)\n",
    "quarter_fe = get_initialized_fe(background_proteins_filepath, term_mapping_filepath, termlist = background_go_terms)\n",
    "quarter_fe.importFiles({'query': quarter_query_filepath })\n",
    "quarter_fe.run(cluster=False)\n",
    "\n",
    "print(f\"number of functionally enriched clusters after addition of 1/4 proteins: {quarter_fe.enrichment['Module'].nunique()}\")\n",
    "\n",
    "\n",
    "tenth_query_filepath = directory + \"tenth_clusters.txt\"\n",
    "print_querylist_of_clusters_to_file(clusters, clusters.get_all_cluster_labels(), tenth_query_filepath, tenth_qualifying_proteins)\n",
    "tenth_fe = get_initialized_fe(background_proteins_filepath, term_mapping_filepath, termlist = background_go_terms)\n",
    "tenth_fe.importFiles({'query': tenth_query_filepath })\n",
    "tenth_fe.run(cluster=False)\n",
    "\n",
    "print(f\"number of functionally enriched clusters after addition of 1/10 proteins: {tenth_fe.enrichment['Module'].nunique()}\")\n",
    "\n",
    "\n",
    "print(half_qualifying_proteins)\n",
    "print(quarter_qualifying_proteins)  \n",
    "print(tenth_qualifying_proteins)\n"
   ]
  },
  {
   "cell_type": "code",
   "execution_count": null,
   "metadata": {},
   "outputs": [],
   "source": []
  }
 ],
 "metadata": {
  "kernelspec": {
   "display_name": "recipe",
   "language": "python",
   "name": "python3"
  },
  "language_info": {
   "codemirror_mode": {
    "name": "ipython",
    "version": 3
   },
   "file_extension": ".py",
   "mimetype": "text/x-python",
   "name": "python",
   "nbconvert_exporter": "python",
   "pygments_lexer": "ipython3",
   "version": "3.10.6"
  },
  "orig_nbformat": 4,
  "vscode": {
   "interpreter": {
    "hash": "62f9e904ff1d4fa6e27f2984f15409dfffcff7468a54928ca0992224464fe58b"
   }
  }
 },
 "nbformat": 4,
 "nbformat_minor": 2
}
