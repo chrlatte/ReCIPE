{
 "cells": [
  {
   "attachments": {},
   "cell_type": "markdown",
   "metadata": {},
   "source": [
    "\n",
    "# d1_ic10_medium\n",
    "- this file is for dream1 data, with medium clusters generated using the ic_10 parameter (spectral clustering)\n",
    "- we consider two different cuttoffs for adding proteins back:\n",
    "1. Squareroot method: a protein must connect at least sqrt(num components) components to qualify for addition to a cluster\n",
    "2. linear method: a protein must connect at least 0.5 * num components componetns to qualify for addition to a cluster\n"
   ]
  },
  {
   "cell_type": "code",
   "execution_count": null,
   "metadata": {},
   "outputs": [],
   "source": [
    "# imports:\n",
    "\n",
    "# standard libraries\n",
    "import numpy as np\n",
    "import pandas as pd\n",
    "import matplotlib.pyplot as plt\n",
    "# library used for functional enrichment analysis\n",
    "from func_e.FUNC_E import FUNC_E  # a method that can do funtional enrichment analysis!\n",
    "import func_e.vocabs.all as vocabs\n",
    "# following code is necessary as some functions used in the funcE class produce future warnings but i can't fix it as it is not my code\n",
    "import warnings\n",
    "warnings.simplefilter(action='ignore', category=FutureWarning)\n",
    "\n",
    "# importing the custom classes i built\n",
    "from matrix_class import ProteinMatrix # ppi matrix \n",
    "from cluster_class import AllClusters # dictionary to hold all clusters (in form number of cluster : list of proteins in that cluster)\n",
    "from degreelist_class import DegreeList # creates a list of all proteins in order of their degree\n",
    "\n",
    "# helper functions for setting up program\n",
    "from recipe_utils import initialize_matrix_clusters_degreelist\n",
    "from recipe_utils import find_clusters_and_proteins_together\n",
    "\n",
    "# helper functions for functional enrichment\n",
    "from recipe_utils import print_querylist_of_clusters_to_file\n",
    "from recipe_utils import print_protein_background_to_file\n",
    "from recipe_utils import create_term_mapping_list\n",
    "from recipe_utils import get_initialized_fe"
   ]
  },
  {
   "attachments": {},
   "cell_type": "markdown",
   "metadata": {},
   "source": [
    " **must change filenames:**"
   ]
  },
  {
   "cell_type": "code",
   "execution_count": null,
   "metadata": {},
   "outputs": [],
   "source": [
    "interactions_file = \"data/interactions/1_ppi_string_v2.txt\"\n",
    "clusters_file = \"data/d1_ic10_medium/dream1_medium-cluster.json\""
   ]
  },
  {
   "cell_type": "code",
   "execution_count": null,
   "metadata": {},
   "outputs": [],
   "source": [
    "matrix, clusters, degreelist = initialize_matrix_clusters_degreelist(interactions_filepath=interactions_file, clusters_filepath=clusters_file)"
   ]
  },
  {
   "cell_type": "code",
   "execution_count": null,
   "metadata": {},
   "outputs": [],
   "source": [
    "linear_qualifying_clusters, linear_qualifying_proteins = find_clusters_and_proteins_together(matrix, clusters, degreelist, cluster_ratio=0, cluster_constant=2,use_sqrt=False, protein_ratio=.5, protein_constant=0)"
   ]
  },
  {
   "cell_type": "code",
   "execution_count": null,
   "metadata": {},
   "outputs": [],
   "source": [
    "sqrt_qualifying_clusters, sqrt_qualifying_proteins = find_clusters_and_proteins_together(matrix, clusters, degreelist, cluster_ratio=0, cluster_constant=2,use_sqrt=True, protein_ratio=1, protein_constant=0)"
   ]
  },
  {
   "cell_type": "code",
   "execution_count": null,
   "metadata": {},
   "outputs": [],
   "source": [
    "three_sqrt_qualifying_proteins = dict()\n",
    "for key in sqrt_qualifying_proteins:\n",
    "    three_sqrt_qualifying_proteins[key] = sqrt_qualifying_proteins[key][0:3]"
   ]
  },
  {
   "cell_type": "code",
   "execution_count": 1,
   "metadata": {},
   "outputs": [],
   "source": [
    "from recipe_utils import get_cluster_connectivity"
   ]
  },
  {
   "cell_type": "code",
   "execution_count": null,
   "metadata": {},
   "outputs": [],
   "source": [
    "sorted_cluster_connectivity = get_cluster_connectivity(matrix, degreelist, clusters, sorted=True)\n",
    "sorted_cluster_connectivity"
   ]
  },
  {
   "attachments": {},
   "cell_type": "markdown",
   "metadata": {},
   "source": [
    "*may want to change parameters below:*"
   ]
  },
  {
   "cell_type": "code",
   "execution_count": null,
   "metadata": {},
   "outputs": [],
   "source": []
  },
  {
   "cell_type": "code",
   "execution_count": null,
   "metadata": {},
   "outputs": [],
   "source": [
    "# ## TODO: could modify so that original function can do cluster connectivity AND cluster connectivity based on if the user specifies an the added_proteins parameter\n",
    "# def get_updated_cluster_connectivity(\n",
    "#     matrix:ProteinMatrix,\n",
    "#     degreelist:DegreeList,\n",
    "#     clusters:AllClusters,\n",
    "#     added_proteins:dict\n",
    "# ):\n",
    "#     proteins = matrix.get_list_of_proteins()\n",
    "#     degree_dict = dict(degreelist.sorted_protein_degree_dict)\n",
    "#     matrix_df = matrix.get_matrix()\n",
    "#     cluster_connectivity = {}\n",
    "\n",
    "#     for cluster_num in clusters.get_all_cluster_labels():\n",
    "#         # get all the proteins associated to a cluster\n",
    "#         cluster_proteins = clusters.get_cluster_proteins(cluster_num)\n",
    "#         added_cluster_proteins = [] if cluster_num not in added_proteins else added_proteins[cluster_num]\n",
    "#         # get the list of potential proteins to add to cluster \n",
    "#         submatrix = SubMatrix(list(set(cluster_proteins + added_cluster_proteins)), matrix)\n",
    "#         components_and_labels = submatrix.get_num_components_and_labels()\n",
    "#         num_components = components_and_labels[0]\n",
    "#         # current ratio of clusters to proteins\n",
    "#         num_proteins = len(cluster_proteins)\n",
    "#         percent_connectivity = (num_proteins - num_components)/num_proteins\n",
    "#         cluster_connectivity[cluster_num] = percent_connectivity\n",
    "#     return cluster_connectivity\n",
    "\n",
    "\n",
    "\n",
    "# first things to look at would be either: clusters initially 0, OR clusters w/ most improvement"
   ]
  },
  {
   "cell_type": "code",
   "execution_count": null,
   "metadata": {},
   "outputs": [],
   "source": []
  },
  {
   "cell_type": "code",
   "execution_count": null,
   "metadata": {},
   "outputs": [],
   "source": [
    "# sqrt_cluster_connectivity = get_updated_cluster_connectivity(matrix, degreelist, clusters, sqrt_qualifying_proteins)\n",
    "# sqrt_sorted_cluster_connectivity = {k: v for k, v in sorted(sqrt_cluster_connectivity.items(), key=lambda item: item[1])}\n",
    "# sqrt_sorted_cluster_connectivity\n",
    "\n",
    "three_sqrt_cluster_connectivity = get_updated_cluster_connectivity(matrix, degreelist, clusters, three_sqrt_qualifying_proteins)\n",
    "three_sqrt_cluster_connectivity = {k: v for k, v in sorted(three_sqrt_cluster_connectivity.items(), key=lambda item: item[1])}\n",
    "three_sqrt_cluster_connectivity"
   ]
  },
  {
   "cell_type": "code",
   "execution_count": null,
   "metadata": {},
   "outputs": [],
   "source": [
    "# difference_in_connectivity = {x: sqrt_cluster_connectivity[x] - cluster_connectivity[x] for x in cluster_connectivity if x in sqrt_cluster_connectivity}\n",
    "# sorted_difference_in_connectivity = {k: v for k, v in sorted(difference_in_connectivity.items(), key=lambda item: item[1], reverse=True)}\n",
    "\n",
    "# x = 53\n",
    "# print(\"before:\")\n",
    "# print(cluster_connectivity[x])\n",
    "# print(\"after:\")\n",
    "# print(sqrt_cluster_connectivity[x])\n",
    "\n",
    "# sorted_difference_in_connectivity\n",
    "\n",
    "\n",
    "three_difference_in_connectivity = {x: three_sqrt_cluster_connectivity[x] - cluster_connectivity[x] for x in cluster_connectivity if x in three_sqrt_cluster_connectivity}\n",
    "three_sorted_difference_in_connectivity = {k: v for k, v in sorted(three_difference_in_connectivity.items(), key=lambda item: item[1], reverse=True)}\n",
    "\n",
    "\n",
    "\n",
    "three_sorted_difference_in_connectivity\n",
    "\n",
    "\n",
    "\n",
    "\n"
   ]
  },
  {
   "cell_type": "code",
   "execution_count": null,
   "metadata": {},
   "outputs": [],
   "source": [
    "print(three_sqrt_qualifying_proteins[53])\n",
    "\n"
   ]
  },
  {
   "cell_type": "code",
   "execution_count": null,
   "metadata": {},
   "outputs": [],
   "source": [
    "DegreeList.get_degree_of_protein(degreelist, \"KLHL20\")"
   ]
  },
  {
   "cell_type": "code",
   "execution_count": null,
   "metadata": {},
   "outputs": [],
   "source": []
  },
  {
   "cell_type": "code",
   "execution_count": null,
   "metadata": {},
   "outputs": [],
   "source": []
  },
  {
   "cell_type": "code",
   "execution_count": null,
   "metadata": {},
   "outputs": [],
   "source": []
  },
  {
   "cell_type": "code",
   "execution_count": null,
   "metadata": {},
   "outputs": [],
   "source": []
  },
  {
   "cell_type": "code",
   "execution_count": null,
   "metadata": {},
   "outputs": [],
   "source": []
  },
  {
   "cell_type": "code",
   "execution_count": null,
   "metadata": {},
   "outputs": [],
   "source": []
  },
  {
   "cell_type": "code",
   "execution_count": null,
   "metadata": {},
   "outputs": [],
   "source": []
  },
  {
   "cell_type": "code",
   "execution_count": null,
   "metadata": {},
   "outputs": [],
   "source": []
  },
  {
   "cell_type": "code",
   "execution_count": null,
   "metadata": {},
   "outputs": [],
   "source": []
  },
  {
   "cell_type": "code",
   "execution_count": null,
   "metadata": {},
   "outputs": [],
   "source": [
    "sqrt_qualifying_proteins"
   ]
  },
  {
   "cell_type": "code",
   "execution_count": null,
   "metadata": {},
   "outputs": [],
   "source": [
    "linear_qualifying_proteins"
   ]
  },
  {
   "attachments": {},
   "cell_type": "markdown",
   "metadata": {},
   "source": [
    "## Functional Enrichment Analysis"
   ]
  },
  {
   "cell_type": "code",
   "execution_count": null,
   "metadata": {},
   "outputs": [],
   "source": [
    "# create_term_mapping_list(\"data/go_labels/dream1_go.tsv\", \"data/go_labels/d1_term_mapping.tsv\")\n",
    "# create_term_mapping_list(\"data/go_labels/dream2_go.tsv\", \"data/go_labels/d2_term_mapping.tsv\")\n",
    "# create_term_mapping_list(\"data/go_labels/dream3_go.tsv\", \"data/go_labels/d3_term_mapping.tsv\")"
   ]
  },
  {
   "attachments": {},
   "cell_type": "markdown",
   "metadata": {},
   "source": [
    "**will need to change below**"
   ]
  },
  {
   "cell_type": "code",
   "execution_count": null,
   "metadata": {},
   "outputs": [],
   "source": [
    "directory = \"data/d1_ic10_medium/\""
   ]
  },
  {
   "cell_type": "code",
   "execution_count": null,
   "metadata": {},
   "outputs": [],
   "source": [
    "background_proteins_filepath = directory + \"background_proteinlist.txt\"\n",
    "og_query_filepath = directory + \"original_clusters.txt\"\n",
    "sqrt_query_filepath = directory + \"sqrt_clusters.txt\"\n",
    "linear_query_filepath = directory + \"linear_clusters.txt\""
   ]
  },
  {
   "attachments": {},
   "cell_type": "markdown",
   "metadata": {},
   "source": [
    "*print to files*"
   ]
  },
  {
   "cell_type": "code",
   "execution_count": null,
   "metadata": {},
   "outputs": [],
   "source": [
    "# use functions to print info to files: (annoying, but need to get info into format used for funcE package)\n",
    "# 1) a background protein list to be used for functional enrichment analysis\n",
    "print_protein_background_to_file(matrix, background_proteins_filepath) \n",
    "# 3) not a file, but need to establish a background of all GO terms! (to be used for functional enrichment analysis)\n",
    "background_go_terms = vocabs.getTerms(['GO'])\n",
    "\n",
    "# continue printing info to files to be used in functional enrichment analysis:\n",
    "# 4) print original clusters to a file\n",
    "print_querylist_of_clusters_to_file(clusters, clusters.get_all_cluster_labels(), og_query_filepath)\n",
    "# 5) print updated clusters to a file (just append the function to include the dictionary of qualifying proteins)\n",
    "print_querylist_of_clusters_to_file(clusters, clusters.get_all_cluster_labels(), sqrt_query_filepath, sqrt_qualifying_proteins)\n",
    "print_querylist_of_clusters_to_file(clusters, clusters.get_all_cluster_labels(), linear_query_filepath, linear_qualifying_proteins)"
   ]
  },
  {
   "attachments": {},
   "cell_type": "markdown",
   "metadata": {},
   "source": [
    "*print to files*"
   ]
  },
  {
   "cell_type": "code",
   "execution_count": null,
   "metadata": {},
   "outputs": [],
   "source": [
    "original_fe = get_initialized_fe(background_proteins_filepath, term_mapping_filepath, termlist = background_go_terms)\n",
    "original_fe.importFiles({'query': og_query_filepath })\n",
    "original_fe.run(cluster=False)\n",
    "\n",
    "sqrt_fe_all_proteins = get_initialized_fe(background_proteins_filepath, term_mapping_filepath, termlist = background_go_terms)\n",
    "sqrt_fe_all_proteins.importFiles({'query': sqrt_query_filepath })\n",
    "sqrt_fe_all_proteins.run(cluster=False)\n",
    "\n",
    "linear_fe_all_proteins = get_initialized_fe(background_proteins_filepath, term_mapping_filepath, termlist = background_go_terms)\n",
    "linear_fe_all_proteins.importFiles({'query': linear_query_filepath })\n",
    "linear_fe_all_proteins.run(cluster=False)"
   ]
  },
  {
   "cell_type": "code",
   "execution_count": null,
   "metadata": {},
   "outputs": [],
   "source": [
    "print(f\"::::::::::::::::::::::::::SQRT::::::::::::::::::::::::::\\n\")\n",
    "# print data by the numbers!\n",
    "print(f\"number of clusters that were updated with proteins: {len(sqrt_qualifying_proteins.keys())}\\n\")\n",
    "\n",
    "# clusters that are functionally enriched\n",
    "print(f\"number of functionally enriched clusters (modules) out of {clusters.get_num_clusters()} original clusters: {original_fe.enrichment['Module'].nunique()}\")\n",
    "print(f\"number of functionally enriched clusters after addition of all proteins: {sqrt_fe_all_proteins.enrichment['Module'].nunique()}\")\n",
    "print(f\"\")\n",
    "\n",
    "\n",
    "#significant P-values!!!\n",
    "print(f\"number of significant pvals in original clusters before updating: {original_fe.enrichment['Fishers_pvalue'].count()}\")\n",
    "print(f\"number of significant pvals in clusters with all proteins added: {sqrt_fe_all_proteins.enrichment['Fishers_pvalue'].count()}\")\n",
    "\n",
    "\n",
    "print(f\"\")\n",
    "print(f\"\")"
   ]
  },
  {
   "cell_type": "code",
   "execution_count": null,
   "metadata": {},
   "outputs": [],
   "source": [
    "print(f\"::::::::::::::::::::::::::LINEAR::::::::::::::::::::::::::\\n\")\n",
    "# print data by the numbers!\n",
    "print(f\"number of clusters that were updated with proteins: {len(linear_qualifying_proteins.keys())}\\n\")\n",
    "\n",
    "# clusters that are functionally enriched\n",
    "print(f\"number of functionally enriched clusters (modules) out of {clusters.get_num_clusters()} original clusters: {original_fe.enrichment['Module'].nunique()}\")\n",
    "print(f\"number of functionally enriched clusters after addition of all proteins: {linear_fe_all_proteins.enrichment['Module'].nunique()}\")\n",
    "print(f\"\")\n",
    "\n",
    "# significant P-values!!!\n",
    "print(f\"number of significant pvals in original clusters before updating: {original_fe.enrichment['Fishers_pvalue'].count()}\")\n",
    "print(f\"number of significant pvals in clusters with all proteins added: {linear_fe_all_proteins.enrichment['Fishers_pvalue'].count()}\")"
   ]
  },
  {
   "cell_type": "code",
   "execution_count": null,
   "metadata": {},
   "outputs": [],
   "source": []
  },
  {
   "cell_type": "code",
   "execution_count": null,
   "metadata": {},
   "outputs": [],
   "source": []
  }
 ],
 "metadata": {
  "kernelspec": {
   "display_name": "recipe",
   "language": "python",
   "name": "python3"
  },
  "language_info": {
   "codemirror_mode": {
    "name": "ipython",
    "version": 3
   },
   "file_extension": ".py",
   "mimetype": "text/x-python",
   "name": "python",
   "nbconvert_exporter": "python",
   "pygments_lexer": "ipython3",
   "version": "3.10.6"
  },
  "orig_nbformat": 4,
  "vscode": {
   "interpreter": {
    "hash": "62f9e904ff1d4fa6e27f2984f15409dfffcff7468a54928ca0992224464fe58b"
   }
  }
 },
 "nbformat": 4,
 "nbformat_minor": 2
}
