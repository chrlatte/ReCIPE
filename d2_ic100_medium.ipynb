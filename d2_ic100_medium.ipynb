{
 "cells": [
  {
   "attachments": {},
   "cell_type": "markdown",
   "metadata": {},
   "source": [
    "d2_ic100_medium"
   ]
  },
  {
   "attachments": {},
   "cell_type": "markdown",
   "metadata": {},
   "source": []
  },
  {
   "cell_type": "code",
   "execution_count": 1,
   "metadata": {},
   "outputs": [],
   "source": [
    "# imports:\n",
    "\n",
    "# standard libraries\n",
    "import numpy as np\n",
    "import pandas as pd\n",
    "import matplotlib.pyplot as plt\n",
    "# library used for functional enrichment analysis\n",
    "from func_e.FUNC_E import FUNC_E  # a method that can do funtional enrichment analysis!\n",
    "import func_e.vocabs.all as vocabs\n",
    "# following code is necessary as some functions used in the funcE class produce future warnings but i can't fix it as it is not my code\n",
    "import warnings\n",
    "warnings.simplefilter(action='ignore', category=FutureWarning)\n",
    "\n",
    "# importing the custom classes i built\n",
    "from matrix_class import ProteinMatrix # ppi matrix \n",
    "from cluster_class import AllClusters # dictionary to hold all clusters (in form number of cluster : list of proteins in that cluster)\n",
    "from degreelist_class import DegreeList # creates a list of all proteins in order of their degree\n",
    "\n",
    "# helper functions for setting up program\n",
    "from recipe_utils import initialize_matrix_clusters_degreelist\n",
    "from recipe_utils import find_clusters_and_proteins_together\n",
    "\n",
    "# helper functions for functional enrichment\n",
    "from recipe_utils import print_querylist_of_clusters_to_file\n",
    "from recipe_utils import print_protein_background_to_file\n",
    "from recipe_utils import create_term_mapping_list\n",
    "from recipe_utils import get_initialized_fe"
   ]
  },
  {
   "attachments": {},
   "cell_type": "markdown",
   "metadata": {},
   "source": [
    " **must change filenames:**"
   ]
  },
  {
   "cell_type": "code",
   "execution_count": 2,
   "metadata": {},
   "outputs": [],
   "source": [
    "interactions_file = \"data/interactions/2_ppi_inweb_v2.txt\"\n",
    "clusters_file = \"data/d2_ic100_medium/d2_ic100_medium.json\""
   ]
  },
  {
   "cell_type": "code",
   "execution_count": 3,
   "metadata": {},
   "outputs": [],
   "source": [
    "matrix, clusters, degreelist = initialize_matrix_clusters_degreelist(interactions_filepath=interactions_file, clusters_filepath=clusters_file)"
   ]
  },
  {
   "attachments": {},
   "cell_type": "markdown",
   "metadata": {},
   "source": [
    "*may want to change parameters below:*"
   ]
  },
  {
   "cell_type": "code",
   "execution_count": 4,
   "metadata": {},
   "outputs": [],
   "source": [
    "sqrt_qualifying_clusters, sqrt_qualifying_proteins = find_clusters_and_proteins_together(matrix, clusters, degreelist, cluster_ratio=0, cluster_constant=2, use_sqrt=True, protein_ratio=1, protein_constant=0)"
   ]
  },
  {
   "cell_type": "code",
   "execution_count": 5,
   "metadata": {},
   "outputs": [
    {
     "data": {
      "text/plain": [
       "{}"
      ]
     },
     "execution_count": 5,
     "metadata": {},
     "output_type": "execute_result"
    }
   ],
   "source": [
    "sqrt_qualifying_proteins"
   ]
  },
  {
   "cell_type": "code",
   "execution_count": 6,
   "metadata": {},
   "outputs": [],
   "source": [
    "# from recipe_utils import top_n_proteins\n",
    "\n",
    "# three_qualifying_proteins = top_n_proteins(sqrt_qualifying_proteins, n=3) \n",
    "# three_qualifying_proteins"
   ]
  },
  {
   "cell_type": "code",
   "execution_count": 7,
   "metadata": {},
   "outputs": [],
   "source": [
    "# from recipe_utils import get_cluster_connectivity\n",
    "\n",
    "# original_cluster_connectivity = get_cluster_connectivity(matrix, degreelist, clusters, {}, sort_it=False)\n",
    "# new_cluster_connectivity = get_cluster_connectivity(matrix, degreelist, clusters, added_proteins=sqrt_qualifying_proteins, sort_it=False)\n",
    "\n",
    "# from recipe_utils import calculate_connectivity_difference\n",
    "\n",
    "# difference = calculate_connectivity_difference(original_cluster_connectivity, new_cluster_connectivity, sort_it=True)\n",
    "# difference"
   ]
  },
  {
   "cell_type": "code",
   "execution_count": null,
   "metadata": {},
   "outputs": [],
   "source": []
  },
  {
   "attachments": {},
   "cell_type": "markdown",
   "metadata": {},
   "source": [
    "### Functional Enrichment Analysis"
   ]
  },
  {
   "cell_type": "code",
   "execution_count": 8,
   "metadata": {},
   "outputs": [],
   "source": [
    "# create_term_mapping_list(\"data/go_labels/dream3_go.tsv\", \"data/go_labels/d3_term_mapping.tsv\")"
   ]
  },
  {
   "attachments": {},
   "cell_type": "markdown",
   "metadata": {},
   "source": [
    "**will need to the directory below**"
   ]
  },
  {
   "cell_type": "code",
   "execution_count": 9,
   "metadata": {},
   "outputs": [],
   "source": [
    "directory = \"data/d2_ic100_medium/\"\n",
    "term_mapping_filepath = \"data/go_labels/d2_term_mapping.tsv\""
   ]
  },
  {
   "cell_type": "code",
   "execution_count": 10,
   "metadata": {},
   "outputs": [],
   "source": [
    "background_proteins_filepath = directory + \"background_proteinlist.txt\"\n",
    "og_query_filepath = directory + \"original_clusters.txt\"\n",
    "sqrt_query_filepath = directory + \"sqrt_clusters.txt\"\n",
    "# three_query_filepath = directory + \"three_prot_clusters.txt\""
   ]
  },
  {
   "attachments": {},
   "cell_type": "markdown",
   "metadata": {},
   "source": [
    "*print to files*"
   ]
  },
  {
   "cell_type": "code",
   "execution_count": 11,
   "metadata": {},
   "outputs": [],
   "source": [
    "# use functions to print info to files: (annoying, but need to get info into format used for funcE package)\n",
    "# 1) a background protein list to be used for functional enrichment analysis\n",
    "print_protein_background_to_file(matrix, background_proteins_filepath) \n",
    "# 3) not a file, but need to establish a background of all GO terms! (to be used for functional enrichment analysis)\n",
    "background_go_terms = vocabs.getTerms(['GO'])\n",
    "\n",
    "# continue printing info to files to be used in functional enrichment analysis:\n",
    "# 4) print original clusters to a file\n",
    "print_querylist_of_clusters_to_file(clusters, clusters.get_all_cluster_labels(), og_query_filepath)\n",
    "# 5) print updated clusters to a file (just append the function to include the dictionary of qualifying proteins)\n",
    "print_querylist_of_clusters_to_file(clusters, clusters.get_all_cluster_labels(), sqrt_query_filepath, sqrt_qualifying_proteins)\n",
    "# print_querylist_of_clusters_to_file(clusters, clusters.get_all_cluster_labels(), three_query_filepath, three_qualifying_proteins)"
   ]
  },
  {
   "attachments": {},
   "cell_type": "markdown",
   "metadata": {},
   "source": [
    "*RUN Functional Enrichment:*"
   ]
  },
  {
   "cell_type": "code",
   "execution_count": 12,
   "metadata": {},
   "outputs": [],
   "source": [
    "original_fe = get_initialized_fe(background_proteins_filepath, term_mapping_filepath, termlist = background_go_terms)\n",
    "original_fe.importFiles({'query': og_query_filepath })\n",
    "original_fe.run(cluster=False)\n",
    "\n",
    "sqrt_fe = get_initialized_fe(background_proteins_filepath, term_mapping_filepath, termlist = background_go_terms)\n",
    "sqrt_fe.importFiles({'query': sqrt_query_filepath })\n",
    "sqrt_fe.run(cluster=False)\n",
    "\n",
    "# three_fe = get_initialized_fe(background_proteins_filepath, term_mapping_filepath, termlist = background_go_terms)\n",
    "# three_fe.importFiles({'query': three_query_filepath })\n",
    "# three_fe.run(cluster=False)"
   ]
  },
  {
   "attachments": {},
   "cell_type": "markdown",
   "metadata": {},
   "source": []
  },
  {
   "cell_type": "code",
   "execution_count": 13,
   "metadata": {},
   "outputs": [
    {
     "name": "stdout",
     "output_type": "stream",
     "text": [
      "::::::::::::::::::::::::::SQRT::::::::::::::::::::::::::\n",
      "\n",
      "number of clusters that were updated with proteins: 0\n",
      "\n",
      "number of functionally enriched clusters (modules) out of 209 original clusters: 201\n",
      "number of functionally enriched clusters after addition of all proteins: 201\n",
      "\n",
      "number of significant pvals in original clusters before updating: 898\n",
      "number of significant pvals in clusters with all proteins added: 898\n",
      "\n",
      "\n"
     ]
    }
   ],
   "source": [
    "print(f\"::::::::::::::::::::::::::SQRT::::::::::::::::::::::::::\\n\")\n",
    "# print data by the numbers!\n",
    "print(f\"number of clusters that were updated with proteins: {len(sqrt_qualifying_proteins.keys())}\\n\")\n",
    "\n",
    "# clusters that are functionally enriched\n",
    "print(f\"number of functionally enriched clusters (modules) out of {clusters.get_num_clusters()} original clusters: {original_fe.enrichment['Module'].nunique()}\")\n",
    "print(f\"number of functionally enriched clusters after addition of all proteins: {sqrt_fe.enrichment['Module'].nunique()}\")\n",
    "print(f\"\")\n",
    "\n",
    "\n",
    "#significant P-values!!!\n",
    "print(f\"number of significant pvals in original clusters before updating: {original_fe.enrichment['Fishers_pvalue'].count()}\")\n",
    "print(f\"number of significant pvals in clusters with all proteins added: {sqrt_fe.enrichment['Fishers_pvalue'].count()}\")\n",
    "\n",
    "\n",
    "print(f\"\")\n",
    "print(f\"\")"
   ]
  },
  {
   "cell_type": "code",
   "execution_count": 14,
   "metadata": {},
   "outputs": [
    {
     "name": "stdout",
     "output_type": "stream",
     "text": [
      "number of functionally enriched clusters after addition of 3 proteins: 201\n"
     ]
    }
   ],
   "source": [
    "from recipe_utils import top_n_proteins\n",
    "three_sqrt_qualifying_proteins = top_n_proteins(sqrt_qualifying_proteins, n=3)\n",
    "three_sqrt_query_filepath = directory + \"three_prot_clusters.txt\"\n",
    "print_querylist_of_clusters_to_file(clusters, clusters.get_all_cluster_labels(), three_sqrt_query_filepath, three_sqrt_qualifying_proteins)\n",
    "sqrt_three_fe = get_initialized_fe(background_proteins_filepath, term_mapping_filepath, termlist = background_go_terms)\n",
    "sqrt_three_fe.importFiles({'query': three_sqrt_query_filepath })\n",
    "sqrt_three_fe.run(cluster=False)\n",
    "print(f\"number of functionally enriched clusters after addition of 3 proteins: {sqrt_three_fe.enrichment['Module'].nunique()}\")\n"
   ]
  },
  {
   "cell_type": "code",
   "execution_count": 15,
   "metadata": {},
   "outputs": [],
   "source": [
    "half_qualifying_clusters, half_qualifying_proteins = find_clusters_and_proteins_together(matrix, clusters, degreelist, cluster_ratio=0, cluster_constant=2, use_sqrt=False, protein_ratio=.50, protein_constant=0)\n",
    "quarter_qualifying_clusters, quarter_qualifying_proteins = find_clusters_and_proteins_together(matrix, clusters, degreelist, cluster_ratio=0, cluster_constant=2, use_sqrt=False, protein_ratio=.25, protein_constant=0)\n",
    "tenth_qualifying_clusters, tenth_qualifying_proteins = find_clusters_and_proteins_together(matrix, clusters, degreelist, cluster_ratio=0, cluster_constant=2, use_sqrt=False, protein_ratio=.10, protein_constant=0)\n"
   ]
  },
  {
   "cell_type": "code",
   "execution_count": 16,
   "metadata": {},
   "outputs": [
    {
     "name": "stdout",
     "output_type": "stream",
     "text": [
      "number of functionally enriched clusters after addition of 1/2 proteins: 201\n",
      "number of functionally enriched clusters after addition of 1/4 proteins: 201\n",
      "number of functionally enriched clusters after addition of 1/10 proteins: 202\n",
      "{}\n",
      "{}\n",
      "{0: ['SPRY2', 'RAB1A', 'TNFRSF14', 'VHL', 'SNRPA', 'KARS', 'SF3B4', 'CHEK2', 'NCBP2', 'RAB6C', 'CSNK1A1', 'PRKAB1', 'SLC25A6', 'MTHFD1', 'MARS', 'KPNA5', 'PCNA', 'TRAF6', 'KPNA6', 'IMPDH1', 'SLC25A5', 'RPS10', 'HNRPD', 'PRPF6', 'HADHB', 'EIF4E'], 4: ['PIN1'], 10: ['YES1'], 11: ['PRKACA'], 13: ['STX1A', 'CREBBP'], 15: ['RPL26L1', 'BYSL', 'RPL15P3', 'CCNH', 'MYBBP1A', 'HIST1H2AH', 'HIST1H2AC'], 17: ['CTNNB1'], 21: ['CCDC85B', 'KRI1', 'EIF5AP1', 'ATR', 'ACTA1', 'EIF4G3', 'YES1'], 23: ['EIF6'], 27: ['SART1'], 28: ['PDPK1'], 33: ['WAS'], 35: ['HRNR', 'PSMB4', 'TOP2A', 'OLA1'], 42: ['UBE2D3', 'MRPS16', 'BRCA1', 'CREBBP', 'TNK2', 'SMARCD1', 'KRR1', 'EIF3E', 'PTK2', 'IKBKE', 'CDK2', 'SLC25A5'], 43: ['MYC'], 45: ['GPI', 'CDC14A', 'RRM2', 'SH3GL2', 'POLR3C', 'SUPT6H', 'DXO', 'DOM3Z', 'SOD1', 'UBE1', 'DNM2', 'PPIF', 'HRNR', 'POLR2K', 'HLA-B', 'PPA1', 'TPM1', 'VDAC3', 'MAP2K2', 'AURKA', 'ACACB', 'HDLBP', 'ACTA1', 'POLR2H', 'POLR2F', 'POLR2L', 'PFKP', 'PPP6C', 'PPP1CB', 'OLA1', 'SPDYA', 'YES1', 'KIAA0664'], 46: ['MED6', 'CAPN1', 'PIK3R1'], 49: ['RANP1'], 54: ['KRT1'], 61: ['MMS19'], 62: ['FADD', 'MDFI', 'PIAS1', 'CAMK2G', 'LCK', 'EP300', 'CDK4', 'ERH', 'VPS35', 'TGFBR1', 'PPM1B', 'CTNNB1', 'TUBA1C', 'CLTB', 'MAPK14', 'MOBKL1B', 'KPNA6', 'MAPK3'], 67: ['SEL1L', 'THEX1', 'CAV2', 'REV3L', 'PMS2CL', 'PMS2', 'CCDC94', 'ELP3', 'BTRC', 'UBE2B', 'WDHD1', 'PC', 'RAP1A', 'UBE2A', 'PIAS2', 'CASP7', 'XAB2', 'MTA1', 'RAB5A', 'GNAI3', 'PSAT1', 'GPI', 'GNAI1', 'ACTR3B', 'UBE2V2', 'SETDB1', 'FZR1', 'GTF2H1', 'SNRPE', 'OGDH', 'WDR5', 'SMAD4', 'NFKB1', 'NACAP1', 'SNRPF', 'CAV1', 'RAD23B', 'ERBB2', 'NFKB2', 'EPHA2', 'EPB41L3', 'RAD50', 'GRAP', 'SNRPG', 'SOD1', 'PRPF31', 'TNFRSF1A', 'SUMO4', 'PLCG1', 'LARS', 'AHCY', 'PELO', 'AASS', 'PPIF', 'GCDH', 'MOGS', 'ALDH18A1', 'WDR68', 'PXN', 'TTC27', 'SUPT3H', 'KARS', 'CUL5', 'SNRPD3', 'ABCF3', 'SLC25A11', 'DARS', 'MSH3', 'DPM1', 'RANBP5', 'GTF2F2', 'SQRDL', 'SPTLC1', 'ERH', 'CAPN1', 'SEC61A1', 'TAF9', 'GANAB', 'CUL1', 'PRPF3', 'PRKAA2', 'ANXA6', 'SOS1', 'PSMD11', 'SMARCD1', 'PSME4', 'TARS', 'DLSTP', 'XPOT', 'SMARCB1', 'ERCC3', 'ACTN2', 'IKBKAP', 'PSMA5', 'MSH6', 'PSMB4', 'SUCLG1', 'BCR', 'ATR', 'G3BP1', 'PLS3', 'IGF2BP2', 'GTF3C3', 'MSH2', 'IRS4', 'PSMB3', 'PSMB1', 'PRMT1', 'PSMA2', 'PRPF8', 'HIST1H2BD', 'H2BFS', 'ATP2A2', 'HIST2H2BA', 'HIST1H2BJ', 'MAP3K1', 'HIST3H2BB', 'HIST1H2BB', 'LOC440926', 'H3F3B', 'PSMB5', 'MAP3K3', 'PSMA1', 'NDUFS1', 'TRAF6', 'ACTR3', 'DDB1', 'PSMA3', 'HIST1H2BM', 'EEF1A2', 'RBBP7', 'PSMC1', 'CCT5', 'RPN2', 'HIST2H2BF', 'DNAJA3', 'PSMC6', 'CCT2', 'RPS26P8', 'RPS26P10', 'TOP2A', 'COPG', 'PPP1CB', 'IDH3A', 'PSMD3', 'RPA1', 'CCT8', 'SLC25A3', 'PTK2B', 'OAT', 'SPDYA', 'SMARCC2', 'PRPF6', 'YES1', 'MMS19', 'RPS26', 'TOP1', 'HADHB', 'DDX1', 'CCT4', 'HIST1H2AH', 'HIST1H2AC', 'EIF4E'], 69: ['NOL1', 'KPNA5', 'TAF6', 'KPNA6', 'LARP2', 'NAT10'], 71: ['CPNE1'], 76: ['ABL1'], 78: ['SMARCC2'], 80: ['GNAI3', 'GNAI1', 'GNAI2', 'IRS4', 'LMO7'], 82: ['LCK', 'RELA', 'TP53', 'LYN', 'PSMA5', 'MAPK14', 'EPRS', 'IMPDH1', 'OLA1', 'CTPS', 'OAT', 'HIST1H2AH', 'HIST1H2AC'], 83: ['PABPC4', 'WEE1'], 86: ['VHL', 'HLA-B', 'PRKAB1', 'MAP3K1', 'TRAF6', 'IKBKE'], 95: ['CSK'], 97: ['COPA'], 98: ['RAD52', 'CHEK2', 'IDH3A'], 99: ['CAMK2A', 'MAPK3'], 101: ['TP53'], 102: ['VHL'], 107: ['SETDB1', 'PLAA', 'NET1', 'STXBP2', 'DNAJB1', 'DEPDC5', 'COPB1', 'RRP1B', 'PHLPPL', 'SF3B4', 'NCOR1', 'VDAC3', 'BMP2K', 'SSR4', 'COPB2', 'COPA', 'SMARCC2', 'SMARCA4'], 110: ['TRAF6'], 111: ['UBE2G2'], 114: ['MPHOSPH10', 'HTATIP', 'MNAT1', 'HIST2H3A', 'HIST1H3H', 'NOL6', 'NAT10'], 115: ['TRAF6', 'SMARCA4'], 116: ['C20orf4', 'PRPF8'], 117: ['RBL2'], 120: ['IGHA1', 'APOE', 'KCNMA1', 'NCOA3', 'SYT2', 'APOA2', 'NIPSNAP1', 'MAP6', 'SYN2', 'IRS2', 'KRT9', 'SYN1', 'LIN7C', 'RAB8B', 'POLR3F', 'VAC14', 'CHKB', 'PI4KA', 'CNOT1', 'CAMK1D', 'WDR74', 'BCAR1', 'SYT1', 'RRP1B', 'PRPF40A', 'CLASP2', 'TIAM1', 'MAP3K2', 'KRT1', 'NOC2L', 'CUL1', 'SLC25A13', 'LARP7', 'DICER1', 'TARS', 'PTPN14', 'SLC25A6', 'FGFR1', 'RPL9P7', 'RPL9', 'RPL38', 'ARHGAP15', 'PCNA', 'DDB1', 'GSK3B', 'PFKP', 'DDX18', 'IPO9'], 121: ['CREBBP'], 126: ['MAP1B'], 128: ['KRT5', 'ANXA6', 'KRR1', 'EIF3CL', 'NOC4L', 'RRP12', 'GRWD1', 'EIF3C', 'ACTR2', 'RPS28', 'DDX18', 'RPS26', 'HADHB'], 130: ['PPP2CB', 'BRSK1', 'ACTN2', 'ARRB1', 'POLR2L', 'SMARCC2'], 131: ['SMAD9'], 135: ['ACTR2'], 136: ['SUMO1P3', 'ULK3', 'PHB2', 'RANP1', 'AP2M1'], 137: ['IKBKE', 'RPS26'], 140: ['PCAF', 'NEDD4L'], 143: ['PSMD3'], 145: ['LYPLA2P1', 'RUNX1', 'CIAO1', 'PML', 'TFDP1', 'GTF2H1', 'BIN3', 'ERCC2', 'DNM1', 'CAP2', 'CAP1', 'DHX30', 'RBBP4', 'POLR2K', 'SUMO1P3', 'PRKAA2', 'RAB6C', 'SMARCB1', 'PCAF', 'SMARCC1', 'CSNK1G3', 'SLC25A6', 'KRR1', 'RPS27', 'RAB6B', 'DYNLL1', 'PRKCB1', 'PRMT1', 'SMARCA2', 'NEDD4L', 'ACTR3', 'RPL28', 'POLR2H', 'RBBP7', 'DDX20', 'SMARCC2', 'TOP1', 'CCT4'], 147: ['EIF1B', 'PSMC1', 'RPS10'], 150: ['RAC1', 'HIST1H2AH', 'HIST1H2AC'], 154: ['PRKACB', 'STAT3', 'TP53', 'BCR', 'PTK2'], 158: ['PPP1CA', 'ABL1'], 159: ['RANBP2', 'IMPDH1'], 161: ['SMAD9', 'SEC61A1', 'XPO5', 'PSMA3', 'COPA', 'CCT2', 'RBM10', 'PSMD3', 'EIF4B'], 163: ['SUMO1P3', 'RANP1'], 175: ['RELA', 'POLR2L'], 179: ['PTPN6', 'EIF2S1', 'SYK'], 184: ['PLAUR', 'MATK', 'KHDRBS1', 'PAK2', 'FN1', 'SF3B4', 'CSK', 'PTK2'], 187: ['TP53'], 194: ['PRKACA'], 195: ['RELA', 'NCBP2'], 198: ['PTPN11'], 201: ['MAP3K3', 'HSP90AA2'], 202: ['RHOQ', 'CUL2', 'PSMD12', 'PPP2CB', 'CTR9', 'VHL', 'MAPRE1', 'RAC1', 'PSMD13', 'PTPN11', 'PSMD3'], 208: ['SUPT4H1', 'MARS']}\n"
     ]
    }
   ],
   "source": [
    "half_query_filepath = directory + \"half_clusters.txt\"\n",
    "print_querylist_of_clusters_to_file(clusters, clusters.get_all_cluster_labels(), half_query_filepath, half_qualifying_proteins)\n",
    "half_fe = get_initialized_fe(background_proteins_filepath, term_mapping_filepath, termlist = background_go_terms)\n",
    "half_fe.importFiles({'query': half_query_filepath })\n",
    "half_fe.run(cluster=False)\n",
    "\n",
    "print(f\"number of functionally enriched clusters after addition of 1/2 proteins: {half_fe.enrichment['Module'].nunique()}\")\n",
    "\n",
    "\n",
    "quarter_query_filepath = directory + \"quarter_clusters.txt\"\n",
    "print_querylist_of_clusters_to_file(clusters, clusters.get_all_cluster_labels(), quarter_query_filepath, quarter_qualifying_proteins)\n",
    "quarter_fe = get_initialized_fe(background_proteins_filepath, term_mapping_filepath, termlist = background_go_terms)\n",
    "quarter_fe.importFiles({'query': quarter_query_filepath })\n",
    "quarter_fe.run(cluster=False)\n",
    "\n",
    "print(f\"number of functionally enriched clusters after addition of 1/4 proteins: {quarter_fe.enrichment['Module'].nunique()}\")\n",
    "\n",
    "\n",
    "tenth_query_filepath = directory + \"tenth_clusters.txt\"\n",
    "print_querylist_of_clusters_to_file(clusters, clusters.get_all_cluster_labels(), tenth_query_filepath, tenth_qualifying_proteins)\n",
    "tenth_fe = get_initialized_fe(background_proteins_filepath, term_mapping_filepath, termlist = background_go_terms)\n",
    "tenth_fe.importFiles({'query': tenth_query_filepath })\n",
    "tenth_fe.run(cluster=False)\n",
    "\n",
    "print(f\"number of functionally enriched clusters after addition of 1/10 proteins: {tenth_fe.enrichment['Module'].nunique()}\")\n",
    "\n",
    "\n",
    "print(half_qualifying_proteins)\n",
    "print(quarter_qualifying_proteins)  \n",
    "print(tenth_qualifying_proteins)\n"
   ]
  },
  {
   "cell_type": "code",
   "execution_count": 17,
   "metadata": {},
   "outputs": [
    {
     "name": "stdout",
     "output_type": "stream",
     "text": [
      "number of functionally enriched clusters after addition of 3 1/10 proteins: 201\n"
     ]
    }
   ],
   "source": [
    "from recipe_utils import top_n_proteins\n",
    "\n",
    "three_tenth_qualifying_proteins = top_n_proteins(tenth_qualifying_proteins, n=3)\n",
    "three_tenth_query_filepath = directory + \"three_tenth_clusters.txt\"\n",
    "print_querylist_of_clusters_to_file(clusters, clusters.get_all_cluster_labels(), three_tenth_query_filepath, three_tenth_qualifying_proteins)\n",
    "half_tenth_fe = get_initialized_fe(background_proteins_filepath, term_mapping_filepath, termlist = background_go_terms) \n",
    "half_tenth_fe.importFiles({'query': three_tenth_query_filepath })\n",
    "half_tenth_fe.run(cluster=False)\n",
    "print(f\"number of functionally enriched clusters after addition of 3 1/10 proteins: {half_tenth_fe.enrichment['Module'].nunique()}\")\n"
   ]
  },
  {
   "cell_type": "code",
   "execution_count": null,
   "metadata": {},
   "outputs": [],
   "source": []
  }
 ],
 "metadata": {
  "kernelspec": {
   "display_name": "recipe",
   "language": "python",
   "name": "python3"
  },
  "language_info": {
   "codemirror_mode": {
    "name": "ipython",
    "version": 3
   },
   "file_extension": ".py",
   "mimetype": "text/x-python",
   "name": "python",
   "nbconvert_exporter": "python",
   "pygments_lexer": "ipython3",
   "version": "3.10.6"
  },
  "orig_nbformat": 4,
  "vscode": {
   "interpreter": {
    "hash": "62f9e904ff1d4fa6e27f2984f15409dfffcff7468a54928ca0992224464fe58b"
   }
  }
 },
 "nbformat": 4,
 "nbformat_minor": 2
}
