{
 "cells": [
  {
   "attachments": {},
   "cell_type": "markdown",
   "metadata": {},
   "source": [
    "\n",
    "# d3_ic50_medium\n",
    "- this file is for dream3 data, with medium clusters generated using the ic_50 parameter (spectral clustering)\n",
    "- we consider two different cuttoffs for adding proteins back:\n",
    "1. Squareroot method: a protein must connect at least sqrt(num components) components to qualify for addition to a cluster\n",
    "2. linear method: a protein must connect at least 0.5 * num components componetns to qualify for addition to a cluster\n"
   ]
  },
  {
   "cell_type": "code",
   "execution_count": 4,
   "metadata": {},
   "outputs": [],
   "source": [
    "# imports:\n",
    "\n",
    "# standard libraries\n",
    "import numpy as np\n",
    "import pandas as pd\n",
    "import matplotlib.pyplot as plt\n",
    "# library used for functional enrichment analysis\n",
    "from func_e.FUNC_E import FUNC_E  # a method that can do funtional enrichment analysis!\n",
    "import func_e.vocabs.all as vocabs\n",
    "# following code is necessary as some functions used in the funcE class produce future warnings but i can't fix it as it is not my code\n",
    "import warnings\n",
    "warnings.simplefilter(action='ignore', category=FutureWarning)\n",
    "\n",
    "# importing the custom classes i built\n",
    "from matrix_class import ProteinMatrix # ppi matrix \n",
    "from cluster_class import AllClusters # dictionary to hold all clusters (in form number of cluster : list of proteins in that cluster)\n",
    "from degreelist_class import DegreeList # creates a list of all proteins in order of their degree\n",
    "\n",
    "# helper functions for setting up program\n",
    "from recipe_utils import initialize_matrix_clusters_degreelist\n",
    "from recipe_utils import find_clusters_and_proteins_together\n",
    "\n",
    "# helper functions for functional enrichment\n",
    "from recipe_utils import print_querylist_of_clusters_to_file\n",
    "from recipe_utils import print_protein_background_to_file\n",
    "from recipe_utils import create_term_mapping_list\n",
    "from recipe_utils import get_initialized_fe"
   ]
  },
  {
   "attachments": {},
   "cell_type": "markdown",
   "metadata": {},
   "source": [
    " **must change filenames:**"
   ]
  },
  {
   "cell_type": "code",
   "execution_count": 5,
   "metadata": {},
   "outputs": [],
   "source": [
    "interactions_file = \"data/interactions/3_signal_omnipath_directed_v3.txt\"\n",
    "clusters_file = \"data/d3_ic50_medium/dream3_medium-cluster.json\""
   ]
  },
  {
   "cell_type": "code",
   "execution_count": 6,
   "metadata": {},
   "outputs": [],
   "source": [
    "matrix, clusters, degreelist = initialize_matrix_clusters_degreelist(interactions_filepath=interactions_file, clusters_filepath=clusters_file)"
   ]
  },
  {
   "attachments": {},
   "cell_type": "markdown",
   "metadata": {},
   "source": [
    "*may want to change parameters below:*"
   ]
  },
  {
   "cell_type": "code",
   "execution_count": 7,
   "metadata": {},
   "outputs": [],
   "source": [
    "linear_qualifying_clusters, linear_qualifying_proteins = find_clusters_and_proteins_together(matrix, clusters, degreelist, cluster_ratio=0, cluster_constant=2,use_sqrt=False, protein_ratio=.5, protein_constant=0)"
   ]
  },
  {
   "cell_type": "code",
   "execution_count": 8,
   "metadata": {},
   "outputs": [],
   "source": [
    "sqrt_qualifying_clusters, sqrt_qualifying_proteins = find_clusters_and_proteins_together(matrix, clusters, degreelist, cluster_ratio=0, cluster_constant=2,use_sqrt=True, protein_ratio=1, protein_constant=0)"
   ]
  },
  {
   "cell_type": "code",
   "execution_count": 9,
   "metadata": {},
   "outputs": [
    {
     "data": {
      "text/plain": [
       "{0: ['MAPK14', 'MAPK3', 'MAPK1'],\n",
       " 1: ['TMEM173', 'TBK1', 'MAVS', 'RELA', 'MAPK8'],\n",
       " 2: ['PLK1', 'CSNK2A1', 'CDK1'],\n",
       " 3: ['FOXO1', 'SMAD2', 'EP300', 'MAPK14', 'GSK3B', 'TP53', 'CSNK2A1'],\n",
       " 4: ['CASP3'],\n",
       " 5: ['INSR', 'LYN', 'SYK', 'FYN', 'EGFR', 'PRKCA', 'SRC'],\n",
       " 6: ['MAP3K7', 'TRAF6', 'AKT1', 'MAPK1', 'PRKACA', 'SRC'],\n",
       " 7: ['PRKACA'],\n",
       " 8: ['CSNK2A1'],\n",
       " 9: ['CDK1'],\n",
       " 10: ['VAV3',\n",
       "  'BLK',\n",
       "  'VAV2',\n",
       "  'PXN',\n",
       "  'VAV1',\n",
       "  'PTPN6',\n",
       "  'SYK',\n",
       "  'SHC1',\n",
       "  'LCK',\n",
       "  'PRKCA'],\n",
       " 11: ['RPS6KA3',\n",
       "  'PLK1',\n",
       "  'ATM',\n",
       "  'CDK2',\n",
       "  'MAPK14',\n",
       "  'TP53',\n",
       "  'MAPK3',\n",
       "  'AKT1',\n",
       "  'CSNK2A1',\n",
       "  'MAPK1',\n",
       "  'CDK1',\n",
       "  'PRKACA',\n",
       "  'PRKCA'],\n",
       " 12: ['PRKCB',\n",
       "  'PRKCZ',\n",
       "  'PPP2CB',\n",
       "  'PAK1',\n",
       "  'IKBKB',\n",
       "  'PRKCD',\n",
       "  'PPP2CA',\n",
       "  'MAPK8',\n",
       "  'MAPK14',\n",
       "  'MAPK3',\n",
       "  'AKT1',\n",
       "  'CSNK2A1',\n",
       "  'MAPK1',\n",
       "  'PRKACA',\n",
       "  'PRKCA',\n",
       "  'SRC'],\n",
       " 13: ['HIPK2',\n",
       "  'NR3C1',\n",
       "  'MAP3K5',\n",
       "  'ATR',\n",
       "  'NOTCH1',\n",
       "  'EP300',\n",
       "  'CTNNB1',\n",
       "  'ATM',\n",
       "  'AR',\n",
       "  'GSK3B',\n",
       "  'TP53',\n",
       "  'MAPK3'],\n",
       " 14: ['AR'],\n",
       " 15: ['CDK2', 'GSK3B', 'CDK1', 'PRKACA'],\n",
       " 16: ['MAPK14', 'GSK3B', 'MAPK3', 'AKT1', 'MAPK1'],\n",
       " 17: ['HCK', 'LCK', 'GRB2', 'FYN', 'ABL1', 'MAPK1', 'SRC'],\n",
       " 18: ['MAP3K14',\n",
       "  'CDK5',\n",
       "  'CAMK2A',\n",
       "  'PAK1',\n",
       "  'EP300',\n",
       "  'MAPK8',\n",
       "  'ABL1',\n",
       "  'AR',\n",
       "  'MAPK14',\n",
       "  'GSK3B',\n",
       "  'TP53',\n",
       "  'MAPK3',\n",
       "  'AKT1',\n",
       "  'CSNK2A1',\n",
       "  'MAPK1',\n",
       "  'CDK1',\n",
       "  'PRKACA',\n",
       "  'PRKCA',\n",
       "  'SRC'],\n",
       " 19: ['PRKCA'],\n",
       " 20: ['CHEK2', 'E2F1', 'ATM', 'CDK2', 'CSNK2A1', 'CDK1'],\n",
       " 21: ['SRC'],\n",
       " 22: ['PRKACA', 'PRKCA', 'SRC'],\n",
       " 24: ['CAMK2A', 'MAPK3', 'CSNK2A1', 'PRKACA', 'PRKCA'],\n",
       " 25: ['CDK1'],\n",
       " 26: ['TP53'],\n",
       " 31: ['CSNK2A1'],\n",
       " 32: ['PLK1', 'CDK2', 'CDK1'],\n",
       " 33: ['ATR', 'ATM', 'TP53'],\n",
       " 38: ['PLK1', 'CDK1']}"
      ]
     },
     "execution_count": 9,
     "metadata": {},
     "output_type": "execute_result"
    }
   ],
   "source": [
    "sqrt_qualifying_proteins"
   ]
  },
  {
   "cell_type": "code",
   "execution_count": 10,
   "metadata": {},
   "outputs": [
    {
     "data": {
      "text/plain": [
       "{0: ['MAPK3', 'MAPK1'],\n",
       " 1: ['TMEM173', 'TBK1', 'MAVS', 'RELA', 'MAPK8'],\n",
       " 2: ['CDK1'],\n",
       " 5: ['SRC'],\n",
       " 7: ['PRKACA'],\n",
       " 8: ['CSNK2A1'],\n",
       " 9: ['CDK1'],\n",
       " 10: ['VAV3',\n",
       "  'BLK',\n",
       "  'VAV2',\n",
       "  'PXN',\n",
       "  'VAV1',\n",
       "  'PTPN6',\n",
       "  'SYK',\n",
       "  'SHC1',\n",
       "  'LCK',\n",
       "  'PRKCA'],\n",
       " 11: ['CSNK2A1', 'CDK1'],\n",
       " 13: ['ATM'],\n",
       " 14: ['AR'],\n",
       " 15: ['CDK2', 'CDK1'],\n",
       " 17: ['HCK', 'LCK', 'GRB2', 'FYN', 'ABL1', 'MAPK1', 'SRC'],\n",
       " 18: ['MAPK3', 'MAPK1'],\n",
       " 19: ['PRKCA'],\n",
       " 20: ['CDK2', 'CDK1'],\n",
       " 21: ['SRC'],\n",
       " 22: ['PRKCA'],\n",
       " 24: ['PRKACA', 'PRKCA'],\n",
       " 25: ['CDK1'],\n",
       " 26: ['TP53'],\n",
       " 31: ['CSNK2A1'],\n",
       " 32: ['CDK1']}"
      ]
     },
     "execution_count": 10,
     "metadata": {},
     "output_type": "execute_result"
    }
   ],
   "source": [
    "linear_qualifying_proteins"
   ]
  }
 ],
 "metadata": {
  "kernelspec": {
   "display_name": "recipe",
   "language": "python",
   "name": "python3"
  },
  "language_info": {
   "codemirror_mode": {
    "name": "ipython",
    "version": 3
   },
   "file_extension": ".py",
   "mimetype": "text/x-python",
   "name": "python",
   "nbconvert_exporter": "python",
   "pygments_lexer": "ipython3",
   "version": "3.10.6"
  },
  "orig_nbformat": 4,
  "vscode": {
   "interpreter": {
    "hash": "62f9e904ff1d4fa6e27f2984f15409dfffcff7468a54928ca0992224464fe58b"
   }
  }
 },
 "nbformat": 4,
 "nbformat_minor": 2
}
