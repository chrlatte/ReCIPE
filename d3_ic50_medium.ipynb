{
 "cells": [
  {
   "attachments": {},
   "cell_type": "markdown",
   "metadata": {},
   "source": [
    "d3_ic50_medium"
   ]
  },
  {
   "attachments": {},
   "cell_type": "markdown",
   "metadata": {},
   "source": []
  },
  {
   "cell_type": "code",
   "execution_count": 1,
   "metadata": {},
   "outputs": [],
   "source": [
    "# imports:\n",
    "\n",
    "# standard libraries\n",
    "import numpy as np\n",
    "import pandas as pd\n",
    "import matplotlib.pyplot as plt\n",
    "# library used for functional enrichment analysis\n",
    "from func_e.FUNC_E import FUNC_E  # a method that can do funtional enrichment analysis!\n",
    "import func_e.vocabs.all as vocabs\n",
    "# following code is necessary as some functions used in the funcE class produce future warnings but i can't fix it as it is not my code\n",
    "import warnings\n",
    "warnings.simplefilter(action='ignore', category=FutureWarning)\n",
    "\n",
    "# importing the custom classes i built\n",
    "from matrix_class import ProteinMatrix # ppi matrix \n",
    "from cluster_class import AllClusters # dictionary to hold all clusters (in form number of cluster : list of proteins in that cluster)\n",
    "from degreelist_class import DegreeList # creates a list of all proteins in order of their degree\n",
    "\n",
    "# helper functions for setting up program\n",
    "from recipe_utils import initialize_matrix_clusters_degreelist\n",
    "from recipe_utils import find_clusters_and_proteins_together\n",
    "\n",
    "# helper functions for functional enrichment\n",
    "from recipe_utils import print_querylist_of_clusters_to_file\n",
    "from recipe_utils import print_protein_background_to_file\n",
    "from recipe_utils import create_term_mapping_list\n",
    "from recipe_utils import get_initialized_fe"
   ]
  },
  {
   "attachments": {},
   "cell_type": "markdown",
   "metadata": {},
   "source": [
    " **must change filenames:**"
   ]
  },
  {
   "cell_type": "code",
   "execution_count": 2,
   "metadata": {},
   "outputs": [],
   "source": [
    "interactions_file = \"data/interactions/3_signal_omnipath_directed_v3.txt\"\n",
    "clusters_file = \"data/d3_ic50_medium/d3_ic50_medium.json\""
   ]
  },
  {
   "cell_type": "code",
   "execution_count": 3,
   "metadata": {},
   "outputs": [],
   "source": [
    "matrix, clusters, degreelist = initialize_matrix_clusters_degreelist(interactions_filepath=interactions_file, clusters_filepath=clusters_file)"
   ]
  },
  {
   "attachments": {},
   "cell_type": "markdown",
   "metadata": {},
   "source": [
    "*may want to change parameters below:*"
   ]
  },
  {
   "cell_type": "code",
   "execution_count": 4,
   "metadata": {},
   "outputs": [],
   "source": [
    "sqrt_qualifying_clusters, sqrt_qualifying_proteins = find_clusters_and_proteins_together(matrix, clusters, degreelist, cluster_ratio=0, cluster_constant=2, use_sqrt=True, protein_ratio=1, protein_constant=0)"
   ]
  },
  {
   "cell_type": "code",
   "execution_count": 5,
   "metadata": {},
   "outputs": [
    {
     "data": {
      "text/plain": [
       "{4: ['CFL1'],\n",
       " 7: ['MAX'],\n",
       " 11: ['CCR1'],\n",
       " 12: ['SHH', 'STK4', 'AURKB', 'EGFR'],\n",
       " 14: ['GNAQ', 'HIST1H3B'],\n",
       " 15: ['PLK1'],\n",
       " 16: ['TRAF3', 'SP1'],\n",
       " 17: ['ATM', 'CDK1', 'PRKACA'],\n",
       " 18: ['SRC'],\n",
       " 19: ['AR', 'PRKCA'],\n",
       " 20: ['CSNK2A1'],\n",
       " 22: ['TP53'],\n",
       " 26: ['TNFRSF1A'],\n",
       " 28: ['IL2RG'],\n",
       " 31: ['HIST1H3B', 'CDK1'],\n",
       " 33: ['SRC'],\n",
       " 34: ['TP53'],\n",
       " 35: ['PRKCA', 'SRC'],\n",
       " 36: ['PRKACA'],\n",
       " 37: ['TNFAIP3', 'IKBKE', 'TBK1', 'RIPK1', 'CHUK', 'IKBKB', 'EGFR'],\n",
       " 38: ['SMAD3', 'TP53'],\n",
       " 39: ['ATR', 'ATM', 'CDK2', 'CSNK2A1', 'CDK1'],\n",
       " 40: ['CTNNB1', 'PRKACA', 'PRKCA'],\n",
       " 41: ['SMAD3', 'MAPK14'],\n",
       " 42: ['CASP3'],\n",
       " 43: ['ABL1', 'EGFR', 'CSNK2A1', 'SRC'],\n",
       " 44: ['PDGFRB',\n",
       "  'CSK',\n",
       "  'ZAP70',\n",
       "  'LYN',\n",
       "  'SYK',\n",
       "  'LCK',\n",
       "  'GRB2',\n",
       "  'FYN',\n",
       "  'MAPK8',\n",
       "  'ABL1',\n",
       "  'EGFR',\n",
       "  'GSK3B',\n",
       "  'MAPK1',\n",
       "  'SRC'],\n",
       " 45: ['MAP3K14',\n",
       "  'AURKB',\n",
       "  'RPS6KA1',\n",
       "  'PAK1',\n",
       "  'STAT3',\n",
       "  'EP300',\n",
       "  'MAPK8',\n",
       "  'ABL1',\n",
       "  'AR',\n",
       "  'MAPK14',\n",
       "  'GSK3B',\n",
       "  'TP53',\n",
       "  'MAPK3',\n",
       "  'AKT1',\n",
       "  'CSNK2A1',\n",
       "  'MAPK1',\n",
       "  'CDK1',\n",
       "  'PRKACA',\n",
       "  'PRKCA',\n",
       "  'SRC'],\n",
       " 46: ['PRKCB',\n",
       "  'PRKCZ',\n",
       "  'CAMK2A',\n",
       "  'PRKCD',\n",
       "  'MAPK14',\n",
       "  'GSK3B',\n",
       "  'MAPK3',\n",
       "  'AKT1',\n",
       "  'CSNK2A1',\n",
       "  'MAPK1',\n",
       "  'CDK1',\n",
       "  'PRKACA',\n",
       "  'PRKCA',\n",
       "  'SRC'],\n",
       " 47: ['PPP2CB', 'PPP2CA', 'MAPK8', 'AR', 'MAPK14', 'MAPK3', 'AKT1', 'MAPK1'],\n",
       " 48: ['CSNK2A2', 'PLK1', 'CDK2', 'MAPK3', 'AKT1', 'CSNK2A1', 'CDK1'],\n",
       " 49: ['APAF1', 'ATG5', 'BID', 'MAVS'],\n",
       " 50: ['HIST1H3B', 'ATM', 'CDK2', 'TP53', 'CSNK2A1', 'CDK1'],\n",
       " 51: ['CREBBP',\n",
       "  'SMAD2',\n",
       "  'SMAD3',\n",
       "  'EP300',\n",
       "  'GSK3B',\n",
       "  'CSNK2A1',\n",
       "  'PRKACA',\n",
       "  'PRKCA'],\n",
       " 52: ['MAP3K7', 'GSK3B', 'MAPK3', 'MAPK1'],\n",
       " 53: ['MAPK10',\n",
       "  'FOXO1',\n",
       "  'EP300',\n",
       "  'MAPK8',\n",
       "  'MAPK14',\n",
       "  'TP53',\n",
       "  'AKT1',\n",
       "  'CSNK2A1',\n",
       "  'CDK1'],\n",
       " 54: ['INSR', 'LCK', 'FYN', 'PRKCA', 'SRC'],\n",
       " 55: ['LYN',\n",
       "  'FYN',\n",
       "  'ABL1',\n",
       "  'EGFR',\n",
       "  'MAPK3',\n",
       "  'CSNK2A1',\n",
       "  'MAPK1',\n",
       "  'PRKCA',\n",
       "  'SRC'],\n",
       " 59: ['AURKB', 'TP53', 'CDK1'],\n",
       " 60: ['CSNK2A1'],\n",
       " 61: ['GRB2', 'PIK3R1']}"
      ]
     },
     "execution_count": 5,
     "metadata": {},
     "output_type": "execute_result"
    }
   ],
   "source": [
    "sqrt_qualifying_proteins"
   ]
  },
  {
   "cell_type": "code",
   "execution_count": 6,
   "metadata": {},
   "outputs": [],
   "source": [
    "# from recipe_utils import top_n_proteins\n",
    "\n",
    "# three_qualifying_proteins = top_n_proteins(sqrt_qualifying_proteins, n=3) \n",
    "# three_qualifying_proteins"
   ]
  },
  {
   "cell_type": "code",
   "execution_count": 7,
   "metadata": {},
   "outputs": [],
   "source": [
    "# from recipe_utils import get_cluster_connectivity\n",
    "\n",
    "# original_cluster_connectivity = get_cluster_connectivity(matrix, degreelist, clusters, {}, sort_it=False)\n",
    "# new_cluster_connectivity = get_cluster_connectivity(matrix, degreelist, clusters, added_proteins=sqrt_qualifying_proteins, sort_it=False)\n",
    "\n",
    "# from recipe_utils import calculate_connectivity_difference\n",
    "\n",
    "# difference = calculate_connectivity_difference(original_cluster_connectivity, new_cluster_connectivity, sort_it=True)\n",
    "# difference"
   ]
  },
  {
   "cell_type": "code",
   "execution_count": null,
   "metadata": {},
   "outputs": [],
   "source": []
  },
  {
   "attachments": {},
   "cell_type": "markdown",
   "metadata": {},
   "source": [
    "### Functional Enrichment Analysis"
   ]
  },
  {
   "cell_type": "code",
   "execution_count": 8,
   "metadata": {},
   "outputs": [],
   "source": [
    "create_term_mapping_list(\"data/go_labels/dream3_go.tsv\", \"data/go_labels/d3_term_mapping.tsv\")"
   ]
  },
  {
   "attachments": {},
   "cell_type": "markdown",
   "metadata": {},
   "source": [
    "**will need to the directory below**"
   ]
  },
  {
   "cell_type": "code",
   "execution_count": 9,
   "metadata": {},
   "outputs": [],
   "source": [
    "directory = \"data/d3_ic50_medium/\"\n",
    "term_mapping_filepath = \"data/go_labels/d3_term_mapping.tsv\""
   ]
  },
  {
   "cell_type": "code",
   "execution_count": 10,
   "metadata": {},
   "outputs": [],
   "source": [
    "background_proteins_filepath = directory + \"background_proteinlist.txt\"\n",
    "og_query_filepath = directory + \"original_clusters.txt\"\n",
    "sqrt_query_filepath = directory + \"sqrt_clusters.txt\"\n",
    "# three_query_filepath = directory + \"three_prot_clusters.txt\""
   ]
  },
  {
   "attachments": {},
   "cell_type": "markdown",
   "metadata": {},
   "source": [
    "*print to files*"
   ]
  },
  {
   "cell_type": "code",
   "execution_count": 11,
   "metadata": {},
   "outputs": [],
   "source": [
    "# use functions to print info to files: (annoying, but need to get info into format used for funcE package)\n",
    "# 1) a background protein list to be used for functional enrichment analysis\n",
    "print_protein_background_to_file(matrix, background_proteins_filepath) \n",
    "# 3) not a file, but need to establish a background of all GO terms! (to be used for functional enrichment analysis)\n",
    "background_go_terms = vocabs.getTerms(['GO'])\n",
    "\n",
    "# continue printing info to files to be used in functional enrichment analysis:\n",
    "# 4) print original clusters to a file\n",
    "print_querylist_of_clusters_to_file(clusters, clusters.get_all_cluster_labels(), og_query_filepath)\n",
    "# 5) print updated clusters to a file (just append the function to include the dictionary of qualifying proteins)\n",
    "print_querylist_of_clusters_to_file(clusters, clusters.get_all_cluster_labels(), sqrt_query_filepath, sqrt_qualifying_proteins)\n",
    "# print_querylist_of_clusters_to_file(clusters, clusters.get_all_cluster_labels(), three_query_filepath, three_qualifying_proteins)"
   ]
  },
  {
   "attachments": {},
   "cell_type": "markdown",
   "metadata": {},
   "source": [
    "*RUN Functional Enrichment:*"
   ]
  },
  {
   "cell_type": "code",
   "execution_count": 12,
   "metadata": {},
   "outputs": [],
   "source": [
    "original_fe = get_initialized_fe(background_proteins_filepath, term_mapping_filepath, termlist = background_go_terms)\n",
    "original_fe.importFiles({'query': og_query_filepath })\n",
    "original_fe.run(cluster=False)\n",
    "\n",
    "sqrt_fe = get_initialized_fe(background_proteins_filepath, term_mapping_filepath, termlist = background_go_terms)\n",
    "sqrt_fe.importFiles({'query': sqrt_query_filepath })\n",
    "sqrt_fe.run(cluster=False)\n",
    "\n",
    "# three_fe = get_initialized_fe(background_proteins_filepath, term_mapping_filepath, termlist = background_go_terms)\n",
    "# three_fe.importFiles({'query': three_query_filepath })\n",
    "# three_fe.run(cluster=False)"
   ]
  },
  {
   "attachments": {},
   "cell_type": "markdown",
   "metadata": {},
   "source": []
  },
  {
   "cell_type": "code",
   "execution_count": 13,
   "metadata": {},
   "outputs": [
    {
     "name": "stdout",
     "output_type": "stream",
     "text": [
      "::::::::::::::::::::::::::SQRT::::::::::::::::::::::::::\n",
      "\n",
      "number of clusters that were updated with proteins: 41\n",
      "\n",
      "number of functionally enriched clusters (modules) out of 62 original clusters: 62\n",
      "number of functionally enriched clusters after addition of all proteins: 62\n",
      "\n",
      "number of significant pvals in original clusters before updating: 859\n",
      "number of significant pvals in clusters with all proteins added: 974\n",
      "\n",
      "\n"
     ]
    }
   ],
   "source": [
    "print(f\"::::::::::::::::::::::::::SQRT::::::::::::::::::::::::::\\n\")\n",
    "# print data by the numbers!\n",
    "print(f\"number of clusters that were updated with proteins: {len(sqrt_qualifying_proteins.keys())}\\n\")\n",
    "\n",
    "# clusters that are functionally enriched\n",
    "print(f\"number of functionally enriched clusters (modules) out of {clusters.get_num_clusters()} original clusters: {original_fe.enrichment['Module'].nunique()}\")\n",
    "print(f\"number of functionally enriched clusters after addition of all proteins: {sqrt_fe.enrichment['Module'].nunique()}\")\n",
    "print(f\"\")\n",
    "\n",
    "\n",
    "#significant P-values!!!\n",
    "print(f\"number of significant pvals in original clusters before updating: {original_fe.enrichment['Fishers_pvalue'].count()}\")\n",
    "print(f\"number of significant pvals in clusters with all proteins added: {sqrt_fe.enrichment['Fishers_pvalue'].count()}\")\n",
    "\n",
    "\n",
    "print(f\"\")\n",
    "print(f\"\")"
   ]
  },
  {
   "cell_type": "code",
   "execution_count": 14,
   "metadata": {},
   "outputs": [
    {
     "name": "stdout",
     "output_type": "stream",
     "text": [
      "number of functionally enriched clusters after addition of 3 proteins: 62\n"
     ]
    }
   ],
   "source": [
    "from recipe_utils import top_n_proteins\n",
    "three_sqrt_qualifying_proteins = top_n_proteins(sqrt_qualifying_proteins, n=3)\n",
    "three_sqrt_query_filepath = directory + \"three_prot_clusters.txt\"\n",
    "print_querylist_of_clusters_to_file(clusters, clusters.get_all_cluster_labels(), three_sqrt_query_filepath, three_sqrt_qualifying_proteins)\n",
    "sqrt_three_fe = get_initialized_fe(background_proteins_filepath, term_mapping_filepath, termlist = background_go_terms)\n",
    "sqrt_three_fe.importFiles({'query': three_sqrt_query_filepath })\n",
    "sqrt_three_fe.run(cluster=False)\n",
    "print(f\"number of functionally enriched clusters after addition of 3 proteins: {sqrt_three_fe.enrichment['Module'].nunique()}\")\n"
   ]
  },
  {
   "cell_type": "code",
   "execution_count": 15,
   "metadata": {},
   "outputs": [],
   "source": [
    "half_qualifying_clusters, half_qualifying_proteins = find_clusters_and_proteins_together(matrix, clusters, degreelist, cluster_ratio=0, cluster_constant=2, use_sqrt=False, protein_ratio=.50, protein_constant=0)\n",
    "quarter_qualifying_clusters, quarter_qualifying_proteins = find_clusters_and_proteins_together(matrix, clusters, degreelist, cluster_ratio=0, cluster_constant=2, use_sqrt=False, protein_ratio=.25, protein_constant=0)\n",
    "tenth_qualifying_clusters, tenth_qualifying_proteins = find_clusters_and_proteins_together(matrix, clusters, degreelist, cluster_ratio=0, cluster_constant=2, use_sqrt=False, protein_ratio=.10, protein_constant=0)\n",
    "\n"
   ]
  },
  {
   "cell_type": "code",
   "execution_count": 16,
   "metadata": {},
   "outputs": [
    {
     "name": "stdout",
     "output_type": "stream",
     "text": [
      "number of functionally enriched clusters after addition of 1/2 proteins: 62\n",
      "number of functionally enriched clusters after addition of 1/4 proteins: 62\n",
      "number of functionally enriched clusters after addition of 1/10 proteins: 62\n",
      "{15: ['PLK1'], 16: ['SP1'], 17: ['PRKACA'], 18: ['SRC'], 19: ['PRKCA'], 20: ['CSNK2A1'], 22: ['TP53'], 31: ['HIST1H3B', 'CDK1'], 35: ['SRC'], 36: ['PRKACA'], 37: ['TNFAIP3', 'IKBKE', 'TBK1', 'RIPK1', 'CHUK', 'IKBKB', 'EGFR'], 39: ['ATM', 'CDK1'], 44: ['LYN', 'GRB2', 'FYN', 'ABL1', 'MAPK1', 'SRC'], 45: ['MAPK3', 'MAPK1'], 46: ['PRKACA', 'PRKCA'], 47: ['MAPK3', 'MAPK1'], 48: ['CSNK2A1', 'CDK1'], 49: ['APAF1', 'ATG5', 'BID', 'MAVS'], 50: ['CDK1'], 54: ['SRC'], 55: ['SRC'], 59: ['TP53', 'CDK1']}\n",
      "{4: ['CFL1'], 14: ['HIST1H3B'], 15: ['PLK1'], 16: ['SP1'], 17: ['CDK1', 'PRKACA'], 18: ['SRC'], 19: ['AR', 'PRKCA'], 20: ['CSNK2A1'], 22: ['TP53'], 31: ['HIST1H3B', 'CDK1'], 35: ['PRKCA', 'SRC'], 36: ['PRKACA'], 37: ['TNFAIP3', 'IKBKE', 'TBK1', 'RIPK1', 'CHUK', 'IKBKB', 'EGFR'], 39: ['ATR', 'ATM', 'CDK2', 'CSNK2A1', 'CDK1'], 40: ['PRKCA'], 41: ['MAPK14'], 43: ['EGFR', 'SRC'], 44: ['HCLS1', 'BLNK', 'PTK6', 'CAPN1', 'TUBA1A', 'FGFR2', 'LCP2', 'LAT', 'HCK', 'NCK1', 'MET', 'CRKL', 'CRK', 'MAP3K1', 'TYK2', 'PDGFRB', 'CSK', 'ERBB2', 'ZAP70', 'STAT5A', 'INSR', 'TGFBR1', 'PTPN11', 'LYN', 'SYK', 'JAK2', 'MAP3K7', 'RAF1', 'LCK', 'GRB2', 'CAMK2A', 'PAK1', 'IKBKB', 'PRKCD', 'FYN', 'CTNNB1', 'MAPK8', 'ABL1', 'EGFR', 'MAPK14', 'GSK3B', 'MAPK3', 'MAPK1', 'PRKACA', 'PRKCA', 'SRC'], 45: ['MAPK8', 'MAPK14', 'TP53', 'MAPK3', 'AKT1', 'CSNK2A1', 'MAPK1', 'CDK1', 'PRKACA'], 46: ['PRKCZ', 'MAPK3', 'AKT1', 'MAPK1', 'PRKACA', 'PRKCA', 'SRC'], 47: ['PPP2CB', 'PPP2CA', 'MAPK8', 'AR', 'MAPK14', 'MAPK3', 'AKT1', 'MAPK1'], 48: ['CSNK2A2', 'PLK1', 'CDK2', 'MAPK3', 'AKT1', 'CSNK2A1', 'CDK1'], 49: ['APAF1', 'ATG5', 'BID', 'MAVS'], 50: ['CDK2', 'CDK1'], 53: ['EP300', 'MAPK8', 'CDK1'], 54: ['INSR', 'LCK', 'FYN', 'PRKCA', 'SRC'], 55: ['FYN', 'PRKCA', 'SRC'], 59: ['AURKB', 'PLK1', 'TP53', 'CDK1']}\n",
      "{3: ['ARNTL'], 4: ['GUCY2C', 'MMP3', 'FANCM', 'CXCL12', 'MMP1', 'MMP14', 'CXCR3', 'CCR1', 'CCR3', 'CFL1', 'CCR2', 'CCR5'], 6: ['RAD23B', 'SMG1', 'PSIP1', 'PARK2', 'CXCL8'], 7: ['KLK2', 'FPR2', 'SIX1', 'MAX'], 9: ['RSPO4', 'RSPO2', 'RSPO3', 'GIPC1', 'RSPO1', 'F2', 'KDM1A'], 10: ['MUS81', 'CRHR2', 'CRHR1', 'MLH1', 'KCND2', 'TRPC6'], 11: ['IFNLR1', 'CXCR5', 'IL10RB', 'TTL', 'CCR1', 'BMP2', 'NUMA1'], 12: ['SHH', 'STK4', 'AURKB', 'EGFR'], 14: ['C3', 'NUMA1', 'GNAQ', 'HIST1H3B'], 15: ['ROR2', 'WNT1', 'PLK1'], 16: ['TRAF3', 'SP1'], 17: ['ATM', 'CDK1', 'PRKACA'], 18: ['SRC'], 19: ['AR', 'PRKCA'], 20: ['CSNK2A1'], 22: ['TP53'], 26: ['NOD2', 'DDX58', 'TNFRSF1A', 'MAVS'], 28: ['IL2RG', 'LYN'], 31: ['HIST1H3B', 'CDK1'], 33: ['PRKACA', 'SRC'], 34: ['TP53'], 35: ['PTK2B', 'CRK', 'PTK2', 'PRKCB', 'NFE2L2', 'RAF1', 'PRKCD', 'ABL1', 'PRKCA', 'SRC'], 36: ['AKT1', 'MAPK1', 'PRKACA'], 37: ['TNFAIP3', 'IKBKE', 'TBK1', 'RIPK1', 'CHUK', 'IKBKB', 'EGFR'], 38: ['SMAD4', 'SMAD2', 'RELA', 'SMAD3', 'MAPK8', 'AR', 'TP53'], 39: ['PPM1D', 'CDC7', 'CDKN2A', 'HIPK2', 'PCNA', 'CHEK2', 'AURKA', 'HDAC1', 'NFKB1', 'E2F1', 'ATR', 'RELA', 'PLK1', 'PRKCD', 'CASP3', 'MAPK8', 'ATM', 'AR', 'CDK2', 'GSK3B', 'MAPK3', 'CSNK2A1', 'CDK1', 'PRKCA'], 40: ['CDC42', 'RAC1', 'STAT3', 'CASP3', 'CTNNB1', 'GSK3B', 'AKT1', 'CSNK2A1', 'MAPK1', 'PRKACA', 'PRKCA', 'SRC'], 41: ['HIPK2', 'IKBKE', 'HSP90AA1', 'BRCA1', 'NFKB1', 'MYC', 'SMAD4', 'SMAD2', 'STAT1', 'RELA', 'STAT3', 'SMAD3', 'EP300', 'CTNNB1', 'MAPK8', 'AR', 'CDK2', 'MAPK14', 'TP53', 'MAPK3', 'MAPK1', 'CDK1', 'PRKCA'], 42: ['CASP3'], 43: ['CSF1', 'CEBPA', 'DNM1', 'GRIN2A', 'VAV1', 'PDGFRB', 'STAT5A', 'CBL', 'PTK2', 'PTPN11', 'PTPN6', 'LYN', 'JAK2', 'GRB2', 'PIK3R1', 'CAMK2A', 'CHUK', 'STAT3', 'IKBKB', 'FYN', 'CTNNB1', 'ABL1', 'CDK2', 'EGFR', 'MAPK3', 'AKT1', 'CSNK2A1', 'MAPK1', 'PRKACA', 'PRKCA', 'SRC'], 44: ['HCLS1', 'BLNK', 'PTK6', 'CAPN1', 'TUBA1A', 'FGFR2', 'LCP2', 'LAT', 'HCK', 'NCK1', 'MET', 'CRKL', 'CRK', 'MAP3K1', 'TYK2', 'PDGFRB', 'CSK', 'ERBB2', 'ZAP70', 'STAT5A', 'INSR', 'TGFBR1', 'PTPN11', 'LYN', 'SYK', 'JAK2', 'MAP3K7', 'RAF1', 'LCK', 'GRB2', 'CAMK2A', 'PAK1', 'IKBKB', 'PRKCD', 'FYN', 'CTNNB1', 'MAPK8', 'ABL1', 'EGFR', 'MAPK14', 'GSK3B', 'MAPK3', 'MAPK1', 'PRKACA', 'PRKCA', 'SRC'], 45: ['PPP5C', 'MAPK13', 'MAPK7', 'HIST1H4C', 'MAP4K1', 'RPS6KA5', 'MAP2K6', 'CASP7', 'RPS6KA3', 'CASP9', 'MAPK10', 'MAP3K14', 'PRKCE', 'MAPKAPK2', 'IRAK1', 'CHEK1', 'MDM2', 'PRKDC', 'AURKB', 'RPS6KA1', 'PRKAA1', 'NFKB1', 'CASP8', 'PRKCB', 'MAPK9', 'TRAF2', 'MYC', 'CREBBP', 'LYN', 'SP1', 'RAF1', 'HIST1H3B', 'NOTCH1', 'CDK5', 'CAMK2A', 'CHUK', 'PAK1', 'RELA', 'PLK1', 'STAT3', 'IKBKB', 'SMAD3', 'EP300', 'FYN', 'CASP3', 'MAPK8', 'ABL1', 'ATM', 'AR', 'MAPK14', 'GSK3B', 'TP53', 'MAPK3', 'AKT1', 'CSNK2A1', 'MAPK1', 'CDK1', 'PRKACA', 'PRKCA', 'SRC'], 46: ['ROCK1', 'RAC1', 'CALM2', 'PRKAA1', 'PRKCB', 'PRKCZ', 'CDK5', 'CAMK2A', 'PRKCD', 'MAPK14', 'GSK3B', 'MAPK3', 'AKT1', 'CSNK2A1', 'MAPK1', 'CDK1', 'PRKACA', 'PRKCA', 'SRC'], 47: ['PAK4', 'PEBP1', 'MLST8', 'MUC1', 'MAP3K2', 'DVL3', 'CTBP1', 'MAP3K4', 'BIRC5', 'HDAC5', 'PKN1', 'MARK2', 'HDAC4', 'WWTR1', 'TGFB1', 'IFNAR2', 'PPP2R5C', 'NOD1', 'GLI1', 'STAT5B', 'HDAC2', 'MAP3K8', 'DVL2', 'TNF', 'EGR1', 'CEBPB', 'ARRB2', 'PPP3CC', 'BRAF', 'PPP3CB', 'YAP1', 'HDAC3', 'BIRC3', 'PPP3CA', 'AKT3', 'PPARG', 'ATF2', 'RPS6KA5', 'CASP7', 'SGK1', 'RXRA', 'MAP3K1', 'DDX58', 'TNFRSF1A', 'MAPK10', 'TSC1', 'TSC2', 'TBK1', 'PDPK1', 'BRCA1', 'STAT5A', 'MAPKAPK2', 'IRS1', 'AURKA', 'PRKDC', 'HDAC1', 'RPS6KA1', 'PRKD1', 'RAC1', 'PRKAA1', 'CASP8', 'MTOR', 'JUN', 'PPP1CA', 'MAPK9', 'AKT2', 'ATR', 'CREBBP', 'PRKCZ', 'SMAD4', 'SP1', 'SMAD2', 'MAP3K7', 'RAF1', 'NOTCH1', 'CDK5', 'PPP2CB', 'ESR1', 'PAK1', 'STAT3', 'TRAF6', 'SMAD3', 'PPP2CA', 'EP300', 'CASP3', 'MAPK8', 'ABL1', 'ATM', 'AR', 'EGFR', 'MAPK14', 'GSK3B', 'TP53', 'MAPK3', 'AKT1', 'MAPK1', 'CDK1', 'PRKACA', 'PRKCA'], 48: ['PLK2', 'LMNB1', 'E2F2', 'CDC14B', 'CDC14A', 'FOXM1', 'YWHAE', 'RPS6KA2', 'NEK2', 'SKP1', 'RELB', 'FOXO4', 'CASP6', 'IRF1', 'CASP2', 'YWHAH', 'GZMB', 'RARA', 'FAS', 'EIF4E', 'YWHAB', 'HIST1H4C', 'CDKN2A', 'CUL1', 'CSNK2B', 'YWHAZ', 'BTRC', 'PPARG', 'RPS6KA5', 'NR3C1', 'PRKAA2', 'RPS6KA3', 'IRF3', 'CSNK1E', 'CDKN1B', 'HSP90AA1', 'MAPT', 'CSNK2A2', 'BRCA1', 'BAD', 'GSK3A', 'MAP3K5', 'CASP1', 'STK4', 'MAPKAPK2', 'CHEK1', 'AURKA', 'AURKB', 'RPS6KA1', 'CSNK1A1', 'PRKAA1', 'NFKB1', 'MAPK9', 'AKT2', 'E2F1', 'ATR', 'NFKBIA', 'SMAD4', 'RAF1', 'HIST1H3B', 'PPP2CB', 'ESR1', 'CAMK2A', 'PAK1', 'RELA', 'PLK1', 'SMAD3', 'PPP2CA', 'CASP3', 'CTNNB1', 'MAPK8', 'ATM', 'AR', 'CDK2', 'MAPK14', 'GSK3B', 'TP53', 'MAPK3', 'AKT1', 'CSNK2A1', 'MAPK1', 'CDK1', 'PRKACA', 'PRKCA', 'SRC'], 49: ['APAF1', 'ATG5', 'BID', 'MAVS'], 50: ['HIST1H4C', 'PCNA', 'CHEK2', 'CSNK2A2', 'RB1', 'E2F1', 'ATR', 'HIST1H3B', 'PLK1', 'ATM', 'CDK2', 'TP53', 'MAPK3', 'CSNK2A1', 'CDK1'], 51: ['BRAF', 'DAPK1', 'MTOR', 'MYC', 'CREBBP', 'SMAD4', 'SMAD2', 'SMAD3', 'EP300', 'CTNNB1', 'EGFR', 'MAPK14', 'GSK3B', 'TP53', 'MAPK3', 'CSNK2A1', 'MAPK1', 'PRKACA', 'PRKCA', 'SRC'], 52: ['MAP2K3', 'PRKCI', 'MAP3K8', 'BIRC3', 'XIAP', 'RPTOR', 'PAK2', 'BCL2L1', 'NOD2', 'RIPK2', 'BIRC2', 'TSC2', 'PDPK1', 'MAPT', 'GSK3A', 'BCL2', 'TGFBR1', 'PRKDC', 'RPS6KA1', 'PRKCB', 'JUN', 'PTPN11', 'AKT2', 'MYC', 'PRKCZ', 'SMAD2', 'MAP3K7', 'STAT1', 'CDK5', 'IKBKB', 'TRAF6', 'SMAD3', 'PRKCD', 'PPP2CA', 'FYN', 'CASP3', 'CTNNB1', 'MAPK8', 'EGFR', 'MAPK14', 'GSK3B', 'MAPK3', 'AKT1', 'MAPK1', 'PRKCA', 'SRC'], 53: ['HDAC4', 'EGR1', 'MYOD1', 'KAT2B', 'CDK4', 'MAPK10', 'CHEK2', 'FOXO1', 'AURKA', 'PRKAA1', 'PPP1CA', 'MAPK9', 'ATR', 'SMAD2', 'HIST1H3B', 'CDK5', 'PLK1', 'EP300', 'CASP3', 'MAPK8', 'ATM', 'CDK2', 'MAPK14', 'GSK3B', 'TP53', 'MAPK3', 'AKT1', 'CSNK2A1', 'MAPK1', 'CDK1'], 54: ['CSF2', 'CBLC', 'MAP2', 'FGF2', 'CSF2RA', 'BLK', 'PTK6', 'IRS2', 'PIK3CD', 'PIK3CB', 'AXL', 'CTNND1', 'GAB1', 'STAT5B', 'BCAR1', 'MET', 'DOK1', 'MAPK8IP1', 'CDH1', 'DLG4', 'PXN', 'RET', 'PTK2B', 'TGFBR2', 'PIK3CG', 'IGF1R', 'ITGB4', 'PIK3CA', 'PLCG1', 'INSR', 'IRS1', 'PRKD1', 'PTK2', 'PRKCB', 'PTPN11', 'PTPN6', 'SHC1', 'LCK', 'PIK3R1', 'CAMK2A', 'STAT3', 'PRKCD', 'FYN', 'CTNNB1', 'ABL1', 'AR', 'EGFR', 'AKT1', 'PRKACA', 'PRKCA', 'SRC'], 55: ['ABL2', 'PRKCQ', 'BTK', 'CSK', 'PLCG1', 'PTPN1', 'LYN', 'SYK', 'JAK2', 'CDK5', 'LCK', 'GRB2', 'PAK1', 'PRKCD', 'FYN', 'ABL1', 'EGFR', 'MAPK3', 'AKT1', 'CSNK2A1', 'MAPK1', 'PRKACA', 'PRKCA', 'SRC'], 57: ['ATM', 'TP53'], 59: ['POLH', 'RBBP8', 'FANCD2', 'RAD51', 'H2AFX', 'CHEK2', 'BRCA1', 'CHEK1', 'MDM2', 'AURKB', 'RELA', 'PLK1', 'EP300', 'CDK2', 'TP53', 'CDK1'], 60: ['CSNK2A1'], 61: ['GRB2', 'PIK3R1', 'STAT3']}\n"
     ]
    }
   ],
   "source": [
    "half_query_filepath = directory + \"half_clusters.txt\"\n",
    "print_querylist_of_clusters_to_file(clusters, clusters.get_all_cluster_labels(), half_query_filepath, half_qualifying_proteins)\n",
    "half_fe = get_initialized_fe(background_proteins_filepath, term_mapping_filepath, termlist = background_go_terms)\n",
    "half_fe.importFiles({'query': half_query_filepath })\n",
    "half_fe.run(cluster=False)\n",
    "\n",
    "print(f\"number of functionally enriched clusters after addition of 1/2 proteins: {half_fe.enrichment['Module'].nunique()}\")\n",
    "\n",
    "\n",
    "quarter_query_filepath = directory + \"quarter_clusters.txt\"\n",
    "print_querylist_of_clusters_to_file(clusters, clusters.get_all_cluster_labels(), quarter_query_filepath, quarter_qualifying_proteins)\n",
    "quarter_fe = get_initialized_fe(background_proteins_filepath, term_mapping_filepath, termlist = background_go_terms)\n",
    "quarter_fe.importFiles({'query': quarter_query_filepath })\n",
    "quarter_fe.run(cluster=False)\n",
    "\n",
    "print(f\"number of functionally enriched clusters after addition of 1/4 proteins: {quarter_fe.enrichment['Module'].nunique()}\")\n",
    "\n",
    "\n",
    "tenth_query_filepath = directory + \"tenth_clusters.txt\"\n",
    "print_querylist_of_clusters_to_file(clusters, clusters.get_all_cluster_labels(), tenth_query_filepath, tenth_qualifying_proteins)\n",
    "tenth_fe = get_initialized_fe(background_proteins_filepath, term_mapping_filepath, termlist = background_go_terms)\n",
    "tenth_fe.importFiles({'query': tenth_query_filepath })\n",
    "tenth_fe.run(cluster=False)\n",
    "\n",
    "print(f\"number of functionally enriched clusters after addition of 1/10 proteins: {tenth_fe.enrichment['Module'].nunique()}\")\n",
    "\n",
    "\n",
    "print(half_qualifying_proteins)\n",
    "print(quarter_qualifying_proteins)  \n",
    "print(tenth_qualifying_proteins)\n"
   ]
  },
  {
   "cell_type": "code",
   "execution_count": 18,
   "metadata": {},
   "outputs": [
    {
     "name": "stdout",
     "output_type": "stream",
     "text": [
      "number of functionally enriched clusters after addition of 3 1/10 proteins: 62\n",
      "number of functionally enriched clusters after addition of 3 1/4 proteins: 62\n",
      "number of functionally enriched clusters after addition of 3 1/2 proteins: 62\n"
     ]
    }
   ],
   "source": [
    "three_tenth_qualifying_proteins = top_n_proteins(tenth_qualifying_proteins, n=3)\n",
    "three_tenth_query_filepath = directory + \"three_tenth_clusters.txt\"\n",
    "print_querylist_of_clusters_to_file(clusters, clusters.get_all_cluster_labels(), three_tenth_query_filepath, three_tenth_qualifying_proteins)\n",
    "half_tenth_fe = get_initialized_fe(background_proteins_filepath, term_mapping_filepath, termlist = background_go_terms) \n",
    "half_tenth_fe.importFiles({'query': three_tenth_query_filepath })\n",
    "half_tenth_fe.run(cluster=False)\n",
    "print(f\"number of functionally enriched clusters after addition of 3 1/10 proteins: {half_tenth_fe.enrichment['Module'].nunique()}\")\n",
    "\n",
    "three_quarter_qualifying_proteins = top_n_proteins(half_qualifying_proteins, n=3)\n",
    "three_quarter_query_filepath = directory + \"three_quarter_clusters.txt\"\n",
    "print_querylist_of_clusters_to_file(clusters, clusters.get_all_cluster_labels(), three_quarter_query_filepath, three_quarter_qualifying_proteins)\n",
    "three_quarter_fe = get_initialized_fe(background_proteins_filepath, term_mapping_filepath, termlist = background_go_terms)\n",
    "three_quarter_fe.importFiles({'query': three_quarter_query_filepath })\n",
    "three_quarter_fe.run(cluster=False)\n",
    "print(f\"number of functionally enriched clusters after addition of 3 1/4 proteins: {three_quarter_fe.enrichment['Module'].nunique()}\")\n",
    "\n",
    "\n",
    "three_half_qualifying_proteins = top_n_proteins(half_qualifying_proteins, n=3)\n",
    "three_half_query_filepath = directory + \"three_half_clusters.txt\"\n",
    "print_querylist_of_clusters_to_file(clusters, clusters.get_all_cluster_labels(), three_half_query_filepath, three_half_qualifying_proteins)\n",
    "half_three_fe = get_initialized_fe(background_proteins_filepath, term_mapping_filepath, termlist = background_go_terms) \n",
    "half_three_fe.importFiles({'query': three_half_query_filepath })\n",
    "half_three_fe.run(cluster=False)\n",
    "print(f\"number of functionally enriched clusters after addition of 3 1/2 proteins: {half_three_fe.enrichment['Module'].nunique()}\")\n",
    "\n"
   ]
  },
  {
   "cell_type": "code",
   "execution_count": null,
   "metadata": {},
   "outputs": [],
   "source": []
  },
  {
   "cell_type": "code",
   "execution_count": null,
   "metadata": {},
   "outputs": [],
   "source": []
  }
 ],
 "metadata": {
  "kernelspec": {
   "display_name": "recipe",
   "language": "python",
   "name": "python3"
  },
  "language_info": {
   "codemirror_mode": {
    "name": "ipython",
    "version": 3
   },
   "file_extension": ".py",
   "mimetype": "text/x-python",
   "name": "python",
   "nbconvert_exporter": "python",
   "pygments_lexer": "ipython3",
   "version": "3.10.6"
  },
  "orig_nbformat": 4,
  "vscode": {
   "interpreter": {
    "hash": "62f9e904ff1d4fa6e27f2984f15409dfffcff7468a54928ca0992224464fe58b"
   }
  }
 },
 "nbformat": 4,
 "nbformat_minor": 2
}
