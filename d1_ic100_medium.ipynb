{
 "cells": [
  {
   "attachments": {},
   "cell_type": "markdown",
   "metadata": {},
   "source": [
    "d1_ic100_medium"
   ]
  },
  {
   "attachments": {},
   "cell_type": "markdown",
   "metadata": {},
   "source": []
  },
  {
   "cell_type": "code",
   "execution_count": 1,
   "metadata": {},
   "outputs": [],
   "source": [
    "# imports:\n",
    "\n",
    "# standard libraries\n",
    "import numpy as np\n",
    "import pandas as pd\n",
    "import matplotlib.pyplot as plt\n",
    "# library used for functional enrichment analysis\n",
    "from func_e.FUNC_E import FUNC_E  # a method that can do funtional enrichment analysis!\n",
    "import func_e.vocabs.all as vocabs\n",
    "# following code is necessary as some functions used in the funcE class produce future warnings but i can't fix it as it is not my code\n",
    "import warnings\n",
    "warnings.simplefilter(action='ignore', category=FutureWarning)\n",
    "\n",
    "# importing the custom classes i built\n",
    "from matrix_class import ProteinMatrix # ppi matrix \n",
    "from cluster_class import AllClusters # dictionary to hold all clusters (in form number of cluster : list of proteins in that cluster)\n",
    "from degreelist_class import DegreeList # creates a list of all proteins in order of their degree\n",
    "\n",
    "# helper functions for setting up program\n",
    "from recipe_utils import initialize_matrix_clusters_degreelist\n",
    "from recipe_utils import find_clusters_and_proteins_together\n",
    "\n",
    "# helper functions for functional enrichment\n",
    "from recipe_utils import print_querylist_of_clusters_to_file\n",
    "from recipe_utils import print_protein_background_to_file\n",
    "from recipe_utils import create_term_mapping_list\n",
    "from recipe_utils import get_initialized_fe"
   ]
  },
  {
   "attachments": {},
   "cell_type": "markdown",
   "metadata": {},
   "source": [
    " **must change filenames:**"
   ]
  },
  {
   "cell_type": "code",
   "execution_count": 2,
   "metadata": {},
   "outputs": [],
   "source": [
    "interactions_file = \"data/interactions/1_ppi_string_v2.txt\"\n",
    "clusters_file = \"data/d1_ic100_medium/d1_ic100_medium.json\""
   ]
  },
  {
   "cell_type": "code",
   "execution_count": 3,
   "metadata": {},
   "outputs": [],
   "source": [
    "matrix, clusters, degreelist = initialize_matrix_clusters_degreelist(interactions_filepath=interactions_file, clusters_filepath=clusters_file)"
   ]
  },
  {
   "attachments": {},
   "cell_type": "markdown",
   "metadata": {},
   "source": [
    "*may want to change parameters below:*"
   ]
  },
  {
   "cell_type": "code",
   "execution_count": 4,
   "metadata": {},
   "outputs": [],
   "source": [
    "sqrt_qualifying_clusters, sqrt_qualifying_proteins = find_clusters_and_proteins_together(matrix, clusters, degreelist, cluster_ratio=0, cluster_constant=2, use_sqrt=True, protein_ratio=1, protein_constant=0)"
   ]
  },
  {
   "cell_type": "code",
   "execution_count": 5,
   "metadata": {},
   "outputs": [
    {
     "data": {
      "text/plain": [
       "{217: ['MPP3'], 271: ['SRRM2', 'MAD1L1', 'LSM6']}"
      ]
     },
     "execution_count": 5,
     "metadata": {},
     "output_type": "execute_result"
    }
   ],
   "source": [
    "sqrt_qualifying_proteins"
   ]
  },
  {
   "cell_type": "code",
   "execution_count": 6,
   "metadata": {},
   "outputs": [],
   "source": [
    "# from recipe_utils import top_n_proteins\n",
    "\n",
    "# three_qualifying_proteins = top_n_proteins(sqrt_qualifying_proteins, n=3) \n",
    "# three_qualifying_proteins"
   ]
  },
  {
   "cell_type": "code",
   "execution_count": 7,
   "metadata": {},
   "outputs": [],
   "source": [
    "# from recipe_utils import get_cluster_connectivity\n",
    "\n",
    "# original_cluster_connectivity = get_cluster_connectivity(matrix, degreelist, clusters, {}, sort_it=False)\n",
    "# new_cluster_connectivity = get_cluster_connectivity(matrix, degreelist, clusters, added_proteins=sqrt_qualifying_proteins, sort_it=False)\n",
    "\n",
    "# from recipe_utils import calculate_connectivity_difference\n",
    "\n",
    "# difference = calculate_connectivity_difference(original_cluster_connectivity, new_cluster_connectivity, sort_it=True)\n",
    "# difference"
   ]
  },
  {
   "cell_type": "code",
   "execution_count": null,
   "metadata": {},
   "outputs": [],
   "source": []
  },
  {
   "attachments": {},
   "cell_type": "markdown",
   "metadata": {},
   "source": [
    "### Functional Enrichment Analysis"
   ]
  },
  {
   "cell_type": "code",
   "execution_count": 8,
   "metadata": {},
   "outputs": [],
   "source": [
    "# create_term_mapping_list(\"data/go_labels/dream3_go.tsv\", \"data/go_labels/d3_term_mapping.tsv\")"
   ]
  },
  {
   "attachments": {},
   "cell_type": "markdown",
   "metadata": {},
   "source": [
    "**will need to the directory below**"
   ]
  },
  {
   "cell_type": "code",
   "execution_count": 9,
   "metadata": {},
   "outputs": [],
   "source": [
    "directory = \"data/d1_ic100_medium/\"\n",
    "term_mapping_filepath = \"data/go_labels/d1_term_mapping.tsv\""
   ]
  },
  {
   "cell_type": "code",
   "execution_count": 10,
   "metadata": {},
   "outputs": [],
   "source": [
    "background_proteins_filepath = directory + \"background_proteinlist.txt\"\n",
    "og_query_filepath = directory + \"original_clusters.txt\"\n",
    "sqrt_query_filepath = directory + \"sqrt_clusters.txt\"\n",
    "# three_query_filepath = directory + \"three_prot_clusters.txt\""
   ]
  },
  {
   "attachments": {},
   "cell_type": "markdown",
   "metadata": {},
   "source": [
    "*print to files*"
   ]
  },
  {
   "cell_type": "code",
   "execution_count": 11,
   "metadata": {},
   "outputs": [],
   "source": [
    "# use functions to print info to files: (annoying, but need to get info into format used for funcE package)\n",
    "# 1) a background protein list to be used for functional enrichment analysis\n",
    "print_protein_background_to_file(matrix, background_proteins_filepath) \n",
    "# 3) not a file, but need to establish a background of all GO terms! (to be used for functional enrichment analysis)\n",
    "background_go_terms = vocabs.getTerms(['GO'])\n",
    "\n",
    "# continue printing info to files to be used in functional enrichment analysis:\n",
    "# 4) print original clusters to a file\n",
    "print_querylist_of_clusters_to_file(clusters, clusters.get_all_cluster_labels(), og_query_filepath)\n",
    "# 5) print updated clusters to a file (just append the function to include the dictionary of qualifying proteins)\n",
    "print_querylist_of_clusters_to_file(clusters, clusters.get_all_cluster_labels(), sqrt_query_filepath, sqrt_qualifying_proteins)\n",
    "# print_querylist_of_clusters_to_file(clusters, clusters.get_all_cluster_labels(), three_query_filepath, three_qualifying_proteins)"
   ]
  },
  {
   "attachments": {},
   "cell_type": "markdown",
   "metadata": {},
   "source": [
    "*RUN Functional Enrichment:*"
   ]
  },
  {
   "cell_type": "code",
   "execution_count": 12,
   "metadata": {},
   "outputs": [],
   "source": [
    "original_fe = get_initialized_fe(background_proteins_filepath, term_mapping_filepath, termlist = background_go_terms)\n",
    "original_fe.importFiles({'query': og_query_filepath })\n",
    "original_fe.run(cluster=False)\n",
    "\n",
    "sqrt_fe = get_initialized_fe(background_proteins_filepath, term_mapping_filepath, termlist = background_go_terms)\n",
    "sqrt_fe.importFiles({'query': sqrt_query_filepath })\n",
    "sqrt_fe.run(cluster=False)\n",
    "\n",
    "# three_fe = get_initialized_fe(background_proteins_filepath, term_mapping_filepath, termlist = background_go_terms)\n",
    "# three_fe.importFiles({'query': three_query_filepath })\n",
    "# three_fe.run(cluster=False)"
   ]
  },
  {
   "attachments": {},
   "cell_type": "markdown",
   "metadata": {},
   "source": []
  },
  {
   "cell_type": "code",
   "execution_count": 13,
   "metadata": {},
   "outputs": [
    {
     "name": "stdout",
     "output_type": "stream",
     "text": [
      "::::::::::::::::::::::::::SQRT::::::::::::::::::::::::::\n",
      "\n",
      "number of clusters that were updated with proteins: 2\n",
      "\n",
      "number of functionally enriched clusters (modules) out of 299 original clusters: 287\n",
      "number of functionally enriched clusters after addition of all proteins: 287\n",
      "\n",
      "number of significant pvals in original clusters before updating: 1277\n",
      "number of significant pvals in clusters with all proteins added: 1278\n",
      "\n",
      "\n"
     ]
    }
   ],
   "source": [
    "print(f\"::::::::::::::::::::::::::SQRT::::::::::::::::::::::::::\\n\")\n",
    "# print data by the numbers!\n",
    "print(f\"number of clusters that were updated with proteins: {len(sqrt_qualifying_proteins.keys())}\\n\")\n",
    "\n",
    "# clusters that are functionally enriched\n",
    "print(f\"number of functionally enriched clusters (modules) out of {clusters.get_num_clusters()} original clusters: {original_fe.enrichment['Module'].nunique()}\")\n",
    "print(f\"number of functionally enriched clusters after addition of all proteins: {sqrt_fe.enrichment['Module'].nunique()}\")\n",
    "print(f\"\")\n",
    "\n",
    "\n",
    "#significant P-values!!!\n",
    "print(f\"number of significant pvals in original clusters before updating: {original_fe.enrichment['Fishers_pvalue'].count()}\")\n",
    "print(f\"number of significant pvals in clusters with all proteins added: {sqrt_fe.enrichment['Fishers_pvalue'].count()}\")\n",
    "\n",
    "\n",
    "print(f\"\")\n",
    "print(f\"\")"
   ]
  },
  {
   "cell_type": "code",
   "execution_count": 14,
   "metadata": {},
   "outputs": [
    {
     "name": "stdout",
     "output_type": "stream",
     "text": [
      "number of functionally enriched clusters after addition of 3 proteins: 287\n"
     ]
    }
   ],
   "source": [
    "from recipe_utils import top_n_proteins\n",
    "three_sqrt_qualifying_proteins = top_n_proteins(sqrt_qualifying_proteins, n=3)\n",
    "three_sqrt_query_filepath = directory + \"three_prot_clusters.txt\"\n",
    "print_querylist_of_clusters_to_file(clusters, clusters.get_all_cluster_labels(), three_sqrt_query_filepath, three_sqrt_qualifying_proteins)\n",
    "sqrt_three_fe = get_initialized_fe(background_proteins_filepath, term_mapping_filepath, termlist = background_go_terms)\n",
    "sqrt_three_fe.importFiles({'query': three_sqrt_query_filepath })\n",
    "sqrt_three_fe.run(cluster=False)\n",
    "print(f\"number of functionally enriched clusters after addition of 3 proteins: {sqrt_three_fe.enrichment['Module'].nunique()}\")\n"
   ]
  },
  {
   "cell_type": "code",
   "execution_count": 15,
   "metadata": {},
   "outputs": [],
   "source": [
    "half_qualifying_clusters, half_qualifying_proteins = find_clusters_and_proteins_together(matrix, clusters, degreelist, cluster_ratio=0, cluster_constant=2, use_sqrt=False, protein_ratio=.50, protein_constant=0)\n",
    "quarter_qualifying_clusters, quarter_qualifying_proteins = find_clusters_and_proteins_together(matrix, clusters, degreelist, cluster_ratio=0, cluster_constant=2, use_sqrt=False, protein_ratio=.25, protein_constant=0)\n",
    "tenth_qualifying_clusters, tenth_qualifying_proteins = find_clusters_and_proteins_together(matrix, clusters, degreelist, cluster_ratio=0, cluster_constant=2, use_sqrt=False, protein_ratio=.10, protein_constant=0)\n",
    "\n"
   ]
  },
  {
   "cell_type": "code",
   "execution_count": 16,
   "metadata": {},
   "outputs": [
    {
     "name": "stdout",
     "output_type": "stream",
     "text": [
      "number of functionally enriched clusters after addition of 1/2 proteins: 287\n",
      "number of functionally enriched clusters after addition of 1/4 proteins: 287\n",
      "number of functionally enriched clusters after addition of 1/10 proteins: 297\n",
      "{}\n",
      "{271: ['SRRM2', 'MAD1L1', 'LSM6']}\n",
      "{0: ['MLH1'], 1: ['SOX2', 'HECW1'], 3: ['VPS26A', 'VPS39', 'BCKDHA', 'ACSS1', 'SPTBN5', 'SPTBN4', 'VPS35', 'SPTBN2', 'ARF6', 'SPTA1', 'SPTBN1', 'PLCG1', 'RGPD8', 'SUCLA2', 'VAMP7', 'SPTAN1'], 4: ['DACT1', 'CDH5', 'NUDT8', 'HES1', 'TTR', 'PCCB', 'NPS', 'AVP', 'GCGR', 'TAGLN', 'GCG', 'UPF3A', 'UQCR10', 'UPF2', 'DLK2', 'BIRC3', 'BIRC2', 'ASH2L', 'AGFG1', 'CARNS1', 'CTSA', 'GOT2', 'ILF2', 'CAMK2G', 'CAMK2D', 'UPF3B', 'CAMK2B', 'CAMK2A', 'PDLIM5', 'MPP1', 'MPP4', 'CAPZA3', 'MPP7', 'MPP5', 'MPP2', 'TOP3B', 'MPP6', 'MPP3', 'CAPZA2', 'ANXA1', 'TOP3A', 'CORO1B', 'PFN1', 'UQCRFS1', 'GNG2', 'CAPZA1', 'IKBKG', 'CYCS'], 6: ['ISCU', 'POLDIP3', 'NOS1', 'NOS2'], 7: ['ALDH1L2', 'UBE2H', 'PGAM2', 'TXNRD2', 'IQGAP1'], 8: ['ORC3'], 9: ['ACTN4'], 10: ['CEPT1', 'AGPAT5', 'AGPAT1', 'LPGAT1', 'AGPAT3', 'AGPAT4', 'LCLAT1', 'AGPAT2', 'GAD2', 'NEK6', 'BAP1', 'VAMP5', 'VAMP4', 'VAMP8', 'VAMP1', 'VAMP3'], 11: ['SPCS1', 'AKTIP', 'WDR48'], 15: ['MRPL27', 'IARS2', 'AHCYL1', 'MRPS16', 'AHCY'], 16: ['ME3', 'ME2', 'C10orf129', 'ME1', 'ACSM5', 'LGSN', 'ACSM3', 'ACSS3', 'AMT', 'AACS', 'ACSS1', 'ACSM1', 'HIBCH', 'ACSS2', 'GOT2', 'IDH3G', 'ACAT2', 'IDH3B', 'EARS2', 'GLUL', 'ATG7', 'IDH3A', 'PRPSAP2', 'ACAT1'], 17: ['IKBKG'], 19: ['METTL2B', 'METTL2A', 'USP28', 'RAB22A', 'RAB24', 'COPS2', 'ALKBH8', 'MON2', 'DRG1', 'CSNK1G2', 'SMAD4', 'EXOSC2', 'TENC1', 'CBS', 'RAB5A', 'WNT5A', 'XRCC5'], 20: ['U2SURP', 'SRA1', 'NUMA1', 'KCNMA1', 'IRX2', 'NCAPG', 'MARCH3', 'MARCH2', 'UPF2', 'SRSF3', 'TBL1X', 'DCK', 'SRSF2', 'UPF3B', 'RBM25', 'ESF1', 'MRPL27', 'COPS6', 'TTK', 'RAB5A'], 24: ['KEAP1', 'NOTCH2NL', 'ATXN1', 'ATP7A', 'ATP7B', 'CTBP1', 'TGFBR1', 'LSM1', 'SMAD2', 'DDB1'], 26: ['EAF1', 'CLIC5', 'BRD7', 'PTPLAD2', 'PTPLA', 'PTPLB', 'PTPLAD1', 'CBX5', 'HELB', 'TLE4', 'DGAT1', 'TERF2', 'DPYSL2', 'AK7', 'PIF1', 'CCS', 'HPRT1', 'PTPRE', 'AK8', 'AK4', 'PTPRZ1', 'PTPRA', 'MOSPD3', 'ATP7A', 'TBL1X', 'ATP7B', 'PTPRS', 'AK2', 'VPS35', 'SOD3', 'PTPRD', 'MPP1', 'EIF4G3', 'MPP4', 'MPP7', 'GINS1', 'CCND1', 'UCHL5', 'PTPRF', 'PAPD7', 'SOX2', 'MPP5', 'MPP2', 'VAPB', 'MPP6', 'PTPRG', 'PPCDC', 'MPP3', 'TALDO1', 'POLR3K', 'STX1A', 'SMARCD1', 'ATP6V1B2', 'VAPA', 'SMAD2', 'ABCC1', 'SLC25A3', 'SMARCD3', 'TXNRD2', 'EXO1', 'FANCM'], 28: ['DCAKD', 'AK3', 'DNAJB8', 'COPS2', 'PGS1', 'GUF1', 'LARP1B', 'UBFD1', 'LSM10'], 31: ['FDPS', 'CTSD', 'TNPO1', 'SLC25A3', 'TXNRD2'], 33: ['AGPS', 'MTA1', 'RERE', 'NR0B2', 'TAF5L', 'CTNNA1', 'TAF5', 'NCOR1'], 34: ['TTR', 'POLE3', 'SPAG6', 'RGPD3', 'RPE', 'NACA', 'RGPD8', 'RGPD1', 'RGPD5', 'RGPD6', 'RGPD2'], 36: ['REEP6', 'AKR1C2', 'AKR1E2', 'AKR1B10', 'AKR1A1', 'AKR1B1', 'TALDO1'], 37: ['CACNA1S'], 38: ['FBXO25', 'AKR1B1', 'AMT', 'KDM5D', 'KDM5C', 'HTT', 'KDM5A', 'AK2', 'KDM5B', 'PLCB3', 'ANXA1', 'AGT', 'TXNRD2', 'SSBP1'], 42: ['SUB1', 'POLR3H'], 43: ['DPYSL2', 'STXBP2', 'STXBP1', 'SAA1', 'KNG1'], 46: ['WDHD1', 'ANAPC10', 'DCP2', 'NCOR1', 'RAD21L1', 'STIP1'], 50: ['STOML3', 'NR4A1', 'DNMT1', 'PAAF1', 'RARA', 'AK1', 'PTBP3', 'TCEB1', 'DMWD', 'TBC1D30', 'COPS2', 'IKBKB', 'TGFBR1', 'CCDC88B', 'FBXW11', 'BRCA1', 'CSTF2', 'PLCG1', 'NCOR1', 'UBFD1', 'USP7', 'XRCC5', 'PSMD3', 'MLST8'], 52: ['QTRTD1', 'ARFGEF2', 'PI4KB'], 53: ['PARP1', 'SF3A1'], 55: ['COX6B1', 'NDUFS6', 'TBC1D21', 'TBC1D25', 'VIM', 'TBC1D17', 'TNNI2', 'TNNI1', 'TOPBP1', 'TNNI3', 'TBC1D15', 'COX6A2', 'TNNT1', 'HIF1A', 'VDAC3', 'NDUFB10', 'VDAC2', 'PRC1', 'VDAC1', 'TENC1', 'RPLP1', 'HINT1'], 57: ['SLC9A1'], 61: ['QKI', 'FLAD1', 'TCF3'], 64: ['NKTR', 'PPIG', 'SSBP1'], 65: ['NCK2', 'PIAS2', 'RCC1', 'CHFR'], 67: ['USHBP1', 'PPIL4'], 68: ['PPP2R5C'], 69: ['STRADB', 'KLHL7', 'TRAF5', 'YIPF2', 'PGAM5', 'LEPR', 'DAK', 'ARRDC4', 'STX10', 'RB1CC1', 'MRPL49', 'SMPD2', 'STX6', 'STX8', 'ENPP5', 'LEP', 'CNOT3', 'SMAD6', 'SORL1', 'TP53RK', 'MGAM', 'GANC', 'ATF6', 'ZNF598', 'CERKL', 'VTI1A', 'SMAD9', 'GOSR1', 'VTI1B', 'RNMTL1', 'MRM1', 'SRP68', 'VAC14', 'MOSPD2', 'SPHK2', 'SMAD5', 'SPCS2', 'RPAP2', 'GADL1', 'SMAD7', 'SRP72', 'MTNR1B', 'EDN1', 'HDC', 'SPHK1', 'SAR1A', 'VPS4B', 'ULK2', 'LPP', 'CSAD', 'GTF2H3', 'SAR1B', 'GANAB', 'SEPSECS', 'ZNF259', 'ULK1', 'AQP10', 'SGPL1', 'USP34', 'DDC', 'USP24', 'TARBP1', 'AQP7', 'AQP9', 'USP25', 'SAG', 'IPO9', 'RNFT2', 'BECN1', 'SMAD1', 'FIG4', 'USP21', 'PDK3', 'GPCPD1', 'GTF2H1', 'PDK4', 'USP49', 'PDK2', 'SUPT3H', 'RALBP1', 'PDLIM1', 'GAD2', 'BCKDK', 'UBE4B', 'DNTTIP2', 'AZIN1', 'ADC', 'RNFT1', 'PDK1', 'TRIP6', 'GAD1', 'TMED10', 'MNAT1', 'AQP3', 'MAP1LC3B2', 'GTF2F2', 'SMN1', 'ERCC3', 'MDC1', 'WDR69', 'SEL1L3', 'MOSPD3', 'DECR1', 'GTF2F1', 'USP9X', 'ARPC2', 'ODC1', 'UBE2V2', 'HECTD3', 'PGM2L1', 'VPS35', 'AKAP13', 'CAMK2B', 'AP3B2', 'KIAA0317', 'RNF145', 'TCF7L1', 'MAP1LC3C', 'HIP1', 'CTBP1', 'DDOST', 'CFDP1', 'UBE2V1', 'PTPRD', 'ADRBK2', 'RNF139', 'HIP1R', 'ARRB1', 'ZNF622', 'CCDC88B', 'SETX', 'APRT', 'FARSB', 'EIF4G3', 'AP3B1', 'REXO4', 'POLR2D', 'FBXW11', 'CDK7', 'CCNT1', 'VAMP8', 'POLR3H', 'DMD', 'TCF7', 'MAD1L1', 'SEC13', 'VAMP1', 'MON2', 'VAPB', 'GABARAP', 'PTPRG', 'HECTD2', 'SUZ12', 'BRWD1', 'SMAD4', 'CHFR', 'VARS2', 'VAMP3', 'TCF7L2', 'PRPF4', 'DDX3Y', 'SACM1L', 'ERCC2', 'ABCB5', 'AMFR', 'VAPA', 'SYVN1', 'SMAD2', 'TTC27', 'VAMP7', 'DDX4', 'PIAS1', 'CCNH', 'BAZ1B', 'IKBKG', 'ABCB4', 'MAPRE2', 'SPTAN1', 'BAZ2B', 'ABCB11', 'USP7', 'ATAD1', 'DDB1', 'MLST8', 'MAPRE3', 'ABCB1'], 71: ['SLC5A12', 'EIF3J', 'GTF2A2', 'AK5', 'ATP2B1', 'HPRT1', 'CCNT2', 'PDZD2', 'DLG5', 'TERF1', 'DMWD', 'PDHX', 'TFIP11', 'RPL35A', 'DNAJB11', 'INADL', 'APRT', 'SAT1', 'RPL37', 'CCNT1', 'WDR4', 'NACAD', 'RPS10', 'NACA2', 'COPS6', 'MRPL24', 'SUZ12', 'TALDO1', 'METAP1D', 'NACA', 'TOX4', 'RPL21', 'SRPR', 'NPM1', 'METAP1', 'IKBKG', 'GRPEL2', 'EIF3E', 'RPS24', 'BMI1', 'RPL31', 'MAPRE3', 'MRPS11'], 73: ['LHPP', 'SLC17A3', 'ATP6V1G3', 'GFER', 'NFU1', 'MINPP1', 'ATP6V1G1', 'SLC22A12', 'SLC22A7', 'ITPR1', 'NEMF', 'ENPP3', 'MECR', 'ERMN', 'FBXO25', 'UNC45A', 'ATXN2L', 'ATXN2', 'PDLIM3', 'PAPSS1', 'OSBP', 'UROD', 'SPNS1', 'CDS2', 'IREB2', 'CDS1', 'SPTB', 'CDIPT', 'PDHX', 'TIMM50', 'ADRM1', 'CLPP', 'ALDOB', 'PSMD8', 'TRIT1', 'MPP1', 'CTNND1', 'MPP4', 'BRCC3', 'MPP7', 'SPTA1', 'MPP5', 'MPP2', 'MPP6', 'MPP3', 'PRPSAP1', 'CIB2', 'EXOSC2', 'ACTR6', 'VAPA', 'NOS1', 'ERCC5', 'WBSCR27', 'SPTAN1', 'TXNRD2'], 74: ['GNG2'], 76: ['POTEB', 'NKPD1', 'POTEG', 'ANKRD35', 'POTEM', 'CASKIN1', 'POTEC', 'ANKRD24', 'ABTB1', 'KANK3', 'FPGT-TNNI3K'], 78: ['EYS', 'FRZB', 'HSPG2', 'NCK2', 'CAB39', 'UBXN2A', 'UBXN2B', 'WNT10A', 'UBXN11', 'WNT6', 'WNT8A', 'WNT8B', 'WNT9B', 'WNT9A', 'PTPRD', 'WNT16', 'RBM25', 'SAT1', 'NSFL1C', 'CCDC130', 'WNT5B', 'WNT11', 'WNT7A', 'WNT10B', 'WNT2B', 'NCK1', 'WNT3', 'WNT7B', 'WNT2', 'WNT4', 'POTEB', 'NKPD1', 'POTEG', 'ANKRD35', 'POTEM', 'CASKIN1', 'POTEC', 'SNRPB2', 'WNT5A', 'ANKRD24', 'ABTB1', 'KANK3', 'FPGT-TNNI3K'], 80: ['MGLL', 'POU2F1', 'CERK', 'NGF', 'MED19', 'MON1B', 'MON1A', 'NCOA6', 'NCOA1', 'TGS1', 'TRAF6', 'WNT10B', 'SCD5', 'PLAA', 'TCEA3', 'SMARCD3'], 83: ['ACAT1', 'NDUFAB1'], 84: ['TCF12', 'KIAA0664', 'TCF4', 'CHMP3', 'MBTPS1', 'RNF103-CHMP3', 'TCF3', 'TRMT112', 'NOP10', 'AFG3L2', 'TIMM13', 'ZNF593', 'RRP15', 'USP6', 'SPG7', 'REXO4', 'FBXW11', 'EXOSC3', 'ISG20L2', 'DRG1', 'YME1L1', 'RRP8', 'EXOSC2', 'DDX60', 'UTP11L', 'RAB28', 'ISG20', 'AEN', 'TTC27', 'WDR43', 'EIF5', 'ATP6V1B1', 'TSNARE1', 'STX16-NPEPL1', 'SSBP1', 'EXOSC5', 'STX17', 'EXOSC4', 'SPAST', 'STX16'], 86: ['SLC9A5', 'SLC9A2', 'SLC9A3', 'SLC9A6', 'SLC9A7', 'SLC9A9', 'SLC9C1', 'SLC9A8', 'SLC9A1', 'GGA3', 'MCAT', 'MTRR', 'POR', 'NOS1', 'SLC25A3', 'NOS3', 'NOS2'], 87: ['LGALS1', 'IRS4', 'MAP2K7', 'GNG2', 'NPM1', 'SLC25A3'], 88: ['FBXW11', 'PGM3', 'MLST8'], 89: ['AJUBA', 'GRAP', 'TRIP6', 'SPTBN1', 'NCK1', 'TTC27', 'AHCY'], 92: ['EMC1', 'PITRM1', 'TSG101', 'CPVL', 'TIPIN', 'OAT', 'CTSA', 'SLC25A31', 'SLC25A6', 'SLC25A4', 'THNSL1', 'CSE1L', 'AHCYL1', 'TKTL1', 'PSMB7', 'PSMB10', 'TKTL2', 'CDC7', 'MCM8'], 93: ['HMMR', 'ARNT', 'TFAP2A', 'EPAS1', 'VDR', 'PGR', 'CDH1', 'HIF1A', 'DBNL', 'DCK', 'BCL2', 'COPS2', 'SHC1', 'WDR4', 'CCNE1', 'SKP2', 'NCK1', 'SUZ12', 'BMI1', 'RPL31', 'STAT3'], 94: ['CCND3', 'ANXA1', 'MIB2', 'RPS17'], 98: ['PLXND1', 'ARHGDIB', 'UGCG', 'PAX6', 'CALR', 'TRAF2', 'PIAS2', 'TCF7L2', 'PSMA7'], 101: ['GCFC2', 'TDRD6', 'NOMO1', 'ALPL', 'CEP72', 'P4HA2', 'HLA-C', 'ISCA1', 'BRMS1L', 'HLA-A', 'BRMS1', 'P4HA1', 'HLA-B', 'KCNAB3', 'CEP70', 'ERG', 'ISCA2', 'COQ5', 'LMF1', 'KCNAB1', 'KCNAB2', 'CEP76', 'B2M', 'KHDC3L', 'KCNA2', 'SPOPL', 'TMEM68', 'SRP68', 'SSR1', 'SPCS2', 'SND1', 'TAGLN2', 'MEPCE', 'SSR3', 'FBXO25', 'PARP3', 'MRPL33', 'AQP2', 'PEMT', 'NEK7', 'NAA10', 'RFX2', 'NAA11', 'USP30', 'SMS', 'PARP4', 'SSR2', 'USP44', 'AQP10', 'EPN1', 'STOML2', 'STOM', 'NUP98', 'IMMT', 'TATDN3', 'STAG2', 'TATDN2', 'CPOX', 'AQP7', 'ARID3B', 'SPOP', 'EFNB1', 'AK5', 'CMPK1', 'AQP9', 'RNFT2', 'MRPL36', 'USP3', 'GPCPD1', 'MCM10', 'EHBP1L1', 'USP49', 'TATDN1', 'BIRC6', 'PLSCR1', 'MBTPS1', 'EHBP1', 'SUPT3H', 'GTPBP5', 'REN', 'CDYL2', 'ATP6V0B', 'RNFT1', 'AK1', 'CDY1B', 'CDY2B', 'CDY2A', 'CDY1', 'TCF3', 'AQP3', 'TUBGCP3', 'GTPBP10', 'SPTB', 'CDYL', 'SPTBN5', 'PARP2', 'AKD1', 'KDM5D', 'KDM5C', 'LCP1', 'RPN2', 'RPL28', 'SPTBN4', 'EIF3M', 'DENR', 'TAF6', 'USP9X', 'KDM5A', 'ATP7B', 'RSPO3', 'TBC1D30', 'TIMM13', 'ADRM1', 'RSPO1', 'ELP2', 'ECT2', 'HNRNPU', 'ATP6V0C', 'TAF5L', 'SPTBN2', 'GRTP1', 'CTSD', 'UPF3B', 'ING2', 'DNAJC25', 'RICTOR', 'ING3', 'ZCCHC13', 'SEC63', 'ATP5H', 'RNF145', 'TBC1D2', 'USP6', 'MAPKAP1', 'DDOST', 'TBC1D2B', 'CNNM3', 'DNAJC25-GNG10', 'EIF3H', 'RNF139', 'PML', 'ATP5G3', 'ZNF622', 'CNNM4', 'TAP1', 'PSMA6', 'STX3', 'PABPN1', 'CNNM2', 'KDM5B', 'GARS', 'ATP5G1', 'CAPZA3', 'ZCCHC9', 'HELQ', 'FUS', 'CANX', 'CNNM1', 'SIRT4', 'SPTA1', 'ATP5G2', 'GDI2', 'CSTF2', 'TAF5', 'STX2', 'PCBP2', 'SPTBN1', 'STX1B', 'TOX3', 'UCHL5', 'GBE1', 'POLDIP3', 'PARK2', 'RBPJ', 'CORO6', 'RAB1A', 'TSFM', 'HECTD2', 'ADSS', 'SUZ12', 'CORO2B', 'TOX', 'RGPD3', 'CIB2', 'CHFR', 'PCBP1', 'ANXA1', 'VARS2', 'CSE1L', 'RGPD8', 'STX1A', 'RGPD1', 'MIB2', 'RPLP1', 'RGPD5', 'DDX3Y', 'PLAA', 'HECW1', 'AMFR', 'LSM1', 'CORO2A', 'CORO1B', 'ATP6V1B2', 'RGPD6', 'SIRT6', 'ISG20', 'SYVN1', 'PAF1', 'KCNIP2', 'UQCRFS1', 'NOS1', 'DDX4', 'SRPR', 'CAPZA1', 'PGM3', 'SMARCAL1', 'CORO1C', 'RAD21L1', 'ATP6V1B1', 'PARP1', 'DAZ3', 'YBX1', 'PPIH', 'DAZ2', 'RBM3', 'POTEC', 'KCNIP3', 'EIF3E', 'RPS24', 'RGPD2', 'WBSCR27', 'SPTAN1', 'MORF4L2', 'SNRPB2', 'RNF40', 'PSMD2', 'ERCC6', 'MAPK9', 'NOS3', 'MLST8', 'GNL1', 'NOS2', 'ACTN4', 'STIP1', 'DAZ4'], 102: ['LARP1B'], 105: ['NGFR', 'GTF2H1', 'APC', 'ALDOA', 'STAT3'], 106: ['HCFC1'], 109: ['TRAPPC1', 'HBE1', 'HBG2', 'SCO1', 'USE1', 'RORC', 'S100A9', 'RORA', 'HBD', 'ELF5', 'ETV7', 'DNAJC13', 'NR2C1', 'HBB', 'TBC1D1', 'SCO2', 'RNF150', 'ZNRF3', 'PGC', 'PGA4', 'RNF6', 'PGA5', 'PGA3', 'RNF130', 'RNF103', 'BACE2', 'RP1', 'EIF4ENIF1', 'PJA1', 'TBC1D4', 'RNF115', 'SPI1', 'RNF126', 'UCHL3', 'ARID1A', 'GET4', 'RNF111', 'SMARCE1', 'NAPSA', 'SENP5', 'CTSE', 'RNF11', 'UBOX5', 'UBE4A', 'SENP1', 'AJUBA', 'SENP2', 'NCOA1', 'DHX58', 'SGPL1', 'XPA', 'ATP2B3', 'REV1', 'PAXIP1', 'SP100', 'BACE1', 'LAP3', 'RNFT2', 'GDI1', 'POLK', 'RAD18', 'RTEL1-TNFRSF6B', 'SENP3', 'ATP2B2', 'ATP2B4', 'ATP2B1', 'RTEL1', 'IFIH1', 'UBE4B', 'REN', 'PMS2', 'PMS1', 'BRIP1', 'ZMIZ1', 'RNFT1', 'RNF103-CHMP3', 'ZMIZ2', 'RABL6', 'HIRA', 'UBA5', 'SEC23B', 'MAP1LC3B2', 'RAB19', 'RECQL5', 'PARP2', 'DDX58', 'RAB43', 'TCEB1', 'MUS81', 'GABARAPL3', 'AIFM1', 'NR3C1', 'MYD88', 'SLC25A31', 'RAB33A', 'COPG2', 'RAB33B', 'POLH', 'NAE1', 'HNRNPU', 'UBE2V2', 'SEC23A', 'HECTD3', 'PIAS3', 'CTSD', 'ING3', 'KIAA0317', 'STUB1', 'RNF145', 'PSMD11', 'MAP1LC3C', 'POLI', 'UBE2V1', 'RNF139', 'COPG1', 'SUPT4H1', 'PML', 'RAB1B', 'RECQL', 'BRCC3', 'VPS72', 'RASGEF1B', 'HELQ', 'BRCA1', 'GINS1', 'FBXO18', 'ERCC4', 'GDI2', 'SLC25A6', 'PSMA2', 'ATG7', 'NACAD', 'IQCA1', 'PEX1', 'DDX11', 'PIAS4', 'SLC25A4', 'RAB44', 'UBA3', 'RASEF', 'NACA2', 'TOP3B', 'PIAS2', 'REV3L', 'BLM', 'RAB40C', 'RAB40A', 'RAB1A', 'GABARAP', 'RAB40B', 'RAB12', 'RAB40AL', 'CHFR', 'WRN', 'FIGN', 'NACA', 'RAB15', 'SMARCD1', 'MIB2', 'RAB28', 'SF3A2', 'RAB8B', 'AMFR', 'CBS', 'RAB13', 'MLH1', 'SYVN1', 'PAF1', 'PIAS1', 'FIGNL1', 'PARP1', 'ERCC5', 'IKBKG', 'STAT1', 'RGPD2', 'RAB10', 'CLHC1', 'USP7', 'RNF40', 'UBA6', 'PSMD2', 'ATAD1', 'DDB1', 'EXO1', 'SPAST', 'FANCM', 'STAT3', 'FPGT-TNNI3K'], 110: ['SOCS1', 'SOCS3', 'C1QBP', 'STAT5B', 'SLC2A4', 'IDH3G', 'STAT5A', 'IDH3B', 'MT-CO2', 'MAGI3', 'GLUD1', 'TALDO1', 'MRPL12', 'RPL22', 'STAT3'], 113: ['COG3', 'TJP1', 'SQSTM1', 'KNG1', 'DALRD3', 'RARS2', 'NOS2'], 115: ['LSM1'], 118: ['COPZ1', 'TMED10', 'APC', 'HINT1'], 119: ['GINS1'], 120: ['FLOT2', 'CWF19L2', 'LEMD2', 'LEMD3', 'UXT', 'ARHGAP10', 'SNX12', 'OPHN1', 'RBM23', 'ARHGAP26', 'APPL1', 'BANF1', 'NFX1', 'MEIS2', 'SNX7', 'VPS29', 'ARFRP1', 'CHM', 'AP1G2', 'AP5M1', 'AP4M1', 'SRSF7', 'ASNA1', 'IHH', 'RUSC1', 'AP1G1', 'RBM39', 'AES', 'AP1M2', 'TSC1', 'SRSF3', 'GGA3', 'GGA2', 'GGA1', 'FDPS', 'RAB17', 'RAB22A', 'TBC1D22A', 'U2AF1', 'AP1M1', 'TBC1D22B', 'SRRM1', 'RAB5C', 'SMN1', 'RAB31', 'RAB24', 'ARCN1', 'AP4B1', 'RAB5B', 'RAB20', 'WNT10A', 'PGM2L1', 'WNT8B', 'UPF3B', 'AP3B2', 'FCF1', 'RPL35A', 'WNT9B', 'CPSF3', 'WNT9A', 'EIF2C3', 'WDR82', 'TIMM10', 'SEPT6', 'PGM2', 'EIF2C4', 'MT-CO2', 'AP3B1', 'EIF1', 'WDR74', 'VAMP4', 'RPL37', 'USO1', 'PGS1', 'COPB2', 'AP1B1', 'RPL34', 'CPSF2', 'WNT11', 'RIOK2', 'AP2M1', 'CIB3', 'VAMP1', 'RAB9A', 'WNT10B', 'PPIL3', 'WASL', 'SMAD4', 'VAMP3', 'TCF7L2', 'ACTR6', 'AP2B1', 'RACGAP1', 'SF3A2', 'RAB13', 'RAB5A', 'RPL32', 'VAMP7', 'PGM3', 'NKTR', 'PARP1', 'PPP2R2C', 'LSM10', 'SF3A1', 'PPIH', 'TSNARE1', 'ABCC2', 'PPIG', 'SEPT7', 'RPS27', 'STX16-NPEPL1', 'RPS28', 'RPL31', 'EXOSC5', 'STX17', 'RPL38', 'LSM6', 'EXO1', 'RPL36', 'STX16'], 121: ['VIM', 'ADSL', 'MRPL17', 'TSFM', 'NDUFAB1'], 122: ['CLCN3', 'GZMK', 'MSX2', 'TICAM2', 'MSX1', 'IL1A', 'IL23A', 'CCL11', 'SOCS5', 'IL12A', 'CISH', 'IL23R', 'DPY19L1', 'GZMA', 'CSF3R', 'IL12B', 'SOCS4', 'IL12RB2', 'SOCS7', 'MFSD1', 'IL12RB1', 'BOLA3', 'SOCS2', 'SLC22A25', 'SLC22A10', 'SLC22A24', 'SLC17A3', 'SCN4A', 'SLC22A9', 'SLC22A11', 'SLC22A8', 'IL6', 'SLC2A11', 'SLC22A6', 'PJA1', 'MEFV', 'CBLC', 'FSD2', 'SV2B', 'SLC22A12', 'SLC22A7', 'SLC2A7', 'SLC16A11', 'SLC22A1', 'SLC16A12', 'SLC2A9', 'SLC16A6', 'SLC16A8', 'SLC16A10', 'SLC16A9', 'NGFR', 'SLC2A5', 'SLC16A5', 'MPDZ', 'SLC22A2', 'SOCS1', 'SLC2A14', 'EID3', 'NSMCE4A', 'SLC16A1', 'SLC2A3', 'DCLRE1C', 'CBLB', 'EPAS1', 'FPR1', 'NUBP1', 'SPNS3', 'SOCS3', 'IRS2', 'MED8', 'SLC2A2', 'ASAP3', 'SLC2A1', 'SPNS2', 'AGAP2', 'ADRB2', 'RCC2', 'SELRC1', 'MAF1', 'TK1', 'PAXIP1', 'ASAP2', 'DCTN1', 'MFSD3', 'PDF', 'SLC33A1', 'PTK2B', 'SPNS1', 'HIF1A', 'SMAP1', 'INPP5B', 'ADAP2', 'SPRTN', 'PRIM1', 'SMAP2', 'AQP3', 'ADAP1', 'IRS1', 'STAT5B', 'SEL1L3', 'BAP1', 'TRAF2', 'LRP2BP', 'SLC2A4', 'ALG1L', 'SEL1L2', 'WNT6', 'WNT8A', 'PPCS', 'LPXN', 'STAT5A', 'ALG11', 'ALG1', 'CRY2', 'CRY1', 'PFN4', 'WNT9B', 'SHC1', 'WNT9A', 'GNPNAT1', 'ALG2', 'SEL1L', 'ARRB1', 'CNNM4', 'CBL', 'KIAA0141', 'SPO11', 'PIGA', 'GINS1', 'WNT5B', 'PFN2', 'SEC13', 'WASL', 'PPCDC', 'HECTD2', 'PTPN6', 'AEN', 'PFN1', 'STAT1', 'MORF4L2', 'WNT5A', 'MAPK9', 'IQGAP1', 'AIMP1', 'KANK3', 'ABCB1', 'STAT3'], 123: ['AK1'], 124: ['SPNS2', 'SPNS1', 'OSGEP', 'GLUD2', 'GLUD1'], 125: ['AP2B1', 'AGT'], 127: ['TEF', 'WWTR1', 'LIN9', 'C9orf3', 'GNPDA1', 'MEOX1', 'UCK2', 'DERA', 'RNPEPL1', 'SH3RF3', 'DLK1', 'TACC3', 'RNF10', 'HMCN2', 'MNX1', 'RNPEP', 'FASN', 'LTA4H', 'HRSP12', 'TRHDE', 'CNDP1', 'UNC45A', 'ERAP1', 'ISYNA1', 'ENPEP', 'ACSM4', 'ERAP2', 'C10orf129', 'PMM1', 'PMM2', 'ACSM2B', 'ACSM2A', 'CNDP2', 'SCLY', 'ACSM5', 'ACSM3', 'ACSS3', 'RPA4', 'AK7', 'ANPEP', 'LNPEP', 'SAC3D1', 'CTBP2', 'AK3', 'AACS', 'NPEPPS', 'ACSS1', 'ACSM1', 'AK8', 'BCKDHB', 'OAT', 'AKD1', 'AK4', 'MCM3AP', 'ACSS2', 'ADSL', 'PDHX', 'AK2', 'DLAT', 'IDH2', 'SHC1', 'PML', 'FARSB', 'ADSSL1', 'SAT1', 'REL', 'FUS', 'ATIC', 'GUF1', 'IDH3A', 'IDH1', 'THNSL1', 'RASEF', 'RPA2', 'TSFM', 'DALRD3', 'ADSS', 'TOX', 'CDC25B', 'VARS2', 'RPE', 'ACAT1', 'DDX3Y', 'NDUFAB1', 'ATP6V1B2', 'RPL22', 'ABCC8', 'RARS2', 'ATP6V1B1', 'IKBKG', 'STAT1', 'BMI1'], 128: ['DOPEY2', 'DOPEY1', 'ARHGEF5', 'CBX6', 'TRIM23', 'COPA', 'EIF3G', 'DDX3Y', 'DDX4', 'DAZ3', 'DAZ2', 'RBM3', 'DAZ4'], 130: ['ABCG2', 'GPX1', 'COX10'], 131: ['EXOSC8', 'EXOSC2', 'ACTR6', 'PLAA', 'TKTL2'], 132: ['CEP78', 'ETV6', 'SCAF4', 'CTU1', 'RBBP5', 'AHCYL2', 'MFAP1', 'CSTF2', 'PGAM2', 'WASL', 'GLUD1', 'AHCYL1', 'EPS15', 'AHCY'], 133: ['RPA2', 'NCOR1'], 134: ['USP11', 'ARHGEF26', 'PGAM4', 'E2F1', 'BPGM', 'ARHGEF16', 'ARHGEF11', 'ARHGEF1', 'AKAP13', 'ARHGEF12', 'CCDC130', 'PGAM2', 'ITPA', 'PGAM1', 'RPTOR', 'BUD31', 'PSMB10'], 137: ['CEBPD', 'TAF6L', 'CCNK', 'AKTIP', 'TRIM23', 'CCDC88B', 'CORO6', 'CORO2B', 'CORO2A', 'CORO1B', 'CORO1C', 'IKBKG', 'DNAJC2'], 138: ['DAG1', 'MPDZ', 'USP48', 'TOM1L2', 'TOM1', 'LNX1', 'UBL5', 'TOM1L1', 'FBXO8', 'GGA3', 'GGA2', 'GGA1', 'REN', 'ALAS1', 'NEDD8-MDP1', 'ARFGEF1', 'PSMA6', 'INADL', 'PLCB1', 'ARFGEF2', 'SMAD4', 'CSE1L', 'PSMB4', 'SMAD2', 'UBFD1', 'CLHC1'], 139: ['SF1', 'CKS1B'], 140: ['ASAP1', 'ADAP1'], 142: ['JMJD1C', 'MFRP', 'CORIN', 'NBR1', 'SFRP5', 'SFRP4', 'FZD9', 'PRKCI', 'FZD10', 'FZD8', 'SMO', 'FZD7', 'FZD3', 'FZD6', 'SFRP2', 'FRZB', 'ACVR1B', 'SFRP1', 'FZD1', 'FZD5', 'FZD2', 'FZD4', 'CDC37', 'WASL', 'STAT3'], 143: ['TLK2', 'PEBP4', 'MRPL38', 'TIA1', 'TIAL1', 'RFX3', 'SSR2', 'PEBP1', 'COX5B', 'PLSCR1', 'HELZ', 'RPN1', 'KDM5C', 'RPN2', 'PMCH', 'KDM5A', 'ZCCHC13', 'DDOST', 'CNNM3', 'DNAJB11', 'CNNM4', 'SETX', 'KDM5B', 'ZCCHC9', 'CANX', 'CNNM1', 'VAPB', 'UBR5', 'SUCLG2', 'ZCCHC14', 'PSMD12'], 144: ['VPS13A'], 146: ['FGF12', 'RTN4'], 147: ['FAS', 'RGS2', 'VPS26A', 'TBCD', 'ACSM2B', 'IFFO2', 'CCND3', 'RARA', 'E2F1', 'ALDH4A1', 'TREH', 'HINT2', 'PSMB6', 'CAMK2G', 'CAMK2D', 'PGM2L1', 'CAMK2B', 'CAMK2A', 'EIF3H', 'PGM2', 'UBE2H', 'ATG7', 'PCBP2', 'APC', 'PIAS2', 'PCBP1', 'NACA', 'TCF7L2', 'PFN1', 'PIAS1', 'IKBKAP', 'STAT1', 'LEF1'], 148: ['FBN1', 'HTRA1'], 149: ['SLC25A6'], 150: ['SMAD1', 'EXOC4', 'PRRX2', 'SHOX2', 'GGA3', 'HOPX', 'AP1M1', 'GRK5', 'RAB33A', 'PSME4', 'ARRB1', 'VAPB', 'SMAD4', 'RAB5A', 'VAPA', 'SMAD2', 'UBFD1', 'PSMD13', 'PSMD9', 'PSMD3'], 151: ['MAP4K4', 'PCBP3', 'TRAF2', 'EXOC5', 'TBC1D2', 'TBC1D2B', 'PCBP2', 'PTPN6', 'PCBP1', 'PRPF4', 'HINT1', 'RCVRN'], 152: ['HOXB4', 'HOXB7', 'MNX1', 'HOXA5', 'EFNA4', 'EFNA3', 'EFNA5', 'EFNA2', 'EFNB3', 'SF1', 'PARP4', 'EFNA1', 'APC2', 'DNAJC4', 'EFNB1', 'DNAJC5G', 'EFNB2', 'DNAJC11', 'DNAJC5B', 'DNAJC7', 'DNAJC30', 'DNAJC24', 'KDM5D', 'KDM5C', 'DNAJC16', 'GRK5', 'DNAJC22', 'MYD88', 'DNAJC3', 'DNAJC5', 'KDM5A', 'DNAJB8', 'DNAJC18', 'DNAJB14', 'DNAJB7', 'DNAJC25', 'DNAJB12', 'DNAJB2', 'DNAJC25-GNG10', 'DNAJB9', 'DNAJB11', 'KDM5B', 'DNAJA3', 'SEC13', 'DNAJB13', 'APC', 'DNAJB5', 'ATP5D', 'DNAJB6', 'DNAJB4', 'CSE1L', 'HECW1', 'RPTOR', 'KPNA7', 'IKBKG', 'ZCCHC14', 'SKIV2L2'], 153: ['HSD17B14'], 154: ['CNNM3', 'CNNM4'], 156: ['GRN'], 158: ['RNF41', 'CNKSR2', 'GSTM3', 'RGS12', 'PPARGC1B', 'APBB1', 'GRASP', 'MUC1', 'PRL', 'MTPN', 'PTCD3', 'GSTP1', 'MED20', 'MED16', 'GSTK1', 'MED24', 'BAG1', 'MED12', 'UBXN1', 'PGC', 'RNF6', 'DUX4L7', 'DUX4L3', 'DUX4L2', 'CDX1', 'DUX4L6', 'CASC3', 'MED23', 'PAX4', 'DUX4L5', 'DUX4L4', 'DUX4', 'PPARD', 'TRAM1', 'RLIM', 'TBC1D4', 'TBX4', 'TBR1', 'MED17', 'TBX6', 'TP73', 'TBX19', 'T', 'MIXL1', 'CDK11B', 'AQP6', 'ICMT', 'TBX2', 'EOMES', 'ELF3', 'NR2F1', 'MGA', 'TBX5', 'PIGQ', 'TP63', 'MED13', 'TCF12', 'DR1', 'AQP8', 'TBX21', 'TBX3', 'STOML3', 'SBDS', 'MED4', 'NPBWR2', 'MIP', 'ATP5J', 'LMNA', 'CXCL16', 'GRM6', 'AQP5', 'GRM8', 'GRM4', 'PIGG', 'DERL2', 'GRM3', 'QRSL1', 'CXCL9', 'AQP4', 'NOXRED1', 'GRM2', 'BMP7', 'CLNS1A', 'MST1R', 'AQP2', 'GRM7', 'TBC1D5', 'MED10', 'LPP', 'IRS2', 'RGS4', 'EDF1', 'RGS10', 'RGS1', 'VPS26A', 'AGAP2', 'VDR', 'GNE', 'RGS14', 'GNAS', 'AQP1', 'AP5M1', 'AP4M1', 'AQP10', 'MED6', 'MED31', 'TOM1L1', 'C3', 'ZYX', 'RGS6', 'STOM', 'PTPRB', 'MED1', 'RGS7', 'PAX3', 'PYCR2', 'TOMM20', 'POT1', 'TMEM30B', 'MED21', 'RGS20', 'AQP7', 'MED7', 'CXCL12', 'AK5', 'CMPK1', 'AQP9', 'MFSD3', 'BACE1', 'PYCRL', 'SLC33A1', 'AP1M2', 'MBTPS1', 'REN', 'RASA1', 'SUGT1P3', 'BCL2L2', 'HCFC1', 'CTBP2', 'MMS19', 'TTC12', 'TEX10', 'RNFT1', 'AK1', 'TRIP6', 'STAU1', 'PAX6', 'AQP3', 'AP1M1', 'AGFG1', 'AKD1', 'SMN1', 'RGS18', 'TTC31', 'PYCR1', 'INPP5D', 'SEL1L3', 'RGS19', 'PPIL2', 'LRP2BP', 'SEL1L2', 'PPIL6', 'RIOK1', 'CRKL', 'NXF1', 'TAF5L', 'CTSD', 'AKAP13', 'UPF3B', 'RPS21', 'C9orf114', 'STAT5A', 'TCF7L1', 'CTBP1', 'COPS2', 'SHC1', 'BTF3', 'PARS2', 'SEL1L', 'ZNF622', 'MT-CO2', 'KIAA0141', 'ATP5G1', 'TOP1MT', 'COPB2', 'ZNHIT1', 'CNNM1', 'WNT11', 'AP2M1', 'TCF7', 'TAF5', 'DDX31', 'DDX55', 'CCNC', 'DRG1', 'SCD5', 'GNAL', 'RPL36AL', 'PLCG1', 'PPIL3', 'PTPRG', 'PTPN6', 'SUZ12', 'CSE1L', 'VAMP3', 'TRMT1L', 'TCF7L2', 'ACTR6', 'TENC1', 'PABPC5', 'DDX60', 'AHCYL1', 'PSMB4', 'PPID', 'PRPF6', 'UQCRFS1', 'TCEA3', 'GNG2', 'EIF5', 'PPIL4', 'NOB1', 'NKTR', 'NPM1', 'PPIH', 'EIF3E', 'TRMT1', 'DNAJC2', 'FARSA', 'SLC25A3', 'HBS1L', 'BMI1', 'PPIG', 'SEPT7', 'RPS28', 'GNL1', 'WDFY2', 'LEF1', 'AIMP1', 'EXOSC4', 'STIP1'], 160: ['IKBKG'], 164: ['CREB1'], 165: ['CEP170', 'KRTAP10-8', 'NOTCH2NL', 'CTU1', 'FZD5', 'ACAP3', 'DHX58', 'LNX1', 'SSR2', 'STOML2', 'CRMP1', 'ULK3', 'DPYSL3', 'PDIK1L', 'LNPEP', 'IFIH1', 'NDUFV2', 'ADAP2', 'DDX58', 'ADAP1', 'TIMM50', 'LMO2', 'TRIT1', 'WDR33', 'PSMD11', 'CTBP1', 'HTRA2', 'PSMB3', 'UBE2H', 'PSMD1', 'CDKAL1', 'CCND1', 'CSNK1G3', 'CSNK1G1', 'CSNK1G2', 'PPP2R5D', 'SMAD4', 'AP2B1', 'SACM1L', 'PSMB7', 'SMAD2', 'PSMB10', 'IKBKAP', 'TRMT1', 'MAPRE2', 'UBE2J1', 'LARP1', 'BMI1', 'DDX52', 'WDFY2', 'MRPS11', 'FANCM'], 167: ['CIR1', 'MAP2K3', 'USP48', 'CACNA1B', 'TUBGCP2', 'CACNA1D', 'CACNA1C', 'VAV1', 'TUBGCP3', 'DPH5', 'RBPJL', 'HECTD3', 'KIAA0317', 'EIF3H', 'COPA', 'RBPJ', 'UBR5', 'RPL22', 'NOS1', 'IKBKG', 'PSMD9', 'RPS24', 'PSMD2', 'RPL31', 'NOS2', 'RPL36'], 169: ['FBXW11', 'AP2B1'], 170: ['EIF4EBP2', 'EIF4EBP3', 'OSBPL2', 'MOSPD3', 'TBL2', 'REL', 'RNF7', 'DNAJA3', 'VAPB', 'PRPSAP1', 'PRPSAP2', 'ACTR6', 'VAPA', 'LTV1', 'WBSCR27', 'RPL31'], 171: ['CERS2', 'GPX4', 'SLC2A4', 'BRCA1', 'NCOR1'], 174: ['PCK1', 'AP4M1', 'NCK2', 'RAB43', 'RAB3IP', 'EIF2C4', 'STX4', 'PPP2R5B', 'PPP2R5E', 'PPP2R5C', 'CDC37', 'PPP2R5A', 'CCNC', 'NCK1', 'PPP2R5D', 'VAMP7', 'UBFD1', 'STAT1', 'TSNARE1', 'STX16-NPEPL1', 'PSMD3', 'MLST8', 'DHFR', 'NOS2', 'STX17', 'STX16'], 176: ['FAT2', 'DCHS2', 'FAT4', 'PPP4R1L', 'SGPL1', 'DCTN1', 'ANPEP', 'SEC14L1', 'PPP2R1B', 'TNPO2', 'USO1', 'RASGEF1B', 'TNPO1', 'KALRN', 'GBE1', 'FANCM'], 178: ['SMNDC1', 'KIAA1161', 'SI', 'NUP210L', 'NR5A1', 'GAA', 'MGAM', 'RERE', 'GANC', 'NUP210', 'NUP62CL', 'GANAB', 'INSIG2', 'INSIG1', 'STOML2', 'LSM3', 'CBX6', 'SP100', 'DERL1', 'SENP3', 'GNB1L', 'NUP62', 'BAP1', 'RGS19', 'CAMK2G', 'POLE3', 'COPS2', 'PIN4', 'TBL2', 'SPAG6', 'UCHL5', 'PIAS4', 'MRPL17', 'PIAS2', 'SMAD4', 'HECW1', 'NCOR1', 'LSM2', 'KPNA5', 'PIAS1', 'KPNA7', 'DAZ3', 'NPM1', 'KPNA6', 'DAZ2', 'RBM3', 'GRPEL2', 'BMI1', 'DDB1', 'MAPK9', 'LEF1', 'LSM6', 'STAT3', 'DAZ4'], 181: ['MON2', 'RGPD3', 'RGPD8', 'RGPD1', 'TENC1', 'RGPD5', 'RGPD6', 'RGPD2'], 184: ['PFDN4', 'PTPRD', 'COPA', 'PLCB4', 'GNG2'], 186: ['TCF12', 'LNX1', 'TCF4', 'TCF3', 'SPTBN2', 'CAPZA3', 'CAPZA2', 'CAPZA1'], 188: ['METAP1D', 'RAB5A', 'METAP1'], 191: ['SMAD2'], 193: ['TOMM70A', 'HAO1', 'SYVN1', 'GRPEL2'], 195: ['NRIP1', 'PLSCR1', 'RASA1', 'RAB17', 'RAB22A', 'DBNL', 'UBA5', 'CALR', 'RAB31', 'RAB24', 'NCOR2', 'RAB5B', 'RAB20', 'SEC63', 'TFIP11', 'TRIM23', 'USO1', 'DDX3Y', 'RAB5A', 'DDX4', 'SF3A1'], 196: ['TARDBP', 'YARS2', 'LMO1', 'DYNLL1', 'LMO3', 'MOV10', 'LHX2', 'LMO2', 'RECQL', 'AP2M1', 'PARK2', 'BLM', 'SUZ12', 'SARS2', 'NPM1', 'MRPS11'], 197: ['TNF', 'DPP4', 'BAP1', 'NCF4', 'DHX16', 'SLC25A3'], 198: ['NEDD8-MDP1', 'LSM1', 'VAPA', 'RPS28'], 199: ['FXR2', 'HOXB1', 'CHM', 'ATP2B2', 'ESR2', 'SEC14L5', 'FLNB', 'SEC14L1', 'TCF7L1', 'TRIM23', 'TCF7', 'ITGB1', 'DNAJB6', 'CHFR', 'TCF7L2', 'MAPK10', 'SYVN1', 'PIAS1', 'MAPK9', 'LEF1'], 200: ['SMAD4'], 202: ['SCFD1'], 204: ['DMWD', 'CCDC88B', 'XPNPEP1'], 207: ['SEC61B', 'IARS2', 'GUCA1B', 'RPE', 'GUCA1C', 'EFCAB1', 'RPLP1', 'KCNIP1', 'NCS1', 'GUCA1A', 'KCNIP2', 'HPCAL4', 'KCNIP4', 'KCNIP3', 'VSNL1', 'PSMD2', 'RCVRN', 'MLST8'], 208: ['BHLHE41', 'SFPQ', 'FHL3', 'PGD', 'PGM3', 'FARSA', 'WNT5A', 'EXOSC4'], 209: ['TTC1', 'AKAP9', 'FAN1', 'KHDRBS2', 'RNMTL1', 'MRM1', 'CTU1', 'SNX4', 'TARBP1', 'USP25', 'NTHL1', 'RALBP1', 'SAP18', 'TRNT1', 'NAA38', 'CDK5RAP1', 'TRIT1', 'ARRB1', 'CDKAL1', 'PPIL3', 'CSNK1G2', 'SUZ12', 'ERCC2', 'AHCYL1', 'SUCLA2', 'EXO1'], 211: ['SCP2', 'TF', 'AMBP', 'NAA15', 'SLC27A5', 'LRP1', 'PROC', 'TP63', 'SERPINF2', 'LCAT', 'AKR1B10', 'DUS2L', 'SORD', 'NUP43', 'F2', 'KIAA1239', 'FBP2', 'FBP1', 'C1QBP', 'GPN1', 'DHPS', 'DUS3L', 'ASCC3', 'ODC1', 'EIF4E2', 'ALDH3B2', 'ALDOB', 'WDR33', 'ALDH3A1', 'ALDH9A1', 'ALDH3A2', 'ALDH1A3', 'ALDH1B1', 'EIF4E1B', 'KNG1', 'IARS2', 'ALDOA', 'AGT', 'METAP1', 'ABCB11', 'RPS27', 'AIMP1'], 212: ['MDH1B'], 213: ['UCHL5', 'EXOSC2'], 215: ['CTDNEP1', 'HIF1A', 'TIMM50', 'CYCS'], 216: ['AGK', 'KRT84', 'KRT82', 'KRT6C', 'KRT75', 'KRT6B', 'KRT6A', 'KRT7', 'SOAT2', 'SOAT1', 'DGAT1', 'GCAT', 'KRT1', 'KRT5', 'NUDT12', 'SEPSECS', 'ARHGAP6', 'DERL1', 'MRGBP', 'ALAS2', 'ABI2', 'ULK3', 'KRT8', 'FBP2', 'RARA', 'FBP1', 'ALAS1', 'CDIPT', 'TRAF2', 'ATP7A', 'ATP7B', 'PPCS', 'AKTIP', 'RAB9B', 'ABCC10', 'DPM1', 'GBE1', 'RAB9A', 'PLCG1', 'ABCC11', 'PCBP1', 'ABCC6', 'ABCC3', 'ABCC4', 'SACM1L', 'ABCB5', 'ABCC5', 'DARS', 'VAMP7', 'ABCC1', 'ABCB4', 'MORF4L2', 'ABCC2', 'ABCB11', 'STX16-NPEPL1', 'DHFR', 'ABCB1', 'STX16'], 217: ['USP9X', 'CNOT8', 'MPP1', 'MPP4', 'MPP7', 'MPP5', 'MPP2', 'MPP6', 'MPP3'], 218: ['TRAF1', 'PSME1', 'NUDC'], 219: ['TRHDE', 'ERAP1', 'ENPEP', 'SEPSECS', 'ERAP2', 'ANPEP', 'LNPEP', 'GAD2', 'NPEPPS', 'GAD1', 'PDHA2', 'PIAS3', 'CNOT8', 'CNOT7', 'PDHA1', 'USO1', 'CRNKL1', 'XAB2', 'PDHB', 'PIAS4', 'PIAS2', 'PIAS1', 'CNOT1', 'IKBKG'], 220: ['IFIH1', 'HTT', 'STX2', 'STX1B', 'STX1A'], 223: ['SPG7', 'KDM5B', 'GUF1'], 224: ['BCAP31', 'OSBPL5', 'OSBPL11', 'OSBPL9', 'OSBPL8', 'SH2D1B', 'INPP5E', 'INPP5J', 'UGP2', 'INPP5K', 'INPP5B', 'ADAP2', 'INPPL1', 'OCRL', 'INPP5D', 'CRY2', 'CRY1', 'ARF6', 'PSMB3', 'PSMA2', 'PPP2R2D', 'SEC13', 'LDHAL6B', 'SEC22A', 'LDHAL6A', 'ACAT1', 'MDH1B', 'AP2B1', 'SACM1L', 'LDHC', 'RAB5A', 'HPCAL4', 'PPP2R2C', 'PSMD14', 'PSMA3', 'ACTN4'], 225: ['SF1', 'CNOT7', 'PDHB', 'BMI1'], 226: ['SPRY2', 'ATXN2', 'AP2A1', 'GLDC', 'LHX6', 'MTO1', 'LMX1B', 'LMX1A', 'LHX9', 'LMO4', 'ISL1', 'LHX2', 'ING3', 'LHX5', 'DDB2', 'TBL2', 'LHX1', 'ABCC10', 'TOP3B', 'ABCC9', 'RRP8', 'ABCC12', 'FTSJ1', 'ABCC11', 'ABCC6', 'ABCC3', 'ABCC4', 'DDX60', 'SACM1L', 'ABCC5', 'ABCC8', 'RAB5A', 'SUCLA2', 'NOS1', 'SUCLG2', 'ABCC1', 'PSMA3', 'ABCC2', 'DDB1', 'NOS3', 'MLST8', 'NOS2'], 227: ['RAB1A'], 228: ['EPN1'], 229: ['POTEB', 'ANKRD35', 'POTEC'], 231: ['GCLM', 'AKR1C4', 'AKR1C2', 'AKR1C1', 'AKR1C3', 'AKR1B10', 'AKR1A1', 'AKR1B1', 'CRY1'], 233: ['FTCD', 'AMT'], 236: ['TRDMT1', 'PHF19', 'PAPSS2', 'PAPSS1', 'DNMT1', 'GMPPB', 'CTBP2', 'UBA5', 'NAE1', 'CTBP1', 'ATG7', 'UBA3', 'SUZ12', 'UBA6'], 237: ['CACNA1D', 'CACNA1S'], 238: ['ACVR1C', 'TAF4', 'ACVR1', 'REXO1L11P', 'REXO1L10P', 'REXO1', 'REXO1L1', 'CDKN1A', 'ABCF1', 'TGFBR1', 'ABCF3', 'RPS10', 'ABCF2', 'POLDIP3', 'RPS4XP21', 'METAP1D', 'METAP1', 'RPS4Y2', 'RSRC1', 'RPL36'], 243: ['NCK1'], 244: ['ISPD', 'SOCS5', 'PTP4A2', 'PTP4A1', 'UCK1', 'PTP4A3', 'ATF6B', 'UCK2', 'KMO', 'GTPBP3', 'RDH14', 'GDE1', 'COQ6', 'AGPAT3', 'NARS2', 'NMRK1', 'SQLE', 'PARP3', 'NMRK2', 'NUDT12', 'ERAP2', 'DUS2L', 'PCBP3', 'DPYSL3', 'CCR5', 'STAMBPL1', 'PCBP4', 'NDUFS2', 'CTBP2', 'C12orf65', 'GFPT2', 'AK1', 'MPND', 'YARS2', 'MTRF1L', 'MTRF1', 'HIBCH', 'STAMBP', 'OAT', 'GALE', 'PPP2R1B', 'DLG5', 'PTPRA', 'GFPT1', 'HAS3', 'DYNC2H1', 'HAS2', 'NARS', 'EIF1B', 'COX18', 'MARS2', 'HAS1', 'PAPD5', 'TCF7L1', 'HIP1', 'CTBP1', 'HIP1R', 'APRT', 'BRCC3', 'HADHB', 'TCEANC2', 'SIRT4', 'WDR4', 'OXA1L', 'TCF7', 'PPP2R2D', 'PCBP2', 'GUF1', 'PAPD7', 'GBE1', 'THNSL1', 'COPS6', 'ITPA', 'PRPSAP1', 'PRPSAP2', 'PCBP1', 'NOC4L', 'TCF7L2', 'HECW1', 'SIRT6', 'TWISTNB', 'DARS', 'TTC27', 'RAD21L1', 'PPP2R2C', 'PSMD14', 'PSMD7'], 245: ['TCF7', 'SUZ12'], 246: ['LAMA3', 'TIMP1', 'OMA1', 'NWD1', 'EML6', 'IFT80', 'KIAA1239', 'BRWD3', 'EML4', 'IFT122', 'GNB1L', 'WDFY1', 'TCEB1', 'ATAD3B', 'WDR20', 'DMWD', 'AFG3L2', 'WDR33', 'SPG7', 'PAPOLA', 'DDB2', 'BRCC3', 'TBL2', 'POLR2D', 'BCS1L', 'NUP133', 'YME1L1', 'CHD5', 'POLR3K', 'ERCC2', 'PAF1', 'CCNH', 'PSMD14', 'SF3A1', 'STAT1', 'BMI1', 'TXNRD2', 'WDFY2', 'STAT3'], 248: ['PCK1', 'ALB'], 254: ['PDHA1', 'PDHB', 'PCBP1'], 257: ['CCDC88B'], 258: ['TRAF2', 'TRAF6', 'PARK2', 'MAPRE3'], 261: ['NMRK2', 'CYB5B', 'CBL', 'RNF7', 'DARS', 'HBS1L'], 263: ['STT3B', 'PHF20L1', 'HIRA', 'CCNK', 'DDOST', 'PIN4', 'ZNF622', 'CANX', 'TNPO1', 'CCNC', 'CYCS'], 265: ['CTSL2', 'AMY1A', 'SVEP1', 'CTSL1', 'HMCN2', 'PPIC', 'F12', 'SEPSECS', 'PSMB9', 'CDS2', 'MRPL19', 'CDS1', 'PSMB6', 'NEDD8-MDP1', 'LRIT3', 'LRIT1', 'MARS2', 'PSMB3', 'APRT', 'GUF1', 'UCHL5', 'THNSL1', 'DALRD3', 'RPE', 'PFN1', 'RARS2', 'PSMA3'], 266: ['RFX6', 'RPA3', 'CCAR1', 'XPOT', 'SNRNP40', 'TTN', 'TNNI3', 'TNNT1', 'WDR61', 'HNRNPH1', 'GRK5', 'RRP36', 'EXOSC9', 'TRMT2A', 'TRIT1', 'CTBP1', 'EXOSC1', 'EXOSC3', 'CSTF2', 'DMD', 'ISG20L2', 'SEC13', 'SOX2', 'HADHA', 'LDHAL6B', 'LARP1B', 'ITPA', 'LDHAL6A', 'EXOSC2', 'PRPF4', 'UTP11L', 'LDHC', 'AEN', 'DDX4', 'NOB1', 'KRI1', 'CCNH', 'YBX1', 'PAK1IP1', 'LARP1', 'EXOSC5', 'EXOSC4', 'SLMAP', 'STAT3'], 270: ['MRPS28', 'BCL2L2', 'SUB1', 'PABPN1', 'CSTF2'], 271: ['PIGX', 'TMEM231', 'TCTN2', 'CC2D2A', 'B9D1', 'MKS1', 'FAM103A1', 'CCDC136', 'TMEM67', 'LGALS8', 'MRFAP1L1', 'MRP63', 'PIGB', 'PIGM', 'LRP5', 'GATAD2A', 'PSMG3', 'MBD2', 'U2AF1L4', 'GMDS', 'CACTIN', 'NXT2', 'ZRSR2', 'EMC6', 'DOLK', 'PMF1', 'NXT1', 'LSM12', 'C1orf123', 'CENPQ', 'KCTD10', 'CENPO', 'CENPL', 'DSN1', 'CENPM', 'SRRT', 'PIWIL1', 'CEP290', 'THOC7', 'NSL1', 'CENPC1', 'DOLPP1', 'SPSB4', 'SGOL2', 'SKA2', 'AHCTF1', 'PNN', 'ITGB3BP', 'CENPH', 'MLF1IP', 'MBD3', 'ZWINT', 'MTA3', 'CENPT', 'SPSB1', 'PHAX', 'POP5', 'DIP2C', 'KHDRBS3', 'WAPAL', 'DIP2B', 'MTA1', 'MIS12', 'AAR2', 'DPAGT1', 'DAD1', 'RNMT', 'TXNL4B', 'TAOK1', 'ACSF2', 'SPDL1', 'PRPF18', 'SPC24', 'CENPP', 'APITD1', 'MRPS33', 'CENPN', 'CENPK', 'ACSF3', 'DIP2A', 'MTA2', 'CYFIP1', 'PPP1R42', 'NPHS2', 'PIGV', 'KHDRBS2', 'PDS5B', 'BUD13', 'SMG6', 'DR1', 'CASC5', 'ALG3', 'CENPF', 'SMARCE1', 'LUC7L', 'LUC7L3', 'NUP37', 'NDEL1', 'NDE1', 'ZC3H13', 'UQCR11', 'CCDC12', 'SCAF8', 'PDS5A', 'SCAF4', 'SRP9', 'ENY2', 'RBMX2', 'ZCCHC6', 'LIPT1', 'LUC7L2', 'CDCA5', 'GMPPA', 'ATXN2L', 'SGOL1', 'PABPN1L', 'THOC2', 'QKI', 'FAM58A', 'XPOT', 'TXNL4A', 'FZD4', 'ZCCHC11', 'USP30', 'DNAJC9', 'TUT1', 'SF1', 'MAGOHB', 'SF3B5', 'RCC2', 'ZW10', 'USP44', 'NXF5', 'USP51', 'NXF2B', 'NUP160', 'MTPAP', 'STOML2', 'CDCA8', 'STOM', 'NXF3', 'NXF2', 'DNAJC19', 'CENPI', 'OXSM', 'MYEF2', 'STAG1', 'ATXN2', 'TGS1', 'STAG2', 'CIAO1', 'NUP43', 'ZNFX1', 'SLU7', 'NTHL1', 'SNRPC', 'PCID2', 'PATL1', 'MRPL36', 'CWC22', 'EIF4E3', 'USP3', 'PHF5A', 'USP49', 'NAF1', 'IGBP1', 'GMPPB', 'KNTC1', 'ZWILCH', 'SYF2', 'KHDRBS1', 'USP22', 'HELZ', 'CLIP1', 'CCNT2', 'U2AF1', 'WDR61', 'CCDC94', 'MCAT', 'LSM4', 'INCENP', 'RBM22', 'NUF2', 'CSTF2T', 'MCM3AP', 'CLASP2', 'WDR69', 'CNOT2', 'NEDD8-MDP1', 'NAA50', 'CCNK', 'ZC3H14', 'PPIL2', 'EIF3M', 'NOP10', 'TIMM9', 'HFM1', 'ARHGEF1', 'MRPL23', 'ISY1', 'SRRM2', 'ASCC3', 'NUDC', 'EIF4E2', 'MOV10', 'CLASP1', 'PRPF39', 'NXF1', 'UPF3B', 'NUP153', 'TDRD9', 'ALG5', 'ERCC6L2', 'BCL2L2-PABPN1', 'ALG1', 'TFIP11', 'PFDN4', 'PRPF40A', 'TIMM10', 'DHX57', 'SETX', 'PPIL1', 'PABPN1', 'NUP85', 'EIF4G3', 'RBM25', 'BTAF1', 'GLTSCR2', 'SPAG6', 'CRNKL1', 'SPO11', 'NUP133', 'RPS17L', 'CCDC130', 'EIF4E1B', 'CCNT1', 'DHX29', 'CSTF2', 'MAD1L1', 'XAB2', 'DPM1', 'DNA2', 'SEC13', 'MAGI3', 'POLDIP3', 'DHX32', 'SKIV2L', 'DHX34', 'LARP1B', 'CHD5', 'DHX40', 'PABPC4L', 'DHX33', 'DHX30', 'SART1', 'PRPF4', 'DHX35', 'PABPC5', 'DDX60', 'DDX3Y', 'RPS17', 'SF3A2', 'ISG20', 'KPNA5', 'AEN', 'PRPF6', 'PAF1', 'DDX4', 'CCNH', 'SNRNP200', 'KPNA7', 'DHX36', 'DAZ3', 'METAP1', 'KPNA6', 'SF3A1', 'ZCCHC14', 'DAZ2', 'RBM3', 'SNRPB2', 'LARP1', 'RNF40', 'ERCC6', 'RPS27', 'NOP14', 'SKIV2L2', 'RSRC1', 'LSM6', 'CYCS', 'DAZ4'], 272: ['RNF111'], 274: ['S100A4', 'DHRS7', 'HSDL1', 'HSD17B3', 'HSD17B12', 'SPCS2', 'GORASP2', 'FBXO25', 'ROCK2', 'THOC2', 'UXS1', 'ROCK1', 'HSD3B7', 'HSD3B2', 'INPP5B', 'HSD3B1', 'SPRTN', 'OCRL', 'ARHGEF1', 'PDLIM5', 'USP6', 'PSMA8', 'KALRN', 'ANXA1', 'MYL6B'], 275: ['NIF3L1', 'GTF2H1', 'RNF103-CHMP3', 'FN1', 'PRC1', 'SMARCD1', 'CCNH'], 276: ['TM7SF2', 'CH25H', 'AQP1', 'AK3', 'POLR3F', 'ALDH1A2', 'GBE1', 'HINT1', 'AGT'], 278: ['DMGDH'], 280: ['PPARG', 'STAT5A', 'LEF1'], 281: ['CKM', 'GPC1', 'SCD5'], 283: ['SAMHD1', 'LRP2', 'ZDHHC23', 'SAP30BP', 'DIAPH2', 'ARPC1A', 'ARPC1B', 'PHF16', 'IRF3', 'SART3', 'PHF15', 'TRAF1', 'TBC1D4', 'PHF17', 'DIAPH1', 'NPIPL3', 'LRP1', 'EVPLL', 'NPIP', 'CYFIP1', 'GAS2L2', 'CYFIP2', 'SYNE3', 'SMTNL2', 'GAS2L1', 'MICALL1', 'CLMN', 'MICAL2', 'MICAL3', 'SPECC1L', 'MICALL2', 'SPECC1', 'KDELR3', 'KDELR2', 'YIPF6', 'SMTNL1', 'EPPK1', 'SMTN', 'SCARF2', 'SCARF1', 'MEGF11', 'MAGIX', 'KDELR1', 'DKK2', 'MICAL1', 'ARHGAP9', 'PEAR1', 'KRT1', 'WWC2', 'MEGF6', 'PLCE1', 'TUT1', 'PHGDH', 'SF1', 'ARHGAP15', 'ADRB2', 'ZYX', 'SYNE1', 'MYEF2', 'MEGF10', 'SYNE2', 'CAPZB', 'ARID3B', 'VIM', 'PLS3', 'ARHGDIB', 'WWC1', 'PLS1', 'EHBP1L1', 'TBC1D15', 'KRT8', 'EHBP1', 'IGBP1', 'UBE3B', 'UBE3C', 'ALS2', 'MACF1', 'BCL2L2', 'MAGI1', 'FHL3', 'RABL6', 'FLNA', 'DBNL', 'HNRNPK', 'LSM4', 'SPTB', 'SPTBN5', 'RAB19', 'RAB43', 'HNRNPH1', 'FLNB', 'LCP1', 'RAB3IL1', 'ALDOC', 'RPL28', 'SPTBN4', 'RAB33A', 'ARHGEF1', 'ARHGDIA', 'FLNC', 'RPL22L1', 'RAB3IP', 'RAB33B', 'ARPC2', 'RPS25', 'STX19', 'HECTD3', 'HECTD1', 'ALDOB', 'UTRN', 'EIF1B', 'SPTBN2', 'KIAA0317', 'BCL2L2-PABPN1', 'KLHDC9', 'FBXO42', 'RABEPK', 'CFDP1', 'PFN4', 'ARF6', 'WNT9B', 'PIN4', 'STX11', 'KLHDC1', 'PSMB3', 'TRMT11', 'KLHDC2', 'ARRB1', 'CCDC88B', 'RAB1B', 'STX3', 'PABPN1', 'EIF4G3', 'KLHDC3', 'STX4', 'EIF1', 'USO1', 'RPL34', 'RPS17L', 'EIF4E1B', 'SPTA1', 'DIEXF', 'NCF4', 'WNT11', 'SH3PXD2B', 'DMD', 'STX2', 'PCBP2', 'KLHDC10', 'KALRN', 'SPTBN1', 'STX1B', 'PFN2', 'PIAS4', 'SH3PXD2A', 'MAGI3', 'SOX2', 'LDHAL6B', 'AARS2', 'WNT3', 'RAB1A', 'WASL', 'HECTD2', 'UBR5', 'PABPC4L', 'ALDOA', 'RGPD3', 'RPS4XP21', 'LDHAL6A', 'EIF3G', 'ANXA1', 'WNT7B', 'RGPD8', 'STX1A', 'RGPD1', 'SMARCD1', 'ACTR6', 'RGPD5', 'PABPC5', 'RPS17', 'RPL21', 'HECW1', 'CFL2', 'LDHC', 'AHCYL1', 'RPL22', 'RGPD6', 'RPL32', 'PFN1', 'PAF1', 'WNT4', 'NKPD1', 'MRPS16', 'DHX36', 'DAZ3', 'YBX1', 'MYO16', 'KPNA6', 'DAZ2', 'RBM3', 'KCNIP4', 'EIF3E', 'RGPD2', 'MAPRE2', 'SPTAN1', 'LARP1', 'BMI1', 'SMARCD3', 'RPS4Y2', 'RPL31', 'EXOSC5', 'MAPRE3', 'IQGAP1', 'RPL38', 'ACTN4', 'RPL36', 'EIF1AY', 'CYCS', 'MYL6B', 'DAZ4'], 284: ['TCF3', 'GRK5', 'STUB1'], 285: ['FAAH', 'BCAT2', 'SDR42E1', 'NSDHL', 'YME1L1', 'TRMT1L', 'IKBKG', 'PSMA7'], 286: ['SSR2', 'AK8', 'ALDOC', 'MRPL23', 'RBL2', 'ALDOB', 'AK2', 'ITGB1', 'ALDOA', 'MRPL12', 'AGT', 'ATP6V1B2', 'GNG2', 'ATP6V1B1'], 287: ['CARM1', 'UBA6', 'SMARCD3'], 288: ['SREBF2', 'TRAPPC8', 'B2M', 'KCNA2', 'TLE2', 'GNE', 'ACSM4', 'C10orf129', 'ACSM2B', 'ACSM2A', 'ACSM5', 'ACSM3', 'LIG3', 'ACSS3', 'HIF1A', 'HSD3B1', 'AACS', 'ACSS1', 'ACSM1', 'ACSS2', 'CDT1', 'ACAA1', 'CRY2', 'CRY1', 'FBXW11', 'ANAPC11', 'CDKAL1', 'PSMA2', 'REV3L', 'COPS6', 'ERCC5', 'PSMA3', 'UBA6', 'PSMD12', 'SSBP1', 'PSMD7', 'EXO1', 'STAT3', 'CMPK2'], 290: ['WARS2', 'FN1'], 291: ['RCC1'], 292: ['ASIP', 'MAST2', 'TDRD3', 'OGG1', 'MED29', 'PRKCZ', 'MCF2', 'USP28', 'VAV2', 'HELZ', 'HAT1', 'ASH2L', 'TIMM50', 'ATP6V0C', 'WDR82', 'CBL', 'FBXW11', 'GABARAP', 'PAF1', 'LSM10', 'USP7', 'BMI1', 'ATAD1'], 293: ['RNASEH2A', 'COPS6', 'PUS1', 'EXO1', 'FANCM'], 294: ['TSNARE1', 'STX16-NPEPL1', 'STX17', 'STX16'], 298: ['PRUNE2', 'MTX3', 'MTX1', 'FDXACB1', 'ACR', 'PIH1D2', 'FERMT2', 'DNAAF2', 'MTPN', 'PIH1D1', 'MOB4', 'GDF2', 'INHBC', 'LGALS3BP', 'BMP8A', 'GDF7', 'GDF1', 'GDF9', 'CTSG', 'LEFTY1', 'BMP15', 'GDF6', 'BMP8B', 'INHBE', 'INHA', 'FIS1', 'GDF15', 'NODAL', 'GDF3', 'BMP10', 'GDF10', 'INHBB', 'BMP3', 'AMH', 'GDF5', 'LEFTY2', 'GDF11', 'INHBA', 'GTF2H2', 'TGFBR2', 'BMP5', 'AP3D1', 'BMP6', 'MSTN', 'IRF7', 'EIF2AK2', 'PTCH1', 'IRF1', 'LUC7L2', 'BMP7', 'GTF2H3', 'TGFB3', 'TGFB2', 'LSM3', 'BMP2', 'BMP4', 'GTF2H1', 'TATDN1', 'FXC1', 'COX4I1', 'SUGT1P3', 'STAT6', 'USP18', 'TTC12', 'NAA38', 'TTC31', 'TOMM40L', 'TIMM9', 'EIF3K', 'VCL', 'SUB1', 'UPF3B', 'SEC63', 'ATP5H', 'HMGB4', 'TGFBR1', 'TIMM10', 'TOMM40', 'APRT', 'FARSB', 'EIF4G3', 'TGFB1', 'TOX2', 'DHX29', 'TOX3', 'HMG20A', 'PPP2R5A', 'HMGB3', 'DDX55', 'APC', 'DHX40', 'TOX', 'PGAM1', 'TOX4', 'DDX3Y', 'MRPL12', 'HMG20B', 'NOS1', 'DDX4', 'SRPR', 'EIF5', 'DAZ3', 'DAZ2', 'RBM3', 'STAT1', 'LTV1', 'DDX49', 'DDX52', 'NOS2', 'DDX28', 'DDX47', 'SLMAP', 'CYCS', 'STIP1', 'DAZ4']}\n"
     ]
    }
   ],
   "source": [
    "half_query_filepath = directory + \"half_clusters.txt\"\n",
    "print_querylist_of_clusters_to_file(clusters, clusters.get_all_cluster_labels(), half_query_filepath, half_qualifying_proteins)\n",
    "half_fe = get_initialized_fe(background_proteins_filepath, term_mapping_filepath, termlist = background_go_terms)\n",
    "half_fe.importFiles({'query': half_query_filepath })\n",
    "half_fe.run(cluster=False)\n",
    "\n",
    "print(f\"number of functionally enriched clusters after addition of 1/2 proteins: {half_fe.enrichment['Module'].nunique()}\")\n",
    "\n",
    "\n",
    "quarter_query_filepath = directory + \"quarter_clusters.txt\"\n",
    "print_querylist_of_clusters_to_file(clusters, clusters.get_all_cluster_labels(), quarter_query_filepath, quarter_qualifying_proteins)\n",
    "quarter_fe = get_initialized_fe(background_proteins_filepath, term_mapping_filepath, termlist = background_go_terms)\n",
    "quarter_fe.importFiles({'query': quarter_query_filepath })\n",
    "quarter_fe.run(cluster=False)\n",
    "\n",
    "print(f\"number of functionally enriched clusters after addition of 1/4 proteins: {quarter_fe.enrichment['Module'].nunique()}\")\n",
    "\n",
    "\n",
    "tenth_query_filepath = directory + \"tenth_clusters.txt\"\n",
    "print_querylist_of_clusters_to_file(clusters, clusters.get_all_cluster_labels(), tenth_query_filepath, tenth_qualifying_proteins)\n",
    "tenth_fe = get_initialized_fe(background_proteins_filepath, term_mapping_filepath, termlist = background_go_terms)\n",
    "tenth_fe.importFiles({'query': tenth_query_filepath })\n",
    "tenth_fe.run(cluster=False)\n",
    "\n",
    "print(f\"number of functionally enriched clusters after addition of 1/10 proteins: {tenth_fe.enrichment['Module'].nunique()}\")\n",
    "\n",
    "\n",
    "print(half_qualifying_proteins)\n",
    "print(quarter_qualifying_proteins)  \n",
    "print(tenth_qualifying_proteins)\n"
   ]
  },
  {
   "cell_type": "code",
   "execution_count": null,
   "metadata": {},
   "outputs": [],
   "source": []
  }
 ],
 "metadata": {
  "kernelspec": {
   "display_name": "recipe",
   "language": "python",
   "name": "python3"
  },
  "language_info": {
   "codemirror_mode": {
    "name": "ipython",
    "version": 3
   },
   "file_extension": ".py",
   "mimetype": "text/x-python",
   "name": "python",
   "nbconvert_exporter": "python",
   "pygments_lexer": "ipython3",
   "version": "3.10.6"
  },
  "orig_nbformat": 4,
  "vscode": {
   "interpreter": {
    "hash": "62f9e904ff1d4fa6e27f2984f15409dfffcff7468a54928ca0992224464fe58b"
   }
  }
 },
 "nbformat": 4,
 "nbformat_minor": 2
}
