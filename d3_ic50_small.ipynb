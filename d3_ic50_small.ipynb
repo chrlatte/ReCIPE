{
 "cells": [
  {
   "attachments": {},
   "cell_type": "markdown",
   "metadata": {},
   "source": [
    "d3_ic50_small"
   ]
  },
  {
   "attachments": {},
   "cell_type": "markdown",
   "metadata": {},
   "source": []
  },
  {
   "cell_type": "code",
   "execution_count": 1,
   "metadata": {},
   "outputs": [],
   "source": [
    "# imports:\n",
    "\n",
    "# standard libraries\n",
    "import numpy as np\n",
    "import pandas as pd\n",
    "import matplotlib.pyplot as plt\n",
    "# library used for functional enrichment analysis\n",
    "from func_e.FUNC_E import FUNC_E  # a method that can do funtional enrichment analysis!\n",
    "import func_e.vocabs.all as vocabs\n",
    "# following code is necessary as some functions used in the funcE class produce future warnings but i can't fix it as it is not my code\n",
    "import warnings\n",
    "warnings.simplefilter(action='ignore', category=FutureWarning)\n",
    "\n",
    "# importing the custom classes i built\n",
    "from matrix_class import ProteinMatrix # ppi matrix \n",
    "from cluster_class import AllClusters # dictionary to hold all clusters (in form number of cluster : list of proteins in that cluster)\n",
    "from degreelist_class import DegreeList # creates a list of all proteins in order of their degree\n",
    "\n",
    "# helper functions for setting up program\n",
    "from recipe_utils import initialize_matrix_clusters_degreelist\n",
    "from recipe_utils import find_clusters_and_proteins_together\n",
    "\n",
    "# helper functions for functional enrichment\n",
    "from recipe_utils import print_querylist_of_clusters_to_file\n",
    "from recipe_utils import print_protein_background_to_file\n",
    "from recipe_utils import create_term_mapping_list\n",
    "from recipe_utils import get_initialized_fe"
   ]
  },
  {
   "attachments": {},
   "cell_type": "markdown",
   "metadata": {},
   "source": [
    " **must change filenames:**"
   ]
  },
  {
   "cell_type": "code",
   "execution_count": 2,
   "metadata": {},
   "outputs": [],
   "source": [
    "interactions_file = \"data/interactions/3_signal_omnipath_directed_v3.txt\"\n",
    "clusters_file = \"data/d3_ic50_small/d3_ic50_small.json\""
   ]
  },
  {
   "cell_type": "code",
   "execution_count": 3,
   "metadata": {},
   "outputs": [],
   "source": [
    "matrix, clusters, degreelist = initialize_matrix_clusters_degreelist(interactions_filepath=interactions_file, clusters_filepath=clusters_file)"
   ]
  },
  {
   "attachments": {},
   "cell_type": "markdown",
   "metadata": {},
   "source": [
    "*may want to change parameters below:*"
   ]
  },
  {
   "cell_type": "code",
   "execution_count": 4,
   "metadata": {},
   "outputs": [],
   "source": [
    "sqrt_qualifying_clusters, sqrt_qualifying_proteins = find_clusters_and_proteins_together(matrix, clusters, degreelist, cluster_ratio=0, cluster_constant=2, use_sqrt=True, protein_ratio=1, protein_constant=0)"
   ]
  },
  {
   "cell_type": "code",
   "execution_count": 5,
   "metadata": {},
   "outputs": [
    {
     "data": {
      "text/plain": [
       "{30: ['CDK1'],\n",
       " 40: ['PRKCA'],\n",
       " 43: ['PRKCA'],\n",
       " 45: ['PRKCA'],\n",
       " 54: ['PRKACA'],\n",
       " 64: ['PRKACA'],\n",
       " 76: ['CDK1'],\n",
       " 79: ['PRKACA'],\n",
       " 89: ['CSNK2A1'],\n",
       " 91: ['SRC'],\n",
       " 103: ['MAPK1'],\n",
       " 104: ['SRC'],\n",
       " 140: ['CSNK2A1'],\n",
       " 142: ['CDK1'],\n",
       " 156: ['PRKACA']}"
      ]
     },
     "execution_count": 5,
     "metadata": {},
     "output_type": "execute_result"
    }
   ],
   "source": [
    "sqrt_qualifying_proteins"
   ]
  },
  {
   "cell_type": "code",
   "execution_count": 6,
   "metadata": {},
   "outputs": [],
   "source": [
    "# from recipe_utils import top_n_proteins\n",
    "\n",
    "# three_qualifying_proteins = top_n_proteins(sqrt_qualifying_proteins, n=3) \n",
    "# three_qualifying_proteins"
   ]
  },
  {
   "cell_type": "code",
   "execution_count": 7,
   "metadata": {},
   "outputs": [],
   "source": [
    "# from recipe_utils import get_cluster_connectivity\n",
    "\n",
    "# original_cluster_connectivity = get_cluster_connectivity(matrix, degreelist, clusters, {}, sort_it=False)\n",
    "# new_cluster_connectivity = get_cluster_connectivity(matrix, degreelist, clusters, added_proteins=sqrt_qualifying_proteins, sort_it=False)\n",
    "\n",
    "# from recipe_utils import calculate_connectivity_difference\n",
    "\n",
    "# difference = calculate_connectivity_difference(original_cluster_connectivity, new_cluster_connectivity, sort_it=True)\n",
    "# difference"
   ]
  },
  {
   "cell_type": "code",
   "execution_count": null,
   "metadata": {},
   "outputs": [],
   "source": []
  },
  {
   "attachments": {},
   "cell_type": "markdown",
   "metadata": {},
   "source": [
    "### Functional Enrichment Analysis"
   ]
  },
  {
   "cell_type": "code",
   "execution_count": 8,
   "metadata": {},
   "outputs": [],
   "source": [
    "# create_term_mapping_list(\"data/go_labels/dream3_go.tsv\", \"data/go_labels/d3_term_mapping.tsv\")"
   ]
  },
  {
   "attachments": {},
   "cell_type": "markdown",
   "metadata": {},
   "source": [
    "**will need to the directory below**"
   ]
  },
  {
   "cell_type": "code",
   "execution_count": 9,
   "metadata": {},
   "outputs": [],
   "source": [
    "directory = \"data/d3_ic50_small/\"\n",
    "term_mapping_filepath = \"data/go_labels/d3_term_mapping.tsv\""
   ]
  },
  {
   "cell_type": "code",
   "execution_count": 10,
   "metadata": {},
   "outputs": [],
   "source": [
    "background_proteins_filepath = directory + \"background_proteinlist.txt\"\n",
    "og_query_filepath = directory + \"original_clusters.txt\"\n",
    "sqrt_query_filepath = directory + \"sqrt_clusters.txt\"\n",
    "# three_query_filepath = directory + \"three_prot_clusters.txt\""
   ]
  },
  {
   "attachments": {},
   "cell_type": "markdown",
   "metadata": {},
   "source": [
    "*print to files*"
   ]
  },
  {
   "cell_type": "code",
   "execution_count": 11,
   "metadata": {},
   "outputs": [],
   "source": [
    "# use functions to print info to files: (annoying, but need to get info into format used for funcE package)\n",
    "# 1) a background protein list to be used for functional enrichment analysis\n",
    "print_protein_background_to_file(matrix, background_proteins_filepath) \n",
    "# 3) not a file, but need to establish a background of all GO terms! (to be used for functional enrichment analysis)\n",
    "background_go_terms = vocabs.getTerms(['GO'])\n",
    "\n",
    "# continue printing info to files to be used in functional enrichment analysis:\n",
    "# 4) print original clusters to a file\n",
    "print_querylist_of_clusters_to_file(clusters, clusters.get_all_cluster_labels(), og_query_filepath)\n",
    "# 5) print updated clusters to a file (just append the function to include the dictionary of qualifying proteins)\n",
    "print_querylist_of_clusters_to_file(clusters, clusters.get_all_cluster_labels(), sqrt_query_filepath, sqrt_qualifying_proteins)\n",
    "# print_querylist_of_clusters_to_file(clusters, clusters.get_all_cluster_labels(), three_query_filepath, three_qualifying_proteins)"
   ]
  },
  {
   "attachments": {},
   "cell_type": "markdown",
   "metadata": {},
   "source": [
    "*RUN Functional Enrichment:*"
   ]
  },
  {
   "cell_type": "code",
   "execution_count": 12,
   "metadata": {},
   "outputs": [],
   "source": [
    "original_fe = get_initialized_fe(background_proteins_filepath, term_mapping_filepath, termlist = background_go_terms)\n",
    "original_fe.importFiles({'query': og_query_filepath })\n",
    "original_fe.run(cluster=False)\n",
    "\n",
    "sqrt_fe = get_initialized_fe(background_proteins_filepath, term_mapping_filepath, termlist = background_go_terms)\n",
    "sqrt_fe.importFiles({'query': sqrt_query_filepath })\n",
    "sqrt_fe.run(cluster=False)\n",
    "\n",
    "# three_fe = get_initialized_fe(background_proteins_filepath, term_mapping_filepath, termlist = background_go_terms)\n",
    "# three_fe.importFiles({'query': three_query_filepath })\n",
    "# three_fe.run(cluster=False)"
   ]
  },
  {
   "attachments": {},
   "cell_type": "markdown",
   "metadata": {},
   "source": []
  },
  {
   "cell_type": "code",
   "execution_count": 13,
   "metadata": {},
   "outputs": [
    {
     "name": "stdout",
     "output_type": "stream",
     "text": [
      "::::::::::::::::::::::::::SQRT::::::::::::::::::::::::::\n",
      "\n",
      "number of clusters that were updated with proteins: 15\n",
      "\n",
      "number of functionally enriched clusters (modules) out of 164 original clusters: 152\n",
      "number of functionally enriched clusters after addition of all proteins: 153\n",
      "\n",
      "number of significant pvals in original clusters before updating: 496\n",
      "number of significant pvals in clusters with all proteins added: 492\n",
      "\n",
      "\n"
     ]
    }
   ],
   "source": [
    "print(f\"::::::::::::::::::::::::::SQRT::::::::::::::::::::::::::\\n\")\n",
    "# print data by the numbers!\n",
    "print(f\"number of clusters that were updated with proteins: {len(sqrt_qualifying_proteins.keys())}\\n\")\n",
    "\n",
    "# clusters that are functionally enriched\n",
    "print(f\"number of functionally enriched clusters (modules) out of {clusters.get_num_clusters()} original clusters: {original_fe.enrichment['Module'].nunique()}\")\n",
    "print(f\"number of functionally enriched clusters after addition of all proteins: {sqrt_fe.enrichment['Module'].nunique()}\")\n",
    "print(f\"\")\n",
    "\n",
    "\n",
    "#significant P-values!!!\n",
    "print(f\"number of significant pvals in original clusters before updating: {original_fe.enrichment['Fishers_pvalue'].count()}\")\n",
    "print(f\"number of significant pvals in clusters with all proteins added: {sqrt_fe.enrichment['Fishers_pvalue'].count()}\")\n",
    "\n",
    "\n",
    "print(f\"\")\n",
    "print(f\"\")"
   ]
  },
  {
   "cell_type": "code",
   "execution_count": 14,
   "metadata": {},
   "outputs": [
    {
     "name": "stdout",
     "output_type": "stream",
     "text": [
      "number of functionally enriched clusters after addition of 3 proteins: 153\n"
     ]
    }
   ],
   "source": [
    "from recipe_utils import top_n_proteins\n",
    "three_sqrt_qualifying_proteins = top_n_proteins(sqrt_qualifying_proteins, n=3)\n",
    "three_sqrt_query_filepath = directory + \"three_prot_clusters.txt\"\n",
    "print_querylist_of_clusters_to_file(clusters, clusters.get_all_cluster_labels(), three_sqrt_query_filepath, three_sqrt_qualifying_proteins)\n",
    "sqrt_three_fe = get_initialized_fe(background_proteins_filepath, term_mapping_filepath, termlist = background_go_terms)\n",
    "sqrt_three_fe.importFiles({'query': three_sqrt_query_filepath })\n",
    "sqrt_three_fe.run(cluster=False)\n",
    "print(f\"number of functionally enriched clusters after addition of 3 proteins: {sqrt_three_fe.enrichment['Module'].nunique()}\")\n"
   ]
  },
  {
   "cell_type": "code",
   "execution_count": 15,
   "metadata": {},
   "outputs": [],
   "source": [
    "half_qualifying_clusters, half_qualifying_proteins = find_clusters_and_proteins_together(matrix, clusters, degreelist, cluster_ratio=0, cluster_constant=2, use_sqrt=False, protein_ratio=.50, protein_constant=0)\n",
    "quarter_qualifying_clusters, quarter_qualifying_proteins = find_clusters_and_proteins_together(matrix, clusters, degreelist, cluster_ratio=0, cluster_constant=2, use_sqrt=False, protein_ratio=.25, protein_constant=0)\n",
    "tenth_qualifying_clusters, tenth_qualifying_proteins = find_clusters_and_proteins_together(matrix, clusters, degreelist, cluster_ratio=0, cluster_constant=2, use_sqrt=False, protein_ratio=.10, protein_constant=0)\n",
    "\n"
   ]
  },
  {
   "cell_type": "code",
   "execution_count": 16,
   "metadata": {},
   "outputs": [
    {
     "name": "stdout",
     "output_type": "stream",
     "text": [
      "number of functionally enriched clusters after addition of 1/2 proteins: 152\n",
      "number of functionally enriched clusters after addition of 1/4 proteins: 153\n",
      "number of functionally enriched clusters after addition of 1/10 proteins: 156\n",
      "{}\n",
      "{89: ['CSNK2A1'], 91: ['SRC'], 104: ['SRC'], 140: ['CSNK2A1'], 156: ['PRKACA']}\n",
      "{1: ['ATM', 'CSNK2A1', 'PRKCA', 'SRC'], 2: ['TYK2', 'IRAK1', 'JAK1', 'PRKCA'], 3: ['PPP2CB', 'CSNK2A1', 'CDK1'], 5: ['CSNK2A1', 'CDK1', 'PRKACA'], 6: ['CDK16', 'NR3C1', 'CSNK1A1', 'PRKACA'], 7: ['MAPK3'], 8: ['SMAD2', 'SMAD3', 'CDK2', 'GSK3B', 'PRKACA', 'PRKCA', 'SRC'], 9: ['AKT1', 'SRC'], 11: ['CHEK2', 'MYC', 'PRKCD', 'CASP3', 'CDK2', 'EGFR', 'SRC'], 12: ['EP300'], 13: ['PPP2CA', 'CASP3'], 14: ['MAPK3'], 16: ['MAPK1'], 18: ['CDK2', 'SRC'], 19: ['CBL', 'PTPN11'], 20: ['MAPK9', 'MAPK14', 'PRKACA'], 21: ['SRC'], 22: ['RAC1', 'PRKACA'], 23: ['AKT1', 'MAPK1', 'PRKACA', 'PRKCA'], 24: ['PRKCA'], 25: ['CSNK2A1', 'MAPK1'], 26: ['MAPK1'], 27: ['CASP3', 'AKT1', 'SRC'], 28: ['F2', 'CDC25C', 'PPP2CA', 'CDK2', 'MAPK1', 'PRKCA'], 29: ['SRC'], 30: ['CDK1'], 31: ['MAPK3', 'AKT1', 'MAPK1', 'PRKCA'], 34: ['MAPK14', 'CSNK2A1', 'CDK1', 'PRKCA'], 35: ['CDK1', 'SRC'], 36: ['MAPK1', 'CDK1', 'PRKCA'], 37: ['ATR'], 39: ['CSNK2A1'], 40: ['CSNK2A1', 'PRKACA', 'PRKCA'], 41: ['STK4', 'SMAD4', 'AKT1', 'PRKACA', 'PRKCA'], 42: ['HDAC6', 'MAPK8', 'SRC'], 43: ['ATM', 'AKT1', 'CSNK2A1', 'PRKCA'], 44: ['PRKCD', 'ABL1'], 45: ['CREBBP', 'MAPK14', 'GSK3B', 'MAPK1', 'PRKACA', 'PRKCA', 'SRC'], 46: ['GSK3B', 'CSNK2A1', 'CDK1'], 47: ['FYN', 'SRC'], 48: ['MAPK1'], 49: ['CTNNA1', 'ITCH', 'CDH1', 'PLK1', 'CTNNB1', 'ABL1', 'MAPK1', 'CDK1', 'PRKCA'], 51: ['CSNK2A1', 'PRKACA'], 52: ['GSK3B', 'AKT1', 'PRKACA'], 53: ['MTOR'], 54: ['PRKACA'], 55: ['MTOR', 'AKT1', 'PRKACA', 'PRKCA'], 56: ['PLK1', 'MAPK3', 'MAPK1', 'CDK1', 'SRC'], 57: ['PRKCA'], 58: ['NOTCH1', 'CSNK2A1', 'CDK1'], 59: ['BIRC3', 'BIRC2', 'PAK1', 'GSK3B', 'MAPK3', 'AKT1', 'MAPK1', 'CDK1', 'PRKACA', 'PRKCA'], 60: ['PRKACA'], 62: ['ATM', 'GSK3B', 'CSNK2A1', 'CDK1', 'PRKCA'], 63: ['TGFBR1', 'TRAF6', 'ATM', 'CDK2', 'CSNK2A1', 'SRC'], 64: ['PRKACA'], 65: ['RBX1', 'NFKBIA', 'PLK1', 'CASP3', 'GSK3B', 'TP53', 'MAPK3', 'CSNK2A1'], 69: ['CDK1', 'PRKCA'], 71: ['ATM', 'CDK1', 'PRKACA', 'PRKCA'], 72: ['MAP3K5', 'AKT1', 'CSNK2A1', 'PRKACA'], 74: ['TP53'], 75: ['RPS19', 'CCND1', 'CASP9', 'ADRBK1', 'GSK3A', 'NFKB1', 'LCK', 'RELA'], 76: ['MAPK1', 'CDK1'], 77: ['GSK3B', 'TP53', 'PRKACA'], 78: ['RAC1', 'ATM', 'EGFR', 'TP53', 'SRC'], 79: ['PRKACA'], 80: ['AKT1'], 81: ['AKT1'], 82: ['PPP2CB', 'PAK1', 'PLK1', 'PPP2CA', 'MAPK1'], 83: ['PRKACA'], 84: ['PRKCD', 'GSK3B', 'SRC'], 85: ['PTPN11', 'SRC'], 86: ['HDAC1'], 87: ['AKT1', 'SRC'], 88: ['CDK1'], 89: ['NOD2', 'PTPN11', 'MAPK14', 'TP53', 'AKT1', 'CSNK2A1', 'MAPK1'], 90: ['PRKCA'], 91: ['TRPC1', 'INSR', 'PRKCA', 'SRC'], 92: ['CDH1', 'ABL2', 'CDK5', 'MAPK8', 'ABL1', 'CDK2', 'GSK3B', 'CDK1', 'PRKCA'], 93: ['MAPK1', 'SRC'], 94: ['AKT2', 'AKT1', 'MAPK1', 'SRC'], 95: ['ULK1', 'AKT1', 'SRC'], 96: ['CDKN1A', 'NFE2L2', 'STAT1', 'HIST1H3B', 'SHC1', 'STAT3', 'SMAD3', 'EGFR', 'MAPK3', 'CSNK2A1', 'SRC'], 97: ['SRC'], 99: ['LRP6', 'PRKCB'], 101: ['PRKCA'], 102: ['STAT5B', 'STAT3'], 103: ['CSNK2A1', 'MAPK1'], 104: ['LYN', 'GRB2', 'STAT3', 'PPP2CA', 'EGFR', 'MAPK3', 'MAPK1', 'SRC'], 106: ['CDK1', 'PRKACA', 'PRKCA', 'SRC'], 107: ['PRKCA'], 108: ['MAPK8', 'MAPK3', 'AKT1', 'MAPK1', 'SRC'], 111: ['LCK', 'PPP2CB', 'PPP2CA', 'MAPK14', 'CDK1'], 112: ['CSNK2A1', 'CDK1', 'PRKACA', 'PRKCA', 'SRC'], 113: ['MAPK14'], 114: ['SQSTM1', 'PAK1', 'ABL1', 'GSK3B', 'MAPK1', 'CDK1', 'PRKACA'], 115: ['PRKCD', 'CDK1', 'PRKACA', 'SRC'], 117: ['AR', 'CDK2', 'TP53', 'PRKCA'], 118: ['PIM1', 'BECN1', 'BCL2L1', 'PRKCE', 'FOXO1', 'CDKN1A', 'BCL2', 'IRAK1', 'PPP1CA', 'MAP3K7', 'RAF1', 'IKBKB', 'SMAD3', 'CASP3', 'MAPK8', 'ATM', 'AR', 'MAPK14', 'TP53', 'MAPK3', 'CSNK2A1', 'MAPK1', 'PRKCA', 'SRC'], 119: ['EGFR'], 120: ['PRKACA'], 121: ['PRKCG', 'PRKCA'], 122: ['SNX6', 'SMURF2', 'SMURF1', 'CDC42', 'RAC1', 'SHC1', 'PIK3R1', 'TRAF6', 'EGFR', 'PRKCA'], 124: ['IL6', 'PPP1R14A', 'MYOD1', 'IL6ST', 'RPS6KB1', 'JAK1', 'FYN', 'TP53', 'AKT1'], 126: ['TSC1', 'MAPK14', 'PRKACA', 'SRC'], 127: ['TRAF6', 'PRKCA'], 128: ['PRKACA'], 129: ['CSNK2A2', 'CASP3', 'ABL1', 'GSK3B', 'CSNK2A1'], 130: ['PRKCA'], 131: ['MAPK1', 'PRKCA'], 132: ['MAPKAPK2', 'EGFR', 'CDK1'], 133: ['WWC1', 'FAF1', 'LIFR', 'HDAC6', 'ARHGEF2', 'LATS2', 'FBXW7', 'BRAF', 'SOS1', 'RUNX2', 'RET', 'PPARG', 'PDGFRB', 'STK11', 'ADRBK1', 'MAPT', 'STAT5A', 'PLCG1', 'MAPKAPK2', 'IRS1', 'PTPN1', 'PPP1CA', 'PTPN6', 'SMAD2', 'HIST1H3B', 'SHC1', 'LCK', 'ESR1', 'PAK1', 'SMAD3', 'FYN', 'ABL1', 'AR', 'EGFR', 'GSK3B', 'TP53', 'PRKACA'], 134: ['MAPK14'], 135: ['HDAC1', 'PPP2CB', 'PPP2CA', 'ATM'], 136: ['CSNK2A1'], 137: ['GSK3B'], 138: ['ARNTL', 'ATM', 'AKT1', 'MAPK1', 'SRC'], 139: ['ATM', 'TP53', 'PRKACA'], 140: ['CSNK2A2', 'SHC1', 'IKBKB', 'EGFR', 'CSNK2A1', 'CDK1', 'SRC'], 141: ['MAVS', 'MAPK8', 'MAPK3', 'CSNK2A1', 'MAPK1', 'PRKACA'], 142: ['MAPK3', 'MAPK1', 'CDK1'], 143: ['TRPV4', 'IL2RB', 'TRAF2', 'NFKBIA', 'PTPN6', 'RAF1', 'STAT1', 'STAT3'], 144: ['PRKACA'], 145: ['LRP6', 'PIK3R1', 'AR', 'CDK2', 'CSNK2A1', 'CDK1'], 147: ['AKT1', 'MAPK1', 'PRKCA', 'SRC'], 148: ['MAPK12'], 149: ['KAT5', 'HIST1H3B', 'CDK2', 'CSNK2A1', 'CDK1'], 151: ['ABL1', 'CDK2', 'AKT1', 'CSNK2A1', 'CDK1', 'SRC'], 152: ['LEF1', 'PAK1', 'GSK3B', 'CSNK2A1', 'CDK1', 'PRKCA'], 153: ['CDK1'], 154: ['CDK1', 'PRKACA'], 155: ['PRKAR2A', 'NOTCH1', 'GSK3B', 'CDK1'], 156: ['TSHR', 'IL1B', 'YES1', 'LYN', 'LCK', 'FYN', 'ABL1', 'AR', 'EGFR', 'AKT1', 'CSNK2A1', 'PRKACA', 'SRC'], 158: ['MAPK10', 'MAPK9', 'FYN', 'MAPK8', 'ABL1', 'MAPK14', 'MAPK1', 'CDK1', 'PRKCA', 'SRC'], 160: ['PRKACA', 'SRC'], 161: ['CSNK2A1'], 162: ['MAPK3', 'MAPK1'], 163: ['AR', 'MAPK1']}\n"
     ]
    }
   ],
   "source": [
    "half_query_filepath = directory + \"half_clusters.txt\"\n",
    "print_querylist_of_clusters_to_file(clusters, clusters.get_all_cluster_labels(), half_query_filepath, half_qualifying_proteins)\n",
    "half_fe = get_initialized_fe(background_proteins_filepath, term_mapping_filepath, termlist = background_go_terms)\n",
    "half_fe.importFiles({'query': half_query_filepath })\n",
    "half_fe.run(cluster=False)\n",
    "\n",
    "print(f\"number of functionally enriched clusters after addition of 1/2 proteins: {half_fe.enrichment['Module'].nunique()}\")\n",
    "\n",
    "\n",
    "quarter_query_filepath = directory + \"quarter_clusters.txt\"\n",
    "print_querylist_of_clusters_to_file(clusters, clusters.get_all_cluster_labels(), quarter_query_filepath, quarter_qualifying_proteins)\n",
    "quarter_fe = get_initialized_fe(background_proteins_filepath, term_mapping_filepath, termlist = background_go_terms)\n",
    "quarter_fe.importFiles({'query': quarter_query_filepath })\n",
    "quarter_fe.run(cluster=False)\n",
    "\n",
    "print(f\"number of functionally enriched clusters after addition of 1/4 proteins: {quarter_fe.enrichment['Module'].nunique()}\")\n",
    "\n",
    "\n",
    "tenth_query_filepath = directory + \"tenth_clusters.txt\"\n",
    "print_querylist_of_clusters_to_file(clusters, clusters.get_all_cluster_labels(), tenth_query_filepath, tenth_qualifying_proteins)\n",
    "tenth_fe = get_initialized_fe(background_proteins_filepath, term_mapping_filepath, termlist = background_go_terms)\n",
    "tenth_fe.importFiles({'query': tenth_query_filepath })\n",
    "tenth_fe.run(cluster=False)\n",
    "\n",
    "print(f\"number of functionally enriched clusters after addition of 1/10 proteins: {tenth_fe.enrichment['Module'].nunique()}\")\n",
    "\n",
    "\n",
    "print(half_qualifying_proteins)\n",
    "print(quarter_qualifying_proteins)  \n",
    "print(tenth_qualifying_proteins)\n"
   ]
  },
  {
   "cell_type": "code",
   "execution_count": 17,
   "metadata": {},
   "outputs": [
    {
     "name": "stdout",
     "output_type": "stream",
     "text": [
      "number of functionally enriched clusters after addition of 3 1/10 proteins: 153\n"
     ]
    }
   ],
   "source": [
    "three_tenth_qualifying_proteins = top_n_proteins(tenth_qualifying_proteins, n=3)\n",
    "three_tenth_query_filepath = directory + \"three_tenth_clusters.txt\"\n",
    "print_querylist_of_clusters_to_file(clusters, clusters.get_all_cluster_labels(), three_tenth_query_filepath, three_tenth_qualifying_proteins)\n",
    "half_tenth_fe = get_initialized_fe(background_proteins_filepath, term_mapping_filepath, termlist = background_go_terms) \n",
    "half_tenth_fe.importFiles({'query': three_tenth_query_filepath })\n",
    "half_tenth_fe.run(cluster=False)\n",
    "print(f\"number of functionally enriched clusters after addition of 3 1/10 proteins: {half_tenth_fe.enrichment['Module'].nunique()}\")\n",
    "\n",
    "\n",
    "# three_half_qualifying_proteins = top_n_proteins(half_qualifying_proteins, n=3)\n",
    "# three_half_query_filepath = directory + \"three_half_clusters.txt\"\n",
    "# print_querylist_of_clusters_to_file(clusters, clusters.get_all_cluster_labels(), three_half_query_filepath, three_half_qualifying_proteins)\n",
    "# half_three_fe = get_initialized_fe(background_proteins_filepath, term_mapping_filepath, termlist = background_go_terms) \n",
    "# half_three_fe.importFiles({'query': three_half_query_filepath })\n",
    "# half_three_fe.run(cluster=False)\n",
    "# print(f\"number of functionally enriched clusters after addition of 3 1/2 proteins: {half_three_fe.enrichment['Module'].nunique()}\")\n",
    "\n"
   ]
  },
  {
   "cell_type": "code",
   "execution_count": null,
   "metadata": {},
   "outputs": [],
   "source": []
  },
  {
   "cell_type": "code",
   "execution_count": null,
   "metadata": {},
   "outputs": [],
   "source": []
  }
 ],
 "metadata": {
  "kernelspec": {
   "display_name": "recipe",
   "language": "python",
   "name": "python3"
  },
  "language_info": {
   "codemirror_mode": {
    "name": "ipython",
    "version": 3
   },
   "file_extension": ".py",
   "mimetype": "text/x-python",
   "name": "python",
   "nbconvert_exporter": "python",
   "pygments_lexer": "ipython3",
   "version": "3.10.6"
  },
  "orig_nbformat": 4,
  "vscode": {
   "interpreter": {
    "hash": "62f9e904ff1d4fa6e27f2984f15409dfffcff7468a54928ca0992224464fe58b"
   }
  }
 },
 "nbformat": 4,
 "nbformat_minor": 2
}
