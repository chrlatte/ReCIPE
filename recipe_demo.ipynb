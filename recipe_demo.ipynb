{
 "cells": [
  {
   "cell_type": "markdown",
   "metadata": {},
   "source": []
  },
  {
   "cell_type": "markdown",
   "metadata": {},
   "source": [
    "notes for showing to faith: \n",
    "\n",
    "\n",
    "\n",
    "\n",
    "\n",
    "a"
   ]
  },
  {
   "cell_type": "markdown",
   "metadata": {},
   "source": [
    "Make sure to run the notebook in the correct python environment, with the correct pacakges installed!\n",
    "I am currenlty using my python enviroment 'diamonds' which runs python 3.10.4\n",
    "TODO: don't know what packages i have installed oops\n",
    "TODO: make a recipe python environment"
   ]
  },
  {
   "cell_type": "code",
   "execution_count": 1,
   "metadata": {},
   "outputs": [],
   "source": [
    "import numpy as np\n",
    "import pandas as pd"
   ]
  },
  {
   "cell_type": "code",
   "execution_count": 3,
   "metadata": {},
   "outputs": [],
   "source": [
    "# following code is necessary as some functions used in the funcE class produce future warnings but i can't fix it as it is not my code\n",
    "import warnings\n",
    "warnings.simplefilter(action='ignore', category=FutureWarning)"
   ]
  },
  {
   "cell_type": "code",
   "execution_count": 5,
   "metadata": {},
   "outputs": [],
   "source": [
    "# importing the custom classes i built\n",
    "from matrix_class import ProteinMatrix # ppi matrix \n",
    "from cluster_class import AllClusters # dictionary to hold all clusters (in form number of cluster : list of proteins in that cluster)\n",
    "from degreelist_class import DegreeList # creates a list of all proteins in order of their degree"
   ]
  },
  {
   "cell_type": "code",
   "execution_count": 6,
   "metadata": {},
   "outputs": [],
   "source": [
    "from func_e.FUNC_E import FUNC_E  # a method that can do funtional enrichment analysis!\n",
    "import func_e.vocabs.all as vocabs"
   ]
  },
  {
   "cell_type": "code",
   "execution_count": null,
   "metadata": {},
   "outputs": [],
   "source": []
  }
 ],
 "metadata": {
  "kernelspec": {
   "display_name": "Python 3.10.4 ('diamonds')",
   "language": "python",
   "name": "python3"
  },
  "language_info": {
   "codemirror_mode": {
    "name": "ipython",
    "version": 3
   },
   "file_extension": ".py",
   "mimetype": "text/x-python",
   "name": "python",
   "nbconvert_exporter": "python",
   "pygments_lexer": "ipython3",
   "version": "3.10.4"
  },
  "orig_nbformat": 4,
  "vscode": {
   "interpreter": {
    "hash": "e113e58b579a48e5732235004b32d872074e11125058c2d5e4f294336344a2ee"
   }
  }
 },
 "nbformat": 4,
 "nbformat_minor": 2
}
