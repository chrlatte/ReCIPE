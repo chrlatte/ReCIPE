{
 "cells": [
  {
   "cell_type": "markdown",
   "metadata": {},
   "source": [
    "notes for myself:\n",
    "\n",
    "- first do a setup of the initial method,\n",
    "- then can start to edit files and improve documentation!\n",
    "\n",
    "\n",
    "\n"
   ]
  },
  {
   "cell_type": "markdown",
   "metadata": {},
   "source": [
    "notes for showing to faith: \n",
    "\n",
    "    required files in demo_data:\n",
    "        dream3.txt -> a file containing Protein Protein Interactions\n",
    "        dream3_clusters.json -> a file containing clusters of proteins\n",
    "        dream3_go_results.tsv -> file containing the GO terms corresponding to each protein in dream3\n",
    "\n",
    "    other files in demo_data: (generated with notebook!)\n",
    "        background_proteinlist is created via the function `print_protein_background_to_file`\n",
    "        term mapping\n",
    "        querylsits\n",
    "        \n",
    "\n",
    "\n"
   ]
  },
  {
   "cell_type": "markdown",
   "metadata": {},
   "source": []
  },
  {
   "cell_type": "markdown",
   "metadata": {},
   "source": [
    "Make sure to run the notebook in the correct python environment, with the correct pacakges installed!\n",
    "I am currenlty using my python enviroment 'diamonds' which runs python 3.10.4\n",
    "TODO: don't know what packages i have installed oops\n",
    "TODO: make a recipe python environment"
   ]
  },
  {
   "cell_type": "markdown",
   "metadata": {},
   "source": [
    "import libraries and functions!"
   ]
  },
  {
   "cell_type": "code",
   "execution_count": 1,
   "metadata": {},
   "outputs": [],
   "source": [
    "# importing libraries\n",
    "\n",
    "# standard libraries\n",
    "import numpy as np\n",
    "import pandas as pd\n",
    "import matplotlib.pyplot as plt\n",
    "\n",
    "# library used for functional enrichment analysis\n",
    "from func_e.FUNC_E import FUNC_E  # a method that can do funtional enrichment analysis!\n",
    "import func_e.vocabs.all as vocabs"
   ]
  },
  {
   "cell_type": "code",
   "execution_count": 2,
   "metadata": {},
   "outputs": [],
   "source": [
    "# following code is necessary as some functions used in the funcE class produce future warnings but i can't fix it as it is not my code\n",
    "import warnings\n",
    "warnings.simplefilter(action='ignore', category=FutureWarning)"
   ]
  },
  {
   "cell_type": "code",
   "execution_count": 3,
   "metadata": {},
   "outputs": [],
   "source": [
    "# importing the custom classes i built\n",
    "from matrix_class import ProteinMatrix # ppi matrix \n",
    "from cluster_class import AllClusters # dictionary to hold all clusters (in form number of cluster : list of proteins in that cluster)\n",
    "from degreelist_class import DegreeList # creates a list of all proteins in order of their degree"
   ]
  },
  {
   "cell_type": "code",
   "execution_count": 4,
   "metadata": {},
   "outputs": [],
   "source": [
    "# helper functions for setting up program\n",
    "from recipe_utils import initialize_matrix_clusters_degreelist\n",
    "from recipe_utils import find_clusters_and_proteins_together\n",
    "\n",
    "# helper functions for functional enrichment\n",
    "from recipe_utils import print_querylist_of_clusters_to_file\n",
    "from recipe_utils import print_protein_background_to_file\n",
    "from recipe_utils import create_term_mapping_list\n",
    "from recipe_utils import get_initialized_fe"
   ]
  },
  {
   "cell_type": "markdown",
   "metadata": {},
   "source": [
    "setup the initial clusters!"
   ]
  },
  {
   "cell_type": "code",
   "execution_count": 5,
   "metadata": {},
   "outputs": [],
   "source": [
    "matrix, clusters, degreelist = initialize_matrix_clusters_degreelist(\"demo_data/dream3.txt\", \"demo_data/dream3_clusters.json\")"
   ]
  },
  {
   "cell_type": "markdown",
   "metadata": {},
   "source": [
    "use recipe!"
   ]
  },
  {
   "cell_type": "code",
   "execution_count": 14,
   "metadata": {},
   "outputs": [],
   "source": [
    "# run ReCIPE using sqrt method!!!!!!!!!!!!\n",
    "\n",
    "qualifying_clusters, qualifying_proteins = find_clusters_and_proteins_together(matrix, clusters, degreelist, cluster_ratio=0, cluster_constant=0,use_sqrt=True, protein_ratio=1, protein_constant=0)\n",
    "\n",
    "# the above function takes in parameters and finds clusters that qualify to be reconnected, then for each of these clusters, it find the proteins that could reconnect them (based on the inputted criteria)"
   ]
  },
  {
   "cell_type": "code",
   "execution_count": 15,
   "metadata": {},
   "outputs": [
    {
     "name": "stdout",
     "output_type": "stream",
     "text": [
      "{10: ['NOTCH1'], 11: ['PRKACA'], 20: ['CHEK1', 'ATM'], 25: ['SRC'], 26: ['PRKACA'], 27: ['ATM'], 28: ['TGFBR2'], 32: ['CSNK2B', 'CSNK2A1'], 33: ['ATM'], 38: ['PIK3R1'], 39: ['SRC'], 41: ['EGFR', 'PRKCA'], 42: ['PRKCA'], 47: ['MAPK8'], 49: ['SRC'], 61: ['GSK3B'], 65: ['CSNK2A1', 'SRC'], 74: ['STAT3', 'AKT1', 'PRKCA'], 78: ['SRC'], 79: ['SMAD3'], 85: ['MAPK1'], 87: ['CSNK2A1'], 89: ['TP53'], 91: ['MAP3K5'], 98: ['CDK1'], 106: ['PRKACA'], 107: ['EGFR', 'SRC'], 110: ['PRKACA'], 114: ['MAPK1'], 117: ['CSNK2A1'], 118: ['PRKACA'], 119: ['AKT1'], 122: ['MAPK1'], 123: ['MAPK14', 'MAPK1'], 137: ['CSNK2A1'], 138: ['MAPK1'], 146: ['PPP1CA', 'CTNNB1', 'SRC'], 149: ['GSK3B', 'CDK1'], 152: ['CSNK2A1'], 156: ['CAMK2A'], 158: ['CDK1', 'SRC'], 160: ['AKT1'], 161: ['CSNK2A1'], 170: ['AKT1'], 172: ['FANCD2', 'ATM', 'CDK2', 'CSNK2A1', 'PRKCA'], 175: ['CDK1'], 183: ['CSNK1A1'], 185: ['TSC1', 'IKBKB'], 189: ['SRC'], 193: ['KPNA2', 'MDM2', 'TP53', 'MAPK3'], 194: ['SRC'], 198: ['MAPK3', 'MAPK1']}\n"
     ]
    }
   ],
   "source": [
    "# can peek at which clusters will be updated, and with which proteins\n",
    "print(qualifying_proteins)"
   ]
  },
  {
   "cell_type": "markdown",
   "metadata": {},
   "source": [
    "Do functional enrichment on the updated clusters!"
   ]
  },
  {
   "cell_type": "code",
   "execution_count": 18,
   "metadata": {},
   "outputs": [],
   "source": [
    "# use functions to print info to files: (annoying, but need to get info into format used for funcE package)\n",
    "\n",
    "\n",
    "# 1) a background protein list to be used for functional enrichment analysis\n",
    "background_proteins_filepath = \"demo_data/background_proteinlist.txt\"\n",
    "print_protein_background_to_file(matrix, background_proteins_filepath) \n",
    "\n",
    "# 2) file containing protein to go term\n",
    "term_mapping_filepath = \"demo_data/term_mapping.txt\"\n",
    "create_term_mapping_list(\"demo_data/dream3_go_results.tsv\", term_mapping_filepath)\n",
    "\n",
    "# 3) not a file, but need to establish a background of all GO terms! (to be used for functional enrichment analysis)\n",
    "background_go_terms = vocabs.getTerms(['GO'])"
   ]
  },
  {
   "cell_type": "code",
   "execution_count": 19,
   "metadata": {},
   "outputs": [
    {
     "name": "stdout",
     "output_type": "stream",
     "text": [
      "get_all_cluster_labels fxn has not been tested\n",
      "get_all_cluster_labels fxn has not been tested\n"
     ]
    }
   ],
   "source": [
    "# continue printing info to files to be used in functional enrichment analysis:\n",
    "\n",
    "# 4) print original clusters to a file\n",
    "og_query_filepath = 'demo_data/og_query.txt'\n",
    "print_querylist_of_clusters_to_file(clusters, clusters.get_all_cluster_labels(),og_query_filepath)\n",
    "\n",
    "# 5) print updated clusters to a file (just append the function to include the dictionary of qualifying proteins)\n",
    "updated_query_filepath = 'demo_data/updated_query.txt'\n",
    "print_querylist_of_clusters_to_file(clusters, clusters.get_all_cluster_labels(), updated_query_filepath, qualifying_proteins)"
   ]
  },
  {
   "cell_type": "code",
   "execution_count": 20,
   "metadata": {},
   "outputs": [],
   "source": [
    "# do functional enrichment on the original clusters!!\n",
    "\n",
    "original_fe = get_initialized_fe(background_proteins_filepath, term_mapping_filepath, termlist = background_go_terms)\n",
    "\n",
    "original_fe.importFiles({'query': og_query_filepath })\n",
    "original_fe.run(cluster=False)"
   ]
  },
  {
   "cell_type": "code",
   "execution_count": 21,
   "metadata": {},
   "outputs": [],
   "source": [
    "# do functional enrichment on updated clusters!!\n",
    "\n",
    "updated_fe_all_proteins = get_initialized_fe(background_proteins_filepath, term_mapping_filepath, termlist = background_go_terms)\n",
    "\n",
    "updated_fe_all_proteins.importFiles({'query': updated_query_filepath })\n",
    "updated_fe_all_proteins.run(cluster=False)"
   ]
  },
  {
   "cell_type": "code",
   "execution_count": null,
   "metadata": {},
   "outputs": [],
   "source": [
    "# option to only add 1 protein!!!\n",
    "\n",
    "# create a dictionary containing only the first qualifying protein, and pass it to the querylist\n",
    "one_qualifying_protein = dict()\n",
    "for key in qualifying_proteins:\n",
    "    one_qualifying_protein[key] = [qualifying_proteins[key][0]]\n",
    "\n",
    "\n",
    "updated_query_one_protein = 'updated_query_1p.txt'\n",
    "print_querylist_of_clusters_to_file(clusters, clusters.get_all_cluster_labels(), updated_query_one_protein, one_qualifying_protein)\n",
    "\n",
    "# run functional enrichment for 1 protein added\n",
    "updated_fe_one_protein = get_initialized_fe(background_proteins_filepath, term_mapping_filepath, termlist = background_go_terms)\n",
    "updated_fe_one_protein.importFiles({'query': updated_query_one_protein })\n",
    "updated_fe_one_protein.run(cluster=False)"
   ]
  },
  {
   "cell_type": "code",
   "execution_count": null,
   "metadata": {},
   "outputs": [],
   "source": []
  },
  {
   "cell_type": "code",
   "execution_count": null,
   "metadata": {},
   "outputs": [],
   "source": []
  },
  {
   "cell_type": "code",
   "execution_count": 23,
   "metadata": {},
   "outputs": [
    {
     "name": "stdout",
     "output_type": "stream",
     "text": [
      "number of clusters that were updated with proteins: 52\n",
      "\n",
      "number of functionally enriched clusters (modules) out of 52 original clusters: 155\n",
      "number of functionally enriched clusters after addition of all proteins: 163\n",
      "\n",
      "number of significant pvals in original clusters before updating: 405\n",
      "number of significant pvals in clusters with all proteins added: 479\n"
     ]
    }
   ],
   "source": [
    "# print data by the numbers!\n",
    "print(f\"number of clusters that were updated with proteins: {len(qualifying_proteins.keys())}\\n\")\n",
    "\n",
    "# clusters that are functionally enriched\n",
    "print(f\"number of functionally enriched clusters (modules) out of {len(qualifying_proteins.keys())} original clusters: {original_fe.enrichment['Module'].nunique()}\")\n",
    "print(f\"number of functionally enriched clusters after addition of all proteins: {updated_fe_all_proteins.enrichment['Module'].nunique()}\")\n",
    "\n",
    "print(f\"\")\n",
    "\n",
    "\n",
    "# significant P-values!!!\n",
    "print(f\"number of significant pvals in original clusters before updating: {original_fe.enrichment['Fishers_pvalue'].count()}\")\n",
    "print(f\"number of significant pvals in clusters with all proteins added: {updated_fe_all_proteins.enrichment['Fishers_pvalue'].count()}\")"
   ]
  },
  {
   "cell_type": "code",
   "execution_count": 27,
   "metadata": {},
   "outputs": [
    {
     "name": "stdout",
     "output_type": "stream",
     "text": [
      "[155, 163]\n"
     ]
    },
    {
     "name": "stderr",
     "output_type": "stream",
     "text": [
      "/var/folders/hk/q40rrztn3glcl0jvwjcpzyth0000gn/T/ipykernel_24153/872751826.py:11: UserWarning: FixedFormatter should only be used together with FixedLocator\n",
      "  ax.set_xticklabels(x_values, fontsize=14)\n"
     ]
    },
    {
     "data": {
      "image/png": "[encoded data removed]",
      "text/plain": [
       "<Figure size 360x360 with 1 Axes>"
      ]
     },
     "metadata": {
      "needs_background": "light"
     },
     "output_type": "display_data"
    }
   ],
   "source": [
    "# create clusters graph\n",
    "fig, ax = plt.subplots()\n",
    "\n",
    "x_values = [\"og clusters\", \"new clusters\"]\n",
    "counts = [original_fe.enrichment['Module'].nunique(), updated_fe_all_proteins.enrichment['Module'].nunique()]\n",
    "print(counts)\n",
    "\n",
    "\n",
    "ax.bar(x_values, counts)\n",
    "\n",
    "ax.set_xticklabels(x_values, fontsize=14)\n",
    "\n",
    "ax.set_title(f\"Number of Functionally Enriched Clusters\\n({len(qualifying_proteins.keys())} clusters modified)\", fontsize=18)\n",
    "ax.set_ylabel('count', fontsize=16)\n",
    "\n",
    "ax.set_xlabel('number of proteins added', fontsize=16)\n",
    "\n",
    "ax.grid(axis='y')\n",
    "\n",
    "fig.set_size_inches(5,5)\n",
    "plt.show()"
   ]
  },
  {
   "cell_type": "code",
   "execution_count": null,
   "metadata": {},
   "outputs": [],
   "source": []
  },
  {
   "cell_type": "code",
   "execution_count": null,
   "metadata": {},
   "outputs": [],
   "source": []
  },
  {
   "cell_type": "code",
   "execution_count": null,
   "metadata": {},
   "outputs": [],
   "source": []
  },
  {
   "cell_type": "code",
   "execution_count": null,
   "metadata": {},
   "outputs": [],
   "source": []
  },
  {
   "cell_type": "code",
   "execution_count": null,
   "metadata": {},
   "outputs": [],
   "source": []
  },
  {
   "cell_type": "code",
   "execution_count": null,
   "metadata": {},
   "outputs": [],
   "source": []
  }
 ],
 "metadata": {
  "kernelspec": {
   "display_name": "Python 3.10.4 ('diamonds')",
   "language": "python",
   "name": "python3"
  },
  "language_info": {
   "codemirror_mode": {
    "name": "ipython",
    "version": 3
   },
   "file_extension": ".py",
   "mimetype": "text/x-python",
   "name": "python",
   "nbconvert_exporter": "python",
   "pygments_lexer": "ipython3",
   "version": "3.10.4"
  },
  "orig_nbformat": 4,
  "vscode": {
   "interpreter": {
    "hash": "e113e58b579a48e5732235004b32d872074e11125058c2d5e4f294336344a2ee"
   }
  }
 },
 "nbformat": 4,
 "nbformat_minor": 2
}
