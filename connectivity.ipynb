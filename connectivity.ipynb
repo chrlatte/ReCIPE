{
 "cells": [
  {
   "cell_type": "code",
   "execution_count": 21,
   "metadata": {},
   "outputs": [],
   "source": [
    "# import pickle\n",
    "# #main 1: save a variable\n",
    "# with open('pickle.results', 'wb') as f: # must be wb for \"write binary\"\n",
    "#     n = 100\n",
    "#     pickle.dump(n, f)\n",
    "    \n",
    "# # restore a variable\n",
    "# with open('pickle.results', 'rb') as f:\n",
    "#     a = pickle.load(f)\n",
    "\n",
    "# print(a)"
   ]
  },
  {
   "cell_type": "code",
   "execution_count": null,
   "metadata": {},
   "outputs": [],
   "source": []
  },
  {
   "cell_type": "code",
   "execution_count": null,
   "metadata": {},
   "outputs": [],
   "source": []
  },
  {
   "cell_type": "code",
   "execution_count": null,
   "metadata": {},
   "outputs": [],
   "source": []
  },
  {
   "cell_type": "code",
   "execution_count": null,
   "metadata": {},
   "outputs": [],
   "source": []
  },
  {
   "cell_type": "code",
   "execution_count": null,
   "metadata": {},
   "outputs": [],
   "source": []
  },
  {
   "cell_type": "code",
   "execution_count": 22,
   "metadata": {},
   "outputs": [],
   "source": [
    "\n",
    "\n",
    "\n",
    "\n",
    "# importing the custom classes i built\n",
    "from matrix_class import ProteinMatrix # ppi matrix \n",
    "from cluster_class import AllClusters # dictionary to hold all clusters (in form number of cluster : list of proteins in that cluster)\n",
    "from degreelist_class import DegreeList # creates a list of all proteins in order of their degree\n",
    "\n",
    "# helper functions for setting up program\n",
    "from recipe_utils import initialize_matrix_clusters_degreelist"
   ]
  },
  {
   "cell_type": "code",
   "execution_count": null,
   "metadata": {},
   "outputs": [],
   "source": []
  },
  {
   "cell_type": "code",
   "execution_count": 23,
   "metadata": {},
   "outputs": [],
   "source": [
    "from matrix_class import SubMatrix\n",
    "\n",
    "def get_cluster_connectivity (\n",
    "    matrix:ProteinMatrix,\n",
    "    degreelist:DegreeList,\n",
    "    clusters:AllClusters,\n",
    "    added_proteins:dict={},\n",
    "    percentages:bool=True,\n",
    "    sort_it:bool=False,\n",
    "\n",
    "\n",
    "):\n",
    "    \"\"\"\n",
    "    returns a dictionary of cluster_num : percent_connectivity\n",
    "    note: uses SubMatrix from matrix class\n",
    "\n",
    "    can specify if you want sorted.\n",
    "    if added_proteins is specified (not empty), then it will add those proteins to the cluster before calculating connectivity\n",
    "\n",
    "    \"\"\"\n",
    "    proteins = matrix.get_list_of_proteins()\n",
    "    degree_dict = dict(degreelist.sorted_protein_degree_dict)\n",
    "    matrix_df = matrix.get_matrix()\n",
    "    cluster_connectivity = {}\n",
    "\n",
    "    for cluster_num in clusters.get_all_cluster_labels():\n",
    "        # get all the proteins associated to a cluster  \n",
    "        cluster_proteins = clusters.get_cluster_proteins(cluster_num)\n",
    "        \n",
    "        # added_cluster_proteins is empty in the case that none have been added, or if added proteins was not specified\n",
    "        added_cluster_proteins = [] if not added_proteins or cluster_num not in added_proteins else added_proteins[cluster_num]\n",
    "        # get the list of potential proteins to add to cluster \n",
    "        submatrix = SubMatrix(list(set(cluster_proteins + added_cluster_proteins)), matrix)\n",
    "        components_and_labels = submatrix.get_num_components_and_labels()\n",
    "        num_components = components_and_labels[0]\n",
    "        # current ratio of clusters to proteins\n",
    "        if (percentages):\n",
    "            num_proteins = len(cluster_proteins)\n",
    "        \n",
    "            percent_connectivity = 1 - (num_components - 1) / (num_proteins - 1)\n",
    "            cluster_connectivity[cluster_num] = percent_connectivity\n",
    "        else:\n",
    "            cluster_connectivity[cluster_num] = num_components\n",
    "\n",
    "    if sort_it:\n",
    "        sorted_cluster_connectivity:dict= {k: v for k, v in sorted(cluster_connectivity.items(), key=lambda item: item[1], reverse=False)}\n",
    "        return sorted_cluster_connectivity\n",
    "    \n",
    "    return cluster_connectivity\n",
    "\n",
    "\n",
    "\n",
    "\n"
   ]
  },
  {
   "cell_type": "code",
   "execution_count": 24,
   "metadata": {},
   "outputs": [],
   "source": [
    "# interactions_file = \"data/connectivity/1_ppi_anonym_v2.txt\"\n",
    "# clusters_file = \"data/connectivity/1_clusters_s1000_split.json\"\n",
    "\n",
    "interactions_file = \"data/connectivity/test_interactions\"\n",
    "clusters_file = \"data/connectivity/test_clusters\"\n"
   ]
  },
  {
   "cell_type": "code",
   "execution_count": 25,
   "metadata": {},
   "outputs": [],
   "source": [
    "\n",
    "# import json\n",
    "\n",
    "# clusterjson = {}\n",
    "# with open(\"data/connectivity/1_clusters_s1000_split.txt\") as f:\n",
    "#     for line in f:\n",
    "#         parts = line.strip().split('\\t')\n",
    "#         cluster = int(parts[0])\n",
    "#         for prot in parts[2:]:\n",
    "#              clusterjson[prot] = cluster\n",
    "\n",
    "# with open(clusters_file, \"w\") as outfile:\n",
    "#     json.dump(clusterjson, outfile)\n",
    "    \n",
    "\n"
   ]
  },
  {
   "cell_type": "code",
   "execution_count": 26,
   "metadata": {},
   "outputs": [],
   "source": [
    "matrix, clusters, degreelist = initialize_matrix_clusters_degreelist(interactions_filepath=interactions_file, clusters_filepath=clusters_file)\n",
    "\n",
    "\n",
    "# new_clusters=AllClusters(protein_to_cluster_dict=filtered_dict)    "
   ]
  },
  {
   "cell_type": "code",
   "execution_count": 27,
   "metadata": {},
   "outputs": [
    {
     "name": "stdout",
     "output_type": "stream",
     "text": [
      "     p2   p1   p3\n",
      "p2  0.0  0.1  0.1\n",
      "p1  0.1  0.0  0.1\n",
      "p3  0.1  0.1  0.0\n",
      "     p6   p5   p4\n",
      "p6  0.0  0.0  0.0\n",
      "p5  0.0  0.0  0.0\n",
      "p4  0.0  0.0  0.0\n",
      "      p7   p9   p8  p10\n",
      "p7   0.0  0.0  0.2  0.0\n",
      "p9   0.0  0.0  0.0  0.2\n",
      "p8   0.2  0.0  0.0  0.0\n",
      "p10  0.0  0.2  0.0  0.0\n"
     ]
    },
    {
     "data": {
      "text/plain": [
       "      p1  p10   p2   p3   p4   p5   p6   p7   p8   p9\n",
       "p1   0.0  0.0  0.1  0.1  0.1  0.1  0.1  0.0  0.0  0.0\n",
       "p10  0.0  0.0  0.0  0.0  0.0  0.0  0.0  0.0  0.0  0.2\n",
       "p2   0.1  0.0  0.0  0.1  0.0  0.0  0.0  0.0  0.0  0.0\n",
       "p3   0.1  0.0  0.1  0.0  0.0  0.0  0.0  0.0  0.0  0.0\n",
       "p4   0.1  0.0  0.0  0.0  0.0  0.0  0.0  0.0  0.0  0.0\n",
       "p5   0.1  0.0  0.0  0.0  0.0  0.0  0.0  0.0  0.0  0.0\n",
       "p6   0.1  0.0  0.0  0.0  0.0  0.0  0.0  0.0  0.0  0.0\n",
       "p7   0.0  0.0  0.0  0.0  0.0  0.0  0.0  0.0  0.2  0.0\n",
       "p8   0.0  0.0  0.0  0.0  0.0  0.0  0.0  0.2  0.0  0.0\n",
       "p9   0.0  0.2  0.0  0.0  0.0  0.0  0.0  0.0  0.0  0.0"
      ]
     },
     "execution_count": 27,
     "metadata": {},
     "output_type": "execute_result"
    }
   ],
   "source": [
    "from matrix_class import SubMatrix\n",
    "\n",
    "for key in clusters.get_all_cluster_labels():\n",
    "    print(SubMatrix(clusters.get_cluster_proteins(key), matrix).get_matrix())\n",
    "\n",
    "matrix\n"
   ]
  },
  {
   "cell_type": "code",
   "execution_count": 28,
   "metadata": {},
   "outputs": [
    {
     "name": "stdout",
     "output_type": "stream",
     "text": [
      "printing the connectivity dictionary\n",
      "{1: 1, 2: 3, 3: 2}\n"
     ]
    },
    {
     "data": {
      "image/png": "[encoded data removed]",
      "text/plain": [
       "<Figure size 640x480 with 1 Axes>"
      ]
     },
     "metadata": {},
     "output_type": "display_data"
    }
   ],
   "source": [
    "\n",
    "import matplotlib.pyplot as plt\n",
    "\n",
    "num_components_dict = get_cluster_connectivity(matrix, degreelist, clusters, percentages=False, sort_it=False)\n",
    "print(f\"printing the connectivity dictionary\")\n",
    "print(num_components_dict)\n",
    "\n",
    "values = list(num_components_dict.values())\n",
    "\n",
    "# Creating histogram\n",
    "plt.hist(values)\n",
    "\n",
    "# Adding labels and title\n",
    "plt.xlabel('number components')\n",
    "plt.ylabel('Frequency')\n",
    "plt.title('Dream1 Challenge Cluster Connectivity')\n",
    "\n",
    "# Displaying the histogram\n",
    "plt.show()"
   ]
  },
  {
   "cell_type": "code",
   "execution_count": 29,
   "metadata": {},
   "outputs": [
    {
     "name": "stdout",
     "output_type": "stream",
     "text": [
      "printing the connectivity dictionary\n"
     ]
    },
    {
     "data": {
      "image/png": "[encoded data removed]",
      "text/plain": [
       "<Figure size 640x480 with 1 Axes>"
      ]
     },
     "metadata": {},
     "output_type": "display_data"
    },
    {
     "name": "stdout",
     "output_type": "stream",
     "text": [
      "Number of values greater than 0.9: 1\n"
     ]
    },
    {
     "data": {
      "text/plain": [
       "{1: 1.0, 2: 0.0, 3: 0.6666666666666667}"
      ]
     },
     "execution_count": 29,
     "metadata": {},
     "output_type": "execute_result"
    }
   ],
   "source": [
    "\n",
    "import numpy as np\n",
    "\n",
    "percent_components_dict = get_cluster_connectivity(matrix, degreelist, clusters, percentages=True, sort_it=False)\n",
    "\n",
    "print(f\"printing the connectivity dictionary\")\n",
    "values = list(percent_components_dict.values())\n",
    "\n",
    "x_range = (0, 1)  # Range of x values\n",
    "bucket_size = .1  # Size of each bucket\n",
    "\n",
    "bins = np.arange(x_range[0], x_range[1] + bucket_size, bucket_size)\n",
    "\n",
    "# Creating histogram with adjusted range and bucket size\n",
    "plt.hist(values, bins=bins, edgecolor='black')\n",
    "\n",
    "\n",
    "# Adding labels and title\n",
    "plt.xlabel('percent connected')\n",
    "plt.ylabel('count')\n",
    "plt.title('Dream1 Challenge Cluster Connectivity')\n",
    "\n",
    "# Displaying the histogram\n",
    "plt.show()\n",
    "\n",
    "\n",
    "print(\"Number of values greater than 0.9:\", sum(value > 0.9 for value in percent_components_dict.values()))\n",
    "# print(f\"number of functionally enriched clusters (modules) out of {clusters.get_num_clusters()} original clusters: {original_fe.enrichment['Module'].nunique()}\")\n",
    "percent_components_dict"
   ]
  },
  {
   "cell_type": "code",
   "execution_count": null,
   "metadata": {},
   "outputs": [],
   "source": []
  },
  {
   "cell_type": "code",
   "execution_count": 30,
   "metadata": {},
   "outputs": [
    {
     "name": "stdout",
     "output_type": "stream",
     "text": [
      "dict_keys([1, 2, 3])\n",
      "Cluster 1: ['p1', 'p2', 'p3']\n",
      "Cluster 2: ['p4', 'p5', 'p6']\n",
      "Cluster 3: ['p7', 'p8', 'p9', 'p10']\n"
     ]
    }
   ],
   "source": [
    "clusters.print_all()\n"
   ]
  },
  {
   "cell_type": "code",
   "execution_count": null,
   "metadata": {},
   "outputs": [],
   "source": []
  },
  {
   "cell_type": "code",
   "execution_count": 31,
   "metadata": {},
   "outputs": [
    {
     "name": "stdout",
     "output_type": "stream",
     "text": [
      "dict_keys([1, 2, 3])\n",
      "Cluster 1: ['p1', 'p2', 'p3']\n",
      "Cluster 2: ['p4', 'p5', 'p6']\n",
      "Cluster 3: ['p7', 'p8', 'p9', 'p10']\n"
     ]
    }
   ],
   "source": [
    "clusters.sort_dictionary()\n",
    "clusters.print_all()"
   ]
  },
  {
   "cell_type": "code",
   "execution_count": 32,
   "metadata": {},
   "outputs": [
    {
     "data": {
      "text/plain": [
       "{1: ['p1', 'p2', 'p3'], 2: ['p4', 'p5', 'p6'], 3: ['p7', 'p8', 'p9', 'p10']}"
      ]
     },
     "execution_count": 32,
     "metadata": {},
     "output_type": "execute_result"
    }
   ],
   "source": [
    "min_size = 3\n",
    "max_size = 8\n",
    "filtered_dict = {key: value for key, value in clusters.get_all_clusters().items() if min_size <= len(value) <= max_size}\n",
    "filtered_dict"
   ]
  },
  {
   "cell_type": "code",
   "execution_count": 33,
   "metadata": {},
   "outputs": [
    {
     "name": "stdout",
     "output_type": "stream",
     "text": [
      "     p2   p1   p3\n",
      "p2  0.0  0.1  0.1\n",
      "p1  0.1  0.0  0.1\n",
      "p3  0.1  0.1  0.0\n",
      "     p6   p5   p4\n",
      "p6  0.0  0.0  0.0\n",
      "p5  0.0  0.0  0.0\n",
      "p4  0.0  0.0  0.0\n",
      "      p7   p9   p8  p10\n",
      "p7   0.0  0.0  0.2  0.0\n",
      "p9   0.0  0.0  0.0  0.2\n",
      "p8   0.2  0.0  0.0  0.0\n",
      "p10  0.0  0.2  0.0  0.0\n"
     ]
    },
    {
     "data": {
      "text/plain": [
       "      p1  p10   p2   p3   p4   p5   p6   p7   p8   p9\n",
       "p1   0.0  0.0  0.1  0.1  0.1  0.1  0.1  0.0  0.0  0.0\n",
       "p10  0.0  0.0  0.0  0.0  0.0  0.0  0.0  0.0  0.0  0.2\n",
       "p2   0.1  0.0  0.0  0.1  0.0  0.0  0.0  0.0  0.0  0.0\n",
       "p3   0.1  0.0  0.1  0.0  0.0  0.0  0.0  0.0  0.0  0.0\n",
       "p4   0.1  0.0  0.0  0.0  0.0  0.0  0.0  0.0  0.0  0.0\n",
       "p5   0.1  0.0  0.0  0.0  0.0  0.0  0.0  0.0  0.0  0.0\n",
       "p6   0.1  0.0  0.0  0.0  0.0  0.0  0.0  0.0  0.0  0.0\n",
       "p7   0.0  0.0  0.0  0.0  0.0  0.0  0.0  0.0  0.2  0.0\n",
       "p8   0.0  0.0  0.0  0.0  0.0  0.0  0.0  0.2  0.0  0.0\n",
       "p9   0.0  0.2  0.0  0.0  0.0  0.0  0.0  0.0  0.0  0.0"
      ]
     },
     "execution_count": 33,
     "metadata": {},
     "output_type": "execute_result"
    }
   ],
   "source": [
    "from matrix_class import SubMatrix\n",
    "\n",
    "\n",
    "for key in filtered_dict:\n",
    "    print(SubMatrix(filtered_dict[key], matrix).get_matrix())\n",
    "\n",
    "matrix\n"
   ]
  },
  {
   "cell_type": "code",
   "execution_count": null,
   "metadata": {},
   "outputs": [],
   "source": []
  },
  {
   "cell_type": "code",
   "execution_count": null,
   "metadata": {},
   "outputs": [],
   "source": []
  },
  {
   "cell_type": "code",
   "execution_count": null,
   "metadata": {},
   "outputs": [],
   "source": []
  },
  {
   "cell_type": "code",
   "execution_count": null,
   "metadata": {},
   "outputs": [],
   "source": []
  },
  {
   "cell_type": "code",
   "execution_count": null,
   "metadata": {},
   "outputs": [],
   "source": []
  },
  {
   "cell_type": "code",
   "execution_count": null,
   "metadata": {},
   "outputs": [],
   "source": []
  },
  {
   "cell_type": "code",
   "execution_count": null,
   "metadata": {},
   "outputs": [],
   "source": []
  },
  {
   "cell_type": "code",
   "execution_count": null,
   "metadata": {},
   "outputs": [],
   "source": []
  },
  {
   "cell_type": "code",
   "execution_count": null,
   "metadata": {},
   "outputs": [],
   "source": []
  },
  {
   "cell_type": "code",
   "execution_count": null,
   "metadata": {},
   "outputs": [],
   "source": []
  },
  {
   "cell_type": "code",
   "execution_count": null,
   "metadata": {},
   "outputs": [],
   "source": []
  }
 ],
 "metadata": {
  "kernelspec": {
   "display_name": "recipe",
   "language": "python",
   "name": "python3"
  },
  "language_info": {
   "codemirror_mode": {
    "name": "ipython",
    "version": 3
   },
   "file_extension": ".py",
   "mimetype": "text/x-python",
   "name": "python",
   "nbconvert_exporter": "python",
   "pygments_lexer": "ipython3",
   "version": "3.10.6"
  },
  "orig_nbformat": 4
 },
 "nbformat": 4,
 "nbformat_minor": 2
}
