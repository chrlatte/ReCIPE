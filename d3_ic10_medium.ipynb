{
 "cells": [
  {
   "attachments": {},
   "cell_type": "markdown",
   "metadata": {},
   "source": [
    "\n",
    "# d3_ic10_medium\n",
    "- this file is for dream3 data, with medium clusters generated using the ic_10 parameter (spectral clustering)\n",
    "- we consider two different cuttoffs for adding proteins back:\n",
    "1. Squareroot method: a protein must connect at least sqrt(num components) components to qualify for addition to a cluster\n",
    "2. linear method: a protein must connect at least 0.5 * num components componetns to qualify for addition to a cluster\n"
   ]
  },
  {
   "cell_type": "code",
   "execution_count": 1,
   "metadata": {},
   "outputs": [],
   "source": [
    "# imports:\n",
    "\n",
    "# standard libraries\n",
    "import numpy as np\n",
    "import pandas as pd\n",
    "import matplotlib.pyplot as plt\n",
    "# library used for functional enrichment analysis\n",
    "from func_e.FUNC_E import FUNC_E  # a method that can do funtional enrichment analysis!\n",
    "import func_e.vocabs.all as vocabs\n",
    "# following code is necessary as some functions used in the funcE class produce future warnings but i can't fix it as it is not my code\n",
    "import warnings\n",
    "warnings.simplefilter(action='ignore', category=FutureWarning)\n",
    "\n",
    "# importing the custom classes i built\n",
    "from matrix_class import ProteinMatrix # ppi matrix \n",
    "from cluster_class import AllClusters # dictionary to hold all clusters (in form number of cluster : list of proteins in that cluster)\n",
    "from degreelist_class import DegreeList # creates a list of all proteins in order of their degree\n",
    "\n",
    "# helper functions for setting up program\n",
    "from recipe_utils import initialize_matrix_clusters_degreelist\n",
    "from recipe_utils import find_clusters_and_proteins_together\n",
    "\n",
    "# helper functions for functional enrichment\n",
    "from recipe_utils import print_querylist_of_clusters_to_file\n",
    "from recipe_utils import print_protein_background_to_file\n",
    "from recipe_utils import create_term_mapping_list\n",
    "from recipe_utils import get_initialized_fe"
   ]
  },
  {
   "attachments": {},
   "cell_type": "markdown",
   "metadata": {},
   "source": [
    " **must change filenames:**"
   ]
  },
  {
   "cell_type": "code",
   "execution_count": 2,
   "metadata": {},
   "outputs": [],
   "source": [
    "interactions_file = \"data/interactions/3_signal_omnipath_directed_v3.txt\"\n",
    "clusters_file = \"data/d3_ic10_medium/dream3_medium-cluster.json\""
   ]
  },
  {
   "cell_type": "code",
   "execution_count": 3,
   "metadata": {},
   "outputs": [],
   "source": [
    "matrix, clusters, degreelist = initialize_matrix_clusters_degreelist(interactions_filepath=interactions_file, clusters_filepath=clusters_file)"
   ]
  },
  {
   "attachments": {},
   "cell_type": "markdown",
   "metadata": {},
   "source": [
    "*may want to change parameters below:*"
   ]
  },
  {
   "cell_type": "code",
   "execution_count": 4,
   "metadata": {},
   "outputs": [],
   "source": [
    "linear_qualifying_clusters, linear_qualifying_proteins = find_clusters_and_proteins_together(matrix, clusters, degreelist, cluster_ratio=0, cluster_constant=2,use_sqrt=False, protein_ratio=.5, protein_constant=0)"
   ]
  },
  {
   "cell_type": "code",
   "execution_count": 5,
   "metadata": {},
   "outputs": [],
   "source": [
    "sqrt_qualifying_clusters, sqrt_qualifying_proteins = find_clusters_and_proteins_together(matrix, clusters, degreelist, cluster_ratio=0, cluster_constant=2,use_sqrt=True, protein_ratio=1, protein_constant=0)"
   ]
  },
  {
   "cell_type": "code",
   "execution_count": 6,
   "metadata": {},
   "outputs": [
    {
     "data": {
      "text/plain": [
       "{0: ['PRKACA'],\n",
       " 1: ['SRC'],\n",
       " 2: ['PPP3CC',\n",
       "  'PPP3CB',\n",
       "  'PPP3CA',\n",
       "  'CALM2',\n",
       "  'PRKAA1',\n",
       "  'CDK5',\n",
       "  'PPP2CB',\n",
       "  'PPP2CA',\n",
       "  'GSK3B',\n",
       "  'CDK1',\n",
       "  'PRKACA'],\n",
       " 3: ['MAP3K14',\n",
       "  'RELA',\n",
       "  'STAT3',\n",
       "  'EP300',\n",
       "  'MAPK8',\n",
       "  'AR',\n",
       "  'MAPK14',\n",
       "  'GSK3B',\n",
       "  'TP53',\n",
       "  'MAPK3',\n",
       "  'AKT1',\n",
       "  'CSNK2A1',\n",
       "  'MAPK1'],\n",
       " 4: ['PPP3CA', 'PPP2CB', 'PPP2CA', 'MAPK14', 'MAPK3', 'MAPK1'],\n",
       " 5: ['MDM2',\n",
       "  'EP300',\n",
       "  'ABL1',\n",
       "  'ATM',\n",
       "  'MAPK14',\n",
       "  'TP53',\n",
       "  'MAPK3',\n",
       "  'AKT1',\n",
       "  'CSNK2A1',\n",
       "  'CDK1'],\n",
       " 6: ['CDK5', 'PAK1', 'MAPK3', 'MAPK1', 'PRKACA', 'PRKCA', 'SRC'],\n",
       " 7: ['NFKB1',\n",
       "  'SMAD4',\n",
       "  'PPP2CB',\n",
       "  'SMAD3',\n",
       "  'PPP2CA',\n",
       "  'MAPK8',\n",
       "  'MAPK14',\n",
       "  'MAPK3',\n",
       "  'MAPK1'],\n",
       " 8: ['SMAD4', 'SMAD2', 'SMAD3'],\n",
       " 9: ['EGFR', 'CDK1'],\n",
       " 10: ['AKT1'],\n",
       " 11: ['TP53'],\n",
       " 12: ['MAPT', 'JUN', 'MAPK14'],\n",
       " 13: ['MYC', 'TP53', 'MAPK3', 'MAPK1', 'CDK1'],\n",
       " 14: ['MAPK14'],\n",
       " 15: ['MTOR', 'GSK3B', 'AKT1'],\n",
       " 16: ['MAPK14', 'MAPK3', 'MAPK1'],\n",
       " 17: ['IKBKG', 'TRAF2', 'MAP3K7', 'TRAF6'],\n",
       " 18: ['CREBBP',\n",
       "  'SMAD4',\n",
       "  'SMAD2',\n",
       "  'RELA',\n",
       "  'SMAD3',\n",
       "  'EP300',\n",
       "  'MAPK8',\n",
       "  'GSK3B',\n",
       "  'MAPK3',\n",
       "  'MAPK1'],\n",
       " 19: ['PRKCA'],\n",
       " 20: ['CAMK2A', 'AKT1', 'CSNK2A1', 'PRKACA', 'PRKCA', 'SRC'],\n",
       " 21: ['LYN', 'GRB2', 'FYN', 'EGFR', 'SRC'],\n",
       " 22: ['CSNK2A1'],\n",
       " 23: ['AR'],\n",
       " 24: ['CDK1'],\n",
       " 25: ['TP53'],\n",
       " 26: ['E2F1', 'ATR', 'ATM', 'CDK2', 'CSNK2A1', 'CDK1'],\n",
       " 27: ['FYN', 'PRKACA', 'PRKCA', 'SRC'],\n",
       " 29: ['ATR'],\n",
       " 30: ['MAPK1', 'PRKACA'],\n",
       " 39: ['PRKCA'],\n",
       " 41: ['CALM2', 'PRKCD', 'PRKACA', 'PRKCA', 'SRC'],\n",
       " 42: ['AKT1'],\n",
       " 44: ['CSNK2A1'],\n",
       " 45: ['CSNK2A1', 'PRKACA'],\n",
       " 46: ['CDK2', 'CDK1'],\n",
       " 47: ['TP53', 'CDK1'],\n",
       " 50: ['RCAN1',\n",
       "  'TRIP6',\n",
       "  'GNRHR',\n",
       "  'PIAS1',\n",
       "  'CDK9',\n",
       "  'CDK7',\n",
       "  'TLR2',\n",
       "  'TLR4',\n",
       "  'CDKN1B',\n",
       "  'IRAK1',\n",
       "  'CAMK2A',\n",
       "  'TRAF6',\n",
       "  'AR',\n",
       "  'MAPK14',\n",
       "  'TP53',\n",
       "  'MAPK1',\n",
       "  'SRC'],\n",
       " 51: ['PLK1',\n",
       "  'AR',\n",
       "  'MAPK14',\n",
       "  'GSK3B',\n",
       "  'TP53',\n",
       "  'MAPK3',\n",
       "  'CSNK2A1',\n",
       "  'MAPK1',\n",
       "  'CDK1',\n",
       "  'PRKACA',\n",
       "  'PRKCA',\n",
       "  'SRC'],\n",
       " 52: ['AR', 'SRC'],\n",
       " 53: ['ABL1', 'GSK3B', 'MAPK3', 'AKT1', 'SRC'],\n",
       " 58: ['PRKCA', 'SRC']}"
      ]
     },
     "execution_count": 6,
     "metadata": {},
     "output_type": "execute_result"
    }
   ],
   "source": [
    "sqrt_qualifying_proteins"
   ]
  },
  {
   "cell_type": "code",
   "execution_count": 7,
   "metadata": {},
   "outputs": [
    {
     "data": {
      "text/plain": [
       "{0: ['PRKACA'],\n",
       " 1: ['SRC'],\n",
       " 2: ['PRKACA'],\n",
       " 3: ['AR', 'MAPK14', 'GSK3B', 'MAPK3', 'AKT1', 'CSNK2A1', 'MAPK1'],\n",
       " 4: ['MAPK3', 'MAPK1'],\n",
       " 6: ['SRC'],\n",
       " 7: ['MAPK1'],\n",
       " 10: ['AKT1'],\n",
       " 13: ['TP53'],\n",
       " 16: ['MAPK3', 'MAPK1'],\n",
       " 18: ['EP300'],\n",
       " 19: ['PRKCA'],\n",
       " 20: ['PRKCA'],\n",
       " 21: ['LYN', 'GRB2', 'FYN', 'EGFR', 'SRC'],\n",
       " 22: ['CSNK2A1'],\n",
       " 23: ['AR'],\n",
       " 24: ['CDK1'],\n",
       " 25: ['TP53'],\n",
       " 26: ['CDK1'],\n",
       " 27: ['SRC'],\n",
       " 29: ['ATR'],\n",
       " 30: ['PRKACA'],\n",
       " 39: ['PRKCA'],\n",
       " 41: ['PRKACA', 'PRKCA'],\n",
       " 44: ['CSNK2A1'],\n",
       " 45: ['PRKACA'],\n",
       " 46: ['CDK1'],\n",
       " 47: ['TP53', 'CDK1'],\n",
       " 50: ['RCAN1',\n",
       "  'TRIP6',\n",
       "  'GNRHR',\n",
       "  'PIAS1',\n",
       "  'CDK9',\n",
       "  'CDK7',\n",
       "  'TLR2',\n",
       "  'TLR4',\n",
       "  'CDKN1B',\n",
       "  'IRAK1',\n",
       "  'CAMK2A',\n",
       "  'TRAF6',\n",
       "  'AR',\n",
       "  'MAPK14',\n",
       "  'TP53',\n",
       "  'MAPK1',\n",
       "  'SRC'],\n",
       " 53: ['SRC']}"
      ]
     },
     "execution_count": 7,
     "metadata": {},
     "output_type": "execute_result"
    }
   ],
   "source": [
    "linear_qualifying_proteins"
   ]
  }
 ],
 "metadata": {
  "kernelspec": {
   "display_name": "recipe",
   "language": "python",
   "name": "python3"
  },
  "language_info": {
   "codemirror_mode": {
    "name": "ipython",
    "version": 3
   },
   "file_extension": ".py",
   "mimetype": "text/x-python",
   "name": "python",
   "nbconvert_exporter": "python",
   "pygments_lexer": "ipython3",
   "version": "3.10.6"
  },
  "orig_nbformat": 4,
  "vscode": {
   "interpreter": {
    "hash": "62f9e904ff1d4fa6e27f2984f15409dfffcff7468a54928ca0992224464fe58b"
   }
  }
 },
 "nbformat": 4,
 "nbformat_minor": 2
}
