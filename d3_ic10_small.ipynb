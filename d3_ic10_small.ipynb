{
 "cells": [
  {
   "attachments": {},
   "cell_type": "markdown",
   "metadata": {},
   "source": [
    "d3_ic10_small"
   ]
  },
  {
   "attachments": {},
   "cell_type": "markdown",
   "metadata": {},
   "source": []
  },
  {
   "cell_type": "code",
   "execution_count": 2,
   "metadata": {},
   "outputs": [],
   "source": [
    "# imports:\n",
    "\n",
    "# standard libraries\n",
    "import numpy as np\n",
    "import pandas as pd\n",
    "import matplotlib.pyplot as plt\n",
    "# library used for functional enrichment analysis\n",
    "from func_e.FUNC_E import FUNC_E  # a method that can do funtional enrichment analysis!\n",
    "import func_e.vocabs.all as vocabs\n",
    "# following code is necessary as some functions used in the funcE class produce future warnings but i can't fix it as it is not my code\n",
    "import warnings\n",
    "warnings.simplefilter(action='ignore', category=FutureWarning)\n",
    "\n",
    "# importing the custom classes i built\n",
    "from matrix_class import ProteinMatrix # ppi matrix \n",
    "from cluster_class import AllClusters # dictionary to hold all clusters (in form number of cluster : list of proteins in that cluster)\n",
    "from degreelist_class import DegreeList # creates a list of all proteins in order of their degree\n",
    "\n",
    "# helper functions for setting up program\n",
    "from recipe_utils import initialize_matrix_clusters_degreelist\n",
    "from recipe_utils import find_clusters_and_proteins_together\n",
    "\n",
    "# helper functions for functional enrichment\n",
    "from recipe_utils import print_querylist_of_clusters_to_file\n",
    "from recipe_utils import print_protein_background_to_file\n",
    "from recipe_utils import create_term_mapping_list\n",
    "from recipe_utils import get_initialized_fe"
   ]
  },
  {
   "attachments": {},
   "cell_type": "markdown",
   "metadata": {},
   "source": [
    " **must change filenames:**"
   ]
  },
  {
   "cell_type": "code",
   "execution_count": 3,
   "metadata": {},
   "outputs": [],
   "source": [
    "interactions_file = \"data/interactions/3_signal_omnipath_directed_v3.txt\"\n",
    "clusters_file = \"data/d3_ic10_small/d3_ic10_small.json\""
   ]
  },
  {
   "cell_type": "code",
   "execution_count": 4,
   "metadata": {},
   "outputs": [],
   "source": [
    "matrix, clusters, degreelist = initialize_matrix_clusters_degreelist(interactions_filepath=interactions_file, clusters_filepath=clusters_file)"
   ]
  },
  {
   "attachments": {},
   "cell_type": "markdown",
   "metadata": {},
   "source": [
    "*may want to change parameters below:*"
   ]
  },
  {
   "cell_type": "code",
   "execution_count": 5,
   "metadata": {},
   "outputs": [],
   "source": [
    "sqrt_qualifying_clusters, sqrt_qualifying_proteins = find_clusters_and_proteins_together(matrix, clusters, degreelist, cluster_ratio=0, cluster_constant=2, use_sqrt=True, protein_ratio=1, protein_constant=0)"
   ]
  },
  {
   "cell_type": "code",
   "execution_count": 6,
   "metadata": {},
   "outputs": [
    {
     "data": {
      "text/plain": [
       "{31: ['CDK1', 'PRKACA'],\n",
       " 39: ['SRC'],\n",
       " 42: ['MAPK1'],\n",
       " 53: ['PRKCA'],\n",
       " 95: ['SRC'],\n",
       " 96: ['PRKCA', 'SRC'],\n",
       " 115: ['CDK1'],\n",
       " 119: ['PRKACA'],\n",
       " 145: ['SRC'],\n",
       " 156: ['SRC']}"
      ]
     },
     "execution_count": 6,
     "metadata": {},
     "output_type": "execute_result"
    }
   ],
   "source": [
    "sqrt_qualifying_proteins"
   ]
  },
  {
   "cell_type": "code",
   "execution_count": 7,
   "metadata": {},
   "outputs": [],
   "source": [
    "# from recipe_utils import top_n_proteins\n",
    "\n",
    "# three_qualifying_proteins = top_n_proteins(sqrt_qualifying_proteins, n=3) \n",
    "# three_qualifying_proteins"
   ]
  },
  {
   "cell_type": "code",
   "execution_count": 8,
   "metadata": {},
   "outputs": [],
   "source": [
    "# from recipe_utils import get_cluster_connectivity\n",
    "\n",
    "# original_cluster_connectivity = get_cluster_connectivity(matrix, degreelist, clusters, {}, sort_it=False)\n",
    "# new_cluster_connectivity = get_cluster_connectivity(matrix, degreelist, clusters, added_proteins=sqrt_qualifying_proteins, sort_it=False)\n",
    "\n",
    "# from recipe_utils import calculate_connectivity_difference\n",
    "\n",
    "# difference = calculate_connectivity_difference(original_cluster_connectivity, new_cluster_connectivity, sort_it=True)\n",
    "# difference"
   ]
  },
  {
   "cell_type": "code",
   "execution_count": null,
   "metadata": {},
   "outputs": [],
   "source": [
    "half_linear_qualifying_clusters, half_linear_qualifying_proteins = find_clusters_and_proteins_together(matrix, clusters, degreelist, cluster_ratio=0, cluster_constant=2,use_sqrt=False, protein_ratio=.5, protein_constant=0)\n",
    "half_linear_qualifying_clusters"
   ]
  },
  {
   "attachments": {},
   "cell_type": "markdown",
   "metadata": {},
   "source": [
    "### Functional Enrichment Analysis"
   ]
  },
  {
   "cell_type": "code",
   "execution_count": 9,
   "metadata": {},
   "outputs": [],
   "source": [
    "create_term_mapping_list(\"data/go_labels/dream3_go.tsv\", \"data/go_labels/d3_term_mapping.tsv\")"
   ]
  },
  {
   "attachments": {},
   "cell_type": "markdown",
   "metadata": {},
   "source": [
    "**will need to the directory below**"
   ]
  },
  {
   "cell_type": "code",
   "execution_count": 10,
   "metadata": {},
   "outputs": [],
   "source": [
    "directory = \"data/d3_ic10_small/\"\n",
    "term_mapping_filepath = \"data/go_labels/d3_term_mapping.tsv\""
   ]
  },
  {
   "cell_type": "code",
   "execution_count": 11,
   "metadata": {},
   "outputs": [],
   "source": [
    "background_proteins_filepath = directory + \"background_proteinlist.txt\"\n",
    "og_query_filepath = directory + \"original_clusters.txt\"\n",
    "sqrt_query_filepath = directory + \"sqrt_clusters.txt\"\n",
    "# three_query_filepath = directory + \"three_prot_clusters.txt\""
   ]
  },
  {
   "attachments": {},
   "cell_type": "markdown",
   "metadata": {},
   "source": [
    "*print to files*"
   ]
  },
  {
   "cell_type": "code",
   "execution_count": 12,
   "metadata": {},
   "outputs": [],
   "source": [
    "# use functions to print info to files: (annoying, but need to get info into format used for funcE package)\n",
    "# 1) a background protein list to be used for functional enrichment analysis\n",
    "print_protein_background_to_file(matrix, background_proteins_filepath) \n",
    "# 3) not a file, but need to establish a background of all GO terms! (to be used for functional enrichment analysis)\n",
    "background_go_terms = vocabs.getTerms(['GO'])\n",
    "\n",
    "# continue printing info to files to be used in functional enrichment analysis:\n",
    "# 4) print original clusters to a file\n",
    "print_querylist_of_clusters_to_file(clusters, clusters.get_all_cluster_labels(), og_query_filepath)\n",
    "# 5) print updated clusters to a file (just append the function to include the dictionary of qualifying proteins)\n",
    "print_querylist_of_clusters_to_file(clusters, clusters.get_all_cluster_labels(), sqrt_query_filepath, sqrt_qualifying_proteins)\n",
    "# print_querylist_of_clusters_to_file(clusters, clusters.get_all_cluster_labels(), three_query_filepath, three_qualifying_proteins)"
   ]
  },
  {
   "attachments": {},
   "cell_type": "markdown",
   "metadata": {},
   "source": [
    "*RUN Functional Enrichment:*"
   ]
  },
  {
   "cell_type": "code",
   "execution_count": 13,
   "metadata": {},
   "outputs": [],
   "source": [
    "original_fe = get_initialized_fe(background_proteins_filepath, term_mapping_filepath, termlist = background_go_terms)\n",
    "original_fe.importFiles({'query': og_query_filepath })\n",
    "original_fe.run(cluster=False)\n",
    "\n",
    "sqrt_fe = get_initialized_fe(background_proteins_filepath, term_mapping_filepath, termlist = background_go_terms)\n",
    "sqrt_fe.importFiles({'query': sqrt_query_filepath })\n",
    "sqrt_fe.run(cluster=False)\n",
    "\n",
    "# three_fe = get_initialized_fe(background_proteins_filepath, term_mapping_filepath, termlist = background_go_terms)\n",
    "# three_fe.importFiles({'query': three_query_filepath })\n",
    "# three_fe.run(cluster=False)"
   ]
  },
  {
   "attachments": {},
   "cell_type": "markdown",
   "metadata": {},
   "source": []
  },
  {
   "cell_type": "code",
   "execution_count": 14,
   "metadata": {},
   "outputs": [
    {
     "name": "stdout",
     "output_type": "stream",
     "text": [
      "::::::::::::::::::::::::::SQRT::::::::::::::::::::::::::\n",
      "\n",
      "number of clusters that were updated with proteins: 10\n",
      "\n",
      "number of functionally enriched clusters (modules) out of 161 original clusters: 155\n",
      "number of functionally enriched clusters after addition of all proteins: 155\n",
      "\n",
      "number of significant pvals in original clusters before updating: 520\n",
      "number of significant pvals in clusters with all proteins added: 528\n",
      "\n",
      "\n"
     ]
    }
   ],
   "source": [
    "print(f\"::::::::::::::::::::::::::SQRT::::::::::::::::::::::::::\\n\")\n",
    "# print data by the numbers!\n",
    "print(f\"number of clusters that were updated with proteins: {len(sqrt_qualifying_proteins.keys())}\\n\")\n",
    "\n",
    "# clusters that are functionally enriched\n",
    "print(f\"number of functionally enriched clusters (modules) out of {clusters.get_num_clusters()} original clusters: {original_fe.enrichment['Module'].nunique()}\")\n",
    "print(f\"number of functionally enriched clusters after addition of all proteins: {sqrt_fe.enrichment['Module'].nunique()}\")\n",
    "print(f\"\")\n",
    "\n",
    "\n",
    "#significant P-values!!!\n",
    "print(f\"number of significant pvals in original clusters before updating: {original_fe.enrichment['Fishers_pvalue'].count()}\")\n",
    "print(f\"number of significant pvals in clusters with all proteins added: {sqrt_fe.enrichment['Fishers_pvalue'].count()}\")\n",
    "\n",
    "\n",
    "print(f\"\")\n",
    "print(f\"\")"
   ]
  },
  {
   "cell_type": "code",
   "execution_count": 15,
   "metadata": {},
   "outputs": [
    {
     "name": "stdout",
     "output_type": "stream",
     "text": [
      "number of functionally enriched clusters after addition of 3 proteins: 155\n"
     ]
    }
   ],
   "source": [
    "from recipe_utils import top_n_proteins\n",
    "three_sqrt_qualifying_proteins = top_n_proteins(sqrt_qualifying_proteins, n=3)\n",
    "three_sqrt_query_filepath = directory + \"three_prot_clusters.txt\"\n",
    "print_querylist_of_clusters_to_file(clusters, clusters.get_all_cluster_labels(), three_sqrt_query_filepath, three_sqrt_qualifying_proteins)\n",
    "sqrt_three_fe = get_initialized_fe(background_proteins_filepath, term_mapping_filepath, termlist = background_go_terms)\n",
    "sqrt_three_fe.importFiles({'query': three_sqrt_query_filepath })\n",
    "sqrt_three_fe.run(cluster=False)\n",
    "print(f\"number of functionally enriched clusters after addition of 3 proteins: {sqrt_three_fe.enrichment['Module'].nunique()}\")\n"
   ]
  },
  {
   "cell_type": "code",
   "execution_count": 16,
   "metadata": {},
   "outputs": [],
   "source": [
    "half_qualifying_clusters, half_qualifying_proteins = find_clusters_and_proteins_together(matrix, clusters, degreelist, cluster_ratio=0, cluster_constant=2, use_sqrt=False, protein_ratio=.50, protein_constant=0)\n",
    "quarter_qualifying_clusters, quarter_qualifying_proteins = find_clusters_and_proteins_together(matrix, clusters, degreelist, cluster_ratio=0, cluster_constant=2, use_sqrt=False, protein_ratio=.25, protein_constant=0)\n",
    "tenth_qualifying_clusters, tenth_qualifying_proteins = find_clusters_and_proteins_together(matrix, clusters, degreelist, cluster_ratio=0, cluster_constant=2, use_sqrt=False, protein_ratio=.10, protein_constant=0)\n",
    "\n"
   ]
  },
  {
   "cell_type": "code",
   "execution_count": 17,
   "metadata": {},
   "outputs": [
    {
     "name": "stdout",
     "output_type": "stream",
     "text": [
      "number of functionally enriched clusters after addition of 1/2 proteins: 155\n",
      "number of functionally enriched clusters after addition of 1/4 proteins: 156\n",
      "number of functionally enriched clusters after addition of 1/10 proteins: 155\n"
     ]
    }
   ],
   "source": [
    "half_query_filepath = directory + \"half_clusters.txt\"\n",
    "print_querylist_of_clusters_to_file(clusters, clusters.get_all_cluster_labels(), half_query_filepath, half_qualifying_proteins)\n",
    "half_fe = get_initialized_fe(background_proteins_filepath, term_mapping_filepath, termlist = background_go_terms)\n",
    "half_fe.importFiles({'query': half_query_filepath })\n",
    "half_fe.run(cluster=False)\n",
    "\n",
    "print(f\"number of functionally enriched clusters after addition of 1/2 proteins: {half_fe.enrichment['Module'].nunique()}\")\n",
    "\n",
    "\n",
    "quarter_query_filepath = directory + \"quarter_clusters.txt\"\n",
    "print_querylist_of_clusters_to_file(clusters, clusters.get_all_cluster_labels(), quarter_query_filepath, quarter_qualifying_proteins)\n",
    "quarter_fe = get_initialized_fe(background_proteins_filepath, term_mapping_filepath, termlist = background_go_terms)\n",
    "quarter_fe.importFiles({'query': quarter_query_filepath })\n",
    "quarter_fe.run(cluster=False)\n",
    "\n",
    "print(f\"number of functionally enriched clusters after addition of 1/4 proteins: {quarter_fe.enrichment['Module'].nunique()}\")\n",
    "\n",
    "\n",
    "tenth_query_filepath = directory + \"tenth_clusters.txt\"\n",
    "print_querylist_of_clusters_to_file(clusters, clusters.get_all_cluster_labels(), tenth_query_filepath, tenth_qualifying_proteins)\n",
    "tenth_fe = get_initialized_fe(background_proteins_filepath, term_mapping_filepath, termlist = background_go_terms)\n",
    "tenth_fe.importFiles({'query': tenth_query_filepath })\n",
    "tenth_fe.run(cluster=False)\n",
    "\n",
    "print(f\"number of functionally enriched clusters after addition of 1/10 proteins: {tenth_fe.enrichment['Module'].nunique()}\")\n",
    "\n",
    "\n",
    "print(half_qualifying_proteins)\n",
    "print(quarter_qualifying_proteins)  \n",
    "print(tenth_qualifying_proteins)\n"
   ]
  },
  {
   "cell_type": "code",
   "execution_count": 18,
   "metadata": {},
   "outputs": [
    {
     "name": "stdout",
     "output_type": "stream",
     "text": [
      "{}\n",
      "{31: ['CDK1'], 82: ['MAP2K1', 'SRC'], 145: ['SRC']}\n",
      "{1: ['MAPK3', 'MAPK1', 'PRKCA'], 2: ['MAPK3', 'MAPK1', 'PRKACA', 'PRKCA'], 3: ['ISG15', 'RIPK2', 'NFKBIA', 'CSNK2A1', 'PRKCA'], 6: ['RELA', 'PLK1', 'TP53', 'CSNK2A1', 'MAPK1', 'CDK1', 'SRC'], 7: ['CSNK1A1', 'NFKB1', 'RELA', 'PLK1', 'IKBKB', 'AKT1'], 9: ['PRKACA'], 10: ['PTK2', 'PRKCD'], 11: ['STAT1', 'CSNK2A1', 'MAPK1', 'PRKCA', 'SRC'], 12: ['MAPK1', 'PRKACA'], 13: ['CSNK2A1', 'PRKCA'], 14: ['AKT1', 'PRKCA'], 15: ['PRKCA'], 16: ['CDK2', 'EGFR', 'TP53', 'CDK1'], 17: ['MAPK1'], 18: ['CAMK1', 'CAMK4', 'DAPK1', 'BAD', 'GSK3A', 'CREB1', 'ATM', 'GSK3B', 'MAPK3', 'AKT1', 'CSNK2A1', 'MAPK1'], 19: ['EGFR', 'CSNK2A1'], 21: ['SRC'], 22: ['PRKCB', 'TP53', 'CDK1'], 23: ['IL2RB', 'ITCH', 'TRADD', 'BECN1', 'TNFRSF1A', 'TRAF2', 'IKBKB', 'SRC'], 24: ['PRKCD', 'PRKACA', 'SRC'], 25: ['TP53'], 26: ['EGFR'], 28: ['JAK1', 'AKT1'], 30: ['EGFR', 'MAPK3', 'CDK1'], 31: ['FYN', 'MAPK14', 'MAPK3', 'CDK1', 'PRKACA', 'SRC'], 32: ['SRC'], 33: ['LYN', 'MAPK14', 'PRKACA'], 34: ['IKBKG', 'CHUK', 'PLK1', 'TP53', 'CDK1', 'PRKACA', 'PRKCA'], 35: ['MAPK14', 'CDK1'], 36: ['PRKACA'], 37: ['PRKCA'], 38: ['CDK1'], 39: ['MAPK14', 'PRKCA', 'SRC'], 40: ['MAPK14', 'TP53'], 42: ['MAPK14', 'GSK3B', 'MAPK1'], 43: ['LRP5', 'FZD3', 'LRP6', 'MAPK9', 'NOTCH1', 'CTNNB1', 'MAPK8', 'CDK2', 'MAPK3', 'PRKCA'], 45: ['ATM', 'GSK3B'], 46: ['MAPK8', 'MAPK3', 'SRC'], 47: ['SRC'], 49: ['CTNNB1', 'CSNK2A1', 'SRC'], 50: ['KLF6', 'CHEK2', 'E2F1', 'CTNNB1', 'AR', 'MAPK3', 'CSNK2A1', 'MAPK1', 'PRKACA', 'PRKCA'], 51: ['AKT1', 'PRKCA'], 52: ['MAPK9', 'MAPK3', 'MAPK1'], 53: ['AKT1', 'PRKCA'], 54: ['CTNNB1', 'MAPK1'], 55: ['STAT1', 'STAT3', 'SRC'], 56: ['AR', 'CDK2', 'PRKCA'], 58: ['CDK2', 'GSK3B', 'SRC'], 59: ['CDC42', 'MAPKAPK2'], 60: ['ESR1', 'ABL1', 'ATM', 'AKT1', 'CSNK2A1', 'CDK1'], 61: ['CSNK2A1', 'CDK1'], 64: ['MAPK14'], 65: ['EGFR', 'MAPK3', 'AKT1', 'MAPK1', 'PRKACA', 'PRKCA'], 69: ['AURKA', 'GSK3B', 'CDK1', 'PRKACA'], 70: ['CSNK2A1', 'PRKCA'], 72: ['DYRK1B', 'TICAM1', 'CHUK', 'TRAF6', 'TP53', 'CSNK2A1'], 73: ['LCK', 'PAK1', 'FYN'], 74: ['MAPK14'], 75: ['MAPK1'], 77: ['RHEB', 'RB1', 'GSK3B', 'MAPK3', 'MAPK1', 'PRKCA'], 79: ['SRC'], 80: ['PRKACA'], 82: ['MAP2K1', 'MAPKAPK2', 'PIK3R1', 'PAK1', 'CTNNB1', 'ATM', 'MAPK3', 'MAPK1', 'PRKACA', 'SRC'], 83: ['UBE2I', 'CDK1', 'PRKCA', 'SRC'], 84: ['ATM', 'GSK3B'], 85: ['GRB2', 'PIK3R1', 'EGFR'], 86: ['TP53', 'AKT1', 'CDK1', 'PRKACA'], 87: ['CDK2', 'TP53', 'MAPK1', 'PRKCA', 'SRC'], 88: ['TP53'], 89: ['MAPK14', 'AKT1', 'PRKACA', 'SRC'], 90: ['PLK1'], 91: ['ADRBK1', 'PRKACA'], 92: ['CDK1'], 94: ['PRMT1', 'PIK3CA', 'CDK2', 'CDK1', 'PRKCA', 'SRC'], 95: ['AR', 'CSNK2A1', 'PRKCA', 'SRC'], 96: ['MAPK3', 'MAPK1', 'CDK1', 'PRKCA', 'SRC'], 97: ['CSNK2A1', 'PRKACA'], 98: ['AKT3', 'PARP1', 'ELAVL1', 'CASP1', 'CSNK1A1', 'AKT2', 'EGFR', 'MAPK14', 'MAPK3', 'AKT1', 'CSNK2A1', 'PRKCA', 'SRC'], 99: ['PRKACA'], 100: ['AKT2', 'NOTCH1', 'FYN', 'AR', 'MAPK1'], 105: ['FNTB', 'FNTA', 'SHOC2', 'SOS1', 'VAV1', 'PIK3CG', 'RAF1', 'SHC1', 'CHUK', 'TRAF6', 'MAPK8', 'ABL1', 'EGFR', 'GSK3B', 'CDK1'], 107: ['MAPK3', 'MAPK1'], 108: ['CDK1'], 109: ['NTRK1', 'STAT6', 'PTPN1', 'HIST1H3B', 'GRB2', 'PIK3R1', 'MAPK3', 'CDK1'], 110: ['CDK1', 'PRKACA', 'SRC'], 111: ['PRKACA', 'PRKCA'], 112: ['CDK1'], 113: ['CSNK2A1', 'SRC'], 114: ['PLK1', 'PRKACA'], 115: ['ATM', 'CDK1'], 116: ['CASP8', 'PRKCD', 'MAPK3', 'PRKCA'], 117: ['RPS6KA3', 'MAPK3', 'MAPK1', 'SRC'], 118: ['CDK1', 'PRKACA', 'PRKCA', 'SRC'], 119: ['PRKACA'], 120: ['BCL2L1', 'GSK3B'], 121: ['PPP1CA', 'MAP3K7', 'SRC'], 122: ['MYD88', 'CHUK', 'PRKACA', 'PRKCA'], 124: ['MAPK3', 'SRC'], 125: ['PML', 'PRKCQ', 'TSC1', 'CHEK1', 'SMAD2', 'SMAD3', 'PPP2CA', 'CASP3', 'TP53', 'AKT1', 'CDK1', 'PRKCA', 'SRC'], 126: ['CDK2', 'SRC'], 127: ['RAC1', 'CSNK2A1'], 128: ['MAPK8', 'AKT1', 'SRC'], 131: ['CSNK2A1'], 132: ['GSK3B', 'CSNK2A1', 'CDK1'], 134: ['CDK2', 'TP53', 'PRKACA', 'PRKCA'], 136: ['PLK1', 'ABL1', 'TP53', 'AKT1', 'CDK1', 'PRKCA'], 137: ['PRMT5', 'PLK1', 'EP300', 'SRC'], 140: ['ABL1', 'MAPK14', 'CDK1'], 142: ['PPP2CA'], 144: ['TRAF6'], 145: ['RHOA', 'PTK2', 'RELA', 'ABL1', 'AKT1', 'CSNK2A1', 'SRC'], 146: ['MAPK14'], 147: ['PRKCA'], 148: ['PRKACA'], 149: ['GSK3B'], 150: ['PTPN6', 'PLK1', 'PRKACA', 'SRC'], 151: ['ABL1', 'CSNK2A1', 'MAPK1'], 153: ['TP53', 'SRC'], 154: ['MAPK8', 'SRC'], 155: ['RHOA', 'CASP1', 'PRKACA', 'PRKCA', 'SRC'], 156: ['AKT1', 'PRKACA', 'PRKCA', 'SRC'], 157: ['PRKCZ', 'CDK2', 'AKT1', 'CDK1', 'PRKCA', 'SRC'], 158: ['PRKACA'], 159: ['MAPK1'], 160: ['TP53', 'MAPK1', 'CDK1', 'SRC']}\n"
     ]
    }
   ],
   "source": [
    "print(half_qualifying_proteins)\n",
    "print(quarter_qualifying_proteins)  \n",
    "print(tenth_qualifying_proteins)\n"
   ]
  },
  {
   "cell_type": "code",
   "execution_count": 21,
   "metadata": {},
   "outputs": [
    {
     "name": "stdout",
     "output_type": "stream",
     "text": [
      "number of functionally enriched clusters after addition of 3 1/10 proteins: 156\n"
     ]
    }
   ],
   "source": [
    "three_tenth_qualifying_proteins = top_n_proteins(tenth_qualifying_proteins, n=3)\n",
    "three_tenth_query_filepath = directory + \"three_tenth_clusters.txt\"\n",
    "print_querylist_of_clusters_to_file(clusters, clusters.get_all_cluster_labels(), three_tenth_query_filepath, three_tenth_qualifying_proteins)\n",
    "half_tenth_fe = get_initialized_fe(background_proteins_filepath, term_mapping_filepath, termlist = background_go_terms) \n",
    "half_tenth_fe.importFiles({'query': three_tenth_query_filepath })\n",
    "half_tenth_fe.run(cluster=False)\n",
    "print(f\"number of functionally enriched clusters after addition of 3 1/10 proteins: {half_tenth_fe.enrichment['Module'].nunique()}\")\n",
    "\n",
    "\n",
    "# three_half_qualifying_proteins = top_n_proteins(half_qualifying_proteins, n=3)\n",
    "# three_half_query_filepath = directory + \"three_half_clusters.txt\"\n",
    "# print_querylist_of_clusters_to_file(clusters, clusters.get_all_cluster_labels(), three_half_query_filepath, three_half_qualifying_proteins)\n",
    "# half_three_fe = get_initialized_fe(background_proteins_filepath, term_mapping_filepath, termlist = background_go_terms) \n",
    "# half_three_fe.importFiles({'query': three_half_query_filepath })\n",
    "# half_three_fe.run(cluster=False)\n",
    "# print(f\"number of functionally enriched clusters after addition of 3 1/2 proteins: {half_three_fe.enrichment['Module'].nunique()}\")\n",
    "\n"
   ]
  },
  {
   "cell_type": "code",
   "execution_count": 24,
   "metadata": {},
   "outputs": [
    {
     "data": {
      "text/plain": [
       "{0: 0.0,\n",
       " 1: 0.0,\n",
       " 2: 0.029411764705882353,\n",
       " 3: 0.05,\n",
       " 4: 0.0,\n",
       " 5: 0.023809523809523808,\n",
       " 6: 0.10256410256410256,\n",
       " 7: 0.08,\n",
       " 8: 0.0,\n",
       " 9: 0.0,\n",
       " 10: 0.0,\n",
       " 11: 0.020833333333333332,\n",
       " 12: 0.05128205128205128,\n",
       " 13: 0.06521739130434782,\n",
       " 14: 0.024390243902439025,\n",
       " 15: 0.07692307692307693,\n",
       " 16: 0.0,\n",
       " 17: 0.0,\n",
       " 18: 0.0,\n",
       " 19: 0.021739130434782608,\n",
       " 20: 0.0,\n",
       " 21: 0.03125,\n",
       " 22: 0.0,\n",
       " 23: 0.0,\n",
       " 24: 0.03571428571428571,\n",
       " 25: 0.058823529411764705,\n",
       " 26: 0.0,\n",
       " 27: 0.08823529411764706,\n",
       " 28: 0.0,\n",
       " 29: 0.02631578947368421,\n",
       " 30: 0.0,\n",
       " 31: 0.0,\n",
       " 32: 0.02702702702702703,\n",
       " 33: 0.0,\n",
       " 34: 0.05263157894736842,\n",
       " 35: 0.02631578947368421,\n",
       " 36: 0.030303030303030304,\n",
       " 37: 0.0,\n",
       " 38: 0.0,\n",
       " 39: 0.030303030303030304,\n",
       " 40: 0.0,\n",
       " 41: 0.022222222222222223,\n",
       " 42: 0.022222222222222223,\n",
       " 43: 0.0,\n",
       " 44: 0.0,\n",
       " 45: 0.06060606060606061,\n",
       " 46: 0.047619047619047616,\n",
       " 47: 0.03225806451612903,\n",
       " 48: 0.0,\n",
       " 49: 0.0,\n",
       " 50: 0.0,\n",
       " 51: 0.027777777777777776,\n",
       " 52: 0.0,\n",
       " 53: 0.0,\n",
       " 54: 0.0,\n",
       " 55: 0.04,\n",
       " 56: 0.034482758620689655,\n",
       " 57: 0.0,\n",
       " 58: 0.14634146341463414,\n",
       " 59: 0.0,\n",
       " 60: 0.09090909090909091,\n",
       " 61: 0.02040816326530612,\n",
       " 62: 0.0,\n",
       " 63: 0.027777777777777776,\n",
       " 64: 0.0,\n",
       " 65: 0.13157894736842105,\n",
       " 66: 0.02,\n",
       " 67: 0.020833333333333332,\n",
       " 68: 0.0,\n",
       " 69: 0.0,\n",
       " 70: 0.0425531914893617,\n",
       " 71: 0.0,\n",
       " 72: 0.0,\n",
       " 73: 0.0,\n",
       " 74: 0.02631578947368421,\n",
       " 75: 0.02040816326530612,\n",
       " 76: 0.0,\n",
       " 77: 0.034482758620689655,\n",
       " 78: 0.0,\n",
       " 79: 0.0,\n",
       " 80: 0.0,\n",
       " 81: 0.0,\n",
       " 82: 0.0,\n",
       " 83: 0.06896551724137931,\n",
       " 84: 0.0,\n",
       " 85: 0.024390243902439025,\n",
       " 86: 0.0,\n",
       " 87: 0.07142857142857142,\n",
       " 88: 0.046511627906976744,\n",
       " 89: 0.024390243902439025,\n",
       " 90: 0.0,\n",
       " 91: 0.0,\n",
       " 92: 0.0,\n",
       " 93: 0.0,\n",
       " 94: 0.0,\n",
       " 95: 0.03333333333333333,\n",
       " 96: 0.0,\n",
       " 97: 0.029411764705882353,\n",
       " 98: 0.0,\n",
       " 99: 0.022222222222222223,\n",
       " 100: 0.06666666666666667,\n",
       " 101: 0.02127659574468085,\n",
       " 102: 0.0,\n",
       " 103: 0.023809523809523808,\n",
       " 104: 0.0,\n",
       " 105: 0.0,\n",
       " 106: 0.0,\n",
       " 107: 0.0,\n",
       " 108: 0.0,\n",
       " 109: 0.058823529411764705,\n",
       " 110: 0.02857142857142857,\n",
       " 111: 0.0,\n",
       " 112: 0.0,\n",
       " 113: 0.0,\n",
       " 114: 0.0,\n",
       " 115: 0.029411764705882353,\n",
       " 116: 0.14814814814814814,\n",
       " 117: 0.041666666666666664,\n",
       " 118: 0.058823529411764705,\n",
       " 119: 0.023809523809523808,\n",
       " 120: 0.0,\n",
       " 121: 0.10714285714285714,\n",
       " 122: 0.0,\n",
       " 123: 0.043478260869565216,\n",
       " 124: 0.02,\n",
       " 125: 0.047619047619047616,\n",
       " 126: 0.03333333333333333,\n",
       " 127: 0.0,\n",
       " 128: 0.08823529411764706,\n",
       " 129: 0.029411764705882353,\n",
       " 130: 0.0,\n",
       " 131: 0.02631578947368421,\n",
       " 132: 0.10256410256410256,\n",
       " 133: 0.0,\n",
       " 134: 0.024390243902439025,\n",
       " 135: 0.0,\n",
       " 136: 0.02631578947368421,\n",
       " 137: 0.0,\n",
       " 138: 0.0,\n",
       " 139: 0.0,\n",
       " 140: 0.0,\n",
       " 141: 0.0,\n",
       " 142: 0.08823529411764706,\n",
       " 143: 0.0,\n",
       " 144: 0.05263157894736842,\n",
       " 145: 0.07142857142857142,\n",
       " 146: 0.05555555555555555,\n",
       " 147: 0.0,\n",
       " 148: 0.0,\n",
       " 149: 0.14583333333333334,\n",
       " 150: 0.0,\n",
       " 151: 0.0,\n",
       " 152: 0.0,\n",
       " 153: 0.041666666666666664,\n",
       " 154: 0.0,\n",
       " 155: 0.0,\n",
       " 156: 0.047619047619047616,\n",
       " 157: 0.034482758620689655,\n",
       " 158: 0.0,\n",
       " 159: 0.027777777777777776,\n",
       " 160: 0.05263157894736842}"
      ]
     },
     "execution_count": 24,
     "metadata": {},
     "output_type": "execute_result"
    }
   ],
   "source": [
    "from recipe_utils import get_cluster_connectivity\n",
    "original_connectivity = get_cluster_connectivity(matrix, degreelist, clusters)\n",
    "original_connectivity"
   ]
  }
 ],
 "metadata": {
  "kernelspec": {
   "display_name": "recipe",
   "language": "python",
   "name": "python3"
  },
  "language_info": {
   "codemirror_mode": {
    "name": "ipython",
    "version": 3
   },
   "file_extension": ".py",
   "mimetype": "text/x-python",
   "name": "python",
   "nbconvert_exporter": "python",
   "pygments_lexer": "ipython3",
   "version": "3.10.6"
  },
  "orig_nbformat": 4,
  "vscode": {
   "interpreter": {
    "hash": "62f9e904ff1d4fa6e27f2984f15409dfffcff7468a54928ca0992224464fe58b"
   }
  }
 },
 "nbformat": 4,
 "nbformat_minor": 2
}
