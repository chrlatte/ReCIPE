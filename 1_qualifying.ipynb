{
 "cells": [
  {
   "cell_type": "code",
   "execution_count": 9,
   "metadata": {},
   "outputs": [],
   "source": [
    "# this file: \n",
    "# - generate clusters and matrices for a given dataset, then find matching proteins \n",
    "# - save clusters and matrices as well as matching proteins to a pickle file"
   ]
  },
  {
   "cell_type": "code",
   "execution_count": 7,
   "metadata": {},
   "outputs": [],
   "source": [
    "# standard libraries\n",
    "import pickle as pk\n",
    "\n",
    "# importing the custom classes\n",
    "from matrix_class import ProteinMatrix # ppi matrix \n",
    "from cluster_class import AllClusters # dictionary to hold all clusters (in form number of cluster : list of proteins in that cluster)\n",
    "from degreelist_class import DegreeList # creates a list of all proteins in order of their degree\n",
    "\n",
    "# helper functions for setting up program\n",
    "from recipe_utils import initialize_matrix_clusters_degreelist\n",
    "from recipe_utils import find_clusters_and_proteins_together\n"
   ]
  },
  {
   "cell_type": "code",
   "execution_count": 1,
   "metadata": {},
   "outputs": [
    {
     "ename": "NameError",
     "evalue": "name 'initialize_matrix_clusters_degreelist' is not defined",
     "output_type": "error",
     "traceback": [
      "\u001b[0;31m---------------------------------------------------------------------------\u001b[0m",
      "\u001b[0;31mNameError\u001b[0m                                 Traceback (most recent call last)",
      "Cell \u001b[0;32mIn[1], line 12\u001b[0m\n\u001b[1;32m      8\u001b[0m clusters_file \u001b[39m=\u001b[39m \u001b[39m\"\u001b[39m\u001b[39mdata/clusters2/simple_inverse/clusters/\u001b[39m\u001b[39m\"\u001b[39m \u001b[39m+\u001b[39m data_string \u001b[39m+\u001b[39m \u001b[39m\"\u001b[39m\u001b[39m-cluster1.json\u001b[39m\u001b[39m\"\u001b[39m\n\u001b[1;32m     10\u001b[0m pickle_file \u001b[39m=\u001b[39m \u001b[39m\"\u001b[39m\u001b[39mdata/pickles/\u001b[39m\u001b[39m\"\u001b[39m \u001b[39m+\u001b[39m data_string \u001b[39m+\u001b[39m \u001b[39m\"\u001b[39m\u001b[39m.pickle\u001b[39m\u001b[39m\"\u001b[39m\n\u001b[0;32m---> 12\u001b[0m matrix, clusters, degreelist \u001b[39m=\u001b[39m initialize_matrix_clusters_degreelist(interactions_filepath\u001b[39m=\u001b[39minteractions_file, clusters_filepath\u001b[39m=\u001b[39mclusters_file)\n\u001b[1;32m     14\u001b[0m sqrt_qualifying_clusters, sqrt_qualifying_proteins \u001b[39m=\u001b[39m find_clusters_and_proteins_together(matrix, clusters, degreelist, cluster_ratio\u001b[39m=\u001b[39m\u001b[39m0\u001b[39m, cluster_constant\u001b[39m=\u001b[39m\u001b[39m2\u001b[39m, use_sqrt\u001b[39m=\u001b[39m\u001b[39mTrue\u001b[39;00m, protein_ratio\u001b[39m=\u001b[39m\u001b[39m1\u001b[39m, protein_constant\u001b[39m=\u001b[39m\u001b[39m0\u001b[39m)\n\u001b[1;32m     15\u001b[0m half_qualifying_clusters, half_qualifying_proteins \u001b[39m=\u001b[39m find_clusters_and_proteins_together(matrix, clusters, degreelist, cluster_ratio\u001b[39m=\u001b[39m\u001b[39m0\u001b[39m, cluster_constant\u001b[39m=\u001b[39m\u001b[39m2\u001b[39m, use_sqrt\u001b[39m=\u001b[39m\u001b[39mFalse\u001b[39;00m, protein_ratio\u001b[39m=\u001b[39m\u001b[39m.50\u001b[39m, protein_constant\u001b[39m=\u001b[39m\u001b[39m0\u001b[39m)\n",
      "\u001b[0;31mNameError\u001b[0m: name 'initialize_matrix_clusters_degreelist' is not defined"
     ]
    }
   ],
   "source": [
    "# for dream in {\"3\", \"2\", \"1\"}:\n",
    "for dream in {\"3\"}:\n",
    "    for spectral in {\"ic3\", \"ic10\", \"ic50\", \"ic100\"}:\n",
    "        \n",
    "        interactions_file = \"data/interactions/dream\" + dream + \".txt\"\n",
    "\n",
    "        data_string = \"d\" + dream + \"_\" + spectral\n",
    "        clusters_file = \"data/clusters2/simple_inverse/clusters/\" + data_string + \"-cluster1.json\"\n",
    "\n",
    "        pickle_file = \"data/pickles/\" + data_string + \".pickle\"\n",
    "\n",
    "        matrix, clusters, degreelist = initialize_matrix_clusters_degreelist(interactions_filepath=interactions_file, clusters_filepath=clusters_file)\n",
    "\n",
    "        sqrt_qualifying_clusters, sqrt_qualifying_proteins = find_clusters_and_proteins_together(matrix, clusters, degreelist, cluster_ratio=0, cluster_constant=2, use_sqrt=True, protein_ratio=1, protein_constant=0)\n",
    "        half_qualifying_clusters, half_qualifying_proteins = find_clusters_and_proteins_together(matrix, clusters, degreelist, cluster_ratio=0, cluster_constant=2, use_sqrt=False, protein_ratio=.50, protein_constant=0)\n",
    "        quarter_qualifying_clusters, quarter_qualifying_proteins = find_clusters_and_proteins_together(matrix, clusters, degreelist, cluster_ratio=0, cluster_constant=2, use_sqrt=False, protein_ratio=.25, protein_constant=0)\n",
    "        tenth_qualifying_clusters, tenth_qualifying_proteins = find_clusters_and_proteins_together(matrix, clusters, degreelist, cluster_ratio=0, cluster_constant=2, use_sqrt=False, protein_ratio=.10, protein_constant=0)\n",
    "\n",
    "        pickle_dict = {\"data_string\":data_string, \"matrix\":matrix, \"clusters_dict\":dict(clusters.clusters), \"degreelist\":degreelist, \"sqrt_clusters\":sqrt_qualifying_clusters, \"sqrt_proteins\":sqrt_qualifying_proteins, \"half_clusters\":half_qualifying_clusters, \"half_proteins\":half_qualifying_proteins, \"quarter_clusters\":quarter_qualifying_clusters, \"quarter_proteins\":quarter_qualifying_proteins, \"tenth_clusters\":tenth_qualifying_clusters, \"tenth_proteins\":tenth_qualifying_proteins}\n",
    "        with open(pickle_file, 'wb') as f: # must be wb for \"write binary\"\n",
    "            pk.dump(pickle_dict, f)\n",
    "\n",
    "        print(\"done with \" + data_string)\n"
   ]
  },
  {
   "cell_type": "code",
   "execution_count": 6,
   "metadata": {},
   "outputs": [
    {
     "name": "stdout",
     "output_type": "stream",
     "text": [
      "done with d1_ic100\n"
     ]
    }
   ],
   "source": [
    "# for dream in {\"3\", \"2\", \"1\"}:\n",
    "for dream in {\"1\"}:\n",
    "    for spectral in {\"ic100\"}: #, \"ic10\", \"ic50\", \"ic100\"}:\n",
    "        \n",
    "        interactions_file = \"data/interactions/dream\" + dream + \".txt\"\n",
    "\n",
    "        data_string = \"d\" + dream + \"_\" + spectral\n",
    "        clusters_file = \"data/clusters2/simple_inverse/clusters/\" + data_string + \"-cluster1.json\"\n",
    "\n",
    "        pickle_file = \"data/pickles/\" + data_string + \"V2.pickle\"\n",
    "\n",
    "        matrix, clusters, degreelist = initialize_matrix_clusters_degreelist(interactions_filepath=interactions_file, clusters_filepath=clusters_file)\n",
    "\n",
    "        sqrt_qualifying_clusters, sqrt_qualifying_proteins = find_clusters_and_proteins_together(matrix, clusters, degreelist, cluster_ratio=0, cluster_constant=2, use_sqrt=True, protein_ratio=1, protein_constant=0)\n",
    "        half_qualifying_clusters, half_qualifying_proteins = find_clusters_and_proteins_together(matrix, clusters, degreelist, cluster_ratio=0, cluster_constant=2, use_sqrt=False, protein_ratio=.50, protein_constant=0)\n",
    "        quarter_qualifying_clusters, quarter_qualifying_proteins = find_clusters_and_proteins_together(matrix, clusters, degreelist, cluster_ratio=0, cluster_constant=2, use_sqrt=False, protein_ratio=.25, protein_constant=0)\n",
    "        tenth_qualifying_clusters, tenth_qualifying_proteins = find_clusters_and_proteins_together(matrix, clusters, degreelist, cluster_ratio=0, cluster_constant=2, use_sqrt=False, protein_ratio=.10, protein_constant=0)\n",
    "\n",
    "        pickle_dict = {\"data_string\":data_string, \"matrix\":matrix, \"clusters_dict\":dict(clusters.clusters), \"degreelist\":degreelist, \"sqrt_clusters\":sqrt_qualifying_clusters, \"sqrt_proteins\":sqrt_qualifying_proteins, \"half_clusters\":half_qualifying_clusters, \"half_proteins\":half_qualifying_proteins, \"quarter_clusters\":quarter_qualifying_clusters, \"quarter_proteins\":quarter_qualifying_proteins, \"tenth_clusters\":tenth_qualifying_clusters, \"tenth_proteins\":tenth_qualifying_proteins}\n",
    "        with open(pickle_file, 'wb') as f: # must be wb for \"write binary\"\n",
    "            pk.dump(pickle_dict, f)\n",
    "\n",
    "        print(\"done with \" + data_string)\n"
   ]
  }
 ],
 "metadata": {
  "kernelspec": {
   "display_name": "recipe",
   "language": "python",
   "name": "python3"
  },
  "language_info": {
   "codemirror_mode": {
    "name": "ipython",
    "version": 3
   },
   "file_extension": ".py",
   "mimetype": "text/x-python",
   "name": "python",
   "nbconvert_exporter": "python",
   "pygments_lexer": "ipython3",
   "version": "3.10.6"
  },
  "orig_nbformat": 4
 },
 "nbformat": 4,
 "nbformat_minor": 2
}
