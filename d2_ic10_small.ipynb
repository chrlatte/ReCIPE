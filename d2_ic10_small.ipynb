{
 "cells": [
  {
   "attachments": {},
   "cell_type": "markdown",
   "metadata": {},
   "source": [
    "d2_ic10_small"
   ]
  },
  {
   "attachments": {},
   "cell_type": "markdown",
   "metadata": {},
   "source": []
  },
  {
   "cell_type": "code",
   "execution_count": 8,
   "metadata": {},
   "outputs": [],
   "source": [
    "# imports:\n",
    "\n",
    "# standard libraries\n",
    "import numpy as np\n",
    "import pandas as pd\n",
    "import matplotlib.pyplot as plt\n",
    "# library used for functional enrichment analysis\n",
    "from func_e.FUNC_E import FUNC_E  # a method that can do funtional enrichment analysis!\n",
    "import func_e.vocabs.all as vocabs\n",
    "# following code is necessary as some functions used in the funcE class produce future warnings but i can't fix it as it is not my code\n",
    "import warnings\n",
    "warnings.simplefilter(action='ignore', category=FutureWarning)\n",
    "\n",
    "# importing the custom classes i built\n",
    "from matrix_class import ProteinMatrix # ppi matrix \n",
    "from cluster_class import AllClusters # dictionary to hold all clusters (in form number of cluster : list of proteins in that cluster)\n",
    "from degreelist_class import DegreeList # creates a list of all proteins in order of their degree\n",
    "\n",
    "# helper functions for setting up program\n",
    "from recipe_utils import initialize_matrix_clusters_degreelist\n",
    "from recipe_utils import find_clusters_and_proteins_together\n",
    "\n",
    "# helper functions for functional enrichment\n",
    "from recipe_utils import print_querylist_of_clusters_to_file\n",
    "from recipe_utils import print_protein_background_to_file\n",
    "from recipe_utils import create_term_mapping_list\n",
    "from recipe_utils import get_initialized_fe"
   ]
  },
  {
   "attachments": {},
   "cell_type": "markdown",
   "metadata": {},
   "source": [
    " **must change filenames:**"
   ]
  },
  {
   "cell_type": "code",
   "execution_count": 9,
   "metadata": {},
   "outputs": [],
   "source": [
    "interactions_file = \"data/interactions/2_ppi_inweb_v2.txt\"\n",
    "clusters_file = \"data/d2_ic10_small/d2_ic10_small.json\""
   ]
  },
  {
   "cell_type": "code",
   "execution_count": 10,
   "metadata": {},
   "outputs": [],
   "source": [
    "matrix, clusters, degreelist = initialize_matrix_clusters_degreelist(interactions_filepath=interactions_file, clusters_filepath=clusters_file)"
   ]
  },
  {
   "attachments": {},
   "cell_type": "markdown",
   "metadata": {},
   "source": [
    "*may want to change parameters below:*"
   ]
  },
  {
   "cell_type": "code",
   "execution_count": 11,
   "metadata": {},
   "outputs": [],
   "source": [
    "sqrt_qualifying_clusters, sqrt_qualifying_proteins = find_clusters_and_proteins_together(matrix, clusters, degreelist, cluster_ratio=0, cluster_constant=2, use_sqrt=True, protein_ratio=1, protein_constant=0)"
   ]
  },
  {
   "cell_type": "code",
   "execution_count": 12,
   "metadata": {},
   "outputs": [
    {
     "data": {
      "text/plain": [
       "{76: ['STX16', 'NPEPL1', 'PRDX2'], 83: ['TP53'], 263: ['ELOVL5']}"
      ]
     },
     "execution_count": 12,
     "metadata": {},
     "output_type": "execute_result"
    }
   ],
   "source": [
    "sqrt_qualifying_proteins"
   ]
  },
  {
   "cell_type": "code",
   "execution_count": 13,
   "metadata": {},
   "outputs": [],
   "source": [
    "# from recipe_utils import top_n_proteins\n",
    "\n",
    "# three_qualifying_proteins = top_n_proteins(sqrt_qualifying_proteins, n=3) \n",
    "# three_qualifying_proteins"
   ]
  },
  {
   "cell_type": "code",
   "execution_count": 14,
   "metadata": {},
   "outputs": [],
   "source": [
    "# from recipe_utils import get_cluster_connectivity\n",
    "\n",
    "# original_cluster_connectivity = get_cluster_connectivity(matrix, degreelist, clusters, {}, sort_it=False)\n",
    "# new_cluster_connectivity = get_cluster_connectivity(matrix, degreelist, clusters, added_proteins=sqrt_qualifying_proteins, sort_it=False)\n",
    "\n",
    "# from recipe_utils import calculate_connectivity_difference\n",
    "\n",
    "# difference = calculate_connectivity_difference(original_cluster_connectivity, new_cluster_connectivity, sort_it=True)\n",
    "# difference"
   ]
  },
  {
   "cell_type": "code",
   "execution_count": null,
   "metadata": {},
   "outputs": [],
   "source": []
  },
  {
   "attachments": {},
   "cell_type": "markdown",
   "metadata": {},
   "source": [
    "### Functional Enrichment Analysis"
   ]
  },
  {
   "cell_type": "code",
   "execution_count": 15,
   "metadata": {},
   "outputs": [],
   "source": [
    "# create_term_mapping_list(\"data/go_labels/dream3_go.tsv\", \"data/go_labels/d3_term_mapping.tsv\")"
   ]
  },
  {
   "attachments": {},
   "cell_type": "markdown",
   "metadata": {},
   "source": [
    "**will need to the directory below**"
   ]
  },
  {
   "cell_type": "code",
   "execution_count": 16,
   "metadata": {},
   "outputs": [],
   "source": [
    "directory = \"data/d2_ic10_small/\"\n",
    "term_mapping_filepath = \"data/go_labels/d2_term_mapping.tsv\""
   ]
  },
  {
   "cell_type": "code",
   "execution_count": 17,
   "metadata": {},
   "outputs": [],
   "source": [
    "background_proteins_filepath = directory + \"background_proteinlist.txt\"\n",
    "og_query_filepath = directory + \"original_clusters.txt\"\n",
    "sqrt_query_filepath = directory + \"sqrt_clusters.txt\"\n",
    "# three_query_filepath = directory + \"three_prot_clusters.txt\""
   ]
  },
  {
   "attachments": {},
   "cell_type": "markdown",
   "metadata": {},
   "source": [
    "*print to files*"
   ]
  },
  {
   "cell_type": "code",
   "execution_count": 18,
   "metadata": {},
   "outputs": [],
   "source": [
    "# use functions to print info to files: (annoying, but need to get info into format used for funcE package)\n",
    "# 1) a background protein list to be used for functional enrichment analysis\n",
    "print_protein_background_to_file(matrix, background_proteins_filepath) \n",
    "# 3) not a file, but need to establish a background of all GO terms! (to be used for functional enrichment analysis)\n",
    "background_go_terms = vocabs.getTerms(['GO'])\n",
    "\n",
    "# continue printing info to files to be used in functional enrichment analysis:\n",
    "# 4) print original clusters to a file\n",
    "print_querylist_of_clusters_to_file(clusters, clusters.get_all_cluster_labels(), og_query_filepath)\n",
    "# 5) print updated clusters to a file (just append the function to include the dictionary of qualifying proteins)\n",
    "print_querylist_of_clusters_to_file(clusters, clusters.get_all_cluster_labels(), sqrt_query_filepath, sqrt_qualifying_proteins)\n",
    "# print_querylist_of_clusters_to_file(clusters, clusters.get_all_cluster_labels(), three_query_filepath, three_qualifying_proteins)"
   ]
  },
  {
   "attachments": {},
   "cell_type": "markdown",
   "metadata": {},
   "source": [
    "*RUN Functional Enrichment:*"
   ]
  },
  {
   "cell_type": "code",
   "execution_count": 19,
   "metadata": {},
   "outputs": [],
   "source": [
    "original_fe = get_initialized_fe(background_proteins_filepath, term_mapping_filepath, termlist = background_go_terms)\n",
    "original_fe.importFiles({'query': og_query_filepath })\n",
    "original_fe.run(cluster=False)\n",
    "\n",
    "sqrt_fe = get_initialized_fe(background_proteins_filepath, term_mapping_filepath, termlist = background_go_terms)\n",
    "sqrt_fe.importFiles({'query': sqrt_query_filepath })\n",
    "sqrt_fe.run(cluster=False)\n",
    "\n",
    "# three_fe = get_initialized_fe(background_proteins_filepath, term_mapping_filepath, termlist = background_go_terms)\n",
    "# three_fe.importFiles({'query': three_query_filepath })\n",
    "# three_fe.run(cluster=False)"
   ]
  },
  {
   "attachments": {},
   "cell_type": "markdown",
   "metadata": {},
   "source": []
  },
  {
   "cell_type": "code",
   "execution_count": 20,
   "metadata": {},
   "outputs": [
    {
     "name": "stdout",
     "output_type": "stream",
     "text": [
      "::::::::::::::::::::::::::SQRT::::::::::::::::::::::::::\n",
      "\n",
      "number of clusters that were updated with proteins: 3\n",
      "\n",
      "number of functionally enriched clusters (modules) out of 390 original clusters: 345\n",
      "number of functionally enriched clusters after addition of all proteins: 345\n",
      "\n",
      "number of significant pvals in original clusters before updating: 1148\n",
      "number of significant pvals in clusters with all proteins added: 1151\n",
      "\n",
      "\n"
     ]
    }
   ],
   "source": [
    "print(f\"::::::::::::::::::::::::::SQRT::::::::::::::::::::::::::\\n\")\n",
    "# print data by the numbers!\n",
    "print(f\"number of clusters that were updated with proteins: {len(sqrt_qualifying_proteins.keys())}\\n\")\n",
    "\n",
    "# clusters that are functionally enriched\n",
    "print(f\"number of functionally enriched clusters (modules) out of {clusters.get_num_clusters()} original clusters: {original_fe.enrichment['Module'].nunique()}\")\n",
    "print(f\"number of functionally enriched clusters after addition of all proteins: {sqrt_fe.enrichment['Module'].nunique()}\")\n",
    "print(f\"\")\n",
    "\n",
    "\n",
    "#significant P-values!!!\n",
    "print(f\"number of significant pvals in original clusters before updating: {original_fe.enrichment['Fishers_pvalue'].count()}\")\n",
    "print(f\"number of significant pvals in clusters with all proteins added: {sqrt_fe.enrichment['Fishers_pvalue'].count()}\")\n",
    "\n",
    "\n",
    "print(f\"\")\n",
    "print(f\"\")"
   ]
  },
  {
   "cell_type": "code",
   "execution_count": 21,
   "metadata": {},
   "outputs": [],
   "source": [
    "half_qualifying_clusters, half_qualifying_proteins = find_clusters_and_proteins_together(matrix, clusters, degreelist, cluster_ratio=0, cluster_constant=2, use_sqrt=False, protein_ratio=.50, protein_constant=0)\n",
    "quarter_qualifying_clusters, quarter_qualifying_proteins = find_clusters_and_proteins_together(matrix, clusters, degreelist, cluster_ratio=0, cluster_constant=2, use_sqrt=False, protein_ratio=.25, protein_constant=0)\n",
    "tenth_qualifying_clusters, tenth_qualifying_proteins = find_clusters_and_proteins_together(matrix, clusters, degreelist, cluster_ratio=0, cluster_constant=2, use_sqrt=False, protein_ratio=.10, protein_constant=0)\n",
    "\n"
   ]
  },
  {
   "cell_type": "code",
   "execution_count": 22,
   "metadata": {},
   "outputs": [
    {
     "name": "stdout",
     "output_type": "stream",
     "text": [
      "number of functionally enriched clusters after addition of 1/2 proteins: 345\n",
      "number of functionally enriched clusters after addition of 1/4 proteins: 345\n",
      "number of functionally enriched clusters after addition of 1/10 proteins: 373\n",
      "{}\n",
      "{76: ['STX16', 'NPEPL1', 'PRDX2'], 83: ['TP53'], 137: ['ADK', 'KARS', 'DARS', 'EIF2S3', 'KIAA0368', 'EIF4G3', 'KIAA0664'], 263: ['ELOVL5']}\n",
      "{0: ['LSM7', 'LOC440926', 'H3F3B'], 1: ['MAP2K4', 'RB1', 'GNB4', 'PLCG1', 'PIK3R1', 'IRS4', 'CPSF3', 'ABL1', 'CDC2L5', 'IDH3A', 'PTK2B'], 2: ['ITGAV', 'MET', 'ITGB3', 'ERBB3', 'PDGFRB', 'CRK', 'ERBB2', 'MAPK8', 'KIT', 'PLCG1', 'SFN', 'NCK1', 'LCK', 'PIK3R1', 'ABL1', 'CAMK2A'], 4: ['FHL2'], 5: ['AKT3', 'SORT1', 'PIK3R2', 'NCOR1', 'PPP2CA', 'SMARCC1', 'POLR2H', 'CDK2', 'KPNA2', 'POLR2L', 'PPP2R1A', 'HDAC1'], 6: ['PTK2'], 7: ['SF3A3'], 10: ['NR5A1', 'RAB5A', 'EPB41', 'HIST2H3PS2', 'HIST2H3C', 'UBQLN4', 'AR', 'ESR1', 'SNRPA', 'EP300', 'RAC1', 'PRKAB1', 'LRPPRC', 'HIST1H3J', 'HIST1H3E', 'HIST1H3D', 'HIST1H3C', 'HIST1H3B', 'HIST1H3A', 'H3F3AP6', 'HIST2H3A', 'HIST1H3H', 'PCNA', 'KPNA2', 'HDAC1'], 11: ['MAP2K2', 'PRDX2'], 12: ['PIN1', 'NACAP1', 'C20orf4', 'NCK1', 'STX1A', 'PRKCE', 'EP300', 'RPS12', 'PRPF3', 'CTNNB1', 'ABL1', 'PRPF8', 'MAP3K3', 'PCNA', 'KPNA2'], 14: ['COIL', 'UBE1'], 15: ['MRE11A', 'PPP2R1B', 'ATM', 'RAD50', 'SMC1A', 'PPP2CA', 'FRAP1', 'SLC25A6', 'ABL1', 'EIF4E'], 18: ['SUMO4', 'TRAF6', 'EIF6'], 19: ['PIN1', 'EWSR1', 'SF3B4', 'PRKACA', 'SUMO1P3', 'RAC1', 'MAP1B', 'TUBB2A', 'PRKAR2A', 'DLD', 'SFPQ', 'AP2M1'], 20: ['MDM2', 'RB1', 'HTATIP', 'HDAC4', 'EP300', 'CREBBP', 'PPP2CA', 'KRT10', 'HDAC1'], 21: ['TCEB1', 'EWSR1', 'PRPF3', 'UBR5', 'SMC4', 'RPN1', 'PSMD1', 'NDUFS1', 'DDB1', 'DDX20', 'CCT3', 'MYBBP1A'], 25: ['NFYC', 'EWSR1', 'DHX30', 'PSMD13', 'DYNLL1', 'SLC25A4', 'MYL12B', 'POLR2H', 'POLR2F', 'NOP58', 'POLR2L', 'SLC25A5', 'HSP90AA2', 'PPIAP22', 'PPIA', 'CAPZB', 'P4HB'], 26: ['CACNG7', 'CACNG5', 'PHF10', 'USP11', 'XPC', 'TLE1', 'OGFOD1', 'VPS8', 'CHAF1A', 'PIAS4', 'UNC119', 'RIF1', 'FGF20', 'C1orf103', 'CLPB', 'FGFR2', 'TSC22D1', 'SV2B', 'TMED2', 'AIFM1', 'PAICS', 'BAG2', 'RB1', 'MED21', 'TARDBP', 'RRM2', 'SH3GL2', 'MOBKL3', 'SMN2', 'RAD51', 'RAD23B', 'USP14', 'RAB8B', 'GART', 'RAD50', 'MYO5B', 'USP7', 'PSMD6', 'EIF3G', 'PNO1', 'ME1', 'CLK1', 'LARS', 'NOL14', 'CAMK1D', 'POLR3B', 'MLLT1', 'ADK', 'APLP1', 'GNL2', 'BTAF1', 'BTK', 'RBBP4', 'CCNC', 'MED6', 'CDK8', 'ABCF3', 'RPAP2', 'ACTL6A', 'CSK', 'NUP153', 'PGK1', 'AFF4', 'ULK3', 'ZNF281', 'ANAPC5', 'PPA1', 'HDAC6', 'SEH1L', 'PSMD11', 'MAX', 'FBXW7', 'GTPBP4', 'U2SURP', 'MYC', 'SSB', 'TP53', 'SMARCC1', 'PPP1CA', 'PDHA1', 'PES1', 'PRKAB1', 'FRAP1', 'KRR1', 'FGFR1', 'RAB6B', 'CCNH', 'BMP2K', 'BCR', 'TAF5', 'RPL13AP25', 'MNAT1', 'NOC4L', 'SMC4', 'RRP12', 'RANBP2', 'ARHGAP15', 'MOBKL1B', 'KPNA6', 'KPNA2', 'GRWD1', 'DDX20', 'MAT1A', 'CCT3', 'EIF3B', 'NEK9', 'POLR2C', 'PFKP', 'TOP2A', 'PPP1CB', 'OLA1', 'HDAC1', 'DDX18', 'RPA1', 'IPO9', 'SPDYA', 'TOP1', 'KIAA0664', 'MYBBP1A', 'CCT4', 'EIF4E'], 27: ['C1orf103', 'PPAT', 'CD4', 'SEC13', 'LCK', 'WDR36', 'SART1', 'SYK', 'SUMO1P3', 'NCBP2', 'TP53', 'RPL37A', 'RPL15P3', 'PRKCB1', 'RPL13AP25', 'HEATR1', 'TAF6', 'IKBKE', 'LARP2', 'IMPDH1', 'RPS7P1', 'CTPS', 'DDX18', 'EIF4G3', 'NAT10', 'HIST1H2AH', 'HIST1H2AC', 'EIF4E'], 28: ['AKT1', 'HLA-B', 'DDX17', 'PPA1', 'TNPO1', 'NME2', 'CPSF3', 'TUFM', 'NEDD4L', 'ACTR3', 'IKBKE', 'IMPDH1', 'ACTC1', 'EIF4B', 'HIST1H2AH', 'HIST1H2AC'], 30: ['SMURF2', 'RAC1', 'FRAP1', 'TGFBR1', 'COPB2', 'MMS19'], 31: ['PTK6', 'BMX', 'CLU', 'BLK', 'FGR', 'FES', 'IGF1R', 'PIK3CA', 'ARF1', 'TEC', 'FER', 'HCK', 'TNK1', 'FRAP1', 'PDPK1'], 33: ['MAP3K10', 'NMT1', 'VPS39', 'RBL1', 'RQCD1', 'RASSF8', 'EIF3D', 'BUB1B', 'ENO1', 'MAPK8', 'PRKCE', 'HRNR', 'TP53', 'KRR1', 'RANBP2'], 34: ['PIAS4', 'CPSF7', 'LDB3', 'ATXN1', 'FUS', 'APP', 'DDX23', 'SNRPB', 'SNRPA', 'PRPF40A', 'SART1', 'STAT1', 'SF3B4', 'IRAK1', 'CDK4', 'SF3A3', 'SF3A2', 'PRPF3', 'CTNND1', 'SNRP70', 'PRPF4', 'HTATSF1', 'SF3A1', 'PCBP1', 'CTNNA1', 'CTNNB1', 'MARS', 'POLR2D', 'DDX20', 'RPN2', 'SFPQ', 'AP2M1', 'PPP1CB', 'PTPN11', 'P4HB', 'SPDYA', 'PRPF6', 'HADHB', 'DDX1'], 35: ['MAPKAPK2', 'BRD4', 'MAP2K1', 'MAPK8', 'MLLT1', 'ACVR1', 'BTK', 'MAP2K2', 'JAK2', 'YES1'], 37: ['NEDD4L'], 38: ['CDK2', 'WEE1'], 39: ['ABL1'], 40: ['MT-CYB', 'UQCRH', 'XAB1', 'CSK', 'RPL29', 'CUL1', 'RPS27', 'ABL1'], 41: ['MBP', 'SLC25A12', 'ATP1A1', 'CCT5', 'DDX1'], 42: ['MDFI', 'CDK2'], 43: ['STX1A', 'RAB6C', 'PLS3', 'EIF4E'], 44: ['HRNR'], 45: ['PRKD2', 'ATF2', 'PRKAA1', 'PXN', 'EPHB4', 'TNK2', 'DDX17', 'PCBP1', 'RBL2', 'JAK2', 'PTK2', 'PTK2B', 'YES1'], 46: ['PCYT1A', 'PAPD5', 'PACS1', 'NPEPPS', 'AP1M1', 'ARF1', 'NUDT21', 'RRM2', 'SH3GL2', 'ERO1LB', 'FIP1L1', 'U2AF2', 'NET1', 'GARS', 'MRPL27', 'FUS', 'ARHGAP17', 'CPSF2', 'CD3EAP', 'VAC14', 'EIF3G', 'DDX23', 'ME1', 'CYFIP1', 'HNRPA3', 'TPR', 'SNRPA1', 'EPS15', 'CSTF3', 'SNRPA', 'MCC', 'STIP1', 'SNRPD3', 'SART1', 'ABCF3', 'PWP1', 'CPSF1', 'SF3B4', 'CDK4', 'PAPOLA', 'SF3A3', 'SF3A2', 'DIAPH1', 'DDX17', 'PGK1', 'NCBP2', 'SNRP70', 'PRPF4', 'HNRNPL', 'HTATSF1', 'NME2', 'SF3A1', 'RBM34', 'RPL15P3', 'ARPC5L', 'POLR1E', 'CPSF3', 'JAK2', 'CLTB', 'CHUK', 'KPNA5', 'PRPF8', 'ACTA1', 'UTP20', 'NHP2L1', 'PSMD1', 'SMARCA2', 'MOBKL1B', 'KPNA6', 'PSMA3', 'LARP2', 'POLR2H', 'MAT1A', 'POLR2L', 'IMPDH1', 'SFPQ', 'POLR2C', 'POLE', 'PFKP', 'HNRPD', 'COPG', 'SMARCC2', 'HNRNPC', 'SMARCA4'], 47: ['GNB1'], 49: ['LIF', 'IL9', 'IL7', 'IL5', 'IL29', 'IL28B', 'IL28A', 'IL26', 'IL24', 'IL23A', 'IL22', 'IL21', 'IL19', 'IL15', 'IFNW1', 'IFNK', 'IFNE', 'IFNB1', 'PRL', 'IL20', 'IL11', 'IL10', 'IFNA8', 'IFNA5', 'IFNA4', 'IFNA21', 'IFNA2', 'IFNA16', 'IFNA14', 'IFNA10', 'EPO', 'CTF1', 'CSF3', 'CLCF1', 'IL4', 'IL13', 'TSLP', 'TPO', 'IFNA6', 'CSF2', 'IL3', 'IFNA13', 'IL2', 'SOCS4', 'IL12B', 'OSM', 'IFNG', 'CSH2', 'IL12A', 'ZFP91-CNTF', 'SOCS2', 'LEP', 'IL6', 'PIH1D1', 'CBLC', 'SOCS6', 'SOCS3', 'SOCS5', 'CFLAR', 'GH1', 'PTPN6', 'SYNJ2', 'SOCS1', 'JAK3', 'PABPN1', 'EIF4A2', 'FXR2', 'SF3B6', 'MAP2K1', 'EPB41L3', 'PHF5A', 'PAK7', 'PCBP2', 'STAT3', 'EIF3J', 'CBL', 'PXN', 'LCK', 'HRNR', 'STAT1', 'HCK', 'TBK1', 'PRKCD', 'ATAD3B', 'TYK2', 'JAK1', 'CDK9', 'PRKACA', 'TNK1', 'BYSL', 'NCBP2', 'SRRM1', 'MARK3', 'ARAF', 'HNRNPL', 'PIK3R1', 'KRT18', 'TGFBR1', 'BRAF', 'CCNH', 'CPSF3', 'MNAT1', 'JAK2', 'CBLB', 'NHP2L1', 'PCNA', 'NEDD4L', 'POLR2L', 'POLR2C', 'RPS10', 'HNRPD', 'WEE1', 'PPP6C', 'PTPN11', 'ACTC1', 'HNRNPC'], 51: ['AXIN1', 'APC', 'CTNNB1'], 52: ['OPA1', 'ATAD3A', 'PIK3R1', 'ATP2A2', 'PSMD3'], 53: ['DDX39B', 'BAT1'], 54: ['SPAG9', 'CCNT1', 'REL', 'HRAS', 'EPHA2', 'CYFIP1', 'NCK1', 'DMD', 'BCAR1', 'CAMK2G', 'PRKCE', 'EPS15', 'GTF2I', 'CDK9', 'RAC1', 'RELA', 'MYC', 'PIK3C2A', 'ABL1', 'MAPK14', 'PTK2', 'CAMK2A', 'WEE1'], 55: ['AARS', 'MBP', 'RBL2', 'SMARCA2', 'SMARCA4'], 56: ['NR5A1', 'BCL3', 'STRAP', 'SFRS12', 'SFRS2', 'BACH2', 'U2AF1', 'SUMO3', 'GTF2F1', 'NQO2', 'NUDT21', 'NFX1', 'SMN2', 'NFKB1', 'NFKB2', 'IKBKG', 'MAPK8', 'ATF2', 'HNRPA3', 'SERBP1', 'CLNS1A', 'TPM2', 'PDLIM7', 'STAT1', 'EP300', 'GTF2F2', 'CREBBP', 'CAPN1', 'MAPK9', 'RELA', 'SMARCD1', 'SRRM1', 'TPM1', 'SNRP70', 'SMARCB1', 'HTATSF1', 'HSPA6', 'MYL12B', 'TUBA3D', 'TUBA3C', 'ABL1', 'CHUK', 'MAP3K1', 'HDLBP', 'MAPK14', 'MAP3K3', 'SMARCA2', 'KPNA6', 'GSK3B', 'MAPK3', 'SFPQ', 'RPS10', 'HNRPD', 'PPP2R1A', 'RPA1', 'P4HB', 'HNRNPC', 'TOP1', 'DDX1', 'HIST1H2AH', 'HIST1H2AC', 'SMARCA4'], 57: ['P4HB'], 58: ['COPS6', 'LRP1', 'ITGB1', 'SUMO3', 'SETDB1', 'CHKB', 'SUMO4', 'NCOR1', 'RAC1', 'TNPO1', 'KRR1', 'PCNA', 'TRAF6', 'RSL1D1', 'COPB2', 'SLC25A5', 'HSP90AA2', 'RPS26P8', 'RPS26P10', 'DDX18', 'SLC25A3', 'RPS26'], 60: ['DLG1', 'PRKAA1', 'DLG4', 'GANAB', 'PPP6C'], 61: ['PPP2R4', 'RAP1GAP', 'UBE2G2', 'RELA', 'SMARCB1', 'PCNA'], 62: ['KIT', 'PRKACA'], 65: ['HLA-B', 'PRDX2'], 66: ['CREBBP', 'RBM10', 'EIF4B'], 67: ['PRKAR2A', 'OAT'], 69: ['PPP2CB', 'CTR9', 'CDK5', 'SRRM1', 'SNRP70', 'PDHA1', 'FRAP1', 'XPO5', 'SAPS3'], 71: ['LMX1B', 'JUNB', 'CEBPG', 'SIX1', 'RAD9A', 'MEN1', 'DDIT3', 'DNAJC21', 'JUND', 'GNAO1', 'SUV39H2', 'ATP6V1H', 'DDB2', 'POLD2', 'XPC', 'CHD8', 'ORC5L', 'ATF7', 'ATP6V1C1', 'ORC4L', 'PPP2R4', 'CDC123', 'VARS2', 'GTF2H4', 'SEC31A', 'CUL4B', 'ORC2L', 'AK6', 'TRIP10', 'WASL', 'CUL4A', 'GPI', 'PFDN5', 'WDR82', 'LSM4', 'MCM10', 'LAS1L', 'BACH2', 'MCM4', 'JUN', 'SH3YL1', 'PELP1', 'ABCF2', 'ATXN1', 'STK38L', 'RRM2', 'UTP18', 'WDR33', 'TRIP12', 'NFKB1', 'WAS', 'ERCC2', 'DXO', 'DOM3Z', 'RAD23B', 'CLP1', 'NFKB2', 'ERCC4', 'GRAP', 'DNAJB1', 'SOD1', 'PRPF31', 'RPL7P9', 'DLAT', 'MCM5', 'ATF2', 'EIF1B', 'TEX10', 'SORCS2', 'RGL3', 'UGDH', 'SORT1', 'WDR26', 'RRP1B', 'ARFGEF2', 'PHLPPL', 'ABCF3', 'DUT', 'RANBP5', 'DIAPH1', 'SRSF10', 'PHGDH', 'PPA1', 'RELA', 'PSMD11', 'LUC7L2', 'SMARCD1', 'TARS', 'DLSTP', 'TNPO1', 'RAB6C', 'MDN1', 'PSMD8', 'TP53', 'IQGAP1', 'MCM3', 'ACACB', 'SLC25A6', 'PSMD13', 'PHB2', 'PHB', 'KIAA0368', 'KIF3A', 'ARPC5', 'CCNH', 'ACO2', 'DLD', 'TTLL3', 'POLR1E', 'SLC25A4', 'CPSF3', 'MNAT1', 'LEO1', 'HIST2H3A', 'HIST1H3H', 'ARPC3', 'CBLB', 'UPF1', 'ARPC2', 'EIF4A3', 'PSMD1', 'PCNA', 'ACTR3', 'DDB1', 'RANP1', 'ABLIM1', 'LARP2', 'CDK2', 'GRWD1', 'BOP1', 'ACTR2', 'MAT1A', 'RPS28', 'EPRS', 'EIF3B', 'SLC25A5', 'PRDX1', 'MPRIP', 'RPS26P8', 'RPS26P10', 'PRDX2', 'PPIAP22', 'PPIA', 'PPP1R12A', 'TUBB3', 'PPP1CB', 'OLA1', 'CTPS', 'ACTG2', 'SLC25A3', 'CAPZB', 'SPDYA', 'DBN1', 'MMS19', 'RPS26', 'KIAA0664'], 72: ['ZHX1', 'BCL2', 'PPP2R5C', 'PPP2R1B', 'CHEK2', 'UBE2G2', 'LARP7', 'PSMD11', 'PPP2CA', 'PSMB3', 'PSMB1', 'ARHGAP15', 'SMARCA2', 'COPA', 'POLE', 'EIF4G3', 'SMARCC2', 'HIST1H2AH', 'HIST1H2AC', 'SMARCA4'], 73: ['ERBB2', 'FBXW7', 'CTNNB1', 'ABL1'], 75: ['GNAI1', 'CCT3'], 76: ['GDF9', 'RRN3', 'WARS', 'PAFAH1B1', 'CETN3', 'POLA1', 'HMGCS1', 'STX16', 'NPEPL1', 'BMPR1B', 'PSMB7', 'PGAM2', 'RNMT', 'PACS1', 'MCM10', 'PPP2R2C', 'NCKAP1', 'PRKACB', 'THOC2', 'STRN3', 'C20orf191', 'DUSP4', 'MOBKL3', 'ACSS2', 'GRIN2B', 'CDC42', 'SOD1', 'PSMB2', 'NUDC', 'GLUL', 'PSMD6', 'GRIN1', 'DEPDC5', 'CYFIP1', 'MARK4', 'CAP2', 'CAP1', 'AHCY', 'PSMD7', 'ACVR1', 'MAPRE1', 'SUPT5H', 'PGD', 'CLASP2', 'ATP6V0D1', 'AHSA1', 'CBS', 'PSMA6', 'NCOR1', 'PRKACA', 'RAC1', 'SEH1L', 'PPP2CA', 'VDAC3', 'RAB6C', 'PSMA5', 'ACACB', 'PRKAR2A', 'TGFBR1', 'RPS27', 'PSMB4', 'RAB6B', 'KIAA0368', 'ACO2', 'PRKCB1', 'PSMB3', 'PSMB1', 'PRMT1', 'KPNA5', 'PSMA2', 'PSMB5', 'PSMA1', 'ARHGAP15', 'SMARCA2', 'MOBKL1B', 'KPNA6', 'PSMA3', 'CDK2', 'COPB2', 'PSMC6', 'CCT2', 'PFKP', 'PDPK1', 'PRDX2', 'RPS7P1', 'PSMD3', 'CCT8', 'OAT', 'MMS19', 'CCT4', 'SMARCA4'], 77: ['DYNLL1'], 78: ['EYA3', 'EYA1', 'PSMA6', 'RPS27'], 79: ['HIST1H3J', 'HIST1H3E', 'HIST1H3D', 'HIST1H3C', 'HIST1H3B', 'HIST1H3A', 'H3F3AP6', 'HIST2H3A', 'HIST1H3H', 'PRDX1', 'HDAC1', 'ACTG2', 'CAPZB'], 82: ['UBE4B', 'IL12RB1', 'NFX1', 'PRPF8', 'NHP2L1', 'PTK2', 'OLA1'], 83: ['FRY', 'NOLA1', 'RBM19', 'ENO3', 'FBXW8', 'SLC25A1', 'SF3B4', 'TP53', 'MTHFD1', 'HIST1H3J', 'HIST1H3E', 'HIST1H3D', 'HIST1H3C', 'HIST1H3B', 'HIST1H3A', 'H3F3AP6', 'MARS', 'RFC2', 'HIST2H3A', 'HIST1H3H', 'PCNA', 'GRWD1', 'RPS28', 'NOP58', 'RPS10', 'POLE', 'PTPN11', 'PRPF6', 'MMS19', 'TOP1'], 85: ['SMURF2', 'POLR1D', 'SLIT2', 'PTPN14', 'TGFBR1', 'IRS4', 'PPP6C', 'OAT'], 86: ['KLHL8', 'THUMPD1', 'CYCS', 'USP8', 'PPP2R2C', 'RICTOR', 'SEC16A', 'MORF4L1', 'MAP3K4', 'DEPDC5', 'MARK1', 'PSMD7', 'TPM2', 'TPR', 'BXDC1', 'PGD', 'VAV2', 'TNIK', 'RANBP5', 'UBE2G2', 'NUP153', 'TUBG1', 'AURKB', 'TNK1', 'PSMD11', 'NUP133', 'TPM1', 'PPP2CA', 'MARK3', 'MDN1', 'PSMD8', 'BRD3', 'TP53', 'ARAF', 'UBR2', 'PRKAB1', 'MCM7', 'HUWE1', 'TGFBR1', 'PSMD13', 'BRAF', 'BCR', 'RBL2', 'PSMC5', 'RPN1', 'RANBP2', 'PSMD1', 'NOL6', 'PSMC1', 'MAT1A', 'NEK9', 'TUBA1B', 'AP2M1', 'WEE1', 'PSMD3', 'TOP1', 'HADHB'], 87: ['RAB6C'], 89: ['CCR5', 'DOHH', 'PYCRL', 'ARCN1', 'CANX', 'BIN3', 'RRM2', 'EIF3G', 'ME1', 'COPB1', 'EIF2B1', 'STIP1', 'IDH3G', 'PCMT1', 'PDHA1', 'HSPA6', 'RBM34', 'PSMA3', 'ARRB1', 'COPB2', 'COPA', 'CCT2', 'COPG'], 91: ['NCOA5', 'RANBP3', 'MRE11A', 'FECH', 'MCM4', 'XAB1', 'DDX47', 'RAD52', 'LDB3', 'POLE2', 'NOLA1', 'RPS15', 'MCM5', 'EIF1B', 'DHX30', 'STIP1', 'CPSF1', 'DDX17', 'CUL1', 'PRPF3', 'BYSL', 'NCBP2', 'EIF2S3', 'DICER1', 'IMPDH2', 'TNPO1', 'PSMD8', 'SSRP1', 'HNRNPL', 'PCAF', 'KRT10', 'RCC2', 'SLC25A6', 'PSMD13', 'EIF5AP1', 'MTHFD1', 'RPL9P7', 'RPL9', 'RBL2', 'CPSF3', 'HEATR1', 'HIST1H2BD', 'H2BFS', 'HIST2H2BA', 'HIST1H2BJ', 'HIST3H2BB', 'HIST1H2BB', 'RPL38', 'PCNA', 'IKBKE', 'HIST1H2BM', 'EIF6', 'CCT5', 'VCP', 'GRWD1', 'ACTR2', 'HIST2H2BF', 'COPA', 'SFPQ', 'POLR2C', 'RPS10', 'KIAA0664', 'NAT10', 'HIST1H2AH', 'HIST1H2AC', 'EIF4E'], 93: ['CREB1', 'RAD17', 'MDM2', 'KCNMA1', 'DHCR7', 'MRPS15', 'EPHB3', 'SIRT2', 'IGF1R', 'INSR', 'EIF2C2', 'AATF', 'AKT1', 'LYAR', 'MAP2K1', 'MCM2', 'GEMIN4', 'MAPK8', 'ILF2', 'EPHB1', 'SYNE1', 'SUMO4', 'FANCD2', 'GAK', 'DHX30', 'CFL2', 'SETX', 'MAP3K14', 'RPL29', 'NUP153', 'FLNB', 'SRSF10', 'MAPK9', 'SLC25A13', 'ITPR3', 'CSNK1A1', 'PPP1CA', 'KRT18', 'MSH6', 'SLC25A6', 'RPL15P3', 'KRR1', 'PHB2', 'PHB', 'ARPC5', 'BCR', 'MSH2', 'PIK3C2A', 'MARS', 'IRS4', 'RPL13AP25', 'ABL1', 'JAK2', 'SSR4', 'EIF3E', 'MAPK14', 'EIF3A', 'UTP20', 'EIF4A3', 'RPL38', 'DDB1', 'RPL28', 'PSMC1', 'CCT5', 'EIF3C', 'CAMK2A', 'MAPK3', 'EIF3B', 'NEK9', 'IMPDH1', 'SLC25A5', 'RPS26P8', 'RPS26P10', 'RPS10', 'POLE', 'RBM10', 'PSMD3', 'IPO9', 'ACTC1', 'SLC25A3', 'PTK2B', 'EIF4B', 'HNRNPC', 'RPS26', 'NAT10', 'HADHB', 'DDX1', 'MYBBP1A'], 94: ['CHKB', 'DDX23', 'PAPOLA', 'POLR2G', 'POLR2J', 'MSH6', 'DCD', 'PHB2', 'POLR1E', 'PIK3C2A', 'CPSF3', 'ARRB2', 'ACTA1', 'POLR2D', 'RPL28', 'POLR2H', 'POLR2F', 'DDX20', 'POLR2L', 'RBM10', 'TCOF1', 'P4HB', 'PRPF6', 'YES1', 'HNRNPC', 'DDX1', 'MYBBP1A'], 96: ['PRKCB1', 'MAPK3'], 98: ['PPIF', 'IKBKE', 'HSP90AA2'], 99: ['FBXL11', 'CLEC4M', 'LAPTM5', 'HLA-B', 'EIF4ENIF1', 'TNPO1', 'MCM7', 'GTF3C4', 'RAB6B'], 100: ['AKT1', 'VHL'], 101: ['MAP3K2', 'PAK4', 'MLLT4', 'CSNK1A1', 'PTK2', 'CAMK2A', 'RBM10', 'PPIAP22', 'PPIA', 'PPP1R12A', 'SPDYA', 'YES1'], 102: ['TFG', 'PIN1', 'ANP32A', 'CAMK2B', 'CAMK2G', 'CREBBP', 'TNK1', 'PRKAB1', 'CCNH', 'WEE1', 'PPP2R1A', 'HDAC1'], 103: ['RPS26P8', 'RPS26P10', 'RPS26'], 105: ['VAMP4', 'USP12', 'SBF1', 'SEPT5', 'STXBP2', 'PI4KA', 'SYT1', 'STXBP1', 'NSF', 'CREBBP', 'ARPC5L', 'RBL2', 'NOC4L', 'RRP12', 'PSMD1', 'EIF6', 'PFKP'], 106: ['PSMB2', 'ACTN2', 'PSMB4', 'PSMB3', 'PSMB1', 'PSMA2', 'PSMB5', 'PSMA1', 'PSMA3', 'RPS7P1'], 108: ['PIK3R1', 'KRT10'], 109: ['SET', 'HTATIP', 'TAF9', 'PRMT1', 'LOC440926', 'H3F3B'], 111: ['SUMO3', 'LDHA', 'HRAS', 'USP7', 'MCM5', 'SUMO4', 'VHL', 'MAP3K7', 'PHGDH', 'HUWE1', 'CTNNB1', 'TRAF6', 'DNAJA3', 'PSMC6', 'PTPN11'], 112: ['ABL1'], 113: ['CDKN2B', 'HAS1', 'KRT6B', 'IGBP1', 'HIRA', 'IVL', 'SAE1', 'PNN', 'IDE', 'GNAS', 'FRY', 'SNORA7A', 'MYO1E', 'MED23', 'GLUL', 'MAPK8', 'CHKB', 'AHCY', 'PPAN-P2RY11', 'CORO1C', 'PSMD7', 'BXDC1', 'LSM1', 'PGD', 'KRT8', 'PWP1', 'DPM1', 'TBL1XR1', 'MDH2', 'WDR46', 'CREBBP', 'RPL26L1', 'TUBG1', 'CAMKK2', 'PHGDH', 'EIF4ENIF1', 'PPA1', 'SLC25A12', 'RBM28', 'KIAA0020', 'PPP2CA', 'RAB6C', 'CSNK1A1', 'SSRP1', 'RPL37A', 'MCM7', 'RBM34', 'RPS27', 'DCD', 'KIAA0368', 'ACO2', 'RPL9P7', 'RPL9', 'EIF3CL', 'KPNA5', 'TUFM', 'MAPK14', 'EIF3A', 'ATP1A1', 'UPF1', 'RANBP2', 'UTP20', 'RPL38', 'TRAF6', 'IKBKE', 'DDX39B', 'BAT1', 'KPNA6', 'RANP1', 'NOL6', 'CCT5', 'GRWD1', 'EIF3C', 'RPS28', 'EIF3B', 'PSMC6', 'RPS10', 'PRDX2', 'RPS7P1', 'PPP6C', 'OLA1', 'CCT8', 'EIF4G3', 'MMS19', 'RPS26', 'KIAA0664', 'HADHB'], 114: ['JUND', 'GLI2', 'GTF2F1', 'SMAD4', 'SMAD3', 'SMC1A', 'RBBP4', 'MSH3', 'POLR2K', 'GTF2F2', 'CREBBP', 'CHEK2', 'DLG4', 'TUBG1', 'CDK9', 'RNPS1', 'TNK1', 'RPS6KA3', 'ANAPC5', 'POLR2G', 'TP53', 'POLR2J', 'POLR2I', 'AURKA', 'MSH2', 'MNAT1', 'ABL1', 'MAPK14', 'POLR2D', 'MAP3K3', 'POLR2H', 'CDK2', 'POLR2F', 'CAMK2A', 'MAPK3', 'POLR2L', 'POLR2C', 'TOP2A', 'WEE1', 'TCOF1', 'PTK2B', 'YES1'], 115: ['KRAS', 'ERBB2', 'MAPK8', 'KIT', 'MLLT4', 'TNK1', 'ARAF', 'LYN', 'BRAF', 'PTK2', 'MAPK3', 'WEE1', 'PTK2B'], 116: ['CCR1', 'NDUFA13', 'IL23R', 'IL10RA', 'IL2RA', 'IL6R', 'IL7R', 'IFNAR2', 'CSF3R', 'IFNAR1', 'IL2RB', 'LEPR', 'IL6ST', 'GHR', 'SH3GL3', 'CSF2RB', 'PKP2', 'ATXN1', 'HIPK3', 'CENPF', 'BCAR1', 'LCK', 'EPS15', 'MAP3K7', 'STAT1', 'GTF2I', 'PIK3R2', 'SRP14', 'IRAK1', 'PABPC3', 'ARD1A', 'RPL29', 'MLLT4', 'KRT17', 'CTNND1', 'PSME4', 'XPOT', 'ITPR3', 'PPP1CA', 'KRT18', 'HUWE1', 'PTPN14', 'GTF3C4', 'PHB', 'CTNNA1', 'GTF3C1', 'IRS4', 'ATP2A2', 'MAP3K1', 'LMO7', 'RPN1', 'DGKZ', 'CBLB', 'ATP1A1', 'EIF4A3', 'CDC2L5', 'NDUFS1', 'ABLIM1', 'RPL28', 'RPN2', 'DNAJA3', 'SLC25A5', 'RPS26P8', 'RPS26P10', 'AP2M1', 'PTPN11', 'HDAC1', 'DDX18', 'IPO9', 'SLC25A3', 'OAT', 'EIF4B', 'YES1', 'HNRNPC', 'RPS26', 'NAT10', 'HADHB', 'DDX1', 'MYBBP1A'], 118: ['TLR4', 'COL1A2', 'APOB', 'SAP18', 'ITGB2', 'PTMA', 'PLSCR1', 'COL1A1', 'IWS1', 'HSD17B12', 'CHAF1B', 'MYB', 'SPNS1', 'PUS7', 'EPHA7', 'SMAD4', 'ERBB2', 'HCLS1', 'SMAD2', 'SMAD3', 'APP', 'PLK4', 'TNFRSF14', 'APLP1', 'PXN', 'DYRK1A', 'VAV2', 'PIK3R2', 'MYO1A', 'CPSF1', 'EP300', 'ATP6V0D1', 'POLR2K', 'CREBBP', 'FLNB', 'AFF4', 'RNPS1', 'ANAPC5', 'HDAC6', 'CRKRS', 'BRD3', 'IQGAP1', 'PDHA1', 'FRAP1', 'G3BP1', 'DLD', 'RBL2', 'MNAT1', 'NOC4L', 'UBR5', 'RRP12', 'POLR2D', 'MAP3K3', 'CBLB', 'ARPC2', 'DDB1', 'DDX39B', 'BAT1', 'CDK2', 'VCP', 'MAT1A', 'RSL1D1', 'NOP58', 'TUBA1B', 'AP2M1', 'TCOF1', 'OAT', 'P4HB', 'SMARCC2', 'YES1', 'CCT4', 'SMARCA4'], 119: ['PLCG1', 'ROCK1', 'KRT14', 'MCC', 'HIST1H1C', 'PES1', 'FASN', 'ARRB2', 'ACTA1', 'CLTA', 'MPRIP', 'HDAC1', 'YES1'], 120: ['PDHB', 'EWSR1', 'GRIN1', 'MAP2', 'DLG4', 'ACTN2', 'TRAF6', 'CAMK2A', 'PRDX2', 'HNRPD'], 122: ['LEO1', 'POLR2D', 'POLR2C'], 125: ['ATP1A3', 'COPB1', 'PRPF40A', 'SMARCB1', 'PSMD1', 'PPP2R1A', 'TOP1'], 126: ['UTP3', 'FHL2'], 128: ['HNRPUL1', 'APP', 'TBL1XR1', 'RANBP5', 'CCT2', 'DDX18', 'NAT10'], 130: ['USF1', 'ALDH3A1', 'GADD45G', 'NIF3L1', 'HSPE1', 'SCD', 'ZBTB16', 'HSD17B12', 'SOD2', 'UTP14A', 'MED24', 'ARF1', 'SNRPF', 'RAD23B', 'SMAD2', 'MYO5B', 'MED1', 'SMARCD3', 'DST', 'CHD4', 'DUT', 'SVIL', 'CREBBP', 'NCOR1', 'ABLIM1', 'SMARCA4'], 131: ['ACTA1'], 134: ['PFDN2', 'APLP1', 'HDAC1'], 135: ['NCOA2'], 137: ['CTH', 'MLST8', 'EIF3H', 'ATIC', 'RALA', 'AC004453.8', 'FDPS', 'AARS', 'PSMD10', 'EIF2B5', 'EIF2B4', 'SNORA7A', 'PYGL', 'RPS29', 'HRAS', 'EIF2B3', 'NARS', 'SOD1', 'PRPF31', 'PSMB2', 'EIF3G', 'UBE1', 'SUMO4', 'LARS', 'EIF2B1', 'PRKCG', 'PPIF', 'ADK', 'VARS', 'EIF1B', 'EIF3J', 'GNL2', 'EIF2S2', 'EIF2S1', 'SEC13', 'KARS', 'ALDOA', 'ARFGEF2', 'STIP1', 'DARS', 'LSM2', 'CDK5', 'PSMA6', 'RPS12', 'RAC1', 'PRPF3', 'PRKAA2', 'BYSL', 'EIF2S3', 'TARS', 'EIF5B', 'PSMD8', 'PRPF4', 'KRT18', 'ACTN1', 'PRKAR2A', 'RPL15P3', 'MYO1B', 'RPS27', 'EIF5AP1', 'KIAA0368', 'MTHFD1', 'CCNH', 'ATR', 'RPL9P7', 'RPL9', 'EIF3CL', 'PLS3', 'DLD', 'PRKCB1', 'PSMB3', 'MNAT1', 'ARPC3', 'HDLBP', 'RRP12', 'EIF3A', 'MAP3K3', 'EIF4A3', 'RPL38', 'PSMD1', 'IKBKE', 'LARP2', 'CDK2', 'GRWD1', 'EIF3C', 'MAT1A', 'MAPK3', 'COPA', 'IMPDH1', 'POLE', 'PFKP', 'PRDX2', 'TUBA1B', 'RPS7P1', 'AP2M1', 'COPG', 'OLA1', 'PTPN11', 'OAT', 'EIF4G3', 'PRPF6', 'KIAA0664', 'EIF4E'], 138: ['KPNA5', 'KPNA6'], 139: ['GNG10', 'GNG3', 'CNKSR2', 'WWP1', 'PFKFB2', 'WWP2', 'USP22', 'USP7', 'EIF2S2P4', 'HTATIP', 'EIF2S2', 'SNRPD3', 'HLA-B', 'SUMO1P3', 'TAF12', 'NME2', 'TAF5', 'RBL2', 'CTNNB1', 'TRAF6', 'LARP2', 'RPS7P1'], 140: ['WIF1', 'CER1', 'PORCN', 'FZD6', 'FZD10', 'SFRP5', 'SFRP4', 'SFRP1', 'FZD9', 'FZD2', 'FZD3', 'SFRP2', 'FZD5', 'FZD7', 'FZD4', 'FZD8', 'FZD1', 'PRIM2', 'MRPL12', 'MED15', 'CEBPZ', 'MED1', 'KCNAB1', 'DDX27', 'NOL10', 'BXDC1', 'RRP1B', 'MED6', 'WDR12', 'CDK8', 'RPAP2', 'PWP1', 'PRPF4B', 'EBNA1BP2', 'CDK4', 'NOL1', 'NOC2L', 'RBM28', 'HDAC6', 'KIAA0020', 'GTPBP4', 'EIF5B', 'KRI1', 'PES1', 'RBM34', 'PRKAR2A', 'KRR1', 'TSR1', 'RBL2', 'NOC4L', 'UBR5', 'HEATR1', 'RRP12', 'UTP20', 'ACTR3', 'DDX39B', 'BAT1', 'EIF6', 'BOP1', 'ACTR2', 'RSL1D1', 'CCT3', 'NOP58', 'POLR2L', 'DDX18', 'RPA1', 'TCOF1', 'P4HB', 'EIF4G3', 'KIAA0664', 'NAT10'], 142: ['IKBKE', 'HIST1H2BM', 'EPRS', 'IMPDH1', 'EIF4G3', 'SMARCC2', 'HIST1H2AH', 'HIST1H2AC', 'EIF4E'], 143: ['DHX30', 'PHB2', 'MOBKL1B', 'RANP1', 'CAMK2A', 'PRDX1', 'SPDYA'], 145: ['DYNLT1', 'SEPT9', 'WASL', 'GAS7', 'SV2B', 'WIPF1', 'SMAD4', 'WAS', 'GRAP', 'DNAJB1', 'CAP2', 'CAP1', 'CDK4', 'PRKACA', 'PPM1A', 'BMP2K', 'ARPC5L', 'ARPC3', 'PCNA', 'ACTR3', 'ACTR2', 'PPIAP22', 'PPIA', 'WEE1', 'PPP1R12A', 'TUBB3', 'ACTG2', 'RPA1', 'ACTC1', 'DBN1'], 147: ['ATF7IP', 'RRM2', 'POLR3B', 'IARS', 'PMM2', 'ABCF3', 'AP2A2', 'IDH3G', 'NME2', 'ACACB', 'TAF5', 'UTP20', 'PSMD1', 'SMARCA2', 'MAT1A', 'COPB2', 'COPA', 'RPS7P1', 'RBM10', 'COPG', 'PSMD3', 'RPA1', 'SMARCC2', 'SMARCA4'], 148: ['GTPBP3', 'DICER1', 'TRAF6'], 150: ['PICALM', 'SKIL', 'RAB11FIP2', 'TBC1D4', 'CD4', 'GNAI2', 'ATF2', 'SERBP1', 'PABPC4', 'EIF2S1', 'VHL', 'CFL2', 'RIPK2', 'MAP3K7', 'MAP3K2', 'AP2A2', 'PAK4', 'MARK2', 'FLNB', 'MLLT4', 'ULK3', 'ANXA6', 'SMARCD1', 'TNPO1', 'MARK3', 'ARAF', 'CSNK1A1', 'CSNK1G3', 'MYL12A', 'BRAF', 'SLC25A4', 'TUFM', 'LMO7', 'PTK2', 'DDB1', 'ABLIM1', 'RPLP1', 'AP2M1', 'HNRPD', 'CAPZB', 'HADHB'], 151: ['BUB1B', 'PCNA'], 152: ['CREBBP', 'HDAC6', 'DCD', 'MAPK14', 'CCT3', 'DBN1'], 154: ['STK3', 'RB1', 'MED15', 'PAK2', 'BRCA1', 'MAPK8', 'GNAI2', 'NCK1', 'BCAR1', 'TBK1', 'EPHB4', 'TNK2', 'MAPK9', 'CRKRS', 'BRD3', 'TP53', 'ARAF', 'MAP2K2', 'LYN', 'NME2', 'AURKA', 'FRAP1', 'MTHFD1', 'BRAF', 'ACTA1', 'MAP3K3', 'PTK2', 'TRAF6', 'IKBKE', 'DDB1', 'CDK2', 'PTK2B', 'YES1'], 155: ['IGKC', 'C1QA', 'IGHV4-31', 'CRK', 'APOA1', 'ALB', 'SETX', 'MLLT4', 'KRT1', 'MAP2K2', 'KRT10', 'FGFR1', 'ABL1', 'KPNA5', 'LMO7', 'KPNA6', 'CAMK2A', 'MAPK3', 'PDPK1', 'PTK2B'], 156: ['SETDB1', 'HSP90AA2'], 157: ['ATF7IP', 'ATXN1', 'AP2A2', 'NHP2L1', 'POLR2L'], 158: ['LSM8', 'C1S', 'GTF2E2', 'USO1', 'SMURF2', 'GTF2E1', 'CUL4B', 'SMAD9', 'CUL4A', 'PABPN1', 'CUL3', 'SNW1', 'SIP1', 'CUL2', 'IGHV4-31', 'MRPS16', 'TCEB1', 'MRPL12', 'TCEB2', 'C3orf26', 'SF3B6', 'SMAD4', 'PHF5A', 'ZNF593', 'MED10', 'PCBP2', 'DDX24', 'DDX50', 'MED7', 'EIF2A', 'GTF2B', 'NMD3', 'GNL2', 'IARS', 'FUSIP1', 'KARS', 'MED6', 'CDK8', 'SETX', 'MDH2', 'HLA-B', 'DIAPH1', 'SRSF10', 'CUL1', 'PRPF3', 'KIAA0020', 'DICER1', 'TNPO1', 'GTPBP4', 'PSMD8', 'SSRP1', 'HNRNPL', 'KRI1', 'PES1', 'ACACB', 'PRKAR2A', 'GTF3C4', 'PSMD13', 'PHB', 'KIAA0368', 'GTF3C1', 'TAF5', 'UBR5', 'KPNA5', 'TAF6', 'PRPF8', 'SAPS3', 'CBLB', 'UPF1', 'NEDD4L', 'DDB1', 'DDX39B', 'BAT1', 'KPNA6', 'EIF6', 'DDX20', 'RSL1D1', 'RPS28', 'EPRS', 'EIF3B', 'IMPDH1', 'RPS10', 'RPS7P1', 'CTPS', 'DDX18', 'EIF4G3', 'SMARCC2', 'HNRNPC', 'MYBBP1A', 'CCT4', 'EIF4E'], 159: ['HLA-B', 'ATAD3A', 'KRT18', 'MYL12A', 'IRS4', 'ARPC2', 'TRAF6', 'ABLIM1', 'CCT5', 'CCT2', 'PRDX1', 'MPRIP', 'PPP1CB', 'CAPZB', 'DBN1'], 161: ['RAD54B', 'HIPK2', 'NEDD4', 'RECQL', 'ATPBD1C', 'FEN1', 'PRDM1', 'TCEA1P2', 'CAB39', 'CKS2', 'TBCK', 'FXR2', 'PLAA', 'C20orf191', 'HMGB1', 'MORF4L1', 'GRAP', 'DNAJB1', 'RPA2', 'DDX50', 'NUP107', 'ALB', 'EIF2S2', 'SUPT3H', 'MED6', 'LSM1', 'SART1', 'ABCF3', 'CDK5', 'NCOR1', 'PGK1', 'HDAC6', 'RFC3', 'POLR2G', 'POLR2J', 'POLR2I', 'POLR2D', 'PCNA', 'NEDD4L', 'POLR2H', 'POLR2F', 'EPRS', 'POLR2L', 'POLR2C', 'RPS10', 'PRDX2'], 163: ['MED12', 'SUMO1P3', 'PRKAA2', 'RANP1', 'RBBP7', 'MAT1A', 'P4HB'], 165: ['DLAT', 'SEH1L', 'POLR2G', 'POLR2J', 'POLR2D', 'NHP2L1', 'POLR2H', 'POLR2F', 'BOP1', 'POLR2C', 'RPS10', 'SMARCC2'], 166: ['TPR', 'BMS1', 'TYK2', 'JAK1', 'NOC2L', 'KRR1', 'JAK2', 'ARHGAP15', 'DDX18'], 167: ['EXOSC10', 'MLLT1', 'SEC13', 'KPNA5', 'DDX39B', 'BAT1', 'KPNA6', 'GSK3B', 'VCP', 'SMARCA4'], 168: ['RALA', 'SEPT6', 'ACSS2', 'CDC42', 'H2AFV', 'H2AFZ', 'SFN', 'DLG4', 'NCOR1', 'PCAF', 'ACTN2', 'PSMB3', 'KPNA5', 'KPNA6', 'ACTR2', 'CCT3', 'CCT2', 'PFKP', 'PRDX2', 'CCT8', 'CCT4', 'SMARCA4'], 169: ['EIF4E'], 170: ['PFDN1', 'VPS72', 'NSFL1C', 'YEATS4', 'HMGB1', 'MORF4L1', 'POLR3F', 'GTF3C4', 'GTF3C1', 'GTF3C3', 'POLR1E', 'PRMT1'], 171: ['EP300', 'PTK2'], 172: ['USO1', 'EIF1B', 'PRMT1', 'EIF6', 'RPS28'], 174: ['PRKCB1', 'PCNA', 'RPS26P8', 'RPS26P10', 'RPS26'], 175: ['NR3C1', 'TXN', 'TCEB2', 'CAMK2A', 'MAPK3'], 176: ['NDC80', 'EIF5', 'EIF3CL', 'EIF3A', 'IKBKE', 'EIF3C', 'CCT3', 'EIF3B', 'COPB2', 'SFPQ', 'CCT2', 'RPA1'], 177: ['FLNB'], 180: ['EHMT2', 'ACTN2', 'ACTA1', 'EIF6'], 182: ['CD8A', 'ITGA2', 'ZAP70', 'CD4', 'SPAST', 'GRAP', 'PLCG1', 'CBL', 'LCK', 'NEDD4L'], 183: ['TOP3A', 'STK3', 'NES', 'RECQL', 'EXO1', 'TJP1', 'ASF1B', 'UBE2I', 'EXOSC10', 'TPM3P4', 'GRIN2A', 'CASP3', 'GRIN2B', 'MYH11', 'GRIN1', 'ILF2', 'NF1', 'DLG3', 'TPM3', 'NSF', 'CD59', 'CDK5', 'SQRDL', 'DLG4', 'TYK2', 'POLD1', 'SEC61A1', 'JAK1', 'RAC1', 'RPS6KA3', 'MRPS22', 'TAF12', 'ACTN2', 'MYO1B', 'BRAF', 'ACO2', 'PRKCB1', 'JAK2', 'ATP2A2', 'LOC440926', 'H3F3B', 'ATP1A1', 'GSK3B', 'DDX20', 'CAMK2A', 'MAPK3', 'NEK9', 'DNAJA3', 'PDPK1', 'PPP6C', 'ACTG2', 'PTK2B', 'HNRNPC'], 184: ['RAB11FIP5', 'LEO1', 'EIF3A', 'ARRB1', 'COPB2', 'HNRPD', 'IDH3A'], 185: ['HDAC1', 'CCT4'], 186: ['PRKG1', 'ZDHHC17', 'THBS1', 'UBE2I', 'SMAD4', 'CAMK1D', 'PRKACA', 'FGFR1', 'RAB6B', 'TAF6', 'COPB2', 'CCT8'], 187: ['ARF6', 'TSR1', 'BRAF', 'DLD', 'UPF1', 'CCT5', 'ACTR2', 'EPRS', 'CCT2', 'CCT8', 'SLC25A3'], 188: ['HBD', 'ITGB3', 'EIF4E2', 'ATP6V1D', 'KLC2', 'WIPF1', 'BAD', 'PDHB', 'HCLS1', 'MYO1E', 'MYO5B', 'EIF2S2P4', 'DDX10', 'EIF1B', 'EIF2S2', 'TPM3', 'PSMD8', 'RBM34', 'BXDC2', 'LOC440926', 'H3F3B', 'LMO7', 'RRP12', 'UTP20', 'NEDD4L', 'IMPDH1', 'PSMC6', 'RPLP1', 'PRDX2', 'RPS7P1', 'PPP2R1A', 'OLA1', 'P4HB', 'EIF4G3', 'KIAA0664', 'EIF4E'], 190: ['NCAPG', 'S100A7', 'JAK3', 'RB1', 'PDLIM5', 'NSUN2', 'SMAD3', 'SDHA', 'PCBP2', 'PLCG1', 'HELLS', 'SMC2', 'STAT3', 'SPIN3', 'SPIN2B', 'VDAC4', 'VHL', 'BOLA2B', 'CPNE1', 'SLC25A11', 'MAP3K14', 'HIST1H1A', 'ARHGAP21', 'CDK4', 'ERH', 'CAPN1', 'NCOR1', 'ARHGEF6', 'HIST2H2AB', 'RAB11FIP5', 'SPIN1', 'NUP133', 'VPS35', 'MAP3K7IP1', 'TUBB2A', 'HTATSF1', 'SMARCC1', 'ACTN2', 'CSNK1A1L', 'STK38', 'HDGFRP2', 'SAG', 'PRKAB1', 'DGKE', 'NOLA3', 'ZRANB2', 'DCD', 'PCBP1', 'CTNNA1', 'PPM1B', 'PPM1A', 'H1FX', 'TUBA1C', 'SCYL2', 'IRS4', 'PSMB3', 'LEO1', 'TUBA3D', 'TUBA3C', 'CLTB', 'CHUK', 'SMC4', 'ARRB2', 'DGKZ', 'RANBP2', 'CDC2L5', 'IKBKE', 'CLTA', 'MOBKL1B', 'GSK3B', 'ARRB1', 'EEF1A2', 'RPN2', 'SFPQ', 'CCT2', 'RPLP1', 'RBM10', 'HNRPD', 'PPP2R1A', 'PPP1R12A', 'TUBB3', 'IDH3A', 'HDAC1', 'TCOF1', 'EIF4B', 'PRPF6', 'HNRNPC', 'HADHB', 'DDX1', 'CCT4', 'SMARCA4'], 191: ['IRAK2'], 193: ['CAPZB'], 195: ['MDH1', 'PKP3', 'EIF3M', 'ARCN1', 'AARS', 'PGM1', 'MRPS16', 'LDHA', 'ERCC4', 'SMAD3', 'RPL7P9', 'SRPK2', 'COPB1', 'ETF1', 'VDAC2', 'VDAC4', 'KARS', 'MCC', 'TNIK', 'DARS', 'RPL26L1', 'PHGDH', 'PRPF3', 'TARS', 'TNPO1', 'ACTN2', 'RACGAP1', 'PHB2', 'MTHFD1', 'PLS3', 'TTLL3', 'SLC25A4', 'MYL12B', 'ARPC3', 'XPO5', 'TUFM', 'LMO7', 'ARPC2', 'PSMD1', 'TRAF6', 'DDB1', 'RANP1', 'ABLIM1', 'COPB2', 'COPA', 'IMPDH1', 'SLC25A5', 'PRDX1', 'MPRIP', 'WEE1', 'CTPS', 'CAPZB', 'DBN1', 'NAT10'], 196: ['PRKCD'], 198: ['ABL1'], 199: ['DLL1', 'CCNB1', 'PIAS1', 'FGFR1', 'PRKCB1', 'PTK2', 'PDPK1'], 200: ['SMPD2', 'BCOR', 'KMT2B', 'CTBP2', 'SPEN', 'TAF4', 'FGF20', 'EHMT1', 'TFDP1', 'PHC3', 'MAP3K7IP2', 'DNALI1', 'ELL2', 'NCOR2', 'HCFC1', 'HIPK3', 'PFDN2', 'CDC23', 'ACTR6', 'MED23', 'SORCS2', 'SORT1', 'TBL1XR1', 'NCOR1', 'DCD', 'DDB1', 'DDX20', 'POLR2C', 'OLA1'], 202: ['SON', 'SMYD2', 'TRPM7', 'SLC1A5', 'DNAJB12', 'ARHGDIA', 'VIL2', 'JARID2', 'PTPN6', 'RBBP6', 'FMR1', 'ARID4B', 'CASP8', 'SPAST', 'SLC9A3R1', 'BAG2', 'METTL7A', 'ACTR3B', 'DDX21', 'LRRC59', 'MED12', 'IKBKG', 'MED1', 'CHKB', 'SYNE1', 'DDX50', 'DGKG', 'FANCD2', 'KRT14', 'PFKFB3', 'SLIT2', 'STAT1', 'PRPF4B', 'CSN2', 'DNAJA1', 'HLA-B', 'SEC61A1', 'JAK1', 'ACTBL2', 'POTEKP', 'AP3D1', 'SDC3', 'RAC1', 'MAP1B', 'HIST1H1C', 'SLC25A13', 'ZNF281', 'HIST2H2AB', 'ATP5J2', 'RAB11FIP5', 'DICER1', 'ARR3', 'XPOT', 'G3BP2', 'U2SURP', 'MAP3K7IP1', 'TUBB2A', 'ARL1', 'STK38', 'KRT10', 'HDGFRP2', 'SAG', 'HSPA6', 'DGKE', 'PTPN14', 'NOLA3', 'ZRANB2', 'KRR1', 'DCD', 'SUCLG1', 'PPM1B', 'PPM1A', 'IGF2BP2', 'TUBA1C', 'SCYL2', 'IRS4', 'UBR5', 'TUBA3D', 'TUBA3C', 'JAK2', 'CHUK', 'SSR4', 'FASN', 'SMC4', 'ATP2A2', 'ARRB2', 'ACTA1', 'DGKZ', 'ATP1A1', 'UPF1', 'RANBP2', 'TRAF6', 'IKBKE', 'CLTA', 'RPL28', 'ARRB1', 'EEF1A2', 'KPNA2', 'DDX20', 'RSL1D1', 'CCT3', 'NOP58', 'DNAJA3', 'SLC25A5', 'HSP90AA2', 'RBM10', 'PPIAP22', 'PPIA', 'PPP6C', 'PTPN11', 'ACTG2', 'TCOF1', 'ACTC1', 'SLC25A3', 'EIF4B', 'P4HB', 'MMS19', 'MYBBP1A'], 203: ['STX1A'], 204: ['PIK3R1'], 205: ['PML', 'SP1', 'RB1', 'ATP1A1'], 206: ['SF3B4', 'NOC4L', 'TAF6'], 207: ['SMAD3', 'XPO5'], 208: ['HMOX1', 'UBE3A', 'KLHDC2', 'EXOC5', 'GPI', 'GNB2', 'PSMB7', 'CYCS', 'PSMB6', 'KLC2', 'ATP1A3', 'GNAS', 'GNB4', 'TCEB2', 'ANAPC1', 'PDHB', 'GRIN2A', 'AKT1', 'ERCC2', 'GRIN2B', 'GNB1', 'MYH11', 'DLG1', 'PSMB2', 'GRIN1', 'DLAT', 'IRS1', 'EIF1B', 'DLG3', 'WDR26', 'AHSA1', 'ARD1A', 'UBE2G2', 'DLG4', 'PSMA6', 'ARHGEF6', 'RAC1', 'ACTN2', 'NME2', 'PSMA5', 'HUWE1', 'PSMB4', 'PHB2', 'PHB', 'PIK3C2A', 'PSMB3', 'PSMB1', 'UBR5', 'PSMA2', 'PSMB5', 'ATP1A1', 'PSMA1', 'NEDD4L', 'IKBKE', 'RANP1', 'PSMA3', 'EIF6', 'PSMC1', 'VCP', 'CAMK2A', 'PRDX1', 'PRDX2', 'WEE1', 'CTPS', 'RPA1', 'ACTC1', 'P4HB', 'DBN1', 'SMARCA4'], 209: ['HGS', 'TJP1', 'TPM3P4', 'POLR3A', 'TPM3', 'S100A9', 'PCMT1', 'HSPA6'], 210: ['TAF2', 'RAD50', 'SUMO4', 'TAF1', 'EP300', 'TAF9', 'MYC', 'ERCC3', 'TAF12', 'TBP', 'SLC25A6', 'TAF5', 'MSH2', 'MNAT1', 'TAF6', 'DDB1', 'EIF3B'], 211: ['MUC1', 'PTPRC', 'PTPN6', 'CAV1', 'CBL', 'LCK', 'SEC61A1', 'GANAB', 'AP3D1', 'CTNNB1', 'ABL1', 'MAPK14', 'CBLB', 'GSK3B', 'HDAC1', 'PTK2B', 'P4HB'], 212: ['TOP2A', 'HDAC1'], 213: ['SOCS1', 'KRT14', 'PIK3R2', 'SOS1', 'JAK2'], 216: ['CTSL1', 'PRSS1', 'CNOT1', 'VHL', 'POLR2I', 'KRT10', 'PCBP1', 'RBL2'], 219: ['NR3C2', 'HBD', 'RAD54L', 'STAT5A', 'SKIL', 'FAHD1', 'HBA2', 'HBA1', 'CDK5RAP3', 'FTSJ1', 'CALR', 'HSPA4', 'SLC9A3R1', 'PRDX5', 'AR', 'BIN3', 'SMAD2', 'SMAD3', 'ESR1', 'VHL', 'SEC23A', 'PRPF40A', 'MCC', 'HLA-B', 'CHEK2', 'TBP', 'AURKA', 'PRKAB1', 'MARS', 'HIST1H2BD', 'H2BFS', 'HIST2H2BA', 'HIST1H2BJ', 'HIST3H2BB', 'HIST1H2BB', 'PCNA', 'TRAF6', 'IKBKE', 'HIST1H2BM', 'MAT1A', 'HIST2H2BF', 'PRDX1', 'PRDX2', 'OAT'], 220: ['RBL2', 'IMPDH1', 'PRDX2', 'HDAC1', 'PSMD3', 'SMARCC2', 'MMS19'], 221: ['JUN', 'NCK1', 'RAC1', 'SMARCA4'], 222: ['NFKBIE', 'RCC1', 'GNAS', 'RICTOR', 'H2AFZ', 'NCK1', 'RPL29', 'RPL37A', 'PIK3R1', 'RACGAP1', 'CPSF3', 'ABL1', 'UPF1', 'IKBKE', 'DDX18', 'HNRNPC'], 223: ['AHCTF1P', 'MED31', 'DDX31', 'RBM39', 'DDX50', 'RNPS1', 'DICER1', 'MTHFD1', 'EIF4A3', 'EIF6', 'RSL1D1', 'EPRS', 'NOP58', 'RPS10', 'MYBBP1A', 'CCT4'], 224: ['TSR1'], 225: ['DLG3'], 228: ['PFDN6', 'MNAT1', 'MAPK14', 'MAP3K3', 'PTK2B'], 229: ['NDUFS3', 'UBR2', 'CTNNB1'], 231: ['NFKB1', 'PRKACA', 'GSK3B', 'HSP90AA2'], 232: ['RABGGTB', 'TFG', 'CCDC85B', 'RBBP5', 'STRN3', 'CAMK1D', 'DDX17'], 236: ['RAPH1', 'SGPL1', 'MRAS', 'KPNA3', 'FADD', 'RANBP1', 'XYLB', 'TMEM33', 'NUPL1', 'NUP214', 'NUP93', 'CASP7', 'MON2', 'RAP1GAP', 'NIPSNAP1', 'LDHB', 'CNP', 'RAB10', 'SNAP25', 'TNFRSF1B', 'PRKACB', 'UBE2V2', 'EXOSC10', 'GNB4', 'PLAA', 'STRN3', 'TRIP12', 'CASP3', 'GARS', 'EHMT2', 'GNB1', 'USP14', 'NUP98', 'IKBKG', 'ACOT8', 'ABCB7', 'RAB37', 'DPYSL2', 'CAMK1D', 'SLC25A1', 'NUP107', 'SMC2', 'ETFA', 'STX1A', 'SYT1', 'CTR9', 'EIF2S1', 'TPR', 'STXBP1', 'VHL', 'ARFGEF2', 'ABCF3', 'SHMT2', 'MSH3', 'MAP2', 'ATP6V0D1', 'SPTLC1', 'NUP153', 'DDX17', 'PRKACA', 'RAC1', 'SLC25A12', 'MAX', 'FBXW7', 'NUP133', 'TARS', 'PPP2CA', 'RFC5', 'RAB6C', 'IQGAP1', 'NME2', 'IKBKAP', 'RAB6B', 'TTLL3', 'SLC25A4', 'HIST1H3J', 'HIST1H3E', 'HIST1H3D', 'HIST1H3C', 'HIST1H3B', 'HIST1H3A', 'H3F3AP6', 'MSH2', 'MARS', 'IRS4', 'MYL12B', 'HIST2H3A', 'HIST1H3H', 'ARPC3', 'ATP2A2', 'PSMB5', 'ATP1A1', 'RANBP2', 'ARPC2', 'EIF4A3', 'PTK2', 'TRAF6', 'IKBKE', 'DDX39B', 'BAT1', 'RANP1', 'ABLIM1', 'KPNA2', 'CCT5', 'VCP', 'MAT1A', 'CAMK2A', 'DNAJA3', 'CCT2', 'PRDX1', 'PFKP', 'PRDX2', 'TOP2A', 'PPP6C', 'TUBB3', 'OLA1', 'HDAC1', 'RPA1', 'IPO9', 'CCT8', 'CAPZB', 'DBN1', 'MMS19', 'TOP1', 'HADHB', 'CCT4'], 238: ['KRT10', 'TRAF6'], 239: ['CDC42', 'SF3A1', 'KRT10', 'LMO7'], 240: ['PDIA4', 'YARS', 'HSP90B1', 'NAPA', 'ATG5', 'ELN', 'NFKBIA', 'CDC6', 'IGF1R', 'SNORA7A', 'PLAA', 'SRCAP', 'MAD2L1', 'ILF2', 'TNFRSF1A', 'TEX10', 'BTAF1', 'MAPRE1', 'FER', 'RBBP4', 'CCNC', 'HCK', 'TYK2', 'JAK1', 'TNK1', 'FRAP1', 'TGFBR1', 'PTK2', 'TRAF6', 'RBBP7', 'VCP', 'HSP90AA2', 'PDPK1', 'PPP6C', 'EIF4B', 'P4HB'], 241: ['PDHA1', 'EIF6', 'RPA1', 'EIF4G3'], 242: ['UBE2I', 'RAC1', 'HDAC1'], 244: ['MAGEA1', 'TRBV19', 'CCDC85B', 'SH3GL1', 'RRM2', 'NUDC', 'PFKP'], 245: ['SPTLC1'], 246: ['SMAD4', 'EIF3J', 'CTNNB1', 'MAPK14', 'NEDD4L'], 247: ['WASF3', 'ALDH3A1', 'ABI1', 'WBP11', 'CHD3', 'OGT', 'PRKAR1A', 'NIN', 'TMED2', 'HIST2H3PS2', 'HIST2H3C', 'SKIV2L2', 'AR', 'MYOCD', 'BRD4', 'HIPK1', 'WDR5', 'SMAD4', 'PRKD2', 'PRKAB2', 'PATL1', 'MYO5B', 'USP7', 'SRPK2', 'RAB3A', 'PRKAR2B', 'MLLT1', 'NF1', 'NOS1', 'DLG3', 'PRKCE', 'RBBP4', 'DYRK1A', 'LSM1', 'MAP2', 'SF3B4', 'DLG4', 'DDX17', 'CUL1', 'PRPF3', 'MAP1B', 'CRKRS', 'SNRP70', 'VPS35', 'SSB', 'PRPF4', 'MAP2K2', 'SF3A1', 'HIST1H3J', 'HIST1H3E', 'HIST1H3D', 'HIST1H3C', 'HIST1H3B', 'HIST1H3A', 'H3F3AP6', 'ABL1', 'JAK2', 'HIST2H3A', 'HIST1H3H', 'CLTB', 'CDC2L5', 'MOBKL1B', 'CDK2', 'RBBP7', 'CAMK2A', 'PFKP', 'HNRPD', 'WEE1', 'HDAC1', 'PRPF6'], 248: ['AL356585.3', 'TAF13', 'RAB6B'], 250: ['GDI2', 'IDH3A'], 251: ['IDE', 'NCOR1', 'SMARCD1', 'ACTN2', 'HIST1H2BD', 'H2BFS', 'HIST2H2BA', 'HIST1H2BJ', 'HIST3H2BB', 'HIST1H2BB', 'SMARCA2', 'TRAF6', 'HIST1H2BM', 'EIF6', 'EEF1A2', 'CDK2', 'HIST2H2BF', 'POLE', 'RPA1', 'HIST1H2AH', 'HIST1H2AC', 'SMARCA4', 'EIF4E'], 252: ['TCEB2', 'HSPA6', 'TUBA1C', 'ACTA1', 'VCP', 'SFPQ', 'PPIAP22', 'PPIA', 'RPA1', 'ACTC1'], 253: ['TRIP10', 'RAB6C'], 254: ['EPB41', 'HRAS', 'APP', 'STXBP1', 'PRKCB1', 'HSP90AA2', 'PPP1CB', 'ACTC1', 'SPDYA'], 258: ['PICK1', 'SNX1', 'CEP70', 'CCNE1', 'EXOC7', 'PIAS4', 'CDC123', 'COG6', 'MRPL13', 'SETD2', 'C17orf39', 'PFDN5', 'SAR1B', 'EIF2B2', 'IDE', 'CORO6', 'PFDN6', 'UBE2V2', 'FRY', 'ATXN1', 'EXOSC10', 'SAPS1', 'PFDN2', 'SYN1', 'AATF', 'NET1', 'RAB8B', 'MYO5B', 'EIF2S2P4', 'ESR1', 'RAB1A', 'POLR1D', 'APLP1', 'EIF2S2', 'PWP1', 'TAF9', 'BYSL', 'SNRP70', 'RAB6C', 'ACTN2', 'ACACB', 'ACTN1', 'PRKAR2A', 'PSMD13', 'RAB6B', 'KIAA0368', 'ATR', 'PRMT1', 'KPNA5', 'PRPF8', 'SAPS3', 'TUFM', 'UTP20', 'KPNA6', 'COPB2', 'DNAJA3', 'PFKP', 'RPS7P1', 'PPP6C', 'PPP1CB', 'DDX18', 'SPDYA', 'KIAA0664'], 259: ['CSNK1A1'], 260: ['C3', 'NGFR', 'PARP1', 'BTF3L4', 'INCENP', 'SF3A2', 'PCAF'], 261: ['KPNA2'], 262: ['RBPJ', 'GOLGA2', 'B2M', 'CDH1', 'NCOR2', 'USP7', 'ING1', 'PXN', 'LSM1', 'TBL1XR1', 'DNAJA1', 'CREBBP', 'TUBG1', 'EIF4ENIF1', 'RELA', 'RAB6C', 'PCAF', 'PSMA5', 'PSMB4', 'RAB6B', 'IGF2BP2', 'PSMB3', 'PSMB1', 'PSMA2', 'ATP2A2', 'PSMB5', 'PSMA1', 'PSMD1', 'PCNA', 'NDUFS1', 'DDX39B', 'BAT1', 'PRDX1', 'PRDX2', 'ACTC1', 'CAPZB', 'HADHB', 'DDX1', 'MYBBP1A', 'CCT4', 'SMARCA4'], 263: ['NUS1', 'POMT2', 'RNF41', 'ENTPD6', 'ELOVL5', 'PERLD1', 'CNIH4', 'CUTL1', 'CASP9', 'LIPA', 'ELOVL4', 'MYD88', 'DSCC1', 'SYS1', 'IRAK2', 'OPA1', 'KIF23', 'FARSB', 'UTP3', 'TMED10', 'SACM1L', 'MON2', 'TSC22D1', 'HSPA4', 'PIAS1', 'SEC22A', 'TMED2', 'UBQLN4', 'CFDP1', 'UBE2I', 'SEC24B', 'MME', 'UBE2V2', 'PRKCI', 'EPHA7', 'ING3', 'ACTR6', 'INPPL1', 'ENO1', 'CASP3', 'GNL1', 'H2AFV', 'CYFIP1', 'RAB1A', 'ING1', 'H2AFZ', 'DHRS2', 'VDAC2', 'PPP2CB', 'VDAC4', 'MCC', 'SART1', 'KRT8', 'MAP2', 'MYO1A', 'IRAK1', 'CDK5', 'SYK', 'DDX17', 'MARK2', 'CAMKK2', 'FLNB', 'AP3D1', 'SUMO1P3', 'PRPF3', 'ANXA6', 'CRKRS', 'TNPO1', 'VDAC3', 'SSB', 'BRD3', 'IQGAP1', 'ARL1', 'SSRP1', 'AURKA', 'PIK3R1', 'PDHA1', 'MYL12A', 'EIF5AP1', 'PHB', 'PPM1B', 'G3BP1', 'TUBA3D', 'TUBA3C', 'JAK2', 'ACTA1', 'MAPK14', 'MAP3K3', 'TRAF6', 'GSK3B', 'ARRB1', 'CDK2', 'VCP', 'EIF3C', 'EPRS', 'EIF3B', 'COPB2', 'HSP90AA2', 'RPS10', 'PFKP', 'RPLP1', 'TUBA1B', 'AP2M1', 'HNRPD', 'PPP1CB', 'SPDYA', 'YES1', 'TOP1', 'MYBBP1A', 'SMARCA4'], 264: ['AR', 'MAPK10', 'SUPT5H', 'SMARCD1', 'MAX', 'SSRP1', 'PES1', 'HIST1H2BM', 'EEF1A2', 'SMARCC2', 'SMARCA4'], 265: ['FRAP1', 'HSP90AA2', 'HDAC1'], 266: ['PDGFRB', 'SET', 'PLA2G4A', 'TXN', 'LDHB', 'L1CAM', 'ATP1A3', 'DUSP4', 'SUPT6H', 'GRIN2A', 'GRIN2B', 'EHMT2', 'GNB1', 'GRIN1', 'DLG3', 'MAP2', 'CHEK2', 'DLG4', 'RAC1', 'PPP2CA', 'ACTN2', 'RPS27', 'ACTA1', 'CAMK2A', 'SLC25A5', 'PRDX1', 'PDPK1', 'PSMD3', 'P4HB'], 268: ['TP73', 'PPP2R5E', 'RB1', 'RAD51', 'SMAD3', 'STAT3', 'SORT1', 'MAPK14', 'HDAC1'], 272: ['PSMD13'], 273: ['TCP11L2', 'PRKCZ', 'HNRPUL1', 'APP', 'GNAI2', 'PRKCG', 'HTATIP', 'PRKAA2', 'SLC25A12', 'MAP2K2', 'TAF12', 'PPP1CA', 'SUCLG1', 'BMP2K', 'TAF5', 'IRS4', 'PRMT1', 'ATP2A2', 'ARRB1', 'NEK9', 'DNAJA3', 'PPP6C', 'PPP1CB', 'SPDYA', 'YES1', 'MMS19', 'DDX1'], 274: ['LDHA', 'SMAD2', 'CYFIP1', 'MARK4', 'RPS6KA1', 'KIAA1967', 'ALDOA', 'PPP2CA', 'CTNNB1', 'ABL1', 'PFKP'], 275: ['LIN7C', 'PI4KA', 'ANP32A', 'APLP1', 'SMARCD1', 'FASN', 'LOC440926', 'H3F3B', 'HSP90AA2', 'PFKP', 'CTPS', 'YES1', 'DDX1'], 276: ['CBX8', 'NFKB1', 'PLCG1', 'SORCS2', 'SORT1', 'RBBP4', 'RELA'], 278: ['EMD', 'ARNT', 'MCM10', 'UBQLN4', 'KIF5B', 'ERCC2', 'GRAP', 'IKBKG', 'WDR68', 'NSA2', 'HDAC4', 'HRNR', 'RANBP5', 'MDH2', 'POLR2K', 'PAK4', 'MARK2', 'PPA1', 'SOS1', 'ARAF', 'CSNK1A1', 'TBP', 'CSNK1G3', 'TGFBR1', 'SUCLG1', 'BRAF', 'CCNH', 'PLS3', 'MNAT1', 'SAPS3', 'LMO7', 'MAP3K3', 'ABLIM1', 'POLR2H', 'ACTR2', 'RPS26P8', 'RPS26P10', 'SLC25A3', 'MMS19', 'HNRNPC', 'RPS26'], 280: ['RELA'], 281: ['CYFIP1', 'WDR36', 'HEATR1', 'UTP20', 'LARP2', 'RSL1D1', 'NOP58'], 283: ['COPG'], 284: ['OPTN', 'ENTPD7', 'ATP6V0B', 'UNC84B', 'SOLH', 'ERCC1', 'PGBD3', 'ERCC5', 'SLC25A22', 'ARCN1', 'TRIP10', 'PFDN4', 'VEGFA', 'LDHB', 'SAR1B', 'SEC24B', 'GAP43', 'ACTR3B', 'GNAS', 'PFDN2', 'GRIN2A', 'ERCC2', 'ERCC4', 'GRIN1', 'POLR1D', 'KIT', 'MCC', 'TBL1XR1', 'GTF2F2', 'HLA-B', 'GRAMD1A', 'UBE2G2', 'TAF9', 'CDK9', 'PRKAA2', 'TNPO1', 'RNGTT', 'RAB6C', 'POLR2G', 'BRD3', 'TAF12', 'POLR2I', 'TGFBR1', 'RAB6B', 'CCNH', 'TAF5', 'MNAT1', 'KPNA5', 'TAF6', 'POLR2D', 'ACTR3', 'IKBKE', 'KPNA6', 'CDK2', 'POLR2F', 'CAMK2A', 'COPB2', 'POLR2C', 'HSP90AA2', 'COPG', 'WEE1', 'PPP6C', 'OLA1', 'CCT8', 'CCT4'], 285: ['LDHA', 'UPF1', 'SLC25A5', 'PFKP', 'PDPK1'], 286: ['PPP6C', 'PSMD3'], 287: ['RDX'], 288: ['ITGB3BP', 'GCH1', 'NR3C1', 'PPID', 'GNAS', 'ATXN1', 'PSMD12', 'GNB1', 'GART', 'ESR1', 'SUMO4', 'PRPF40A', 'STIP1', 'CREBBP', 'CHEK2', 'PRKACA', 'IDH3G', 'PSMD8', 'TSR1', 'RANBP2', 'RANP1', 'EIF6', 'CCT5', 'CCT3', 'PPP6C', 'PRPF6', 'TOP1'], 289: ['CUL1', 'VDAC3', 'CPSF3', 'GSK3B', 'VCP', 'HSP90AA2', 'PFKP'], 290: ['UBE2D3', 'SORCS2', 'SORT1'], 291: ['PCAF', 'TAF6'], 292: ['POLE4', 'PSME1', 'UBE3B', 'VAPA', 'PA2G4', 'AKT1S1', 'WDHD1', 'GTF2H2C', 'MAPK7', 'C1orf103', 'KLC1', 'GTF2E1', 'TALDO1', 'UBE2M', 'GCH1', 'GTF2H3', 'RPL34', 'GTF2H2', 'PAK1IP1', 'SUMO3', 'GTF2H1', 'PFDN2', 'OGDH', 'FKBP1A', 'LRRC59', 'NACAP1', 'LYAR', 'PRKD2', 'RPS15', 'MCM2', 'ERCC4', 'SMAD3', 'MAD2L1', 'FHL2', 'MCM5', 'SUMO4', 'AHCY', 'NMD3', 'TEX10', 'EIF3J', 'PSMD7', 'BTK', 'CBR1', 'CAPZA1', 'SUPT3H', 'KARS', 'LSM1', 'PMM2', 'FSCN1', 'PGD', 'STIP1', 'SHMT2', 'LSM2', 'RANBP5', 'EBNA1BP2', 'AHSA1', 'MAP3K2', 'CBS', 'RPL26L1', 'ATAD3B', 'PAK4', 'MARK2', 'MLLT4', 'PGK1', 'PHGDH', 'CUL1', 'PRPF3', 'PPA1', 'TARS', 'IMPDH2', 'MARK3', 'SSB', 'MDN1', 'PSMD8', 'TUBB2A', 'ARAF', 'CSNK1A1', 'SSRP1', 'RPL37A', 'LYN', 'MCM3', 'PDHA1', 'RCC2', 'PRKAB1', 'SLC25A6', 'RPL15P3', 'KRR1', 'RPS27', 'EIF5AP1', 'BRAF', 'CCNH', 'BMP2K', 'ACO2', 'RPL9P7', 'RPL9', 'EIF3CL', 'DLD', 'PSMC5', 'PRKCB1', 'PSMB3', 'RPL13AP25', 'PSMB1', 'MNAT1', 'LEO1', 'KPNA5', 'HIST1H2BJ', 'SAPS3', 'LOC440926', 'H3F3B', 'TUFM', 'LMO7', 'EIF3A', 'RPL38', 'PSMD1', 'CDC2L5', 'TRAF6', 'KPNA6', 'ABLIM1', 'LARP2', 'EIF3C', 'ACTR2', 'EPRS', 'EIF3B', 'COPA', 'IMPDH1', 'TUBA1B', 'AP2M1', 'WEE1', 'PPP2R1A', 'OLA1', 'CTPS', 'DDX18', 'RPA1', 'OAT', 'P4HB', 'KIAA0664', 'NAT10', 'HIST1H2AH', 'HIST1H2AC', 'SMARCA4', 'EIF4E'], 293: ['SSR4'], 294: ['DAAM2', 'ARHGEF3', 'DAAM1', 'FARP2', 'CIT', 'ARHGAP5', 'PIP5K1C', 'ARHGDIG', 'ARHGDIB', 'ARHGEF1', 'PDE6D', 'EPC1', 'TGFBR2', 'RAC3', 'PTPRK', 'DIAPH2', 'RAC2', 'GRLF1', 'GDI1', 'RHPN2', 'HLTF', 'ARHGDIA', 'GDI2', 'TP53BP1', 'RXRA', 'SRPK1', 'BCAR3', 'RBM8A', 'MCF2L', 'UTP14A', 'SFRS2', 'U2AF1', 'ATP1A3', 'ROCK2', 'SKIV2L2', 'GNB4', 'AHCTF1P', 'TARDBP', 'ARHGEF12', 'U2AF2', 'MED31', 'RAD51', 'GRIN2A', 'LYAR', 'MAPK10', 'GRIN2B', 'MYH11', 'DLG1', 'RPL7P9', 'GRIN1', 'MAPK8', 'ILF2', 'PCBP2', 'DPYSL2', 'PLCG1', 'ROCK1', 'SFRS3', 'HTATIP', 'SORCS2', 'MYH14', 'DLG3', 'SORT1', 'CSTF3', 'MED6', 'PAPOLA', 'HLA-B', 'DLG4', 'DIAPH1', 'MAPK9', 'PRKACA', 'RNPS1', 'RAC1', 'LUC7L2', 'SRRM1', 'POLR2G', 'POLR2J', 'HNRNPL', 'POLR2I', 'ACTN2', 'TGFBR1', 'PHB2', 'EIF3E', 'POLR2D', 'ATP1A1', 'NHP2L1', 'RANP1', 'POLR2H', 'NOL6', 'KPNA2', 'POLR2F', 'EIF3C', 'CAMK2A', 'MAPK3', 'POLR2L', 'SLC25A5', 'POLR2C', 'RPS7P1', 'CAPZB', 'HNRNPC'], 295: ['NPEPPS', 'THOC2', 'MED1', 'PRPF40A', 'CDK8', 'NOC2L', 'KIAA0020', 'SMARCB1', 'KRI1', 'PES1', 'RPL15P3', 'TSR1', 'BXDC2', 'HEATR1', 'SSR4', 'PRPF8', 'RRP12', 'UTP20', 'ARHGAP15', 'SMARCA2', 'KPNA6', 'LARP2', 'EIF6', 'NOL6', 'CDK2', 'KPNA2', 'GRWD1', 'MAT1A', 'RSL1D1', 'RPS7P1', 'DDX18', 'RPA1', 'CCT8', 'EIF4B', 'EIF4G3', 'SMARCC2', 'NAT10', 'MYBBP1A', 'HIST1H2AH', 'HIST1H2AC', 'SMARCA4'], 296: ['ACTN2', 'RBL2', 'HIST2H2BF'], 297: ['AP2A2', 'MYC', 'GTF3C1', 'MMS19'], 299: ['SLC25A13', 'SLC25A6', 'SSR4', 'CDC2L5', 'TRAF6', 'PSMD3', 'IPO9', 'EIF4B'], 301: ['TIAM1', 'MYC', 'RANBP2'], 302: ['TF', 'KLK3', 'CTSL1', 'SMAD9', 'F2', 'TRIM46', 'GPI', 'PTPRE', 'TPD52L2', 'TPD52', 'PSMB6', 'LAS1L', 'HMGCLL1', 'RCC1', 'IMMT', 'PSMD12', 'CAV1', 'NSUN2', 'PSMB2', 'PSMD6', 'PSMD14', 'VARS', 'TEX10', 'PSMD7', 'RRP1B', 'FN1', 'STIP1', 'DARS', 'EBNA1BP2', 'RPL29', 'PSMA6', 'AP2A2', 'PGK1', 'SSB', 'PSMD8', 'RPL37A', 'RPS27', 'PSMD13', 'FGFR1', 'PHB', 'KIAA0368', 'MTHFD1', 'GTF3C1', 'PSMC5', 'PSMB1', 'CLTB', 'FASN', 'PSMB5', 'UPF1', 'PSMA1', 'PSMD1', 'MOBKL1B', 'EIF6', 'PSMC1', 'MAT1A', 'PSMC6', 'RPLP1', 'PRDX2', 'PSMD3', 'DDX18', 'NAT10'], 303: ['PYGL', 'ERCC2', 'TNFRSF1A', 'POLR1D', 'SYT1', 'DHX30', 'VHL', 'STAT1', 'UBE2G2', 'RPL29', 'RAC1', 'PPA1', 'MRPS22', 'XPOT', 'ERCC3', 'PPP1CA', 'ACACB', 'SLC25A6', 'EIF5AP1', 'CCNH', 'ACO2', 'GTF3C1', 'POLR1E', 'MNAT1', 'TRAF6', 'IKBKE', 'RPL28', 'MAT1A', 'SLC25A5', 'POLR2C', 'PFKP', 'PRDX2', 'PTK2B', 'DDX1'], 304: ['CBLB'], 305: ['CTDP1', 'CHEK2', 'RPL9P7', 'RPL9', 'PRMT1', 'NOP58', 'HNRNPC'], 307: ['GEMIN4', 'SLC25A5'], 309: ['PIK3R1', 'CTNNB1'], 312: ['WDR5', 'SMARCA4'], 313: ['GTF2B', 'CREBBP', 'SMARCB1'], 314: ['MAP3K7IP2', 'SUMO3', 'TRAF2', 'SUMO4'], 315: ['PDIA3', 'CLK4', 'ERBB2', 'TNK2', 'PRMT1', 'HSP90AA2'], 316: ['MAPK3'], 317: ['PSMD11'], 319: ['PTPRC', 'STAT5B', 'IL22RA2', 'IL21R', 'IL20RA', 'IL13RA2', 'OSMR', 'IL28RA', 'IL22RA1', 'IL11RA', 'IL23R', 'IL10RA', 'IL9R', 'IL13RA1', 'IL12RB2', 'IL10RB', 'IL5RA', 'IFNGR2', 'MPL', 'IL15RA', 'IFNGR1', 'IL2RA', 'LIFR', 'IL6R', 'CSF2RA', 'IL7R', 'PRLR', 'IFNAR2', 'CNTFR', 'STAT5A', 'CNBP', 'IL4R', 'CSF3R', 'IL2RG', 'IFNAR1', 'IL2RB', 'LEPR', 'IL6ST', 'MYLK', 'GHR', 'IL3RA', 'EPOR', 'CSF2RB', 'IL12RB1', 'PTPN6', 'CLASP1', 'PAK1IP1', 'DDX47', 'LMNB1', 'NACAP1', 'MAPK10', 'IMP4', 'MYH11', 'C20orf4', 'RAD50', 'NUP98', 'GLUL', 'SFN', 'NUP107', 'DDX56', 'AHCY', 'TEX10', 'TAOK1', 'CTR9', 'LCK', 'BTK', 'PMM2', 'PGD', 'SART1', 'SQSTM1', 'GTF2I', 'CLASP2', 'DPM1', 'ACTL6A', 'EP300', 'EBNA1BP2', 'SYK', 'NUP153', 'PSMA6', 'ATAD3B', 'MAPK9', 'PRKACA', 'ULK3', 'AURKB', 'SLC25A12', 'SEH1L', 'SMARCD1', 'PSME4', 'NUP133', 'IDH3G', 'RPL37A', 'SMARCC1', 'LYN', 'PPP1CA', 'PSMA5', 'PTPN14', 'GTF3C4', 'RPS27', 'PSMB4', 'SUCLG1', 'KIAA0368', 'BRAF', 'BCR', 'ACO2', 'GTF3C1', 'RPL9P7', 'RPL9', 'PSMC5', 'IRS4', 'PSMB3', 'RPL13AP25', 'PSMB1', 'PSMA2', 'PRPF8', 'HIST1H2BD', 'H2BFS', 'HIST2H2BA', 'HIST1H2BJ', 'HIST3H2BB', 'HIST1H2BB', 'PSMB5', 'RPN1', 'CBLB', 'ATP1A1', 'RANBP2', 'PSMA1', 'PSMA3', 'ABLIM1', 'HIST1H2BM', 'PSMC1', 'VCP', 'MAT1A', 'CAMK2A', 'RSL1D1', 'HIST2H2BF', 'CCT3', 'NEK9', 'COPA', 'DNAJA3', 'IMPDH1', 'PSMC6', 'POLE', 'PRDX2', 'COPG', 'OLA1', 'HDAC1', 'PSMD3', 'DDX18', 'SMARCC2', 'PRPF6', 'NAT10', 'MYBBP1A'], 320: ['IKBKB', 'PXN', 'PIK3R2', 'PRKAA2', 'PSME4', 'SSB', 'ARAF', 'MAP2K2', 'AURKA', 'PIK3R1', 'PDHA1', 'PSMA5', 'PSMB4', 'MTHFD1', 'BMP2K', 'G3BP1', 'PSMB3', 'PSMB1', 'PSMA2', 'MAPK14', 'PSMB5', 'PSMA1', 'PTK2', 'NEDD4L', 'PSMA3', 'PSMC1', 'RPN2', 'PSMC6', 'PDPK1', 'TUBA1B', 'WEE1', 'PPP2R1A', 'CTPS', 'PSMD3', 'CCT8', 'PTK2B', 'CCT4', 'SMARCA4'], 323: ['NSUN5', 'GABARAPL2', 'ERGIC3', 'RIF1', 'SLC36A1', 'CHN1', 'FZR1', 'C20orf191', 'CPSF6', 'CDC42', 'GTF3C2', 'IQGAP3', 'GSTM3', 'EP300', 'NCOR1', 'GANAB', 'PPA1', 'TNPO1', 'SNRP70', 'PCMT1', 'SMARCC1', 'SF3A1', 'PSMD13', 'SUCLG1', 'GTF3C1', 'PSMB3', 'PSMA2', 'CBLB', 'PSMA1', 'ARHGAP15', 'TRAF6', 'ACTR3', 'PSMC1', 'BOP1', 'PSMC6', 'HDAC1', 'PSMD3', 'OAT', 'MMS19', 'TOP1', 'HADHB'], 324: ['C7', 'MOBKL3', 'ESR1', 'EIF3G', 'ATP6V0D1', 'RELA', 'ACO2', 'PPP6C', 'HNRNPC'], 328: ['GRINL1B', 'TPM3P4', 'EHMT2', 'GNB1', 'BRCA1', 'BCAR1', 'TPM3', 'RPAP2', 'TPM1', 'SMARCC1', 'SLC25A6', 'TTLL3', 'ARPC3', 'CBLB', 'POLR2C', 'PRDX1', 'PPP6C'], 329: ['DLG3', 'UPF1', 'PTPN11', 'EIF4E'], 331: ['PLD1', 'ERBB2', 'MYO1E', 'HDAC4', 'LSM1', 'IDH3G', 'RFC5', 'PHB', 'MAPK14', 'PSMA3', 'PSMC6', 'CCT2', 'COPG'], 332: ['HD', 'DNM1', 'ROCK1', 'SRP14', 'IRAK1', 'DIAPH1', 'DLSTP', 'PSMB3', 'TRAF6', 'RPS10', 'TOP2A'], 333: ['ITGB5', 'IGKV2-40', 'IGKC', 'CLU', 'APOC3', 'TTR', 'KRT9', 'INA', 'AKT1', 'EWSR1', 'ATP6V1E1', 'BSN', 'APOA1', 'PXN', 'RRP1B', 'FN1', 'SQSTM1', 'SETX', 'PIK3R2', 'ARHGEF6', 'KRT1', 'PIK3R1', 'TGFBR1', 'CTNNB1', 'ACTA1', 'ATP1A1', 'HSP90AA2', 'PPP2R1A'], 334: ['MAD2L1', 'MAPRE1'], 335: ['IRS2', 'SETX', 'TRAF6'], 336: ['SMARCB1'], 337: ['NCK1', 'ABL1', 'CDC2L5'], 339: ['HDAC3', 'SETDB1', 'STAT3', 'PXN', 'HDAC4', 'EP300', 'CREBBP', 'CCNH', 'ACTA1', 'HDAC1', 'SMARCA4'], 340: ['IRS4', 'COPB2', 'PTK2B'], 342: ['SPTLC1'], 344: ['PCID2'], 346: ['LSM7', 'PSMD12', 'EIF3G', 'AHCY', 'VARS', 'CTR9', 'NSA2', 'LSM1', 'CDK4', 'NUP153', 'PSMA6', 'SEH1L', 'PSMD11', 'PSMD8', 'TAF12', 'SMARCC1', 'PSMD13', 'PSMB4', 'KIAA0368', 'EIF3CL', 'PSMC5', 'PSMB3', 'PSMB1', 'NOC4L', 'PSMA2', 'HIST1H2BD', 'H2BFS', 'HIST2H2BA', 'HIST1H2BJ', 'HIST3H2BB', 'HDLBP', 'HIST1H2BB', 'PSMB5', 'EIF3A', 'PSMA1', 'PSMD1', 'DDX39B', 'BAT1', 'PSMA3', 'HIST1H2BM', 'PSMC1', 'EIF3C', 'MAT1A', 'HIST2H2BF', 'PSMC6', 'OLA1', 'PSMD3', 'EIF4E'], 347: ['CCNK', 'CDH1', 'PRDX5', 'ATM', 'RBM39', 'NLK', 'PXN', 'CSK', 'CAMKK2', 'CRKRS', 'CCNH', 'CTNNB1', 'MNAT1', 'MAPK14', 'POLR2D', 'RPN1', 'DDB1', 'LARP2', 'CDK2', 'PSMC1', 'MAPK3', 'NOP58', 'RPLP1', 'OLA1', 'RPA1', 'YES1', 'HNRNPC', 'MYBBP1A', 'EIF4E'], 348: ['PHLDA3', 'RAD51', 'MAP3K14', 'HSP90AA2', 'RPLP1', 'EIF4B'], 349: ['COPB1', 'PSMC5', 'RRP12', 'EIF3A', 'NOL6', 'BOP1', 'EIF3B'], 350: ['MYOC', 'HBD', 'PLD2', 'HBA2', 'HBA1', 'STK39', 'HIP1R', 'WIPF1', 'BRD4', 'NUMA1', 'LDHA', 'ATP6V1E1', 'DNM2', 'NOS1', 'DLG3', 'RPAP2', 'MDH2', 'ATP6V0D1', 'CDK9', 'AFF4', 'ANAPC5', 'HDAC6', 'SSB', 'ACO2', 'ARPC2', 'PRDX1', 'PFKP', 'PRDX2', 'PTK2B'], 352: ['CTSB', 'PAPPA', 'NDUFA4', 'PDLIM5', 'CENPF', 'ALB', 'CLNS1A', 'FN1', 'STAT1', 'PIK3R2', 'MAP3K7IP1', 'MCM3', 'KIF3A', 'PIK3C2A', 'MAP3K1', 'ACTA1', 'DGKZ', 'CDC2L5', 'SLC25A5', 'RBM10', 'HNRPD', 'RPA1', 'EIF4B', 'HNRNPC'], 353: ['PPP1R12A'], 354: ['IRS1', 'DIAPH1', 'MAP3K1'], 355: ['ITGB1', 'DCP2', 'HCK', 'AHSA1', 'TNK2', 'CTNNB1', 'PPP2R1A'], 356: ['PIAS2', 'RACGAP1'], 357: ['CREBBP'], 358: ['TRAF2'], 359: ['HSP90AA2', 'WEE1'], 360: ['RASSF8', 'CLASP1', 'IGHV4-31', 'SMAD2', 'TAOK1', 'CLASP2', 'TIAM1', 'NME2', 'PRKAB1', 'RANBP2', 'TRAF6', 'IKBKE'], 361: ['EP300'], 362: ['IL2RA', 'PIK3R1', 'EIF3C'], 364: ['EXOSC2', 'EXOSC10', 'DIS3', 'RIOK2', 'WDR33', 'FIP1L1', 'DDX10', 'PNO1', 'CYFIP1', 'GTF2B', 'SART1', 'CLASP2', 'SF3B4', 'PAPOLA', 'MAP3K2', 'PAK4', 'SSB', 'CSNK1A1', 'NME2', 'FRAP1', 'RAB6B', 'RBL2', 'TAF6', 'MAPK14', 'LARP2', 'EIF3C', 'CAMK2A', 'POLR2L', 'IMPDH1', 'RPS10', 'PPP1CB', 'DDX18', 'IPO9', 'SPDYA', 'SMARCC2', 'HIST1H2AH', 'HIST1H2AC'], 365: ['PXN'], 367: ['GSK3B'], 368: ['LETM1', 'MPDZ', 'BCAP31', 'PDCD6IP', 'RAB2A', 'FABP5', 'NEFL', 'GNB2', 'MYH7', 'GNAS', 'MRPS16', 'GNB4', 'GNB1', 'DLG1', 'COPB1', 'STX1A', 'VDAC4', 'DLG4', 'GANAB', 'ACTN2', 'TGFBR1', 'PHB2', 'MTHFD1', 'SLC25A4', 'COPB2', 'SLC25A5', 'CAPZB'], 370: ['KPNA5', 'KPNA6'], 371: ['HEY2', 'PGM1', 'ARF1', 'DNM1', 'LARS', 'VHL', 'KARS', 'MCC', 'BMS1', 'ATP6V0D1', 'BYSL', 'VDAC3', 'PSMD8', 'ACTN2', 'KRI1', 'NME2', 'ACACB', 'KIAA0368', 'HEATR1', 'ARRB2', 'RRP12', 'TRAF6', 'IKBKE', 'ARRB1', 'MAT1A', 'EPRS', 'COPA', 'PSMC6', 'COPG', 'PRPF6', 'NAT10'], 372: ['UBR2', 'KIF3A', 'CCT5'], 373: ['EPB41', 'UBE2G2', 'RPA1'], 374: ['DISC1', 'GLI2', 'KRT5', 'TPM3P4', 'KRT14', 'CBR1', 'FSCN1', 'TPM3', 'ANXA6', 'LUC7L2', 'PCMT1', 'MYL12A', 'DCD', 'PHB2', 'TTLL3', 'SLC25A4', 'MYL12B', 'ARPC3', 'TUFM', 'LMO7', 'ARPC2', 'ABLIM1', 'RBBP7', 'SLC25A5', 'PRDX1', 'RPS26P8', 'RPS26P10', 'RPLP1', 'CAPZB', 'DBN1', 'RPS26', 'HADHB'], 375: ['EDEM1', 'SLC2A1', 'ALG5', 'GRN', 'CRKL', 'CASP7', 'CDH1', 'CASP8', 'TCEB2', 'CASP3', 'HCLS1', 'MED12', 'MAP3K11', 'TPM3', 'SYK', 'LYN', 'IRS4', 'ABL1', 'RBBP7', 'PTK2B'], 376: ['HSP90AA2'], 377: ['CDK2'], 379: ['VHL', 'COPB2', 'EIF4B'], 380: ['YAF2', 'JARID2', 'CDKN2A'], 381: ['HTRA2', 'NDUFA6', 'TMEM33', 'SLC3A2', 'CUL4A', 'NDUFA4', 'CAV1', 'IDH3B', 'DNAJB6', 'COPG2', 'DGKG', 'KIAA1967', 'TTC27', 'NDUFA5', 'NDUFS2', 'NDUFA8', 'NDUFS3', 'DPM1', 'ACTL6A', 'EIF4ENIF1', 'SLC25A12', 'RFC3', 'ARL1', 'UBR2', 'LRPPRC', 'IGF2BP2', 'RFC2', 'SSR4', 'SMC4', 'XPO5', 'ATP1A1', 'RPL38', 'NDUFS1', 'NEDD4L', 'CLTA', 'RPN2', 'DNAJA3', 'RBM10', 'EIF4B', 'PRPF6', 'MMS19'], 383: ['PSAT1', 'EXOC4', 'UBQLN1', 'LSM7', 'ZNF622', 'PI4KA', 'CTR9', 'PSMD7', 'CCNC', 'CHEK2', 'ARD1A', 'PSMD11', 'RAB6C', 'PIK3R1', 'RAB6B', 'SMARCC2'], 384: ['SMARCD3', 'PRKAA2', 'SMARCD1', 'PIK3R1', 'CPSF3', 'UPF1', 'POLR2H', 'POLR2L', 'SMARCA4'], 385: ['TBP', 'PSMB4', 'PSMB1'], 387: ['RAD51', 'TP53'], 388: ['PTK2B'], 389: ['SMAD1', 'TUBB2A', 'PCAF', 'P4HB']}\n"
     ]
    }
   ],
   "source": [
    "half_query_filepath = directory + \"half_clusters.txt\"\n",
    "print_querylist_of_clusters_to_file(clusters, clusters.get_all_cluster_labels(), half_query_filepath, half_qualifying_proteins)\n",
    "half_fe = get_initialized_fe(background_proteins_filepath, term_mapping_filepath, termlist = background_go_terms)\n",
    "half_fe.importFiles({'query': half_query_filepath })\n",
    "half_fe.run(cluster=False)\n",
    "\n",
    "print(f\"number of functionally enriched clusters after addition of 1/2 proteins: {half_fe.enrichment['Module'].nunique()}\")\n",
    "\n",
    "\n",
    "quarter_query_filepath = directory + \"quarter_clusters.txt\"\n",
    "print_querylist_of_clusters_to_file(clusters, clusters.get_all_cluster_labels(), quarter_query_filepath, quarter_qualifying_proteins)\n",
    "quarter_fe = get_initialized_fe(background_proteins_filepath, term_mapping_filepath, termlist = background_go_terms)\n",
    "quarter_fe.importFiles({'query': quarter_query_filepath })\n",
    "quarter_fe.run(cluster=False)\n",
    "\n",
    "print(f\"number of functionally enriched clusters after addition of 1/4 proteins: {quarter_fe.enrichment['Module'].nunique()}\")\n",
    "\n",
    "\n",
    "tenth_query_filepath = directory + \"tenth_clusters.txt\"\n",
    "print_querylist_of_clusters_to_file(clusters, clusters.get_all_cluster_labels(), tenth_query_filepath, tenth_qualifying_proteins)\n",
    "tenth_fe = get_initialized_fe(background_proteins_filepath, term_mapping_filepath, termlist = background_go_terms)\n",
    "tenth_fe.importFiles({'query': tenth_query_filepath })\n",
    "tenth_fe.run(cluster=False)\n",
    "\n",
    "print(f\"number of functionally enriched clusters after addition of 1/10 proteins: {tenth_fe.enrichment['Module'].nunique()}\")\n",
    "\n",
    "\n",
    "print(half_qualifying_proteins)\n",
    "print(quarter_qualifying_proteins)  \n",
    "print(tenth_qualifying_proteins)\n"
   ]
  },
  {
   "cell_type": "code",
   "execution_count": 25,
   "metadata": {},
   "outputs": [
    {
     "name": "stdout",
     "output_type": "stream",
     "text": [
      "number of functionally enriched clusters after addition of 3 1/10 proteins: 369\n",
      "number of functionally enriched clusters after addition of 3 1/4 proteins: 345\n"
     ]
    }
   ],
   "source": [
    "\n",
    "def top_n_proteins(\n",
    "        qualifying_proteins:dict,\n",
    "        n:int # max # of proteins to return\n",
    "):\n",
    "    n_proteins = dict()\n",
    "    for key in qualifying_proteins:\n",
    "        n_proteins[key] = qualifying_proteins[key][0:n]\n",
    "    \n",
    "    return n_proteins\n",
    "\n",
    "\n",
    "three_tenth_qualifying_proteins = top_n_proteins(tenth_qualifying_proteins, n=3)\n",
    "three_tenth_query_filepath = directory + \"three_tenth_clusters.txt\"\n",
    "print_querylist_of_clusters_to_file(clusters, clusters.get_all_cluster_labels(), three_tenth_query_filepath, three_tenth_qualifying_proteins)\n",
    "half_tenth_fe = get_initialized_fe(background_proteins_filepath, term_mapping_filepath, termlist = background_go_terms) \n",
    "half_tenth_fe.importFiles({'query': three_tenth_query_filepath })\n",
    "half_tenth_fe.run(cluster=False)\n",
    "print(f\"number of functionally enriched clusters after addition of 3 1/10 proteins: {half_tenth_fe.enrichment['Module'].nunique()}\")\n",
    "\n",
    "three_quarter_qualifying_proteins = top_n_proteins(half_qualifying_proteins, n=3)\n",
    "three_quarter_query_filepath = directory + \"three_quarter_clusters.txt\"\n",
    "print_querylist_of_clusters_to_file(clusters, clusters.get_all_cluster_labels(), three_quarter_query_filepath, three_quarter_qualifying_proteins)\n",
    "three_quarter_fe = get_initialized_fe(background_proteins_filepath, term_mapping_filepath, termlist = background_go_terms)\n",
    "three_quarter_fe.importFiles({'query': three_quarter_query_filepath })\n",
    "three_quarter_fe.run(cluster=False)\n",
    "print(f\"number of functionally enriched clusters after addition of 3 1/4 proteins: {three_quarter_fe.enrichment['Module'].nunique()}\")\n",
    "\n",
    "\n",
    "# three_half_qualifying_proteins = top_n_proteins(half_qualifying_proteins, n=3)\n",
    "# three_half_query_filepath = directory + \"three_half_clusters.txt\"\n",
    "# print_querylist_of_clusters_to_file(clusters, clusters.get_all_cluster_labels(), three_half_query_filepath, three_half_qualifying_proteins)\n",
    "# half_three_fe = get_initialized_fe(background_proteins_filepath, term_mapping_filepath, termlist = background_go_terms) \n",
    "# half_three_fe.importFiles({'query': three_half_query_filepath })\n",
    "# half_three_fe.run(cluster=False)\n",
    "# print(f\"number of functionally enriched clusters after addition of 3 1/2 proteins: {half_three_fe.enrichment['Module'].nunique()}\")\n"
   ]
  },
  {
   "cell_type": "code",
   "execution_count": null,
   "metadata": {},
   "outputs": [],
   "source": []
  },
  {
   "cell_type": "code",
   "execution_count": null,
   "metadata": {},
   "outputs": [],
   "source": []
  },
  {
   "cell_type": "code",
   "execution_count": null,
   "metadata": {},
   "outputs": [],
   "source": []
  }
 ],
 "metadata": {
  "kernelspec": {
   "display_name": "recipe",
   "language": "python",
   "name": "python3"
  },
  "language_info": {
   "codemirror_mode": {
    "name": "ipython",
    "version": 3
   },
   "file_extension": ".py",
   "mimetype": "text/x-python",
   "name": "python",
   "nbconvert_exporter": "python",
   "pygments_lexer": "ipython3",
   "version": "3.10.6"
  },
  "orig_nbformat": 4,
  "vscode": {
   "interpreter": {
    "hash": "62f9e904ff1d4fa6e27f2984f15409dfffcff7468a54928ca0992224464fe58b"
   }
  }
 },
 "nbformat": 4,
 "nbformat_minor": 2
}
