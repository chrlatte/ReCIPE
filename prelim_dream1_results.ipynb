{
 "cells": [
  {
   "cell_type": "code",
   "execution_count": 1,
   "metadata": {},
   "outputs": [],
   "source": [
    "# creating results after creating new fxn that utilizes the ratio of the number \n",
    "# of components, instead of the number of proteins in a cluster"
   ]
  },
  {
   "attachments": {},
   "cell_type": "markdown",
   "metadata": {},
   "source": [
    "1. The final submission to the DREAM competition can be found at /r/bcb/dream11/submissions_final/subchallenge1/tusk_sc1_final.zip\n",
    "2. The raw clusters can be found in /r/bcb/dream11/clustering/results. The network files follow the format ${dream#}_cluster_s${param}.txt where \"dream#\" is the dream network number and param is the spectral clustering parameter. So for example, in the results directory, you will find 1_clusters_s1000.txt which is dream 1 clusters with spectral clustering parameter 1000.\n",
    "\n",
    "Two notes from Lenore though: We should only use networks 1 and 4 in this directory because they did a thing with merging clusters on networks 2, 3, and 5. And a final check still needs to be done to make sure these contain what we hope they do. (These files were made in 2016 so they need some dusting off, lol.)"
   ]
  },
  {
   "cell_type": "code",
   "execution_count": 2,
   "metadata": {},
   "outputs": [],
   "source": [
    "# importing libraries\n",
    "\n",
    "# standard libraries\n",
    "import numpy as np\n",
    "import pandas as pd\n",
    "import matplotlib.pyplot as plt"
   ]
  },
  {
   "cell_type": "code",
   "execution_count": 3,
   "metadata": {},
   "outputs": [],
   "source": [
    "# library used for functional enrichment analysis\n",
    "from func_e.FUNC_E import FUNC_E  # a method that can do funtional enrichment analysis!\n",
    "import func_e.vocabs.all as vocabs"
   ]
  },
  {
   "cell_type": "code",
   "execution_count": 4,
   "metadata": {},
   "outputs": [],
   "source": [
    "# following code is necessary as some functions used in the funcE class produce future warnings but i can't fix it as it is not my code\n",
    "import warnings\n",
    "warnings.simplefilter(action='ignore', category=FutureWarning)"
   ]
  },
  {
   "cell_type": "code",
   "execution_count": 5,
   "metadata": {},
   "outputs": [],
   "source": [
    "# importing the custom classes i built\n",
    "from matrix_class import ProteinMatrix # ppi matrix \n",
    "from cluster_class import AllClusters # dictionary to hold all clusters (in form number of cluster : list of proteins in that cluster)\n",
    "from degreelist_class import DegreeList # creates a list of all proteins in order of their degree"
   ]
  },
  {
   "cell_type": "code",
   "execution_count": 6,
   "metadata": {},
   "outputs": [],
   "source": [
    "# helper functions for setting up program\n",
    "from recipe_utils import initialize_matrix_clusters_degreelist #NOTE: this now takes in a csv file, instead of a .json\n",
    "from recipe_utils import find_clusters_and_proteins_together\n",
    "\n",
    "# helper functions for functional enrichment\n",
    "from recipe_utils import print_querylist_of_clusters_to_file\n",
    "from recipe_utils import print_protein_background_to_file\n",
    "from recipe_utils import create_term_mapping_list\n",
    "from recipe_utils import get_initialized_fe"
   ]
  },
  {
   "cell_type": "code",
   "execution_count": 7,
   "metadata": {},
   "outputs": [],
   "source": [
    "matrix, clusters, degreelist = initialize_matrix_clusters_degreelist(\"demo_data/dream3.txt\", \"demo_data/dream3_clusters.json\")"
   ]
  },
  {
   "cell_type": "code",
   "execution_count": 8,
   "metadata": {},
   "outputs": [],
   "source": [
    "qualifying_clusters, qualifying_proteins = find_clusters_and_proteins_together(matrix, clusters, degreelist, cluster_ratio=0, cluster_constant=2,use_sqrt=True, protein_ratio=1, protein_constant=0)\n",
    "\n",
    "# cluster const = 2 -> must have at least 2 componenets\n",
    "\n"
   ]
  },
  {
   "cell_type": "code",
   "execution_count": 9,
   "metadata": {},
   "outputs": [
    {
     "name": "stdout",
     "output_type": "stream",
     "text": [
      "{25: ['SRC'], 32: ['CSNK2A1'], 49: ['SRC'], 98: ['CDK1'], 107: ['SRC'], 110: ['PRKACA'], 117: ['CSNK2A1'], 152: ['CSNK2A1'], 158: ['CDK1'], 161: ['CSNK2A1'], 172: ['PRKCA'], 193: ['TP53']}\n"
     ]
    }
   ],
   "source": [
    "print(qualifying_proteins)"
   ]
  },
  {
   "cell_type": "code",
   "execution_count": 11,
   "metadata": {},
   "outputs": [],
   "source": [
    "# use functions to print info to files: (annoying, but need to get info into format used for funcE package)\n",
    "\n",
    "\n",
    "# 1) a background protein list to be used for functional enrichment analysis\n",
    "background_proteins_filepath = \"demo_data/background_proteinlist.txt\"\n",
    "print_protein_background_to_file(matrix, background_proteins_filepath) \n",
    "\n",
    "# 2) file containing protein to go term\n",
    "term_mapping_filepath = \"demo_data/term_mapping.txt\"\n",
    "create_term_mapping_list(\"demo_data/dream3_go_results.tsv\", term_mapping_filepath)\n",
    "\n",
    "# 3) not a file, but need to establish a background of all GO terms! (to be used for functional enrichment analysis)\n",
    "background_go_terms = vocabs.getTerms(['GO'])"
   ]
  },
  {
   "cell_type": "code",
   "execution_count": 12,
   "metadata": {},
   "outputs": [],
   "source": [
    "# continue printing info to files to be used in functional enrichment analysis:\n",
    "\n",
    "# 4) print original clusters to a file\n",
    "og_query_filepath = 'demo_data/original_clusters.txt'\n",
    "print_querylist_of_clusters_to_file(clusters, clusters.get_all_cluster_labels(),og_query_filepath)\n",
    "\n",
    "# 5) print updated clusters to a file (just append the function to include the dictionary of qualifying proteins)\n",
    "updated_query_filepath = 'demo_data/updated_clusters.txt'\n",
    "print_querylist_of_clusters_to_file(clusters, clusters.get_all_cluster_labels(), updated_query_filepath, qualifying_proteins)"
   ]
  },
  {
   "cell_type": "code",
   "execution_count": 15,
   "metadata": {},
   "outputs": [],
   "source": [
    "original_fe = get_initialized_fe(background_proteins_filepath, term_mapping_filepath, termlist = background_go_terms)\n",
    "\n",
    "original_fe.importFiles({'query': og_query_filepath })\n",
    "original_fe.run(cluster=False)"
   ]
  },
  {
   "cell_type": "code",
   "execution_count": 16,
   "metadata": {},
   "outputs": [],
   "source": [
    "# do functional enrichment on updated clusters!!\n",
    "\n",
    "updated_fe_all_proteins = get_initialized_fe(background_proteins_filepath, term_mapping_filepath, termlist = background_go_terms)\n",
    "\n",
    "updated_fe_all_proteins.importFiles({'query': updated_query_filepath })\n",
    "updated_fe_all_proteins.run(cluster=False)"
   ]
  },
  {
   "cell_type": "code",
   "execution_count": 17,
   "metadata": {},
   "outputs": [
    {
     "name": "stdout",
     "output_type": "stream",
     "text": [
      "number of clusters that were updated with proteins: 12\n",
      "\n",
      "number of functionally enriched clusters (modules) out of 12 original clusters: 155\n",
      "number of functionally enriched clusters after addition of all proteins: 155\n",
      "\n",
      "number of significant pvals in original clusters before updating: 405\n",
      "number of significant pvals in clusters with all proteins added: 411\n"
     ]
    }
   ],
   "source": [
    "# print data by the numbers!\n",
    "print(f\"number of clusters that were updated with proteins: {len(qualifying_proteins.keys())}\\n\")\n",
    "\n",
    "# clusters that are functionally enriched\n",
    "print(f\"number of functionally enriched clusters (modules) out of {len(qualifying_proteins.keys())} original clusters: {original_fe.enrichment['Module'].nunique()}\")\n",
    "print(f\"number of functionally enriched clusters after addition of all proteins: {updated_fe_all_proteins.enrichment['Module'].nunique()}\")\n",
    "\n",
    "print(f\"\")\n",
    "\n",
    "\n",
    "# significant P-values!!!\n",
    "print(f\"number of significant pvals in original clusters before updating: {original_fe.enrichment['Fishers_pvalue'].count()}\")\n",
    "print(f\"number of significant pvals in clusters with all proteins added: {updated_fe_all_proteins.enrichment['Fishers_pvalue'].count()}\")"
   ]
  },
  {
   "cell_type": "code",
   "execution_count": null,
   "metadata": {},
   "outputs": [],
   "source": []
  },
  {
   "cell_type": "code",
   "execution_count": null,
   "metadata": {},
   "outputs": [],
   "source": []
  },
  {
   "cell_type": "code",
   "execution_count": null,
   "metadata": {},
   "outputs": [],
   "source": []
  }
 ],
 "metadata": {
  "kernelspec": {
   "display_name": "recipe",
   "language": "python",
   "name": "python3"
  },
  "language_info": {
   "codemirror_mode": {
    "name": "ipython",
    "version": 3
   },
   "file_extension": ".py",
   "mimetype": "text/x-python",
   "name": "python",
   "nbconvert_exporter": "python",
   "pygments_lexer": "ipython3",
   "version": "3.10.6"
  },
  "orig_nbformat": 4,
  "vscode": {
   "interpreter": {
    "hash": "62f9e904ff1d4fa6e27f2984f15409dfffcff7468a54928ca0992224464fe58b"
   }
  }
 },
 "nbformat": 4,
 "nbformat_minor": 2
}
