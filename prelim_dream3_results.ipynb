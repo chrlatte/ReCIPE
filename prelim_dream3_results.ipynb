{
 "cells": [
  {
   "cell_type": "code",
   "execution_count": 1,
   "metadata": {},
   "outputs": [],
   "source": [
    "# creating results after creating new fxn that utilizes the ratio of the number \n",
    "# of components, instead of the number of proteins in a cluster"
   ]
  },
  {
   "cell_type": "code",
   "execution_count": 2,
   "metadata": {},
   "outputs": [],
   "source": [
    "# importing libraries\n",
    "\n",
    "# standard libraries\n",
    "import numpy as np\n",
    "import pandas as pd\n",
    "import matplotlib.pyplot as plt"
   ]
  },
  {
   "cell_type": "code",
   "execution_count": 3,
   "metadata": {},
   "outputs": [],
   "source": [
    "# library used for functional enrichment analysis\n",
    "from func_e.FUNC_E import FUNC_E  # a method that can do funtional enrichment analysis!\n",
    "import func_e.vocabs.all as vocabs"
   ]
  },
  {
   "cell_type": "code",
   "execution_count": 4,
   "metadata": {},
   "outputs": [],
   "source": [
    "# following code is necessary as some functions used in the funcE class produce future warnings but i can't fix it as it is not my code\n",
    "import warnings\n",
    "warnings.simplefilter(action='ignore', category=FutureWarning)"
   ]
  },
  {
   "cell_type": "code",
   "execution_count": 5,
   "metadata": {},
   "outputs": [],
   "source": [
    "# importing the custom classes i built\n",
    "from matrix_class import ProteinMatrix # ppi matrix \n",
    "from cluster_class import AllClusters # dictionary to hold all clusters (in form number of cluster : list of proteins in that cluster)\n",
    "from degreelist_class import DegreeList # creates a list of all proteins in order of their degree"
   ]
  },
  {
   "cell_type": "code",
   "execution_count": 6,
   "metadata": {},
   "outputs": [],
   "source": [
    "# helper functions for setting up program\n",
    "from recipe_utils import initialize_matrix_clusters_degreelist\n",
    "from recipe_utils import find_clusters_and_proteins_together\n",
    "\n",
    "# helper functions for functional enrichment\n",
    "from recipe_utils import print_querylist_of_clusters_to_file\n",
    "from recipe_utils import print_protein_background_to_file\n",
    "from recipe_utils import create_term_mapping_list\n",
    "from recipe_utils import get_initialized_fe"
   ]
  },
  {
   "cell_type": "code",
   "execution_count": 7,
   "metadata": {},
   "outputs": [],
   "source": [
    "matrix, clusters, degreelist = initialize_matrix_clusters_degreelist(\"demo_data/dream3.txt\", \"demo_data/dream3_other.txt\")"
   ]
  },
  {
   "cell_type": "code",
   "execution_count": 8,
   "metadata": {},
   "outputs": [],
   "source": [
    "qualifying_clusters, qualifying_proteins = find_clusters_and_proteins_together(matrix, clusters, degreelist, cluster_ratio=0, cluster_constant=2,use_sqrt=True, protein_ratio=1, protein_constant=0)\n",
    "\n",
    "# cluster const = 2 -> must have at least 2 componenets\n",
    "\n"
   ]
  },
  {
   "cell_type": "code",
   "execution_count": 9,
   "metadata": {},
   "outputs": [
    {
     "name": "stdout",
     "output_type": "stream",
     "text": [
      "{7: ['IFNAR2', 'IFNAR1'], 8: ['MAPK1'], 21: ['GNAQ', 'SRC'], 36: ['PRKACA'], 49: ['IL20RA', 'IL6ST'], 65: ['MAPK9', 'MAPK8', 'MAPK14', 'MAPK3', 'MAPK1'], 114: ['AR'], 115: ['TICAM2', 'MAP3K4', 'CASP1', 'CDK1'], 123: ['RAC1', 'MAPK1', 'PRKCA'], 150: ['PAK1'], 151: ['IL20', 'IL24', 'IL22', 'IL2RG', 'JAK3', 'TYK2', 'STAT5A', 'JAK1', 'JAK2', 'STAT3'], 171: ['EFNA2', 'EFNA1', 'SRC'], 176: ['STK4'], 192: ['IRF9', 'WAS', 'NOTCH1'], 206: ['GNAQ'], 235: ['TYROBP'], 238: ['FASLG'], 243: ['ARNTL', 'RXRB'], 248: ['INSR', 'LCK', 'FYN', 'EGFR', 'MAPK3', 'MAPK1', 'SRC'], 250: ['PPP2CA'], 251: ['SRC'], 253: ['FGFR4', 'FGFR3', 'FGFR2', 'FGFR1'], 257: ['FZD4', 'FZD1', 'ROR2', 'LRP5', 'FZD3', 'LRP6'], 258: ['BMP2'], 269: ['PER2', 'PER1'], 272: ['PKD2'], 273: ['TCEB1', 'TYK2', 'KIT', 'JAK1', 'JAK2', 'EGFR'], 275: ['PRKCA'], 281: ['CAMK2A', 'FYN', 'PRKCA', 'SRC'], 293: ['FAS'], 296: ['GNAI3'], 297: ['LHCGR', 'TSHR'], 310: ['PRKACA', 'PRKCA'], 316: ['RHOA', 'CDC42', 'RAC1', 'SRC'], 319: ['IGF1'], 321: ['ERBB3', 'ERBB4', 'EGFR'], 339: ['SRC'], 342: ['ITGB4'], 365: ['PRKACA', 'PRKCA'], 384: ['PRKCA'], 391: ['PRKACA', 'SRC'], 393: ['BIRC3', 'NFKBIA'], 402: ['CDK5', 'FYN', 'GSK3B'], 403: ['ATG4B', 'NBR1', 'TP53INP1', 'ATG7', 'ULK1', 'SQSTM1'], 410: ['SMAD1', 'PAK1'], 411: ['PIK3R2', 'SYK', 'LCK', 'PIK3R1', 'FYN'], 419: ['CASP5', 'NLRP2', 'NLRC4', 'CARD8', 'NLRP1', 'PYCARD', 'RIPK2', 'CASP1'], 432: ['IRAK4', 'MYD88', 'IRAK1', 'MAP3K7', 'TRAF6'], 433: ['MAPK8', 'MAPK14', 'GSK3B'], 443: ['HIST1H3B', 'TP53'], 446: ['DLG2', 'DLG1', 'DLG4'], 459: ['HIST1H3B'], 460: ['EPHA5', 'EPHA3', 'EPHA4'], 461: ['EIF4G3'], 464: ['PRKACA'], 470: ['STK39', 'NEDD4L', 'SGK1'], 495: ['HES1', 'NCOR1', 'NOTCH1'], 499: ['CDK2'], 500: ['FBXO5', 'CDC20', 'CDK1'], 504: ['HIST1H2AM'], 522: ['IHH', 'DHH', 'SHH', 'GLI3', 'GLI1', 'SMO'], 525: ['AR'], 534: ['CXCR3', 'CCR3', 'GNAI3'], 549: ['TTL', 'NUMA1'], 556: ['CALM2'], 562: ['EHMT2'], 571: ['PRKCD'], 572: ['TLR9'], 573: ['SOCS3', 'TYK2', 'STAT5A', 'JAK1', 'JAK2', 'STAT3'], 575: ['PLK1', 'CDK1'], 598: ['PYCARD'], 606: ['FGF1', 'PTPRB', 'FGF2', 'GRB7', 'GRB10', 'PTPRJ', 'PTPN2', 'GRAP', 'PLCG1', 'CBL', 'PTPN1', 'PTK2', 'PTPN11', 'STAT1', 'SHC1', 'GRB2', 'PIK3R1', 'STAT3', 'MAPK1', 'PRKCA', 'SRC'], 611: ['BTK', 'CASP3'], 616: ['FHL2'], 617: ['ADCY1', 'SMO'], 623: ['FYB'], 624: ['RB1', 'CDKN1A'], 633: ['PPM1J', 'ATN1', 'APLP2', 'MYT1', 'DUSP10', 'HNRNPK', 'DUSP22', 'CDKN1C', 'DUSP16', 'MAPK8IP2', 'MAPK8IP3', 'SFN', 'DUSP1', 'DIABLO', 'JUND', 'STMN1', 'ELK1', 'MCL1', 'MAP2K7', 'RARA', 'CDKN2A', 'ARRB2', 'CDC25C', 'BCL2L11', 'APP', 'YWHAZ', 'ATF2', 'MAP2K6', 'MAP2K4', 'JUN', 'MYC', 'TP53'], 637: ['PSIP1'], 645: ['CCR5'], 649: ['NEU1', 'TMED7', 'TLR8', 'CD14', 'TICAM1', 'MYD88', 'PIK3R1', 'EGFR'], 650: ['WNT7B', 'WNT8A', 'WNT11', 'WNT2', 'WNT4', 'WNT7A', 'WNT5A', 'WNT3A', 'WNT1'], 656: ['VDR'], 661: ['TRAF3', 'TRAF2'], 664: ['CDK2'], 674: ['KCNJ11', 'GNRH1', 'RYR2', 'Q547U9', 'GRIA4', 'CHAT', 'GRIN2B', 'PLCB3', 'CREM', 'STMN1', 'FLNA', 'NCOR2', 'PPP1CB', 'PPP1CC', 'CALM2', 'PPP1CA', 'SMAD2', 'MAP3K7', 'STAT1', 'PPP2CB', 'PPP2CA', 'CTNNB1'], 681: ['PCNA', 'CDK1'], 689: ['POLR2A', 'H2AFX'], 691: ['PRKAA2', 'PRKAA1', 'AKT1', 'PRKCA'], 698: ['MAPKAPK5'], 700: ['CSNK2A1', 'CDK1'], 702: ['NPAS2', 'ARNTL', 'CSNK1E'], 704: ['RPTOR'], 706: ['LGR6', 'LGR5', 'LGR4', 'PMCH'], 717: ['SRC'], 723: ['TLR2', 'TLR4', 'TRAF6'], 728: ['CRTC1', 'CRTC2', 'CDC25C', 'STK11', 'MAPT', 'IRS1'], 737: ['NOTCH1'], 742: ['SLC12A3', 'SLC12A2', 'WNK1'], 743: ['OXSR1', 'STK39'], 745: ['SOCS3', 'CDK2', 'GSK3B'], 746: ['MAPK1'], 750: ['KIT', 'LCK'], 754: ['PPP3CC', 'PPP3CB', 'PPP3CA', 'MAVS', 'CDK1'], 764: ['BTK', 'PTPN6', 'LYN', 'GRB2'], 768: ['GABARAPL1', 'GABARAPL2', 'ATG12', 'MAP1LC3B', 'ATG7', 'TP63', 'ATG5'], 774: ['CRHR2'], 775: ['KAT2B', 'STAT6', 'RIPK2', 'MYD88', 'TRAF6', 'EP300'], 776: ['PCNA'], 782: ['C3'], 786: ['ITCH', 'NOTCH1'], 789: ['IL33'], 794: ['AMBRA1'], 795: ['CDON'], 804: ['TIMP1', 'CCL7', 'GNRHR', 'CCL2', 'CXCL8'], 807: ['MIB1', 'NOTCH4', 'NOTCH3', 'NOTCH2', 'APP', 'NOTCH1', 'MAPK1'], 818: ['PTPN6'], 820: ['BMPR2'], 822: ['GNAQ'], 835: ['PTPN1', 'ABL1'], 839: ['MAPK3', 'MAPK1'], 845: ['ARHGEF6', 'PPM1F', 'MYL9', 'CALD1', 'NF2', 'ARHGEF2', 'MYLK', 'ARHGEF7', 'SYN1', 'CTTN', 'MAP2K3', 'PPM1A', 'NCK1', 'PXN', 'CDC42', 'BAD', 'RAC1', 'RAF1', 'CTNNB1', 'ABL1'], 848: ['CDK1'], 858: ['TP53'], 863: ['BRCA1'], 864: ['ATR', 'TP53'], 869: ['RAB11A'], 883: ['RPA1', 'BRCA2'], 885: ['CASK'], 888: ['RHEB'], 890: ['PRKCA'], 891: ['POLR2A', 'SMAD1', 'SMAD2', 'SMAD3'], 900: ['POLR2A', 'CDK2'], 904: ['MEF2A'], 907: ['PRKACA'], 912: ['EP300'], 915: ['PTCH2', 'HHIP', 'PTCH1'], 924: ['HIST1H3B'], 935: ['CDK2'], 945: ['SRC'], 946: ['MAPK14', 'AKT1'], 973: ['ADRBK1'], 974: ['CDK1'], 977: ['PRKACA'], 978: ['MYBPC3', 'BAD'], 992: ['TP53'], 993: ['AR', 'GSK3B', 'CSNK2A1', 'MAPK1'], 1005: ['GRB2', 'EGFR', 'SRC']}\n"
     ]
    }
   ],
   "source": [
    "print(qualifying_proteins)"
   ]
  },
  {
   "cell_type": "code",
   "execution_count": 10,
   "metadata": {},
   "outputs": [
    {
     "ename": "ConnectionError",
     "evalue": "HTTPConnectionPool(host='purl.obolibrary.org', port=80): Max retries exceeded with url: /obo/go.obo (Caused by NewConnectionError('<urllib3.connection.HTTPConnection object at 0x178120880>: Failed to establish a new connection: [Errno 8] nodename nor servname provided, or not known'))",
     "output_type": "error",
     "traceback": [
      "\u001b[0;31m---------------------------------------------------------------------------\u001b[0m",
      "\u001b[0;31mgaierror\u001b[0m                                  Traceback (most recent call last)",
      "File \u001b[0;32m~/miniconda3/envs/recipe/lib/python3.10/site-packages/urllib3/connection.py:174\u001b[0m, in \u001b[0;36mHTTPConnection._new_conn\u001b[0;34m(self)\u001b[0m\n\u001b[1;32m    173\u001b[0m \u001b[39mtry\u001b[39;00m:\n\u001b[0;32m--> 174\u001b[0m     conn \u001b[39m=\u001b[39m connection\u001b[39m.\u001b[39;49mcreate_connection(\n\u001b[1;32m    175\u001b[0m         (\u001b[39mself\u001b[39;49m\u001b[39m.\u001b[39;49m_dns_host, \u001b[39mself\u001b[39;49m\u001b[39m.\u001b[39;49mport), \u001b[39mself\u001b[39;49m\u001b[39m.\u001b[39;49mtimeout, \u001b[39m*\u001b[39;49m\u001b[39m*\u001b[39;49mextra_kw\n\u001b[1;32m    176\u001b[0m     )\n\u001b[1;32m    178\u001b[0m \u001b[39mexcept\u001b[39;00m SocketTimeout:\n",
      "File \u001b[0;32m~/miniconda3/envs/recipe/lib/python3.10/site-packages/urllib3/util/connection.py:72\u001b[0m, in \u001b[0;36mcreate_connection\u001b[0;34m(address, timeout, source_address, socket_options)\u001b[0m\n\u001b[1;32m     68\u001b[0m     \u001b[39mreturn\u001b[39;00m six\u001b[39m.\u001b[39mraise_from(\n\u001b[1;32m     69\u001b[0m         LocationParseError(\u001b[39mu\u001b[39m\u001b[39m\"\u001b[39m\u001b[39m'\u001b[39m\u001b[39m%s\u001b[39;00m\u001b[39m'\u001b[39m\u001b[39m, label empty or too long\u001b[39m\u001b[39m\"\u001b[39m \u001b[39m%\u001b[39m host), \u001b[39mNone\u001b[39;00m\n\u001b[1;32m     70\u001b[0m     )\n\u001b[0;32m---> 72\u001b[0m \u001b[39mfor\u001b[39;00m res \u001b[39min\u001b[39;00m socket\u001b[39m.\u001b[39;49mgetaddrinfo(host, port, family, socket\u001b[39m.\u001b[39;49mSOCK_STREAM):\n\u001b[1;32m     73\u001b[0m     af, socktype, proto, canonname, sa \u001b[39m=\u001b[39m res\n",
      "File \u001b[0;32m~/miniconda3/envs/recipe/lib/python3.10/socket.py:955\u001b[0m, in \u001b[0;36mgetaddrinfo\u001b[0;34m(host, port, family, type, proto, flags)\u001b[0m\n\u001b[1;32m    954\u001b[0m addrlist \u001b[39m=\u001b[39m []\n\u001b[0;32m--> 955\u001b[0m \u001b[39mfor\u001b[39;00m res \u001b[39min\u001b[39;00m _socket\u001b[39m.\u001b[39;49mgetaddrinfo(host, port, family, \u001b[39mtype\u001b[39;49m, proto, flags):\n\u001b[1;32m    956\u001b[0m     af, socktype, proto, canonname, sa \u001b[39m=\u001b[39m res\n",
      "\u001b[0;31mgaierror\u001b[0m: [Errno 8] nodename nor servname provided, or not known",
      "\nDuring handling of the above exception, another exception occurred:\n",
      "\u001b[0;31mNewConnectionError\u001b[0m                        Traceback (most recent call last)",
      "File \u001b[0;32m~/miniconda3/envs/recipe/lib/python3.10/site-packages/urllib3/connectionpool.py:703\u001b[0m, in \u001b[0;36mHTTPConnectionPool.urlopen\u001b[0;34m(self, method, url, body, headers, retries, redirect, assert_same_host, timeout, pool_timeout, release_conn, chunked, body_pos, **response_kw)\u001b[0m\n\u001b[1;32m    702\u001b[0m \u001b[39m# Make the request on the httplib connection object.\u001b[39;00m\n\u001b[0;32m--> 703\u001b[0m httplib_response \u001b[39m=\u001b[39m \u001b[39mself\u001b[39;49m\u001b[39m.\u001b[39;49m_make_request(\n\u001b[1;32m    704\u001b[0m     conn,\n\u001b[1;32m    705\u001b[0m     method,\n\u001b[1;32m    706\u001b[0m     url,\n\u001b[1;32m    707\u001b[0m     timeout\u001b[39m=\u001b[39;49mtimeout_obj,\n\u001b[1;32m    708\u001b[0m     body\u001b[39m=\u001b[39;49mbody,\n\u001b[1;32m    709\u001b[0m     headers\u001b[39m=\u001b[39;49mheaders,\n\u001b[1;32m    710\u001b[0m     chunked\u001b[39m=\u001b[39;49mchunked,\n\u001b[1;32m    711\u001b[0m )\n\u001b[1;32m    713\u001b[0m \u001b[39m# If we're going to release the connection in ``finally:``, then\u001b[39;00m\n\u001b[1;32m    714\u001b[0m \u001b[39m# the response doesn't need to know about the connection. Otherwise\u001b[39;00m\n\u001b[1;32m    715\u001b[0m \u001b[39m# it will also try to release it and we'll have a double-release\u001b[39;00m\n\u001b[1;32m    716\u001b[0m \u001b[39m# mess.\u001b[39;00m\n",
      "File \u001b[0;32m~/miniconda3/envs/recipe/lib/python3.10/site-packages/urllib3/connectionpool.py:398\u001b[0m, in \u001b[0;36mHTTPConnectionPool._make_request\u001b[0;34m(self, conn, method, url, timeout, chunked, **httplib_request_kw)\u001b[0m\n\u001b[1;32m    397\u001b[0m     \u001b[39melse\u001b[39;00m:\n\u001b[0;32m--> 398\u001b[0m         conn\u001b[39m.\u001b[39;49mrequest(method, url, \u001b[39m*\u001b[39;49m\u001b[39m*\u001b[39;49mhttplib_request_kw)\n\u001b[1;32m    400\u001b[0m \u001b[39m# We are swallowing BrokenPipeError (errno.EPIPE) since the server is\u001b[39;00m\n\u001b[1;32m    401\u001b[0m \u001b[39m# legitimately able to close the connection after sending a valid response.\u001b[39;00m\n\u001b[1;32m    402\u001b[0m \u001b[39m# With this behaviour, the received response is still readable.\u001b[39;00m\n",
      "File \u001b[0;32m~/miniconda3/envs/recipe/lib/python3.10/site-packages/urllib3/connection.py:239\u001b[0m, in \u001b[0;36mHTTPConnection.request\u001b[0;34m(self, method, url, body, headers)\u001b[0m\n\u001b[1;32m    238\u001b[0m     headers[\u001b[39m\"\u001b[39m\u001b[39mUser-Agent\u001b[39m\u001b[39m\"\u001b[39m] \u001b[39m=\u001b[39m _get_default_user_agent()\n\u001b[0;32m--> 239\u001b[0m \u001b[39msuper\u001b[39;49m(HTTPConnection, \u001b[39mself\u001b[39;49m)\u001b[39m.\u001b[39;49mrequest(method, url, body\u001b[39m=\u001b[39;49mbody, headers\u001b[39m=\u001b[39;49mheaders)\n",
      "File \u001b[0;32m~/miniconda3/envs/recipe/lib/python3.10/http/client.py:1282\u001b[0m, in \u001b[0;36mHTTPConnection.request\u001b[0;34m(self, method, url, body, headers, encode_chunked)\u001b[0m\n\u001b[1;32m   1281\u001b[0m \u001b[39m\u001b[39m\u001b[39m\"\"\"Send a complete request to the server.\"\"\"\u001b[39;00m\n\u001b[0;32m-> 1282\u001b[0m \u001b[39mself\u001b[39;49m\u001b[39m.\u001b[39;49m_send_request(method, url, body, headers, encode_chunked)\n",
      "File \u001b[0;32m~/miniconda3/envs/recipe/lib/python3.10/http/client.py:1328\u001b[0m, in \u001b[0;36mHTTPConnection._send_request\u001b[0;34m(self, method, url, body, headers, encode_chunked)\u001b[0m\n\u001b[1;32m   1327\u001b[0m     body \u001b[39m=\u001b[39m _encode(body, \u001b[39m'\u001b[39m\u001b[39mbody\u001b[39m\u001b[39m'\u001b[39m)\n\u001b[0;32m-> 1328\u001b[0m \u001b[39mself\u001b[39;49m\u001b[39m.\u001b[39;49mendheaders(body, encode_chunked\u001b[39m=\u001b[39;49mencode_chunked)\n",
      "File \u001b[0;32m~/miniconda3/envs/recipe/lib/python3.10/http/client.py:1277\u001b[0m, in \u001b[0;36mHTTPConnection.endheaders\u001b[0;34m(self, message_body, encode_chunked)\u001b[0m\n\u001b[1;32m   1276\u001b[0m     \u001b[39mraise\u001b[39;00m CannotSendHeader()\n\u001b[0;32m-> 1277\u001b[0m \u001b[39mself\u001b[39;49m\u001b[39m.\u001b[39;49m_send_output(message_body, encode_chunked\u001b[39m=\u001b[39;49mencode_chunked)\n",
      "File \u001b[0;32m~/miniconda3/envs/recipe/lib/python3.10/http/client.py:1037\u001b[0m, in \u001b[0;36mHTTPConnection._send_output\u001b[0;34m(self, message_body, encode_chunked)\u001b[0m\n\u001b[1;32m   1036\u001b[0m \u001b[39mdel\u001b[39;00m \u001b[39mself\u001b[39m\u001b[39m.\u001b[39m_buffer[:]\n\u001b[0;32m-> 1037\u001b[0m \u001b[39mself\u001b[39;49m\u001b[39m.\u001b[39;49msend(msg)\n\u001b[1;32m   1039\u001b[0m \u001b[39mif\u001b[39;00m message_body \u001b[39mis\u001b[39;00m \u001b[39mnot\u001b[39;00m \u001b[39mNone\u001b[39;00m:\n\u001b[1;32m   1040\u001b[0m \n\u001b[1;32m   1041\u001b[0m     \u001b[39m# create a consistent interface to message_body\u001b[39;00m\n",
      "File \u001b[0;32m~/miniconda3/envs/recipe/lib/python3.10/http/client.py:975\u001b[0m, in \u001b[0;36mHTTPConnection.send\u001b[0;34m(self, data)\u001b[0m\n\u001b[1;32m    974\u001b[0m \u001b[39mif\u001b[39;00m \u001b[39mself\u001b[39m\u001b[39m.\u001b[39mauto_open:\n\u001b[0;32m--> 975\u001b[0m     \u001b[39mself\u001b[39;49m\u001b[39m.\u001b[39;49mconnect()\n\u001b[1;32m    976\u001b[0m \u001b[39melse\u001b[39;00m:\n",
      "File \u001b[0;32m~/miniconda3/envs/recipe/lib/python3.10/site-packages/urllib3/connection.py:205\u001b[0m, in \u001b[0;36mHTTPConnection.connect\u001b[0;34m(self)\u001b[0m\n\u001b[1;32m    204\u001b[0m \u001b[39mdef\u001b[39;00m \u001b[39mconnect\u001b[39m(\u001b[39mself\u001b[39m):\n\u001b[0;32m--> 205\u001b[0m     conn \u001b[39m=\u001b[39m \u001b[39mself\u001b[39;49m\u001b[39m.\u001b[39;49m_new_conn()\n\u001b[1;32m    206\u001b[0m     \u001b[39mself\u001b[39m\u001b[39m.\u001b[39m_prepare_conn(conn)\n",
      "File \u001b[0;32m~/miniconda3/envs/recipe/lib/python3.10/site-packages/urllib3/connection.py:186\u001b[0m, in \u001b[0;36mHTTPConnection._new_conn\u001b[0;34m(self)\u001b[0m\n\u001b[1;32m    185\u001b[0m \u001b[39mexcept\u001b[39;00m SocketError \u001b[39mas\u001b[39;00m e:\n\u001b[0;32m--> 186\u001b[0m     \u001b[39mraise\u001b[39;00m NewConnectionError(\n\u001b[1;32m    187\u001b[0m         \u001b[39mself\u001b[39m, \u001b[39m\"\u001b[39m\u001b[39mFailed to establish a new connection: \u001b[39m\u001b[39m%s\u001b[39;00m\u001b[39m\"\u001b[39m \u001b[39m%\u001b[39m e\n\u001b[1;32m    188\u001b[0m     )\n\u001b[1;32m    190\u001b[0m \u001b[39mreturn\u001b[39;00m conn\n",
      "\u001b[0;31mNewConnectionError\u001b[0m: <urllib3.connection.HTTPConnection object at 0x178120880>: Failed to establish a new connection: [Errno 8] nodename nor servname provided, or not known",
      "\nDuring handling of the above exception, another exception occurred:\n",
      "\u001b[0;31mMaxRetryError\u001b[0m                             Traceback (most recent call last)",
      "File \u001b[0;32m~/miniconda3/envs/recipe/lib/python3.10/site-packages/requests/adapters.py:489\u001b[0m, in \u001b[0;36mHTTPAdapter.send\u001b[0;34m(self, request, stream, timeout, verify, cert, proxies)\u001b[0m\n\u001b[1;32m    488\u001b[0m \u001b[39mif\u001b[39;00m \u001b[39mnot\u001b[39;00m chunked:\n\u001b[0;32m--> 489\u001b[0m     resp \u001b[39m=\u001b[39m conn\u001b[39m.\u001b[39;49murlopen(\n\u001b[1;32m    490\u001b[0m         method\u001b[39m=\u001b[39;49mrequest\u001b[39m.\u001b[39;49mmethod,\n\u001b[1;32m    491\u001b[0m         url\u001b[39m=\u001b[39;49murl,\n\u001b[1;32m    492\u001b[0m         body\u001b[39m=\u001b[39;49mrequest\u001b[39m.\u001b[39;49mbody,\n\u001b[1;32m    493\u001b[0m         headers\u001b[39m=\u001b[39;49mrequest\u001b[39m.\u001b[39;49mheaders,\n\u001b[1;32m    494\u001b[0m         redirect\u001b[39m=\u001b[39;49m\u001b[39mFalse\u001b[39;49;00m,\n\u001b[1;32m    495\u001b[0m         assert_same_host\u001b[39m=\u001b[39;49m\u001b[39mFalse\u001b[39;49;00m,\n\u001b[1;32m    496\u001b[0m         preload_content\u001b[39m=\u001b[39;49m\u001b[39mFalse\u001b[39;49;00m,\n\u001b[1;32m    497\u001b[0m         decode_content\u001b[39m=\u001b[39;49m\u001b[39mFalse\u001b[39;49;00m,\n\u001b[1;32m    498\u001b[0m         retries\u001b[39m=\u001b[39;49m\u001b[39mself\u001b[39;49m\u001b[39m.\u001b[39;49mmax_retries,\n\u001b[1;32m    499\u001b[0m         timeout\u001b[39m=\u001b[39;49mtimeout,\n\u001b[1;32m    500\u001b[0m     )\n\u001b[1;32m    502\u001b[0m \u001b[39m# Send the request.\u001b[39;00m\n\u001b[1;32m    503\u001b[0m \u001b[39melse\u001b[39;00m:\n",
      "File \u001b[0;32m~/miniconda3/envs/recipe/lib/python3.10/site-packages/urllib3/connectionpool.py:787\u001b[0m, in \u001b[0;36mHTTPConnectionPool.urlopen\u001b[0;34m(self, method, url, body, headers, retries, redirect, assert_same_host, timeout, pool_timeout, release_conn, chunked, body_pos, **response_kw)\u001b[0m\n\u001b[1;32m    785\u001b[0m     e \u001b[39m=\u001b[39m ProtocolError(\u001b[39m\"\u001b[39m\u001b[39mConnection aborted.\u001b[39m\u001b[39m\"\u001b[39m, e)\n\u001b[0;32m--> 787\u001b[0m retries \u001b[39m=\u001b[39m retries\u001b[39m.\u001b[39;49mincrement(\n\u001b[1;32m    788\u001b[0m     method, url, error\u001b[39m=\u001b[39;49me, _pool\u001b[39m=\u001b[39;49m\u001b[39mself\u001b[39;49m, _stacktrace\u001b[39m=\u001b[39;49msys\u001b[39m.\u001b[39;49mexc_info()[\u001b[39m2\u001b[39;49m]\n\u001b[1;32m    789\u001b[0m )\n\u001b[1;32m    790\u001b[0m retries\u001b[39m.\u001b[39msleep()\n",
      "File \u001b[0;32m~/miniconda3/envs/recipe/lib/python3.10/site-packages/urllib3/util/retry.py:592\u001b[0m, in \u001b[0;36mRetry.increment\u001b[0;34m(self, method, url, response, error, _pool, _stacktrace)\u001b[0m\n\u001b[1;32m    591\u001b[0m \u001b[39mif\u001b[39;00m new_retry\u001b[39m.\u001b[39mis_exhausted():\n\u001b[0;32m--> 592\u001b[0m     \u001b[39mraise\u001b[39;00m MaxRetryError(_pool, url, error \u001b[39mor\u001b[39;00m ResponseError(cause))\n\u001b[1;32m    594\u001b[0m log\u001b[39m.\u001b[39mdebug(\u001b[39m\"\u001b[39m\u001b[39mIncremented Retry for (url=\u001b[39m\u001b[39m'\u001b[39m\u001b[39m%s\u001b[39;00m\u001b[39m'\u001b[39m\u001b[39m): \u001b[39m\u001b[39m%r\u001b[39;00m\u001b[39m\"\u001b[39m, url, new_retry)\n",
      "\u001b[0;31mMaxRetryError\u001b[0m: HTTPConnectionPool(host='purl.obolibrary.org', port=80): Max retries exceeded with url: /obo/go.obo (Caused by NewConnectionError('<urllib3.connection.HTTPConnection object at 0x178120880>: Failed to establish a new connection: [Errno 8] nodename nor servname provided, or not known'))",
      "\nDuring handling of the above exception, another exception occurred:\n",
      "\u001b[0;31mConnectionError\u001b[0m                           Traceback (most recent call last)",
      "Cell \u001b[0;32mIn[10], line 13\u001b[0m\n\u001b[1;32m     10\u001b[0m create_term_mapping_list(\u001b[39m\"\u001b[39m\u001b[39mdemo_data/dream3_go_results.tsv\u001b[39m\u001b[39m\"\u001b[39m, term_mapping_filepath)\n\u001b[1;32m     12\u001b[0m \u001b[39m# 3) not a file, but need to establish a background of all GO terms! (to be used for functional enrichment analysis)\u001b[39;00m\n\u001b[0;32m---> 13\u001b[0m background_go_terms \u001b[39m=\u001b[39m vocabs\u001b[39m.\u001b[39;49mgetTerms([\u001b[39m'\u001b[39;49m\u001b[39mGO\u001b[39;49m\u001b[39m'\u001b[39;49m])\n",
      "File \u001b[0;32m~/miniconda3/envs/recipe/lib/python3.10/site-packages/func_e/vocabs/all.py:11\u001b[0m, in \u001b[0;36mgetTerms\u001b[0;34m(vocabs)\u001b[0m\n\u001b[1;32m      9\u001b[0m terms \u001b[39m=\u001b[39m pd\u001b[39m.\u001b[39mDataFrame(columns\u001b[39m=\u001b[39m[\u001b[39m'\u001b[39m\u001b[39mVocabulary\u001b[39m\u001b[39m'\u001b[39m, \u001b[39m'\u001b[39m\u001b[39mTerm\u001b[39m\u001b[39m'\u001b[39m, \u001b[39m'\u001b[39m\u001b[39mName\u001b[39m\u001b[39m'\u001b[39m])\n\u001b[1;32m     10\u001b[0m \u001b[39mif\u001b[39;00m \u001b[39m'\u001b[39m\u001b[39mGO\u001b[39m\u001b[39m'\u001b[39m \u001b[39min\u001b[39;00m vocabs:\n\u001b[0;32m---> 11\u001b[0m     terms \u001b[39m=\u001b[39m pd\u001b[39m.\u001b[39mconcat([terms, GO_getTerms()])\n\u001b[1;32m     12\u001b[0m \u001b[39mif\u001b[39;00m \u001b[39m'\u001b[39m\u001b[39mIPR\u001b[39m\u001b[39m'\u001b[39m \u001b[39min\u001b[39;00m vocabs:\n\u001b[1;32m     13\u001b[0m     terms \u001b[39m=\u001b[39m pd\u001b[39m.\u001b[39mconcat([terms, IPR_getTerms()])\n",
      "File \u001b[0;32m~/miniconda3/envs/recipe/lib/python3.10/site-packages/func_e/vocabs/GO.py:7\u001b[0m, in \u001b[0;36mgetTerms\u001b[0;34m()\u001b[0m\n\u001b[1;32m      5\u001b[0m \u001b[39mdef\u001b[39;00m \u001b[39mgetTerms\u001b[39m():\n\u001b[1;32m      6\u001b[0m     url \u001b[39m=\u001b[39m \u001b[39m'\u001b[39m\u001b[39mhttp://purl.obolibrary.org/obo/go.obo\u001b[39m\u001b[39m'\u001b[39m\n\u001b[0;32m----> 7\u001b[0m     r \u001b[39m=\u001b[39m requests\u001b[39m.\u001b[39;49mget(url, allow_redirects\u001b[39m=\u001b[39;49m\u001b[39mTrue\u001b[39;49;00m)\n\u001b[1;32m      9\u001b[0m     terms_list \u001b[39m=\u001b[39m []\n\u001b[1;32m     10\u001b[0m     cols \u001b[39m=\u001b[39m {}\n",
      "File \u001b[0;32m~/miniconda3/envs/recipe/lib/python3.10/site-packages/requests/api.py:73\u001b[0m, in \u001b[0;36mget\u001b[0;34m(url, params, **kwargs)\u001b[0m\n\u001b[1;32m     62\u001b[0m \u001b[39mdef\u001b[39;00m \u001b[39mget\u001b[39m(url, params\u001b[39m=\u001b[39m\u001b[39mNone\u001b[39;00m, \u001b[39m*\u001b[39m\u001b[39m*\u001b[39mkwargs):\n\u001b[1;32m     63\u001b[0m \u001b[39m    \u001b[39m\u001b[39mr\u001b[39m\u001b[39m\"\"\"Sends a GET request.\u001b[39;00m\n\u001b[1;32m     64\u001b[0m \n\u001b[1;32m     65\u001b[0m \u001b[39m    :param url: URL for the new :class:`Request` object.\u001b[39;00m\n\u001b[0;32m   (...)\u001b[0m\n\u001b[1;32m     70\u001b[0m \u001b[39m    :rtype: requests.Response\u001b[39;00m\n\u001b[1;32m     71\u001b[0m \u001b[39m    \"\"\"\u001b[39;00m\n\u001b[0;32m---> 73\u001b[0m     \u001b[39mreturn\u001b[39;00m request(\u001b[39m\"\u001b[39;49m\u001b[39mget\u001b[39;49m\u001b[39m\"\u001b[39;49m, url, params\u001b[39m=\u001b[39;49mparams, \u001b[39m*\u001b[39;49m\u001b[39m*\u001b[39;49mkwargs)\n",
      "File \u001b[0;32m~/miniconda3/envs/recipe/lib/python3.10/site-packages/requests/api.py:59\u001b[0m, in \u001b[0;36mrequest\u001b[0;34m(method, url, **kwargs)\u001b[0m\n\u001b[1;32m     55\u001b[0m \u001b[39m# By using the 'with' statement we are sure the session is closed, thus we\u001b[39;00m\n\u001b[1;32m     56\u001b[0m \u001b[39m# avoid leaving sockets open which can trigger a ResourceWarning in some\u001b[39;00m\n\u001b[1;32m     57\u001b[0m \u001b[39m# cases, and look like a memory leak in others.\u001b[39;00m\n\u001b[1;32m     58\u001b[0m \u001b[39mwith\u001b[39;00m sessions\u001b[39m.\u001b[39mSession() \u001b[39mas\u001b[39;00m session:\n\u001b[0;32m---> 59\u001b[0m     \u001b[39mreturn\u001b[39;00m session\u001b[39m.\u001b[39;49mrequest(method\u001b[39m=\u001b[39;49mmethod, url\u001b[39m=\u001b[39;49murl, \u001b[39m*\u001b[39;49m\u001b[39m*\u001b[39;49mkwargs)\n",
      "File \u001b[0;32m~/miniconda3/envs/recipe/lib/python3.10/site-packages/requests/sessions.py:587\u001b[0m, in \u001b[0;36mSession.request\u001b[0;34m(self, method, url, params, data, headers, cookies, files, auth, timeout, allow_redirects, proxies, hooks, stream, verify, cert, json)\u001b[0m\n\u001b[1;32m    582\u001b[0m send_kwargs \u001b[39m=\u001b[39m {\n\u001b[1;32m    583\u001b[0m     \u001b[39m\"\u001b[39m\u001b[39mtimeout\u001b[39m\u001b[39m\"\u001b[39m: timeout,\n\u001b[1;32m    584\u001b[0m     \u001b[39m\"\u001b[39m\u001b[39mallow_redirects\u001b[39m\u001b[39m\"\u001b[39m: allow_redirects,\n\u001b[1;32m    585\u001b[0m }\n\u001b[1;32m    586\u001b[0m send_kwargs\u001b[39m.\u001b[39mupdate(settings)\n\u001b[0;32m--> 587\u001b[0m resp \u001b[39m=\u001b[39m \u001b[39mself\u001b[39;49m\u001b[39m.\u001b[39;49msend(prep, \u001b[39m*\u001b[39;49m\u001b[39m*\u001b[39;49msend_kwargs)\n\u001b[1;32m    589\u001b[0m \u001b[39mreturn\u001b[39;00m resp\n",
      "File \u001b[0;32m~/miniconda3/envs/recipe/lib/python3.10/site-packages/requests/sessions.py:701\u001b[0m, in \u001b[0;36mSession.send\u001b[0;34m(self, request, **kwargs)\u001b[0m\n\u001b[1;32m    698\u001b[0m start \u001b[39m=\u001b[39m preferred_clock()\n\u001b[1;32m    700\u001b[0m \u001b[39m# Send the request\u001b[39;00m\n\u001b[0;32m--> 701\u001b[0m r \u001b[39m=\u001b[39m adapter\u001b[39m.\u001b[39;49msend(request, \u001b[39m*\u001b[39;49m\u001b[39m*\u001b[39;49mkwargs)\n\u001b[1;32m    703\u001b[0m \u001b[39m# Total elapsed time of the request (approximately)\u001b[39;00m\n\u001b[1;32m    704\u001b[0m elapsed \u001b[39m=\u001b[39m preferred_clock() \u001b[39m-\u001b[39m start\n",
      "File \u001b[0;32m~/miniconda3/envs/recipe/lib/python3.10/site-packages/requests/adapters.py:565\u001b[0m, in \u001b[0;36mHTTPAdapter.send\u001b[0;34m(self, request, stream, timeout, verify, cert, proxies)\u001b[0m\n\u001b[1;32m    561\u001b[0m     \u001b[39mif\u001b[39;00m \u001b[39misinstance\u001b[39m(e\u001b[39m.\u001b[39mreason, _SSLError):\n\u001b[1;32m    562\u001b[0m         \u001b[39m# This branch is for urllib3 v1.22 and later.\u001b[39;00m\n\u001b[1;32m    563\u001b[0m         \u001b[39mraise\u001b[39;00m SSLError(e, request\u001b[39m=\u001b[39mrequest)\n\u001b[0;32m--> 565\u001b[0m     \u001b[39mraise\u001b[39;00m \u001b[39mConnectionError\u001b[39;00m(e, request\u001b[39m=\u001b[39mrequest)\n\u001b[1;32m    567\u001b[0m \u001b[39mexcept\u001b[39;00m ClosedPoolError \u001b[39mas\u001b[39;00m e:\n\u001b[1;32m    568\u001b[0m     \u001b[39mraise\u001b[39;00m \u001b[39mConnectionError\u001b[39;00m(e, request\u001b[39m=\u001b[39mrequest)\n",
      "\u001b[0;31mConnectionError\u001b[0m: HTTPConnectionPool(host='purl.obolibrary.org', port=80): Max retries exceeded with url: /obo/go.obo (Caused by NewConnectionError('<urllib3.connection.HTTPConnection object at 0x178120880>: Failed to establish a new connection: [Errno 8] nodename nor servname provided, or not known'))"
     ]
    }
   ],
   "source": [
    "# use functions to print info to files: (annoying, but need to get info into format used for funcE package)\n",
    "\n",
    "\n",
    "# 1) a background protein list to be used for functional enrichment analysis\n",
    "background_proteins_filepath = \"demo_data/background_proteinlist.txt\"\n",
    "print_protein_background_to_file(matrix, background_proteins_filepath) \n",
    "\n",
    "# 2) file containing protein to go term\n",
    "term_mapping_filepath = \"demo_data/term_mapping.txt\"\n",
    "create_term_mapping_list(\"demo_data/dream3_go_results.tsv\", term_mapping_filepath)\n",
    "\n",
    "# 3) not a file, but need to establish a background of all GO terms! (to be used for functional enrichment analysis)\n",
    "background_go_terms = vocabs.getTerms(['GO'])"
   ]
  },
  {
   "cell_type": "code",
   "execution_count": null,
   "metadata": {},
   "outputs": [],
   "source": [
    "# continue printing info to files to be used in functional enrichment analysis:\n",
    "\n",
    "# 4) print original clusters to a file\n",
    "og_query_filepath = 'demo_data/original_clusters.txt'\n",
    "print_querylist_of_clusters_to_file(clusters, clusters.get_all_cluster_labels(),og_query_filepath)\n",
    "\n",
    "# 5) print updated clusters to a file (just append the function to include the dictionary of qualifying proteins)\n",
    "updated_query_filepath = 'demo_data/updated_clusters.txt'\n",
    "print_querylist_of_clusters_to_file(clusters, clusters.get_all_cluster_labels(), updated_query_filepath, qualifying_proteins)"
   ]
  },
  {
   "cell_type": "code",
   "execution_count": null,
   "metadata": {},
   "outputs": [],
   "source": [
    "original_fe = get_initialized_fe(background_proteins_filepath, term_mapping_filepath, termlist = background_go_terms)\n",
    "\n",
    "original_fe.importFiles({'query': og_query_filepath })\n",
    "original_fe.run(cluster=False)"
   ]
  },
  {
   "cell_type": "code",
   "execution_count": null,
   "metadata": {},
   "outputs": [],
   "source": [
    "# do functional enrichment on updated clusters!!\n",
    "\n",
    "updated_fe_all_proteins = get_initialized_fe(background_proteins_filepath, term_mapping_filepath, termlist = background_go_terms)\n",
    "\n",
    "updated_fe_all_proteins.importFiles({'query': updated_query_filepath })\n",
    "updated_fe_all_proteins.run(cluster=False)"
   ]
  },
  {
   "cell_type": "code",
   "execution_count": null,
   "metadata": {},
   "outputs": [
    {
     "name": "stdout",
     "output_type": "stream",
     "text": [
      "number of clusters that were updated with proteins: 12\n",
      "\n",
      "number of functionally enriched clusters (modules) out of 12 original clusters: 155\n",
      "number of functionally enriched clusters after addition of all proteins: 155\n",
      "\n",
      "number of significant pvals in original clusters before updating: 405\n",
      "number of significant pvals in clusters with all proteins added: 411\n"
     ]
    }
   ],
   "source": [
    "# print data by the numbers!\n",
    "print(f\"number of clusters that were updated with proteins: {len(qualifying_proteins.keys())}\\n\")\n",
    "\n",
    "# clusters that are functionally enriched\n",
    "print(f\"number of functionally enriched clusters (modules) out of {len(qualifying_proteins.keys())} original clusters: {original_fe.enrichment['Module'].nunique()}\")\n",
    "print(f\"number of functionally enriched clusters after addition of all proteins: {updated_fe_all_proteins.enrichment['Module'].nunique()}\")\n",
    "\n",
    "print(f\"\")\n",
    "\n",
    "\n",
    "# significant P-values!!!\n",
    "print(f\"number of significant pvals in original clusters before updating: {original_fe.enrichment['Fishers_pvalue'].count()}\")\n",
    "print(f\"number of significant pvals in clusters with all proteins added: {updated_fe_all_proteins.enrichment['Fishers_pvalue'].count()}\")"
   ]
  },
  {
   "cell_type": "code",
   "execution_count": null,
   "metadata": {},
   "outputs": [],
   "source": []
  },
  {
   "cell_type": "code",
   "execution_count": null,
   "metadata": {},
   "outputs": [],
   "source": []
  },
  {
   "cell_type": "code",
   "execution_count": null,
   "metadata": {},
   "outputs": [],
   "source": []
  }
 ],
 "metadata": {
  "kernelspec": {
   "display_name": "recipe",
   "language": "python",
   "name": "python3"
  },
  "language_info": {
   "codemirror_mode": {
    "name": "ipython",
    "version": 3
   },
   "file_extension": ".py",
   "mimetype": "text/x-python",
   "name": "python",
   "nbconvert_exporter": "python",
   "pygments_lexer": "ipython3",
   "version": "3.10.6"
  },
  "orig_nbformat": 4,
  "vscode": {
   "interpreter": {
    "hash": "62f9e904ff1d4fa6e27f2984f15409dfffcff7468a54928ca0992224464fe58b"
   }
  }
 },
 "nbformat": 4,
 "nbformat_minor": 2
}
